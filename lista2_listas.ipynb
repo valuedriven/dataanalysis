{
  "nbformat": 4,
  "nbformat_minor": 0,
  "metadata": {
    "colab": {
      "provenance": [],
      "authorship_tag": "ABX9TyOqDnIaFAA+s2AXutTGOYmJ",
      "include_colab_link": true
    },
    "kernelspec": {
      "name": "python3",
      "display_name": "Python 3"
    },
    "language_info": {
      "name": "python"
    }
  },
  "cells": [
    {
      "cell_type": "markdown",
      "metadata": {
        "id": "view-in-github",
        "colab_type": "text"
      },
      "source": [
        "<a href=\"https://colab.research.google.com/github/valuedriven/dataanalysis/blob/master/lista2_listas.ipynb\" target=\"_parent\"><img src=\"https://colab.research.google.com/assets/colab-badge.svg\" alt=\"Open In Colab\"/></a>"
      ]
    },
    {
      "cell_type": "markdown",
      "source": [
        "# Lista de exercícios sobre listas"
      ],
      "metadata": {
        "id": "G2zpfYRbKCG5"
      }
    },
    {
      "cell_type": "markdown",
      "source": [
        "1 - Quais destas entradas são válidas ou não em Python? Se estiverem erradas, corrija:  \n",
        "a. [1,2,3,[]]  \n",
        "b. [1,[2,3],4]  \n",
        "c. [[1,2,3],[]]  \n",
        "d. []+[[1,2,3],[4,5,6]]  \n",
        "e. []+[]  \n",
        "f. [4]+[3]  \n",
        "g. 4+[3]  \n",
        "h. [4]+[]  "
      ],
      "metadata": {
        "id": "Ul0GGkokKG3b"
      }
    },
    {
      "cell_type": "code",
      "execution_count": null,
      "metadata": {
        "id": "wdvzPDSUJ1sj"
      },
      "outputs": [],
      "source": [
        "# O item g) 4+[3] está incorreto, visto que o operador + não suporta operandos int e list\n",
        "#Mensagem de erro: TypeError: unsupported operand type(s) for +: 'int' and 'list'\n",
        "# Correção: somar operandos do mesmo tipo:\n",
        "print(4+3)\n",
        "print([4]+[3])"
      ]
    },
    {
      "cell_type": "markdown",
      "source": [
        "2 – Construa uma função que receba uma lista de inteiros e retorne a média dos elementos da lista."
      ],
      "metadata": {
        "id": "FP3DaKrfODyj"
      }
    },
    {
      "cell_type": "code",
      "source": [
        "def media(lista):  \n",
        "  soma = 0\n",
        "  media = 0\n",
        "  tamanho_lista = len(lista)\n",
        "  for indice in range(tamanho_lista):\n",
        "    soma += lista[indice]\n",
        "  if soma != 0 and tamanho_lista != 0:\n",
        "    media = soma/tamanho_lista\n",
        "  return media\n",
        "\n",
        "lista = [4, 3, 2]\n",
        "media = media(lista)\n",
        "print(\"Média {}\".format(media)) "
      ],
      "metadata": {
        "id": "SOhaPFrmOGyJ"
      },
      "execution_count": null,
      "outputs": []
    },
    {
      "cell_type": "markdown",
      "source": [
        "3 – Defina uma função zip que pega duas listas e concatena, de forma que o  primeiro par da lista\n",
        "resultante (uma tupla) seja composta pelos dois primeiros elementos de cada lista de entrada, e\n",
        "assim por diante. Ex: zip([1,2,3],\"abc\") = [(1, 'a'), (2, 'b'), (3, 'c')]. Se uma das listas for maior que a\n",
        "outra, pode parar assim que a primeira acabar. Ex: zip([1,2],\"abc\") = [(1, 'a'), (2, 'b')]."
      ],
      "metadata": {
        "id": "ppBTR4AcOH4y"
      }
    },
    {
      "cell_type": "code",
      "source": [
        "# Interpretei que devo parar de construir zip limitado a menor lista e não apenas a primeira, como está no enunciado.\n",
        "def zip(lista1, lista2):  \n",
        "  tamanho_menor_lista = len(lista1)\n",
        "  tamanho_lista2 = len(lista2)\n",
        "  if tamanho_menor_lista > tamanho_lista2:\n",
        "   tamanho_menor_lista = tamanho_lista2\n",
        "  zip = []\n",
        "  for i in range(tamanho_menor_lista):\n",
        "    item_lista = (lista1[i], lista2[i])\n",
        "    zip.append(item_lista)\n",
        "  return zip\n",
        "\n",
        "lista1 = [1, 2, 3, 4, 5]\n",
        "lista2 = \"abcd\"\n",
        "zip = zip(lista1, lista2)\n",
        "print(\"Zip {}\".format(zip))"
      ],
      "metadata": {
        "id": "X-Oa2YfDOLOD",
        "colab": {
          "base_uri": "https://localhost:8080/"
        },
        "outputId": "ff2338f7-956e-4a33-d564-5ff8c590ad2e"
      },
      "execution_count": 22,
      "outputs": [
        {
          "output_type": "stream",
          "name": "stdout",
          "text": [
            "Zip [(1, 'a'), (2, 'b'), (3, 'c'), (4, 'd')]\n"
          ]
        }
      ]
    },
    {
      "cell_type": "markdown",
      "source": [
        "4 – Defina merge que pega duas listas ordenadas e as intercala devolvendo uma outra lista ordenada. Ex: merge([1,3,8],[2,4,5,7]) = [1,2,3,4,5,7,8]"
      ],
      "metadata": {
        "id": "2SHl60FxOLWo"
      }
    },
    {
      "cell_type": "code",
      "source": [
        "def merge(lista1, lista2):  \n",
        "  tamanho_lista_1 = len(lista1)\n",
        "  tamanho_lista_2 = len(lista2)\n",
        "  if tamanho_lista_1 > tamanho_lista_2:\n",
        "    tamanho_lista_maior = tamanho_lista_1\n",
        "    tamanho_lista_menor = tamanho_lista_2\n",
        "    lista_maior = lista1\n",
        "    lista_menor = lista2\n",
        "  else:\n",
        "    tamanho_lista_maior = tamanho_lista_2  \n",
        "    tamanho_lista_menor = tamanho_lista_1\n",
        "    lista_maior = lista2\n",
        "    lista_menor = lista1\n",
        "  merge = []\n",
        "  for i in range(tamanho_lista_maior):\n",
        "    print(\"Item {} lista menor\".format(lista_menor[i]))\n",
        "    print(\"Item {} lista maior\".format(lista_maior[i]))\n",
        "    if i < tamanho_lista_menor:\n",
        "      if lista_menor[i] < lista_maior[i]:\n",
        "        merge.append(lista_menor[i])\n",
        "        merge.append(lista_maior[i])\n",
        "      else:\n",
        "        merge.append(lista_maior[i])\n",
        "        merge.append(lista_menor[i])\n",
        "    else:\n",
        "      merge.append(lista_maior[i])\n",
        "  return merge\n",
        "\n",
        "lista1 = [1, 2, 3]\n",
        "lista2 = [4, 5, 6]\n",
        "merge = merge(lista1, lista2)\n",
        "print(\"Merge {}\".format(merge))"
      ],
      "metadata": {
        "id": "_euos3TJOTBw",
        "colab": {
          "base_uri": "https://localhost:8080/"
        },
        "outputId": "ba684d68-42ad-4d8d-b046-6da89ebb5bac"
      },
      "execution_count": 24,
      "outputs": [
        {
          "output_type": "stream",
          "name": "stdout",
          "text": [
            "Item 1 lista menor\n",
            "Item 4 lista maior\n",
            "Item 2 lista menor\n",
            "Item 5 lista maior\n",
            "Item 3 lista menor\n",
            "Item 6 lista maior\n",
            "Merge [1, 4, 2, 5, 3, 6]\n"
          ]
        }
      ]
    },
    {
      "cell_type": "markdown",
      "source": [
        "5 – Construa uma função que retorna uma lista dos divisores de um número n."
      ],
      "metadata": {
        "id": "rbBIuM8SOVDP"
      }
    },
    {
      "cell_type": "code",
      "source": [
        "#5"
      ],
      "metadata": {
        "id": "Z6J2pne5OZb6"
      },
      "execution_count": null,
      "outputs": []
    },
    {
      "cell_type": "markdown",
      "source": [
        "6 – Construa uma função que retorna uma lista dos números primos entre 1 e n."
      ],
      "metadata": {
        "id": "l34lwOjIOZ4j"
      }
    },
    {
      "cell_type": "code",
      "source": [
        "#6"
      ],
      "metadata": {
        "id": "MeLyXco8Ock2"
      },
      "execution_count": null,
      "outputs": []
    },
    {
      "cell_type": "markdown",
      "source": [
        "7 – Construa uma função que recebe uma lista de listas e retorna uma lista contendo as médias das listas dadas."
      ],
      "metadata": {
        "id": "UWl_fLiMOc0D"
      }
    },
    {
      "cell_type": "code",
      "source": [
        "#7"
      ],
      "metadata": {
        "id": "uK79vKAdOfwn"
      },
      "execution_count": null,
      "outputs": []
    }
  ]
}