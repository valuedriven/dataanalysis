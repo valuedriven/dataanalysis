{
  "cells": [
    {
      "cell_type": "markdown",
      "metadata": {
        "id": "view-in-github",
        "colab_type": "text"
      },
      "source": [
        "<a href=\"https://colab.research.google.com/github/valuedriven/dataanalysis/blob/master/exercicio_numpy.ipynb\" target=\"_parent\"><img src=\"https://colab.research.google.com/assets/colab-badge.svg\" alt=\"Open In Colab\"/></a>"
      ]
    },
    {
      "cell_type": "markdown",
      "metadata": {
        "id": "yOBRh66-niTz"
      },
      "source": [
        "# Exercícios NumPy"
      ]
    },
    {
      "cell_type": "markdown",
      "metadata": {
        "id": "n3hF6Fe3niT6"
      },
      "source": [
        "1. Faça _n_ = 200 e gere uma matriz *n X n* e dois vetores em $\\mathbb{R}^n$, ambos com elementos inteiros fazendo:\n",
        "    + A = np.floor(10\\*rp.random.random((6,6))\n",
        "    + b = np.sum(A,axis = 1)\n",
        "    + z = np.ones((n,1))"
      ]
    },
    {
      "cell_type": "code",
      "execution_count": null,
      "metadata": {
        "id": "8lSiRybZniT8"
      },
      "outputs": [],
      "source": [
        "import numpy as np\n",
        "\n",
        "n = 200\n",
        "A = np.floor(10*np.random.random((n,n)))\n",
        "b = np.sum(A,axis=1)\n",
        "z = np.ones((n,1))\n",
        "A\n",
        "b\n",
        "z"
      ]
    },
    {
      "cell_type": "markdown",
      "metadata": {
        "id": "Ex2sRRtxniT9"
      },
      "source": [
        "a. A solução exata de Ax = b deveria ser o vetor **z**. Por que? Explique. Pode-se calcular a solução usando numpy com o método solve do pacote linalg ou calculando $A^{-1}$ e então multiplicando $A^{-1}$ por __b__. Vamos comparar os dois métodos computacionais tanto para velocidade quanto para precisão. Pode-se usar o método *time()* do pacote time para medir o tempo decorrido em cada computação. Para isso use os comandos"
      ]
    },
    {
      "cell_type": "code",
      "execution_count": null,
      "metadata": {
        "id": "N2lrMm7LniUA"
      },
      "outputs": [],
      "source": [
        "import time\n",
        "\n",
        "inicio = time.time()\n",
        "x = np.linalg.solve(A,b)\n",
        "fim = time.time()\n",
        "print(fim-inicio)\n",
        "\n",
        "inicio = time.time()\n",
        "y = np.linalg.inv(A).dot(b)\n",
        "fim = time.time()\n",
        "print(fim-inicio)"
      ]
    },
    {
      "cell_type": "markdown",
      "metadata": {
        "id": "xgS_LDUTniUC"
      },
      "source": [
        "Que método é mais rápido?\n",
        "\n",
        "Para comparar a precisão dos métodos podemos medir quão próximas as soluções **x** e __y__ estão da solução exata **z**. Faça isso com os comandos"
      ]
    },
    {
      "cell_type": "code",
      "execution_count": null,
      "metadata": {
        "id": "1vxO2_a2niUC"
      },
      "outputs": [],
      "source": [
        "print(np.max(np.abs(x-z)))\n",
        "print(np.max(np.abs(y-z)))"
      ]
    },
    {
      "cell_type": "markdown",
      "metadata": {
        "id": "sew9S_xUniUD"
      },
      "source": [
        "Que método produz a soulução mais precisa?\n",
        "\n",
        "b. Repita a parte a usando n = 500 e n = 1000."
      ]
    },
    {
      "cell_type": "markdown",
      "metadata": {
        "id": "E_i6DEXfniUE"
      },
      "source": [
        "2. Faça A = np.floor(10\\*np.random.random((6,6))). Por construção a matriz A terá elementos inteiros. Vamos mudar a sexta coluna de A de modo a tornar a matriz singular. Faça"
      ]
    },
    {
      "cell_type": "code",
      "execution_count": 17,
      "metadata": {
        "id": "rffxvYPtniUF"
      },
      "outputs": [],
      "source": [
        "A = np.floor(10*np.random.random((6,6)))\n",
        "B = A.T\n",
        "A[:,5] = -np.sum(B[0:5,:],axis=0)"
      ]
    },
    {
      "cell_type": "markdown",
      "metadata": {
        "id": "q9VE6pryniUG"
      },
      "source": [
        "a. Faça x = np.ones((6,1)) e calcule Ax. Como sabemos que A deve ser singular? Explique."
      ]
    },
    {
      "cell_type": "code",
      "execution_count": 19,
      "metadata": {
        "id": "xb6T2G9xniUH"
      },
      "outputs": [],
      "source": [
        "x = np.ones((6,1))"
      ]
    },
    {
      "cell_type": "code",
      "execution_count": null,
      "metadata": {
        "id": "u5YFpNdDniUI"
      },
      "outputs": [],
      "source": [
        "A.dot(x)"
      ]
    },
    {
      "cell_type": "markdown",
      "metadata": {
        "id": "8WX6_DuCniUG"
      },
      "source": [
        "b. Faça B = x.dot(np.arange(1,7))\n",
        "O produto AB deve ser igual à matriz nula. Por que? Explique. Verifique que isso é verdadeiro calculando AB com o método *dot*."
      ]
    },
    {
      "cell_type": "code",
      "execution_count": null,
      "metadata": {
        "id": "NmuM6C1iniUI"
      },
      "outputs": [],
      "source": [
        "C = np.zeros((1,6))\n",
        "C[0,:] = np.arange(1,7)\n",
        "C"
      ]
    },
    {
      "cell_type": "code",
      "execution_count": null,
      "metadata": {
        "id": "ECERgopiniUJ"
      },
      "outputs": [],
      "source": [
        "B = x.dot(C)\n",
        "B"
      ]
    },
    {
      "cell_type": "code",
      "execution_count": null,
      "metadata": {
        "id": "d8WHrvjMniUJ"
      },
      "outputs": [],
      "source": [
        "A.dot(B)"
      ]
    }
  ],
  "metadata": {
    "kernelspec": {
      "display_name": "Python 3",
      "language": "python",
      "name": "python3"
    },
    "language_info": {
      "codemirror_mode": {
        "name": "ipython",
        "version": 3
      },
      "file_extension": ".py",
      "mimetype": "text/x-python",
      "name": "python",
      "nbconvert_exporter": "python",
      "pygments_lexer": "ipython3",
      "version": "3.7.6"
    },
    "colab": {
      "provenance": [],
      "include_colab_link": true
    }
  },
  "nbformat": 4,
  "nbformat_minor": 0
}