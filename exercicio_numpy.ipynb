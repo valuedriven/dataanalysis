{
  "cells": [
    {
      "cell_type": "markdown",
      "metadata": {
        "id": "view-in-github",
        "colab_type": "text"
      },
      "source": [
        "<a href=\"https://colab.research.google.com/github/valuedriven/dataanalysis/blob/master/exercicio_numpy.ipynb\" target=\"_parent\"><img src=\"https://colab.research.google.com/assets/colab-badge.svg\" alt=\"Open In Colab\"/></a>"
      ]
    },
    {
      "cell_type": "markdown",
      "metadata": {
        "id": "yOBRh66-niTz"
      },
      "source": [
        "# Exercícios NumPy"
      ]
    },
    {
      "cell_type": "markdown",
      "metadata": {
        "id": "n3hF6Fe3niT6"
      },
      "source": [
        "1. Faça _n_ = 200 e gere uma matriz *n X n* e dois vetores em $\\mathbb{R}^n$, ambos com elementos inteiros fazendo:\n",
        "    + A = np.floor(10\\*rp.random.random((6,6))\n",
        "    + b = np.sum(A,axis = 1)\n",
        "    + z = np.ones((n,1))"
      ]
    },
    {
      "cell_type": "code",
      "execution_count": 33,
      "metadata": {
        "id": "8lSiRybZniT8",
        "colab": {
          "base_uri": "https://localhost:8080/"
        },
        "outputId": "5aa7851c-8ebd-4aa2-c893-6504aca5d35c"
      },
      "outputs": [
        {
          "output_type": "execute_result",
          "data": {
            "text/plain": [
              "array([[1.],\n",
              "       [1.],\n",
              "       [1.],\n",
              "       [1.]])"
            ]
          },
          "metadata": {},
          "execution_count": 33
        }
      ],
      "source": [
        "import numpy as np\n",
        "\n",
        "n = 4\n",
        "A = np.floor(10*np.random.random((n,n)))\n",
        "b = np.sum(A,axis=1)\n",
        "z = np.ones((n,1))\n",
        "A\n",
        "b\n",
        "z"
      ]
    },
    {
      "cell_type": "markdown",
      "metadata": {
        "id": "Ex2sRRtxniT9"
      },
      "source": [
        "a. A solução exata de Ax = b deveria ser o vetor **z**. Por que? Explique. Pode-se calcular a solução usando numpy com o método solve do pacote linalg ou calculando $A^{-1}$ e então multiplicando $A^{-1}$ por __b__. Vamos comparar os dois métodos computacionais tanto para velocidade quanto para precisão. Pode-se usar o método *time()* do pacote time para medir o tempo decorrido em cada computação. Para isso use os comandos"
      ]
    },
    {
      "cell_type": "code",
      "execution_count": 34,
      "metadata": {
        "colab": {
          "base_uri": "https://localhost:8080/"
        },
        "id": "N2lrMm7LniUA",
        "outputId": "8eae514f-26cc-4850-b632-de725c545528"
      },
      "outputs": [
        {
          "output_type": "stream",
          "name": "stdout",
          "text": [
            "0.00033473968505859375\n",
            "0.0058743953704833984\n"
          ]
        }
      ],
      "source": [
        "import time\n",
        "\n",
        "inicio = time.time()\n",
        "x = np.linalg.solve(A,b)\n",
        "fim = time.time()\n",
        "print(fim-inicio)\n",
        "\n",
        "inicio = time.time()\n",
        "y = np.linalg.inv(A).dot(b)\n",
        "fim = time.time()\n",
        "print(fim-inicio)"
      ]
    },
    {
      "cell_type": "markdown",
      "metadata": {
        "id": "xgS_LDUTniUC"
      },
      "source": [
        "Que método é mais rápido?\n",
        "\n",
        "Para comparar a precisão dos métodos podemos medir quão próximas as soluções **x** e __y__ estão da solução exata **z**. Faça isso com os comandos"
      ]
    },
    {
      "cell_type": "code",
      "execution_count": 35,
      "metadata": {
        "colab": {
          "base_uri": "https://localhost:8080/"
        },
        "id": "1vxO2_a2niUC",
        "outputId": "519cfa9f-77bd-4fd6-ad56-287acb44284f"
      },
      "outputs": [
        {
          "output_type": "stream",
          "name": "stdout",
          "text": [
            "2.1094237467877974e-15\n",
            "1.7763568394002505e-15\n"
          ]
        }
      ],
      "source": [
        "print(np.max(np.abs(x-z)))\n",
        "print(np.max(np.abs(y-z)))"
      ]
    },
    {
      "cell_type": "markdown",
      "metadata": {
        "id": "sew9S_xUniUD"
      },
      "source": [
        "Que método produz a soulução mais precisa?\n",
        "\n",
        "b. Repita a parte a usando n = 500 e n = 1000."
      ]
    },
    {
      "cell_type": "markdown",
      "metadata": {
        "id": "E_i6DEXfniUE"
      },
      "source": [
        "2. Faça A = np.floor(10\\*np.random.random((6,6))). Por construção a matriz A terá elementos inteiros. Vamos mudar a sexta coluna de A de modo a tornar a matriz singular. Faça"
      ]
    },
    {
      "cell_type": "code",
      "execution_count": 36,
      "metadata": {
        "id": "rffxvYPtniUF",
        "colab": {
          "base_uri": "https://localhost:8080/"
        },
        "outputId": "9d30508a-3dab-452c-a9dd-2ef9d07778ac"
      },
      "outputs": [
        {
          "output_type": "execute_result",
          "data": {
            "text/plain": [
              "array([[  6.,   8.,   4.,   0.,   7., -25.],\n",
              "       [  7.,   1.,   3.,   9.,   7., -27.],\n",
              "       [  6.,   9.,   5.,   1.,   7., -28.],\n",
              "       [  3.,   2.,   2.,   3.,   2., -12.],\n",
              "       [  5.,   4.,   3.,   2.,   5., -19.],\n",
              "       [  7.,   9.,   3.,   8.,   0., -27.]])"
            ]
          },
          "metadata": {},
          "execution_count": 36
        }
      ],
      "source": [
        "A = np.floor(10*np.random.random((6,6)))\n",
        "B = A.T\n",
        "A[:,5] = -np.sum(B[0:5,:],axis=0)\n",
        "A"
      ]
    },
    {
      "cell_type": "markdown",
      "metadata": {
        "id": "q9VE6pryniUG"
      },
      "source": [
        "a. Faça x = np.ones((6,1)) e calcule Ax. Como sabemos que A deve ser singular? Explique."
      ]
    },
    {
      "cell_type": "code",
      "execution_count": 37,
      "metadata": {
        "id": "xb6T2G9xniUH",
        "colab": {
          "base_uri": "https://localhost:8080/"
        },
        "outputId": "746e9644-3f0c-43f6-bcac-076b912f1da4"
      },
      "outputs": [
        {
          "output_type": "execute_result",
          "data": {
            "text/plain": [
              "array([[1.],\n",
              "       [1.],\n",
              "       [1.],\n",
              "       [1.],\n",
              "       [1.],\n",
              "       [1.]])"
            ]
          },
          "metadata": {},
          "execution_count": 37
        }
      ],
      "source": [
        "x = np.ones((6,1))\n",
        "x"
      ]
    },
    {
      "cell_type": "code",
      "execution_count": 38,
      "metadata": {
        "colab": {
          "base_uri": "https://localhost:8080/"
        },
        "id": "u5YFpNdDniUI",
        "outputId": "01b5baf1-b40b-4e6c-9f62-72debecd5646"
      },
      "outputs": [
        {
          "output_type": "execute_result",
          "data": {
            "text/plain": [
              "array([[0.],\n",
              "       [0.],\n",
              "       [0.],\n",
              "       [0.],\n",
              "       [0.],\n",
              "       [0.]])"
            ]
          },
          "metadata": {},
          "execution_count": 38
        }
      ],
      "source": [
        "y = A.dot(x)\n",
        "y"
      ]
    },
    {
      "cell_type": "markdown",
      "metadata": {
        "id": "8WX6_DuCniUG"
      },
      "source": [
        "b. Faça B = x.dot(np.arange(1,7))\n",
        "O produto AB deve ser igual à matriz nula. Por que? Explique. Verifique que isso é verdadeiro calculando AB com o método *dot*."
      ]
    },
    {
      "cell_type": "code",
      "execution_count": 39,
      "metadata": {
        "colab": {
          "base_uri": "https://localhost:8080/"
        },
        "id": "NmuM6C1iniUI",
        "outputId": "f6107f11-6284-4462-8d28-723a0b2697b2"
      },
      "outputs": [
        {
          "output_type": "execute_result",
          "data": {
            "text/plain": [
              "array([[1., 2., 3., 4., 5., 6.]])"
            ]
          },
          "metadata": {},
          "execution_count": 39
        }
      ],
      "source": [
        "C = np.zeros((1,6))\n",
        "C[0,:] = np.arange(1,7)\n",
        "C"
      ]
    },
    {
      "cell_type": "code",
      "execution_count": 40,
      "metadata": {
        "colab": {
          "base_uri": "https://localhost:8080/"
        },
        "id": "ECERgopiniUJ",
        "outputId": "f8965735-e329-480e-9473-c32d3d18787b"
      },
      "outputs": [
        {
          "output_type": "execute_result",
          "data": {
            "text/plain": [
              "array([[1., 2., 3., 4., 5., 6.],\n",
              "       [1., 2., 3., 4., 5., 6.],\n",
              "       [1., 2., 3., 4., 5., 6.],\n",
              "       [1., 2., 3., 4., 5., 6.],\n",
              "       [1., 2., 3., 4., 5., 6.],\n",
              "       [1., 2., 3., 4., 5., 6.]])"
            ]
          },
          "metadata": {},
          "execution_count": 40
        }
      ],
      "source": [
        "B = x.dot(C)\n",
        "B"
      ]
    },
    {
      "cell_type": "code",
      "execution_count": 41,
      "metadata": {
        "colab": {
          "base_uri": "https://localhost:8080/"
        },
        "id": "d8WHrvjMniUJ",
        "outputId": "7ed8cc72-b210-453a-d082-799eb8f1e619"
      },
      "outputs": [
        {
          "output_type": "execute_result",
          "data": {
            "text/plain": [
              "array([[0., 0., 0., 0., 0., 0.],\n",
              "       [0., 0., 0., 0., 0., 0.],\n",
              "       [0., 0., 0., 0., 0., 0.],\n",
              "       [0., 0., 0., 0., 0., 0.],\n",
              "       [0., 0., 0., 0., 0., 0.],\n",
              "       [0., 0., 0., 0., 0., 0.]])"
            ]
          },
          "metadata": {},
          "execution_count": 41
        }
      ],
      "source": [
        "z = A.dot(B)\n",
        "z"
      ]
    }
  ],
  "metadata": {
    "kernelspec": {
      "display_name": "Python 3",
      "language": "python",
      "name": "python3"
    },
    "language_info": {
      "codemirror_mode": {
        "name": "ipython",
        "version": 3
      },
      "file_extension": ".py",
      "mimetype": "text/x-python",
      "name": "python",
      "nbconvert_exporter": "python",
      "pygments_lexer": "ipython3",
      "version": "3.7.6"
    },
    "colab": {
      "provenance": [],
      "include_colab_link": true
    }
  },
  "nbformat": 4,
  "nbformat_minor": 0
}