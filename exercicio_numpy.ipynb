{
  "cells": [
    {
      "cell_type": "markdown",
      "metadata": {
        "id": "view-in-github",
        "colab_type": "text"
      },
      "source": [
        "<a href=\"https://colab.research.google.com/github/valuedriven/dataanalysis/blob/master/exercicio_numpy.ipynb\" target=\"_parent\"><img src=\"https://colab.research.google.com/assets/colab-badge.svg\" alt=\"Open In Colab\"/></a>"
      ]
    },
    {
      "cell_type": "markdown",
      "metadata": {
        "id": "yOBRh66-niTz"
      },
      "source": [
        "# Exercícios NumPy"
      ]
    },
    {
      "cell_type": "markdown",
      "metadata": {
        "id": "n3hF6Fe3niT6"
      },
      "source": [
        "1. Faça _n_ = 200 e gere uma matriz *n X n* e dois vetores em $\\mathbb{R}^n$, ambos com elementos inteiros fazendo:\n",
        "    + A = np.floor(10\\*rp.random.random((6,6))\n",
        "    + b = np.sum(A,axis = 1)\n",
        "    + z = np.ones((n,1))"
      ]
    },
    {
      "cell_type": "code",
      "execution_count": 2,
      "metadata": {
        "id": "8lSiRybZniT8"
      },
      "outputs": [],
      "source": [
        "import numpy as np\n",
        "\n",
        "n = 200\n",
        "A = np.floor(10*np.random.random((n,n)))\n",
        "b = np.sum(A,axis=1)\n",
        "z = np.ones((n,1))\n"
      ]
    },
    {
      "cell_type": "code",
      "execution_count": null,
      "metadata": {
        "id": "vqP3ziOrniT_"
      },
      "outputs": [],
      "source": [
        "A"
      ]
    },
    {
      "cell_type": "code",
      "execution_count": null,
      "metadata": {
        "id": "VXx4l0rqniT_"
      },
      "outputs": [],
      "source": [
        "b"
      ]
    },
    {
      "cell_type": "code",
      "source": [
        "z"
      ],
      "metadata": {
        "id": "l-WjR03ofwu9"
      },
      "execution_count": null,
      "outputs": []
    },
    {
      "cell_type": "markdown",
      "metadata": {
        "id": "Ex2sRRtxniT9"
      },
      "source": [
        "a. A solução exata de Ax = b deveria ser o vetor **z**. Por que? Explique. Pode-se calcular a solução usando numpy com o método solve do pacote linalg ou calculando $A^{-1}$ e então multiplicando $A^{-1}$ por __b__. Vamos comparar os dois métodos computacionais tanto para velocidade quanto para precisão. Pode-se usar o método *time()* do pacote time para medir o tempo decorrido em cada computação. Para isso use os comandos"
      ]
    },
    {
      "cell_type": "code",
      "execution_count": 6,
      "metadata": {
        "colab": {
          "base_uri": "https://localhost:8080/"
        },
        "id": "N2lrMm7LniUA",
        "outputId": "d2fc5d96-d57d-4654-a8f7-df4ee49dd5e9"
      },
      "outputs": [
        {
          "output_type": "stream",
          "name": "stdout",
          "text": [
            "0.0028786659240722656\n",
            "0.011611700057983398\n"
          ]
        }
      ],
      "source": [
        "import time\n",
        "\n",
        "inicio = time.time()\n",
        "x = np.linalg.solve(A,b)\n",
        "fim = time.time()\n",
        "print(fim-inicio)\n",
        "\n",
        "inicio = time.time()\n",
        "y = np.linalg.inv(A).dot(b)\n",
        "fim = time.time()\n",
        "print(fim-inicio)"
      ]
    },
    {
      "cell_type": "markdown",
      "metadata": {
        "id": "xgS_LDUTniUC"
      },
      "source": [
        "Que método é mais rápido?\n",
        "\n",
        "Para comparar a precisão dos métodos podemos medir quão próximas as soluções **x** e __y__ estão da solução exata **z**. Faça isso com os comandos"
      ]
    },
    {
      "cell_type": "code",
      "execution_count": 7,
      "metadata": {
        "colab": {
          "base_uri": "https://localhost:8080/"
        },
        "id": "1vxO2_a2niUC",
        "outputId": "22370475-ac2a-4bd4-b64c-1a7951f2f7ba"
      },
      "outputs": [
        {
          "output_type": "stream",
          "name": "stdout",
          "text": [
            "7.30526750203353e-14\n",
            "5.300648808770347e-12\n"
          ]
        }
      ],
      "source": [
        "print(np.max(np.abs(x-z)))\n",
        "print(np.max(np.abs(y-z)))"
      ]
    },
    {
      "cell_type": "markdown",
      "metadata": {
        "id": "sew9S_xUniUD"
      },
      "source": [
        "Que método produz a soulução mais precisa?\n",
        "\n",
        "b. Repita a parte a usando n = 500 e n = 1000."
      ]
    },
    {
      "cell_type": "markdown",
      "metadata": {
        "id": "E_i6DEXfniUE"
      },
      "source": [
        "2. Faça A = np.floor(10\\*np.random.random((6,6))). Por construção a matriz A terá elementos inteiros. Vamos mudar a sexta coluna de A de modo a tornar a matriz singular. Faça"
      ]
    },
    {
      "cell_type": "code",
      "execution_count": 9,
      "metadata": {
        "id": "rffxvYPtniUF"
      },
      "outputs": [],
      "source": [
        "A = np.floor(10*np.random.random((6,6)))\n",
        "B = A.T\n",
        "A[:,5] = -np.sum(B[0:5,:],axis=0)"
      ]
    },
    {
      "cell_type": "markdown",
      "metadata": {
        "id": "q9VE6pryniUG"
      },
      "source": [
        "a. Faça x = np.ones((6,1)) e calcule Ax. Como sabemos que A deve ser singular? Explique."
      ]
    },
    {
      "cell_type": "code",
      "execution_count": 10,
      "metadata": {
        "id": "xb6T2G9xniUH"
      },
      "outputs": [],
      "source": [
        "x = np.ones((6,1))"
      ]
    },
    {
      "cell_type": "code",
      "execution_count": 11,
      "metadata": {
        "colab": {
          "base_uri": "https://localhost:8080/"
        },
        "id": "u5YFpNdDniUI",
        "outputId": "e1444e93-9638-4b80-94e2-6c01b7c6f20b"
      },
      "outputs": [
        {
          "output_type": "execute_result",
          "data": {
            "text/plain": [
              "array([[0.],\n",
              "       [0.],\n",
              "       [0.],\n",
              "       [0.],\n",
              "       [0.],\n",
              "       [0.]])"
            ]
          },
          "metadata": {},
          "execution_count": 11
        }
      ],
      "source": [
        "A.dot(x)"
      ]
    },
    {
      "cell_type": "markdown",
      "metadata": {
        "id": "8WX6_DuCniUG"
      },
      "source": [
        "b. Faça B = x.dot(np.arange(1,7))\n",
        "O produto AB deve ser igual à matriz nula. Por que? Explique. Verifique que isso é verdadeiro calculando AB com o método *dot*."
      ]
    },
    {
      "cell_type": "code",
      "execution_count": 12,
      "metadata": {
        "colab": {
          "base_uri": "https://localhost:8080/"
        },
        "id": "NmuM6C1iniUI",
        "outputId": "f2b404ce-c037-4243-a6af-d21fb7869e22"
      },
      "outputs": [
        {
          "output_type": "execute_result",
          "data": {
            "text/plain": [
              "array([[1., 2., 3., 4., 5., 6.]])"
            ]
          },
          "metadata": {},
          "execution_count": 12
        }
      ],
      "source": [
        "C = np.zeros((1,6))\n",
        "C[0,:] = np.arange(1,7)\n",
        "C"
      ]
    },
    {
      "cell_type": "code",
      "execution_count": 13,
      "metadata": {
        "colab": {
          "base_uri": "https://localhost:8080/"
        },
        "id": "ECERgopiniUJ",
        "outputId": "fa99ac79-74c2-4454-927d-c8a032f13e86"
      },
      "outputs": [
        {
          "output_type": "execute_result",
          "data": {
            "text/plain": [
              "array([[1., 2., 3., 4., 5., 6.],\n",
              "       [1., 2., 3., 4., 5., 6.],\n",
              "       [1., 2., 3., 4., 5., 6.],\n",
              "       [1., 2., 3., 4., 5., 6.],\n",
              "       [1., 2., 3., 4., 5., 6.],\n",
              "       [1., 2., 3., 4., 5., 6.]])"
            ]
          },
          "metadata": {},
          "execution_count": 13
        }
      ],
      "source": [
        "B = x.dot(C)\n",
        "B"
      ]
    },
    {
      "cell_type": "code",
      "execution_count": 14,
      "metadata": {
        "colab": {
          "base_uri": "https://localhost:8080/"
        },
        "id": "d8WHrvjMniUJ",
        "outputId": "3112ccaf-26f9-4722-f1b4-ecfd933be5de"
      },
      "outputs": [
        {
          "output_type": "execute_result",
          "data": {
            "text/plain": [
              "array([[0., 0., 0., 0., 0., 0.],\n",
              "       [0., 0., 0., 0., 0., 0.],\n",
              "       [0., 0., 0., 0., 0., 0.],\n",
              "       [0., 0., 0., 0., 0., 0.],\n",
              "       [0., 0., 0., 0., 0., 0.],\n",
              "       [0., 0., 0., 0., 0., 0.]])"
            ]
          },
          "metadata": {},
          "execution_count": 14
        }
      ],
      "source": [
        "A.dot(B)"
      ]
    }
  ],
  "metadata": {
    "kernelspec": {
      "display_name": "Python 3",
      "language": "python",
      "name": "python3"
    },
    "language_info": {
      "codemirror_mode": {
        "name": "ipython",
        "version": 3
      },
      "file_extension": ".py",
      "mimetype": "text/x-python",
      "name": "python",
      "nbconvert_exporter": "python",
      "pygments_lexer": "ipython3",
      "version": "3.7.6"
    },
    "colab": {
      "provenance": [],
      "include_colab_link": true
    }
  },
  "nbformat": 4,
  "nbformat_minor": 0
}