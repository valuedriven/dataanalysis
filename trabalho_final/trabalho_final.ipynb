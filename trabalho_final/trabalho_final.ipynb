{
  "nbformat": 4,
  "nbformat_minor": 0,
  "metadata": {
    "colab": {
      "provenance": [],
      "authorship_tag": "ABX9TyPpN3s9Xc3nn8ehj/bJpRbd",
      "include_colab_link": true
    },
    "kernelspec": {
      "name": "python3",
      "display_name": "Python 3"
    },
    "language_info": {
      "name": "python"
    }
  },
  "cells": [
    {
      "cell_type": "markdown",
      "metadata": {
        "id": "view-in-github",
        "colab_type": "text"
      },
      "source": [
        "<a href=\"https://colab.research.google.com/github/valuedriven/dataanalysis/blob/master/trabalho_final/trabalho_final.ipynb\" target=\"_parent\"><img src=\"https://colab.research.google.com/assets/colab-badge.svg\" alt=\"Open In Colab\"/></a>"
      ]
    },
    {
      "cell_type": "markdown",
      "source": [
        "Passos requeridos para o trabalho:\n",
        "- Abrir o conjunto de dados em um DataFrame, \n",
        "- Visualizar os dados por meio de gráficos construídos com uma das bibliotecas gráficas vistas na disciplina,\n",
        "- Utilizar aprendizado de máquina não supervisionado e/ou supervisionado para construir um modelo que seja capaz de prever uma propriedade de interesse."
      ],
      "metadata": {
        "id": "FJ5JbwgGz-D2"
      }
    },
    {
      "cell_type": "code",
      "execution_count": 293,
      "metadata": {
        "id": "9F9vITDBz5Hw",
        "colab": {
          "base_uri": "https://localhost:8080/"
        },
        "outputId": "2a409bae-95c2-4114-9350-1699092a6fa8"
      },
      "outputs": [
        {
          "output_type": "stream",
          "name": "stdout",
          "text": [
            "**Author**: Dr. Hans Hofmann  \n",
            "**Source**: [UCI](https://archive.ics.uci.edu/ml/datasets/statlog+(german+credit+data)) - 1994    \n",
            "**Please cite**: [UCI](https://archive.ics.uci.edu/ml/citation_policy.html)\n",
            "\n",
            "**German Credit dataset**  \n",
            "This dataset classifies people described by a set of attributes as good or bad credit risks.\n",
            "\n",
            "This dataset comes with a cost matrix: \n",
            "``` \n",
            "Good  Bad (predicted)  \n",
            "Good   0    1   (actual)  \n",
            "Bad    5    0  \n",
            "```\n",
            "\n",
            "It is worse to class a customer as good when they are bad (5), than it is to class a customer as bad when they are good (1).  \n",
            "\n",
            "### Attribute description  \n",
            "\n",
            "1. Status of the existing checking account, in Deutsche Mark.  \n",
            "2. Duration in months  \n",
            "3. Credit history (credits taken, paid back duly, delays, critical accounts)  \n",
            "4. Purpose of the credit (car, television,...)  \n",
            "5. Credit amount  \n",
            "6. Status of savings account/bonds, in Deutsche Mark.  \n",
            "7. Present employment, in number of years.  \n",
            "8. Installment rate in percentage of disposable income  \n",
            "9. Personal status (married, single,...) and sex  \n",
            "10. Other debtors / guarantors  \n",
            "11. Present residence since X years  \n",
            "12. Property (e.g. real estate)  \n",
            "13. Age in years  \n",
            "14. Other installment plans (banks, stores)  \n",
            "15. Housing (rent, own,...)  \n",
            "16. Number of existing credits at this bank  \n",
            "17. Job  \n",
            "18. Number of people being liable to provide maintenance for  \n",
            "19. Telephone (yes,no)  \n",
            "20. Foreign worker (yes,no)\n",
            "\n",
            "Downloaded from openml.org.\n"
          ]
        }
      ],
      "source": [
        "# Dataset disponível em https://www.openml.org/\n",
        "\n",
        "dataset = 'credit-g'\n",
        "from sklearn.datasets import fetch_openml\n",
        "risk_dataset = fetch_openml(name=dataset,version='1')\n",
        "print(risk_dataset.DESCR)"
      ]
    },
    {
      "cell_type": "code",
      "source": [
        "print(risk_dataset.data.shape)"
      ],
      "metadata": {
        "id": "0G4ObxC0wVwL",
        "outputId": "5c2c4556-71cf-4228-c95e-fa0bbcf9c73d",
        "colab": {
          "base_uri": "https://localhost:8080/"
        }
      },
      "execution_count": 294,
      "outputs": [
        {
          "output_type": "stream",
          "name": "stdout",
          "text": [
            "(1000, 20)\n"
          ]
        }
      ]
    },
    {
      "cell_type": "code",
      "source": [
        "import pandas as pd\n",
        "df = pd.DataFrame(risk_dataset.data)\n",
        "df.columns = risk_dataset.feature_names\n",
        "df['risk'] = risk_dataset.target\n",
        "df"
      ],
      "metadata": {
        "colab": {
          "base_uri": "https://localhost:8080/",
          "height": 592
        },
        "id": "PLzZtFtoisl5",
        "outputId": "a7439277-7506-40e6-d455-365874172a8b"
      },
      "execution_count": 295,
      "outputs": [
        {
          "output_type": "execute_result",
          "data": {
            "text/plain": [
              "    checking_status  duration                  credit_history  \\\n",
              "0                <0       6.0  critical/other existing credit   \n",
              "1          0<=X<200      48.0                   existing paid   \n",
              "2       no checking      12.0  critical/other existing credit   \n",
              "3                <0      42.0                   existing paid   \n",
              "4                <0      24.0              delayed previously   \n",
              "..              ...       ...                             ...   \n",
              "995     no checking      12.0                   existing paid   \n",
              "996              <0      30.0                   existing paid   \n",
              "997     no checking      12.0                   existing paid   \n",
              "998              <0      45.0                   existing paid   \n",
              "999        0<=X<200      45.0  critical/other existing credit   \n",
              "\n",
              "                 purpose  credit_amount    savings_status  employment  \\\n",
              "0               radio/tv         1169.0  no known savings         >=7   \n",
              "1               radio/tv         5951.0              <100      1<=X<4   \n",
              "2              education         2096.0              <100      4<=X<7   \n",
              "3    furniture/equipment         7882.0              <100      4<=X<7   \n",
              "4                new car         4870.0              <100      1<=X<4   \n",
              "..                   ...            ...               ...         ...   \n",
              "995  furniture/equipment         1736.0              <100      4<=X<7   \n",
              "996             used car         3857.0              <100      1<=X<4   \n",
              "997             radio/tv          804.0              <100         >=7   \n",
              "998             radio/tv         1845.0              <100      1<=X<4   \n",
              "999             used car         4576.0        100<=X<500  unemployed   \n",
              "\n",
              "     installment_commitment     personal_status other_parties  ...  \\\n",
              "0                       4.0         male single          none  ...   \n",
              "1                       2.0  female div/dep/mar          none  ...   \n",
              "2                       2.0         male single          none  ...   \n",
              "3                       2.0         male single     guarantor  ...   \n",
              "4                       3.0         male single          none  ...   \n",
              "..                      ...                 ...           ...  ...   \n",
              "995                     3.0  female div/dep/mar          none  ...   \n",
              "996                     4.0        male div/sep          none  ...   \n",
              "997                     4.0         male single          none  ...   \n",
              "998                     4.0         male single          none  ...   \n",
              "999                     3.0         male single          none  ...   \n",
              "\n",
              "     property_magnitude   age  other_payment_plans   housing existing_credits  \\\n",
              "0           real estate  67.0                 none       own              2.0   \n",
              "1           real estate  22.0                 none       own              1.0   \n",
              "2           real estate  49.0                 none       own              1.0   \n",
              "3        life insurance  45.0                 none  for free              1.0   \n",
              "4     no known property  53.0                 none  for free              2.0   \n",
              "..                  ...   ...                  ...       ...              ...   \n",
              "995         real estate  31.0                 none       own              1.0   \n",
              "996      life insurance  40.0                 none       own              1.0   \n",
              "997                 car  38.0                 none       own              1.0   \n",
              "998   no known property  23.0                 none  for free              1.0   \n",
              "999                 car  27.0                 none       own              1.0   \n",
              "\n",
              "                           job num_dependents  own_telephone foreign_worker  \\\n",
              "0                      skilled            1.0            yes            yes   \n",
              "1                      skilled            1.0           none            yes   \n",
              "2           unskilled resident            2.0           none            yes   \n",
              "3                      skilled            2.0           none            yes   \n",
              "4                      skilled            2.0           none            yes   \n",
              "..                         ...            ...            ...            ...   \n",
              "995         unskilled resident            1.0           none            yes   \n",
              "996  high qualif/self emp/mgmt            1.0            yes            yes   \n",
              "997                    skilled            1.0           none            yes   \n",
              "998                    skilled            1.0            yes            yes   \n",
              "999                    skilled            1.0           none            yes   \n",
              "\n",
              "     risk  \n",
              "0    good  \n",
              "1     bad  \n",
              "2    good  \n",
              "3    good  \n",
              "4     bad  \n",
              "..    ...  \n",
              "995  good  \n",
              "996  good  \n",
              "997  good  \n",
              "998   bad  \n",
              "999  good  \n",
              "\n",
              "[1000 rows x 21 columns]"
            ],
            "text/html": [
              "\n",
              "  <div id=\"df-f5a89ba9-cec6-4848-835b-f5cc5b8bf317\">\n",
              "    <div class=\"colab-df-container\">\n",
              "      <div>\n",
              "<style scoped>\n",
              "    .dataframe tbody tr th:only-of-type {\n",
              "        vertical-align: middle;\n",
              "    }\n",
              "\n",
              "    .dataframe tbody tr th {\n",
              "        vertical-align: top;\n",
              "    }\n",
              "\n",
              "    .dataframe thead th {\n",
              "        text-align: right;\n",
              "    }\n",
              "</style>\n",
              "<table border=\"1\" class=\"dataframe\">\n",
              "  <thead>\n",
              "    <tr style=\"text-align: right;\">\n",
              "      <th></th>\n",
              "      <th>checking_status</th>\n",
              "      <th>duration</th>\n",
              "      <th>credit_history</th>\n",
              "      <th>purpose</th>\n",
              "      <th>credit_amount</th>\n",
              "      <th>savings_status</th>\n",
              "      <th>employment</th>\n",
              "      <th>installment_commitment</th>\n",
              "      <th>personal_status</th>\n",
              "      <th>other_parties</th>\n",
              "      <th>...</th>\n",
              "      <th>property_magnitude</th>\n",
              "      <th>age</th>\n",
              "      <th>other_payment_plans</th>\n",
              "      <th>housing</th>\n",
              "      <th>existing_credits</th>\n",
              "      <th>job</th>\n",
              "      <th>num_dependents</th>\n",
              "      <th>own_telephone</th>\n",
              "      <th>foreign_worker</th>\n",
              "      <th>risk</th>\n",
              "    </tr>\n",
              "  </thead>\n",
              "  <tbody>\n",
              "    <tr>\n",
              "      <th>0</th>\n",
              "      <td>&lt;0</td>\n",
              "      <td>6.0</td>\n",
              "      <td>critical/other existing credit</td>\n",
              "      <td>radio/tv</td>\n",
              "      <td>1169.0</td>\n",
              "      <td>no known savings</td>\n",
              "      <td>&gt;=7</td>\n",
              "      <td>4.0</td>\n",
              "      <td>male single</td>\n",
              "      <td>none</td>\n",
              "      <td>...</td>\n",
              "      <td>real estate</td>\n",
              "      <td>67.0</td>\n",
              "      <td>none</td>\n",
              "      <td>own</td>\n",
              "      <td>2.0</td>\n",
              "      <td>skilled</td>\n",
              "      <td>1.0</td>\n",
              "      <td>yes</td>\n",
              "      <td>yes</td>\n",
              "      <td>good</td>\n",
              "    </tr>\n",
              "    <tr>\n",
              "      <th>1</th>\n",
              "      <td>0&lt;=X&lt;200</td>\n",
              "      <td>48.0</td>\n",
              "      <td>existing paid</td>\n",
              "      <td>radio/tv</td>\n",
              "      <td>5951.0</td>\n",
              "      <td>&lt;100</td>\n",
              "      <td>1&lt;=X&lt;4</td>\n",
              "      <td>2.0</td>\n",
              "      <td>female div/dep/mar</td>\n",
              "      <td>none</td>\n",
              "      <td>...</td>\n",
              "      <td>real estate</td>\n",
              "      <td>22.0</td>\n",
              "      <td>none</td>\n",
              "      <td>own</td>\n",
              "      <td>1.0</td>\n",
              "      <td>skilled</td>\n",
              "      <td>1.0</td>\n",
              "      <td>none</td>\n",
              "      <td>yes</td>\n",
              "      <td>bad</td>\n",
              "    </tr>\n",
              "    <tr>\n",
              "      <th>2</th>\n",
              "      <td>no checking</td>\n",
              "      <td>12.0</td>\n",
              "      <td>critical/other existing credit</td>\n",
              "      <td>education</td>\n",
              "      <td>2096.0</td>\n",
              "      <td>&lt;100</td>\n",
              "      <td>4&lt;=X&lt;7</td>\n",
              "      <td>2.0</td>\n",
              "      <td>male single</td>\n",
              "      <td>none</td>\n",
              "      <td>...</td>\n",
              "      <td>real estate</td>\n",
              "      <td>49.0</td>\n",
              "      <td>none</td>\n",
              "      <td>own</td>\n",
              "      <td>1.0</td>\n",
              "      <td>unskilled resident</td>\n",
              "      <td>2.0</td>\n",
              "      <td>none</td>\n",
              "      <td>yes</td>\n",
              "      <td>good</td>\n",
              "    </tr>\n",
              "    <tr>\n",
              "      <th>3</th>\n",
              "      <td>&lt;0</td>\n",
              "      <td>42.0</td>\n",
              "      <td>existing paid</td>\n",
              "      <td>furniture/equipment</td>\n",
              "      <td>7882.0</td>\n",
              "      <td>&lt;100</td>\n",
              "      <td>4&lt;=X&lt;7</td>\n",
              "      <td>2.0</td>\n",
              "      <td>male single</td>\n",
              "      <td>guarantor</td>\n",
              "      <td>...</td>\n",
              "      <td>life insurance</td>\n",
              "      <td>45.0</td>\n",
              "      <td>none</td>\n",
              "      <td>for free</td>\n",
              "      <td>1.0</td>\n",
              "      <td>skilled</td>\n",
              "      <td>2.0</td>\n",
              "      <td>none</td>\n",
              "      <td>yes</td>\n",
              "      <td>good</td>\n",
              "    </tr>\n",
              "    <tr>\n",
              "      <th>4</th>\n",
              "      <td>&lt;0</td>\n",
              "      <td>24.0</td>\n",
              "      <td>delayed previously</td>\n",
              "      <td>new car</td>\n",
              "      <td>4870.0</td>\n",
              "      <td>&lt;100</td>\n",
              "      <td>1&lt;=X&lt;4</td>\n",
              "      <td>3.0</td>\n",
              "      <td>male single</td>\n",
              "      <td>none</td>\n",
              "      <td>...</td>\n",
              "      <td>no known property</td>\n",
              "      <td>53.0</td>\n",
              "      <td>none</td>\n",
              "      <td>for free</td>\n",
              "      <td>2.0</td>\n",
              "      <td>skilled</td>\n",
              "      <td>2.0</td>\n",
              "      <td>none</td>\n",
              "      <td>yes</td>\n",
              "      <td>bad</td>\n",
              "    </tr>\n",
              "    <tr>\n",
              "      <th>...</th>\n",
              "      <td>...</td>\n",
              "      <td>...</td>\n",
              "      <td>...</td>\n",
              "      <td>...</td>\n",
              "      <td>...</td>\n",
              "      <td>...</td>\n",
              "      <td>...</td>\n",
              "      <td>...</td>\n",
              "      <td>...</td>\n",
              "      <td>...</td>\n",
              "      <td>...</td>\n",
              "      <td>...</td>\n",
              "      <td>...</td>\n",
              "      <td>...</td>\n",
              "      <td>...</td>\n",
              "      <td>...</td>\n",
              "      <td>...</td>\n",
              "      <td>...</td>\n",
              "      <td>...</td>\n",
              "      <td>...</td>\n",
              "      <td>...</td>\n",
              "    </tr>\n",
              "    <tr>\n",
              "      <th>995</th>\n",
              "      <td>no checking</td>\n",
              "      <td>12.0</td>\n",
              "      <td>existing paid</td>\n",
              "      <td>furniture/equipment</td>\n",
              "      <td>1736.0</td>\n",
              "      <td>&lt;100</td>\n",
              "      <td>4&lt;=X&lt;7</td>\n",
              "      <td>3.0</td>\n",
              "      <td>female div/dep/mar</td>\n",
              "      <td>none</td>\n",
              "      <td>...</td>\n",
              "      <td>real estate</td>\n",
              "      <td>31.0</td>\n",
              "      <td>none</td>\n",
              "      <td>own</td>\n",
              "      <td>1.0</td>\n",
              "      <td>unskilled resident</td>\n",
              "      <td>1.0</td>\n",
              "      <td>none</td>\n",
              "      <td>yes</td>\n",
              "      <td>good</td>\n",
              "    </tr>\n",
              "    <tr>\n",
              "      <th>996</th>\n",
              "      <td>&lt;0</td>\n",
              "      <td>30.0</td>\n",
              "      <td>existing paid</td>\n",
              "      <td>used car</td>\n",
              "      <td>3857.0</td>\n",
              "      <td>&lt;100</td>\n",
              "      <td>1&lt;=X&lt;4</td>\n",
              "      <td>4.0</td>\n",
              "      <td>male div/sep</td>\n",
              "      <td>none</td>\n",
              "      <td>...</td>\n",
              "      <td>life insurance</td>\n",
              "      <td>40.0</td>\n",
              "      <td>none</td>\n",
              "      <td>own</td>\n",
              "      <td>1.0</td>\n",
              "      <td>high qualif/self emp/mgmt</td>\n",
              "      <td>1.0</td>\n",
              "      <td>yes</td>\n",
              "      <td>yes</td>\n",
              "      <td>good</td>\n",
              "    </tr>\n",
              "    <tr>\n",
              "      <th>997</th>\n",
              "      <td>no checking</td>\n",
              "      <td>12.0</td>\n",
              "      <td>existing paid</td>\n",
              "      <td>radio/tv</td>\n",
              "      <td>804.0</td>\n",
              "      <td>&lt;100</td>\n",
              "      <td>&gt;=7</td>\n",
              "      <td>4.0</td>\n",
              "      <td>male single</td>\n",
              "      <td>none</td>\n",
              "      <td>...</td>\n",
              "      <td>car</td>\n",
              "      <td>38.0</td>\n",
              "      <td>none</td>\n",
              "      <td>own</td>\n",
              "      <td>1.0</td>\n",
              "      <td>skilled</td>\n",
              "      <td>1.0</td>\n",
              "      <td>none</td>\n",
              "      <td>yes</td>\n",
              "      <td>good</td>\n",
              "    </tr>\n",
              "    <tr>\n",
              "      <th>998</th>\n",
              "      <td>&lt;0</td>\n",
              "      <td>45.0</td>\n",
              "      <td>existing paid</td>\n",
              "      <td>radio/tv</td>\n",
              "      <td>1845.0</td>\n",
              "      <td>&lt;100</td>\n",
              "      <td>1&lt;=X&lt;4</td>\n",
              "      <td>4.0</td>\n",
              "      <td>male single</td>\n",
              "      <td>none</td>\n",
              "      <td>...</td>\n",
              "      <td>no known property</td>\n",
              "      <td>23.0</td>\n",
              "      <td>none</td>\n",
              "      <td>for free</td>\n",
              "      <td>1.0</td>\n",
              "      <td>skilled</td>\n",
              "      <td>1.0</td>\n",
              "      <td>yes</td>\n",
              "      <td>yes</td>\n",
              "      <td>bad</td>\n",
              "    </tr>\n",
              "    <tr>\n",
              "      <th>999</th>\n",
              "      <td>0&lt;=X&lt;200</td>\n",
              "      <td>45.0</td>\n",
              "      <td>critical/other existing credit</td>\n",
              "      <td>used car</td>\n",
              "      <td>4576.0</td>\n",
              "      <td>100&lt;=X&lt;500</td>\n",
              "      <td>unemployed</td>\n",
              "      <td>3.0</td>\n",
              "      <td>male single</td>\n",
              "      <td>none</td>\n",
              "      <td>...</td>\n",
              "      <td>car</td>\n",
              "      <td>27.0</td>\n",
              "      <td>none</td>\n",
              "      <td>own</td>\n",
              "      <td>1.0</td>\n",
              "      <td>skilled</td>\n",
              "      <td>1.0</td>\n",
              "      <td>none</td>\n",
              "      <td>yes</td>\n",
              "      <td>good</td>\n",
              "    </tr>\n",
              "  </tbody>\n",
              "</table>\n",
              "<p>1000 rows × 21 columns</p>\n",
              "</div>\n",
              "      <button class=\"colab-df-convert\" onclick=\"convertToInteractive('df-f5a89ba9-cec6-4848-835b-f5cc5b8bf317')\"\n",
              "              title=\"Convert this dataframe to an interactive table.\"\n",
              "              style=\"display:none;\">\n",
              "        \n",
              "  <svg xmlns=\"http://www.w3.org/2000/svg\" height=\"24px\"viewBox=\"0 0 24 24\"\n",
              "       width=\"24px\">\n",
              "    <path d=\"M0 0h24v24H0V0z\" fill=\"none\"/>\n",
              "    <path d=\"M18.56 5.44l.94 2.06.94-2.06 2.06-.94-2.06-.94-.94-2.06-.94 2.06-2.06.94zm-11 1L8.5 8.5l.94-2.06 2.06-.94-2.06-.94L8.5 2.5l-.94 2.06-2.06.94zm10 10l.94 2.06.94-2.06 2.06-.94-2.06-.94-.94-2.06-.94 2.06-2.06.94z\"/><path d=\"M17.41 7.96l-1.37-1.37c-.4-.4-.92-.59-1.43-.59-.52 0-1.04.2-1.43.59L10.3 9.45l-7.72 7.72c-.78.78-.78 2.05 0 2.83L4 21.41c.39.39.9.59 1.41.59.51 0 1.02-.2 1.41-.59l7.78-7.78 2.81-2.81c.8-.78.8-2.07 0-2.86zM5.41 20L4 18.59l7.72-7.72 1.47 1.35L5.41 20z\"/>\n",
              "  </svg>\n",
              "      </button>\n",
              "      \n",
              "  <style>\n",
              "    .colab-df-container {\n",
              "      display:flex;\n",
              "      flex-wrap:wrap;\n",
              "      gap: 12px;\n",
              "    }\n",
              "\n",
              "    .colab-df-convert {\n",
              "      background-color: #E8F0FE;\n",
              "      border: none;\n",
              "      border-radius: 50%;\n",
              "      cursor: pointer;\n",
              "      display: none;\n",
              "      fill: #1967D2;\n",
              "      height: 32px;\n",
              "      padding: 0 0 0 0;\n",
              "      width: 32px;\n",
              "    }\n",
              "\n",
              "    .colab-df-convert:hover {\n",
              "      background-color: #E2EBFA;\n",
              "      box-shadow: 0px 1px 2px rgba(60, 64, 67, 0.3), 0px 1px 3px 1px rgba(60, 64, 67, 0.15);\n",
              "      fill: #174EA6;\n",
              "    }\n",
              "\n",
              "    [theme=dark] .colab-df-convert {\n",
              "      background-color: #3B4455;\n",
              "      fill: #D2E3FC;\n",
              "    }\n",
              "\n",
              "    [theme=dark] .colab-df-convert:hover {\n",
              "      background-color: #434B5C;\n",
              "      box-shadow: 0px 1px 3px 1px rgba(0, 0, 0, 0.15);\n",
              "      filter: drop-shadow(0px 1px 2px rgba(0, 0, 0, 0.3));\n",
              "      fill: #FFFFFF;\n",
              "    }\n",
              "  </style>\n",
              "\n",
              "      <script>\n",
              "        const buttonEl =\n",
              "          document.querySelector('#df-f5a89ba9-cec6-4848-835b-f5cc5b8bf317 button.colab-df-convert');\n",
              "        buttonEl.style.display =\n",
              "          google.colab.kernel.accessAllowed ? 'block' : 'none';\n",
              "\n",
              "        async function convertToInteractive(key) {\n",
              "          const element = document.querySelector('#df-f5a89ba9-cec6-4848-835b-f5cc5b8bf317');\n",
              "          const dataTable =\n",
              "            await google.colab.kernel.invokeFunction('convertToInteractive',\n",
              "                                                     [key], {});\n",
              "          if (!dataTable) return;\n",
              "\n",
              "          const docLinkHtml = 'Like what you see? Visit the ' +\n",
              "            '<a target=\"_blank\" href=https://colab.research.google.com/notebooks/data_table.ipynb>data table notebook</a>'\n",
              "            + ' to learn more about interactive tables.';\n",
              "          element.innerHTML = '';\n",
              "          dataTable['output_type'] = 'display_data';\n",
              "          await google.colab.output.renderOutput(dataTable, element);\n",
              "          const docLink = document.createElement('div');\n",
              "          docLink.innerHTML = docLinkHtml;\n",
              "          element.appendChild(docLink);\n",
              "        }\n",
              "      </script>\n",
              "    </div>\n",
              "  </div>\n",
              "  "
            ]
          },
          "metadata": {},
          "execution_count": 295
        }
      ]
    },
    {
      "cell_type": "code",
      "source": [
        "# Converter target para valores numéricos\n",
        "\n",
        "from sklearn.preprocessing import LabelEncoder\n",
        "encoder = LabelEncoder()\n",
        "categories = risk_dataset.target.unique()\n",
        "encoder.fit(categories)\n",
        "target = encoder.transform(risk_dataset.target)\n",
        "target"
      ],
      "metadata": {
        "colab": {
          "base_uri": "https://localhost:8080/"
        },
        "id": "BRwkA9v6jcH0",
        "outputId": "f3ff0d43-29d7-4947-c004-c25fc6f0f08b"
      },
      "execution_count": 296,
      "outputs": [
        {
          "output_type": "execute_result",
          "data": {
            "text/plain": [
              "array([1, 0, 1, 1, 0, 1, 1, 1, 1, 0, 0, 0, 1, 0, 1, 0, 1, 1, 0, 1, 1, 1,\n",
              "       1, 1, 1, 1, 1, 1, 1, 0, 1, 1, 1, 1, 1, 0, 1, 0, 1, 1, 1, 1, 1, 1,\n",
              "       0, 1, 1, 1, 1, 1, 1, 1, 1, 1, 0, 1, 0, 1, 1, 0, 1, 1, 0, 0, 1, 1,\n",
              "       1, 1, 0, 1, 1, 1, 1, 1, 0, 1, 0, 1, 1, 1, 0, 1, 1, 1, 1, 1, 1, 0,\n",
              "       1, 0, 1, 1, 0, 1, 1, 0, 1, 1, 1, 1, 1, 1, 1, 1, 1, 0, 0, 1, 1, 1,\n",
              "       1, 1, 1, 0, 1, 1, 0, 1, 0, 1, 0, 1, 1, 1, 0, 1, 1, 0, 1, 0, 1, 0,\n",
              "       1, 1, 1, 1, 1, 0, 1, 1, 1, 1, 1, 0, 1, 1, 1, 1, 1, 1, 1, 1, 1, 1,\n",
              "       1, 0, 1, 1, 1, 1, 1, 1, 1, 1, 1, 1, 0, 1, 1, 0, 0, 1, 0, 1, 0, 0,\n",
              "       1, 1, 1, 1, 0, 0, 0, 1, 0, 1, 0, 1, 0, 1, 0, 0, 0, 1, 0, 0, 1, 0,\n",
              "       1, 0, 1, 1, 1, 0, 1, 1, 1, 1, 1, 1, 1, 1, 0, 0, 1, 1, 1, 1, 1, 1,\n",
              "       1, 1, 1, 1, 1, 1, 0, 0, 0, 1, 0, 1, 1, 1, 1, 0, 0, 0, 1, 1, 0, 1,\n",
              "       0, 1, 1, 1, 1, 1, 1, 0, 1, 1, 0, 1, 1, 1, 1, 0, 1, 1, 1, 1, 1, 1,\n",
              "       1, 0, 1, 1, 0, 1, 1, 1, 1, 0, 0, 1, 1, 1, 0, 1, 1, 1, 1, 1, 1, 1,\n",
              "       1, 1, 1, 0, 1, 0, 1, 1, 1, 0, 1, 1, 1, 1, 1, 0, 0, 1, 0, 1, 1, 0,\n",
              "       0, 1, 1, 1, 1, 0, 1, 0, 1, 1, 1, 1, 0, 0, 1, 1, 1, 1, 1, 1, 1, 1,\n",
              "       1, 0, 0, 0, 0, 0, 1, 0, 1, 1, 1, 1, 1, 1, 1, 1, 1, 1, 1, 0, 1, 0,\n",
              "       1, 0, 1, 0, 1, 0, 1, 0, 1, 1, 1, 1, 0, 1, 1, 1, 0, 1, 1, 1, 1, 1,\n",
              "       0, 0, 1, 1, 0, 1, 1, 0, 1, 1, 1, 1, 1, 1, 1, 1, 1, 1, 1, 1, 1, 1,\n",
              "       1, 1, 0, 1, 1, 1, 0, 1, 1, 0, 1, 1, 1, 0, 1, 1, 0, 1, 0, 1, 0, 1,\n",
              "       1, 0, 1, 1, 1, 1, 0, 1, 1, 1, 1, 0, 1, 0, 1, 1, 1, 0, 1, 1, 1, 0,\n",
              "       1, 1, 1, 0, 0, 1, 0, 1, 1, 0, 1, 1, 1, 1, 0, 1, 1, 0, 1, 1, 1, 1,\n",
              "       1, 1, 1, 1, 0, 1, 1, 1, 0, 0, 0, 1, 0, 0, 1, 1, 1, 1, 1, 1, 1, 1,\n",
              "       1, 0, 1, 1, 1, 1, 1, 0, 1, 1, 1, 0, 0, 1, 1, 1, 0, 1, 1, 0, 0, 0,\n",
              "       1, 0, 1, 1, 0, 1, 1, 1, 1, 1, 1, 0, 1, 1, 1, 0, 0, 1, 1, 1, 1, 1,\n",
              "       0, 1, 1, 0, 1, 1, 1, 0, 1, 1, 0, 1, 0, 1, 0, 0, 1, 0, 1, 1, 0, 1,\n",
              "       1, 1, 0, 1, 1, 0, 0, 0, 0, 0, 1, 0, 1, 0, 1, 1, 0, 1, 1, 0, 0, 1,\n",
              "       1, 1, 1, 1, 1, 1, 0, 1, 0, 1, 1, 0, 1, 0, 1, 1, 0, 0, 1, 1, 1, 0,\n",
              "       0, 0, 0, 0, 0, 1, 1, 0, 0, 0, 1, 1, 1, 0, 1, 1, 0, 0, 1, 1, 0, 1,\n",
              "       1, 1, 0, 1, 1, 0, 0, 1, 0, 1, 1, 0, 1, 1, 1, 0, 1, 0, 0, 1, 1, 1,\n",
              "       1, 0, 0, 1, 0, 1, 1, 0, 1, 0, 0, 0, 1, 0, 0, 0, 1, 1, 0, 1, 1, 1,\n",
              "       1, 0, 1, 1, 1, 1, 1, 1, 0, 1, 1, 1, 1, 1, 0, 1, 1, 0, 1, 1, 1, 1,\n",
              "       1, 1, 1, 1, 1, 1, 1, 1, 1, 1, 1, 1, 1, 1, 1, 1, 1, 1, 0, 0, 1, 1,\n",
              "       1, 1, 0, 0, 1, 1, 1, 0, 1, 1, 0, 1, 1, 1, 1, 1, 0, 0, 0, 1, 0, 1,\n",
              "       1, 0, 0, 1, 1, 0, 1, 1, 1, 1, 0, 1, 1, 0, 1, 1, 1, 1, 1, 1, 1, 0,\n",
              "       1, 1, 1, 0, 1, 1, 0, 0, 1, 0, 1, 0, 1, 0, 1, 0, 1, 1, 0, 1, 1, 1,\n",
              "       1, 0, 1, 1, 1, 0, 1, 1, 1, 1, 0, 1, 1, 0, 1, 1, 1, 1, 0, 0, 0, 1,\n",
              "       1, 1, 1, 1, 0, 1, 1, 1, 1, 1, 1, 1, 1, 0, 1, 1, 1, 0, 1, 1, 0, 0,\n",
              "       0, 1, 1, 1, 1, 0, 1, 1, 0, 1, 1, 1, 0, 0, 0, 1, 1, 0, 0, 1, 0, 0,\n",
              "       1, 1, 1, 1, 0, 1, 0, 1, 1, 1, 0, 1, 1, 0, 0, 1, 1, 0, 1, 1, 1, 1,\n",
              "       0, 1, 1, 0, 0, 1, 0, 1, 1, 1, 1, 1, 1, 1, 1, 1, 1, 1, 1, 1, 0, 1,\n",
              "       1, 1, 1, 1, 0, 0, 1, 0, 1, 1, 1, 1, 1, 1, 1, 1, 1, 1, 1, 0, 0, 1,\n",
              "       1, 1, 1, 1, 1, 1, 1, 1, 1, 0, 1, 1, 0, 0, 1, 0, 0, 0, 1, 1, 0, 1,\n",
              "       0, 0, 1, 0, 1, 1, 1, 0, 1, 1, 1, 0, 0, 1, 0, 1, 1, 1, 1, 1, 1, 1,\n",
              "       0, 1, 0, 0, 1, 0, 0, 0, 1, 1, 1, 1, 0, 1, 1, 1, 1, 0, 1, 1, 0, 1,\n",
              "       1, 1, 1, 1, 0, 0, 1, 1, 1, 1, 0, 0, 0, 0, 1, 0, 1, 1, 1, 1, 1, 1,\n",
              "       1, 1, 1, 1, 1, 1, 1, 1, 0, 1])"
            ]
          },
          "metadata": {},
          "execution_count": 296
        }
      ]
    },
    {
      "cell_type": "code",
      "source": [
        "# Converter dados para valores numéricos\n",
        "\n",
        "from sklearn.preprocessing import OrdinalEncoder\n",
        "encoder = OrdinalEncoder()\n",
        "data = encoder.fit_transform(risk_dataset.data)\n",
        "data"
      ],
      "metadata": {
        "colab": {
          "base_uri": "https://localhost:8080/"
        },
        "id": "g15DQKmtkSwQ",
        "outputId": "8e366c2b-53a1-4593-fd71-cfd57d995de0"
      },
      "execution_count": 297,
      "outputs": [
        {
          "output_type": "execute_result",
          "data": {
            "text/plain": [
              "array([[ 1.,  2.,  1., ...,  1.,  1.,  1.],\n",
              "       [ 0., 29.,  3., ...,  0.,  1.,  0.],\n",
              "       [ 3.,  8.,  1., ...,  0.,  1.,  1.],\n",
              "       ...,\n",
              "       [ 3.,  8.,  3., ...,  0.,  1.,  1.],\n",
              "       [ 1., 27.,  3., ...,  1.,  1.,  0.],\n",
              "       [ 0., 27.,  1., ...,  0.,  1.,  1.]])"
            ]
          },
          "metadata": {},
          "execution_count": 297
        }
      ]
    },
    {
      "cell_type": "code",
      "source": [
        "# Normalizar dados\n",
        "\n",
        "from sklearn.preprocessing import StandardScaler\n",
        "scaler = StandardScaler()\n",
        "data = scaler.fit_transform(data)\n",
        "data"
      ],
      "metadata": {
        "colab": {
          "base_uri": "https://localhost:8080/"
        },
        "id": "YOG76mGU-G3I",
        "outputId": "650f8918-d597-401a-dcdf-ff92e3a3fa2d"
      },
      "execution_count": 298,
      "outputs": [
        {
          "output_type": "execute_result",
          "data": {
            "text/plain": [
              "array([[-0.46, -1.56, -1.15, ...,  1.21,  0.2 ,  0.65],\n",
              "       [-1.26,  2.03,  0.73, ..., -0.82,  0.2 , -1.53],\n",
              "       [ 1.13, -0.76, -1.15, ..., -0.82,  0.2 ,  0.65],\n",
              "       ...,\n",
              "       [ 1.13, -0.76,  0.73, ..., -0.82,  0.2 ,  0.65],\n",
              "       [-0.46,  1.77,  0.73, ...,  1.21,  0.2 , -1.53],\n",
              "       [-1.26,  1.77, -1.15, ..., -0.82,  0.2 ,  0.65]])"
            ]
          },
          "metadata": {},
          "execution_count": 298
        }
      ]
    },
    {
      "cell_type": "code",
      "source": [
        "from sklearn.neighbors import KNeighborsClassifier\n",
        "from sklearn.model_selection import GridSearchCV\n",
        "\n",
        "clf = KNeighborsClassifier()\n",
        "parameters = {'n_neighbors':range(1,9)}\n",
        "knn = GridSearchCV(clf,parameters,cv=30)\n",
        "knn.fit(data,target)\n",
        "print(knn.score(data,target))\n",
        "print(knn.best_params_)"
      ],
      "metadata": {
        "colab": {
          "base_uri": "https://localhost:8080/"
        },
        "id": "ToReFiMTWSff",
        "outputId": "3a03ed31-507e-45a2-ae7c-62304ea18d6a"
      },
      "execution_count": 299,
      "outputs": [
        {
          "output_type": "stream",
          "name": "stdout",
          "text": [
            "0.989\n",
            "{'n_neighbors': 6}\n"
          ]
        }
      ]
    },
    {
      "cell_type": "code",
      "source": [
        "clf = KNeighborsClassifier(n_neighbors=6)\n",
        "clf.fit(data,target)\n",
        "print(clf.score(data,target))\n",
        "print(clf.predict_proba(data))"
      ],
      "metadata": {
        "colab": {
          "base_uri": "https://localhost:8080/"
        },
        "id": "I-aTsK3Dup4D",
        "outputId": "ef028777-ec70-4558-8081-984eb82b3e22"
      },
      "execution_count": 300,
      "outputs": [
        {
          "output_type": "stream",
          "name": "stdout",
          "text": [
            "0.989\n",
            "[[0. 1.]\n",
            " [1. 0.]\n",
            " [0. 1.]\n",
            " ...\n",
            " [0. 1.]\n",
            " [1. 0.]\n",
            " [0. 1.]]\n"
          ]
        }
      ]
    },
    {
      "cell_type": "code",
      "source": [
        "import numpy as np\n",
        "from sklearn.model_selection import train_test_split\n",
        "X_train, X_test, y_train, y_test = train_test_split(data, target, random_state=0)\n",
        "X_train, X_test, y_train, y_test"
      ],
      "metadata": {
        "colab": {
          "base_uri": "https://localhost:8080/"
        },
        "id": "HJb7eZgdzQsn",
        "outputId": "841493e6-fedd-47af-a9bb-aee0cdeafd11"
      },
      "execution_count": 301,
      "outputs": [
        {
          "output_type": "execute_result",
          "data": {
            "text/plain": [
              "(array([[ 1.13,  0.44, -0.21, ..., -0.82,  0.2 ,  0.65],\n",
              "        [ 1.13,  2.03, -2.09, ..., -0.82,  0.2 ,  0.65],\n",
              "        [ 1.13, -0.76, -1.15, ...,  1.21,  0.2 ,  0.65],\n",
              "        ...,\n",
              "        [ 1.13, -1.16,  0.73, ..., -0.82,  0.2 ,  0.65],\n",
              "        [-1.26, -0.1 , -1.15, ..., -0.82,  0.2 , -1.53],\n",
              "        [-1.26,  1.23, -0.21, ...,  1.21,  0.2 ,  0.65]]),\n",
              " array([[-0.46,  1.23,  0.73, ...,  1.21,  0.2 ,  0.65],\n",
              "        [ 1.13, -1.16,  0.73, ..., -0.82, -5.1 ,  0.65],\n",
              "        [ 1.13, -0.1 ,  0.73, ...,  1.21,  0.2 ,  0.65],\n",
              "        ...,\n",
              "        [ 1.13, -0.76, -1.15, ..., -0.82,  0.2 ,  0.65],\n",
              "        [-1.26, -0.76,  0.73, ..., -0.82,  0.2 ,  0.65],\n",
              "        [ 1.13, -1.56,  0.73, ..., -0.82,  0.2 ,  0.65]]),\n",
              " array([1, 1, 1, 1, 1, 1, 1, 1, 1, 1, 1, 1, 1, 1, 1, 0, 1, 0, 1, 0, 0, 0,\n",
              "        1, 1, 1, 1, 1, 1, 0, 0, 1, 1, 1, 1, 0, 1, 1, 1, 1, 1, 1, 1, 1, 1,\n",
              "        0, 1, 0, 1, 0, 0, 0, 0, 1, 1, 1, 1, 0, 0, 0, 1, 0, 0, 1, 1, 1, 1,\n",
              "        1, 1, 1, 1, 1, 1, 1, 0, 1, 0, 1, 0, 1, 1, 1, 1, 1, 1, 1, 1, 0, 1,\n",
              "        0, 1, 0, 1, 0, 1, 1, 0, 0, 1, 0, 0, 1, 1, 1, 1, 1, 1, 1, 0, 0, 1,\n",
              "        1, 1, 0, 0, 1, 1, 0, 1, 0, 0, 1, 0, 1, 1, 1, 0, 0, 1, 1, 1, 0, 1,\n",
              "        1, 1, 0, 0, 0, 1, 1, 0, 1, 1, 1, 1, 0, 1, 1, 0, 1, 0, 1, 1, 0, 1,\n",
              "        1, 0, 0, 1, 0, 0, 1, 1, 1, 1, 1, 1, 1, 1, 1, 0, 1, 1, 1, 1, 1, 1,\n",
              "        1, 0, 1, 0, 1, 1, 1, 1, 1, 1, 0, 1, 0, 0, 1, 1, 1, 1, 1, 1, 1, 1,\n",
              "        0, 0, 1, 0, 1, 0, 1, 1, 1, 1, 1, 0, 0, 0, 1, 1, 1, 1, 1, 1, 1, 0,\n",
              "        0, 1, 1, 1, 1, 1, 1, 0, 1, 1, 1, 1, 1, 1, 0, 1, 0, 1, 1, 0, 1, 1,\n",
              "        0, 1, 1, 0, 0, 1, 1, 0, 0, 1, 1, 1, 0, 1, 1, 1, 0, 1, 1, 1, 1, 1,\n",
              "        1, 1, 1, 1, 1, 1, 1, 0, 0, 1, 1, 1, 1, 1, 1, 1, 1, 0, 1, 1, 1, 1,\n",
              "        0, 0, 1, 1, 1, 1, 1, 1, 1, 0, 1, 0, 1, 1, 1, 1, 1, 0, 1, 1, 1, 0,\n",
              "        1, 1, 1, 1, 1, 1, 0, 1, 0, 0, 0, 0, 1, 0, 1, 0, 1, 1, 1, 1, 0, 0,\n",
              "        1, 1, 0, 1, 1, 1, 1, 0, 1, 0, 0, 1, 0, 1, 1, 0, 1, 1, 1, 1, 0, 1,\n",
              "        0, 0, 0, 0, 1, 0, 1, 0, 1, 1, 0, 1, 1, 1, 1, 0, 1, 1, 0, 0, 1, 1,\n",
              "        1, 1, 1, 1, 1, 0, 1, 1, 1, 1, 1, 0, 1, 1, 1, 1, 1, 1, 1, 0, 1, 1,\n",
              "        0, 0, 0, 0, 1, 1, 1, 1, 1, 1, 0, 1, 1, 0, 0, 1, 1, 1, 1, 0, 1, 1,\n",
              "        0, 1, 0, 1, 1, 1, 1, 0, 1, 1, 1, 1, 1, 0, 1, 0, 1, 0, 0, 0, 0, 1,\n",
              "        1, 0, 0, 1, 1, 1, 1, 1, 1, 1, 0, 0, 1, 1, 1, 0, 1, 1, 1, 1, 1, 1,\n",
              "        1, 1, 1, 1, 0, 1, 1, 1, 1, 1, 1, 1, 0, 1, 1, 0, 1, 1, 0, 0, 0, 0,\n",
              "        1, 1, 1, 1, 1, 1, 1, 1, 1, 1, 0, 1, 1, 1, 0, 1, 0, 1, 1, 1, 1, 0,\n",
              "        1, 0, 1, 1, 0, 1, 0, 1, 0, 1, 1, 1, 1, 0, 1, 1, 0, 0, 1, 0, 1, 1,\n",
              "        0, 0, 1, 1, 1, 1, 1, 1, 1, 1, 1, 1, 0, 0, 1, 0, 1, 1, 1, 1, 1, 1,\n",
              "        1, 0, 1, 0, 1, 0, 1, 1, 1, 1, 1, 1, 1, 1, 1, 0, 1, 1, 1, 1, 0, 1,\n",
              "        1, 1, 1, 1, 1, 0, 1, 0, 0, 1, 1, 1, 1, 1, 0, 0, 1, 0, 0, 1, 0, 1,\n",
              "        1, 1, 1, 0, 1, 1, 1, 1, 1, 1, 1, 0, 0, 1, 1, 1, 1, 1, 1, 1, 1, 1,\n",
              "        0, 1, 1, 1, 1, 0, 1, 0, 1, 0, 1, 1, 1, 1, 1, 0, 0, 1, 1, 0, 1, 1,\n",
              "        1, 0, 1, 1, 1, 0, 1, 0, 0, 0, 1, 0, 0, 1, 1, 1, 0, 1, 0, 1, 0, 0,\n",
              "        1, 1, 1, 1, 1, 1, 1, 0, 1, 0, 0, 1, 1, 1, 1, 1, 1, 0, 0, 1, 1, 1,\n",
              "        1, 1, 1, 0, 1, 1, 1, 1, 1, 1, 0, 1, 1, 1, 0, 0, 1, 0, 1, 0, 1, 1,\n",
              "        1, 1, 1, 1, 0, 1, 1, 0, 1, 0, 1, 1, 0, 1, 1, 1, 1, 1, 1, 0, 0, 0,\n",
              "        0, 0, 1, 1, 1, 1, 1, 1, 0, 1, 1, 1, 0, 1, 1, 0, 0, 0, 0, 0, 0, 1,\n",
              "        0, 1]),\n",
              " array([1, 1, 1, 1, 1, 1, 1, 1, 1, 0, 0, 0, 1, 1, 0, 1, 1, 0, 1, 1, 1, 1,\n",
              "        1, 1, 1, 0, 1, 1, 1, 0, 1, 1, 0, 0, 1, 0, 1, 1, 0, 1, 0, 1, 1, 1,\n",
              "        1, 0, 0, 1, 1, 1, 0, 0, 1, 1, 0, 1, 1, 1, 1, 1, 0, 1, 1, 1, 1, 1,\n",
              "        1, 0, 0, 1, 1, 1, 1, 1, 1, 0, 1, 0, 0, 1, 1, 1, 1, 1, 1, 1, 0, 1,\n",
              "        1, 1, 1, 1, 1, 1, 1, 0, 1, 1, 1, 1, 1, 1, 1, 1, 1, 1, 1, 0, 0, 1,\n",
              "        1, 0, 0, 1, 1, 1, 0, 1, 1, 1, 0, 1, 1, 0, 1, 1, 1, 1, 1, 1, 0, 1,\n",
              "        0, 1, 1, 0, 1, 1, 1, 1, 1, 1, 1, 0, 0, 0, 1, 1, 0, 1, 1, 1, 1, 0,\n",
              "        1, 1, 0, 1, 1, 1, 0, 1, 1, 0, 0, 0, 0, 1, 0, 1, 1, 1, 1, 0, 1, 0,\n",
              "        0, 0, 1, 1, 1, 1, 1, 0, 1, 0, 1, 1, 1, 1, 0, 0, 0, 1, 1, 1, 0, 1,\n",
              "        0, 1, 1, 0, 0, 0, 1, 1, 0, 1, 1, 1, 0, 1, 0, 1, 1, 1, 1, 1, 1, 0,\n",
              "        0, 1, 1, 1, 1, 1, 1, 0, 0, 1, 1, 0, 0, 1, 0, 1, 1, 1, 1, 0, 0, 1,\n",
              "        1, 0, 1, 1, 1, 1, 1, 1]))"
            ]
          },
          "metadata": {},
          "execution_count": 301
        }
      ]
    },
    {
      "cell_type": "code",
      "source": [
        "y_pred = clf.fit(X_train, y_train).predict(X_test)"
      ],
      "metadata": {
        "id": "hoRnrgfdzk2i"
      },
      "execution_count": 302,
      "outputs": []
    },
    {
      "cell_type": "code",
      "source": [
        "# Parâmetros gerais para ConfusionMatrixDisplay\n",
        "\n",
        "import matplotlib.pyplot as plt\n",
        "from sklearn.metrics import ConfusionMatrixDisplay\n",
        "\n",
        "class_names = risk_dataset.target.unique()\n",
        "color_map = plt.cm.Blues\n",
        "options = [\n",
        "    (\"Confusion matrix, without normalization\", None),\n",
        "    (\"Confusion matrix, normalized\", \"true\"),\n",
        "]"
      ],
      "metadata": {
        "id": "i0Blg-q4GQEJ"
      },
      "execution_count": 303,
      "outputs": []
    },
    {
      "cell_type": "code",
      "source": [
        "method = 'KNeighborsClassifier'\n",
        "for title, normalize in options:\n",
        "    disp = ConfusionMatrixDisplay.from_predictions(y_test, y_pred, display_labels=class_names,normalize=normalize,cmap=color_map)\n",
        "    disp.ax_.set_title(method+' -  '+title)\n",
        "plt.show()"
      ],
      "metadata": {
        "id": "9sO5LCicxa46",
        "outputId": "454972c1-3016-43fe-bd4f-66c243dcf15b",
        "colab": {
          "base_uri": "https://localhost:8080/",
          "height": 573
        }
      },
      "execution_count": 304,
      "outputs": [
        {
          "output_type": "display_data",
          "data": {
            "text/plain": [
              "<Figure size 432x288 with 2 Axes>"
            ],
            "image/png": "[encoded data removed]"
          },
          "metadata": {
            "needs_background": "light"
          }
        },
        {
          "output_type": "display_data",
          "data": {
            "text/plain": [
              "<Figure size 432x288 with 2 Axes>"
            ],
            "image/png": "[encoded data removed]"
          },
          "metadata": {
            "needs_background": "light"
          }
        }
      ]
    },
    {
      "cell_type": "code",
      "source": [
        "from sklearn.discriminant_analysis import LinearDiscriminantAnalysis\n",
        "\n",
        "lda = LinearDiscriminantAnalysis()\n",
        "lda.fit(data,target)\n",
        "print(lda.score(data,target))\n",
        "print(lda.predict_proba(data))\n",
        "print(lda.explained_variance_ratio_)\n"
      ],
      "metadata": {
        "colab": {
          "base_uri": "https://localhost:8080/"
        },
        "id": "UiwHf6QTE9Qx",
        "outputId": "a457f50a-46e8-4405-fc1d-0bab5ae83a0c"
      },
      "execution_count": 305,
      "outputs": [
        {
          "output_type": "stream",
          "name": "stdout",
          "text": [
            "1.0\n",
            "[[0. 1.]\n",
            " [1. 0.]\n",
            " [0. 1.]\n",
            " ...\n",
            " [0. 1.]\n",
            " [1. 0.]\n",
            " [0. 1.]]\n",
            "[1.]\n"
          ]
        }
      ]
    },
    {
      "cell_type": "code",
      "source": [
        "y_pred = lda.fit(X_train, y_train).predict(X_test)\n"
      ],
      "metadata": {
        "id": "KdCwMxz-Fqxg"
      },
      "execution_count": 306,
      "outputs": []
    },
    {
      "cell_type": "code",
      "source": [
        "method = 'LinearDiscriminantAnalysis'\n",
        "for title, normalize in options:\n",
        "    disp = ConfusionMatrixDisplay.from_predictions(y_test, y_pred, display_labels=class_names,normalize=normalize,cmap=color_map)\n",
        "    disp.ax_.set_title(method+' -  '+title)\n",
        "plt.show()"
      ],
      "metadata": {
        "colab": {
          "base_uri": "https://localhost:8080/",
          "height": 573
        },
        "id": "Y02vZOvAIQtk",
        "outputId": "b3d6efb7-9722-4258-e1b4-6662acb1be8e"
      },
      "execution_count": 307,
      "outputs": [
        {
          "output_type": "display_data",
          "data": {
            "text/plain": [
              "<Figure size 432x288 with 2 Axes>"
            ],
            "image/png": "[encoded data removed]"
          },
          "metadata": {
            "needs_background": "light"
          }
        },
        {
          "output_type": "display_data",
          "data": {
            "text/plain": [
              "<Figure size 432x288 with 2 Axes>"
            ],
            "image/png": "[encoded data removed]"
          },
          "metadata": {
            "needs_background": "light"
          }
        }
      ]
    },
    {
      "cell_type": "code",
      "source": [
        "from sklearn.discriminant_analysis import QuadraticDiscriminantAnalysis\n",
        "\n",
        "qda = QuadraticDiscriminantAnalysis()\n",
        "qda.fit(data,target)\n",
        "print(qda.score(data,target))\n",
        "print(qda.predict_proba(data))\n"
      ],
      "metadata": {
        "colab": {
          "base_uri": "https://localhost:8080/"
        },
        "id": "ONmXK70tIwk0",
        "outputId": "c5b7563e-f566-4e3b-dee9-1839982e2a9d"
      },
      "execution_count": 308,
      "outputs": [
        {
          "output_type": "stream",
          "name": "stdout",
          "text": [
            "1.0\n",
            "[[0. 1.]\n",
            " [1. 0.]\n",
            " [0. 1.]\n",
            " ...\n",
            " [0. 1.]\n",
            " [1. 0.]\n",
            " [0. 1.]]\n"
          ]
        },
        {
          "output_type": "stream",
          "name": "stderr",
          "text": [
            "/usr/local/lib/python3.8/dist-packages/sklearn/discriminant_analysis.py:878: UserWarning: Variables are collinear\n",
            "  warnings.warn(\"Variables are collinear\")\n"
          ]
        }
      ]
    },
    {
      "cell_type": "code",
      "source": [
        "y_pred = qda.fit(X_train, y_train).predict(X_test)"
      ],
      "metadata": {
        "id": "S8OkrCuK2k_R",
        "outputId": "bf4e9584-0fd5-4e10-dfdb-c49795d618c0",
        "colab": {
          "base_uri": "https://localhost:8080/"
        }
      },
      "execution_count": 309,
      "outputs": [
        {
          "output_type": "stream",
          "name": "stderr",
          "text": [
            "/usr/local/lib/python3.8/dist-packages/sklearn/discriminant_analysis.py:878: UserWarning: Variables are collinear\n",
            "  warnings.warn(\"Variables are collinear\")\n"
          ]
        }
      ]
    },
    {
      "cell_type": "code",
      "source": [
        "method = 'QuadraticDiscriminantAnalysis'\n",
        "for title, normalize in options:\n",
        "    disp = ConfusionMatrixDisplay.from_predictions(y_test, y_pred, display_labels=class_names,normalize=normalize,cmap=color_map)\n",
        "    disp.ax_.set_title(method+' -  '+title)\n",
        "plt.show()"
      ],
      "metadata": {
        "colab": {
          "base_uri": "https://localhost:8080/",
          "height": 573
        },
        "id": "jExpOgltI5LC",
        "outputId": "f8ef4454-87f9-441c-f34b-dd204d47473e"
      },
      "execution_count": 310,
      "outputs": [
        {
          "output_type": "display_data",
          "data": {
            "text/plain": [
              "<Figure size 432x288 with 2 Axes>"
            ],
            "image/png": "[encoded data removed]"
          },
          "metadata": {
            "needs_background": "light"
          }
        },
        {
          "output_type": "display_data",
          "data": {
            "text/plain": [
              "<Figure size 432x288 with 2 Axes>"
            ],
            "image/png": "[encoded data removed]"
          },
          "metadata": {
            "needs_background": "light"
          }
        }
      ]
    },
    {
      "cell_type": "code",
      "source": [
        "from sklearn.svm import SVC\n",
        "\n",
        "svc = SVC(gamma=\"scale\")\n",
        "svc.fit(data,target)\n",
        "print(svc.score(data,target))\n",
        "print(svc.predict(data))"
      ],
      "metadata": {
        "colab": {
          "base_uri": "https://localhost:8080/"
        },
        "id": "DYStx7Y8JyHv",
        "outputId": "c77890c1-41ae-44c2-c405-386b170e66c1"
      },
      "execution_count": 311,
      "outputs": [
        {
          "output_type": "stream",
          "name": "stdout",
          "text": [
            "1.0\n",
            "[1 0 1 1 0 1 1 1 1 0 0 0 1 0 1 0 1 1 0 1 1 1 1 1 1 1 1 1 1 0 1 1 1 1 1 0 1\n",
            " 0 1 1 1 1 1 1 0 1 1 1 1 1 1 1 1 1 0 1 0 1 1 0 1 1 0 0 1 1 1 1 0 1 1 1 1 1\n",
            " 0 1 0 1 1 1 0 1 1 1 1 1 1 0 1 0 1 1 0 1 1 0 1 1 1 1 1 1 1 1 1 0 0 1 1 1 1\n",
            " 1 1 0 1 1 0 1 0 1 0 1 1 1 0 1 1 0 1 0 1 0 1 1 1 1 1 0 1 1 1 1 1 0 1 1 1 1\n",
            " 1 1 1 1 1 1 1 0 1 1 1 1 1 1 1 1 1 1 0 1 1 0 0 1 0 1 0 0 1 1 1 1 0 0 0 1 0\n",
            " 1 0 1 0 1 0 0 0 1 0 0 1 0 1 0 1 1 1 0 1 1 1 1 1 1 1 1 0 0 1 1 1 1 1 1 1 1\n",
            " 1 1 1 1 0 0 0 1 0 1 1 1 1 0 0 0 1 1 0 1 0 1 1 1 1 1 1 0 1 1 0 1 1 1 1 0 1\n",
            " 1 1 1 1 1 1 0 1 1 0 1 1 1 1 0 0 1 1 1 0 1 1 1 1 1 1 1 1 1 1 0 1 0 1 1 1 0\n",
            " 1 1 1 1 1 0 0 1 0 1 1 0 0 1 1 1 1 0 1 0 1 1 1 1 0 0 1 1 1 1 1 1 1 1 1 0 0\n",
            " 0 0 0 1 0 1 1 1 1 1 1 1 1 1 1 1 0 1 0 1 0 1 0 1 0 1 0 1 1 1 1 0 1 1 1 0 1\n",
            " 1 1 1 1 0 0 1 1 0 1 1 0 1 1 1 1 1 1 1 1 1 1 1 1 1 1 1 1 0 1 1 1 0 1 1 0 1\n",
            " 1 1 0 1 1 0 1 0 1 0 1 1 0 1 1 1 1 0 1 1 1 1 0 1 0 1 1 1 0 1 1 1 0 1 1 1 0\n",
            " 0 1 0 1 1 0 1 1 1 1 0 1 1 0 1 1 1 1 1 1 1 1 0 1 1 1 0 0 0 1 0 0 1 1 1 1 1\n",
            " 1 1 1 1 0 1 1 1 1 1 0 1 1 1 0 0 1 1 1 0 1 1 0 0 0 1 0 1 1 0 1 1 1 1 1 1 0\n",
            " 1 1 1 0 0 1 1 1 1 1 0 1 1 0 1 1 1 0 1 1 0 1 0 1 0 0 1 0 1 1 0 1 1 1 0 1 1\n",
            " 0 0 0 0 0 1 0 1 0 1 1 0 1 1 0 0 1 1 1 1 1 1 1 0 1 0 1 1 0 1 0 1 1 0 0 1 1\n",
            " 1 0 0 0 0 0 0 1 1 0 0 0 1 1 1 0 1 1 0 0 1 1 0 1 1 1 0 1 1 0 0 1 0 1 1 0 1\n",
            " 1 1 0 1 0 0 1 1 1 1 0 0 1 0 1 1 0 1 0 0 0 1 0 0 0 1 1 0 1 1 1 1 0 1 1 1 1\n",
            " 1 1 0 1 1 1 1 1 0 1 1 0 1 1 1 1 1 1 1 1 1 1 1 1 1 1 1 1 1 1 1 1 1 1 0 0 1\n",
            " 1 1 1 0 0 1 1 1 0 1 1 0 1 1 1 1 1 0 0 0 1 0 1 1 0 0 1 1 0 1 1 1 1 0 1 1 0\n",
            " 1 1 1 1 1 1 1 0 1 1 1 0 1 1 0 0 1 0 1 0 1 0 1 0 1 1 0 1 1 1 1 0 1 1 1 0 1\n",
            " 1 1 1 0 1 1 0 1 1 1 1 0 0 0 1 1 1 1 1 0 1 1 1 1 1 1 1 1 0 1 1 1 0 1 1 0 0\n",
            " 0 1 1 1 1 0 1 1 0 1 1 1 0 0 0 1 1 0 0 1 0 0 1 1 1 1 0 1 0 1 1 1 0 1 1 0 0\n",
            " 1 1 0 1 1 1 1 0 1 1 0 0 1 0 1 1 1 1 1 1 1 1 1 1 1 1 1 0 1 1 1 1 1 0 0 1 0\n",
            " 1 1 1 1 1 1 1 1 1 1 1 0 0 1 1 1 1 1 1 1 1 1 1 0 1 1 0 0 1 0 0 0 1 1 0 1 0\n",
            " 0 1 0 1 1 1 0 1 1 1 0 0 1 0 1 1 1 1 1 1 1 0 1 0 0 1 0 0 0 1 1 1 1 0 1 1 1\n",
            " 1 0 1 1 0 1 1 1 1 1 0 0 1 1 1 1 0 0 0 0 1 0 1 1 1 1 1 1 1 1 1 1 1 1 1 1 0\n",
            " 1]\n"
          ]
        }
      ]
    },
    {
      "cell_type": "code",
      "source": [
        "y_pred = svc.fit(X_train, y_train).predict(X_test)"
      ],
      "metadata": {
        "id": "0vCwsSolMOd1"
      },
      "execution_count": 312,
      "outputs": []
    },
    {
      "cell_type": "code",
      "source": [
        "method = 'SVC'\n",
        "for title, normalize in options:\n",
        "    disp = ConfusionMatrixDisplay.from_predictions(y_test, y_pred, display_labels=class_names,normalize=normalize,cmap=color_map)\n",
        "    disp.ax_.set_title(method+' -  '+title)\n",
        "plt.show()"
      ],
      "metadata": {
        "colab": {
          "base_uri": "https://localhost:8080/",
          "height": 573
        },
        "id": "sPq1eXA1J3vC",
        "outputId": "ec9f3a45-87dd-4998-f806-d4721f8ce688"
      },
      "execution_count": 313,
      "outputs": [
        {
          "output_type": "display_data",
          "data": {
            "text/plain": [
              "<Figure size 432x288 with 2 Axes>"
            ],
            "image/png": "[encoded data removed]"
          },
          "metadata": {
            "needs_background": "light"
          }
        },
        {
          "output_type": "display_data",
          "data": {
            "text/plain": [
              "<Figure size 432x288 with 2 Axes>"
            ],
            "image/png": "[encoded data removed]"
          },
          "metadata": {
            "needs_background": "light"
          }
        }
      ]
    }
  ]
}