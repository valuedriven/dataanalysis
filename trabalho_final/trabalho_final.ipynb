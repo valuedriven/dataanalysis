{
  "nbformat": 4,
  "nbformat_minor": 0,
  "metadata": {
    "colab": {
      "provenance": [],
      "toc_visible": true,
      "authorship_tag": "ABX9TyPV1iAbgPFTop+iiMtf1Xfr",
      "include_colab_link": true
    },
    "kernelspec": {
      "name": "python3",
      "display_name": "Python 3"
    },
    "language_info": {
      "name": "python"
    }
  },
  "cells": [
    {
      "cell_type": "markdown",
      "metadata": {
        "id": "view-in-github",
        "colab_type": "text"
      },
      "source": [
        "<a href=\"https://colab.research.google.com/github/valuedriven/dataanalysis/blob/master/trabalho_final/trabalho_final.ipynb\" target=\"_parent\"><img src=\"https://colab.research.google.com/assets/colab-badge.svg\" alt=\"Open In Colab\"/></a>"
      ]
    },
    {
      "cell_type": "markdown",
      "source": [
        "# Visão geral\n",
        "\n",
        "\n",
        "Este notebook trata o conjunto de dados German Credit Data, disponível no site OpenML, que classifica o risco de crédito para pessoas a partir de um conjunto de atributos.\n",
        "\n",
        "Estão contempladas as atividades de obtenção de dados, entendimento de dados, preparação de dados, modelagem e avaliação.\n"
      ],
      "metadata": {
        "id": "4JTxm8YeehUT"
      }
    },
    {
      "cell_type": "markdown",
      "source": [
        "# Obtenção dos dados"
      ],
      "metadata": {
        "id": "wdN4HTFxqneN"
      }
    },
    {
      "cell_type": "code",
      "execution_count": 921,
      "metadata": {
        "id": "9F9vITDBz5Hw",
        "colab": {
          "base_uri": "https://localhost:8080/"
        },
        "outputId": "fc7ed1b7-d3f6-4df7-f5f1-aaff892b3e6a"
      },
      "outputs": [
        {
          "output_type": "stream",
          "name": "stdout",
          "text": [
            "**Author**: Dr. Hans Hofmann  \n",
            "**Source**: [UCI](https://archive.ics.uci.edu/ml/datasets/statlog+(german+credit+data)) - 1994    \n",
            "**Please cite**: [UCI](https://archive.ics.uci.edu/ml/citation_policy.html)\n",
            "\n",
            "**German Credit dataset**  \n",
            "This dataset classifies people described by a set of attributes as good or bad credit risks.\n",
            "\n",
            "This dataset comes with a cost matrix: \n",
            "``` \n",
            "Good  Bad (predicted)  \n",
            "Good   0    1   (actual)  \n",
            "Bad    5    0  \n",
            "```\n",
            "\n",
            "It is worse to class a customer as good when they are bad (5), than it is to class a customer as bad when they are good (1).  \n",
            "\n",
            "### Attribute description  \n",
            "\n",
            "1. Status of the existing checking account, in Deutsche Mark.  \n",
            "2. Duration in months  \n",
            "3. Credit history (credits taken, paid back duly, delays, critical accounts)  \n",
            "4. Purpose of the credit (car, television,...)  \n",
            "5. Credit amount  \n",
            "6. Status of savings account/bonds, in Deutsche Mark.  \n",
            "7. Present employment, in number of years.  \n",
            "8. Installment rate in percentage of disposable income  \n",
            "9. Personal status (married, single,...) and sex  \n",
            "10. Other debtors / guarantors  \n",
            "11. Present residence since X years  \n",
            "12. Property (e.g. real estate)  \n",
            "13. Age in years  \n",
            "14. Other installment plans (banks, stores)  \n",
            "15. Housing (rent, own,...)  \n",
            "16. Number of existing credits at this bank  \n",
            "17. Job  \n",
            "18. Number of people being liable to provide maintenance for  \n",
            "19. Telephone (yes,no)  \n",
            "20. Foreign worker (yes,no)\n",
            "\n",
            "Downloaded from openml.org.\n"
          ]
        }
      ],
      "source": [
        "dataset = 'credit-g'\n",
        "from sklearn.datasets import fetch_openml\n",
        "risk_dataset = fetch_openml(name=dataset,version='1')\n",
        "print(risk_dataset.DESCR)"
      ]
    },
    {
      "cell_type": "code",
      "source": [
        "risk_dataset.data"
      ],
      "metadata": {
        "colab": {
          "base_uri": "https://localhost:8080/",
          "height": 592
        },
        "id": "06wxlZMMBrpK",
        "outputId": "0558ab36-a7c5-46a9-b566-d15069e4eebd"
      },
      "execution_count": 922,
      "outputs": [
        {
          "output_type": "execute_result",
          "data": {
            "text/plain": [
              "    checking_status  duration                  credit_history  \\\n",
              "0                <0       6.0  critical/other existing credit   \n",
              "1          0<=X<200      48.0                   existing paid   \n",
              "2       no checking      12.0  critical/other existing credit   \n",
              "3                <0      42.0                   existing paid   \n",
              "4                <0      24.0              delayed previously   \n",
              "..              ...       ...                             ...   \n",
              "995     no checking      12.0                   existing paid   \n",
              "996              <0      30.0                   existing paid   \n",
              "997     no checking      12.0                   existing paid   \n",
              "998              <0      45.0                   existing paid   \n",
              "999        0<=X<200      45.0  critical/other existing credit   \n",
              "\n",
              "                 purpose  credit_amount    savings_status  employment  \\\n",
              "0               radio/tv         1169.0  no known savings         >=7   \n",
              "1               radio/tv         5951.0              <100      1<=X<4   \n",
              "2              education         2096.0              <100      4<=X<7   \n",
              "3    furniture/equipment         7882.0              <100      4<=X<7   \n",
              "4                new car         4870.0              <100      1<=X<4   \n",
              "..                   ...            ...               ...         ...   \n",
              "995  furniture/equipment         1736.0              <100      4<=X<7   \n",
              "996             used car         3857.0              <100      1<=X<4   \n",
              "997             radio/tv          804.0              <100         >=7   \n",
              "998             radio/tv         1845.0              <100      1<=X<4   \n",
              "999             used car         4576.0        100<=X<500  unemployed   \n",
              "\n",
              "     installment_commitment     personal_status other_parties  \\\n",
              "0                       4.0         male single          none   \n",
              "1                       2.0  female div/dep/mar          none   \n",
              "2                       2.0         male single          none   \n",
              "3                       2.0         male single     guarantor   \n",
              "4                       3.0         male single          none   \n",
              "..                      ...                 ...           ...   \n",
              "995                     3.0  female div/dep/mar          none   \n",
              "996                     4.0        male div/sep          none   \n",
              "997                     4.0         male single          none   \n",
              "998                     4.0         male single          none   \n",
              "999                     3.0         male single          none   \n",
              "\n",
              "     residence_since property_magnitude   age other_payment_plans   housing  \\\n",
              "0                4.0        real estate  67.0                none       own   \n",
              "1                2.0        real estate  22.0                none       own   \n",
              "2                3.0        real estate  49.0                none       own   \n",
              "3                4.0     life insurance  45.0                none  for free   \n",
              "4                4.0  no known property  53.0                none  for free   \n",
              "..               ...                ...   ...                 ...       ...   \n",
              "995              4.0        real estate  31.0                none       own   \n",
              "996              4.0     life insurance  40.0                none       own   \n",
              "997              4.0                car  38.0                none       own   \n",
              "998              4.0  no known property  23.0                none  for free   \n",
              "999              4.0                car  27.0                none       own   \n",
              "\n",
              "     existing_credits                        job  num_dependents  \\\n",
              "0                 2.0                    skilled             1.0   \n",
              "1                 1.0                    skilled             1.0   \n",
              "2                 1.0         unskilled resident             2.0   \n",
              "3                 1.0                    skilled             2.0   \n",
              "4                 2.0                    skilled             2.0   \n",
              "..                ...                        ...             ...   \n",
              "995               1.0         unskilled resident             1.0   \n",
              "996               1.0  high qualif/self emp/mgmt             1.0   \n",
              "997               1.0                    skilled             1.0   \n",
              "998               1.0                    skilled             1.0   \n",
              "999               1.0                    skilled             1.0   \n",
              "\n",
              "    own_telephone foreign_worker  \n",
              "0             yes            yes  \n",
              "1            none            yes  \n",
              "2            none            yes  \n",
              "3            none            yes  \n",
              "4            none            yes  \n",
              "..            ...            ...  \n",
              "995          none            yes  \n",
              "996           yes            yes  \n",
              "997          none            yes  \n",
              "998           yes            yes  \n",
              "999          none            yes  \n",
              "\n",
              "[1000 rows x 20 columns]"
            ],
            "text/html": [
              "\n",
              "  <div id=\"df-77c4e2dc-67ad-4cd7-894f-9ae0bac140fd\">\n",
              "    <div class=\"colab-df-container\">\n",
              "      <div>\n",
              "<style scoped>\n",
              "    .dataframe tbody tr th:only-of-type {\n",
              "        vertical-align: middle;\n",
              "    }\n",
              "\n",
              "    .dataframe tbody tr th {\n",
              "        vertical-align: top;\n",
              "    }\n",
              "\n",
              "    .dataframe thead th {\n",
              "        text-align: right;\n",
              "    }\n",
              "</style>\n",
              "<table border=\"1\" class=\"dataframe\">\n",
              "  <thead>\n",
              "    <tr style=\"text-align: right;\">\n",
              "      <th></th>\n",
              "      <th>checking_status</th>\n",
              "      <th>duration</th>\n",
              "      <th>credit_history</th>\n",
              "      <th>purpose</th>\n",
              "      <th>credit_amount</th>\n",
              "      <th>savings_status</th>\n",
              "      <th>employment</th>\n",
              "      <th>installment_commitment</th>\n",
              "      <th>personal_status</th>\n",
              "      <th>other_parties</th>\n",
              "      <th>residence_since</th>\n",
              "      <th>property_magnitude</th>\n",
              "      <th>age</th>\n",
              "      <th>other_payment_plans</th>\n",
              "      <th>housing</th>\n",
              "      <th>existing_credits</th>\n",
              "      <th>job</th>\n",
              "      <th>num_dependents</th>\n",
              "      <th>own_telephone</th>\n",
              "      <th>foreign_worker</th>\n",
              "    </tr>\n",
              "  </thead>\n",
              "  <tbody>\n",
              "    <tr>\n",
              "      <th>0</th>\n",
              "      <td>&lt;0</td>\n",
              "      <td>6.0</td>\n",
              "      <td>critical/other existing credit</td>\n",
              "      <td>radio/tv</td>\n",
              "      <td>1169.0</td>\n",
              "      <td>no known savings</td>\n",
              "      <td>&gt;=7</td>\n",
              "      <td>4.0</td>\n",
              "      <td>male single</td>\n",
              "      <td>none</td>\n",
              "      <td>4.0</td>\n",
              "      <td>real estate</td>\n",
              "      <td>67.0</td>\n",
              "      <td>none</td>\n",
              "      <td>own</td>\n",
              "      <td>2.0</td>\n",
              "      <td>skilled</td>\n",
              "      <td>1.0</td>\n",
              "      <td>yes</td>\n",
              "      <td>yes</td>\n",
              "    </tr>\n",
              "    <tr>\n",
              "      <th>1</th>\n",
              "      <td>0&lt;=X&lt;200</td>\n",
              "      <td>48.0</td>\n",
              "      <td>existing paid</td>\n",
              "      <td>radio/tv</td>\n",
              "      <td>5951.0</td>\n",
              "      <td>&lt;100</td>\n",
              "      <td>1&lt;=X&lt;4</td>\n",
              "      <td>2.0</td>\n",
              "      <td>female div/dep/mar</td>\n",
              "      <td>none</td>\n",
              "      <td>2.0</td>\n",
              "      <td>real estate</td>\n",
              "      <td>22.0</td>\n",
              "      <td>none</td>\n",
              "      <td>own</td>\n",
              "      <td>1.0</td>\n",
              "      <td>skilled</td>\n",
              "      <td>1.0</td>\n",
              "      <td>none</td>\n",
              "      <td>yes</td>\n",
              "    </tr>\n",
              "    <tr>\n",
              "      <th>2</th>\n",
              "      <td>no checking</td>\n",
              "      <td>12.0</td>\n",
              "      <td>critical/other existing credit</td>\n",
              "      <td>education</td>\n",
              "      <td>2096.0</td>\n",
              "      <td>&lt;100</td>\n",
              "      <td>4&lt;=X&lt;7</td>\n",
              "      <td>2.0</td>\n",
              "      <td>male single</td>\n",
              "      <td>none</td>\n",
              "      <td>3.0</td>\n",
              "      <td>real estate</td>\n",
              "      <td>49.0</td>\n",
              "      <td>none</td>\n",
              "      <td>own</td>\n",
              "      <td>1.0</td>\n",
              "      <td>unskilled resident</td>\n",
              "      <td>2.0</td>\n",
              "      <td>none</td>\n",
              "      <td>yes</td>\n",
              "    </tr>\n",
              "    <tr>\n",
              "      <th>3</th>\n",
              "      <td>&lt;0</td>\n",
              "      <td>42.0</td>\n",
              "      <td>existing paid</td>\n",
              "      <td>furniture/equipment</td>\n",
              "      <td>7882.0</td>\n",
              "      <td>&lt;100</td>\n",
              "      <td>4&lt;=X&lt;7</td>\n",
              "      <td>2.0</td>\n",
              "      <td>male single</td>\n",
              "      <td>guarantor</td>\n",
              "      <td>4.0</td>\n",
              "      <td>life insurance</td>\n",
              "      <td>45.0</td>\n",
              "      <td>none</td>\n",
              "      <td>for free</td>\n",
              "      <td>1.0</td>\n",
              "      <td>skilled</td>\n",
              "      <td>2.0</td>\n",
              "      <td>none</td>\n",
              "      <td>yes</td>\n",
              "    </tr>\n",
              "    <tr>\n",
              "      <th>4</th>\n",
              "      <td>&lt;0</td>\n",
              "      <td>24.0</td>\n",
              "      <td>delayed previously</td>\n",
              "      <td>new car</td>\n",
              "      <td>4870.0</td>\n",
              "      <td>&lt;100</td>\n",
              "      <td>1&lt;=X&lt;4</td>\n",
              "      <td>3.0</td>\n",
              "      <td>male single</td>\n",
              "      <td>none</td>\n",
              "      <td>4.0</td>\n",
              "      <td>no known property</td>\n",
              "      <td>53.0</td>\n",
              "      <td>none</td>\n",
              "      <td>for free</td>\n",
              "      <td>2.0</td>\n",
              "      <td>skilled</td>\n",
              "      <td>2.0</td>\n",
              "      <td>none</td>\n",
              "      <td>yes</td>\n",
              "    </tr>\n",
              "    <tr>\n",
              "      <th>...</th>\n",
              "      <td>...</td>\n",
              "      <td>...</td>\n",
              "      <td>...</td>\n",
              "      <td>...</td>\n",
              "      <td>...</td>\n",
              "      <td>...</td>\n",
              "      <td>...</td>\n",
              "      <td>...</td>\n",
              "      <td>...</td>\n",
              "      <td>...</td>\n",
              "      <td>...</td>\n",
              "      <td>...</td>\n",
              "      <td>...</td>\n",
              "      <td>...</td>\n",
              "      <td>...</td>\n",
              "      <td>...</td>\n",
              "      <td>...</td>\n",
              "      <td>...</td>\n",
              "      <td>...</td>\n",
              "      <td>...</td>\n",
              "    </tr>\n",
              "    <tr>\n",
              "      <th>995</th>\n",
              "      <td>no checking</td>\n",
              "      <td>12.0</td>\n",
              "      <td>existing paid</td>\n",
              "      <td>furniture/equipment</td>\n",
              "      <td>1736.0</td>\n",
              "      <td>&lt;100</td>\n",
              "      <td>4&lt;=X&lt;7</td>\n",
              "      <td>3.0</td>\n",
              "      <td>female div/dep/mar</td>\n",
              "      <td>none</td>\n",
              "      <td>4.0</td>\n",
              "      <td>real estate</td>\n",
              "      <td>31.0</td>\n",
              "      <td>none</td>\n",
              "      <td>own</td>\n",
              "      <td>1.0</td>\n",
              "      <td>unskilled resident</td>\n",
              "      <td>1.0</td>\n",
              "      <td>none</td>\n",
              "      <td>yes</td>\n",
              "    </tr>\n",
              "    <tr>\n",
              "      <th>996</th>\n",
              "      <td>&lt;0</td>\n",
              "      <td>30.0</td>\n",
              "      <td>existing paid</td>\n",
              "      <td>used car</td>\n",
              "      <td>3857.0</td>\n",
              "      <td>&lt;100</td>\n",
              "      <td>1&lt;=X&lt;4</td>\n",
              "      <td>4.0</td>\n",
              "      <td>male div/sep</td>\n",
              "      <td>none</td>\n",
              "      <td>4.0</td>\n",
              "      <td>life insurance</td>\n",
              "      <td>40.0</td>\n",
              "      <td>none</td>\n",
              "      <td>own</td>\n",
              "      <td>1.0</td>\n",
              "      <td>high qualif/self emp/mgmt</td>\n",
              "      <td>1.0</td>\n",
              "      <td>yes</td>\n",
              "      <td>yes</td>\n",
              "    </tr>\n",
              "    <tr>\n",
              "      <th>997</th>\n",
              "      <td>no checking</td>\n",
              "      <td>12.0</td>\n",
              "      <td>existing paid</td>\n",
              "      <td>radio/tv</td>\n",
              "      <td>804.0</td>\n",
              "      <td>&lt;100</td>\n",
              "      <td>&gt;=7</td>\n",
              "      <td>4.0</td>\n",
              "      <td>male single</td>\n",
              "      <td>none</td>\n",
              "      <td>4.0</td>\n",
              "      <td>car</td>\n",
              "      <td>38.0</td>\n",
              "      <td>none</td>\n",
              "      <td>own</td>\n",
              "      <td>1.0</td>\n",
              "      <td>skilled</td>\n",
              "      <td>1.0</td>\n",
              "      <td>none</td>\n",
              "      <td>yes</td>\n",
              "    </tr>\n",
              "    <tr>\n",
              "      <th>998</th>\n",
              "      <td>&lt;0</td>\n",
              "      <td>45.0</td>\n",
              "      <td>existing paid</td>\n",
              "      <td>radio/tv</td>\n",
              "      <td>1845.0</td>\n",
              "      <td>&lt;100</td>\n",
              "      <td>1&lt;=X&lt;4</td>\n",
              "      <td>4.0</td>\n",
              "      <td>male single</td>\n",
              "      <td>none</td>\n",
              "      <td>4.0</td>\n",
              "      <td>no known property</td>\n",
              "      <td>23.0</td>\n",
              "      <td>none</td>\n",
              "      <td>for free</td>\n",
              "      <td>1.0</td>\n",
              "      <td>skilled</td>\n",
              "      <td>1.0</td>\n",
              "      <td>yes</td>\n",
              "      <td>yes</td>\n",
              "    </tr>\n",
              "    <tr>\n",
              "      <th>999</th>\n",
              "      <td>0&lt;=X&lt;200</td>\n",
              "      <td>45.0</td>\n",
              "      <td>critical/other existing credit</td>\n",
              "      <td>used car</td>\n",
              "      <td>4576.0</td>\n",
              "      <td>100&lt;=X&lt;500</td>\n",
              "      <td>unemployed</td>\n",
              "      <td>3.0</td>\n",
              "      <td>male single</td>\n",
              "      <td>none</td>\n",
              "      <td>4.0</td>\n",
              "      <td>car</td>\n",
              "      <td>27.0</td>\n",
              "      <td>none</td>\n",
              "      <td>own</td>\n",
              "      <td>1.0</td>\n",
              "      <td>skilled</td>\n",
              "      <td>1.0</td>\n",
              "      <td>none</td>\n",
              "      <td>yes</td>\n",
              "    </tr>\n",
              "  </tbody>\n",
              "</table>\n",
              "<p>1000 rows × 20 columns</p>\n",
              "</div>\n",
              "      <button class=\"colab-df-convert\" onclick=\"convertToInteractive('df-77c4e2dc-67ad-4cd7-894f-9ae0bac140fd')\"\n",
              "              title=\"Convert this dataframe to an interactive table.\"\n",
              "              style=\"display:none;\">\n",
              "        \n",
              "  <svg xmlns=\"http://www.w3.org/2000/svg\" height=\"24px\"viewBox=\"0 0 24 24\"\n",
              "       width=\"24px\">\n",
              "    <path d=\"M0 0h24v24H0V0z\" fill=\"none\"/>\n",
              "    <path d=\"M18.56 5.44l.94 2.06.94-2.06 2.06-.94-2.06-.94-.94-2.06-.94 2.06-2.06.94zm-11 1L8.5 8.5l.94-2.06 2.06-.94-2.06-.94L8.5 2.5l-.94 2.06-2.06.94zm10 10l.94 2.06.94-2.06 2.06-.94-2.06-.94-.94-2.06-.94 2.06-2.06.94z\"/><path d=\"M17.41 7.96l-1.37-1.37c-.4-.4-.92-.59-1.43-.59-.52 0-1.04.2-1.43.59L10.3 9.45l-7.72 7.72c-.78.78-.78 2.05 0 2.83L4 21.41c.39.39.9.59 1.41.59.51 0 1.02-.2 1.41-.59l7.78-7.78 2.81-2.81c.8-.78.8-2.07 0-2.86zM5.41 20L4 18.59l7.72-7.72 1.47 1.35L5.41 20z\"/>\n",
              "  </svg>\n",
              "      </button>\n",
              "      \n",
              "  <style>\n",
              "    .colab-df-container {\n",
              "      display:flex;\n",
              "      flex-wrap:wrap;\n",
              "      gap: 12px;\n",
              "    }\n",
              "\n",
              "    .colab-df-convert {\n",
              "      background-color: #E8F0FE;\n",
              "      border: none;\n",
              "      border-radius: 50%;\n",
              "      cursor: pointer;\n",
              "      display: none;\n",
              "      fill: #1967D2;\n",
              "      height: 32px;\n",
              "      padding: 0 0 0 0;\n",
              "      width: 32px;\n",
              "    }\n",
              "\n",
              "    .colab-df-convert:hover {\n",
              "      background-color: #E2EBFA;\n",
              "      box-shadow: 0px 1px 2px rgba(60, 64, 67, 0.3), 0px 1px 3px 1px rgba(60, 64, 67, 0.15);\n",
              "      fill: #174EA6;\n",
              "    }\n",
              "\n",
              "    [theme=dark] .colab-df-convert {\n",
              "      background-color: #3B4455;\n",
              "      fill: #D2E3FC;\n",
              "    }\n",
              "\n",
              "    [theme=dark] .colab-df-convert:hover {\n",
              "      background-color: #434B5C;\n",
              "      box-shadow: 0px 1px 3px 1px rgba(0, 0, 0, 0.15);\n",
              "      filter: drop-shadow(0px 1px 2px rgba(0, 0, 0, 0.3));\n",
              "      fill: #FFFFFF;\n",
              "    }\n",
              "  </style>\n",
              "\n",
              "      <script>\n",
              "        const buttonEl =\n",
              "          document.querySelector('#df-77c4e2dc-67ad-4cd7-894f-9ae0bac140fd button.colab-df-convert');\n",
              "        buttonEl.style.display =\n",
              "          google.colab.kernel.accessAllowed ? 'block' : 'none';\n",
              "\n",
              "        async function convertToInteractive(key) {\n",
              "          const element = document.querySelector('#df-77c4e2dc-67ad-4cd7-894f-9ae0bac140fd');\n",
              "          const dataTable =\n",
              "            await google.colab.kernel.invokeFunction('convertToInteractive',\n",
              "                                                     [key], {});\n",
              "          if (!dataTable) return;\n",
              "\n",
              "          const docLinkHtml = 'Like what you see? Visit the ' +\n",
              "            '<a target=\"_blank\" href=https://colab.research.google.com/notebooks/data_table.ipynb>data table notebook</a>'\n",
              "            + ' to learn more about interactive tables.';\n",
              "          element.innerHTML = '';\n",
              "          dataTable['output_type'] = 'display_data';\n",
              "          await google.colab.output.renderOutput(dataTable, element);\n",
              "          const docLink = document.createElement('div');\n",
              "          docLink.innerHTML = docLinkHtml;\n",
              "          element.appendChild(docLink);\n",
              "        }\n",
              "      </script>\n",
              "    </div>\n",
              "  </div>\n",
              "  "
            ]
          },
          "metadata": {},
          "execution_count": 922
        }
      ]
    },
    {
      "cell_type": "markdown",
      "source": [
        "# Entendimento dos dados"
      ],
      "metadata": {
        "id": "J23Y5i7Wqrv8"
      }
    },
    {
      "cell_type": "markdown",
      "source": [
        "## Total de instances e features"
      ],
      "metadata": {
        "id": "eZrEw-MH4uIs"
      }
    },
    {
      "cell_type": "code",
      "source": [
        "risk_dataset.data.shape"
      ],
      "metadata": {
        "id": "0G4ObxC0wVwL",
        "outputId": "ed8a457f-5fb9-4544-c6b2-434a5785953f",
        "colab": {
          "base_uri": "https://localhost:8080/"
        }
      },
      "execution_count": 923,
      "outputs": [
        {
          "output_type": "execute_result",
          "data": {
            "text/plain": [
              "(1000, 20)"
            ]
          },
          "metadata": {},
          "execution_count": 923
        }
      ]
    },
    {
      "cell_type": "markdown",
      "source": [
        "## Classes"
      ],
      "metadata": {
        "id": "wdyUbTd75Jhh"
      }
    },
    {
      "cell_type": "code",
      "source": [
        "risk_dataset.target.unique()"
      ],
      "metadata": {
        "colab": {
          "base_uri": "https://localhost:8080/"
        },
        "id": "D-YrGKCC5Lwv",
        "outputId": "67753e89-1e08-4373-9e73-0032b62a066f"
      },
      "execution_count": 924,
      "outputs": [
        {
          "output_type": "execute_result",
          "data": {
            "text/plain": [
              "['good', 'bad']\n",
              "Categories (2, object): ['good', 'bad']"
            ]
          },
          "metadata": {},
          "execution_count": 924
        }
      ]
    },
    {
      "cell_type": "markdown",
      "source": [
        "## Features, missing values e data types"
      ],
      "metadata": {
        "id": "JlxFkPXi4pjc"
      }
    },
    {
      "cell_type": "code",
      "source": [
        "risk_dataset.data.info()"
      ],
      "metadata": {
        "colab": {
          "base_uri": "https://localhost:8080/"
        },
        "id": "4kaei0At4CWZ",
        "outputId": "5aedf1f6-f1aa-4e03-b21d-48879b74507d"
      },
      "execution_count": 925,
      "outputs": [
        {
          "output_type": "stream",
          "name": "stdout",
          "text": [
            "<class 'pandas.core.frame.DataFrame'>\n",
            "RangeIndex: 1000 entries, 0 to 999\n",
            "Data columns (total 20 columns):\n",
            " #   Column                  Non-Null Count  Dtype   \n",
            "---  ------                  --------------  -----   \n",
            " 0   checking_status         1000 non-null   category\n",
            " 1   duration                1000 non-null   float64 \n",
            " 2   credit_history          1000 non-null   category\n",
            " 3   purpose                 1000 non-null   category\n",
            " 4   credit_amount           1000 non-null   float64 \n",
            " 5   savings_status          1000 non-null   category\n",
            " 6   employment              1000 non-null   category\n",
            " 7   installment_commitment  1000 non-null   float64 \n",
            " 8   personal_status         1000 non-null   category\n",
            " 9   other_parties           1000 non-null   category\n",
            " 10  residence_since         1000 non-null   float64 \n",
            " 11  property_magnitude      1000 non-null   category\n",
            " 12  age                     1000 non-null   float64 \n",
            " 13  other_payment_plans     1000 non-null   category\n",
            " 14  housing                 1000 non-null   category\n",
            " 15  existing_credits        1000 non-null   float64 \n",
            " 16  job                     1000 non-null   category\n",
            " 17  num_dependents          1000 non-null   float64 \n",
            " 18  own_telephone           1000 non-null   category\n",
            " 19  foreign_worker          1000 non-null   category\n",
            "dtypes: category(13), float64(7)\n",
            "memory usage: 69.9 KB\n"
          ]
        }
      ]
    },
    {
      "cell_type": "code",
      "source": [
        "risk_dataset.data.dtypes.value_counts()"
      ],
      "metadata": {
        "colab": {
          "base_uri": "https://localhost:8080/"
        },
        "id": "_gfCbNHf8YVt",
        "outputId": "713035e2-fc14-40ad-b655-45b9674f7494"
      },
      "execution_count": 926,
      "outputs": [
        {
          "output_type": "execute_result",
          "data": {
            "text/plain": [
              "float64     7\n",
              "category    1\n",
              "category    1\n",
              "category    1\n",
              "category    1\n",
              "category    1\n",
              "category    1\n",
              "category    1\n",
              "category    1\n",
              "category    1\n",
              "category    1\n",
              "category    1\n",
              "category    1\n",
              "category    1\n",
              "dtype: int64"
            ]
          },
          "metadata": {},
          "execution_count": 926
        }
      ]
    },
    {
      "cell_type": "code",
      "source": [
        "category_features = risk_dataset.data.select_dtypes(['category']).columns.to_numpy()\n",
        "numeric_features = risk_dataset.data.select_dtypes(['float64']).columns.to_numpy()\n",
        "print(category_features)\n",
        "print(numeric_features)"
      ],
      "metadata": {
        "colab": {
          "base_uri": "https://localhost:8080/"
        },
        "id": "KdcQIlJt-pfK",
        "outputId": "776bea6a-d850-4ee3-d166-8caeca3543ff"
      },
      "execution_count": 927,
      "outputs": [
        {
          "output_type": "stream",
          "name": "stdout",
          "text": [
            "['checking_status' 'credit_history' 'purpose' 'savings_status'\n",
            " 'employment' 'personal_status' 'other_parties' 'property_magnitude'\n",
            " 'other_payment_plans' 'housing' 'job' 'own_telephone' 'foreign_worker']\n",
            "['duration' 'credit_amount' 'installment_commitment' 'residence_since'\n",
            " 'age' 'existing_credits' 'num_dependents']\n"
          ]
        }
      ]
    },
    {
      "cell_type": "markdown",
      "source": [
        "# Exploração de dados"
      ],
      "metadata": {
        "id": "t2aNr-W03tm4"
      }
    },
    {
      "cell_type": "code",
      "source": [
        "import pandas as pd\n",
        "\n",
        "df = pd.DataFrame(risk_dataset.data)\n",
        "df.columns = risk_dataset.feature_names\n",
        "df['risk'] = risk_dataset.target\n",
        "df"
      ],
      "metadata": {
        "colab": {
          "base_uri": "https://localhost:8080/",
          "height": 592
        },
        "id": "PLzZtFtoisl5",
        "outputId": "bc2f8131-3794-4d5e-9dc1-b633cf09db49"
      },
      "execution_count": 928,
      "outputs": [
        {
          "output_type": "execute_result",
          "data": {
            "text/plain": [
              "    checking_status  duration                  credit_history  \\\n",
              "0                <0       6.0  critical/other existing credit   \n",
              "1          0<=X<200      48.0                   existing paid   \n",
              "2       no checking      12.0  critical/other existing credit   \n",
              "3                <0      42.0                   existing paid   \n",
              "4                <0      24.0              delayed previously   \n",
              "..              ...       ...                             ...   \n",
              "995     no checking      12.0                   existing paid   \n",
              "996              <0      30.0                   existing paid   \n",
              "997     no checking      12.0                   existing paid   \n",
              "998              <0      45.0                   existing paid   \n",
              "999        0<=X<200      45.0  critical/other existing credit   \n",
              "\n",
              "                 purpose  credit_amount    savings_status  employment  \\\n",
              "0               radio/tv         1169.0  no known savings         >=7   \n",
              "1               radio/tv         5951.0              <100      1<=X<4   \n",
              "2              education         2096.0              <100      4<=X<7   \n",
              "3    furniture/equipment         7882.0              <100      4<=X<7   \n",
              "4                new car         4870.0              <100      1<=X<4   \n",
              "..                   ...            ...               ...         ...   \n",
              "995  furniture/equipment         1736.0              <100      4<=X<7   \n",
              "996             used car         3857.0              <100      1<=X<4   \n",
              "997             radio/tv          804.0              <100         >=7   \n",
              "998             radio/tv         1845.0              <100      1<=X<4   \n",
              "999             used car         4576.0        100<=X<500  unemployed   \n",
              "\n",
              "     installment_commitment     personal_status other_parties  ...  \\\n",
              "0                       4.0         male single          none  ...   \n",
              "1                       2.0  female div/dep/mar          none  ...   \n",
              "2                       2.0         male single          none  ...   \n",
              "3                       2.0         male single     guarantor  ...   \n",
              "4                       3.0         male single          none  ...   \n",
              "..                      ...                 ...           ...  ...   \n",
              "995                     3.0  female div/dep/mar          none  ...   \n",
              "996                     4.0        male div/sep          none  ...   \n",
              "997                     4.0         male single          none  ...   \n",
              "998                     4.0         male single          none  ...   \n",
              "999                     3.0         male single          none  ...   \n",
              "\n",
              "     property_magnitude   age  other_payment_plans   housing existing_credits  \\\n",
              "0           real estate  67.0                 none       own              2.0   \n",
              "1           real estate  22.0                 none       own              1.0   \n",
              "2           real estate  49.0                 none       own              1.0   \n",
              "3        life insurance  45.0                 none  for free              1.0   \n",
              "4     no known property  53.0                 none  for free              2.0   \n",
              "..                  ...   ...                  ...       ...              ...   \n",
              "995         real estate  31.0                 none       own              1.0   \n",
              "996      life insurance  40.0                 none       own              1.0   \n",
              "997                 car  38.0                 none       own              1.0   \n",
              "998   no known property  23.0                 none  for free              1.0   \n",
              "999                 car  27.0                 none       own              1.0   \n",
              "\n",
              "                           job num_dependents  own_telephone foreign_worker  \\\n",
              "0                      skilled            1.0            yes            yes   \n",
              "1                      skilled            1.0           none            yes   \n",
              "2           unskilled resident            2.0           none            yes   \n",
              "3                      skilled            2.0           none            yes   \n",
              "4                      skilled            2.0           none            yes   \n",
              "..                         ...            ...            ...            ...   \n",
              "995         unskilled resident            1.0           none            yes   \n",
              "996  high qualif/self emp/mgmt            1.0            yes            yes   \n",
              "997                    skilled            1.0           none            yes   \n",
              "998                    skilled            1.0            yes            yes   \n",
              "999                    skilled            1.0           none            yes   \n",
              "\n",
              "     risk  \n",
              "0    good  \n",
              "1     bad  \n",
              "2    good  \n",
              "3    good  \n",
              "4     bad  \n",
              "..    ...  \n",
              "995  good  \n",
              "996  good  \n",
              "997  good  \n",
              "998   bad  \n",
              "999  good  \n",
              "\n",
              "[1000 rows x 21 columns]"
            ],
            "text/html": [
              "\n",
              "  <div id=\"df-eec3f6ba-116d-48bb-b3ea-19e7e947f34f\">\n",
              "    <div class=\"colab-df-container\">\n",
              "      <div>\n",
              "<style scoped>\n",
              "    .dataframe tbody tr th:only-of-type {\n",
              "        vertical-align: middle;\n",
              "    }\n",
              "\n",
              "    .dataframe tbody tr th {\n",
              "        vertical-align: top;\n",
              "    }\n",
              "\n",
              "    .dataframe thead th {\n",
              "        text-align: right;\n",
              "    }\n",
              "</style>\n",
              "<table border=\"1\" class=\"dataframe\">\n",
              "  <thead>\n",
              "    <tr style=\"text-align: right;\">\n",
              "      <th></th>\n",
              "      <th>checking_status</th>\n",
              "      <th>duration</th>\n",
              "      <th>credit_history</th>\n",
              "      <th>purpose</th>\n",
              "      <th>credit_amount</th>\n",
              "      <th>savings_status</th>\n",
              "      <th>employment</th>\n",
              "      <th>installment_commitment</th>\n",
              "      <th>personal_status</th>\n",
              "      <th>other_parties</th>\n",
              "      <th>...</th>\n",
              "      <th>property_magnitude</th>\n",
              "      <th>age</th>\n",
              "      <th>other_payment_plans</th>\n",
              "      <th>housing</th>\n",
              "      <th>existing_credits</th>\n",
              "      <th>job</th>\n",
              "      <th>num_dependents</th>\n",
              "      <th>own_telephone</th>\n",
              "      <th>foreign_worker</th>\n",
              "      <th>risk</th>\n",
              "    </tr>\n",
              "  </thead>\n",
              "  <tbody>\n",
              "    <tr>\n",
              "      <th>0</th>\n",
              "      <td>&lt;0</td>\n",
              "      <td>6.0</td>\n",
              "      <td>critical/other existing credit</td>\n",
              "      <td>radio/tv</td>\n",
              "      <td>1169.0</td>\n",
              "      <td>no known savings</td>\n",
              "      <td>&gt;=7</td>\n",
              "      <td>4.0</td>\n",
              "      <td>male single</td>\n",
              "      <td>none</td>\n",
              "      <td>...</td>\n",
              "      <td>real estate</td>\n",
              "      <td>67.0</td>\n",
              "      <td>none</td>\n",
              "      <td>own</td>\n",
              "      <td>2.0</td>\n",
              "      <td>skilled</td>\n",
              "      <td>1.0</td>\n",
              "      <td>yes</td>\n",
              "      <td>yes</td>\n",
              "      <td>good</td>\n",
              "    </tr>\n",
              "    <tr>\n",
              "      <th>1</th>\n",
              "      <td>0&lt;=X&lt;200</td>\n",
              "      <td>48.0</td>\n",
              "      <td>existing paid</td>\n",
              "      <td>radio/tv</td>\n",
              "      <td>5951.0</td>\n",
              "      <td>&lt;100</td>\n",
              "      <td>1&lt;=X&lt;4</td>\n",
              "      <td>2.0</td>\n",
              "      <td>female div/dep/mar</td>\n",
              "      <td>none</td>\n",
              "      <td>...</td>\n",
              "      <td>real estate</td>\n",
              "      <td>22.0</td>\n",
              "      <td>none</td>\n",
              "      <td>own</td>\n",
              "      <td>1.0</td>\n",
              "      <td>skilled</td>\n",
              "      <td>1.0</td>\n",
              "      <td>none</td>\n",
              "      <td>yes</td>\n",
              "      <td>bad</td>\n",
              "    </tr>\n",
              "    <tr>\n",
              "      <th>2</th>\n",
              "      <td>no checking</td>\n",
              "      <td>12.0</td>\n",
              "      <td>critical/other existing credit</td>\n",
              "      <td>education</td>\n",
              "      <td>2096.0</td>\n",
              "      <td>&lt;100</td>\n",
              "      <td>4&lt;=X&lt;7</td>\n",
              "      <td>2.0</td>\n",
              "      <td>male single</td>\n",
              "      <td>none</td>\n",
              "      <td>...</td>\n",
              "      <td>real estate</td>\n",
              "      <td>49.0</td>\n",
              "      <td>none</td>\n",
              "      <td>own</td>\n",
              "      <td>1.0</td>\n",
              "      <td>unskilled resident</td>\n",
              "      <td>2.0</td>\n",
              "      <td>none</td>\n",
              "      <td>yes</td>\n",
              "      <td>good</td>\n",
              "    </tr>\n",
              "    <tr>\n",
              "      <th>3</th>\n",
              "      <td>&lt;0</td>\n",
              "      <td>42.0</td>\n",
              "      <td>existing paid</td>\n",
              "      <td>furniture/equipment</td>\n",
              "      <td>7882.0</td>\n",
              "      <td>&lt;100</td>\n",
              "      <td>4&lt;=X&lt;7</td>\n",
              "      <td>2.0</td>\n",
              "      <td>male single</td>\n",
              "      <td>guarantor</td>\n",
              "      <td>...</td>\n",
              "      <td>life insurance</td>\n",
              "      <td>45.0</td>\n",
              "      <td>none</td>\n",
              "      <td>for free</td>\n",
              "      <td>1.0</td>\n",
              "      <td>skilled</td>\n",
              "      <td>2.0</td>\n",
              "      <td>none</td>\n",
              "      <td>yes</td>\n",
              "      <td>good</td>\n",
              "    </tr>\n",
              "    <tr>\n",
              "      <th>4</th>\n",
              "      <td>&lt;0</td>\n",
              "      <td>24.0</td>\n",
              "      <td>delayed previously</td>\n",
              "      <td>new car</td>\n",
              "      <td>4870.0</td>\n",
              "      <td>&lt;100</td>\n",
              "      <td>1&lt;=X&lt;4</td>\n",
              "      <td>3.0</td>\n",
              "      <td>male single</td>\n",
              "      <td>none</td>\n",
              "      <td>...</td>\n",
              "      <td>no known property</td>\n",
              "      <td>53.0</td>\n",
              "      <td>none</td>\n",
              "      <td>for free</td>\n",
              "      <td>2.0</td>\n",
              "      <td>skilled</td>\n",
              "      <td>2.0</td>\n",
              "      <td>none</td>\n",
              "      <td>yes</td>\n",
              "      <td>bad</td>\n",
              "    </tr>\n",
              "    <tr>\n",
              "      <th>...</th>\n",
              "      <td>...</td>\n",
              "      <td>...</td>\n",
              "      <td>...</td>\n",
              "      <td>...</td>\n",
              "      <td>...</td>\n",
              "      <td>...</td>\n",
              "      <td>...</td>\n",
              "      <td>...</td>\n",
              "      <td>...</td>\n",
              "      <td>...</td>\n",
              "      <td>...</td>\n",
              "      <td>...</td>\n",
              "      <td>...</td>\n",
              "      <td>...</td>\n",
              "      <td>...</td>\n",
              "      <td>...</td>\n",
              "      <td>...</td>\n",
              "      <td>...</td>\n",
              "      <td>...</td>\n",
              "      <td>...</td>\n",
              "      <td>...</td>\n",
              "    </tr>\n",
              "    <tr>\n",
              "      <th>995</th>\n",
              "      <td>no checking</td>\n",
              "      <td>12.0</td>\n",
              "      <td>existing paid</td>\n",
              "      <td>furniture/equipment</td>\n",
              "      <td>1736.0</td>\n",
              "      <td>&lt;100</td>\n",
              "      <td>4&lt;=X&lt;7</td>\n",
              "      <td>3.0</td>\n",
              "      <td>female div/dep/mar</td>\n",
              "      <td>none</td>\n",
              "      <td>...</td>\n",
              "      <td>real estate</td>\n",
              "      <td>31.0</td>\n",
              "      <td>none</td>\n",
              "      <td>own</td>\n",
              "      <td>1.0</td>\n",
              "      <td>unskilled resident</td>\n",
              "      <td>1.0</td>\n",
              "      <td>none</td>\n",
              "      <td>yes</td>\n",
              "      <td>good</td>\n",
              "    </tr>\n",
              "    <tr>\n",
              "      <th>996</th>\n",
              "      <td>&lt;0</td>\n",
              "      <td>30.0</td>\n",
              "      <td>existing paid</td>\n",
              "      <td>used car</td>\n",
              "      <td>3857.0</td>\n",
              "      <td>&lt;100</td>\n",
              "      <td>1&lt;=X&lt;4</td>\n",
              "      <td>4.0</td>\n",
              "      <td>male div/sep</td>\n",
              "      <td>none</td>\n",
              "      <td>...</td>\n",
              "      <td>life insurance</td>\n",
              "      <td>40.0</td>\n",
              "      <td>none</td>\n",
              "      <td>own</td>\n",
              "      <td>1.0</td>\n",
              "      <td>high qualif/self emp/mgmt</td>\n",
              "      <td>1.0</td>\n",
              "      <td>yes</td>\n",
              "      <td>yes</td>\n",
              "      <td>good</td>\n",
              "    </tr>\n",
              "    <tr>\n",
              "      <th>997</th>\n",
              "      <td>no checking</td>\n",
              "      <td>12.0</td>\n",
              "      <td>existing paid</td>\n",
              "      <td>radio/tv</td>\n",
              "      <td>804.0</td>\n",
              "      <td>&lt;100</td>\n",
              "      <td>&gt;=7</td>\n",
              "      <td>4.0</td>\n",
              "      <td>male single</td>\n",
              "      <td>none</td>\n",
              "      <td>...</td>\n",
              "      <td>car</td>\n",
              "      <td>38.0</td>\n",
              "      <td>none</td>\n",
              "      <td>own</td>\n",
              "      <td>1.0</td>\n",
              "      <td>skilled</td>\n",
              "      <td>1.0</td>\n",
              "      <td>none</td>\n",
              "      <td>yes</td>\n",
              "      <td>good</td>\n",
              "    </tr>\n",
              "    <tr>\n",
              "      <th>998</th>\n",
              "      <td>&lt;0</td>\n",
              "      <td>45.0</td>\n",
              "      <td>existing paid</td>\n",
              "      <td>radio/tv</td>\n",
              "      <td>1845.0</td>\n",
              "      <td>&lt;100</td>\n",
              "      <td>1&lt;=X&lt;4</td>\n",
              "      <td>4.0</td>\n",
              "      <td>male single</td>\n",
              "      <td>none</td>\n",
              "      <td>...</td>\n",
              "      <td>no known property</td>\n",
              "      <td>23.0</td>\n",
              "      <td>none</td>\n",
              "      <td>for free</td>\n",
              "      <td>1.0</td>\n",
              "      <td>skilled</td>\n",
              "      <td>1.0</td>\n",
              "      <td>yes</td>\n",
              "      <td>yes</td>\n",
              "      <td>bad</td>\n",
              "    </tr>\n",
              "    <tr>\n",
              "      <th>999</th>\n",
              "      <td>0&lt;=X&lt;200</td>\n",
              "      <td>45.0</td>\n",
              "      <td>critical/other existing credit</td>\n",
              "      <td>used car</td>\n",
              "      <td>4576.0</td>\n",
              "      <td>100&lt;=X&lt;500</td>\n",
              "      <td>unemployed</td>\n",
              "      <td>3.0</td>\n",
              "      <td>male single</td>\n",
              "      <td>none</td>\n",
              "      <td>...</td>\n",
              "      <td>car</td>\n",
              "      <td>27.0</td>\n",
              "      <td>none</td>\n",
              "      <td>own</td>\n",
              "      <td>1.0</td>\n",
              "      <td>skilled</td>\n",
              "      <td>1.0</td>\n",
              "      <td>none</td>\n",
              "      <td>yes</td>\n",
              "      <td>good</td>\n",
              "    </tr>\n",
              "  </tbody>\n",
              "</table>\n",
              "<p>1000 rows × 21 columns</p>\n",
              "</div>\n",
              "      <button class=\"colab-df-convert\" onclick=\"convertToInteractive('df-eec3f6ba-116d-48bb-b3ea-19e7e947f34f')\"\n",
              "              title=\"Convert this dataframe to an interactive table.\"\n",
              "              style=\"display:none;\">\n",
              "        \n",
              "  <svg xmlns=\"http://www.w3.org/2000/svg\" height=\"24px\"viewBox=\"0 0 24 24\"\n",
              "       width=\"24px\">\n",
              "    <path d=\"M0 0h24v24H0V0z\" fill=\"none\"/>\n",
              "    <path d=\"M18.56 5.44l.94 2.06.94-2.06 2.06-.94-2.06-.94-.94-2.06-.94 2.06-2.06.94zm-11 1L8.5 8.5l.94-2.06 2.06-.94-2.06-.94L8.5 2.5l-.94 2.06-2.06.94zm10 10l.94 2.06.94-2.06 2.06-.94-2.06-.94-.94-2.06-.94 2.06-2.06.94z\"/><path d=\"M17.41 7.96l-1.37-1.37c-.4-.4-.92-.59-1.43-.59-.52 0-1.04.2-1.43.59L10.3 9.45l-7.72 7.72c-.78.78-.78 2.05 0 2.83L4 21.41c.39.39.9.59 1.41.59.51 0 1.02-.2 1.41-.59l7.78-7.78 2.81-2.81c.8-.78.8-2.07 0-2.86zM5.41 20L4 18.59l7.72-7.72 1.47 1.35L5.41 20z\"/>\n",
              "  </svg>\n",
              "      </button>\n",
              "      \n",
              "  <style>\n",
              "    .colab-df-container {\n",
              "      display:flex;\n",
              "      flex-wrap:wrap;\n",
              "      gap: 12px;\n",
              "    }\n",
              "\n",
              "    .colab-df-convert {\n",
              "      background-color: #E8F0FE;\n",
              "      border: none;\n",
              "      border-radius: 50%;\n",
              "      cursor: pointer;\n",
              "      display: none;\n",
              "      fill: #1967D2;\n",
              "      height: 32px;\n",
              "      padding: 0 0 0 0;\n",
              "      width: 32px;\n",
              "    }\n",
              "\n",
              "    .colab-df-convert:hover {\n",
              "      background-color: #E2EBFA;\n",
              "      box-shadow: 0px 1px 2px rgba(60, 64, 67, 0.3), 0px 1px 3px 1px rgba(60, 64, 67, 0.15);\n",
              "      fill: #174EA6;\n",
              "    }\n",
              "\n",
              "    [theme=dark] .colab-df-convert {\n",
              "      background-color: #3B4455;\n",
              "      fill: #D2E3FC;\n",
              "    }\n",
              "\n",
              "    [theme=dark] .colab-df-convert:hover {\n",
              "      background-color: #434B5C;\n",
              "      box-shadow: 0px 1px 3px 1px rgba(0, 0, 0, 0.15);\n",
              "      filter: drop-shadow(0px 1px 2px rgba(0, 0, 0, 0.3));\n",
              "      fill: #FFFFFF;\n",
              "    }\n",
              "  </style>\n",
              "\n",
              "      <script>\n",
              "        const buttonEl =\n",
              "          document.querySelector('#df-eec3f6ba-116d-48bb-b3ea-19e7e947f34f button.colab-df-convert');\n",
              "        buttonEl.style.display =\n",
              "          google.colab.kernel.accessAllowed ? 'block' : 'none';\n",
              "\n",
              "        async function convertToInteractive(key) {\n",
              "          const element = document.querySelector('#df-eec3f6ba-116d-48bb-b3ea-19e7e947f34f');\n",
              "          const dataTable =\n",
              "            await google.colab.kernel.invokeFunction('convertToInteractive',\n",
              "                                                     [key], {});\n",
              "          if (!dataTable) return;\n",
              "\n",
              "          const docLinkHtml = 'Like what you see? Visit the ' +\n",
              "            '<a target=\"_blank\" href=https://colab.research.google.com/notebooks/data_table.ipynb>data table notebook</a>'\n",
              "            + ' to learn more about interactive tables.';\n",
              "          element.innerHTML = '';\n",
              "          dataTable['output_type'] = 'display_data';\n",
              "          await google.colab.output.renderOutput(dataTable, element);\n",
              "          const docLink = document.createElement('div');\n",
              "          docLink.innerHTML = docLinkHtml;\n",
              "          element.appendChild(docLink);\n",
              "        }\n",
              "      </script>\n",
              "    </div>\n",
              "  </div>\n",
              "  "
            ]
          },
          "metadata": {},
          "execution_count": 928
        }
      ]
    },
    {
      "cell_type": "code",
      "source": [
        "import plotly.express as px\n",
        "\n",
        "fig = px.histogram(df, x='risk')\n",
        "fig.show()"
      ],
      "metadata": {
        "colab": {
          "base_uri": "https://localhost:8080/",
          "height": 542
        },
        "id": "u5cnwVqIGdme",
        "outputId": "93a7cd16-4441-44fb-cd4e-18722c4cd9e8"
      },
      "execution_count": 929,
      "outputs": [
        {
          "output_type": "display_data",
          "data": {
            "text/html": [
              "<html>\n",
              "<head><meta charset=\"utf-8\" /></head>\n",
              "<body>\n",
              "    <div>            <script src=\"https://cdnjs.cloudflare.com/ajax/libs/mathjax/2.7.5/MathJax.js?config=TeX-AMS-MML_SVG\"></script><script type=\"text/javascript\">if (window.MathJax) {MathJax.Hub.Config({SVG: {font: \"STIX-Web\"}});}</script>                <script type=\"text/javascript\">window.PlotlyConfig = {MathJaxConfig: 'local'};</script>\n",
              "        <script src=\"https://cdn.plot.ly/plotly-2.8.3.min.js\"></script>                <div id=\"5c6ec890-7aaa-45fd-88de-97f750145e1c\" class=\"plotly-graph-div\" style=\"height:525px; width:100%;\"></div>            <script type=\"text/javascript\">                                    window.PLOTLYENV=window.PLOTLYENV || {};                                    if (document.getElementById(\"5c6ec890-7aaa-45fd-88de-97f750145e1c\")) {                    Plotly.newPlot(                        \"5c6ec890-7aaa-45fd-88de-97f750145e1c\",                        [{\"alignmentgroup\":\"True\",\"bingroup\":\"x\",\"hovertemplate\":\"risk=%{x}<br>count=%{y}<extra></extra>\",\"legendgroup\":\"\",\"marker\":{\"color\":\"#636efa\",\"pattern\":{\"shape\":\"\"}},\"name\":\"\",\"offsetgroup\":\"\",\"orientation\":\"v\",\"showlegend\":false,\"x\":[\"good\",\"bad\",\"good\",\"good\",\"bad\",\"good\",\"good\",\"good\",\"good\",\"bad\",\"bad\",\"bad\",\"good\",\"bad\",\"good\",\"bad\",\"good\",\"good\",\"bad\",\"good\",\"good\",\"good\",\"good\",\"good\",\"good\",\"good\",\"good\",\"good\",\"good\",\"bad\",\"good\",\"good\",\"good\",\"good\",\"good\",\"bad\",\"good\",\"bad\",\"good\",\"good\",\"good\",\"good\",\"good\",\"good\",\"bad\",\"good\",\"good\",\"good\",\"good\",\"good\",\"good\",\"good\",\"good\",\"good\",\"bad\",\"good\",\"bad\",\"good\",\"good\",\"bad\",\"good\",\"good\",\"bad\",\"bad\",\"good\",\"good\",\"good\",\"good\",\"bad\",\"good\",\"good\",\"good\",\"good\",\"good\",\"bad\",\"good\",\"bad\",\"good\",\"good\",\"good\",\"bad\",\"good\",\"good\",\"good\",\"good\",\"good\",\"good\",\"bad\",\"good\",\"bad\",\"good\",\"good\",\"bad\",\"good\",\"good\",\"bad\",\"good\",\"good\",\"good\",\"good\",\"good\",\"good\",\"good\",\"good\",\"good\",\"bad\",\"bad\",\"good\",\"good\",\"good\",\"good\",\"good\",\"good\",\"bad\",\"good\",\"good\",\"bad\",\"good\",\"bad\",\"good\",\"bad\",\"good\",\"good\",\"good\",\"bad\",\"good\",\"good\",\"bad\",\"good\",\"bad\",\"good\",\"bad\",\"good\",\"good\",\"good\",\"good\",\"good\",\"bad\",\"good\",\"good\",\"good\",\"good\",\"good\",\"bad\",\"good\",\"good\",\"good\",\"good\",\"good\",\"good\",\"good\",\"good\",\"good\",\"good\",\"good\",\"bad\",\"good\",\"good\",\"good\",\"good\",\"good\",\"good\",\"good\",\"good\",\"good\",\"good\",\"bad\",\"good\",\"good\",\"bad\",\"bad\",\"good\",\"bad\",\"good\",\"bad\",\"bad\",\"good\",\"good\",\"good\",\"good\",\"bad\",\"bad\",\"bad\",\"good\",\"bad\",\"good\",\"bad\",\"good\",\"bad\",\"good\",\"bad\",\"bad\",\"bad\",\"good\",\"bad\",\"bad\",\"good\",\"bad\",\"good\",\"bad\",\"good\",\"good\",\"good\",\"bad\",\"good\",\"good\",\"good\",\"good\",\"good\",\"good\",\"good\",\"good\",\"bad\",\"bad\",\"good\",\"good\",\"good\",\"good\",\"good\",\"good\",\"good\",\"good\",\"good\",\"good\",\"good\",\"good\",\"bad\",\"bad\",\"bad\",\"good\",\"bad\",\"good\",\"good\",\"good\",\"good\",\"bad\",\"bad\",\"bad\",\"good\",\"good\",\"bad\",\"good\",\"bad\",\"good\",\"good\",\"good\",\"good\",\"good\",\"good\",\"bad\",\"good\",\"good\",\"bad\",\"good\",\"good\",\"good\",\"good\",\"bad\",\"good\",\"good\",\"good\",\"good\",\"good\",\"good\",\"good\",\"bad\",\"good\",\"good\",\"bad\",\"good\",\"good\",\"good\",\"good\",\"bad\",\"bad\",\"good\",\"good\",\"good\",\"bad\",\"good\",\"good\",\"good\",\"good\",\"good\",\"good\",\"good\",\"good\",\"good\",\"good\",\"bad\",\"good\",\"bad\",\"good\",\"good\",\"good\",\"bad\",\"good\",\"good\",\"good\",\"good\",\"good\",\"bad\",\"bad\",\"good\",\"bad\",\"good\",\"good\",\"bad\",\"bad\",\"good\",\"good\",\"good\",\"good\",\"bad\",\"good\",\"bad\",\"good\",\"good\",\"good\",\"good\",\"bad\",\"bad\",\"good\",\"good\",\"good\",\"good\",\"good\",\"good\",\"good\",\"good\",\"good\",\"bad\",\"bad\",\"bad\",\"bad\",\"bad\",\"good\",\"bad\",\"good\",\"good\",\"good\",\"good\",\"good\",\"good\",\"good\",\"good\",\"good\",\"good\",\"good\",\"bad\",\"good\",\"bad\",\"good\",\"bad\",\"good\",\"bad\",\"good\",\"bad\",\"good\",\"bad\",\"good\",\"good\",\"good\",\"good\",\"bad\",\"good\",\"good\",\"good\",\"bad\",\"good\",\"good\",\"good\",\"good\",\"good\",\"bad\",\"bad\",\"good\",\"good\",\"bad\",\"good\",\"good\",\"bad\",\"good\",\"good\",\"good\",\"good\",\"good\",\"good\",\"good\",\"good\",\"good\",\"good\",\"good\",\"good\",\"good\",\"good\",\"good\",\"good\",\"bad\",\"good\",\"good\",\"good\",\"bad\",\"good\",\"good\",\"bad\",\"good\",\"good\",\"good\",\"bad\",\"good\",\"good\",\"bad\",\"good\",\"bad\",\"good\",\"bad\",\"good\",\"good\",\"bad\",\"good\",\"good\",\"good\",\"good\",\"bad\",\"good\",\"good\",\"good\",\"good\",\"bad\",\"good\",\"bad\",\"good\",\"good\",\"good\",\"bad\",\"good\",\"good\",\"good\",\"bad\",\"good\",\"good\",\"good\",\"bad\",\"bad\",\"good\",\"bad\",\"good\",\"good\",\"bad\",\"good\",\"good\",\"good\",\"good\",\"bad\",\"good\",\"good\",\"bad\",\"good\",\"good\",\"good\",\"good\",\"good\",\"good\",\"good\",\"good\",\"bad\",\"good\",\"good\",\"good\",\"bad\",\"bad\",\"bad\",\"good\",\"bad\",\"bad\",\"good\",\"good\",\"good\",\"good\",\"good\",\"good\",\"good\",\"good\",\"good\",\"bad\",\"good\",\"good\",\"good\",\"good\",\"good\",\"bad\",\"good\",\"good\",\"good\",\"bad\",\"bad\",\"good\",\"good\",\"good\",\"bad\",\"good\",\"good\",\"bad\",\"bad\",\"bad\",\"good\",\"bad\",\"good\",\"good\",\"bad\",\"good\",\"good\",\"good\",\"good\",\"good\",\"good\",\"bad\",\"good\",\"good\",\"good\",\"bad\",\"bad\",\"good\",\"good\",\"good\",\"good\",\"good\",\"bad\",\"good\",\"good\",\"bad\",\"good\",\"good\",\"good\",\"bad\",\"good\",\"good\",\"bad\",\"good\",\"bad\",\"good\",\"bad\",\"bad\",\"good\",\"bad\",\"good\",\"good\",\"bad\",\"good\",\"good\",\"good\",\"bad\",\"good\",\"good\",\"bad\",\"bad\",\"bad\",\"bad\",\"bad\",\"good\",\"bad\",\"good\",\"bad\",\"good\",\"good\",\"bad\",\"good\",\"good\",\"bad\",\"bad\",\"good\",\"good\",\"good\",\"good\",\"good\",\"good\",\"good\",\"bad\",\"good\",\"bad\",\"good\",\"good\",\"bad\",\"good\",\"bad\",\"good\",\"good\",\"bad\",\"bad\",\"good\",\"good\",\"good\",\"bad\",\"bad\",\"bad\",\"bad\",\"bad\",\"bad\",\"good\",\"good\",\"bad\",\"bad\",\"bad\",\"good\",\"good\",\"good\",\"bad\",\"good\",\"good\",\"bad\",\"bad\",\"good\",\"good\",\"bad\",\"good\",\"good\",\"good\",\"bad\",\"good\",\"good\",\"bad\",\"bad\",\"good\",\"bad\",\"good\",\"good\",\"bad\",\"good\",\"good\",\"good\",\"bad\",\"good\",\"bad\",\"bad\",\"good\",\"good\",\"good\",\"good\",\"bad\",\"bad\",\"good\",\"bad\",\"good\",\"good\",\"bad\",\"good\",\"bad\",\"bad\",\"bad\",\"good\",\"bad\",\"bad\",\"bad\",\"good\",\"good\",\"bad\",\"good\",\"good\",\"good\",\"good\",\"bad\",\"good\",\"good\",\"good\",\"good\",\"good\",\"good\",\"bad\",\"good\",\"good\",\"good\",\"good\",\"good\",\"bad\",\"good\",\"good\",\"bad\",\"good\",\"good\",\"good\",\"good\",\"good\",\"good\",\"good\",\"good\",\"good\",\"good\",\"good\",\"good\",\"good\",\"good\",\"good\",\"good\",\"good\",\"good\",\"good\",\"good\",\"good\",\"good\",\"bad\",\"bad\",\"good\",\"good\",\"good\",\"good\",\"bad\",\"bad\",\"good\",\"good\",\"good\",\"bad\",\"good\",\"good\",\"bad\",\"good\",\"good\",\"good\",\"good\",\"good\",\"bad\",\"bad\",\"bad\",\"good\",\"bad\",\"good\",\"good\",\"bad\",\"bad\",\"good\",\"good\",\"bad\",\"good\",\"good\",\"good\",\"good\",\"bad\",\"good\",\"good\",\"bad\",\"good\",\"good\",\"good\",\"good\",\"good\",\"good\",\"good\",\"bad\",\"good\",\"good\",\"good\",\"bad\",\"good\",\"good\",\"bad\",\"bad\",\"good\",\"bad\",\"good\",\"bad\",\"good\",\"bad\",\"good\",\"bad\",\"good\",\"good\",\"bad\",\"good\",\"good\",\"good\",\"good\",\"bad\",\"good\",\"good\",\"good\",\"bad\",\"good\",\"good\",\"good\",\"good\",\"bad\",\"good\",\"good\",\"bad\",\"good\",\"good\",\"good\",\"good\",\"bad\",\"bad\",\"bad\",\"good\",\"good\",\"good\",\"good\",\"good\",\"bad\",\"good\",\"good\",\"good\",\"good\",\"good\",\"good\",\"good\",\"good\",\"bad\",\"good\",\"good\",\"good\",\"bad\",\"good\",\"good\",\"bad\",\"bad\",\"bad\",\"good\",\"good\",\"good\",\"good\",\"bad\",\"good\",\"good\",\"bad\",\"good\",\"good\",\"good\",\"bad\",\"bad\",\"bad\",\"good\",\"good\",\"bad\",\"bad\",\"good\",\"bad\",\"bad\",\"good\",\"good\",\"good\",\"good\",\"bad\",\"good\",\"bad\",\"good\",\"good\",\"good\",\"bad\",\"good\",\"good\",\"bad\",\"bad\",\"good\",\"good\",\"bad\",\"good\",\"good\",\"good\",\"good\",\"bad\",\"good\",\"good\",\"bad\",\"bad\",\"good\",\"bad\",\"good\",\"good\",\"good\",\"good\",\"good\",\"good\",\"good\",\"good\",\"good\",\"good\",\"good\",\"good\",\"good\",\"bad\",\"good\",\"good\",\"good\",\"good\",\"good\",\"bad\",\"bad\",\"good\",\"bad\",\"good\",\"good\",\"good\",\"good\",\"good\",\"good\",\"good\",\"good\",\"good\",\"good\",\"good\",\"bad\",\"bad\",\"good\",\"good\",\"good\",\"good\",\"good\",\"good\",\"good\",\"good\",\"good\",\"good\",\"bad\",\"good\",\"good\",\"bad\",\"bad\",\"good\",\"bad\",\"bad\",\"bad\",\"good\",\"good\",\"bad\",\"good\",\"bad\",\"bad\",\"good\",\"bad\",\"good\",\"good\",\"good\",\"bad\",\"good\",\"good\",\"good\",\"bad\",\"bad\",\"good\",\"bad\",\"good\",\"good\",\"good\",\"good\",\"good\",\"good\",\"good\",\"bad\",\"good\",\"bad\",\"bad\",\"good\",\"bad\",\"bad\",\"bad\",\"good\",\"good\",\"good\",\"good\",\"bad\",\"good\",\"good\",\"good\",\"good\",\"bad\",\"good\",\"good\",\"bad\",\"good\",\"good\",\"good\",\"good\",\"good\",\"bad\",\"bad\",\"good\",\"good\",\"good\",\"good\",\"bad\",\"bad\",\"bad\",\"bad\",\"good\",\"bad\",\"good\",\"good\",\"good\",\"good\",\"good\",\"good\",\"good\",\"good\",\"good\",\"good\",\"good\",\"good\",\"good\",\"good\",\"bad\",\"good\"],\"xaxis\":\"x\",\"yaxis\":\"y\",\"type\":\"histogram\"}],                        {\"template\":{\"data\":{\"bar\":[{\"error_x\":{\"color\":\"#2a3f5f\"},\"error_y\":{\"color\":\"#2a3f5f\"},\"marker\":{\"line\":{\"color\":\"#E5ECF6\",\"width\":0.5},\"pattern\":{\"fillmode\":\"overlay\",\"size\":10,\"solidity\":0.2}},\"type\":\"bar\"}],\"barpolar\":[{\"marker\":{\"line\":{\"color\":\"#E5ECF6\",\"width\":0.5},\"pattern\":{\"fillmode\":\"overlay\",\"size\":10,\"solidity\":0.2}},\"type\":\"barpolar\"}],\"carpet\":[{\"aaxis\":{\"endlinecolor\":\"#2a3f5f\",\"gridcolor\":\"white\",\"linecolor\":\"white\",\"minorgridcolor\":\"white\",\"startlinecolor\":\"#2a3f5f\"},\"baxis\":{\"endlinecolor\":\"#2a3f5f\",\"gridcolor\":\"white\",\"linecolor\":\"white\",\"minorgridcolor\":\"white\",\"startlinecolor\":\"#2a3f5f\"},\"type\":\"carpet\"}],\"choropleth\":[{\"colorbar\":{\"outlinewidth\":0,\"ticks\":\"\"},\"type\":\"choropleth\"}],\"contour\":[{\"colorbar\":{\"outlinewidth\":0,\"ticks\":\"\"},\"colorscale\":[[0.0,\"#0d0887\"],[0.1111111111111111,\"#46039f\"],[0.2222222222222222,\"#7201a8\"],[0.3333333333333333,\"#9c179e\"],[0.4444444444444444,\"#bd3786\"],[0.5555555555555556,\"#d8576b\"],[0.6666666666666666,\"#ed7953\"],[0.7777777777777778,\"#fb9f3a\"],[0.8888888888888888,\"#fdca26\"],[1.0,\"#f0f921\"]],\"type\":\"contour\"}],\"contourcarpet\":[{\"colorbar\":{\"outlinewidth\":0,\"ticks\":\"\"},\"type\":\"contourcarpet\"}],\"heatmap\":[{\"colorbar\":{\"outlinewidth\":0,\"ticks\":\"\"},\"colorscale\":[[0.0,\"#0d0887\"],[0.1111111111111111,\"#46039f\"],[0.2222222222222222,\"#7201a8\"],[0.3333333333333333,\"#9c179e\"],[0.4444444444444444,\"#bd3786\"],[0.5555555555555556,\"#d8576b\"],[0.6666666666666666,\"#ed7953\"],[0.7777777777777778,\"#fb9f3a\"],[0.8888888888888888,\"#fdca26\"],[1.0,\"#f0f921\"]],\"type\":\"heatmap\"}],\"heatmapgl\":[{\"colorbar\":{\"outlinewidth\":0,\"ticks\":\"\"},\"colorscale\":[[0.0,\"#0d0887\"],[0.1111111111111111,\"#46039f\"],[0.2222222222222222,\"#7201a8\"],[0.3333333333333333,\"#9c179e\"],[0.4444444444444444,\"#bd3786\"],[0.5555555555555556,\"#d8576b\"],[0.6666666666666666,\"#ed7953\"],[0.7777777777777778,\"#fb9f3a\"],[0.8888888888888888,\"#fdca26\"],[1.0,\"#f0f921\"]],\"type\":\"heatmapgl\"}],\"histogram\":[{\"marker\":{\"pattern\":{\"fillmode\":\"overlay\",\"size\":10,\"solidity\":0.2}},\"type\":\"histogram\"}],\"histogram2d\":[{\"colorbar\":{\"outlinewidth\":0,\"ticks\":\"\"},\"colorscale\":[[0.0,\"#0d0887\"],[0.1111111111111111,\"#46039f\"],[0.2222222222222222,\"#7201a8\"],[0.3333333333333333,\"#9c179e\"],[0.4444444444444444,\"#bd3786\"],[0.5555555555555556,\"#d8576b\"],[0.6666666666666666,\"#ed7953\"],[0.7777777777777778,\"#fb9f3a\"],[0.8888888888888888,\"#fdca26\"],[1.0,\"#f0f921\"]],\"type\":\"histogram2d\"}],\"histogram2dcontour\":[{\"colorbar\":{\"outlinewidth\":0,\"ticks\":\"\"},\"colorscale\":[[0.0,\"#0d0887\"],[0.1111111111111111,\"#46039f\"],[0.2222222222222222,\"#7201a8\"],[0.3333333333333333,\"#9c179e\"],[0.4444444444444444,\"#bd3786\"],[0.5555555555555556,\"#d8576b\"],[0.6666666666666666,\"#ed7953\"],[0.7777777777777778,\"#fb9f3a\"],[0.8888888888888888,\"#fdca26\"],[1.0,\"#f0f921\"]],\"type\":\"histogram2dcontour\"}],\"mesh3d\":[{\"colorbar\":{\"outlinewidth\":0,\"ticks\":\"\"},\"type\":\"mesh3d\"}],\"parcoords\":[{\"line\":{\"colorbar\":{\"outlinewidth\":0,\"ticks\":\"\"}},\"type\":\"parcoords\"}],\"pie\":[{\"automargin\":true,\"type\":\"pie\"}],\"scatter\":[{\"marker\":{\"colorbar\":{\"outlinewidth\":0,\"ticks\":\"\"}},\"type\":\"scatter\"}],\"scatter3d\":[{\"line\":{\"colorbar\":{\"outlinewidth\":0,\"ticks\":\"\"}},\"marker\":{\"colorbar\":{\"outlinewidth\":0,\"ticks\":\"\"}},\"type\":\"scatter3d\"}],\"scattercarpet\":[{\"marker\":{\"colorbar\":{\"outlinewidth\":0,\"ticks\":\"\"}},\"type\":\"scattercarpet\"}],\"scattergeo\":[{\"marker\":{\"colorbar\":{\"outlinewidth\":0,\"ticks\":\"\"}},\"type\":\"scattergeo\"}],\"scattergl\":[{\"marker\":{\"colorbar\":{\"outlinewidth\":0,\"ticks\":\"\"}},\"type\":\"scattergl\"}],\"scattermapbox\":[{\"marker\":{\"colorbar\":{\"outlinewidth\":0,\"ticks\":\"\"}},\"type\":\"scattermapbox\"}],\"scatterpolar\":[{\"marker\":{\"colorbar\":{\"outlinewidth\":0,\"ticks\":\"\"}},\"type\":\"scatterpolar\"}],\"scatterpolargl\":[{\"marker\":{\"colorbar\":{\"outlinewidth\":0,\"ticks\":\"\"}},\"type\":\"scatterpolargl\"}],\"scatterternary\":[{\"marker\":{\"colorbar\":{\"outlinewidth\":0,\"ticks\":\"\"}},\"type\":\"scatterternary\"}],\"surface\":[{\"colorbar\":{\"outlinewidth\":0,\"ticks\":\"\"},\"colorscale\":[[0.0,\"#0d0887\"],[0.1111111111111111,\"#46039f\"],[0.2222222222222222,\"#7201a8\"],[0.3333333333333333,\"#9c179e\"],[0.4444444444444444,\"#bd3786\"],[0.5555555555555556,\"#d8576b\"],[0.6666666666666666,\"#ed7953\"],[0.7777777777777778,\"#fb9f3a\"],[0.8888888888888888,\"#fdca26\"],[1.0,\"#f0f921\"]],\"type\":\"surface\"}],\"table\":[{\"cells\":{\"fill\":{\"color\":\"#EBF0F8\"},\"line\":{\"color\":\"white\"}},\"header\":{\"fill\":{\"color\":\"#C8D4E3\"},\"line\":{\"color\":\"white\"}},\"type\":\"table\"}]},\"layout\":{\"annotationdefaults\":{\"arrowcolor\":\"#2a3f5f\",\"arrowhead\":0,\"arrowwidth\":1},\"autotypenumbers\":\"strict\",\"coloraxis\":{\"colorbar\":{\"outlinewidth\":0,\"ticks\":\"\"}},\"colorscale\":{\"diverging\":[[0,\"#8e0152\"],[0.1,\"#c51b7d\"],[0.2,\"#de77ae\"],[0.3,\"#f1b6da\"],[0.4,\"#fde0ef\"],[0.5,\"#f7f7f7\"],[0.6,\"#e6f5d0\"],[0.7,\"#b8e186\"],[0.8,\"#7fbc41\"],[0.9,\"#4d9221\"],[1,\"#276419\"]],\"sequential\":[[0.0,\"#0d0887\"],[0.1111111111111111,\"#46039f\"],[0.2222222222222222,\"#7201a8\"],[0.3333333333333333,\"#9c179e\"],[0.4444444444444444,\"#bd3786\"],[0.5555555555555556,\"#d8576b\"],[0.6666666666666666,\"#ed7953\"],[0.7777777777777778,\"#fb9f3a\"],[0.8888888888888888,\"#fdca26\"],[1.0,\"#f0f921\"]],\"sequentialminus\":[[0.0,\"#0d0887\"],[0.1111111111111111,\"#46039f\"],[0.2222222222222222,\"#7201a8\"],[0.3333333333333333,\"#9c179e\"],[0.4444444444444444,\"#bd3786\"],[0.5555555555555556,\"#d8576b\"],[0.6666666666666666,\"#ed7953\"],[0.7777777777777778,\"#fb9f3a\"],[0.8888888888888888,\"#fdca26\"],[1.0,\"#f0f921\"]]},\"colorway\":[\"#636efa\",\"#EF553B\",\"#00cc96\",\"#ab63fa\",\"#FFA15A\",\"#19d3f3\",\"#FF6692\",\"#B6E880\",\"#FF97FF\",\"#FECB52\"],\"font\":{\"color\":\"#2a3f5f\"},\"geo\":{\"bgcolor\":\"white\",\"lakecolor\":\"white\",\"landcolor\":\"#E5ECF6\",\"showlakes\":true,\"showland\":true,\"subunitcolor\":\"white\"},\"hoverlabel\":{\"align\":\"left\"},\"hovermode\":\"closest\",\"mapbox\":{\"style\":\"light\"},\"paper_bgcolor\":\"white\",\"plot_bgcolor\":\"#E5ECF6\",\"polar\":{\"angularaxis\":{\"gridcolor\":\"white\",\"linecolor\":\"white\",\"ticks\":\"\"},\"bgcolor\":\"#E5ECF6\",\"radialaxis\":{\"gridcolor\":\"white\",\"linecolor\":\"white\",\"ticks\":\"\"}},\"scene\":{\"xaxis\":{\"backgroundcolor\":\"#E5ECF6\",\"gridcolor\":\"white\",\"gridwidth\":2,\"linecolor\":\"white\",\"showbackground\":true,\"ticks\":\"\",\"zerolinecolor\":\"white\"},\"yaxis\":{\"backgroundcolor\":\"#E5ECF6\",\"gridcolor\":\"white\",\"gridwidth\":2,\"linecolor\":\"white\",\"showbackground\":true,\"ticks\":\"\",\"zerolinecolor\":\"white\"},\"zaxis\":{\"backgroundcolor\":\"#E5ECF6\",\"gridcolor\":\"white\",\"gridwidth\":2,\"linecolor\":\"white\",\"showbackground\":true,\"ticks\":\"\",\"zerolinecolor\":\"white\"}},\"shapedefaults\":{\"line\":{\"color\":\"#2a3f5f\"}},\"ternary\":{\"aaxis\":{\"gridcolor\":\"white\",\"linecolor\":\"white\",\"ticks\":\"\"},\"baxis\":{\"gridcolor\":\"white\",\"linecolor\":\"white\",\"ticks\":\"\"},\"bgcolor\":\"#E5ECF6\",\"caxis\":{\"gridcolor\":\"white\",\"linecolor\":\"white\",\"ticks\":\"\"}},\"title\":{\"x\":0.05},\"xaxis\":{\"automargin\":true,\"gridcolor\":\"white\",\"linecolor\":\"white\",\"ticks\":\"\",\"title\":{\"standoff\":15},\"zerolinecolor\":\"white\",\"zerolinewidth\":2},\"yaxis\":{\"automargin\":true,\"gridcolor\":\"white\",\"linecolor\":\"white\",\"ticks\":\"\",\"title\":{\"standoff\":15},\"zerolinecolor\":\"white\",\"zerolinewidth\":2}}},\"xaxis\":{\"anchor\":\"y\",\"domain\":[0.0,1.0],\"title\":{\"text\":\"risk\"}},\"yaxis\":{\"anchor\":\"x\",\"domain\":[0.0,1.0],\"title\":{\"text\":\"count\"}},\"legend\":{\"tracegroupgap\":0},\"margin\":{\"t\":60},\"barmode\":\"relative\"},                        {\"responsive\": true}                    ).then(function(){\n",
              "                            \n",
              "var gd = document.getElementById('5c6ec890-7aaa-45fd-88de-97f750145e1c');\n",
              "var x = new MutationObserver(function (mutations, observer) {{\n",
              "        var display = window.getComputedStyle(gd).display;\n",
              "        if (!display || display === 'none') {{\n",
              "            console.log([gd, 'removed!']);\n",
              "            Plotly.purge(gd);\n",
              "            observer.disconnect();\n",
              "        }}\n",
              "}});\n",
              "\n",
              "// Listen for the removal of the full notebook cells\n",
              "var notebookContainer = gd.closest('#notebook-container');\n",
              "if (notebookContainer) {{\n",
              "    x.observe(notebookContainer, {childList: true});\n",
              "}}\n",
              "\n",
              "// Listen for the clearing of the current output cell\n",
              "var outputEl = gd.closest('.output');\n",
              "if (outputEl) {{\n",
              "    x.observe(outputEl, {childList: true});\n",
              "}}\n",
              "\n",
              "                        })                };                            </script>        </div>\n",
              "</body>\n",
              "</html>"
            ]
          },
          "metadata": {}
        }
      ]
    },
    {
      "cell_type": "code",
      "source": [
        "for column in numeric_features:\n",
        "  fig = px.scatter(df, x=column, color='risk')\n",
        "  fig.show()"
      ],
      "metadata": {
        "colab": {
          "base_uri": "https://localhost:8080/",
          "height": 1000
        },
        "id": "uReEJ7w8P0iY",
        "outputId": "103d4591-a7dc-4115-f24b-88eecff92943"
      },
      "execution_count": 930,
      "outputs": [
        {
          "output_type": "display_data",
          "data": {
            "text/html": [
              "<html>\n",
              "<head><meta charset=\"utf-8\" /></head>\n",
              "<body>\n",
              "    <div>            <script src=\"https://cdnjs.cloudflare.com/ajax/libs/mathjax/2.7.5/MathJax.js?config=TeX-AMS-MML_SVG\"></script><script type=\"text/javascript\">if (window.MathJax) {MathJax.Hub.Config({SVG: {font: \"STIX-Web\"}});}</script>                <script type=\"text/javascript\">window.PlotlyConfig = {MathJaxConfig: 'local'};</script>\n",
              "        <script src=\"https://cdn.plot.ly/plotly-2.8.3.min.js\"></script>                <div id=\"04bcbe83-e3e0-4526-8e89-5a811df1fee4\" class=\"plotly-graph-div\" style=\"height:525px; width:100%;\"></div>            <script type=\"text/javascript\">                                    window.PLOTLYENV=window.PLOTLYENV || {};                                    if (document.getElementById(\"04bcbe83-e3e0-4526-8e89-5a811df1fee4\")) {                    Plotly.newPlot(                        \"04bcbe83-e3e0-4526-8e89-5a811df1fee4\",                        [{\"hovertemplate\":\"risk=good<br>duration=%{x}<br>index=%{y}<extra></extra>\",\"legendgroup\":\"good\",\"marker\":{\"color\":\"#636efa\",\"symbol\":\"circle\"},\"mode\":\"markers\",\"name\":\"good\",\"orientation\":\"h\",\"showlegend\":true,\"x\":[6.0,12.0,42.0,36.0,24.0,36.0,12.0,12.0,15.0,24.0,30.0,24.0,9.0,6.0,10.0,12.0,10.0,6.0,6.0,12.0,7.0,18.0,24.0,18.0,12.0,12.0,48.0,10.0,9.0,30.0,12.0,18.0,30.0,11.0,36.0,6.0,11.0,12.0,24.0,27.0,12.0,18.0,6.0,36.0,18.0,9.0,15.0,24.0,27.0,12.0,12.0,36.0,36.0,7.0,8.0,42.0,12.0,11.0,54.0,30.0,15.0,18.0,24.0,10.0,12.0,18.0,18.0,12.0,12.0,24.0,12.0,12.0,18.0,36.0,20.0,24.0,36.0,6.0,9.0,12.0,12.0,24.0,14.0,6.0,15.0,18.0,12.0,48.0,10.0,12.0,24.0,12.0,10.0,12.0,12.0,12.0,48.0,15.0,18.0,60.0,12.0,27.0,15.0,12.0,6.0,36.0,27.0,21.0,48.0,6.0,12.0,36.0,18.0,6.0,10.0,36.0,24.0,24.0,9.0,12.0,24.0,6.0,24.0,18.0,15.0,10.0,36.0,6.0,11.0,24.0,12.0,8.0,12.0,6.0,12.0,21.0,24.0,15.0,16.0,18.0,6.0,6.0,24.0,9.0,12.0,27.0,12.0,30.0,12.0,12.0,24.0,12.0,9.0,36.0,36.0,6.0,18.0,36.0,24.0,10.0,12.0,12.0,12.0,24.0,15.0,36.0,24.0,9.0,12.0,18.0,4.0,12.0,30.0,6.0,12.0,12.0,24.0,12.0,6.0,24.0,6.0,12.0,24.0,9.0,60.0,24.0,15.0,11.0,12.0,24.0,18.0,12.0,10.0,36.0,24.0,24.0,18.0,12.0,48.0,9.0,18.0,12.0,24.0,15.0,12.0,18.0,15.0,24.0,47.0,48.0,48.0,12.0,12.0,24.0,42.0,48.0,12.0,10.0,18.0,21.0,6.0,10.0,6.0,30.0,9.0,48.0,24.0,24.0,4.0,12.0,24.0,12.0,15.0,24.0,18.0,18.0,8.0,12.0,24.0,36.0,6.0,24.0,13.0,24.0,10.0,24.0,21.0,18.0,18.0,10.0,15.0,13.0,24.0,6.0,9.0,18.0,10.0,12.0,12.0,18.0,12.0,12.0,6.0,12.0,18.0,18.0,18.0,36.0,18.0,10.0,60.0,18.0,7.0,6.0,20.0,22.0,12.0,30.0,18.0,18.0,18.0,15.0,9.0,18.0,12.0,36.0,6.0,9.0,39.0,12.0,36.0,24.0,18.0,18.0,14.0,18.0,24.0,15.0,24.0,24.0,33.0,10.0,36.0,18.0,21.0,15.0,12.0,12.0,21.0,18.0,28.0,18.0,9.0,5.0,6.0,24.0,9.0,6.0,24.0,42.0,12.0,12.0,20.0,9.0,7.0,12.0,36.0,6.0,12.0,24.0,24.0,11.0,6.0,18.0,36.0,15.0,12.0,12.0,18.0,24.0,48.0,33.0,24.0,6.0,39.0,24.0,12.0,15.0,12.0,24.0,30.0,15.0,12.0,12.0,24.0,10.0,6.0,12.0,6.0,6.0,12.0,24.0,18.0,6.0,36.0,9.0,15.0,24.0,39.0,36.0,15.0,12.0,24.0,6.0,6.0,6.0,6.0,24.0,24.0,18.0,26.0,15.0,4.0,6.0,36.0,12.0,24.0,24.0,6.0,18.0,18.0,24.0,12.0,24.0,24.0,48.0,12.0,6.0,12.0,9.0,24.0,6.0,24.0,24.0,24.0,48.0,30.0,24.0,15.0,9.0,15.0,12.0,24.0,24.0,12.0,9.0,12.0,9.0,12.0,12.0,24.0,21.0,24.0,7.0,10.0,24.0,24.0,18.0,15.0,21.0,24.0,48.0,60.0,6.0,12.0,21.0,12.0,15.0,6.0,42.0,9.0,24.0,15.0,12.0,24.0,60.0,12.0,15.0,24.0,18.0,30.0,48.0,24.0,14.0,48.0,30.0,18.0,12.0,21.0,6.0,6.0,24.0,30.0,48.0,30.0,24.0,36.0,60.0,6.0,30.0,24.0,24.0,18.0,6.0,12.0,15.0,24.0,36.0,60.0,10.0,36.0,9.0,12.0,15.0,15.0,24.0,6.0,24.0,6.0,12.0,12.0,18.0,15.0,24.0,30.0,27.0,15.0,9.0,9.0,18.0,21.0,9.0,30.0,30.0,18.0,24.0,20.0,9.0,6.0,15.0,24.0,24.0,8.0,24.0,4.0,36.0,18.0,6.0,24.0,10.0,21.0,24.0,39.0,13.0,15.0,21.0,15.0,6.0,12.0,30.0,6.0,24.0,15.0,12.0,24.0,12.0,10.0,12.0,12.0,24.0,21.0,24.0,12.0,36.0,18.0,36.0,18.0,24.0,12.0,20.0,18.0,22.0,48.0,24.0,6.0,24.0,24.0,9.0,12.0,24.0,9.0,24.0,18.0,20.0,12.0,12.0,6.0,12.0,42.0,8.0,6.0,36.0,6.0,6.0,36.0,12.0,12.0,8.0,18.0,21.0,48.0,24.0,24.0,12.0,4.0,24.0,24.0,21.0,24.0,18.0,21.0,24.0,9.0,24.0,15.0,36.0,24.0,10.0,15.0,9.0,24.0,27.0,15.0,18.0,12.0,36.0,12.0,36.0,6.0,24.0,15.0,12.0,11.0,18.0,36.0,30.0,24.0,24.0,30.0,18.0,24.0,36.0,28.0,27.0,15.0,12.0,36.0,18.0,36.0,21.0,12.0,15.0,20.0,36.0,15.0,24.0,12.0,21.0,36.0,15.0,9.0,36.0,30.0,11.0,10.0,18.0,48.0,12.0,18.0,30.0,12.0,24.0,9.0,12.0,12.0,6.0,24.0,12.0,10.0,24.0,4.0,15.0,48.0,12.0,18.0,12.0,24.0,30.0,9.0,24.0,6.0,21.0,15.0,6.0,30.0,15.0,42.0,11.0,15.0,24.0,30.0,24.0,6.0,18.0,21.0,24.0,15.0,42.0,13.0,24.0,24.0,12.0,15.0,18.0,36.0,12.0,12.0,30.0,12.0,45.0],\"xaxis\":\"x\",\"y\":[0,2,3,5,6,7,8,12,14,16,17,19,20,21,22,23,24,25,26,27,28,30,31,32,33,34,36,38,39,40,41,42,43,45,46,47,48,49,50,51,52,53,55,57,58,60,61,64,65,66,67,69,70,71,72,73,75,77,78,79,81,82,83,84,85,86,88,90,91,93,94,96,97,98,99,100,101,102,103,104,107,108,109,110,111,112,114,115,117,119,121,122,123,125,126,128,130,132,133,134,135,136,138,139,140,141,142,144,145,146,147,148,149,150,151,152,153,154,156,157,158,159,160,161,162,163,164,165,167,168,171,173,176,177,178,179,183,185,187,189,193,196,198,200,201,202,204,205,206,207,208,209,210,211,214,215,216,217,218,219,220,221,222,223,224,225,229,231,232,233,234,238,239,241,243,244,245,246,247,248,250,251,253,254,255,256,258,259,260,261,262,263,264,266,267,269,270,271,272,275,276,277,279,280,281,282,283,284,285,286,287,288,290,292,293,294,296,297,298,299,300,303,305,306,309,310,311,312,314,316,317,318,319,322,323,324,325,326,327,328,329,330,336,338,339,340,341,342,343,344,345,346,347,348,350,352,354,356,358,360,361,362,363,365,366,367,369,370,371,372,373,376,377,379,380,382,383,384,385,386,387,388,389,390,391,392,393,394,395,396,397,399,400,401,403,404,406,407,408,410,411,413,415,417,418,420,421,422,423,425,426,427,428,430,432,433,434,436,437,438,440,441,442,445,447,448,450,451,452,453,455,456,458,459,460,461,462,463,464,465,467,468,469,473,476,477,478,479,480,481,482,483,484,486,487,488,489,490,492,493,494,497,498,499,501,502,506,508,509,511,512,513,514,515,516,518,519,520,523,524,525,526,527,529,530,532,533,534,536,537,539,541,544,546,547,549,550,551,553,554,560,562,564,565,567,568,571,572,573,574,575,576,577,579,581,582,584,586,587,590,591,592,599,600,604,605,606,608,609,612,613,615,616,617,619,620,623,625,626,628,629,630,632,635,636,637,638,641,643,644,646,650,654,655,657,658,659,660,662,663,664,665,666,667,669,670,671,672,673,675,676,678,679,680,681,682,683,684,685,686,687,688,689,690,691,692,693,694,695,696,697,698,699,702,703,704,705,708,709,710,712,713,715,716,717,718,719,723,725,726,729,730,732,733,734,735,737,738,740,741,742,743,744,745,746,748,749,750,752,753,756,758,760,762,764,765,767,768,769,770,772,773,774,776,777,778,779,781,782,784,785,786,787,791,792,793,794,795,797,798,799,800,801,802,803,804,806,807,808,810,811,815,816,817,818,820,821,823,824,825,829,830,833,836,837,838,839,841,843,844,845,847,848,851,852,854,855,856,857,859,860,863,865,866,867,868,869,870,871,872,873,874,875,876,877,879,880,881,882,883,886,888,889,890,891,892,893,894,895,896,897,898,901,902,903,904,905,906,907,908,909,910,912,913,916,920,921,923,926,928,929,930,932,933,934,937,939,940,941,942,943,944,945,947,950,954,955,956,957,959,960,961,962,964,965,967,968,969,970,971,974,975,976,977,982,984,985,986,987,988,989,990,991,992,993,994,995,996,997,999],\"yaxis\":\"y\",\"type\":\"scatter\"},{\"hovertemplate\":\"risk=bad<br>duration=%{x}<br>index=%{y}<extra></extra>\",\"legendgroup\":\"bad\",\"marker\":{\"color\":\"#EF553B\",\"symbol\":\"circle\"},\"mode\":\"markers\",\"name\":\"bad\",\"orientation\":\"h\",\"showlegend\":true,\"x\":[48.0,24.0,30.0,12.0,48.0,24.0,24.0,24.0,60.0,45.0,18.0,48.0,36.0,12.0,36.0,36.0,48.0,36.0,36.0,42.0,24.0,36.0,12.0,12.0,54.0,24.0,18.0,36.0,42.0,33.0,21.0,18.0,12.0,12.0,36.0,12.0,18.0,12.0,18.0,24.0,15.0,24.0,21.0,30.0,36.0,36.0,21.0,18.0,9.0,12.0,24.0,48.0,27.0,45.0,9.0,12.0,18.0,12.0,27.0,30.0,48.0,12.0,9.0,36.0,24.0,6.0,21.0,24.0,48.0,18.0,30.0,12.0,15.0,14.0,48.0,30.0,6.0,24.0,36.0,48.0,36.0,24.0,48.0,12.0,8.0,12.0,36.0,30.0,24.0,18.0,60.0,48.0,24.0,6.0,15.0,9.0,9.0,12.0,24.0,36.0,30.0,18.0,36.0,60.0,48.0,36.0,18.0,12.0,24.0,24.0,12.0,12.0,24.0,12.0,18.0,12.0,18.0,24.0,12.0,12.0,12.0,48.0,36.0,15.0,24.0,12.0,24.0,24.0,6.0,9.0,18.0,18.0,6.0,27.0,24.0,36.0,24.0,24.0,24.0,10.0,15.0,12.0,36.0,18.0,48.0,36.0,15.0,21.0,48.0,12.0,30.0,18.0,24.0,12.0,48.0,12.0,18.0,21.0,24.0,18.0,24.0,36.0,12.0,48.0,24.0,36.0,18.0,36.0,18.0,18.0,12.0,24.0,24.0,6.0,24.0,24.0,18.0,9.0,24.0,36.0,36.0,12.0,10.0,18.0,30.0,18.0,48.0,18.0,9.0,18.0,9.0,24.0,42.0,18.0,15.0,36.0,12.0,24.0,12.0,12.0,24.0,36.0,12.0,12.0,12.0,21.0,72.0,12.0,48.0,48.0,12.0,6.0,60.0,9.0,6.0,12.0,27.0,18.0,48.0,24.0,24.0,30.0,12.0,18.0,12.0,24.0,15.0,12.0,18.0,21.0,30.0,36.0,24.0,39.0,12.0,48.0,40.0,21.0,18.0,36.0,15.0,36.0,48.0,48.0,18.0,36.0,18.0,18.0,36.0,18.0,45.0,15.0,12.0,36.0,18.0,18.0,12.0,20.0,18.0,15.0,18.0,24.0,10.0,9.0,24.0,12.0,48.0,18.0,16.0,24.0,24.0,48.0,6.0,24.0,24.0,9.0,24.0,12.0,48.0,9.0,30.0,9.0,60.0,24.0,18.0,24.0,36.0,24.0,36.0,28.0,24.0,27.0,24.0,60.0,24.0,15.0,30.0,48.0,36.0,45.0],\"xaxis\":\"x\",\"y\":[1,4,9,10,11,13,15,18,29,35,37,44,54,56,59,62,63,68,74,76,80,87,89,92,95,105,106,113,116,118,120,124,127,129,131,137,143,155,166,169,170,172,174,175,180,181,182,184,186,188,190,191,192,194,195,197,199,203,212,213,226,227,228,230,235,236,237,240,242,249,252,257,265,268,273,274,278,289,291,295,301,302,304,307,308,313,315,320,321,331,332,333,334,335,337,349,351,353,355,357,359,364,368,374,375,378,381,398,402,405,409,412,414,416,419,424,429,431,435,439,443,444,446,449,454,457,466,470,471,472,474,475,485,491,495,496,500,503,504,505,507,510,517,521,522,528,531,535,538,540,542,543,545,548,552,555,556,557,558,559,561,563,566,569,570,578,580,583,585,588,589,593,594,595,596,597,598,601,602,603,607,610,611,614,618,621,622,624,627,631,633,634,639,640,642,645,647,648,649,651,652,653,656,661,668,674,677,700,701,706,707,711,714,720,721,722,724,727,728,731,736,739,747,751,754,755,757,759,761,763,766,771,775,780,783,788,789,790,796,805,809,812,813,814,819,822,826,827,828,831,832,834,835,840,842,846,849,850,853,858,861,862,864,878,884,885,887,899,900,911,914,915,917,918,919,922,924,925,927,931,935,936,938,946,948,949,951,952,953,958,963,966,972,973,978,979,980,981,983,998],\"yaxis\":\"y\",\"type\":\"scatter\"}],                        {\"template\":{\"data\":{\"bar\":[{\"error_x\":{\"color\":\"#2a3f5f\"},\"error_y\":{\"color\":\"#2a3f5f\"},\"marker\":{\"line\":{\"color\":\"#E5ECF6\",\"width\":0.5},\"pattern\":{\"fillmode\":\"overlay\",\"size\":10,\"solidity\":0.2}},\"type\":\"bar\"}],\"barpolar\":[{\"marker\":{\"line\":{\"color\":\"#E5ECF6\",\"width\":0.5},\"pattern\":{\"fillmode\":\"overlay\",\"size\":10,\"solidity\":0.2}},\"type\":\"barpolar\"}],\"carpet\":[{\"aaxis\":{\"endlinecolor\":\"#2a3f5f\",\"gridcolor\":\"white\",\"linecolor\":\"white\",\"minorgridcolor\":\"white\",\"startlinecolor\":\"#2a3f5f\"},\"baxis\":{\"endlinecolor\":\"#2a3f5f\",\"gridcolor\":\"white\",\"linecolor\":\"white\",\"minorgridcolor\":\"white\",\"startlinecolor\":\"#2a3f5f\"},\"type\":\"carpet\"}],\"choropleth\":[{\"colorbar\":{\"outlinewidth\":0,\"ticks\":\"\"},\"type\":\"choropleth\"}],\"contour\":[{\"colorbar\":{\"outlinewidth\":0,\"ticks\":\"\"},\"colorscale\":[[0.0,\"#0d0887\"],[0.1111111111111111,\"#46039f\"],[0.2222222222222222,\"#7201a8\"],[0.3333333333333333,\"#9c179e\"],[0.4444444444444444,\"#bd3786\"],[0.5555555555555556,\"#d8576b\"],[0.6666666666666666,\"#ed7953\"],[0.7777777777777778,\"#fb9f3a\"],[0.8888888888888888,\"#fdca26\"],[1.0,\"#f0f921\"]],\"type\":\"contour\"}],\"contourcarpet\":[{\"colorbar\":{\"outlinewidth\":0,\"ticks\":\"\"},\"type\":\"contourcarpet\"}],\"heatmap\":[{\"colorbar\":{\"outlinewidth\":0,\"ticks\":\"\"},\"colorscale\":[[0.0,\"#0d0887\"],[0.1111111111111111,\"#46039f\"],[0.2222222222222222,\"#7201a8\"],[0.3333333333333333,\"#9c179e\"],[0.4444444444444444,\"#bd3786\"],[0.5555555555555556,\"#d8576b\"],[0.6666666666666666,\"#ed7953\"],[0.7777777777777778,\"#fb9f3a\"],[0.8888888888888888,\"#fdca26\"],[1.0,\"#f0f921\"]],\"type\":\"heatmap\"}],\"heatmapgl\":[{\"colorbar\":{\"outlinewidth\":0,\"ticks\":\"\"},\"colorscale\":[[0.0,\"#0d0887\"],[0.1111111111111111,\"#46039f\"],[0.2222222222222222,\"#7201a8\"],[0.3333333333333333,\"#9c179e\"],[0.4444444444444444,\"#bd3786\"],[0.5555555555555556,\"#d8576b\"],[0.6666666666666666,\"#ed7953\"],[0.7777777777777778,\"#fb9f3a\"],[0.8888888888888888,\"#fdca26\"],[1.0,\"#f0f921\"]],\"type\":\"heatmapgl\"}],\"histogram\":[{\"marker\":{\"pattern\":{\"fillmode\":\"overlay\",\"size\":10,\"solidity\":0.2}},\"type\":\"histogram\"}],\"histogram2d\":[{\"colorbar\":{\"outlinewidth\":0,\"ticks\":\"\"},\"colorscale\":[[0.0,\"#0d0887\"],[0.1111111111111111,\"#46039f\"],[0.2222222222222222,\"#7201a8\"],[0.3333333333333333,\"#9c179e\"],[0.4444444444444444,\"#bd3786\"],[0.5555555555555556,\"#d8576b\"],[0.6666666666666666,\"#ed7953\"],[0.7777777777777778,\"#fb9f3a\"],[0.8888888888888888,\"#fdca26\"],[1.0,\"#f0f921\"]],\"type\":\"histogram2d\"}],\"histogram2dcontour\":[{\"colorbar\":{\"outlinewidth\":0,\"ticks\":\"\"},\"colorscale\":[[0.0,\"#0d0887\"],[0.1111111111111111,\"#46039f\"],[0.2222222222222222,\"#7201a8\"],[0.3333333333333333,\"#9c179e\"],[0.4444444444444444,\"#bd3786\"],[0.5555555555555556,\"#d8576b\"],[0.6666666666666666,\"#ed7953\"],[0.7777777777777778,\"#fb9f3a\"],[0.8888888888888888,\"#fdca26\"],[1.0,\"#f0f921\"]],\"type\":\"histogram2dcontour\"}],\"mesh3d\":[{\"colorbar\":{\"outlinewidth\":0,\"ticks\":\"\"},\"type\":\"mesh3d\"}],\"parcoords\":[{\"line\":{\"colorbar\":{\"outlinewidth\":0,\"ticks\":\"\"}},\"type\":\"parcoords\"}],\"pie\":[{\"automargin\":true,\"type\":\"pie\"}],\"scatter\":[{\"marker\":{\"colorbar\":{\"outlinewidth\":0,\"ticks\":\"\"}},\"type\":\"scatter\"}],\"scatter3d\":[{\"line\":{\"colorbar\":{\"outlinewidth\":0,\"ticks\":\"\"}},\"marker\":{\"colorbar\":{\"outlinewidth\":0,\"ticks\":\"\"}},\"type\":\"scatter3d\"}],\"scattercarpet\":[{\"marker\":{\"colorbar\":{\"outlinewidth\":0,\"ticks\":\"\"}},\"type\":\"scattercarpet\"}],\"scattergeo\":[{\"marker\":{\"colorbar\":{\"outlinewidth\":0,\"ticks\":\"\"}},\"type\":\"scattergeo\"}],\"scattergl\":[{\"marker\":{\"colorbar\":{\"outlinewidth\":0,\"ticks\":\"\"}},\"type\":\"scattergl\"}],\"scattermapbox\":[{\"marker\":{\"colorbar\":{\"outlinewidth\":0,\"ticks\":\"\"}},\"type\":\"scattermapbox\"}],\"scatterpolar\":[{\"marker\":{\"colorbar\":{\"outlinewidth\":0,\"ticks\":\"\"}},\"type\":\"scatterpolar\"}],\"scatterpolargl\":[{\"marker\":{\"colorbar\":{\"outlinewidth\":0,\"ticks\":\"\"}},\"type\":\"scatterpolargl\"}],\"scatterternary\":[{\"marker\":{\"colorbar\":{\"outlinewidth\":0,\"ticks\":\"\"}},\"type\":\"scatterternary\"}],\"surface\":[{\"colorbar\":{\"outlinewidth\":0,\"ticks\":\"\"},\"colorscale\":[[0.0,\"#0d0887\"],[0.1111111111111111,\"#46039f\"],[0.2222222222222222,\"#7201a8\"],[0.3333333333333333,\"#9c179e\"],[0.4444444444444444,\"#bd3786\"],[0.5555555555555556,\"#d8576b\"],[0.6666666666666666,\"#ed7953\"],[0.7777777777777778,\"#fb9f3a\"],[0.8888888888888888,\"#fdca26\"],[1.0,\"#f0f921\"]],\"type\":\"surface\"}],\"table\":[{\"cells\":{\"fill\":{\"color\":\"#EBF0F8\"},\"line\":{\"color\":\"white\"}},\"header\":{\"fill\":{\"color\":\"#C8D4E3\"},\"line\":{\"color\":\"white\"}},\"type\":\"table\"}]},\"layout\":{\"annotationdefaults\":{\"arrowcolor\":\"#2a3f5f\",\"arrowhead\":0,\"arrowwidth\":1},\"autotypenumbers\":\"strict\",\"coloraxis\":{\"colorbar\":{\"outlinewidth\":0,\"ticks\":\"\"}},\"colorscale\":{\"diverging\":[[0,\"#8e0152\"],[0.1,\"#c51b7d\"],[0.2,\"#de77ae\"],[0.3,\"#f1b6da\"],[0.4,\"#fde0ef\"],[0.5,\"#f7f7f7\"],[0.6,\"#e6f5d0\"],[0.7,\"#b8e186\"],[0.8,\"#7fbc41\"],[0.9,\"#4d9221\"],[1,\"#276419\"]],\"sequential\":[[0.0,\"#0d0887\"],[0.1111111111111111,\"#46039f\"],[0.2222222222222222,\"#7201a8\"],[0.3333333333333333,\"#9c179e\"],[0.4444444444444444,\"#bd3786\"],[0.5555555555555556,\"#d8576b\"],[0.6666666666666666,\"#ed7953\"],[0.7777777777777778,\"#fb9f3a\"],[0.8888888888888888,\"#fdca26\"],[1.0,\"#f0f921\"]],\"sequentialminus\":[[0.0,\"#0d0887\"],[0.1111111111111111,\"#46039f\"],[0.2222222222222222,\"#7201a8\"],[0.3333333333333333,\"#9c179e\"],[0.4444444444444444,\"#bd3786\"],[0.5555555555555556,\"#d8576b\"],[0.6666666666666666,\"#ed7953\"],[0.7777777777777778,\"#fb9f3a\"],[0.8888888888888888,\"#fdca26\"],[1.0,\"#f0f921\"]]},\"colorway\":[\"#636efa\",\"#EF553B\",\"#00cc96\",\"#ab63fa\",\"#FFA15A\",\"#19d3f3\",\"#FF6692\",\"#B6E880\",\"#FF97FF\",\"#FECB52\"],\"font\":{\"color\":\"#2a3f5f\"},\"geo\":{\"bgcolor\":\"white\",\"lakecolor\":\"white\",\"landcolor\":\"#E5ECF6\",\"showlakes\":true,\"showland\":true,\"subunitcolor\":\"white\"},\"hoverlabel\":{\"align\":\"left\"},\"hovermode\":\"closest\",\"mapbox\":{\"style\":\"light\"},\"paper_bgcolor\":\"white\",\"plot_bgcolor\":\"#E5ECF6\",\"polar\":{\"angularaxis\":{\"gridcolor\":\"white\",\"linecolor\":\"white\",\"ticks\":\"\"},\"bgcolor\":\"#E5ECF6\",\"radialaxis\":{\"gridcolor\":\"white\",\"linecolor\":\"white\",\"ticks\":\"\"}},\"scene\":{\"xaxis\":{\"backgroundcolor\":\"#E5ECF6\",\"gridcolor\":\"white\",\"gridwidth\":2,\"linecolor\":\"white\",\"showbackground\":true,\"ticks\":\"\",\"zerolinecolor\":\"white\"},\"yaxis\":{\"backgroundcolor\":\"#E5ECF6\",\"gridcolor\":\"white\",\"gridwidth\":2,\"linecolor\":\"white\",\"showbackground\":true,\"ticks\":\"\",\"zerolinecolor\":\"white\"},\"zaxis\":{\"backgroundcolor\":\"#E5ECF6\",\"gridcolor\":\"white\",\"gridwidth\":2,\"linecolor\":\"white\",\"showbackground\":true,\"ticks\":\"\",\"zerolinecolor\":\"white\"}},\"shapedefaults\":{\"line\":{\"color\":\"#2a3f5f\"}},\"ternary\":{\"aaxis\":{\"gridcolor\":\"white\",\"linecolor\":\"white\",\"ticks\":\"\"},\"baxis\":{\"gridcolor\":\"white\",\"linecolor\":\"white\",\"ticks\":\"\"},\"bgcolor\":\"#E5ECF6\",\"caxis\":{\"gridcolor\":\"white\",\"linecolor\":\"white\",\"ticks\":\"\"}},\"title\":{\"x\":0.05},\"xaxis\":{\"automargin\":true,\"gridcolor\":\"white\",\"linecolor\":\"white\",\"ticks\":\"\",\"title\":{\"standoff\":15},\"zerolinecolor\":\"white\",\"zerolinewidth\":2},\"yaxis\":{\"automargin\":true,\"gridcolor\":\"white\",\"linecolor\":\"white\",\"ticks\":\"\",\"title\":{\"standoff\":15},\"zerolinecolor\":\"white\",\"zerolinewidth\":2}}},\"xaxis\":{\"anchor\":\"y\",\"domain\":[0.0,1.0],\"title\":{\"text\":\"duration\"}},\"yaxis\":{\"anchor\":\"x\",\"domain\":[0.0,1.0],\"title\":{\"text\":\"index\"}},\"legend\":{\"title\":{\"text\":\"risk\"},\"tracegroupgap\":0},\"margin\":{\"t\":60}},                        {\"responsive\": true}                    ).then(function(){\n",
              "                            \n",
              "var gd = document.getElementById('04bcbe83-e3e0-4526-8e89-5a811df1fee4');\n",
              "var x = new MutationObserver(function (mutations, observer) {{\n",
              "        var display = window.getComputedStyle(gd).display;\n",
              "        if (!display || display === 'none') {{\n",
              "            console.log([gd, 'removed!']);\n",
              "            Plotly.purge(gd);\n",
              "            observer.disconnect();\n",
              "        }}\n",
              "}});\n",
              "\n",
              "// Listen for the removal of the full notebook cells\n",
              "var notebookContainer = gd.closest('#notebook-container');\n",
              "if (notebookContainer) {{\n",
              "    x.observe(notebookContainer, {childList: true});\n",
              "}}\n",
              "\n",
              "// Listen for the clearing of the current output cell\n",
              "var outputEl = gd.closest('.output');\n",
              "if (outputEl) {{\n",
              "    x.observe(outputEl, {childList: true});\n",
              "}}\n",
              "\n",
              "                        })                };                            </script>        </div>\n",
              "</body>\n",
              "</html>"
            ]
          },
          "metadata": {}
        },
        {
          "output_type": "display_data",
          "data": {
            "text/html": [
              "<html>\n",
              "<head><meta charset=\"utf-8\" /></head>\n",
              "<body>\n",
              "    <div>            <script src=\"https://cdnjs.cloudflare.com/ajax/libs/mathjax/2.7.5/MathJax.js?config=TeX-AMS-MML_SVG\"></script><script type=\"text/javascript\">if (window.MathJax) {MathJax.Hub.Config({SVG: {font: \"STIX-Web\"}});}</script>                <script type=\"text/javascript\">window.PlotlyConfig = {MathJaxConfig: 'local'};</script>\n",
              "        <script src=\"https://cdn.plot.ly/plotly-2.8.3.min.js\"></script>                <div id=\"55d20723-b010-43d4-8b38-fc9b1b719cf4\" class=\"plotly-graph-div\" style=\"height:525px; width:100%;\"></div>            <script type=\"text/javascript\">                                    window.PLOTLYENV=window.PLOTLYENV || {};                                    if (document.getElementById(\"55d20723-b010-43d4-8b38-fc9b1b719cf4\")) {                    Plotly.newPlot(                        \"55d20723-b010-43d4-8b38-fc9b1b719cf4\",                        [{\"hovertemplate\":\"risk=good<br>credit_amount=%{x}<br>index=%{y}<extra></extra>\",\"legendgroup\":\"good\",\"marker\":{\"color\":\"#636efa\",\"symbol\":\"circle\"},\"mode\":\"markers\",\"name\":\"good\",\"orientation\":\"h\",\"showlegend\":true,\"x\":[1169.0,2096.0,7882.0,9055.0,2835.0,6948.0,3059.0,1567.0,1403.0,2424.0,8072.0,3430.0,2134.0,2647.0,2241.0,1804.0,2069.0,1374.0,426.0,409.0,2415.0,1913.0,4020.0,5866.0,1264.0,1474.0,6110.0,1225.0,458.0,2333.0,1158.0,6204.0,6187.0,1393.0,2299.0,1352.0,7228.0,2073.0,2333.0,5965.0,1262.0,3378.0,783.0,9566.0,1961.0,1391.0,1537.0,3181.0,5190.0,2171.0,1007.0,2394.0,8133.0,730.0,1164.0,5954.0,1526.0,4771.0,9436.0,3832.0,1213.0,1568.0,1755.0,2315.0,1412.0,1295.0,2249.0,618.0,1409.0,3617.0,1318.0,2012.0,2622.0,2337.0,7057.0,1469.0,2323.0,932.0,1919.0,2445.0,6078.0,7721.0,1410.0,1449.0,392.0,6260.0,1680.0,3578.0,2132.0,2366.0,3868.0,1768.0,781.0,2121.0,701.0,1860.0,8487.0,2708.0,1984.0,10144.0,1240.0,8613.0,2728.0,1881.0,709.0,4795.0,3416.0,2288.0,3566.0,860.0,682.0,5371.0,1582.0,1346.0,1924.0,5848.0,7758.0,6967.0,1288.0,339.0,3512.0,1898.0,2872.0,1055.0,1262.0,7308.0,909.0,2978.0,1577.0,3972.0,763.0,1414.0,2577.0,338.0,1963.0,571.0,3777.0,1360.0,1175.0,3244.0,2108.0,1382.0,2760.0,936.0,1168.0,5117.0,1495.0,10623.0,1935.0,1424.0,6568.0,1413.0,3074.0,3835.0,3342.0,932.0,3104.0,3913.0,3021.0,1364.0,625.0,1200.0,707.0,2978.0,4657.0,2613.0,3149.0,2507.0,2141.0,866.0,1544.0,1291.0,2522.0,1595.0,1185.0,3447.0,1258.0,717.0,1204.0,1925.0,666.0,2251.0,4151.0,2030.0,7418.0,2684.0,3812.0,1154.0,1657.0,1603.0,5302.0,2748.0,1231.0,6304.0,1533.0,999.0,2662.0,1402.0,12169.0,2697.0,2404.0,1262.0,1901.0,3368.0,1574.0,1445.0,1520.0,3878.0,10722.0,4788.0,7582.0,1092.0,1076.0,6419.0,4796.0,7629.0,4675.0,1287.0,2515.0,2745.0,672.0,1038.0,1543.0,4811.0,276.0,5381.0,5511.0,3749.0,1494.0,708.0,4351.0,701.0,3643.0,2910.0,2659.0,1028.0,3398.0,5801.0,1525.0,4473.0,1068.0,6615.0,2101.0,4169.0,1521.0,5743.0,3599.0,3213.0,4439.0,3949.0,1459.0,882.0,3758.0,1743.0,1236.0,3229.0,727.0,2331.0,776.0,1239.0,3399.0,2247.0,1766.0,1542.0,3850.0,3650.0,3001.0,3079.0,6070.0,2146.0,13756.0,2320.0,846.0,362.0,2212.0,1283.0,1330.0,4272.0,2238.0,1126.0,7374.0,2326.0,1449.0,1820.0,983.0,3249.0,1957.0,2406.0,11760.0,2578.0,2348.0,1516.0,1473.0,1887.0,802.0,2899.0,2197.0,1053.0,3235.0,1967.0,7253.0,1597.0,5842.0,8471.0,2782.0,3186.0,2028.0,958.0,1591.0,2779.0,2743.0,1149.0,1313.0,3448.0,1872.0,2058.0,2136.0,660.0,1287.0,3394.0,1884.0,1620.0,2629.0,1244.0,2576.0,1424.0,11054.0,518.0,2759.0,2670.0,2679.0,3905.0,343.0,4594.0,3620.0,1721.0,3017.0,754.0,1950.0,2924.0,7238.0,2764.0,4679.0,1238.0,2569.0,5152.0,1037.0,1478.0,3573.0,1201.0,3622.0,960.0,1163.0,3077.0,3757.0,1418.0,3518.0,1934.0,1237.0,368.0,2122.0,1585.0,1301.0,1323.0,5493.0,1126.0,2360.0,1413.0,8588.0,4686.0,2687.0,585.0,2255.0,609.0,1361.0,1203.0,700.0,5507.0,3488.0,1113.0,7966.0,1532.0,1503.0,662.0,2273.0,1503.0,1311.0,3105.0,1374.0,3612.0,3049.0,2032.0,1255.0,2022.0,1552.0,8858.0,996.0,1750.0,1995.0,1199.0,2964.0,683.0,4712.0,1553.0,2578.0,3979.0,5954.0,5433.0,806.0,1082.0,2788.0,2930.0,1927.0,937.0,3124.0,1388.0,2133.0,2799.0,1289.0,385.0,1965.0,1572.0,3863.0,2329.0,1275.0,2828.0,4526.0,2051.0,1300.0,3357.0,3632.0,12204.0,9157.0,3676.0,640.0,3652.0,1858.0,1979.0,2116.0,4042.0,3832.0,3660.0,1444.0,1393.0,1376.0,15653.0,1493.0,1308.0,1851.0,1880.0,4583.0,7476.0,2346.0,3973.0,10222.0,4221.0,6361.0,1297.0,2241.0,1050.0,1047.0,6314.0,3496.0,3609.0,3017.0,4139.0,5742.0,10366.0,2080.0,4530.0,5150.0,2384.0,1453.0,1538.0,2279.0,1478.0,5103.0,9857.0,6527.0,1347.0,2862.0,2753.0,3651.0,975.0,2631.0,2896.0,4716.0,2284.0,1236.0,1103.0,926.0,1800.0,1905.0,1377.0,2503.0,2528.0,5324.0,1206.0,2118.0,629.0,2476.0,1138.0,7596.0,3077.0,1505.0,3148.0,6148.0,790.0,250.0,1316.0,1275.0,6403.0,760.0,2603.0,3380.0,3990.0,4380.0,6761.0,2325.0,1048.0,3160.0,2483.0,14179.0,1797.0,2511.0,5248.0,3029.0,428.0,841.0,5771.0,1299.0,1393.0,5045.0,2214.0,2463.0,1155.0,2901.0,3617.0,1655.0,2812.0,3275.0,2223.0,1480.0,3535.0,3509.0,5711.0,3872.0,1940.0,1410.0,6468.0,1941.0,2675.0,2751.0,6313.0,1221.0,2892.0,3062.0,2301.0,1258.0,717.0,1549.0,1597.0,1795.0,4272.0,976.0,7472.0,590.0,930.0,9283.0,907.0,484.0,7432.0,1338.0,1554.0,15857.0,1101.0,3016.0,731.0,3780.0,1602.0,6681.0,2375.0,5084.0,886.0,601.0,2957.0,2611.0,2993.0,1559.0,3422.0,3976.0,1249.0,1364.0,4042.0,1471.0,10875.0,1474.0,894.0,3343.0,3577.0,5804.0,4526.0,2221.0,2389.0,3331.0,7409.0,652.0,7678.0,1343.0,1382.0,874.0,3590.0,1322.0,1940.0,3595.0,6742.0,7814.0,9277.0,2181.0,1098.0,2825.0,6614.0,7824.0,2442.0,1829.0,2171.0,5800.0,1169.0,8947.0,2606.0,1592.0,2186.0,3485.0,10477.0,1386.0,1278.0,1107.0,3763.0,3711.0,3594.0,3195.0,4454.0,2991.0,2142.0,2848.0,1817.0,12749.0,2002.0,1049.0,1867.0,1344.0,1747.0,1224.0,522.0,1498.0,2063.0,6842.0,3527.0,1546.0,929.0,1455.0,1845.0,8358.0,2859.0,3590.0,1893.0,1231.0,3656.0,1154.0,3069.0,1740.0,2353.0,3556.0,454.0,1715.0,3568.0,7166.0,3939.0,1514.0,7393.0,2831.0,1258.0,753.0,2427.0,2923.0,2028.0,1433.0,6289.0,1409.0,6579.0,1743.0,3565.0,1569.0,1936.0,3959.0,2390.0,1736.0,3857.0,804.0,4576.0],\"xaxis\":\"x\",\"y\":[0,2,3,5,6,7,8,12,14,16,17,19,20,21,22,23,24,25,26,27,28,30,31,32,33,34,36,38,39,40,41,42,43,45,46,47,48,49,50,51,52,53,55,57,58,60,61,64,65,66,67,69,70,71,72,73,75,77,78,79,81,82,83,84,85,86,88,90,91,93,94,96,97,98,99,100,101,102,103,104,107,108,109,110,111,112,114,115,117,119,121,122,123,125,126,128,130,132,133,134,135,136,138,139,140,141,142,144,145,146,147,148,149,150,151,152,153,154,156,157,158,159,160,161,162,163,164,165,167,168,171,173,176,177,178,179,183,185,187,189,193,196,198,200,201,202,204,205,206,207,208,209,210,211,214,215,216,217,218,219,220,221,222,223,224,225,229,231,232,233,234,238,239,241,243,244,245,246,247,248,250,251,253,254,255,256,258,259,260,261,262,263,264,266,267,269,270,271,272,275,276,277,279,280,281,282,283,284,285,286,287,288,290,292,293,294,296,297,298,299,300,303,305,306,309,310,311,312,314,316,317,318,319,322,323,324,325,326,327,328,329,330,336,338,339,340,341,342,343,344,345,346,347,348,350,352,354,356,358,360,361,362,363,365,366,367,369,370,371,372,373,376,377,379,380,382,383,384,385,386,387,388,389,390,391,392,393,394,395,396,397,399,400,401,403,404,406,407,408,410,411,413,415,417,418,420,421,422,423,425,426,427,428,430,432,433,434,436,437,438,440,441,442,445,447,448,450,451,452,453,455,456,458,459,460,461,462,463,464,465,467,468,469,473,476,477,478,479,480,481,482,483,484,486,487,488,489,490,492,493,494,497,498,499,501,502,506,508,509,511,512,513,514,515,516,518,519,520,523,524,525,526,527,529,530,532,533,534,536,537,539,541,544,546,547,549,550,551,553,554,560,562,564,565,567,568,571,572,573,574,575,576,577,579,581,582,584,586,587,590,591,592,599,600,604,605,606,608,609,612,613,615,616,617,619,620,623,625,626,628,629,630,632,635,636,637,638,641,643,644,646,650,654,655,657,658,659,660,662,663,664,665,666,667,669,670,671,672,673,675,676,678,679,680,681,682,683,684,685,686,687,688,689,690,691,692,693,694,695,696,697,698,699,702,703,704,705,708,709,710,712,713,715,716,717,718,719,723,725,726,729,730,732,733,734,735,737,738,740,741,742,743,744,745,746,748,749,750,752,753,756,758,760,762,764,765,767,768,769,770,772,773,774,776,777,778,779,781,782,784,785,786,787,791,792,793,794,795,797,798,799,800,801,802,803,804,806,807,808,810,811,815,816,817,818,820,821,823,824,825,829,830,833,836,837,838,839,841,843,844,845,847,848,851,852,854,855,856,857,859,860,863,865,866,867,868,869,870,871,872,873,874,875,876,877,879,880,881,882,883,886,888,889,890,891,892,893,894,895,896,897,898,901,902,903,904,905,906,907,908,909,910,912,913,916,920,921,923,926,928,929,930,932,933,934,937,939,940,941,942,943,944,945,947,950,954,955,956,957,959,960,961,962,964,965,967,968,969,970,971,974,975,976,977,982,984,985,986,987,988,989,990,991,992,993,994,995,996,997,999],\"yaxis\":\"y\",\"type\":\"scatter\"},{\"hovertemplate\":\"risk=bad<br>credit_amount=%{x}<br>index=%{y}<extra></extra>\",\"legendgroup\":\"bad\",\"marker\":{\"color\":\"#EF553B\",\"symbol\":\"circle\"},\"mode\":\"markers\",\"name\":\"bad\",\"orientation\":\"h\",\"showlegend\":true,\"x\":[5951.0,4870.0,5234.0,1295.0,4308.0,1199.0,1282.0,12579.0,6836.0,4746.0,2100.0,6143.0,2225.0,6468.0,6229.0,1953.0,14421.0,1819.0,1977.0,3965.0,5943.0,12612.0,1108.0,797.0,15945.0,11938.0,6458.0,7855.0,7174.0,4281.0,1835.0,1924.0,639.0,3499.0,6887.0,766.0,2462.0,1282.0,1131.0,1935.0,950.0,2064.0,3414.0,7485.0,9572.0,4455.0,1647.0,884.0,5129.0,674.0,4591.0,3844.0,3915.0,3031.0,1501.0,951.0,4297.0,902.0,5293.0,1908.0,10961.0,7865.0,1478.0,4210.0,1823.0,14555.0,2767.0,915.0,4605.0,433.0,2150.0,2149.0,802.0,8978.0,3060.0,11998.0,4611.0,1024.0,9398.0,9960.0,3804.0,1344.0,10127.0,727.0,1237.0,685.0,2746.0,4249.0,1938.0,1864.0,7408.0,11590.0,4110.0,3384.0,1275.0,1136.0,959.0,6199.0,1246.0,4463.0,2406.0,2473.0,3446.0,14782.0,7685.0,14318.0,12976.0,1223.0,8648.0,2039.0,939.0,2292.0,1381.0,2579.0,1042.0,2762.0,1190.0,11328.0,1484.0,609.0,719.0,5096.0,1842.0,1512.0,4817.0,3386.0,1659.0,3092.0,448.0,654.0,1245.0,3114.0,1209.0,8318.0,2996.0,9034.0,3123.0,1216.0,1207.0,1309.0,6850.0,759.0,7127.0,3190.0,7119.0,2302.0,2631.0,2319.0,7763.0,1534.0,6350.0,2864.0,1333.0,626.0,6999.0,1331.0,2278.0,5003.0,3552.0,1928.0,1546.0,12389.0,1372.0,6758.0,3234.0,2820.0,1056.0,2384.0,2039.0,1217.0,2246.0,2718.0,1358.0,931.0,1442.0,4241.0,2775.0,918.0,1837.0,3349.0,2671.0,741.0,1240.0,1808.0,3441.0,1530.0,3914.0,2600.0,1437.0,1553.0,1980.0,1355.0,4370.0,750.0,4623.0,7980.0,1386.0,947.0,684.0,1922.0,2303.0,8086.0,888.0,900.0,4843.0,2580.0,5595.0,1123.0,6331.0,6560.0,2969.0,1198.0,14027.0,1337.0,433.0,1228.0,2570.0,1882.0,6416.0,1987.0,11560.0,4280.0,1274.0,976.0,1555.0,1285.0,1271.0,691.0,2124.0,12680.0,3108.0,8065.0,1371.0,4933.0,836.0,6224.0,5998.0,1188.0,7511.0,9271.0,1778.0,9629.0,3051.0,3931.0,1345.0,2712.0,3966.0,4165.0,8335.0,1216.0,11816.0,2327.0,1082.0,5179.0,1943.0,6761.0,709.0,2235.0,1442.0,3959.0,2169.0,2439.0,2210.0,1422.0,4057.0,795.0,15672.0,4153.0,2625.0,4736.0,3161.0,18424.0,14896.0,2359.0,3345.0,1366.0,6872.0,697.0,10297.0,1670.0,1919.0,745.0,6288.0,3349.0,1533.0,3621.0,2145.0,4113.0,10974.0,4006.0,2397.0,2520.0,1193.0,7297.0,2538.0,1264.0,8386.0,4844.0,8229.0,1845.0],\"xaxis\":\"x\",\"y\":[1,4,9,10,11,13,15,18,29,35,37,44,54,56,59,62,63,68,74,76,80,87,89,92,95,105,106,113,116,118,120,124,127,129,131,137,143,155,166,169,170,172,174,175,180,181,182,184,186,188,190,191,192,194,195,197,199,203,212,213,226,227,228,230,235,236,237,240,242,249,252,257,265,268,273,274,278,289,291,295,301,302,304,307,308,313,315,320,321,331,332,333,334,335,337,349,351,353,355,357,359,364,368,374,375,378,381,398,402,405,409,412,414,416,419,424,429,431,435,439,443,444,446,449,454,457,466,470,471,472,474,475,485,491,495,496,500,503,504,505,507,510,517,521,522,528,531,535,538,540,542,543,545,548,552,555,556,557,558,559,561,563,566,569,570,578,580,583,585,588,589,593,594,595,596,597,598,601,602,603,607,610,611,614,618,621,622,624,627,631,633,634,639,640,642,645,647,648,649,651,652,653,656,661,668,674,677,700,701,706,707,711,714,720,721,722,724,727,728,731,736,739,747,751,754,755,757,759,761,763,766,771,775,780,783,788,789,790,796,805,809,812,813,814,819,822,826,827,828,831,832,834,835,840,842,846,849,850,853,858,861,862,864,878,884,885,887,899,900,911,914,915,917,918,919,922,924,925,927,931,935,936,938,946,948,949,951,952,953,958,963,966,972,973,978,979,980,981,983,998],\"yaxis\":\"y\",\"type\":\"scatter\"}],                        {\"template\":{\"data\":{\"bar\":[{\"error_x\":{\"color\":\"#2a3f5f\"},\"error_y\":{\"color\":\"#2a3f5f\"},\"marker\":{\"line\":{\"color\":\"#E5ECF6\",\"width\":0.5},\"pattern\":{\"fillmode\":\"overlay\",\"size\":10,\"solidity\":0.2}},\"type\":\"bar\"}],\"barpolar\":[{\"marker\":{\"line\":{\"color\":\"#E5ECF6\",\"width\":0.5},\"pattern\":{\"fillmode\":\"overlay\",\"size\":10,\"solidity\":0.2}},\"type\":\"barpolar\"}],\"carpet\":[{\"aaxis\":{\"endlinecolor\":\"#2a3f5f\",\"gridcolor\":\"white\",\"linecolor\":\"white\",\"minorgridcolor\":\"white\",\"startlinecolor\":\"#2a3f5f\"},\"baxis\":{\"endlinecolor\":\"#2a3f5f\",\"gridcolor\":\"white\",\"linecolor\":\"white\",\"minorgridcolor\":\"white\",\"startlinecolor\":\"#2a3f5f\"},\"type\":\"carpet\"}],\"choropleth\":[{\"colorbar\":{\"outlinewidth\":0,\"ticks\":\"\"},\"type\":\"choropleth\"}],\"contour\":[{\"colorbar\":{\"outlinewidth\":0,\"ticks\":\"\"},\"colorscale\":[[0.0,\"#0d0887\"],[0.1111111111111111,\"#46039f\"],[0.2222222222222222,\"#7201a8\"],[0.3333333333333333,\"#9c179e\"],[0.4444444444444444,\"#bd3786\"],[0.5555555555555556,\"#d8576b\"],[0.6666666666666666,\"#ed7953\"],[0.7777777777777778,\"#fb9f3a\"],[0.8888888888888888,\"#fdca26\"],[1.0,\"#f0f921\"]],\"type\":\"contour\"}],\"contourcarpet\":[{\"colorbar\":{\"outlinewidth\":0,\"ticks\":\"\"},\"type\":\"contourcarpet\"}],\"heatmap\":[{\"colorbar\":{\"outlinewidth\":0,\"ticks\":\"\"},\"colorscale\":[[0.0,\"#0d0887\"],[0.1111111111111111,\"#46039f\"],[0.2222222222222222,\"#7201a8\"],[0.3333333333333333,\"#9c179e\"],[0.4444444444444444,\"#bd3786\"],[0.5555555555555556,\"#d8576b\"],[0.6666666666666666,\"#ed7953\"],[0.7777777777777778,\"#fb9f3a\"],[0.8888888888888888,\"#fdca26\"],[1.0,\"#f0f921\"]],\"type\":\"heatmap\"}],\"heatmapgl\":[{\"colorbar\":{\"outlinewidth\":0,\"ticks\":\"\"},\"colorscale\":[[0.0,\"#0d0887\"],[0.1111111111111111,\"#46039f\"],[0.2222222222222222,\"#7201a8\"],[0.3333333333333333,\"#9c179e\"],[0.4444444444444444,\"#bd3786\"],[0.5555555555555556,\"#d8576b\"],[0.6666666666666666,\"#ed7953\"],[0.7777777777777778,\"#fb9f3a\"],[0.8888888888888888,\"#fdca26\"],[1.0,\"#f0f921\"]],\"type\":\"heatmapgl\"}],\"histogram\":[{\"marker\":{\"pattern\":{\"fillmode\":\"overlay\",\"size\":10,\"solidity\":0.2}},\"type\":\"histogram\"}],\"histogram2d\":[{\"colorbar\":{\"outlinewidth\":0,\"ticks\":\"\"},\"colorscale\":[[0.0,\"#0d0887\"],[0.1111111111111111,\"#46039f\"],[0.2222222222222222,\"#7201a8\"],[0.3333333333333333,\"#9c179e\"],[0.4444444444444444,\"#bd3786\"],[0.5555555555555556,\"#d8576b\"],[0.6666666666666666,\"#ed7953\"],[0.7777777777777778,\"#fb9f3a\"],[0.8888888888888888,\"#fdca26\"],[1.0,\"#f0f921\"]],\"type\":\"histogram2d\"}],\"histogram2dcontour\":[{\"colorbar\":{\"outlinewidth\":0,\"ticks\":\"\"},\"colorscale\":[[0.0,\"#0d0887\"],[0.1111111111111111,\"#46039f\"],[0.2222222222222222,\"#7201a8\"],[0.3333333333333333,\"#9c179e\"],[0.4444444444444444,\"#bd3786\"],[0.5555555555555556,\"#d8576b\"],[0.6666666666666666,\"#ed7953\"],[0.7777777777777778,\"#fb9f3a\"],[0.8888888888888888,\"#fdca26\"],[1.0,\"#f0f921\"]],\"type\":\"histogram2dcontour\"}],\"mesh3d\":[{\"colorbar\":{\"outlinewidth\":0,\"ticks\":\"\"},\"type\":\"mesh3d\"}],\"parcoords\":[{\"line\":{\"colorbar\":{\"outlinewidth\":0,\"ticks\":\"\"}},\"type\":\"parcoords\"}],\"pie\":[{\"automargin\":true,\"type\":\"pie\"}],\"scatter\":[{\"marker\":{\"colorbar\":{\"outlinewidth\":0,\"ticks\":\"\"}},\"type\":\"scatter\"}],\"scatter3d\":[{\"line\":{\"colorbar\":{\"outlinewidth\":0,\"ticks\":\"\"}},\"marker\":{\"colorbar\":{\"outlinewidth\":0,\"ticks\":\"\"}},\"type\":\"scatter3d\"}],\"scattercarpet\":[{\"marker\":{\"colorbar\":{\"outlinewidth\":0,\"ticks\":\"\"}},\"type\":\"scattercarpet\"}],\"scattergeo\":[{\"marker\":{\"colorbar\":{\"outlinewidth\":0,\"ticks\":\"\"}},\"type\":\"scattergeo\"}],\"scattergl\":[{\"marker\":{\"colorbar\":{\"outlinewidth\":0,\"ticks\":\"\"}},\"type\":\"scattergl\"}],\"scattermapbox\":[{\"marker\":{\"colorbar\":{\"outlinewidth\":0,\"ticks\":\"\"}},\"type\":\"scattermapbox\"}],\"scatterpolar\":[{\"marker\":{\"colorbar\":{\"outlinewidth\":0,\"ticks\":\"\"}},\"type\":\"scatterpolar\"}],\"scatterpolargl\":[{\"marker\":{\"colorbar\":{\"outlinewidth\":0,\"ticks\":\"\"}},\"type\":\"scatterpolargl\"}],\"scatterternary\":[{\"marker\":{\"colorbar\":{\"outlinewidth\":0,\"ticks\":\"\"}},\"type\":\"scatterternary\"}],\"surface\":[{\"colorbar\":{\"outlinewidth\":0,\"ticks\":\"\"},\"colorscale\":[[0.0,\"#0d0887\"],[0.1111111111111111,\"#46039f\"],[0.2222222222222222,\"#7201a8\"],[0.3333333333333333,\"#9c179e\"],[0.4444444444444444,\"#bd3786\"],[0.5555555555555556,\"#d8576b\"],[0.6666666666666666,\"#ed7953\"],[0.7777777777777778,\"#fb9f3a\"],[0.8888888888888888,\"#fdca26\"],[1.0,\"#f0f921\"]],\"type\":\"surface\"}],\"table\":[{\"cells\":{\"fill\":{\"color\":\"#EBF0F8\"},\"line\":{\"color\":\"white\"}},\"header\":{\"fill\":{\"color\":\"#C8D4E3\"},\"line\":{\"color\":\"white\"}},\"type\":\"table\"}]},\"layout\":{\"annotationdefaults\":{\"arrowcolor\":\"#2a3f5f\",\"arrowhead\":0,\"arrowwidth\":1},\"autotypenumbers\":\"strict\",\"coloraxis\":{\"colorbar\":{\"outlinewidth\":0,\"ticks\":\"\"}},\"colorscale\":{\"diverging\":[[0,\"#8e0152\"],[0.1,\"#c51b7d\"],[0.2,\"#de77ae\"],[0.3,\"#f1b6da\"],[0.4,\"#fde0ef\"],[0.5,\"#f7f7f7\"],[0.6,\"#e6f5d0\"],[0.7,\"#b8e186\"],[0.8,\"#7fbc41\"],[0.9,\"#4d9221\"],[1,\"#276419\"]],\"sequential\":[[0.0,\"#0d0887\"],[0.1111111111111111,\"#46039f\"],[0.2222222222222222,\"#7201a8\"],[0.3333333333333333,\"#9c179e\"],[0.4444444444444444,\"#bd3786\"],[0.5555555555555556,\"#d8576b\"],[0.6666666666666666,\"#ed7953\"],[0.7777777777777778,\"#fb9f3a\"],[0.8888888888888888,\"#fdca26\"],[1.0,\"#f0f921\"]],\"sequentialminus\":[[0.0,\"#0d0887\"],[0.1111111111111111,\"#46039f\"],[0.2222222222222222,\"#7201a8\"],[0.3333333333333333,\"#9c179e\"],[0.4444444444444444,\"#bd3786\"],[0.5555555555555556,\"#d8576b\"],[0.6666666666666666,\"#ed7953\"],[0.7777777777777778,\"#fb9f3a\"],[0.8888888888888888,\"#fdca26\"],[1.0,\"#f0f921\"]]},\"colorway\":[\"#636efa\",\"#EF553B\",\"#00cc96\",\"#ab63fa\",\"#FFA15A\",\"#19d3f3\",\"#FF6692\",\"#B6E880\",\"#FF97FF\",\"#FECB52\"],\"font\":{\"color\":\"#2a3f5f\"},\"geo\":{\"bgcolor\":\"white\",\"lakecolor\":\"white\",\"landcolor\":\"#E5ECF6\",\"showlakes\":true,\"showland\":true,\"subunitcolor\":\"white\"},\"hoverlabel\":{\"align\":\"left\"},\"hovermode\":\"closest\",\"mapbox\":{\"style\":\"light\"},\"paper_bgcolor\":\"white\",\"plot_bgcolor\":\"#E5ECF6\",\"polar\":{\"angularaxis\":{\"gridcolor\":\"white\",\"linecolor\":\"white\",\"ticks\":\"\"},\"bgcolor\":\"#E5ECF6\",\"radialaxis\":{\"gridcolor\":\"white\",\"linecolor\":\"white\",\"ticks\":\"\"}},\"scene\":{\"xaxis\":{\"backgroundcolor\":\"#E5ECF6\",\"gridcolor\":\"white\",\"gridwidth\":2,\"linecolor\":\"white\",\"showbackground\":true,\"ticks\":\"\",\"zerolinecolor\":\"white\"},\"yaxis\":{\"backgroundcolor\":\"#E5ECF6\",\"gridcolor\":\"white\",\"gridwidth\":2,\"linecolor\":\"white\",\"showbackground\":true,\"ticks\":\"\",\"zerolinecolor\":\"white\"},\"zaxis\":{\"backgroundcolor\":\"#E5ECF6\",\"gridcolor\":\"white\",\"gridwidth\":2,\"linecolor\":\"white\",\"showbackground\":true,\"ticks\":\"\",\"zerolinecolor\":\"white\"}},\"shapedefaults\":{\"line\":{\"color\":\"#2a3f5f\"}},\"ternary\":{\"aaxis\":{\"gridcolor\":\"white\",\"linecolor\":\"white\",\"ticks\":\"\"},\"baxis\":{\"gridcolor\":\"white\",\"linecolor\":\"white\",\"ticks\":\"\"},\"bgcolor\":\"#E5ECF6\",\"caxis\":{\"gridcolor\":\"white\",\"linecolor\":\"white\",\"ticks\":\"\"}},\"title\":{\"x\":0.05},\"xaxis\":{\"automargin\":true,\"gridcolor\":\"white\",\"linecolor\":\"white\",\"ticks\":\"\",\"title\":{\"standoff\":15},\"zerolinecolor\":\"white\",\"zerolinewidth\":2},\"yaxis\":{\"automargin\":true,\"gridcolor\":\"white\",\"linecolor\":\"white\",\"ticks\":\"\",\"title\":{\"standoff\":15},\"zerolinecolor\":\"white\",\"zerolinewidth\":2}}},\"xaxis\":{\"anchor\":\"y\",\"domain\":[0.0,1.0],\"title\":{\"text\":\"credit_amount\"}},\"yaxis\":{\"anchor\":\"x\",\"domain\":[0.0,1.0],\"title\":{\"text\":\"index\"}},\"legend\":{\"title\":{\"text\":\"risk\"},\"tracegroupgap\":0},\"margin\":{\"t\":60}},                        {\"responsive\": true}                    ).then(function(){\n",
              "                            \n",
              "var gd = document.getElementById('55d20723-b010-43d4-8b38-fc9b1b719cf4');\n",
              "var x = new MutationObserver(function (mutations, observer) {{\n",
              "        var display = window.getComputedStyle(gd).display;\n",
              "        if (!display || display === 'none') {{\n",
              "            console.log([gd, 'removed!']);\n",
              "            Plotly.purge(gd);\n",
              "            observer.disconnect();\n",
              "        }}\n",
              "}});\n",
              "\n",
              "// Listen for the removal of the full notebook cells\n",
              "var notebookContainer = gd.closest('#notebook-container');\n",
              "if (notebookContainer) {{\n",
              "    x.observe(notebookContainer, {childList: true});\n",
              "}}\n",
              "\n",
              "// Listen for the clearing of the current output cell\n",
              "var outputEl = gd.closest('.output');\n",
              "if (outputEl) {{\n",
              "    x.observe(outputEl, {childList: true});\n",
              "}}\n",
              "\n",
              "                        })                };                            </script>        </div>\n",
              "</body>\n",
              "</html>"
            ]
          },
          "metadata": {}
        },
        {
          "output_type": "display_data",
          "data": {
            "text/html": [
              "<html>\n",
              "<head><meta charset=\"utf-8\" /></head>\n",
              "<body>\n",
              "    <div>            <script src=\"https://cdnjs.cloudflare.com/ajax/libs/mathjax/2.7.5/MathJax.js?config=TeX-AMS-MML_SVG\"></script><script type=\"text/javascript\">if (window.MathJax) {MathJax.Hub.Config({SVG: {font: \"STIX-Web\"}});}</script>                <script type=\"text/javascript\">window.PlotlyConfig = {MathJaxConfig: 'local'};</script>\n",
              "        <script src=\"https://cdn.plot.ly/plotly-2.8.3.min.js\"></script>                <div id=\"df65e32f-c094-407c-bb9c-21eb703a8a14\" class=\"plotly-graph-div\" style=\"height:525px; width:100%;\"></div>            <script type=\"text/javascript\">                                    window.PLOTLYENV=window.PLOTLYENV || {};                                    if (document.getElementById(\"df65e32f-c094-407c-bb9c-21eb703a8a14\")) {                    Plotly.newPlot(                        \"df65e32f-c094-407c-bb9c-21eb703a8a14\",                        [{\"hovertemplate\":\"risk=good<br>installment_commitment=%{x}<br>index=%{y}<extra></extra>\",\"legendgroup\":\"good\",\"marker\":{\"color\":\"#636efa\",\"symbol\":\"circle\"},\"mode\":\"markers\",\"name\":\"good\",\"orientation\":\"h\",\"showlegend\":true,\"x\":[4.0,2.0,2.0,2.0,3.0,2.0,2.0,1.0,2.0,4.0,2.0,3.0,4.0,2.0,1.0,3.0,2.0,1.0,4.0,3.0,3.0,3.0,2.0,2.0,4.0,4.0,1.0,2.0,4.0,4.0,3.0,2.0,1.0,4.0,4.0,1.0,1.0,4.0,4.0,1.0,3.0,2.0,1.0,2.0,3.0,2.0,4.0,4.0,4.0,2.0,4.0,4.0,1.0,4.0,3.0,2.0,4.0,2.0,2.0,2.0,4.0,3.0,4.0,3.0,4.0,4.0,4.0,4.0,4.0,4.0,4.0,4.0,4.0,4.0,3.0,4.0,4.0,3.0,4.0,2.0,2.0,1.0,1.0,1.0,4.0,3.0,3.0,4.0,2.0,3.0,4.0,3.0,4.0,4.0,4.0,4.0,1.0,2.0,4.0,2.0,4.0,2.0,4.0,2.0,2.0,4.0,3.0,4.0,4.0,1.0,4.0,3.0,4.0,2.0,1.0,4.0,2.0,4.0,3.0,4.0,2.0,1.0,3.0,4.0,4.0,2.0,4.0,1.0,4.0,2.0,4.0,4.0,2.0,4.0,4.0,4.0,4.0,4.0,2.0,1.0,2.0,1.0,4.0,4.0,4.0,3.0,4.0,3.0,4.0,4.0,2.0,3.0,1.0,2.0,4.0,1.0,3.0,2.0,2.0,2.0,4.0,4.0,4.0,4.0,3.0,4.0,4.0,2.0,3.0,4.0,2.0,4.0,1.0,3.0,3.0,4.0,4.0,4.0,4.0,2.0,3.0,1.0,2.0,2.0,1.0,4.0,1.0,4.0,2.0,4.0,2.0,2.0,3.0,4.0,4.0,4.0,4.0,3.0,4.0,1.0,2.0,2.0,4.0,3.0,4.0,4.0,4.0,4.0,1.0,4.0,2.0,4.0,2.0,2.0,4.0,4.0,1.0,4.0,3.0,3.0,1.0,4.0,4.0,2.0,4.0,3.0,4.0,2.0,1.0,2.0,1.0,4.0,1.0,2.0,4.0,4.0,1.0,2.0,4.0,4.0,4.0,2.0,2.0,4.0,4.0,2.0,1.0,1.0,1.0,1.0,4.0,4.0,1.0,1.0,1.0,2.0,4.0,1.0,4.0,4.0,2.0,2.0,1.0,2.0,3.0,1.0,2.0,4.0,3.0,1.0,2.0,2.0,3.0,4.0,4.0,4.0,4.0,2.0,2.0,4.0,4.0,2.0,3.0,2.0,1.0,2.0,1.0,2.0,2.0,3.0,3.0,4.0,3.0,4.0,4.0,4.0,4.0,4.0,3.0,4.0,3.0,3.0,2.0,1.0,1.0,2.0,4.0,2.0,4.0,1.0,4.0,4.0,1.0,1.0,4.0,4.0,3.0,2.0,4.0,4.0,4.0,2.0,2.0,4.0,2.0,3.0,4.0,3.0,2.0,4.0,4.0,2.0,4.0,3.0,1.0,2.0,3.0,4.0,4.0,3.0,3.0,2.0,3.0,4.0,4.0,4.0,3.0,4.0,1.0,4.0,4.0,3.0,4.0,2.0,4.0,3.0,2.0,2.0,1.0,4.0,3.0,4.0,4.0,2.0,2.0,2.0,2.0,4.0,4.0,2.0,2.0,4.0,4.0,4.0,2.0,3.0,4.0,3.0,3.0,4.0,2.0,4.0,2.0,3.0,3.0,4.0,4.0,4.0,4.0,3.0,1.0,4.0,4.0,4.0,3.0,2.0,4.0,2.0,4.0,4.0,4.0,2.0,4.0,3.0,2.0,4.0,3.0,2.0,4.0,4.0,2.0,2.0,3.0,4.0,1.0,4.0,4.0,2.0,4.0,4.0,4.0,4.0,1.0,1.0,4.0,4.0,3.0,4.0,4.0,4.0,1.0,2.0,2.0,1.0,4.0,2.0,4.0,4.0,2.0,4.0,1.0,2.0,4.0,4.0,4.0,2.0,4.0,4.0,4.0,4.0,2.0,4.0,4.0,1.0,4.0,2.0,2.0,3.0,4.0,4.0,2.0,4.0,4.0,1.0,4.0,3.0,2.0,2.0,1.0,4.0,4.0,4.0,3.0,1.0,4.0,4.0,3.0,1.0,4.0,4.0,4.0,3.0,1.0,2.0,3.0,2.0,1.0,4.0,2.0,4.0,1.0,4.0,4.0,4.0,4.0,4.0,1.0,4.0,2.0,4.0,4.0,4.0,1.0,3.0,4.0,3.0,3.0,4.0,2.0,2.0,2.0,1.0,4.0,2.0,1.0,3.0,3.0,1.0,2.0,4.0,4.0,4.0,4.0,3.0,1.0,1.0,2.0,2.0,2.0,4.0,1.0,2.0,1.0,4.0,4.0,3.0,1.0,1.0,2.0,2.0,1.0,4.0,2.0,4.0,4.0,4.0,2.0,4.0,2.0,1.0,4.0,3.0,4.0,3.0,1.0,3.0,4.0,2.0,2.0,4.0,4.0,4.0,3.0,1.0,4.0,1.0,3.0,4.0,1.0,3.0,3.0,2.0,1.0,1.0,2.0,3.0,3.0,4.0,3.0,4.0,4.0,4.0,2.0,4.0,1.0,4.0,4.0,3.0,4.0,4.0,2.0,4.0,3.0,3.0,4.0,2.0,4.0,4.0,4.0,1.0,4.0,4.0,2.0,4.0,2.0,3.0,4.0,2.0,1.0,4.0,4.0,2.0,4.0,3.0,4.0,2.0,3.0,2.0,4.0,4.0,4.0,4.0,3.0,4.0,4.0,4.0,3.0,4.0,3.0,4.0,3.0,1.0,2.0,2.0,4.0,4.0,2.0,2.0,2.0,1.0,1.0,4.0,2.0,1.0,1.0,4.0,4.0,3.0,4.0,4.0,4.0,4.0,3.0,4.0,4.0,4.0,2.0,2.0,3.0,4.0,2.0,4.0,1.0,4.0,3.0,4.0,4.0,4.0,2.0,4.0,2.0,1.0,3.0,3.0,4.0,4.0,2.0,1.0,4.0,1.0,4.0,3.0,2.0,4.0,1.0,2.0,4.0,2.0,2.0,4.0,4.0,2.0,4.0,2.0,4.0,4.0,3.0,4.0,4.0,3.0],\"xaxis\":\"x\",\"y\":[0,2,3,5,6,7,8,12,14,16,17,19,20,21,22,23,24,25,26,27,28,30,31,32,33,34,36,38,39,40,41,42,43,45,46,47,48,49,50,51,52,53,55,57,58,60,61,64,65,66,67,69,70,71,72,73,75,77,78,79,81,82,83,84,85,86,88,90,91,93,94,96,97,98,99,100,101,102,103,104,107,108,109,110,111,112,114,115,117,119,121,122,123,125,126,128,130,132,133,134,135,136,138,139,140,141,142,144,145,146,147,148,149,150,151,152,153,154,156,157,158,159,160,161,162,163,164,165,167,168,171,173,176,177,178,179,183,185,187,189,193,196,198,200,201,202,204,205,206,207,208,209,210,211,214,215,216,217,218,219,220,221,222,223,224,225,229,231,232,233,234,238,239,241,243,244,245,246,247,248,250,251,253,254,255,256,258,259,260,261,262,263,264,266,267,269,270,271,272,275,276,277,279,280,281,282,283,284,285,286,287,288,290,292,293,294,296,297,298,299,300,303,305,306,309,310,311,312,314,316,317,318,319,322,323,324,325,326,327,328,329,330,336,338,339,340,341,342,343,344,345,346,347,348,350,352,354,356,358,360,361,362,363,365,366,367,369,370,371,372,373,376,377,379,380,382,383,384,385,386,387,388,389,390,391,392,393,394,395,396,397,399,400,401,403,404,406,407,408,410,411,413,415,417,418,420,421,422,423,425,426,427,428,430,432,433,434,436,437,438,440,441,442,445,447,448,450,451,452,453,455,456,458,459,460,461,462,463,464,465,467,468,469,473,476,477,478,479,480,481,482,483,484,486,487,488,489,490,492,493,494,497,498,499,501,502,506,508,509,511,512,513,514,515,516,518,519,520,523,524,525,526,527,529,530,532,533,534,536,537,539,541,544,546,547,549,550,551,553,554,560,562,564,565,567,568,571,572,573,574,575,576,577,579,581,582,584,586,587,590,591,592,599,600,604,605,606,608,609,612,613,615,616,617,619,620,623,625,626,628,629,630,632,635,636,637,638,641,643,644,646,650,654,655,657,658,659,660,662,663,664,665,666,667,669,670,671,672,673,675,676,678,679,680,681,682,683,684,685,686,687,688,689,690,691,692,693,694,695,696,697,698,699,702,703,704,705,708,709,710,712,713,715,716,717,718,719,723,725,726,729,730,732,733,734,735,737,738,740,741,742,743,744,745,746,748,749,750,752,753,756,758,760,762,764,765,767,768,769,770,772,773,774,776,777,778,779,781,782,784,785,786,787,791,792,793,794,795,797,798,799,800,801,802,803,804,806,807,808,810,811,815,816,817,818,820,821,823,824,825,829,830,833,836,837,838,839,841,843,844,845,847,848,851,852,854,855,856,857,859,860,863,865,866,867,868,869,870,871,872,873,874,875,876,877,879,880,881,882,883,886,888,889,890,891,892,893,894,895,896,897,898,901,902,903,904,905,906,907,908,909,910,912,913,916,920,921,923,926,928,929,930,932,933,934,937,939,940,941,942,943,944,945,947,950,954,955,956,957,959,960,961,962,964,965,967,968,969,970,971,974,975,976,977,982,984,985,986,987,988,989,990,991,992,993,994,995,996,997,999],\"yaxis\":\"y\",\"type\":\"scatter\"},{\"hovertemplate\":\"risk=bad<br>installment_commitment=%{x}<br>index=%{y}<extra></extra>\",\"legendgroup\":\"bad\",\"marker\":{\"color\":\"#EF553B\",\"symbol\":\"circle\"},\"mode\":\"markers\",\"name\":\"bad\",\"orientation\":\"h\",\"showlegend\":true,\"x\":[2.0,3.0,4.0,3.0,3.0,4.0,4.0,4.0,3.0,4.0,4.0,4.0,4.0,2.0,4.0,4.0,2.0,4.0,4.0,4.0,1.0,1.0,4.0,4.0,3.0,2.0,2.0,4.0,4.0,1.0,3.0,4.0,4.0,3.0,4.0,4.0,2.0,2.0,4.0,4.0,4.0,3.0,2.0,4.0,1.0,2.0,4.0,4.0,2.0,4.0,2.0,4.0,4.0,4.0,2.0,4.0,4.0,4.0,2.0,4.0,1.0,4.0,4.0,4.0,4.0,1.0,4.0,4.0,3.0,3.0,4.0,4.0,4.0,1.0,4.0,1.0,1.0,4.0,1.0,1.0,4.0,4.0,2.0,4.0,3.0,2.0,4.0,4.0,4.0,4.0,4.0,2.0,3.0,1.0,4.0,4.0,1.0,4.0,4.0,4.0,4.0,4.0,4.0,3.0,2.0,4.0,3.0,1.0,2.0,1.0,4.0,4.0,4.0,4.0,4.0,1.0,2.0,2.0,2.0,4.0,4.0,2.0,4.0,3.0,2.0,3.0,4.0,3.0,4.0,4.0,4.0,1.0,4.0,2.0,2.0,4.0,4.0,4.0,4.0,4.0,1.0,4.0,2.0,2.0,3.0,4.0,2.0,2.0,4.0,1.0,4.0,2.0,4.0,4.0,1.0,2.0,3.0,1.0,3.0,2.0,4.0,1.0,2.0,3.0,4.0,4.0,3.0,4.0,1.0,4.0,3.0,3.0,4.0,1.0,4.0,1.0,2.0,4.0,4.0,4.0,4.0,4.0,1.0,4.0,2.0,3.0,4.0,4.0,2.0,4.0,2.0,3.0,3.0,4.0,3.0,4.0,2.0,4.0,4.0,4.0,4.0,2.0,4.0,4.0,3.0,4.0,2.0,4.0,4.0,3.0,4.0,4.0,4.0,4.0,4.0,4.0,3.0,4.0,4.0,2.0,1.0,4.0,3.0,1.0,4.0,4.0,3.0,4.0,4.0,4.0,2.0,3.0,4.0,2.0,4.0,4.0,4.0,2.0,1.0,2.0,2.0,4.0,3.0,4.0,4.0,2.0,1.0,2.0,3.0,4.0,2.0,2.0,4.0,4.0,4.0,2.0,4.0,4.0,4.0,3.0,4.0,4.0,2.0,3.0,3.0,4.0,2.0,2.0,2.0,2.0,4.0,1.0,1.0,1.0,4.0,3.0,2.0,4.0,4.0,4.0,4.0,3.0,4.0,4.0,4.0,2.0,2.0,3.0,4.0,3.0,3.0,4.0,1.0,4.0,4.0,2.0,2.0,3.0,2.0,4.0],\"xaxis\":\"x\",\"y\":[1,4,9,10,11,13,15,18,29,35,37,44,54,56,59,62,63,68,74,76,80,87,89,92,95,105,106,113,116,118,120,124,127,129,131,137,143,155,166,169,170,172,174,175,180,181,182,184,186,188,190,191,192,194,195,197,199,203,212,213,226,227,228,230,235,236,237,240,242,249,252,257,265,268,273,274,278,289,291,295,301,302,304,307,308,313,315,320,321,331,332,333,334,335,337,349,351,353,355,357,359,364,368,374,375,378,381,398,402,405,409,412,414,416,419,424,429,431,435,439,443,444,446,449,454,457,466,470,471,472,474,475,485,491,495,496,500,503,504,505,507,510,517,521,522,528,531,535,538,540,542,543,545,548,552,555,556,557,558,559,561,563,566,569,570,578,580,583,585,588,589,593,594,595,596,597,598,601,602,603,607,610,611,614,618,621,622,624,627,631,633,634,639,640,642,645,647,648,649,651,652,653,656,661,668,674,677,700,701,706,707,711,714,720,721,722,724,727,728,731,736,739,747,751,754,755,757,759,761,763,766,771,775,780,783,788,789,790,796,805,809,812,813,814,819,822,826,827,828,831,832,834,835,840,842,846,849,850,853,858,861,862,864,878,884,885,887,899,900,911,914,915,917,918,919,922,924,925,927,931,935,936,938,946,948,949,951,952,953,958,963,966,972,973,978,979,980,981,983,998],\"yaxis\":\"y\",\"type\":\"scatter\"}],                        {\"template\":{\"data\":{\"bar\":[{\"error_x\":{\"color\":\"#2a3f5f\"},\"error_y\":{\"color\":\"#2a3f5f\"},\"marker\":{\"line\":{\"color\":\"#E5ECF6\",\"width\":0.5},\"pattern\":{\"fillmode\":\"overlay\",\"size\":10,\"solidity\":0.2}},\"type\":\"bar\"}],\"barpolar\":[{\"marker\":{\"line\":{\"color\":\"#E5ECF6\",\"width\":0.5},\"pattern\":{\"fillmode\":\"overlay\",\"size\":10,\"solidity\":0.2}},\"type\":\"barpolar\"}],\"carpet\":[{\"aaxis\":{\"endlinecolor\":\"#2a3f5f\",\"gridcolor\":\"white\",\"linecolor\":\"white\",\"minorgridcolor\":\"white\",\"startlinecolor\":\"#2a3f5f\"},\"baxis\":{\"endlinecolor\":\"#2a3f5f\",\"gridcolor\":\"white\",\"linecolor\":\"white\",\"minorgridcolor\":\"white\",\"startlinecolor\":\"#2a3f5f\"},\"type\":\"carpet\"}],\"choropleth\":[{\"colorbar\":{\"outlinewidth\":0,\"ticks\":\"\"},\"type\":\"choropleth\"}],\"contour\":[{\"colorbar\":{\"outlinewidth\":0,\"ticks\":\"\"},\"colorscale\":[[0.0,\"#0d0887\"],[0.1111111111111111,\"#46039f\"],[0.2222222222222222,\"#7201a8\"],[0.3333333333333333,\"#9c179e\"],[0.4444444444444444,\"#bd3786\"],[0.5555555555555556,\"#d8576b\"],[0.6666666666666666,\"#ed7953\"],[0.7777777777777778,\"#fb9f3a\"],[0.8888888888888888,\"#fdca26\"],[1.0,\"#f0f921\"]],\"type\":\"contour\"}],\"contourcarpet\":[{\"colorbar\":{\"outlinewidth\":0,\"ticks\":\"\"},\"type\":\"contourcarpet\"}],\"heatmap\":[{\"colorbar\":{\"outlinewidth\":0,\"ticks\":\"\"},\"colorscale\":[[0.0,\"#0d0887\"],[0.1111111111111111,\"#46039f\"],[0.2222222222222222,\"#7201a8\"],[0.3333333333333333,\"#9c179e\"],[0.4444444444444444,\"#bd3786\"],[0.5555555555555556,\"#d8576b\"],[0.6666666666666666,\"#ed7953\"],[0.7777777777777778,\"#fb9f3a\"],[0.8888888888888888,\"#fdca26\"],[1.0,\"#f0f921\"]],\"type\":\"heatmap\"}],\"heatmapgl\":[{\"colorbar\":{\"outlinewidth\":0,\"ticks\":\"\"},\"colorscale\":[[0.0,\"#0d0887\"],[0.1111111111111111,\"#46039f\"],[0.2222222222222222,\"#7201a8\"],[0.3333333333333333,\"#9c179e\"],[0.4444444444444444,\"#bd3786\"],[0.5555555555555556,\"#d8576b\"],[0.6666666666666666,\"#ed7953\"],[0.7777777777777778,\"#fb9f3a\"],[0.8888888888888888,\"#fdca26\"],[1.0,\"#f0f921\"]],\"type\":\"heatmapgl\"}],\"histogram\":[{\"marker\":{\"pattern\":{\"fillmode\":\"overlay\",\"size\":10,\"solidity\":0.2}},\"type\":\"histogram\"}],\"histogram2d\":[{\"colorbar\":{\"outlinewidth\":0,\"ticks\":\"\"},\"colorscale\":[[0.0,\"#0d0887\"],[0.1111111111111111,\"#46039f\"],[0.2222222222222222,\"#7201a8\"],[0.3333333333333333,\"#9c179e\"],[0.4444444444444444,\"#bd3786\"],[0.5555555555555556,\"#d8576b\"],[0.6666666666666666,\"#ed7953\"],[0.7777777777777778,\"#fb9f3a\"],[0.8888888888888888,\"#fdca26\"],[1.0,\"#f0f921\"]],\"type\":\"histogram2d\"}],\"histogram2dcontour\":[{\"colorbar\":{\"outlinewidth\":0,\"ticks\":\"\"},\"colorscale\":[[0.0,\"#0d0887\"],[0.1111111111111111,\"#46039f\"],[0.2222222222222222,\"#7201a8\"],[0.3333333333333333,\"#9c179e\"],[0.4444444444444444,\"#bd3786\"],[0.5555555555555556,\"#d8576b\"],[0.6666666666666666,\"#ed7953\"],[0.7777777777777778,\"#fb9f3a\"],[0.8888888888888888,\"#fdca26\"],[1.0,\"#f0f921\"]],\"type\":\"histogram2dcontour\"}],\"mesh3d\":[{\"colorbar\":{\"outlinewidth\":0,\"ticks\":\"\"},\"type\":\"mesh3d\"}],\"parcoords\":[{\"line\":{\"colorbar\":{\"outlinewidth\":0,\"ticks\":\"\"}},\"type\":\"parcoords\"}],\"pie\":[{\"automargin\":true,\"type\":\"pie\"}],\"scatter\":[{\"marker\":{\"colorbar\":{\"outlinewidth\":0,\"ticks\":\"\"}},\"type\":\"scatter\"}],\"scatter3d\":[{\"line\":{\"colorbar\":{\"outlinewidth\":0,\"ticks\":\"\"}},\"marker\":{\"colorbar\":{\"outlinewidth\":0,\"ticks\":\"\"}},\"type\":\"scatter3d\"}],\"scattercarpet\":[{\"marker\":{\"colorbar\":{\"outlinewidth\":0,\"ticks\":\"\"}},\"type\":\"scattercarpet\"}],\"scattergeo\":[{\"marker\":{\"colorbar\":{\"outlinewidth\":0,\"ticks\":\"\"}},\"type\":\"scattergeo\"}],\"scattergl\":[{\"marker\":{\"colorbar\":{\"outlinewidth\":0,\"ticks\":\"\"}},\"type\":\"scattergl\"}],\"scattermapbox\":[{\"marker\":{\"colorbar\":{\"outlinewidth\":0,\"ticks\":\"\"}},\"type\":\"scattermapbox\"}],\"scatterpolar\":[{\"marker\":{\"colorbar\":{\"outlinewidth\":0,\"ticks\":\"\"}},\"type\":\"scatterpolar\"}],\"scatterpolargl\":[{\"marker\":{\"colorbar\":{\"outlinewidth\":0,\"ticks\":\"\"}},\"type\":\"scatterpolargl\"}],\"scatterternary\":[{\"marker\":{\"colorbar\":{\"outlinewidth\":0,\"ticks\":\"\"}},\"type\":\"scatterternary\"}],\"surface\":[{\"colorbar\":{\"outlinewidth\":0,\"ticks\":\"\"},\"colorscale\":[[0.0,\"#0d0887\"],[0.1111111111111111,\"#46039f\"],[0.2222222222222222,\"#7201a8\"],[0.3333333333333333,\"#9c179e\"],[0.4444444444444444,\"#bd3786\"],[0.5555555555555556,\"#d8576b\"],[0.6666666666666666,\"#ed7953\"],[0.7777777777777778,\"#fb9f3a\"],[0.8888888888888888,\"#fdca26\"],[1.0,\"#f0f921\"]],\"type\":\"surface\"}],\"table\":[{\"cells\":{\"fill\":{\"color\":\"#EBF0F8\"},\"line\":{\"color\":\"white\"}},\"header\":{\"fill\":{\"color\":\"#C8D4E3\"},\"line\":{\"color\":\"white\"}},\"type\":\"table\"}]},\"layout\":{\"annotationdefaults\":{\"arrowcolor\":\"#2a3f5f\",\"arrowhead\":0,\"arrowwidth\":1},\"autotypenumbers\":\"strict\",\"coloraxis\":{\"colorbar\":{\"outlinewidth\":0,\"ticks\":\"\"}},\"colorscale\":{\"diverging\":[[0,\"#8e0152\"],[0.1,\"#c51b7d\"],[0.2,\"#de77ae\"],[0.3,\"#f1b6da\"],[0.4,\"#fde0ef\"],[0.5,\"#f7f7f7\"],[0.6,\"#e6f5d0\"],[0.7,\"#b8e186\"],[0.8,\"#7fbc41\"],[0.9,\"#4d9221\"],[1,\"#276419\"]],\"sequential\":[[0.0,\"#0d0887\"],[0.1111111111111111,\"#46039f\"],[0.2222222222222222,\"#7201a8\"],[0.3333333333333333,\"#9c179e\"],[0.4444444444444444,\"#bd3786\"],[0.5555555555555556,\"#d8576b\"],[0.6666666666666666,\"#ed7953\"],[0.7777777777777778,\"#fb9f3a\"],[0.8888888888888888,\"#fdca26\"],[1.0,\"#f0f921\"]],\"sequentialminus\":[[0.0,\"#0d0887\"],[0.1111111111111111,\"#46039f\"],[0.2222222222222222,\"#7201a8\"],[0.3333333333333333,\"#9c179e\"],[0.4444444444444444,\"#bd3786\"],[0.5555555555555556,\"#d8576b\"],[0.6666666666666666,\"#ed7953\"],[0.7777777777777778,\"#fb9f3a\"],[0.8888888888888888,\"#fdca26\"],[1.0,\"#f0f921\"]]},\"colorway\":[\"#636efa\",\"#EF553B\",\"#00cc96\",\"#ab63fa\",\"#FFA15A\",\"#19d3f3\",\"#FF6692\",\"#B6E880\",\"#FF97FF\",\"#FECB52\"],\"font\":{\"color\":\"#2a3f5f\"},\"geo\":{\"bgcolor\":\"white\",\"lakecolor\":\"white\",\"landcolor\":\"#E5ECF6\",\"showlakes\":true,\"showland\":true,\"subunitcolor\":\"white\"},\"hoverlabel\":{\"align\":\"left\"},\"hovermode\":\"closest\",\"mapbox\":{\"style\":\"light\"},\"paper_bgcolor\":\"white\",\"plot_bgcolor\":\"#E5ECF6\",\"polar\":{\"angularaxis\":{\"gridcolor\":\"white\",\"linecolor\":\"white\",\"ticks\":\"\"},\"bgcolor\":\"#E5ECF6\",\"radialaxis\":{\"gridcolor\":\"white\",\"linecolor\":\"white\",\"ticks\":\"\"}},\"scene\":{\"xaxis\":{\"backgroundcolor\":\"#E5ECF6\",\"gridcolor\":\"white\",\"gridwidth\":2,\"linecolor\":\"white\",\"showbackground\":true,\"ticks\":\"\",\"zerolinecolor\":\"white\"},\"yaxis\":{\"backgroundcolor\":\"#E5ECF6\",\"gridcolor\":\"white\",\"gridwidth\":2,\"linecolor\":\"white\",\"showbackground\":true,\"ticks\":\"\",\"zerolinecolor\":\"white\"},\"zaxis\":{\"backgroundcolor\":\"#E5ECF6\",\"gridcolor\":\"white\",\"gridwidth\":2,\"linecolor\":\"white\",\"showbackground\":true,\"ticks\":\"\",\"zerolinecolor\":\"white\"}},\"shapedefaults\":{\"line\":{\"color\":\"#2a3f5f\"}},\"ternary\":{\"aaxis\":{\"gridcolor\":\"white\",\"linecolor\":\"white\",\"ticks\":\"\"},\"baxis\":{\"gridcolor\":\"white\",\"linecolor\":\"white\",\"ticks\":\"\"},\"bgcolor\":\"#E5ECF6\",\"caxis\":{\"gridcolor\":\"white\",\"linecolor\":\"white\",\"ticks\":\"\"}},\"title\":{\"x\":0.05},\"xaxis\":{\"automargin\":true,\"gridcolor\":\"white\",\"linecolor\":\"white\",\"ticks\":\"\",\"title\":{\"standoff\":15},\"zerolinecolor\":\"white\",\"zerolinewidth\":2},\"yaxis\":{\"automargin\":true,\"gridcolor\":\"white\",\"linecolor\":\"white\",\"ticks\":\"\",\"title\":{\"standoff\":15},\"zerolinecolor\":\"white\",\"zerolinewidth\":2}}},\"xaxis\":{\"anchor\":\"y\",\"domain\":[0.0,1.0],\"title\":{\"text\":\"installment_commitment\"}},\"yaxis\":{\"anchor\":\"x\",\"domain\":[0.0,1.0],\"title\":{\"text\":\"index\"}},\"legend\":{\"title\":{\"text\":\"risk\"},\"tracegroupgap\":0},\"margin\":{\"t\":60}},                        {\"responsive\": true}                    ).then(function(){\n",
              "                            \n",
              "var gd = document.getElementById('df65e32f-c094-407c-bb9c-21eb703a8a14');\n",
              "var x = new MutationObserver(function (mutations, observer) {{\n",
              "        var display = window.getComputedStyle(gd).display;\n",
              "        if (!display || display === 'none') {{\n",
              "            console.log([gd, 'removed!']);\n",
              "            Plotly.purge(gd);\n",
              "            observer.disconnect();\n",
              "        }}\n",
              "}});\n",
              "\n",
              "// Listen for the removal of the full notebook cells\n",
              "var notebookContainer = gd.closest('#notebook-container');\n",
              "if (notebookContainer) {{\n",
              "    x.observe(notebookContainer, {childList: true});\n",
              "}}\n",
              "\n",
              "// Listen for the clearing of the current output cell\n",
              "var outputEl = gd.closest('.output');\n",
              "if (outputEl) {{\n",
              "    x.observe(outputEl, {childList: true});\n",
              "}}\n",
              "\n",
              "                        })                };                            </script>        </div>\n",
              "</body>\n",
              "</html>"
            ]
          },
          "metadata": {}
        },
        {
          "output_type": "display_data",
          "data": {
            "text/html": [
              "<html>\n",
              "<head><meta charset=\"utf-8\" /></head>\n",
              "<body>\n",
              "    <div>            <script src=\"https://cdnjs.cloudflare.com/ajax/libs/mathjax/2.7.5/MathJax.js?config=TeX-AMS-MML_SVG\"></script><script type=\"text/javascript\">if (window.MathJax) {MathJax.Hub.Config({SVG: {font: \"STIX-Web\"}});}</script>                <script type=\"text/javascript\">window.PlotlyConfig = {MathJaxConfig: 'local'};</script>\n",
              "        <script src=\"https://cdn.plot.ly/plotly-2.8.3.min.js\"></script>                <div id=\"5d822fbf-08bb-4c61-b36c-c8cd1b682b95\" class=\"plotly-graph-div\" style=\"height:525px; width:100%;\"></div>            <script type=\"text/javascript\">                                    window.PLOTLYENV=window.PLOTLYENV || {};                                    if (document.getElementById(\"5d822fbf-08bb-4c61-b36c-c8cd1b682b95\")) {                    Plotly.newPlot(                        \"5d822fbf-08bb-4c61-b36c-c8cd1b682b95\",                        [{\"hovertemplate\":\"risk=good<br>residence_since=%{x}<br>index=%{y}<extra></extra>\",\"legendgroup\":\"good\",\"marker\":{\"color\":\"#636efa\",\"symbol\":\"circle\"},\"mode\":\"markers\",\"name\":\"good\",\"orientation\":\"h\",\"showlegend\":true,\"x\":[4.0,3.0,4.0,4.0,4.0,2.0,4.0,1.0,4.0,4.0,3.0,2.0,4.0,3.0,3.0,4.0,1.0,2.0,4.0,3.0,2.0,3.0,2.0,2.0,4.0,1.0,3.0,2.0,3.0,2.0,1.0,4.0,4.0,4.0,4.0,2.0,4.0,2.0,2.0,2.0,2.0,1.0,2.0,2.0,2.0,1.0,4.0,4.0,4.0,2.0,1.0,4.0,2.0,2.0,4.0,1.0,4.0,4.0,2.0,1.0,3.0,4.0,4.0,4.0,2.0,1.0,3.0,4.0,3.0,4.0,4.0,2.0,4.0,4.0,4.0,4.0,4.0,2.0,3.0,4.0,2.0,2.0,2.0,2.0,4.0,3.0,1.0,1.0,3.0,3.0,2.0,2.0,4.0,2.0,2.0,2.0,2.0,3.0,4.0,4.0,2.0,2.0,2.0,2.0,2.0,1.0,2.0,4.0,2.0,4.0,3.0,2.0,4.0,4.0,4.0,1.0,4.0,4.0,4.0,1.0,3.0,2.0,4.0,1.0,3.0,4.0,4.0,2.0,1.0,4.0,1.0,2.0,1.0,4.0,2.0,4.0,4.0,2.0,3.0,4.0,2.0,1.0,4.0,2.0,3.0,4.0,1.0,4.0,4.0,3.0,2.0,2.0,2.0,4.0,2.0,3.0,1.0,2.0,2.0,4.0,1.0,4.0,2.0,4.0,2.0,2.0,1.0,4.0,1.0,2.0,1.0,2.0,3.0,2.0,2.0,3.0,1.0,4.0,1.0,2.0,4.0,2.0,3.0,1.0,1.0,2.0,4.0,4.0,2.0,4.0,4.0,4.0,4.0,4.0,3.0,2.0,3.0,4.0,4.0,2.0,2.0,4.0,4.0,4.0,2.0,4.0,4.0,2.0,1.0,3.0,4.0,4.0,2.0,4.0,4.0,2.0,4.0,2.0,4.0,2.0,4.0,3.0,2.0,4.0,4.0,4.0,1.0,4.0,2.0,3.0,4.0,2.0,4.0,1.0,2.0,3.0,4.0,4.0,3.0,2.0,4.0,4.0,4.0,4.0,2.0,4.0,4.0,3.0,1.0,1.0,2.0,4.0,4.0,2.0,4.0,4.0,4.0,4.0,2.0,4.0,3.0,2.0,2.0,4.0,1.0,4.0,4.0,4.0,4.0,3.0,4.0,3.0,4.0,4.0,4.0,4.0,1.0,2.0,1.0,2.0,4.0,4.0,2.0,2.0,4.0,4.0,4.0,3.0,3.0,4.0,2.0,1.0,4.0,4.0,2.0,4.0,4.0,2.0,2.0,4.0,2.0,2.0,2.0,2.0,2.0,3.0,2.0,3.0,3.0,3.0,2.0,3.0,4.0,4.0,4.0,2.0,2.0,4.0,4.0,4.0,4.0,3.0,3.0,4.0,2.0,4.0,2.0,1.0,4.0,4.0,1.0,2.0,1.0,2.0,2.0,3.0,1.0,4.0,1.0,4.0,3.0,2.0,3.0,4.0,4.0,2.0,4.0,4.0,1.0,1.0,4.0,2.0,4.0,4.0,4.0,2.0,3.0,2.0,1.0,4.0,2.0,3.0,2.0,4.0,4.0,4.0,2.0,2.0,2.0,2.0,4.0,4.0,1.0,3.0,4.0,2.0,4.0,4.0,4.0,4.0,3.0,3.0,1.0,4.0,1.0,4.0,3.0,2.0,3.0,4.0,1.0,4.0,4.0,4.0,1.0,1.0,4.0,4.0,1.0,4.0,4.0,1.0,2.0,2.0,2.0,1.0,2.0,4.0,4.0,4.0,3.0,1.0,2.0,3.0,3.0,2.0,4.0,2.0,1.0,3.0,4.0,4.0,2.0,1.0,2.0,4.0,2.0,1.0,4.0,2.0,4.0,2.0,2.0,3.0,2.0,3.0,1.0,2.0,2.0,4.0,4.0,4.0,1.0,4.0,1.0,4.0,3.0,4.0,2.0,1.0,2.0,1.0,3.0,4.0,3.0,1.0,1.0,4.0,2.0,1.0,4.0,2.0,2.0,1.0,4.0,3.0,2.0,4.0,2.0,4.0,4.0,4.0,1.0,2.0,4.0,3.0,3.0,3.0,4.0,2.0,3.0,4.0,3.0,3.0,2.0,1.0,3.0,2.0,4.0,3.0,2.0,2.0,4.0,2.0,2.0,1.0,4.0,4.0,2.0,3.0,4.0,4.0,4.0,2.0,2.0,2.0,4.0,3.0,2.0,2.0,4.0,2.0,2.0,4.0,1.0,2.0,4.0,3.0,3.0,4.0,3.0,4.0,4.0,1.0,4.0,3.0,2.0,1.0,4.0,2.0,1.0,2.0,4.0,3.0,3.0,3.0,4.0,4.0,4.0,4.0,4.0,4.0,4.0,4.0,1.0,2.0,4.0,4.0,2.0,4.0,2.0,4.0,3.0,4.0,2.0,4.0,3.0,4.0,4.0,4.0,2.0,4.0,4.0,4.0,4.0,2.0,3.0,4.0,2.0,2.0,3.0,2.0,4.0,2.0,3.0,2.0,1.0,4.0,2.0,3.0,4.0,2.0,4.0,2.0,3.0,4.0,3.0,2.0,4.0,4.0,3.0,2.0,4.0,4.0,4.0,2.0,3.0,3.0,2.0,2.0,2.0,2.0,4.0,1.0,4.0,2.0,4.0,4.0,4.0,1.0,1.0,2.0,4.0,4.0,2.0,3.0,3.0,4.0,4.0,4.0,3.0,4.0,4.0,4.0,4.0,4.0,4.0,3.0,2.0,4.0,2.0,4.0,4.0,4.0,2.0,1.0,2.0,2.0,2.0,2.0,2.0,4.0,4.0,2.0,2.0,2.0,1.0,4.0,4.0,4.0,2.0,1.0,1.0,4.0,1.0,3.0,4.0,3.0,2.0,2.0,1.0,1.0,1.0,4.0,3.0,4.0,4.0,4.0,4.0,4.0,2.0,4.0,2.0,1.0,1.0,2.0,4.0,2.0,2.0,4.0,2.0,3.0,3.0,2.0,1.0,2.0,3.0,1.0,4.0,2.0,2.0,1.0,4.0,4.0,3.0,3.0,4.0,4.0,4.0,4.0],\"xaxis\":\"x\",\"y\":[0,2,3,5,6,7,8,12,14,16,17,19,20,21,22,23,24,25,26,27,28,30,31,32,33,34,36,38,39,40,41,42,43,45,46,47,48,49,50,51,52,53,55,57,58,60,61,64,65,66,67,69,70,71,72,73,75,77,78,79,81,82,83,84,85,86,88,90,91,93,94,96,97,98,99,100,101,102,103,104,107,108,109,110,111,112,114,115,117,119,121,122,123,125,126,128,130,132,133,134,135,136,138,139,140,141,142,144,145,146,147,148,149,150,151,152,153,154,156,157,158,159,160,161,162,163,164,165,167,168,171,173,176,177,178,179,183,185,187,189,193,196,198,200,201,202,204,205,206,207,208,209,210,211,214,215,216,217,218,219,220,221,222,223,224,225,229,231,232,233,234,238,239,241,243,244,245,246,247,248,250,251,253,254,255,256,258,259,260,261,262,263,264,266,267,269,270,271,272,275,276,277,279,280,281,282,283,284,285,286,287,288,290,292,293,294,296,297,298,299,300,303,305,306,309,310,311,312,314,316,317,318,319,322,323,324,325,326,327,328,329,330,336,338,339,340,341,342,343,344,345,346,347,348,350,352,354,356,358,360,361,362,363,365,366,367,369,370,371,372,373,376,377,379,380,382,383,384,385,386,387,388,389,390,391,392,393,394,395,396,397,399,400,401,403,404,406,407,408,410,411,413,415,417,418,420,421,422,423,425,426,427,428,430,432,433,434,436,437,438,440,441,442,445,447,448,450,451,452,453,455,456,458,459,460,461,462,463,464,465,467,468,469,473,476,477,478,479,480,481,482,483,484,486,487,488,489,490,492,493,494,497,498,499,501,502,506,508,509,511,512,513,514,515,516,518,519,520,523,524,525,526,527,529,530,532,533,534,536,537,539,541,544,546,547,549,550,551,553,554,560,562,564,565,567,568,571,572,573,574,575,576,577,579,581,582,584,586,587,590,591,592,599,600,604,605,606,608,609,612,613,615,616,617,619,620,623,625,626,628,629,630,632,635,636,637,638,641,643,644,646,650,654,655,657,658,659,660,662,663,664,665,666,667,669,670,671,672,673,675,676,678,679,680,681,682,683,684,685,686,687,688,689,690,691,692,693,694,695,696,697,698,699,702,703,704,705,708,709,710,712,713,715,716,717,718,719,723,725,726,729,730,732,733,734,735,737,738,740,741,742,743,744,745,746,748,749,750,752,753,756,758,760,762,764,765,767,768,769,770,772,773,774,776,777,778,779,781,782,784,785,786,787,791,792,793,794,795,797,798,799,800,801,802,803,804,806,807,808,810,811,815,816,817,818,820,821,823,824,825,829,830,833,836,837,838,839,841,843,844,845,847,848,851,852,854,855,856,857,859,860,863,865,866,867,868,869,870,871,872,873,874,875,876,877,879,880,881,882,883,886,888,889,890,891,892,893,894,895,896,897,898,901,902,903,904,905,906,907,908,909,910,912,913,916,920,921,923,926,928,929,930,932,933,934,937,939,940,941,942,943,944,945,947,950,954,955,956,957,959,960,961,962,964,965,967,968,969,970,971,974,975,976,977,982,984,985,986,987,988,989,990,991,992,993,994,995,996,997,999],\"yaxis\":\"y\",\"type\":\"scatter\"},{\"hovertemplate\":\"risk=bad<br>residence_since=%{x}<br>index=%{y}<extra></extra>\",\"legendgroup\":\"bad\",\"marker\":{\"color\":\"#EF553B\",\"symbol\":\"circle\"},\"mode\":\"markers\",\"name\":\"bad\",\"orientation\":\"h\",\"showlegend\":true,\"x\":[2.0,4.0,2.0,1.0,4.0,4.0,2.0,2.0,4.0,2.0,2.0,4.0,4.0,1.0,4.0,4.0,2.0,4.0,4.0,3.0,1.0,4.0,3.0,3.0,4.0,3.0,4.0,2.0,3.0,4.0,2.0,3.0,2.0,2.0,3.0,3.0,2.0,4.0,2.0,4.0,3.0,2.0,1.0,1.0,1.0,2.0,2.0,4.0,4.0,1.0,3.0,4.0,2.0,4.0,3.0,4.0,3.0,4.0,4.0,4.0,2.0,4.0,2.0,2.0,2.0,2.0,2.0,2.0,4.0,4.0,2.0,1.0,3.0,4.0,4.0,1.0,4.0,4.0,4.0,2.0,1.0,2.0,2.0,3.0,4.0,3.0,4.0,2.0,3.0,2.0,2.0,4.0,4.0,4.0,2.0,3.0,2.0,2.0,2.0,2.0,4.0,1.0,2.0,4.0,4.0,2.0,4.0,1.0,2.0,1.0,2.0,2.0,2.0,1.0,2.0,2.0,4.0,3.0,1.0,1.0,4.0,3.0,4.0,3.0,3.0,4.0,2.0,2.0,4.0,3.0,2.0,4.0,4.0,4.0,4.0,1.0,1.0,4.0,4.0,4.0,2.0,2.0,4.0,2.0,4.0,4.0,4.0,1.0,4.0,1.0,4.0,1.0,2.0,4.0,1.0,1.0,3.0,4.0,4.0,2.0,4.0,4.0,3.0,2.0,4.0,4.0,3.0,1.0,4.0,3.0,3.0,4.0,3.0,1.0,4.0,4.0,2.0,1.0,4.0,2.0,4.0,3.0,4.0,1.0,4.0,2.0,2.0,4.0,3.0,3.0,2.0,4.0,2.0,1.0,2.0,4.0,2.0,3.0,4.0,2.0,1.0,4.0,4.0,2.0,4.0,2.0,2.0,4.0,4.0,2.0,3.0,4.0,2.0,2.0,2.0,2.0,3.0,4.0,3.0,4.0,4.0,4.0,1.0,2.0,4.0,4.0,4.0,3.0,4.0,4.0,4.0,2.0,4.0,2.0,2.0,4.0,3.0,4.0,4.0,1.0,1.0,4.0,4.0,4.0,3.0,2.0,4.0,2.0,4.0,3.0,4.0,3.0,4.0,2.0,4.0,4.0,4.0,2.0,4.0,2.0,2.0,4.0,2.0,2.0,3.0,4.0,2.0,3.0,4.0,4.0,2.0,2.0,4.0,1.0,2.0,4.0,1.0,2.0,4.0,2.0,3.0,2.0,4.0,4.0,1.0,4.0,1.0,4.0,2.0,2.0,2.0,2.0,4.0,4.0,4.0,2.0,2.0,2.0,2.0,4.0],\"xaxis\":\"x\",\"y\":[1,4,9,10,11,13,15,18,29,35,37,44,54,56,59,62,63,68,74,76,80,87,89,92,95,105,106,113,116,118,120,124,127,129,131,137,143,155,166,169,170,172,174,175,180,181,182,184,186,188,190,191,192,194,195,197,199,203,212,213,226,227,228,230,235,236,237,240,242,249,252,257,265,268,273,274,278,289,291,295,301,302,304,307,308,313,315,320,321,331,332,333,334,335,337,349,351,353,355,357,359,364,368,374,375,378,381,398,402,405,409,412,414,416,419,424,429,431,435,439,443,444,446,449,454,457,466,470,471,472,474,475,485,491,495,496,500,503,504,505,507,510,517,521,522,528,531,535,538,540,542,543,545,548,552,555,556,557,558,559,561,563,566,569,570,578,580,583,585,588,589,593,594,595,596,597,598,601,602,603,607,610,611,614,618,621,622,624,627,631,633,634,639,640,642,645,647,648,649,651,652,653,656,661,668,674,677,700,701,706,707,711,714,720,721,722,724,727,728,731,736,739,747,751,754,755,757,759,761,763,766,771,775,780,783,788,789,790,796,805,809,812,813,814,819,822,826,827,828,831,832,834,835,840,842,846,849,850,853,858,861,862,864,878,884,885,887,899,900,911,914,915,917,918,919,922,924,925,927,931,935,936,938,946,948,949,951,952,953,958,963,966,972,973,978,979,980,981,983,998],\"yaxis\":\"y\",\"type\":\"scatter\"}],                        {\"template\":{\"data\":{\"bar\":[{\"error_x\":{\"color\":\"#2a3f5f\"},\"error_y\":{\"color\":\"#2a3f5f\"},\"marker\":{\"line\":{\"color\":\"#E5ECF6\",\"width\":0.5},\"pattern\":{\"fillmode\":\"overlay\",\"size\":10,\"solidity\":0.2}},\"type\":\"bar\"}],\"barpolar\":[{\"marker\":{\"line\":{\"color\":\"#E5ECF6\",\"width\":0.5},\"pattern\":{\"fillmode\":\"overlay\",\"size\":10,\"solidity\":0.2}},\"type\":\"barpolar\"}],\"carpet\":[{\"aaxis\":{\"endlinecolor\":\"#2a3f5f\",\"gridcolor\":\"white\",\"linecolor\":\"white\",\"minorgridcolor\":\"white\",\"startlinecolor\":\"#2a3f5f\"},\"baxis\":{\"endlinecolor\":\"#2a3f5f\",\"gridcolor\":\"white\",\"linecolor\":\"white\",\"minorgridcolor\":\"white\",\"startlinecolor\":\"#2a3f5f\"},\"type\":\"carpet\"}],\"choropleth\":[{\"colorbar\":{\"outlinewidth\":0,\"ticks\":\"\"},\"type\":\"choropleth\"}],\"contour\":[{\"colorbar\":{\"outlinewidth\":0,\"ticks\":\"\"},\"colorscale\":[[0.0,\"#0d0887\"],[0.1111111111111111,\"#46039f\"],[0.2222222222222222,\"#7201a8\"],[0.3333333333333333,\"#9c179e\"],[0.4444444444444444,\"#bd3786\"],[0.5555555555555556,\"#d8576b\"],[0.6666666666666666,\"#ed7953\"],[0.7777777777777778,\"#fb9f3a\"],[0.8888888888888888,\"#fdca26\"],[1.0,\"#f0f921\"]],\"type\":\"contour\"}],\"contourcarpet\":[{\"colorbar\":{\"outlinewidth\":0,\"ticks\":\"\"},\"type\":\"contourcarpet\"}],\"heatmap\":[{\"colorbar\":{\"outlinewidth\":0,\"ticks\":\"\"},\"colorscale\":[[0.0,\"#0d0887\"],[0.1111111111111111,\"#46039f\"],[0.2222222222222222,\"#7201a8\"],[0.3333333333333333,\"#9c179e\"],[0.4444444444444444,\"#bd3786\"],[0.5555555555555556,\"#d8576b\"],[0.6666666666666666,\"#ed7953\"],[0.7777777777777778,\"#fb9f3a\"],[0.8888888888888888,\"#fdca26\"],[1.0,\"#f0f921\"]],\"type\":\"heatmap\"}],\"heatmapgl\":[{\"colorbar\":{\"outlinewidth\":0,\"ticks\":\"\"},\"colorscale\":[[0.0,\"#0d0887\"],[0.1111111111111111,\"#46039f\"],[0.2222222222222222,\"#7201a8\"],[0.3333333333333333,\"#9c179e\"],[0.4444444444444444,\"#bd3786\"],[0.5555555555555556,\"#d8576b\"],[0.6666666666666666,\"#ed7953\"],[0.7777777777777778,\"#fb9f3a\"],[0.8888888888888888,\"#fdca26\"],[1.0,\"#f0f921\"]],\"type\":\"heatmapgl\"}],\"histogram\":[{\"marker\":{\"pattern\":{\"fillmode\":\"overlay\",\"size\":10,\"solidity\":0.2}},\"type\":\"histogram\"}],\"histogram2d\":[{\"colorbar\":{\"outlinewidth\":0,\"ticks\":\"\"},\"colorscale\":[[0.0,\"#0d0887\"],[0.1111111111111111,\"#46039f\"],[0.2222222222222222,\"#7201a8\"],[0.3333333333333333,\"#9c179e\"],[0.4444444444444444,\"#bd3786\"],[0.5555555555555556,\"#d8576b\"],[0.6666666666666666,\"#ed7953\"],[0.7777777777777778,\"#fb9f3a\"],[0.8888888888888888,\"#fdca26\"],[1.0,\"#f0f921\"]],\"type\":\"histogram2d\"}],\"histogram2dcontour\":[{\"colorbar\":{\"outlinewidth\":0,\"ticks\":\"\"},\"colorscale\":[[0.0,\"#0d0887\"],[0.1111111111111111,\"#46039f\"],[0.2222222222222222,\"#7201a8\"],[0.3333333333333333,\"#9c179e\"],[0.4444444444444444,\"#bd3786\"],[0.5555555555555556,\"#d8576b\"],[0.6666666666666666,\"#ed7953\"],[0.7777777777777778,\"#fb9f3a\"],[0.8888888888888888,\"#fdca26\"],[1.0,\"#f0f921\"]],\"type\":\"histogram2dcontour\"}],\"mesh3d\":[{\"colorbar\":{\"outlinewidth\":0,\"ticks\":\"\"},\"type\":\"mesh3d\"}],\"parcoords\":[{\"line\":{\"colorbar\":{\"outlinewidth\":0,\"ticks\":\"\"}},\"type\":\"parcoords\"}],\"pie\":[{\"automargin\":true,\"type\":\"pie\"}],\"scatter\":[{\"marker\":{\"colorbar\":{\"outlinewidth\":0,\"ticks\":\"\"}},\"type\":\"scatter\"}],\"scatter3d\":[{\"line\":{\"colorbar\":{\"outlinewidth\":0,\"ticks\":\"\"}},\"marker\":{\"colorbar\":{\"outlinewidth\":0,\"ticks\":\"\"}},\"type\":\"scatter3d\"}],\"scattercarpet\":[{\"marker\":{\"colorbar\":{\"outlinewidth\":0,\"ticks\":\"\"}},\"type\":\"scattercarpet\"}],\"scattergeo\":[{\"marker\":{\"colorbar\":{\"outlinewidth\":0,\"ticks\":\"\"}},\"type\":\"scattergeo\"}],\"scattergl\":[{\"marker\":{\"colorbar\":{\"outlinewidth\":0,\"ticks\":\"\"}},\"type\":\"scattergl\"}],\"scattermapbox\":[{\"marker\":{\"colorbar\":{\"outlinewidth\":0,\"ticks\":\"\"}},\"type\":\"scattermapbox\"}],\"scatterpolar\":[{\"marker\":{\"colorbar\":{\"outlinewidth\":0,\"ticks\":\"\"}},\"type\":\"scatterpolar\"}],\"scatterpolargl\":[{\"marker\":{\"colorbar\":{\"outlinewidth\":0,\"ticks\":\"\"}},\"type\":\"scatterpolargl\"}],\"scatterternary\":[{\"marker\":{\"colorbar\":{\"outlinewidth\":0,\"ticks\":\"\"}},\"type\":\"scatterternary\"}],\"surface\":[{\"colorbar\":{\"outlinewidth\":0,\"ticks\":\"\"},\"colorscale\":[[0.0,\"#0d0887\"],[0.1111111111111111,\"#46039f\"],[0.2222222222222222,\"#7201a8\"],[0.3333333333333333,\"#9c179e\"],[0.4444444444444444,\"#bd3786\"],[0.5555555555555556,\"#d8576b\"],[0.6666666666666666,\"#ed7953\"],[0.7777777777777778,\"#fb9f3a\"],[0.8888888888888888,\"#fdca26\"],[1.0,\"#f0f921\"]],\"type\":\"surface\"}],\"table\":[{\"cells\":{\"fill\":{\"color\":\"#EBF0F8\"},\"line\":{\"color\":\"white\"}},\"header\":{\"fill\":{\"color\":\"#C8D4E3\"},\"line\":{\"color\":\"white\"}},\"type\":\"table\"}]},\"layout\":{\"annotationdefaults\":{\"arrowcolor\":\"#2a3f5f\",\"arrowhead\":0,\"arrowwidth\":1},\"autotypenumbers\":\"strict\",\"coloraxis\":{\"colorbar\":{\"outlinewidth\":0,\"ticks\":\"\"}},\"colorscale\":{\"diverging\":[[0,\"#8e0152\"],[0.1,\"#c51b7d\"],[0.2,\"#de77ae\"],[0.3,\"#f1b6da\"],[0.4,\"#fde0ef\"],[0.5,\"#f7f7f7\"],[0.6,\"#e6f5d0\"],[0.7,\"#b8e186\"],[0.8,\"#7fbc41\"],[0.9,\"#4d9221\"],[1,\"#276419\"]],\"sequential\":[[0.0,\"#0d0887\"],[0.1111111111111111,\"#46039f\"],[0.2222222222222222,\"#7201a8\"],[0.3333333333333333,\"#9c179e\"],[0.4444444444444444,\"#bd3786\"],[0.5555555555555556,\"#d8576b\"],[0.6666666666666666,\"#ed7953\"],[0.7777777777777778,\"#fb9f3a\"],[0.8888888888888888,\"#fdca26\"],[1.0,\"#f0f921\"]],\"sequentialminus\":[[0.0,\"#0d0887\"],[0.1111111111111111,\"#46039f\"],[0.2222222222222222,\"#7201a8\"],[0.3333333333333333,\"#9c179e\"],[0.4444444444444444,\"#bd3786\"],[0.5555555555555556,\"#d8576b\"],[0.6666666666666666,\"#ed7953\"],[0.7777777777777778,\"#fb9f3a\"],[0.8888888888888888,\"#fdca26\"],[1.0,\"#f0f921\"]]},\"colorway\":[\"#636efa\",\"#EF553B\",\"#00cc96\",\"#ab63fa\",\"#FFA15A\",\"#19d3f3\",\"#FF6692\",\"#B6E880\",\"#FF97FF\",\"#FECB52\"],\"font\":{\"color\":\"#2a3f5f\"},\"geo\":{\"bgcolor\":\"white\",\"lakecolor\":\"white\",\"landcolor\":\"#E5ECF6\",\"showlakes\":true,\"showland\":true,\"subunitcolor\":\"white\"},\"hoverlabel\":{\"align\":\"left\"},\"hovermode\":\"closest\",\"mapbox\":{\"style\":\"light\"},\"paper_bgcolor\":\"white\",\"plot_bgcolor\":\"#E5ECF6\",\"polar\":{\"angularaxis\":{\"gridcolor\":\"white\",\"linecolor\":\"white\",\"ticks\":\"\"},\"bgcolor\":\"#E5ECF6\",\"radialaxis\":{\"gridcolor\":\"white\",\"linecolor\":\"white\",\"ticks\":\"\"}},\"scene\":{\"xaxis\":{\"backgroundcolor\":\"#E5ECF6\",\"gridcolor\":\"white\",\"gridwidth\":2,\"linecolor\":\"white\",\"showbackground\":true,\"ticks\":\"\",\"zerolinecolor\":\"white\"},\"yaxis\":{\"backgroundcolor\":\"#E5ECF6\",\"gridcolor\":\"white\",\"gridwidth\":2,\"linecolor\":\"white\",\"showbackground\":true,\"ticks\":\"\",\"zerolinecolor\":\"white\"},\"zaxis\":{\"backgroundcolor\":\"#E5ECF6\",\"gridcolor\":\"white\",\"gridwidth\":2,\"linecolor\":\"white\",\"showbackground\":true,\"ticks\":\"\",\"zerolinecolor\":\"white\"}},\"shapedefaults\":{\"line\":{\"color\":\"#2a3f5f\"}},\"ternary\":{\"aaxis\":{\"gridcolor\":\"white\",\"linecolor\":\"white\",\"ticks\":\"\"},\"baxis\":{\"gridcolor\":\"white\",\"linecolor\":\"white\",\"ticks\":\"\"},\"bgcolor\":\"#E5ECF6\",\"caxis\":{\"gridcolor\":\"white\",\"linecolor\":\"white\",\"ticks\":\"\"}},\"title\":{\"x\":0.05},\"xaxis\":{\"automargin\":true,\"gridcolor\":\"white\",\"linecolor\":\"white\",\"ticks\":\"\",\"title\":{\"standoff\":15},\"zerolinecolor\":\"white\",\"zerolinewidth\":2},\"yaxis\":{\"automargin\":true,\"gridcolor\":\"white\",\"linecolor\":\"white\",\"ticks\":\"\",\"title\":{\"standoff\":15},\"zerolinecolor\":\"white\",\"zerolinewidth\":2}}},\"xaxis\":{\"anchor\":\"y\",\"domain\":[0.0,1.0],\"title\":{\"text\":\"residence_since\"}},\"yaxis\":{\"anchor\":\"x\",\"domain\":[0.0,1.0],\"title\":{\"text\":\"index\"}},\"legend\":{\"title\":{\"text\":\"risk\"},\"tracegroupgap\":0},\"margin\":{\"t\":60}},                        {\"responsive\": true}                    ).then(function(){\n",
              "                            \n",
              "var gd = document.getElementById('5d822fbf-08bb-4c61-b36c-c8cd1b682b95');\n",
              "var x = new MutationObserver(function (mutations, observer) {{\n",
              "        var display = window.getComputedStyle(gd).display;\n",
              "        if (!display || display === 'none') {{\n",
              "            console.log([gd, 'removed!']);\n",
              "            Plotly.purge(gd);\n",
              "            observer.disconnect();\n",
              "        }}\n",
              "}});\n",
              "\n",
              "// Listen for the removal of the full notebook cells\n",
              "var notebookContainer = gd.closest('#notebook-container');\n",
              "if (notebookContainer) {{\n",
              "    x.observe(notebookContainer, {childList: true});\n",
              "}}\n",
              "\n",
              "// Listen for the clearing of the current output cell\n",
              "var outputEl = gd.closest('.output');\n",
              "if (outputEl) {{\n",
              "    x.observe(outputEl, {childList: true});\n",
              "}}\n",
              "\n",
              "                        })                };                            </script>        </div>\n",
              "</body>\n",
              "</html>"
            ]
          },
          "metadata": {}
        },
        {
          "output_type": "display_data",
          "data": {
            "text/html": [
              "<html>\n",
              "<head><meta charset=\"utf-8\" /></head>\n",
              "<body>\n",
              "    <div>            <script src=\"https://cdnjs.cloudflare.com/ajax/libs/mathjax/2.7.5/MathJax.js?config=TeX-AMS-MML_SVG\"></script><script type=\"text/javascript\">if (window.MathJax) {MathJax.Hub.Config({SVG: {font: \"STIX-Web\"}});}</script>                <script type=\"text/javascript\">window.PlotlyConfig = {MathJaxConfig: 'local'};</script>\n",
              "        <script src=\"https://cdn.plot.ly/plotly-2.8.3.min.js\"></script>                <div id=\"951f235c-6376-4da7-ba9f-81be4d4dd3ea\" class=\"plotly-graph-div\" style=\"height:525px; width:100%;\"></div>            <script type=\"text/javascript\">                                    window.PLOTLYENV=window.PLOTLYENV || {};                                    if (document.getElementById(\"951f235c-6376-4da7-ba9f-81be4d4dd3ea\")) {                    Plotly.newPlot(                        \"951f235c-6376-4da7-ba9f-81be4d4dd3ea\",                        [{\"hovertemplate\":\"risk=good<br>age=%{x}<br>index=%{y}<extra></extra>\",\"legendgroup\":\"good\",\"marker\":{\"color\":\"#636efa\",\"symbol\":\"circle\"},\"mode\":\"markers\",\"name\":\"good\",\"orientation\":\"h\",\"showlegend\":true,\"x\":[67.0,49.0,45.0,35.0,53.0,35.0,61.0,22.0,28.0,53.0,25.0,31.0,48.0,44.0,48.0,44.0,26.0,36.0,39.0,42.0,34.0,36.0,27.0,30.0,57.0,33.0,31.0,37.0,24.0,30.0,26.0,44.0,24.0,35.0,39.0,23.0,39.0,28.0,29.0,30.0,25.0,31.0,26.0,31.0,23.0,27.0,50.0,26.0,48.0,29.0,22.0,25.0,30.0,46.0,51.0,41.0,66.0,51.0,39.0,22.0,47.0,24.0,58.0,52.0,29.0,27.0,30.0,56.0,54.0,20.0,54.0,61.0,34.0,36.0,36.0,41.0,24.0,24.0,35.0,26.0,32.0,30.0,35.0,31.0,23.0,28.0,35.0,47.0,27.0,36.0,41.0,24.0,63.0,30.0,40.0,34.0,24.0,27.0,47.0,21.0,38.0,27.0,35.0,44.0,27.0,30.0,27.0,23.0,30.0,39.0,51.0,28.0,46.0,42.0,38.0,24.0,29.0,36.0,48.0,45.0,38.0,34.0,36.0,30.0,36.0,70.0,36.0,32.0,20.0,25.0,26.0,33.0,42.0,52.0,31.0,65.0,50.0,31.0,68.0,33.0,29.0,28.0,36.0,52.0,27.0,26.0,38.0,38.0,43.0,26.0,21.0,55.0,33.0,45.0,51.0,39.0,31.0,23.0,24.0,64.0,26.0,23.0,30.0,32.0,30.0,27.0,22.0,51.0,35.0,25.0,42.0,35.0,39.0,51.0,27.0,35.0,25.0,52.0,35.0,26.0,39.0,46.0,35.0,24.0,27.0,35.0,23.0,57.0,27.0,55.0,36.0,57.0,32.0,36.0,38.0,25.0,32.0,37.0,36.0,32.0,26.0,49.0,29.0,23.0,50.0,49.0,63.0,37.0,35.0,26.0,31.0,49.0,26.0,44.0,56.0,46.0,20.0,45.0,43.0,32.0,54.0,49.0,33.0,24.0,22.0,40.0,25.0,26.0,29.0,38.0,48.0,32.0,27.0,34.0,28.0,36.0,39.0,49.0,34.0,31.0,28.0,75.0,23.0,28.0,31.0,24.0,26.0,25.0,33.0,37.0,43.0,23.0,23.0,34.0,23.0,38.0,46.0,49.0,28.0,61.0,37.0,36.0,21.0,36.0,27.0,22.0,40.0,36.0,33.0,23.0,63.0,34.0,36.0,52.0,39.0,25.0,26.0,26.0,25.0,21.0,40.0,27.0,27.0,30.0,19.0,39.0,31.0,31.0,32.0,55.0,46.0,43.0,39.0,28.0,27.0,43.0,43.0,27.0,26.0,20.0,35.0,40.0,35.0,23.0,31.0,20.0,30.0,47.0,34.0,21.0,29.0,46.0,20.0,74.0,36.0,33.0,25.0,23.0,37.0,65.0,39.0,30.0,29.0,41.0,35.0,55.0,30.0,29.0,34.0,35.0,29.0,36.0,27.0,32.0,37.0,36.0,34.0,38.0,34.0,63.0,32.0,26.0,35.0,36.0,24.0,25.0,39.0,44.0,23.0,26.0,57.0,30.0,44.0,52.0,62.0,35.0,26.0,26.0,27.0,38.0,39.0,40.0,32.0,28.0,42.0,49.0,36.0,28.0,45.0,32.0,26.0,20.0,54.0,37.0,40.0,43.0,36.0,44.0,23.0,26.0,30.0,31.0,42.0,41.0,32.0,41.0,26.0,25.0,75.0,37.0,45.0,60.0,61.0,37.0,32.0,35.0,23.0,45.0,27.0,67.0,49.0,29.0,37.0,23.0,34.0,41.0,38.0,26.0,22.0,27.0,24.0,27.0,33.0,27.0,49.0,26.0,52.0,36.0,21.0,58.0,42.0,36.0,32.0,45.0,23.0,22.0,74.0,33.0,45.0,29.0,22.0,48.0,27.0,37.0,49.0,27.0,22.0,35.0,41.0,36.0,64.0,28.0,23.0,47.0,28.0,21.0,34.0,38.0,33.0,32.0,32.0,50.0,35.0,22.0,37.0,28.0,41.0,23.0,50.0,35.0,50.0,27.0,34.0,27.0,47.0,27.0,31.0,42.0,24.0,26.0,33.0,64.0,26.0,56.0,37.0,33.0,47.0,31.0,34.0,27.0,30.0,35.0,31.0,25.0,25.0,29.0,44.0,28.0,50.0,29.0,38.0,24.0,40.0,47.0,41.0,32.0,35.0,25.0,37.0,32.0,46.0,25.0,63.0,40.0,32.0,31.0,31.0,66.0,41.0,47.0,36.0,33.0,44.0,28.0,37.0,29.0,35.0,45.0,32.0,23.0,41.0,22.0,30.0,28.0,23.0,26.0,33.0,49.0,23.0,25.0,74.0,31.0,59.0,24.0,27.0,40.0,31.0,28.0,63.0,26.0,36.0,52.0,66.0,37.0,25.0,38.0,67.0,60.0,31.0,60.0,35.0,40.0,38.0,41.0,27.0,51.0,32.0,22.0,22.0,54.0,35.0,54.0,48.0,24.0,35.0,24.0,26.0,65.0,55.0,26.0,28.0,54.0,62.0,24.0,43.0,27.0,24.0,47.0,35.0,30.0,38.0,44.0,42.0,21.0,23.0,63.0,46.0,28.0,50.0,47.0,35.0,28.0,59.0,43.0,35.0,45.0,33.0,40.0,28.0,26.0,27.0,32.0,20.0,27.0,42.0,37.0,24.0,40.0,46.0,26.0,24.0,29.0,40.0,36.0,28.0,36.0,38.0,48.0,36.0,65.0,34.0,34.0,40.0,43.0,46.0,38.0,34.0,29.0,31.0,28.0,35.0,33.0,44.0,42.0,40.0,36.0,20.0,24.0,27.0,46.0,33.0,34.0,25.0,28.0,32.0,28.0,37.0,30.0,21.0,58.0,43.0,24.0,30.0,42.0,23.0,30.0,46.0,45.0,31.0,31.0,42.0,46.0,30.0,38.0,40.0,29.0,57.0,49.0,37.0,30.0,30.0,47.0,29.0,22.0,26.0,54.0,29.0,40.0,22.0,43.0,33.0,57.0,64.0,42.0,28.0,30.0,25.0,33.0,64.0,29.0,48.0,37.0,34.0,23.0,30.0,50.0,31.0,40.0,38.0,27.0],\"xaxis\":\"x\",\"y\":[0,2,3,5,6,7,8,12,14,16,17,19,20,21,22,23,24,25,26,27,28,30,31,32,33,34,36,38,39,40,41,42,43,45,46,47,48,49,50,51,52,53,55,57,58,60,61,64,65,66,67,69,70,71,72,73,75,77,78,79,81,82,83,84,85,86,88,90,91,93,94,96,97,98,99,100,101,102,103,104,107,108,109,110,111,112,114,115,117,119,121,122,123,125,126,128,130,132,133,134,135,136,138,139,140,141,142,144,145,146,147,148,149,150,151,152,153,154,156,157,158,159,160,161,162,163,164,165,167,168,171,173,176,177,178,179,183,185,187,189,193,196,198,200,201,202,204,205,206,207,208,209,210,211,214,215,216,217,218,219,220,221,222,223,224,225,229,231,232,233,234,238,239,241,243,244,245,246,247,248,250,251,253,254,255,256,258,259,260,261,262,263,264,266,267,269,270,271,272,275,276,277,279,280,281,282,283,284,285,286,287,288,290,292,293,294,296,297,298,299,300,303,305,306,309,310,311,312,314,316,317,318,319,322,323,324,325,326,327,328,329,330,336,338,339,340,341,342,343,344,345,346,347,348,350,352,354,356,358,360,361,362,363,365,366,367,369,370,371,372,373,376,377,379,380,382,383,384,385,386,387,388,389,390,391,392,393,394,395,396,397,399,400,401,403,404,406,407,408,410,411,413,415,417,418,420,421,422,423,425,426,427,428,430,432,433,434,436,437,438,440,441,442,445,447,448,450,451,452,453,455,456,458,459,460,461,462,463,464,465,467,468,469,473,476,477,478,479,480,481,482,483,484,486,487,488,489,490,492,493,494,497,498,499,501,502,506,508,509,511,512,513,514,515,516,518,519,520,523,524,525,526,527,529,530,532,533,534,536,537,539,541,544,546,547,549,550,551,553,554,560,562,564,565,567,568,571,572,573,574,575,576,577,579,581,582,584,586,587,590,591,592,599,600,604,605,606,608,609,612,613,615,616,617,619,620,623,625,626,628,629,630,632,635,636,637,638,641,643,644,646,650,654,655,657,658,659,660,662,663,664,665,666,667,669,670,671,672,673,675,676,678,679,680,681,682,683,684,685,686,687,688,689,690,691,692,693,694,695,696,697,698,699,702,703,704,705,708,709,710,712,713,715,716,717,718,719,723,725,726,729,730,732,733,734,735,737,738,740,741,742,743,744,745,746,748,749,750,752,753,756,758,760,762,764,765,767,768,769,770,772,773,774,776,777,778,779,781,782,784,785,786,787,791,792,793,794,795,797,798,799,800,801,802,803,804,806,807,808,810,811,815,816,817,818,820,821,823,824,825,829,830,833,836,837,838,839,841,843,844,845,847,848,851,852,854,855,856,857,859,860,863,865,866,867,868,869,870,871,872,873,874,875,876,877,879,880,881,882,883,886,888,889,890,891,892,893,894,895,896,897,898,901,902,903,904,905,906,907,908,909,910,912,913,916,920,921,923,926,928,929,930,932,933,934,937,939,940,941,942,943,944,945,947,950,954,955,956,957,959,960,961,962,964,965,967,968,969,970,971,974,975,976,977,982,984,985,986,987,988,989,990,991,992,993,994,995,996,997,999],\"yaxis\":\"y\",\"type\":\"scatter\"},{\"hovertemplate\":\"risk=bad<br>age=%{x}<br>index=%{y}<extra></extra>\",\"legendgroup\":\"bad\",\"marker\":{\"color\":\"#EF553B\",\"symbol\":\"circle\"},\"mode\":\"markers\",\"name\":\"bad\",\"orientation\":\"h\",\"showlegend\":true,\"x\":[22.0,53.0,28.0,25.0,24.0,60.0,32.0,44.0,63.0,25.0,37.0,58.0,57.0,52.0,23.0,61.0,25.0,37.0,40.0,34.0,44.0,47.0,28.0,33.0,58.0,39.0,39.0,25.0,30.0,23.0,25.0,27.0,30.0,29.0,29.0,66.0,22.0,20.0,33.0,31.0,33.0,34.0,26.0,53.0,28.0,30.0,40.0,36.0,74.0,20.0,54.0,34.0,36.0,21.0,34.0,27.0,40.0,21.0,50.0,66.0,27.0,53.0,22.0,26.0,30.0,23.0,61.0,29.0,24.0,22.0,24.0,29.0,37.0,45.0,28.0,34.0,32.0,48.0,28.0,26.0,42.0,37.0,44.0,33.0,24.0,25.0,31.0,28.0,32.0,30.0,24.0,24.0,23.0,44.0,24.0,32.0,29.0,28.0,23.0,26.0,23.0,25.0,42.0,60.0,37.0,57.0,38.0,46.0,27.0,22.0,28.0,42.0,35.0,33.0,33.0,25.0,55.0,29.0,25.0,26.0,41.0,30.0,34.0,61.0,31.0,35.0,29.0,22.0,23.0,28.0,33.0,26.0,47.0,42.0,20.0,29.0,27.0,38.0,24.0,27.0,34.0,26.0,23.0,24.0,53.0,31.0,28.0,33.0,42.0,23.0,31.0,34.0,43.0,24.0,34.0,22.0,28.0,29.0,27.0,31.0,24.0,37.0,36.0,31.0,23.0,27.0,30.0,33.0,20.0,47.0,60.0,20.0,40.0,32.0,23.0,36.0,31.0,30.0,34.0,28.0,50.0,22.0,48.0,22.0,21.0,32.0,38.0,65.0,29.0,44.0,19.0,25.0,26.0,27.0,40.0,27.0,26.0,38.0,40.0,37.0,45.0,42.0,41.0,23.0,43.0,41.0,24.0,29.0,46.0,24.0,25.0,35.0,27.0,34.0,24.0,24.0,21.0,25.0,59.0,21.0,23.0,26.0,37.0,23.0,55.0,32.0,39.0,35.0,24.0,30.0,31.0,25.0,25.0,25.0,23.0,50.0,27.0,39.0,51.0,24.0,26.0,24.0,54.0,46.0,26.0,41.0,33.0,36.0,47.0,23.0,29.0,25.0,48.0,29.0,23.0,68.0,57.0,33.0,32.0,29.0,28.0,35.0,25.0,27.0,43.0,53.0,23.0,42.0,43.0,25.0,31.0,32.0,68.0,33.0,39.0,22.0,55.0,46.0,39.0,22.0,30.0,28.0,42.0,30.0,43.0,31.0,24.0,28.0,26.0,45.0,35.0,23.0,29.0,36.0,47.0,25.0,49.0,33.0,26.0,23.0],\"xaxis\":\"x\",\"y\":[1,4,9,10,11,13,15,18,29,35,37,44,54,56,59,62,63,68,74,76,80,87,89,92,95,105,106,113,116,118,120,124,127,129,131,137,143,155,166,169,170,172,174,175,180,181,182,184,186,188,190,191,192,194,195,197,199,203,212,213,226,227,228,230,235,236,237,240,242,249,252,257,265,268,273,274,278,289,291,295,301,302,304,307,308,313,315,320,321,331,332,333,334,335,337,349,351,353,355,357,359,364,368,374,375,378,381,398,402,405,409,412,414,416,419,424,429,431,435,439,443,444,446,449,454,457,466,470,471,472,474,475,485,491,495,496,500,503,504,505,507,510,517,521,522,528,531,535,538,540,542,543,545,548,552,555,556,557,558,559,561,563,566,569,570,578,580,583,585,588,589,593,594,595,596,597,598,601,602,603,607,610,611,614,618,621,622,624,627,631,633,634,639,640,642,645,647,648,649,651,652,653,656,661,668,674,677,700,701,706,707,711,714,720,721,722,724,727,728,731,736,739,747,751,754,755,757,759,761,763,766,771,775,780,783,788,789,790,796,805,809,812,813,814,819,822,826,827,828,831,832,834,835,840,842,846,849,850,853,858,861,862,864,878,884,885,887,899,900,911,914,915,917,918,919,922,924,925,927,931,935,936,938,946,948,949,951,952,953,958,963,966,972,973,978,979,980,981,983,998],\"yaxis\":\"y\",\"type\":\"scatter\"}],                        {\"template\":{\"data\":{\"bar\":[{\"error_x\":{\"color\":\"#2a3f5f\"},\"error_y\":{\"color\":\"#2a3f5f\"},\"marker\":{\"line\":{\"color\":\"#E5ECF6\",\"width\":0.5},\"pattern\":{\"fillmode\":\"overlay\",\"size\":10,\"solidity\":0.2}},\"type\":\"bar\"}],\"barpolar\":[{\"marker\":{\"line\":{\"color\":\"#E5ECF6\",\"width\":0.5},\"pattern\":{\"fillmode\":\"overlay\",\"size\":10,\"solidity\":0.2}},\"type\":\"barpolar\"}],\"carpet\":[{\"aaxis\":{\"endlinecolor\":\"#2a3f5f\",\"gridcolor\":\"white\",\"linecolor\":\"white\",\"minorgridcolor\":\"white\",\"startlinecolor\":\"#2a3f5f\"},\"baxis\":{\"endlinecolor\":\"#2a3f5f\",\"gridcolor\":\"white\",\"linecolor\":\"white\",\"minorgridcolor\":\"white\",\"startlinecolor\":\"#2a3f5f\"},\"type\":\"carpet\"}],\"choropleth\":[{\"colorbar\":{\"outlinewidth\":0,\"ticks\":\"\"},\"type\":\"choropleth\"}],\"contour\":[{\"colorbar\":{\"outlinewidth\":0,\"ticks\":\"\"},\"colorscale\":[[0.0,\"#0d0887\"],[0.1111111111111111,\"#46039f\"],[0.2222222222222222,\"#7201a8\"],[0.3333333333333333,\"#9c179e\"],[0.4444444444444444,\"#bd3786\"],[0.5555555555555556,\"#d8576b\"],[0.6666666666666666,\"#ed7953\"],[0.7777777777777778,\"#fb9f3a\"],[0.8888888888888888,\"#fdca26\"],[1.0,\"#f0f921\"]],\"type\":\"contour\"}],\"contourcarpet\":[{\"colorbar\":{\"outlinewidth\":0,\"ticks\":\"\"},\"type\":\"contourcarpet\"}],\"heatmap\":[{\"colorbar\":{\"outlinewidth\":0,\"ticks\":\"\"},\"colorscale\":[[0.0,\"#0d0887\"],[0.1111111111111111,\"#46039f\"],[0.2222222222222222,\"#7201a8\"],[0.3333333333333333,\"#9c179e\"],[0.4444444444444444,\"#bd3786\"],[0.5555555555555556,\"#d8576b\"],[0.6666666666666666,\"#ed7953\"],[0.7777777777777778,\"#fb9f3a\"],[0.8888888888888888,\"#fdca26\"],[1.0,\"#f0f921\"]],\"type\":\"heatmap\"}],\"heatmapgl\":[{\"colorbar\":{\"outlinewidth\":0,\"ticks\":\"\"},\"colorscale\":[[0.0,\"#0d0887\"],[0.1111111111111111,\"#46039f\"],[0.2222222222222222,\"#7201a8\"],[0.3333333333333333,\"#9c179e\"],[0.4444444444444444,\"#bd3786\"],[0.5555555555555556,\"#d8576b\"],[0.6666666666666666,\"#ed7953\"],[0.7777777777777778,\"#fb9f3a\"],[0.8888888888888888,\"#fdca26\"],[1.0,\"#f0f921\"]],\"type\":\"heatmapgl\"}],\"histogram\":[{\"marker\":{\"pattern\":{\"fillmode\":\"overlay\",\"size\":10,\"solidity\":0.2}},\"type\":\"histogram\"}],\"histogram2d\":[{\"colorbar\":{\"outlinewidth\":0,\"ticks\":\"\"},\"colorscale\":[[0.0,\"#0d0887\"],[0.1111111111111111,\"#46039f\"],[0.2222222222222222,\"#7201a8\"],[0.3333333333333333,\"#9c179e\"],[0.4444444444444444,\"#bd3786\"],[0.5555555555555556,\"#d8576b\"],[0.6666666666666666,\"#ed7953\"],[0.7777777777777778,\"#fb9f3a\"],[0.8888888888888888,\"#fdca26\"],[1.0,\"#f0f921\"]],\"type\":\"histogram2d\"}],\"histogram2dcontour\":[{\"colorbar\":{\"outlinewidth\":0,\"ticks\":\"\"},\"colorscale\":[[0.0,\"#0d0887\"],[0.1111111111111111,\"#46039f\"],[0.2222222222222222,\"#7201a8\"],[0.3333333333333333,\"#9c179e\"],[0.4444444444444444,\"#bd3786\"],[0.5555555555555556,\"#d8576b\"],[0.6666666666666666,\"#ed7953\"],[0.7777777777777778,\"#fb9f3a\"],[0.8888888888888888,\"#fdca26\"],[1.0,\"#f0f921\"]],\"type\":\"histogram2dcontour\"}],\"mesh3d\":[{\"colorbar\":{\"outlinewidth\":0,\"ticks\":\"\"},\"type\":\"mesh3d\"}],\"parcoords\":[{\"line\":{\"colorbar\":{\"outlinewidth\":0,\"ticks\":\"\"}},\"type\":\"parcoords\"}],\"pie\":[{\"automargin\":true,\"type\":\"pie\"}],\"scatter\":[{\"marker\":{\"colorbar\":{\"outlinewidth\":0,\"ticks\":\"\"}},\"type\":\"scatter\"}],\"scatter3d\":[{\"line\":{\"colorbar\":{\"outlinewidth\":0,\"ticks\":\"\"}},\"marker\":{\"colorbar\":{\"outlinewidth\":0,\"ticks\":\"\"}},\"type\":\"scatter3d\"}],\"scattercarpet\":[{\"marker\":{\"colorbar\":{\"outlinewidth\":0,\"ticks\":\"\"}},\"type\":\"scattercarpet\"}],\"scattergeo\":[{\"marker\":{\"colorbar\":{\"outlinewidth\":0,\"ticks\":\"\"}},\"type\":\"scattergeo\"}],\"scattergl\":[{\"marker\":{\"colorbar\":{\"outlinewidth\":0,\"ticks\":\"\"}},\"type\":\"scattergl\"}],\"scattermapbox\":[{\"marker\":{\"colorbar\":{\"outlinewidth\":0,\"ticks\":\"\"}},\"type\":\"scattermapbox\"}],\"scatterpolar\":[{\"marker\":{\"colorbar\":{\"outlinewidth\":0,\"ticks\":\"\"}},\"type\":\"scatterpolar\"}],\"scatterpolargl\":[{\"marker\":{\"colorbar\":{\"outlinewidth\":0,\"ticks\":\"\"}},\"type\":\"scatterpolargl\"}],\"scatterternary\":[{\"marker\":{\"colorbar\":{\"outlinewidth\":0,\"ticks\":\"\"}},\"type\":\"scatterternary\"}],\"surface\":[{\"colorbar\":{\"outlinewidth\":0,\"ticks\":\"\"},\"colorscale\":[[0.0,\"#0d0887\"],[0.1111111111111111,\"#46039f\"],[0.2222222222222222,\"#7201a8\"],[0.3333333333333333,\"#9c179e\"],[0.4444444444444444,\"#bd3786\"],[0.5555555555555556,\"#d8576b\"],[0.6666666666666666,\"#ed7953\"],[0.7777777777777778,\"#fb9f3a\"],[0.8888888888888888,\"#fdca26\"],[1.0,\"#f0f921\"]],\"type\":\"surface\"}],\"table\":[{\"cells\":{\"fill\":{\"color\":\"#EBF0F8\"},\"line\":{\"color\":\"white\"}},\"header\":{\"fill\":{\"color\":\"#C8D4E3\"},\"line\":{\"color\":\"white\"}},\"type\":\"table\"}]},\"layout\":{\"annotationdefaults\":{\"arrowcolor\":\"#2a3f5f\",\"arrowhead\":0,\"arrowwidth\":1},\"autotypenumbers\":\"strict\",\"coloraxis\":{\"colorbar\":{\"outlinewidth\":0,\"ticks\":\"\"}},\"colorscale\":{\"diverging\":[[0,\"#8e0152\"],[0.1,\"#c51b7d\"],[0.2,\"#de77ae\"],[0.3,\"#f1b6da\"],[0.4,\"#fde0ef\"],[0.5,\"#f7f7f7\"],[0.6,\"#e6f5d0\"],[0.7,\"#b8e186\"],[0.8,\"#7fbc41\"],[0.9,\"#4d9221\"],[1,\"#276419\"]],\"sequential\":[[0.0,\"#0d0887\"],[0.1111111111111111,\"#46039f\"],[0.2222222222222222,\"#7201a8\"],[0.3333333333333333,\"#9c179e\"],[0.4444444444444444,\"#bd3786\"],[0.5555555555555556,\"#d8576b\"],[0.6666666666666666,\"#ed7953\"],[0.7777777777777778,\"#fb9f3a\"],[0.8888888888888888,\"#fdca26\"],[1.0,\"#f0f921\"]],\"sequentialminus\":[[0.0,\"#0d0887\"],[0.1111111111111111,\"#46039f\"],[0.2222222222222222,\"#7201a8\"],[0.3333333333333333,\"#9c179e\"],[0.4444444444444444,\"#bd3786\"],[0.5555555555555556,\"#d8576b\"],[0.6666666666666666,\"#ed7953\"],[0.7777777777777778,\"#fb9f3a\"],[0.8888888888888888,\"#fdca26\"],[1.0,\"#f0f921\"]]},\"colorway\":[\"#636efa\",\"#EF553B\",\"#00cc96\",\"#ab63fa\",\"#FFA15A\",\"#19d3f3\",\"#FF6692\",\"#B6E880\",\"#FF97FF\",\"#FECB52\"],\"font\":{\"color\":\"#2a3f5f\"},\"geo\":{\"bgcolor\":\"white\",\"lakecolor\":\"white\",\"landcolor\":\"#E5ECF6\",\"showlakes\":true,\"showland\":true,\"subunitcolor\":\"white\"},\"hoverlabel\":{\"align\":\"left\"},\"hovermode\":\"closest\",\"mapbox\":{\"style\":\"light\"},\"paper_bgcolor\":\"white\",\"plot_bgcolor\":\"#E5ECF6\",\"polar\":{\"angularaxis\":{\"gridcolor\":\"white\",\"linecolor\":\"white\",\"ticks\":\"\"},\"bgcolor\":\"#E5ECF6\",\"radialaxis\":{\"gridcolor\":\"white\",\"linecolor\":\"white\",\"ticks\":\"\"}},\"scene\":{\"xaxis\":{\"backgroundcolor\":\"#E5ECF6\",\"gridcolor\":\"white\",\"gridwidth\":2,\"linecolor\":\"white\",\"showbackground\":true,\"ticks\":\"\",\"zerolinecolor\":\"white\"},\"yaxis\":{\"backgroundcolor\":\"#E5ECF6\",\"gridcolor\":\"white\",\"gridwidth\":2,\"linecolor\":\"white\",\"showbackground\":true,\"ticks\":\"\",\"zerolinecolor\":\"white\"},\"zaxis\":{\"backgroundcolor\":\"#E5ECF6\",\"gridcolor\":\"white\",\"gridwidth\":2,\"linecolor\":\"white\",\"showbackground\":true,\"ticks\":\"\",\"zerolinecolor\":\"white\"}},\"shapedefaults\":{\"line\":{\"color\":\"#2a3f5f\"}},\"ternary\":{\"aaxis\":{\"gridcolor\":\"white\",\"linecolor\":\"white\",\"ticks\":\"\"},\"baxis\":{\"gridcolor\":\"white\",\"linecolor\":\"white\",\"ticks\":\"\"},\"bgcolor\":\"#E5ECF6\",\"caxis\":{\"gridcolor\":\"white\",\"linecolor\":\"white\",\"ticks\":\"\"}},\"title\":{\"x\":0.05},\"xaxis\":{\"automargin\":true,\"gridcolor\":\"white\",\"linecolor\":\"white\",\"ticks\":\"\",\"title\":{\"standoff\":15},\"zerolinecolor\":\"white\",\"zerolinewidth\":2},\"yaxis\":{\"automargin\":true,\"gridcolor\":\"white\",\"linecolor\":\"white\",\"ticks\":\"\",\"title\":{\"standoff\":15},\"zerolinecolor\":\"white\",\"zerolinewidth\":2}}},\"xaxis\":{\"anchor\":\"y\",\"domain\":[0.0,1.0],\"title\":{\"text\":\"age\"}},\"yaxis\":{\"anchor\":\"x\",\"domain\":[0.0,1.0],\"title\":{\"text\":\"index\"}},\"legend\":{\"title\":{\"text\":\"risk\"},\"tracegroupgap\":0},\"margin\":{\"t\":60}},                        {\"responsive\": true}                    ).then(function(){\n",
              "                            \n",
              "var gd = document.getElementById('951f235c-6376-4da7-ba9f-81be4d4dd3ea');\n",
              "var x = new MutationObserver(function (mutations, observer) {{\n",
              "        var display = window.getComputedStyle(gd).display;\n",
              "        if (!display || display === 'none') {{\n",
              "            console.log([gd, 'removed!']);\n",
              "            Plotly.purge(gd);\n",
              "            observer.disconnect();\n",
              "        }}\n",
              "}});\n",
              "\n",
              "// Listen for the removal of the full notebook cells\n",
              "var notebookContainer = gd.closest('#notebook-container');\n",
              "if (notebookContainer) {{\n",
              "    x.observe(notebookContainer, {childList: true});\n",
              "}}\n",
              "\n",
              "// Listen for the clearing of the current output cell\n",
              "var outputEl = gd.closest('.output');\n",
              "if (outputEl) {{\n",
              "    x.observe(outputEl, {childList: true});\n",
              "}}\n",
              "\n",
              "                        })                };                            </script>        </div>\n",
              "</body>\n",
              "</html>"
            ]
          },
          "metadata": {}
        },
        {
          "output_type": "display_data",
          "data": {
            "text/html": [
              "<html>\n",
              "<head><meta charset=\"utf-8\" /></head>\n",
              "<body>\n",
              "    <div>            <script src=\"https://cdnjs.cloudflare.com/ajax/libs/mathjax/2.7.5/MathJax.js?config=TeX-AMS-MML_SVG\"></script><script type=\"text/javascript\">if (window.MathJax) {MathJax.Hub.Config({SVG: {font: \"STIX-Web\"}});}</script>                <script type=\"text/javascript\">window.PlotlyConfig = {MathJaxConfig: 'local'};</script>\n",
              "        <script src=\"https://cdn.plot.ly/plotly-2.8.3.min.js\"></script>                <div id=\"b40e81de-d736-42bb-9313-0dfdb985f9e6\" class=\"plotly-graph-div\" style=\"height:525px; width:100%;\"></div>            <script type=\"text/javascript\">                                    window.PLOTLYENV=window.PLOTLYENV || {};                                    if (document.getElementById(\"b40e81de-d736-42bb-9313-0dfdb985f9e6\")) {                    Plotly.newPlot(                        \"b40e81de-d736-42bb-9313-0dfdb985f9e6\",                        [{\"hovertemplate\":\"risk=good<br>existing_credits=%{x}<br>index=%{y}<extra></extra>\",\"legendgroup\":\"good\",\"marker\":{\"color\":\"#636efa\",\"symbol\":\"circle\"},\"mode\":\"markers\",\"name\":\"good\",\"orientation\":\"h\",\"showlegend\":true,\"x\":[2.0,1.0,1.0,1.0,1.0,1.0,1.0,1.0,1.0,2.0,3.0,1.0,3.0,1.0,2.0,1.0,2.0,1.0,1.0,2.0,1.0,1.0,1.0,2.0,1.0,1.0,1.0,1.0,1.0,1.0,1.0,1.0,2.0,2.0,1.0,1.0,2.0,1.0,1.0,2.0,1.0,1.0,1.0,2.0,1.0,1.0,2.0,1.0,4.0,1.0,1.0,1.0,1.0,2.0,2.0,2.0,2.0,1.0,1.0,1.0,1.0,1.0,1.0,1.0,2.0,2.0,1.0,1.0,1.0,2.0,1.0,1.0,1.0,1.0,2.0,1.0,1.0,1.0,1.0,1.0,1.0,1.0,1.0,2.0,1.0,1.0,1.0,1.0,2.0,1.0,2.0,1.0,2.0,2.0,1.0,2.0,1.0,2.0,2.0,1.0,2.0,2.0,3.0,1.0,1.0,1.0,1.0,1.0,1.0,2.0,2.0,2.0,2.0,1.0,1.0,1.0,1.0,1.0,2.0,1.0,2.0,2.0,1.0,2.0,2.0,1.0,1.0,1.0,1.0,1.0,1.0,1.0,1.0,2.0,2.0,2.0,1.0,2.0,3.0,2.0,1.0,2.0,1.0,2.0,1.0,2.0,2.0,3.0,3.0,1.0,1.0,1.0,2.0,1.0,1.0,2.0,1.0,1.0,1.0,1.0,1.0,1.0,2.0,2.0,1.0,2.0,1.0,1.0,1.0,1.0,3.0,2.0,1.0,1.0,2.0,1.0,1.0,3.0,1.0,1.0,2.0,1.0,2.0,1.0,1.0,2.0,1.0,3.0,1.0,1.0,3.0,3.0,2.0,2.0,1.0,2.0,1.0,1.0,1.0,1.0,2.0,1.0,1.0,2.0,1.0,1.0,1.0,1.0,1.0,1.0,1.0,2.0,1.0,2.0,1.0,2.0,1.0,1.0,1.0,2.0,1.0,2.0,1.0,1.0,1.0,1.0,1.0,1.0,1.0,1.0,1.0,2.0,2.0,1.0,1.0,2.0,2.0,1.0,1.0,1.0,1.0,2.0,1.0,1.0,1.0,2.0,1.0,1.0,1.0,1.0,1.0,2.0,1.0,2.0,1.0,1.0,1.0,1.0,1.0,1.0,1.0,2.0,1.0,1.0,2.0,1.0,1.0,1.0,2.0,2.0,1.0,2.0,1.0,2.0,1.0,1.0,1.0,2.0,2.0,1.0,2.0,1.0,2.0,1.0,1.0,1.0,1.0,1.0,1.0,1.0,2.0,2.0,1.0,2.0,2.0,1.0,2.0,1.0,1.0,1.0,2.0,1.0,2.0,2.0,1.0,1.0,1.0,2.0,2.0,1.0,2.0,2.0,1.0,1.0,3.0,2.0,1.0,1.0,2.0,2.0,1.0,1.0,2.0,2.0,1.0,1.0,1.0,1.0,2.0,1.0,1.0,2.0,1.0,1.0,1.0,1.0,1.0,2.0,2.0,1.0,2.0,2.0,2.0,1.0,1.0,1.0,1.0,2.0,1.0,1.0,2.0,2.0,1.0,1.0,1.0,1.0,1.0,2.0,2.0,1.0,2.0,2.0,1.0,2.0,1.0,1.0,1.0,1.0,1.0,1.0,1.0,2.0,1.0,2.0,1.0,1.0,2.0,2.0,1.0,1.0,2.0,1.0,2.0,1.0,2.0,1.0,1.0,2.0,1.0,1.0,1.0,2.0,2.0,1.0,1.0,2.0,2.0,1.0,1.0,2.0,1.0,1.0,2.0,2.0,1.0,2.0,1.0,1.0,1.0,2.0,2.0,1.0,2.0,2.0,2.0,1.0,1.0,2.0,1.0,4.0,2.0,1.0,1.0,1.0,1.0,1.0,1.0,1.0,1.0,1.0,1.0,1.0,1.0,3.0,1.0,2.0,1.0,1.0,1.0,2.0,1.0,1.0,1.0,3.0,1.0,2.0,1.0,2.0,2.0,2.0,2.0,1.0,2.0,1.0,1.0,2.0,1.0,1.0,2.0,2.0,1.0,2.0,1.0,1.0,1.0,2.0,2.0,1.0,1.0,1.0,1.0,1.0,1.0,1.0,1.0,2.0,3.0,2.0,1.0,2.0,1.0,1.0,1.0,2.0,1.0,1.0,2.0,1.0,1.0,2.0,1.0,2.0,1.0,1.0,2.0,1.0,1.0,1.0,1.0,2.0,1.0,2.0,2.0,2.0,1.0,2.0,2.0,1.0,2.0,2.0,2.0,1.0,1.0,1.0,1.0,1.0,1.0,2.0,1.0,1.0,1.0,1.0,2.0,2.0,1.0,1.0,1.0,1.0,1.0,2.0,3.0,1.0,1.0,1.0,2.0,2.0,1.0,3.0,2.0,1.0,1.0,2.0,3.0,2.0,1.0,2.0,1.0,1.0,1.0,1.0,1.0,1.0,2.0,1.0,2.0,1.0,1.0,1.0,2.0,2.0,1.0,2.0,2.0,2.0,2.0,1.0,1.0,4.0,1.0,1.0,1.0,1.0,1.0,2.0,1.0,2.0,1.0,2.0,2.0,2.0,1.0,2.0,1.0,1.0,1.0,2.0,2.0,2.0,1.0,3.0,1.0,1.0,1.0,2.0,2.0,2.0,1.0,1.0,1.0,1.0,2.0,2.0,1.0,1.0,1.0,2.0,1.0,2.0,2.0,2.0,1.0,1.0,2.0,1.0,1.0,2.0,1.0,1.0,2.0,2.0,2.0,2.0,2.0,4.0,2.0,2.0,2.0,2.0,1.0,1.0,1.0,1.0,2.0,2.0,1.0,1.0,1.0,1.0,1.0,2.0,1.0,2.0,1.0,1.0,1.0,2.0,1.0,1.0,1.0,1.0,2.0,1.0,2.0,2.0,1.0,1.0,2.0,1.0,1.0,1.0,3.0,1.0,2.0,1.0,3.0,1.0,2.0,2.0,3.0,1.0,2.0,2.0,1.0,1.0,1.0,1.0,1.0,2.0,1.0,1.0,1.0,1.0,1.0,2.0,1.0,2.0,2.0,2.0,1.0,1.0,2.0,2.0,1.0,2.0,1.0,1.0,1.0,1.0,1.0,1.0],\"xaxis\":\"x\",\"y\":[0,2,3,5,6,7,8,12,14,16,17,19,20,21,22,23,24,25,26,27,28,30,31,32,33,34,36,38,39,40,41,42,43,45,46,47,48,49,50,51,52,53,55,57,58,60,61,64,65,66,67,69,70,71,72,73,75,77,78,79,81,82,83,84,85,86,88,90,91,93,94,96,97,98,99,100,101,102,103,104,107,108,109,110,111,112,114,115,117,119,121,122,123,125,126,128,130,132,133,134,135,136,138,139,140,141,142,144,145,146,147,148,149,150,151,152,153,154,156,157,158,159,160,161,162,163,164,165,167,168,171,173,176,177,178,179,183,185,187,189,193,196,198,200,201,202,204,205,206,207,208,209,210,211,214,215,216,217,218,219,220,221,222,223,224,225,229,231,232,233,234,238,239,241,243,244,245,246,247,248,250,251,253,254,255,256,258,259,260,261,262,263,264,266,267,269,270,271,272,275,276,277,279,280,281,282,283,284,285,286,287,288,290,292,293,294,296,297,298,299,300,303,305,306,309,310,311,312,314,316,317,318,319,322,323,324,325,326,327,328,329,330,336,338,339,340,341,342,343,344,345,346,347,348,350,352,354,356,358,360,361,362,363,365,366,367,369,370,371,372,373,376,377,379,380,382,383,384,385,386,387,388,389,390,391,392,393,394,395,396,397,399,400,401,403,404,406,407,408,410,411,413,415,417,418,420,421,422,423,425,426,427,428,430,432,433,434,436,437,438,440,441,442,445,447,448,450,451,452,453,455,456,458,459,460,461,462,463,464,465,467,468,469,473,476,477,478,479,480,481,482,483,484,486,487,488,489,490,492,493,494,497,498,499,501,502,506,508,509,511,512,513,514,515,516,518,519,520,523,524,525,526,527,529,530,532,533,534,536,537,539,541,544,546,547,549,550,551,553,554,560,562,564,565,567,568,571,572,573,574,575,576,577,579,581,582,584,586,587,590,591,592,599,600,604,605,606,608,609,612,613,615,616,617,619,620,623,625,626,628,629,630,632,635,636,637,638,641,643,644,646,650,654,655,657,658,659,660,662,663,664,665,666,667,669,670,671,672,673,675,676,678,679,680,681,682,683,684,685,686,687,688,689,690,691,692,693,694,695,696,697,698,699,702,703,704,705,708,709,710,712,713,715,716,717,718,719,723,725,726,729,730,732,733,734,735,737,738,740,741,742,743,744,745,746,748,749,750,752,753,756,758,760,762,764,765,767,768,769,770,772,773,774,776,777,778,779,781,782,784,785,786,787,791,792,793,794,795,797,798,799,800,801,802,803,804,806,807,808,810,811,815,816,817,818,820,821,823,824,825,829,830,833,836,837,838,839,841,843,844,845,847,848,851,852,854,855,856,857,859,860,863,865,866,867,868,869,870,871,872,873,874,875,876,877,879,880,881,882,883,886,888,889,890,891,892,893,894,895,896,897,898,901,902,903,904,905,906,907,908,909,910,912,913,916,920,921,923,926,928,929,930,932,933,934,937,939,940,941,942,943,944,945,947,950,954,955,956,957,959,960,961,962,964,965,967,968,969,970,971,974,975,976,977,982,984,985,986,987,988,989,990,991,992,993,994,995,996,997,999],\"yaxis\":\"y\",\"type\":\"scatter\"},{\"hovertemplate\":\"risk=bad<br>existing_credits=%{x}<br>index=%{y}<extra></extra>\",\"legendgroup\":\"bad\",\"marker\":{\"color\":\"#EF553B\",\"symbol\":\"circle\"},\"mode\":\"markers\",\"name\":\"bad\",\"orientation\":\"h\",\"showlegend\":true,\"x\":[1.0,2.0,2.0,1.0,1.0,2.0,1.0,1.0,2.0,2.0,1.0,2.0,2.0,1.0,2.0,1.0,1.0,1.0,1.0,1.0,2.0,1.0,2.0,1.0,1.0,2.0,2.0,2.0,1.0,2.0,2.0,1.0,1.0,2.0,1.0,1.0,1.0,1.0,1.0,2.0,2.0,1.0,2.0,1.0,2.0,2.0,2.0,1.0,1.0,1.0,3.0,1.0,1.0,1.0,2.0,4.0,1.0,1.0,2.0,1.0,2.0,1.0,1.0,1.0,1.0,1.0,2.0,1.0,2.0,1.0,1.0,1.0,1.0,1.0,2.0,1.0,1.0,1.0,1.0,1.0,1.0,2.0,1.0,1.0,1.0,1.0,1.0,2.0,1.0,2.0,1.0,2.0,2.0,1.0,1.0,2.0,1.0,2.0,1.0,2.0,1.0,1.0,1.0,2.0,1.0,1.0,1.0,2.0,2.0,1.0,3.0,2.0,1.0,1.0,1.0,1.0,3.0,2.0,1.0,1.0,1.0,1.0,1.0,2.0,1.0,1.0,1.0,1.0,1.0,1.0,1.0,1.0,1.0,2.0,1.0,1.0,1.0,2.0,1.0,1.0,1.0,1.0,2.0,1.0,2.0,1.0,2.0,1.0,1.0,1.0,1.0,1.0,2.0,1.0,2.0,1.0,2.0,2.0,1.0,2.0,1.0,1.0,1.0,1.0,1.0,2.0,2.0,1.0,1.0,1.0,2.0,1.0,1.0,1.0,2.0,3.0,2.0,1.0,1.0,1.0,1.0,1.0,1.0,1.0,1.0,2.0,1.0,2.0,1.0,1.0,2.0,1.0,2.0,1.0,1.0,2.0,1.0,1.0,1.0,1.0,1.0,4.0,1.0,1.0,2.0,1.0,1.0,1.0,2.0,1.0,2.0,1.0,1.0,2.0,1.0,1.0,1.0,2.0,1.0,1.0,2.0,2.0,1.0,1.0,2.0,1.0,2.0,2.0,2.0,1.0,1.0,2.0,1.0,2.0,1.0,1.0,1.0,1.0,1.0,1.0,2.0,2.0,1.0,1.0,1.0,1.0,3.0,2.0,1.0,1.0,2.0,1.0,2.0,1.0,1.0,2.0,1.0,2.0,2.0,1.0,1.0,1.0,1.0,1.0,1.0,1.0,1.0,1.0,1.0,1.0,1.0,1.0,1.0,1.0,1.0,1.0,1.0,2.0,3.0,1.0,2.0,1.0,1.0,1.0,1.0,2.0,2.0,1.0,2.0,1.0,2.0,2.0,2.0,1.0,2.0,1.0,1.0,1.0,1.0,1.0],\"xaxis\":\"x\",\"y\":[1,4,9,10,11,13,15,18,29,35,37,44,54,56,59,62,63,68,74,76,80,87,89,92,95,105,106,113,116,118,120,124,127,129,131,137,143,155,166,169,170,172,174,175,180,181,182,184,186,188,190,191,192,194,195,197,199,203,212,213,226,227,228,230,235,236,237,240,242,249,252,257,265,268,273,274,278,289,291,295,301,302,304,307,308,313,315,320,321,331,332,333,334,335,337,349,351,353,355,357,359,364,368,374,375,378,381,398,402,405,409,412,414,416,419,424,429,431,435,439,443,444,446,449,454,457,466,470,471,472,474,475,485,491,495,496,500,503,504,505,507,510,517,521,522,528,531,535,538,540,542,543,545,548,552,555,556,557,558,559,561,563,566,569,570,578,580,583,585,588,589,593,594,595,596,597,598,601,602,603,607,610,611,614,618,621,622,624,627,631,633,634,639,640,642,645,647,648,649,651,652,653,656,661,668,674,677,700,701,706,707,711,714,720,721,722,724,727,728,731,736,739,747,751,754,755,757,759,761,763,766,771,775,780,783,788,789,790,796,805,809,812,813,814,819,822,826,827,828,831,832,834,835,840,842,846,849,850,853,858,861,862,864,878,884,885,887,899,900,911,914,915,917,918,919,922,924,925,927,931,935,936,938,946,948,949,951,952,953,958,963,966,972,973,978,979,980,981,983,998],\"yaxis\":\"y\",\"type\":\"scatter\"}],                        {\"template\":{\"data\":{\"bar\":[{\"error_x\":{\"color\":\"#2a3f5f\"},\"error_y\":{\"color\":\"#2a3f5f\"},\"marker\":{\"line\":{\"color\":\"#E5ECF6\",\"width\":0.5},\"pattern\":{\"fillmode\":\"overlay\",\"size\":10,\"solidity\":0.2}},\"type\":\"bar\"}],\"barpolar\":[{\"marker\":{\"line\":{\"color\":\"#E5ECF6\",\"width\":0.5},\"pattern\":{\"fillmode\":\"overlay\",\"size\":10,\"solidity\":0.2}},\"type\":\"barpolar\"}],\"carpet\":[{\"aaxis\":{\"endlinecolor\":\"#2a3f5f\",\"gridcolor\":\"white\",\"linecolor\":\"white\",\"minorgridcolor\":\"white\",\"startlinecolor\":\"#2a3f5f\"},\"baxis\":{\"endlinecolor\":\"#2a3f5f\",\"gridcolor\":\"white\",\"linecolor\":\"white\",\"minorgridcolor\":\"white\",\"startlinecolor\":\"#2a3f5f\"},\"type\":\"carpet\"}],\"choropleth\":[{\"colorbar\":{\"outlinewidth\":0,\"ticks\":\"\"},\"type\":\"choropleth\"}],\"contour\":[{\"colorbar\":{\"outlinewidth\":0,\"ticks\":\"\"},\"colorscale\":[[0.0,\"#0d0887\"],[0.1111111111111111,\"#46039f\"],[0.2222222222222222,\"#7201a8\"],[0.3333333333333333,\"#9c179e\"],[0.4444444444444444,\"#bd3786\"],[0.5555555555555556,\"#d8576b\"],[0.6666666666666666,\"#ed7953\"],[0.7777777777777778,\"#fb9f3a\"],[0.8888888888888888,\"#fdca26\"],[1.0,\"#f0f921\"]],\"type\":\"contour\"}],\"contourcarpet\":[{\"colorbar\":{\"outlinewidth\":0,\"ticks\":\"\"},\"type\":\"contourcarpet\"}],\"heatmap\":[{\"colorbar\":{\"outlinewidth\":0,\"ticks\":\"\"},\"colorscale\":[[0.0,\"#0d0887\"],[0.1111111111111111,\"#46039f\"],[0.2222222222222222,\"#7201a8\"],[0.3333333333333333,\"#9c179e\"],[0.4444444444444444,\"#bd3786\"],[0.5555555555555556,\"#d8576b\"],[0.6666666666666666,\"#ed7953\"],[0.7777777777777778,\"#fb9f3a\"],[0.8888888888888888,\"#fdca26\"],[1.0,\"#f0f921\"]],\"type\":\"heatmap\"}],\"heatmapgl\":[{\"colorbar\":{\"outlinewidth\":0,\"ticks\":\"\"},\"colorscale\":[[0.0,\"#0d0887\"],[0.1111111111111111,\"#46039f\"],[0.2222222222222222,\"#7201a8\"],[0.3333333333333333,\"#9c179e\"],[0.4444444444444444,\"#bd3786\"],[0.5555555555555556,\"#d8576b\"],[0.6666666666666666,\"#ed7953\"],[0.7777777777777778,\"#fb9f3a\"],[0.8888888888888888,\"#fdca26\"],[1.0,\"#f0f921\"]],\"type\":\"heatmapgl\"}],\"histogram\":[{\"marker\":{\"pattern\":{\"fillmode\":\"overlay\",\"size\":10,\"solidity\":0.2}},\"type\":\"histogram\"}],\"histogram2d\":[{\"colorbar\":{\"outlinewidth\":0,\"ticks\":\"\"},\"colorscale\":[[0.0,\"#0d0887\"],[0.1111111111111111,\"#46039f\"],[0.2222222222222222,\"#7201a8\"],[0.3333333333333333,\"#9c179e\"],[0.4444444444444444,\"#bd3786\"],[0.5555555555555556,\"#d8576b\"],[0.6666666666666666,\"#ed7953\"],[0.7777777777777778,\"#fb9f3a\"],[0.8888888888888888,\"#fdca26\"],[1.0,\"#f0f921\"]],\"type\":\"histogram2d\"}],\"histogram2dcontour\":[{\"colorbar\":{\"outlinewidth\":0,\"ticks\":\"\"},\"colorscale\":[[0.0,\"#0d0887\"],[0.1111111111111111,\"#46039f\"],[0.2222222222222222,\"#7201a8\"],[0.3333333333333333,\"#9c179e\"],[0.4444444444444444,\"#bd3786\"],[0.5555555555555556,\"#d8576b\"],[0.6666666666666666,\"#ed7953\"],[0.7777777777777778,\"#fb9f3a\"],[0.8888888888888888,\"#fdca26\"],[1.0,\"#f0f921\"]],\"type\":\"histogram2dcontour\"}],\"mesh3d\":[{\"colorbar\":{\"outlinewidth\":0,\"ticks\":\"\"},\"type\":\"mesh3d\"}],\"parcoords\":[{\"line\":{\"colorbar\":{\"outlinewidth\":0,\"ticks\":\"\"}},\"type\":\"parcoords\"}],\"pie\":[{\"automargin\":true,\"type\":\"pie\"}],\"scatter\":[{\"marker\":{\"colorbar\":{\"outlinewidth\":0,\"ticks\":\"\"}},\"type\":\"scatter\"}],\"scatter3d\":[{\"line\":{\"colorbar\":{\"outlinewidth\":0,\"ticks\":\"\"}},\"marker\":{\"colorbar\":{\"outlinewidth\":0,\"ticks\":\"\"}},\"type\":\"scatter3d\"}],\"scattercarpet\":[{\"marker\":{\"colorbar\":{\"outlinewidth\":0,\"ticks\":\"\"}},\"type\":\"scattercarpet\"}],\"scattergeo\":[{\"marker\":{\"colorbar\":{\"outlinewidth\":0,\"ticks\":\"\"}},\"type\":\"scattergeo\"}],\"scattergl\":[{\"marker\":{\"colorbar\":{\"outlinewidth\":0,\"ticks\":\"\"}},\"type\":\"scattergl\"}],\"scattermapbox\":[{\"marker\":{\"colorbar\":{\"outlinewidth\":0,\"ticks\":\"\"}},\"type\":\"scattermapbox\"}],\"scatterpolar\":[{\"marker\":{\"colorbar\":{\"outlinewidth\":0,\"ticks\":\"\"}},\"type\":\"scatterpolar\"}],\"scatterpolargl\":[{\"marker\":{\"colorbar\":{\"outlinewidth\":0,\"ticks\":\"\"}},\"type\":\"scatterpolargl\"}],\"scatterternary\":[{\"marker\":{\"colorbar\":{\"outlinewidth\":0,\"ticks\":\"\"}},\"type\":\"scatterternary\"}],\"surface\":[{\"colorbar\":{\"outlinewidth\":0,\"ticks\":\"\"},\"colorscale\":[[0.0,\"#0d0887\"],[0.1111111111111111,\"#46039f\"],[0.2222222222222222,\"#7201a8\"],[0.3333333333333333,\"#9c179e\"],[0.4444444444444444,\"#bd3786\"],[0.5555555555555556,\"#d8576b\"],[0.6666666666666666,\"#ed7953\"],[0.7777777777777778,\"#fb9f3a\"],[0.8888888888888888,\"#fdca26\"],[1.0,\"#f0f921\"]],\"type\":\"surface\"}],\"table\":[{\"cells\":{\"fill\":{\"color\":\"#EBF0F8\"},\"line\":{\"color\":\"white\"}},\"header\":{\"fill\":{\"color\":\"#C8D4E3\"},\"line\":{\"color\":\"white\"}},\"type\":\"table\"}]},\"layout\":{\"annotationdefaults\":{\"arrowcolor\":\"#2a3f5f\",\"arrowhead\":0,\"arrowwidth\":1},\"autotypenumbers\":\"strict\",\"coloraxis\":{\"colorbar\":{\"outlinewidth\":0,\"ticks\":\"\"}},\"colorscale\":{\"diverging\":[[0,\"#8e0152\"],[0.1,\"#c51b7d\"],[0.2,\"#de77ae\"],[0.3,\"#f1b6da\"],[0.4,\"#fde0ef\"],[0.5,\"#f7f7f7\"],[0.6,\"#e6f5d0\"],[0.7,\"#b8e186\"],[0.8,\"#7fbc41\"],[0.9,\"#4d9221\"],[1,\"#276419\"]],\"sequential\":[[0.0,\"#0d0887\"],[0.1111111111111111,\"#46039f\"],[0.2222222222222222,\"#7201a8\"],[0.3333333333333333,\"#9c179e\"],[0.4444444444444444,\"#bd3786\"],[0.5555555555555556,\"#d8576b\"],[0.6666666666666666,\"#ed7953\"],[0.7777777777777778,\"#fb9f3a\"],[0.8888888888888888,\"#fdca26\"],[1.0,\"#f0f921\"]],\"sequentialminus\":[[0.0,\"#0d0887\"],[0.1111111111111111,\"#46039f\"],[0.2222222222222222,\"#7201a8\"],[0.3333333333333333,\"#9c179e\"],[0.4444444444444444,\"#bd3786\"],[0.5555555555555556,\"#d8576b\"],[0.6666666666666666,\"#ed7953\"],[0.7777777777777778,\"#fb9f3a\"],[0.8888888888888888,\"#fdca26\"],[1.0,\"#f0f921\"]]},\"colorway\":[\"#636efa\",\"#EF553B\",\"#00cc96\",\"#ab63fa\",\"#FFA15A\",\"#19d3f3\",\"#FF6692\",\"#B6E880\",\"#FF97FF\",\"#FECB52\"],\"font\":{\"color\":\"#2a3f5f\"},\"geo\":{\"bgcolor\":\"white\",\"lakecolor\":\"white\",\"landcolor\":\"#E5ECF6\",\"showlakes\":true,\"showland\":true,\"subunitcolor\":\"white\"},\"hoverlabel\":{\"align\":\"left\"},\"hovermode\":\"closest\",\"mapbox\":{\"style\":\"light\"},\"paper_bgcolor\":\"white\",\"plot_bgcolor\":\"#E5ECF6\",\"polar\":{\"angularaxis\":{\"gridcolor\":\"white\",\"linecolor\":\"white\",\"ticks\":\"\"},\"bgcolor\":\"#E5ECF6\",\"radialaxis\":{\"gridcolor\":\"white\",\"linecolor\":\"white\",\"ticks\":\"\"}},\"scene\":{\"xaxis\":{\"backgroundcolor\":\"#E5ECF6\",\"gridcolor\":\"white\",\"gridwidth\":2,\"linecolor\":\"white\",\"showbackground\":true,\"ticks\":\"\",\"zerolinecolor\":\"white\"},\"yaxis\":{\"backgroundcolor\":\"#E5ECF6\",\"gridcolor\":\"white\",\"gridwidth\":2,\"linecolor\":\"white\",\"showbackground\":true,\"ticks\":\"\",\"zerolinecolor\":\"white\"},\"zaxis\":{\"backgroundcolor\":\"#E5ECF6\",\"gridcolor\":\"white\",\"gridwidth\":2,\"linecolor\":\"white\",\"showbackground\":true,\"ticks\":\"\",\"zerolinecolor\":\"white\"}},\"shapedefaults\":{\"line\":{\"color\":\"#2a3f5f\"}},\"ternary\":{\"aaxis\":{\"gridcolor\":\"white\",\"linecolor\":\"white\",\"ticks\":\"\"},\"baxis\":{\"gridcolor\":\"white\",\"linecolor\":\"white\",\"ticks\":\"\"},\"bgcolor\":\"#E5ECF6\",\"caxis\":{\"gridcolor\":\"white\",\"linecolor\":\"white\",\"ticks\":\"\"}},\"title\":{\"x\":0.05},\"xaxis\":{\"automargin\":true,\"gridcolor\":\"white\",\"linecolor\":\"white\",\"ticks\":\"\",\"title\":{\"standoff\":15},\"zerolinecolor\":\"white\",\"zerolinewidth\":2},\"yaxis\":{\"automargin\":true,\"gridcolor\":\"white\",\"linecolor\":\"white\",\"ticks\":\"\",\"title\":{\"standoff\":15},\"zerolinecolor\":\"white\",\"zerolinewidth\":2}}},\"xaxis\":{\"anchor\":\"y\",\"domain\":[0.0,1.0],\"title\":{\"text\":\"existing_credits\"}},\"yaxis\":{\"anchor\":\"x\",\"domain\":[0.0,1.0],\"title\":{\"text\":\"index\"}},\"legend\":{\"title\":{\"text\":\"risk\"},\"tracegroupgap\":0},\"margin\":{\"t\":60}},                        {\"responsive\": true}                    ).then(function(){\n",
              "                            \n",
              "var gd = document.getElementById('b40e81de-d736-42bb-9313-0dfdb985f9e6');\n",
              "var x = new MutationObserver(function (mutations, observer) {{\n",
              "        var display = window.getComputedStyle(gd).display;\n",
              "        if (!display || display === 'none') {{\n",
              "            console.log([gd, 'removed!']);\n",
              "            Plotly.purge(gd);\n",
              "            observer.disconnect();\n",
              "        }}\n",
              "}});\n",
              "\n",
              "// Listen for the removal of the full notebook cells\n",
              "var notebookContainer = gd.closest('#notebook-container');\n",
              "if (notebookContainer) {{\n",
              "    x.observe(notebookContainer, {childList: true});\n",
              "}}\n",
              "\n",
              "// Listen for the clearing of the current output cell\n",
              "var outputEl = gd.closest('.output');\n",
              "if (outputEl) {{\n",
              "    x.observe(outputEl, {childList: true});\n",
              "}}\n",
              "\n",
              "                        })                };                            </script>        </div>\n",
              "</body>\n",
              "</html>"
            ]
          },
          "metadata": {}
        },
        {
          "output_type": "display_data",
          "data": {
            "text/html": [
              "<html>\n",
              "<head><meta charset=\"utf-8\" /></head>\n",
              "<body>\n",
              "    <div>            <script src=\"https://cdnjs.cloudflare.com/ajax/libs/mathjax/2.7.5/MathJax.js?config=TeX-AMS-MML_SVG\"></script><script type=\"text/javascript\">if (window.MathJax) {MathJax.Hub.Config({SVG: {font: \"STIX-Web\"}});}</script>                <script type=\"text/javascript\">window.PlotlyConfig = {MathJaxConfig: 'local'};</script>\n",
              "        <script src=\"https://cdn.plot.ly/plotly-2.8.3.min.js\"></script>                <div id=\"b62c1485-1d96-49a6-95dc-8ca50b337430\" class=\"plotly-graph-div\" style=\"height:525px; width:100%;\"></div>            <script type=\"text/javascript\">                                    window.PLOTLYENV=window.PLOTLYENV || {};                                    if (document.getElementById(\"b62c1485-1d96-49a6-95dc-8ca50b337430\")) {                    Plotly.newPlot(                        \"b62c1485-1d96-49a6-95dc-8ca50b337430\",                        [{\"hovertemplate\":\"risk=good<br>num_dependents=%{x}<br>index=%{y}<extra></extra>\",\"legendgroup\":\"good\",\"marker\":{\"color\":\"#636efa\",\"symbol\":\"circle\"},\"mode\":\"markers\",\"name\":\"good\",\"orientation\":\"h\",\"showlegend\":true,\"x\":[1.0,2.0,2.0,2.0,1.0,1.0,1.0,1.0,1.0,1.0,1.0,2.0,1.0,2.0,2.0,1.0,1.0,1.0,1.0,1.0,1.0,1.0,1.0,1.0,1.0,1.0,1.0,1.0,1.0,1.0,1.0,2.0,1.0,1.0,1.0,1.0,1.0,1.0,1.0,1.0,1.0,1.0,2.0,1.0,1.0,1.0,1.0,1.0,2.0,1.0,1.0,1.0,1.0,1.0,2.0,1.0,1.0,1.0,2.0,1.0,1.0,1.0,1.0,1.0,1.0,1.0,2.0,1.0,1.0,1.0,1.0,1.0,1.0,1.0,2.0,1.0,1.0,1.0,1.0,1.0,1.0,1.0,1.0,2.0,1.0,1.0,1.0,1.0,1.0,1.0,1.0,1.0,1.0,1.0,1.0,1.0,1.0,1.0,1.0,1.0,1.0,1.0,1.0,1.0,1.0,1.0,1.0,1.0,1.0,1.0,1.0,1.0,1.0,2.0,1.0,1.0,1.0,1.0,2.0,1.0,1.0,2.0,2.0,1.0,1.0,1.0,1.0,1.0,1.0,1.0,1.0,1.0,1.0,1.0,2.0,1.0,1.0,1.0,1.0,1.0,1.0,1.0,1.0,1.0,1.0,1.0,2.0,2.0,1.0,1.0,1.0,1.0,2.0,1.0,1.0,1.0,1.0,1.0,1.0,1.0,1.0,1.0,1.0,2.0,1.0,1.0,1.0,1.0,1.0,1.0,2.0,1.0,2.0,2.0,1.0,2.0,1.0,1.0,1.0,1.0,1.0,1.0,1.0,1.0,1.0,1.0,1.0,1.0,1.0,1.0,1.0,1.0,2.0,1.0,1.0,1.0,1.0,1.0,1.0,2.0,1.0,1.0,1.0,1.0,1.0,1.0,1.0,1.0,1.0,2.0,1.0,1.0,1.0,2.0,1.0,2.0,1.0,1.0,1.0,1.0,1.0,1.0,1.0,1.0,1.0,1.0,1.0,1.0,2.0,2.0,1.0,1.0,1.0,1.0,1.0,1.0,1.0,1.0,2.0,1.0,2.0,1.0,1.0,1.0,1.0,1.0,1.0,1.0,1.0,2.0,1.0,1.0,1.0,1.0,1.0,1.0,1.0,1.0,1.0,1.0,1.0,1.0,1.0,1.0,1.0,1.0,1.0,1.0,1.0,1.0,1.0,1.0,1.0,1.0,1.0,1.0,1.0,1.0,1.0,1.0,1.0,1.0,1.0,1.0,1.0,2.0,1.0,1.0,1.0,1.0,1.0,1.0,1.0,1.0,1.0,2.0,2.0,1.0,1.0,1.0,1.0,2.0,2.0,1.0,1.0,1.0,1.0,2.0,1.0,1.0,1.0,1.0,1.0,1.0,1.0,1.0,1.0,1.0,1.0,1.0,1.0,1.0,1.0,1.0,1.0,1.0,1.0,1.0,1.0,1.0,1.0,2.0,1.0,1.0,2.0,1.0,1.0,1.0,1.0,2.0,2.0,1.0,1.0,2.0,1.0,1.0,1.0,2.0,1.0,1.0,1.0,1.0,1.0,1.0,1.0,1.0,1.0,1.0,1.0,1.0,2.0,1.0,1.0,2.0,2.0,1.0,1.0,1.0,1.0,1.0,1.0,1.0,1.0,1.0,2.0,1.0,1.0,1.0,1.0,2.0,1.0,1.0,2.0,2.0,2.0,1.0,1.0,1.0,1.0,1.0,1.0,1.0,1.0,1.0,2.0,1.0,1.0,2.0,1.0,1.0,2.0,1.0,1.0,1.0,1.0,2.0,1.0,1.0,1.0,1.0,1.0,1.0,1.0,1.0,2.0,1.0,1.0,2.0,1.0,1.0,1.0,1.0,1.0,1.0,1.0,1.0,1.0,1.0,2.0,1.0,1.0,1.0,1.0,2.0,1.0,1.0,1.0,1.0,1.0,1.0,1.0,1.0,1.0,2.0,1.0,1.0,2.0,1.0,1.0,1.0,1.0,1.0,1.0,1.0,1.0,1.0,1.0,1.0,1.0,1.0,1.0,1.0,2.0,1.0,1.0,1.0,1.0,1.0,1.0,1.0,1.0,1.0,1.0,1.0,1.0,1.0,1.0,2.0,2.0,1.0,1.0,1.0,2.0,1.0,1.0,1.0,2.0,1.0,1.0,1.0,1.0,1.0,1.0,1.0,1.0,2.0,1.0,1.0,2.0,1.0,1.0,1.0,1.0,2.0,1.0,1.0,1.0,1.0,1.0,1.0,1.0,1.0,1.0,1.0,2.0,1.0,2.0,2.0,1.0,1.0,1.0,1.0,1.0,1.0,1.0,1.0,1.0,1.0,1.0,1.0,2.0,1.0,1.0,1.0,1.0,1.0,1.0,1.0,1.0,1.0,1.0,1.0,1.0,1.0,1.0,1.0,1.0,1.0,1.0,1.0,1.0,1.0,2.0,2.0,1.0,1.0,1.0,1.0,1.0,1.0,1.0,2.0,1.0,1.0,1.0,1.0,1.0,1.0,1.0,1.0,1.0,1.0,1.0,1.0,1.0,1.0,1.0,1.0,1.0,1.0,2.0,2.0,1.0,1.0,2.0,1.0,1.0,1.0,1.0,2.0,1.0,1.0,1.0,1.0,1.0,2.0,1.0,1.0,1.0,2.0,1.0,2.0,1.0,1.0,1.0,1.0,1.0,1.0,2.0,1.0,1.0,2.0,1.0,1.0,1.0,1.0,1.0,1.0,1.0,1.0,2.0,1.0,2.0,2.0,1.0,1.0,1.0,1.0,2.0,1.0,1.0,1.0,1.0,1.0,1.0,1.0,2.0,1.0,1.0,1.0,1.0,1.0,1.0,1.0,2.0,1.0,1.0,2.0,1.0,1.0,2.0,1.0,1.0,2.0,1.0,1.0,2.0,2.0,2.0,1.0,2.0,1.0,1.0,1.0,2.0,1.0,1.0,1.0,1.0,1.0,1.0,1.0,1.0,1.0,1.0,1.0,1.0,2.0,1.0,2.0,1.0,1.0,1.0,1.0,1.0,1.0,1.0,1.0,1.0,1.0,1.0,2.0,2.0,1.0,1.0,1.0,1.0,1.0,1.0,1.0],\"xaxis\":\"x\",\"y\":[0,2,3,5,6,7,8,12,14,16,17,19,20,21,22,23,24,25,26,27,28,30,31,32,33,34,36,38,39,40,41,42,43,45,46,47,48,49,50,51,52,53,55,57,58,60,61,64,65,66,67,69,70,71,72,73,75,77,78,79,81,82,83,84,85,86,88,90,91,93,94,96,97,98,99,100,101,102,103,104,107,108,109,110,111,112,114,115,117,119,121,122,123,125,126,128,130,132,133,134,135,136,138,139,140,141,142,144,145,146,147,148,149,150,151,152,153,154,156,157,158,159,160,161,162,163,164,165,167,168,171,173,176,177,178,179,183,185,187,189,193,196,198,200,201,202,204,205,206,207,208,209,210,211,214,215,216,217,218,219,220,221,222,223,224,225,229,231,232,233,234,238,239,241,243,244,245,246,247,248,250,251,253,254,255,256,258,259,260,261,262,263,264,266,267,269,270,271,272,275,276,277,279,280,281,282,283,284,285,286,287,288,290,292,293,294,296,297,298,299,300,303,305,306,309,310,311,312,314,316,317,318,319,322,323,324,325,326,327,328,329,330,336,338,339,340,341,342,343,344,345,346,347,348,350,352,354,356,358,360,361,362,363,365,366,367,369,370,371,372,373,376,377,379,380,382,383,384,385,386,387,388,389,390,391,392,393,394,395,396,397,399,400,401,403,404,406,407,408,410,411,413,415,417,418,420,421,422,423,425,426,427,428,430,432,433,434,436,437,438,440,441,442,445,447,448,450,451,452,453,455,456,458,459,460,461,462,463,464,465,467,468,469,473,476,477,478,479,480,481,482,483,484,486,487,488,489,490,492,493,494,497,498,499,501,502,506,508,509,511,512,513,514,515,516,518,519,520,523,524,525,526,527,529,530,532,533,534,536,537,539,541,544,546,547,549,550,551,553,554,560,562,564,565,567,568,571,572,573,574,575,576,577,579,581,582,584,586,587,590,591,592,599,600,604,605,606,608,609,612,613,615,616,617,619,620,623,625,626,628,629,630,632,635,636,637,638,641,643,644,646,650,654,655,657,658,659,660,662,663,664,665,666,667,669,670,671,672,673,675,676,678,679,680,681,682,683,684,685,686,687,688,689,690,691,692,693,694,695,696,697,698,699,702,703,704,705,708,709,710,712,713,715,716,717,718,719,723,725,726,729,730,732,733,734,735,737,738,740,741,742,743,744,745,746,748,749,750,752,753,756,758,760,762,764,765,767,768,769,770,772,773,774,776,777,778,779,781,782,784,785,786,787,791,792,793,794,795,797,798,799,800,801,802,803,804,806,807,808,810,811,815,816,817,818,820,821,823,824,825,829,830,833,836,837,838,839,841,843,844,845,847,848,851,852,854,855,856,857,859,860,863,865,866,867,868,869,870,871,872,873,874,875,876,877,879,880,881,882,883,886,888,889,890,891,892,893,894,895,896,897,898,901,902,903,904,905,906,907,908,909,910,912,913,916,920,921,923,926,928,929,930,932,933,934,937,939,940,941,942,943,944,945,947,950,954,955,956,957,959,960,961,962,964,965,967,968,969,970,971,974,975,976,977,982,984,985,986,987,988,989,990,991,992,993,994,995,996,997,999],\"yaxis\":\"y\",\"type\":\"scatter\"},{\"hovertemplate\":\"risk=bad<br>num_dependents=%{x}<br>index=%{y}<extra></extra>\",\"legendgroup\":\"bad\",\"marker\":{\"color\":\"#EF553B\",\"symbol\":\"circle\"},\"mode\":\"markers\",\"name\":\"bad\",\"orientation\":\"h\",\"showlegend\":true,\"x\":[1.0,2.0,1.0,1.0,1.0,1.0,1.0,1.0,1.0,1.0,1.0,1.0,1.0,1.0,1.0,1.0,1.0,1.0,1.0,1.0,1.0,2.0,1.0,2.0,1.0,2.0,2.0,1.0,1.0,1.0,1.0,1.0,1.0,1.0,1.0,1.0,1.0,1.0,1.0,1.0,2.0,1.0,1.0,1.0,1.0,1.0,2.0,2.0,2.0,1.0,1.0,2.0,2.0,1.0,1.0,1.0,1.0,1.0,1.0,1.0,1.0,1.0,1.0,1.0,2.0,1.0,1.0,1.0,2.0,1.0,1.0,1.0,2.0,1.0,1.0,1.0,1.0,1.0,1.0,1.0,1.0,2.0,1.0,1.0,1.0,1.0,1.0,1.0,1.0,1.0,1.0,1.0,2.0,1.0,1.0,2.0,1.0,1.0,1.0,1.0,1.0,1.0,2.0,1.0,1.0,1.0,1.0,1.0,1.0,1.0,1.0,1.0,1.0,2.0,1.0,1.0,2.0,1.0,1.0,1.0,2.0,1.0,1.0,1.0,1.0,1.0,1.0,1.0,1.0,1.0,1.0,1.0,1.0,1.0,1.0,1.0,1.0,2.0,1.0,1.0,2.0,1.0,1.0,1.0,2.0,1.0,1.0,1.0,1.0,1.0,1.0,2.0,2.0,1.0,1.0,1.0,1.0,1.0,1.0,1.0,1.0,1.0,1.0,1.0,1.0,1.0,1.0,1.0,1.0,1.0,1.0,1.0,1.0,1.0,1.0,1.0,1.0,1.0,1.0,1.0,1.0,1.0,2.0,1.0,1.0,1.0,1.0,1.0,1.0,1.0,1.0,1.0,2.0,1.0,1.0,1.0,1.0,2.0,2.0,1.0,1.0,1.0,2.0,1.0,1.0,2.0,1.0,1.0,1.0,1.0,1.0,1.0,1.0,1.0,2.0,1.0,1.0,1.0,1.0,2.0,1.0,1.0,1.0,1.0,2.0,1.0,1.0,1.0,1.0,1.0,1.0,1.0,1.0,1.0,1.0,1.0,1.0,2.0,2.0,1.0,1.0,1.0,1.0,2.0,1.0,2.0,1.0,2.0,1.0,1.0,1.0,1.0,1.0,1.0,1.0,1.0,1.0,1.0,2.0,1.0,1.0,1.0,1.0,1.0,1.0,1.0,1.0,1.0,1.0,1.0,1.0,1.0,1.0,1.0,1.0,1.0,1.0,1.0,2.0,1.0,1.0,1.0,1.0,2.0,2.0,1.0,1.0,1.0,1.0,1.0,1.0,1.0,1.0,1.0,2.0,1.0,1.0,1.0,2.0,1.0],\"xaxis\":\"x\",\"y\":[1,4,9,10,11,13,15,18,29,35,37,44,54,56,59,62,63,68,74,76,80,87,89,92,95,105,106,113,116,118,120,124,127,129,131,137,143,155,166,169,170,172,174,175,180,181,182,184,186,188,190,191,192,194,195,197,199,203,212,213,226,227,228,230,235,236,237,240,242,249,252,257,265,268,273,274,278,289,291,295,301,302,304,307,308,313,315,320,321,331,332,333,334,335,337,349,351,353,355,357,359,364,368,374,375,378,381,398,402,405,409,412,414,416,419,424,429,431,435,439,443,444,446,449,454,457,466,470,471,472,474,475,485,491,495,496,500,503,504,505,507,510,517,521,522,528,531,535,538,540,542,543,545,548,552,555,556,557,558,559,561,563,566,569,570,578,580,583,585,588,589,593,594,595,596,597,598,601,602,603,607,610,611,614,618,621,622,624,627,631,633,634,639,640,642,645,647,648,649,651,652,653,656,661,668,674,677,700,701,706,707,711,714,720,721,722,724,727,728,731,736,739,747,751,754,755,757,759,761,763,766,771,775,780,783,788,789,790,796,805,809,812,813,814,819,822,826,827,828,831,832,834,835,840,842,846,849,850,853,858,861,862,864,878,884,885,887,899,900,911,914,915,917,918,919,922,924,925,927,931,935,936,938,946,948,949,951,952,953,958,963,966,972,973,978,979,980,981,983,998],\"yaxis\":\"y\",\"type\":\"scatter\"}],                        {\"template\":{\"data\":{\"bar\":[{\"error_x\":{\"color\":\"#2a3f5f\"},\"error_y\":{\"color\":\"#2a3f5f\"},\"marker\":{\"line\":{\"color\":\"#E5ECF6\",\"width\":0.5},\"pattern\":{\"fillmode\":\"overlay\",\"size\":10,\"solidity\":0.2}},\"type\":\"bar\"}],\"barpolar\":[{\"marker\":{\"line\":{\"color\":\"#E5ECF6\",\"width\":0.5},\"pattern\":{\"fillmode\":\"overlay\",\"size\":10,\"solidity\":0.2}},\"type\":\"barpolar\"}],\"carpet\":[{\"aaxis\":{\"endlinecolor\":\"#2a3f5f\",\"gridcolor\":\"white\",\"linecolor\":\"white\",\"minorgridcolor\":\"white\",\"startlinecolor\":\"#2a3f5f\"},\"baxis\":{\"endlinecolor\":\"#2a3f5f\",\"gridcolor\":\"white\",\"linecolor\":\"white\",\"minorgridcolor\":\"white\",\"startlinecolor\":\"#2a3f5f\"},\"type\":\"carpet\"}],\"choropleth\":[{\"colorbar\":{\"outlinewidth\":0,\"ticks\":\"\"},\"type\":\"choropleth\"}],\"contour\":[{\"colorbar\":{\"outlinewidth\":0,\"ticks\":\"\"},\"colorscale\":[[0.0,\"#0d0887\"],[0.1111111111111111,\"#46039f\"],[0.2222222222222222,\"#7201a8\"],[0.3333333333333333,\"#9c179e\"],[0.4444444444444444,\"#bd3786\"],[0.5555555555555556,\"#d8576b\"],[0.6666666666666666,\"#ed7953\"],[0.7777777777777778,\"#fb9f3a\"],[0.8888888888888888,\"#fdca26\"],[1.0,\"#f0f921\"]],\"type\":\"contour\"}],\"contourcarpet\":[{\"colorbar\":{\"outlinewidth\":0,\"ticks\":\"\"},\"type\":\"contourcarpet\"}],\"heatmap\":[{\"colorbar\":{\"outlinewidth\":0,\"ticks\":\"\"},\"colorscale\":[[0.0,\"#0d0887\"],[0.1111111111111111,\"#46039f\"],[0.2222222222222222,\"#7201a8\"],[0.3333333333333333,\"#9c179e\"],[0.4444444444444444,\"#bd3786\"],[0.5555555555555556,\"#d8576b\"],[0.6666666666666666,\"#ed7953\"],[0.7777777777777778,\"#fb9f3a\"],[0.8888888888888888,\"#fdca26\"],[1.0,\"#f0f921\"]],\"type\":\"heatmap\"}],\"heatmapgl\":[{\"colorbar\":{\"outlinewidth\":0,\"ticks\":\"\"},\"colorscale\":[[0.0,\"#0d0887\"],[0.1111111111111111,\"#46039f\"],[0.2222222222222222,\"#7201a8\"],[0.3333333333333333,\"#9c179e\"],[0.4444444444444444,\"#bd3786\"],[0.5555555555555556,\"#d8576b\"],[0.6666666666666666,\"#ed7953\"],[0.7777777777777778,\"#fb9f3a\"],[0.8888888888888888,\"#fdca26\"],[1.0,\"#f0f921\"]],\"type\":\"heatmapgl\"}],\"histogram\":[{\"marker\":{\"pattern\":{\"fillmode\":\"overlay\",\"size\":10,\"solidity\":0.2}},\"type\":\"histogram\"}],\"histogram2d\":[{\"colorbar\":{\"outlinewidth\":0,\"ticks\":\"\"},\"colorscale\":[[0.0,\"#0d0887\"],[0.1111111111111111,\"#46039f\"],[0.2222222222222222,\"#7201a8\"],[0.3333333333333333,\"#9c179e\"],[0.4444444444444444,\"#bd3786\"],[0.5555555555555556,\"#d8576b\"],[0.6666666666666666,\"#ed7953\"],[0.7777777777777778,\"#fb9f3a\"],[0.8888888888888888,\"#fdca26\"],[1.0,\"#f0f921\"]],\"type\":\"histogram2d\"}],\"histogram2dcontour\":[{\"colorbar\":{\"outlinewidth\":0,\"ticks\":\"\"},\"colorscale\":[[0.0,\"#0d0887\"],[0.1111111111111111,\"#46039f\"],[0.2222222222222222,\"#7201a8\"],[0.3333333333333333,\"#9c179e\"],[0.4444444444444444,\"#bd3786\"],[0.5555555555555556,\"#d8576b\"],[0.6666666666666666,\"#ed7953\"],[0.7777777777777778,\"#fb9f3a\"],[0.8888888888888888,\"#fdca26\"],[1.0,\"#f0f921\"]],\"type\":\"histogram2dcontour\"}],\"mesh3d\":[{\"colorbar\":{\"outlinewidth\":0,\"ticks\":\"\"},\"type\":\"mesh3d\"}],\"parcoords\":[{\"line\":{\"colorbar\":{\"outlinewidth\":0,\"ticks\":\"\"}},\"type\":\"parcoords\"}],\"pie\":[{\"automargin\":true,\"type\":\"pie\"}],\"scatter\":[{\"marker\":{\"colorbar\":{\"outlinewidth\":0,\"ticks\":\"\"}},\"type\":\"scatter\"}],\"scatter3d\":[{\"line\":{\"colorbar\":{\"outlinewidth\":0,\"ticks\":\"\"}},\"marker\":{\"colorbar\":{\"outlinewidth\":0,\"ticks\":\"\"}},\"type\":\"scatter3d\"}],\"scattercarpet\":[{\"marker\":{\"colorbar\":{\"outlinewidth\":0,\"ticks\":\"\"}},\"type\":\"scattercarpet\"}],\"scattergeo\":[{\"marker\":{\"colorbar\":{\"outlinewidth\":0,\"ticks\":\"\"}},\"type\":\"scattergeo\"}],\"scattergl\":[{\"marker\":{\"colorbar\":{\"outlinewidth\":0,\"ticks\":\"\"}},\"type\":\"scattergl\"}],\"scattermapbox\":[{\"marker\":{\"colorbar\":{\"outlinewidth\":0,\"ticks\":\"\"}},\"type\":\"scattermapbox\"}],\"scatterpolar\":[{\"marker\":{\"colorbar\":{\"outlinewidth\":0,\"ticks\":\"\"}},\"type\":\"scatterpolar\"}],\"scatterpolargl\":[{\"marker\":{\"colorbar\":{\"outlinewidth\":0,\"ticks\":\"\"}},\"type\":\"scatterpolargl\"}],\"scatterternary\":[{\"marker\":{\"colorbar\":{\"outlinewidth\":0,\"ticks\":\"\"}},\"type\":\"scatterternary\"}],\"surface\":[{\"colorbar\":{\"outlinewidth\":0,\"ticks\":\"\"},\"colorscale\":[[0.0,\"#0d0887\"],[0.1111111111111111,\"#46039f\"],[0.2222222222222222,\"#7201a8\"],[0.3333333333333333,\"#9c179e\"],[0.4444444444444444,\"#bd3786\"],[0.5555555555555556,\"#d8576b\"],[0.6666666666666666,\"#ed7953\"],[0.7777777777777778,\"#fb9f3a\"],[0.8888888888888888,\"#fdca26\"],[1.0,\"#f0f921\"]],\"type\":\"surface\"}],\"table\":[{\"cells\":{\"fill\":{\"color\":\"#EBF0F8\"},\"line\":{\"color\":\"white\"}},\"header\":{\"fill\":{\"color\":\"#C8D4E3\"},\"line\":{\"color\":\"white\"}},\"type\":\"table\"}]},\"layout\":{\"annotationdefaults\":{\"arrowcolor\":\"#2a3f5f\",\"arrowhead\":0,\"arrowwidth\":1},\"autotypenumbers\":\"strict\",\"coloraxis\":{\"colorbar\":{\"outlinewidth\":0,\"ticks\":\"\"}},\"colorscale\":{\"diverging\":[[0,\"#8e0152\"],[0.1,\"#c51b7d\"],[0.2,\"#de77ae\"],[0.3,\"#f1b6da\"],[0.4,\"#fde0ef\"],[0.5,\"#f7f7f7\"],[0.6,\"#e6f5d0\"],[0.7,\"#b8e186\"],[0.8,\"#7fbc41\"],[0.9,\"#4d9221\"],[1,\"#276419\"]],\"sequential\":[[0.0,\"#0d0887\"],[0.1111111111111111,\"#46039f\"],[0.2222222222222222,\"#7201a8\"],[0.3333333333333333,\"#9c179e\"],[0.4444444444444444,\"#bd3786\"],[0.5555555555555556,\"#d8576b\"],[0.6666666666666666,\"#ed7953\"],[0.7777777777777778,\"#fb9f3a\"],[0.8888888888888888,\"#fdca26\"],[1.0,\"#f0f921\"]],\"sequentialminus\":[[0.0,\"#0d0887\"],[0.1111111111111111,\"#46039f\"],[0.2222222222222222,\"#7201a8\"],[0.3333333333333333,\"#9c179e\"],[0.4444444444444444,\"#bd3786\"],[0.5555555555555556,\"#d8576b\"],[0.6666666666666666,\"#ed7953\"],[0.7777777777777778,\"#fb9f3a\"],[0.8888888888888888,\"#fdca26\"],[1.0,\"#f0f921\"]]},\"colorway\":[\"#636efa\",\"#EF553B\",\"#00cc96\",\"#ab63fa\",\"#FFA15A\",\"#19d3f3\",\"#FF6692\",\"#B6E880\",\"#FF97FF\",\"#FECB52\"],\"font\":{\"color\":\"#2a3f5f\"},\"geo\":{\"bgcolor\":\"white\",\"lakecolor\":\"white\",\"landcolor\":\"#E5ECF6\",\"showlakes\":true,\"showland\":true,\"subunitcolor\":\"white\"},\"hoverlabel\":{\"align\":\"left\"},\"hovermode\":\"closest\",\"mapbox\":{\"style\":\"light\"},\"paper_bgcolor\":\"white\",\"plot_bgcolor\":\"#E5ECF6\",\"polar\":{\"angularaxis\":{\"gridcolor\":\"white\",\"linecolor\":\"white\",\"ticks\":\"\"},\"bgcolor\":\"#E5ECF6\",\"radialaxis\":{\"gridcolor\":\"white\",\"linecolor\":\"white\",\"ticks\":\"\"}},\"scene\":{\"xaxis\":{\"backgroundcolor\":\"#E5ECF6\",\"gridcolor\":\"white\",\"gridwidth\":2,\"linecolor\":\"white\",\"showbackground\":true,\"ticks\":\"\",\"zerolinecolor\":\"white\"},\"yaxis\":{\"backgroundcolor\":\"#E5ECF6\",\"gridcolor\":\"white\",\"gridwidth\":2,\"linecolor\":\"white\",\"showbackground\":true,\"ticks\":\"\",\"zerolinecolor\":\"white\"},\"zaxis\":{\"backgroundcolor\":\"#E5ECF6\",\"gridcolor\":\"white\",\"gridwidth\":2,\"linecolor\":\"white\",\"showbackground\":true,\"ticks\":\"\",\"zerolinecolor\":\"white\"}},\"shapedefaults\":{\"line\":{\"color\":\"#2a3f5f\"}},\"ternary\":{\"aaxis\":{\"gridcolor\":\"white\",\"linecolor\":\"white\",\"ticks\":\"\"},\"baxis\":{\"gridcolor\":\"white\",\"linecolor\":\"white\",\"ticks\":\"\"},\"bgcolor\":\"#E5ECF6\",\"caxis\":{\"gridcolor\":\"white\",\"linecolor\":\"white\",\"ticks\":\"\"}},\"title\":{\"x\":0.05},\"xaxis\":{\"automargin\":true,\"gridcolor\":\"white\",\"linecolor\":\"white\",\"ticks\":\"\",\"title\":{\"standoff\":15},\"zerolinecolor\":\"white\",\"zerolinewidth\":2},\"yaxis\":{\"automargin\":true,\"gridcolor\":\"white\",\"linecolor\":\"white\",\"ticks\":\"\",\"title\":{\"standoff\":15},\"zerolinecolor\":\"white\",\"zerolinewidth\":2}}},\"xaxis\":{\"anchor\":\"y\",\"domain\":[0.0,1.0],\"title\":{\"text\":\"num_dependents\"}},\"yaxis\":{\"anchor\":\"x\",\"domain\":[0.0,1.0],\"title\":{\"text\":\"index\"}},\"legend\":{\"title\":{\"text\":\"risk\"},\"tracegroupgap\":0},\"margin\":{\"t\":60}},                        {\"responsive\": true}                    ).then(function(){\n",
              "                            \n",
              "var gd = document.getElementById('b62c1485-1d96-49a6-95dc-8ca50b337430');\n",
              "var x = new MutationObserver(function (mutations, observer) {{\n",
              "        var display = window.getComputedStyle(gd).display;\n",
              "        if (!display || display === 'none') {{\n",
              "            console.log([gd, 'removed!']);\n",
              "            Plotly.purge(gd);\n",
              "            observer.disconnect();\n",
              "        }}\n",
              "}});\n",
              "\n",
              "// Listen for the removal of the full notebook cells\n",
              "var notebookContainer = gd.closest('#notebook-container');\n",
              "if (notebookContainer) {{\n",
              "    x.observe(notebookContainer, {childList: true});\n",
              "}}\n",
              "\n",
              "// Listen for the clearing of the current output cell\n",
              "var outputEl = gd.closest('.output');\n",
              "if (outputEl) {{\n",
              "    x.observe(outputEl, {childList: true});\n",
              "}}\n",
              "\n",
              "                        })                };                            </script>        </div>\n",
              "</body>\n",
              "</html>"
            ]
          },
          "metadata": {}
        }
      ]
    },
    {
      "cell_type": "code",
      "source": [
        "for column in category_features:\n",
        "  fig = px.histogram(df, x=column, color='risk')\n",
        "  fig.show()"
      ],
      "metadata": {
        "colab": {
          "base_uri": "https://localhost:8080/",
          "height": 1000
        },
        "id": "aydwh2_R_9gv",
        "outputId": "9b53879f-36f4-44bc-d8b9-74813f851b3d"
      },
      "execution_count": 931,
      "outputs": [
        {
          "output_type": "display_data",
          "data": {
            "text/html": [
              "<html>\n",
              "<head><meta charset=\"utf-8\" /></head>\n",
              "<body>\n",
              "    <div>            <script src=\"https://cdnjs.cloudflare.com/ajax/libs/mathjax/2.7.5/MathJax.js?config=TeX-AMS-MML_SVG\"></script><script type=\"text/javascript\">if (window.MathJax) {MathJax.Hub.Config({SVG: {font: \"STIX-Web\"}});}</script>                <script type=\"text/javascript\">window.PlotlyConfig = {MathJaxConfig: 'local'};</script>\n",
              "        <script src=\"https://cdn.plot.ly/plotly-2.8.3.min.js\"></script>                <div id=\"15b3ed9e-e4c6-4160-949b-98f967993bd6\" class=\"plotly-graph-div\" style=\"height:525px; width:100%;\"></div>            <script type=\"text/javascript\">                                    window.PLOTLYENV=window.PLOTLYENV || {};                                    if (document.getElementById(\"15b3ed9e-e4c6-4160-949b-98f967993bd6\")) {                    Plotly.newPlot(                        \"15b3ed9e-e4c6-4160-949b-98f967993bd6\",                        [{\"alignmentgroup\":\"True\",\"bingroup\":\"x\",\"hovertemplate\":\"risk=good<br>checking_status=%{x}<br>count=%{y}<extra></extra>\",\"legendgroup\":\"good\",\"marker\":{\"color\":\"#636efa\",\"pattern\":{\"shape\":\"\"}},\"name\":\"good\",\"offsetgroup\":\"good\",\"orientation\":\"v\",\"showlegend\":true,\"x\":[\"<0\",\"no checking\",\"<0\",\"no checking\",\"no checking\",\"0<=X<200\",\"no checking\",\"0<=X<200\",\"<0\",\"no checking\",\"<0\",\"no checking\",\"no checking\",\"<0\",\"<0\",\"0<=X<200\",\"no checking\",\"<0\",\"no checking\",\">=200\",\"0<=X<200\",\"0<=X<200\",\"<0\",\"0<=X<200\",\"no checking\",\">=200\",\"no checking\",\">=200\",\"0<=X<200\",\"no checking\",\"0<=X<200\",\"0<=X<200\",\"<0\",\"no checking\",\"no checking\",\"<0\",\"no checking\",\"no checking\",\"0<=X<200\",\"0<=X<200\",\"no checking\",\"no checking\",\"no checking\",\"no checking\",\">=200\",\"0<=X<200\",\"0<=X<200\",\"no checking\",\"no checking\",\"no checking\",\"0<=X<200\",\"no checking\",\"no checking\",\"no checking\",\"<0\",\"0<=X<200\",\"<0\",\"0<=X<200\",\"no checking\",\"0<=X<200\",\"no checking\",\"no checking\",\"<0\",\"<0\",\"no checking\",\"0<=X<200\",\"<0\",\"no checking\",\"<0\",\">=200\",\"0<=X<200\",\"no checking\",\"0<=X<200\",\"0<=X<200\",\"0<=X<200\",\"no checking\",\"0<=X<200\",\"no checking\",\"0<=X<200\",\"no checking\",\"0<=X<200\",\"<0\",\"0<=X<200\",\"0<=X<200\",\">=200\",\"0<=X<200\",\"<0\",\"no checking\",\"<0\",\"0<=X<200\",\"no checking\",\"no checking\",\">=200\",\"<0\",\"<0\",\"0<=X<200\",\"0<=X<200\",\"no checking\",\"no checking\",\"no checking\",\"no checking\",\"no checking\",\"0<=X<200\",\">=200\",\">=200\",\"0<=X<200\",\"<0\",\"no checking\",\"0<=X<200\",\"<0\",\"no checking\",\"<0\",\"no checking\",\"no checking\",\"no checking\",\">=200\",\"0<=X<200\",\"0<=X<200\",\"<0\",\"<0\",\"0<=X<200\",\"no checking\",\"no checking\",\"no checking\",\"no checking\",\"0<=X<200\",\"no checking\",\"no checking\",\"0<=X<200\",\"no checking\",\"no checking\",\"0<=X<200\",\"<0\",\"<0\",\"no checking\",\"<0\",\"no checking\",\"no checking\",\"0<=X<200\",\"0<=X<200\",\"no checking\",\"no checking\",\"0<=X<200\",\"no checking\",\"<0\",\"no checking\",\"no checking\",\"<0\",\"no checking\",\"0<=X<200\",\"<0\",\"no checking\",\"no checking\",\"no checking\",\"no checking\",\"0<=X<200\",\"<0\",\">=200\",\"<0\",\"no checking\",\"0<=X<200\",\"<0\",\"no checking\",\"no checking\",\"no checking\",\"no checking\",\"<0\",\"no checking\",\"no checking\",\"0<=X<200\",\"no checking\",\"no checking\",\"<0\",\"no checking\",\"no checking\",\"no checking\",\"no checking\",\"no checking\",\"no checking\",\">=200\",\"<0\",\">=200\",\"no checking\",\"0<=X<200\",\"0<=X<200\",\"no checking\",\"no checking\",\"no checking\",\"<0\",\"<0\",\"<0\",\"no checking\",\"no checking\",\"no checking\",\"no checking\",\"no checking\",\"no checking\",\"no checking\",\"0<=X<200\",\"no checking\",\"no checking\",\"<0\",\"no checking\",\"no checking\",\"no checking\",\">=200\",\"no checking\",\"0<=X<200\",\"<0\",\"<0\",\"0<=X<200\",\"0<=X<200\",\"no checking\",\"<0\",\">=200\",\"no checking\",\"no checking\",\"no checking\",\"no checking\",\"0<=X<200\",\"no checking\",\"<0\",\"no checking\",\"no checking\",\"0<=X<200\",\"0<=X<200\",\"no checking\",\">=200\",\">=200\",\"<0\",\"0<=X<200\",\"no checking\",\"<0\",\"<0\",\"<0\",\"no checking\",\"<0\",\"no checking\",\"no checking\",\">=200\",\"0<=X<200\",\"<0\",\"0<=X<200\",\"<0\",\"0<=X<200\",\"0<=X<200\",\"<0\",\"0<=X<200\",\"0<=X<200\",\">=200\",\"no checking\",\"0<=X<200\",\"0<=X<200\",\"no checking\",\"no checking\",\"no checking\",\"no checking\",\"no checking\",\"no checking\",\"0<=X<200\",\">=200\",\">=200\",\"no checking\",\"no checking\",\"no checking\",\"<0\",\"0<=X<200\",\"no checking\",\"no checking\",\"no checking\",\"no checking\",\"no checking\",\"no checking\",\"no checking\",\"<0\",\"no checking\",\">=200\",\"no checking\",\"no checking\",\"no checking\",\"0<=X<200\",\"0<=X<200\",\"no checking\",\"no checking\",\"0<=X<200\",\"<0\",\"<0\",\"no checking\",\"0<=X<200\",\"<0\",\"<0\",\"no checking\",\"no checking\",\"0<=X<200\",\"no checking\",\"0<=X<200\",\"no checking\",\"<0\",\"no checking\",\"0<=X<200\",\"no checking\",\"no checking\",\"no checking\",\"<0\",\"no checking\",\"no checking\",\"0<=X<200\",\"0<=X<200\",\"no checking\",\"0<=X<200\",\"no checking\",\"no checking\",\"no checking\",\"no checking\",\"<0\",\"no checking\",\"<0\",\"no checking\",\"no checking\",\"<0\",\"no checking\",\"<0\",\"0<=X<200\",\"no checking\",\"0<=X<200\",\">=200\",\"no checking\",\"no checking\",\"no checking\",\"no checking\",\"no checking\",\"<0\",\"<0\",\"no checking\",\"<0\",\"<0\",\"0<=X<200\",\"0<=X<200\",\"no checking\",\"<0\",\"no checking\",\"no checking\",\"no checking\",\"no checking\",\"no checking\",\">=200\",\"0<=X<200\",\"<0\",\"0<=X<200\",\"0<=X<200\",\"<0\",\"no checking\",\"no checking\",\"no checking\",\"no checking\",\"no checking\",\"no checking\",\"no checking\",\"no checking\",\"0<=X<200\",\"<0\",\"no checking\",\"0<=X<200\",\">=200\",\"<0\",\">=200\",\">=200\",\"no checking\",\"no checking\",\"no checking\",\">=200\",\"0<=X<200\",\"no checking\",\"<0\",\"<0\",\"<0\",\"no checking\",\"no checking\",\"no checking\",\"0<=X<200\",\"0<=X<200\",\"no checking\",\"no checking\",\"<0\",\"0<=X<200\",\"no checking\",\"no checking\",\"no checking\",\"<0\",\"0<=X<200\",\">=200\",\"no checking\",\"no checking\",\"no checking\",\"no checking\",\"no checking\",\"no checking\",\"no checking\",\"0<=X<200\",\"0<=X<200\",\"<0\",\">=200\",\"0<=X<200\",\"0<=X<200\",\"no checking\",\"0<=X<200\",\"no checking\",\"no checking\",\"<0\",\"0<=X<200\",\"no checking\",\"0<=X<200\",\"no checking\",\"no checking\",\"0<=X<200\",\"no checking\",\"no checking\",\"<0\",\"<0\",\"<0\",\"0<=X<200\",\"no checking\",\"no checking\",\"0<=X<200\",\">=200\",\"<0\",\"no checking\",\"no checking\",\"no checking\",\"<0\",\"<0\",\"0<=X<200\",\"0<=X<200\",\"<0\",\"no checking\",\"0<=X<200\",\"<0\",\"no checking\",\">=200\",\"no checking\",\"no checking\",\"<0\",\"0<=X<200\",\"no checking\",\"no checking\",\"no checking\",\"no checking\",\"0<=X<200\",\"no checking\",\"<0\",\"<0\",\"<0\",\"no checking\",\"<0\",\"no checking\",\"0<=X<200\",\"0<=X<200\",\">=200\",\"no checking\",\"0<=X<200\",\">=200\",\"no checking\",\"0<=X<200\",\"no checking\",\">=200\",\"no checking\",\"no checking\",\"no checking\",\"no checking\",\"no checking\",\"no checking\",\"<0\",\"no checking\",\"no checking\",\"no checking\",\"no checking\",\"no checking\",\"0<=X<200\",\"no checking\",\">=200\",\"0<=X<200\",\"no checking\",\"<0\",\"<0\",\"0<=X<200\",\"0<=X<200\",\"<0\",\"no checking\",\"no checking\",\"0<=X<200\",\"no checking\",\"no checking\",\">=200\",\">=200\",\"0<=X<200\",\"0<=X<200\",\"no checking\",\"0<=X<200\",\"0<=X<200\",\"no checking\",\"no checking\",\"<0\",\"no checking\",\"no checking\",\"no checking\",\">=200\",\"0<=X<200\",\"0<=X<200\",\"no checking\",\"no checking\",\">=200\",\"0<=X<200\",\"0<=X<200\",\"no checking\",\"no checking\",\"0<=X<200\",\"<0\",\"no checking\",\"<0\",\"0<=X<200\",\"no checking\",\"<0\",\"<0\",\"<0\",\"<0\",\"no checking\",\"no checking\",\"<0\",\"0<=X<200\",\"no checking\",\">=200\",\"no checking\",\"no checking\",\"<0\",\"no checking\",\"0<=X<200\",\"no checking\",\"0<=X<200\",\"no checking\",\"<0\",\"no checking\",\"no checking\",\">=200\",\"no checking\",\"<0\",\"no checking\",\"0<=X<200\",\"no checking\",\"0<=X<200\",\"0<=X<200\",\"0<=X<200\",\"no checking\",\"no checking\",\"no checking\",\"no checking\",\">=200\",\"no checking\",\"no checking\",\"no checking\",\"no checking\",\"0<=X<200\",\"no checking\",\"0<=X<200\",\"<0\",\"no checking\",\"0<=X<200\",\"0<=X<200\",\"no checking\",\"0<=X<200\",\"0<=X<200\",\"0<=X<200\",\"0<=X<200\",\"no checking\",\"no checking\",\"<0\",\"no checking\",\">=200\",\"<0\",\"no checking\",\"<0\",\"0<=X<200\",\"no checking\",\"0<=X<200\",\"no checking\",\"no checking\",\"<0\",\"no checking\",\"no checking\",\"no checking\",\"no checking\",\"0<=X<200\",\"no checking\",\"<0\",\"no checking\",\"no checking\",\"no checking\",\"no checking\",\"no checking\",\"no checking\",\"no checking\",\"no checking\",\"no checking\",\"no checking\",\"<0\",\"no checking\",\"no checking\",\"<0\",\"no checking\",\">=200\",\"<0\",\"no checking\",\"<0\",\"0<=X<200\",\"<0\",\"no checking\",\"no checking\",\"no checking\",\"no checking\",\"0<=X<200\",\"no checking\",\"0<=X<200\",\"no checking\",\"no checking\",\"<0\",\"no checking\",\"<0\",\"0<=X<200\",\"no checking\",\"no checking\",\"<0\",\"no checking\",\"no checking\",\"no checking\",\"no checking\",\"no checking\",\"no checking\",\"<0\",\"<0\",\"0<=X<200\",\"no checking\",\"0<=X<200\",\"no checking\",\"0<=X<200\",\"no checking\",\"no checking\",\"no checking\",\"no checking\",\"0<=X<200\",\"<0\",\"no checking\",\"<0\",\"<0\",\"no checking\",\"no checking\",\"<0\",\"0<=X<200\",\"no checking\",\"no checking\",\"no checking\",\"no checking\",\"no checking\",\"<0\",\"0<=X<200\",\"no checking\",\"0<=X<200\",\"<0\",\"<0\",\">=200\",\"0<=X<200\",\"0<=X<200\",\"no checking\",\"0<=X<200\",\"no checking\",\"0<=X<200\",\"0<=X<200\",\"no checking\",\"no checking\",\"<0\",\"0<=X<200\",\"no checking\",\"no checking\",\">=200\",\"0<=X<200\",\"0<=X<200\",\">=200\",\"no checking\",\"<0\",\">=200\",\"no checking\",\"<0\",\"0<=X<200\",\"no checking\",\"no checking\",\"<0\",\"<0\",\"no checking\",\"no checking\",\"<0\",\"no checking\",\"0<=X<200\"],\"xaxis\":\"x\",\"yaxis\":\"y\",\"type\":\"histogram\"},{\"alignmentgroup\":\"True\",\"bingroup\":\"x\",\"hovertemplate\":\"risk=bad<br>checking_status=%{x}<br>count=%{y}<extra></extra>\",\"legendgroup\":\"bad\",\"marker\":{\"color\":\"#EF553B\",\"pattern\":{\"shape\":\"\"}},\"name\":\"bad\",\"offsetgroup\":\"bad\",\"orientation\":\"v\",\"showlegend\":true,\"x\":[\"0<=X<200\",\"<0\",\"0<=X<200\",\"0<=X<200\",\"<0\",\"<0\",\"<0\",\"0<=X<200\",\"<0\",\"0<=X<200\",\">=200\",\"<0\",\"0<=X<200\",\"0<=X<200\",\"<0\",\"0<=X<200\",\"0<=X<200\",\"no checking\",\"<0\",\"<0\",\"no checking\",\"0<=X<200\",\"<0\",\"no checking\",\"0<=X<200\",\"0<=X<200\",\"no checking\",\"no checking\",\"<0\",\"<0\",\"<0\",\"0<=X<200\",\"0<=X<200\",\"<0\",\"<0\",\"0<=X<200\",\"<0\",\"<0\",\"<0\",\"0<=X<200\",\"<0\",\"0<=X<200\",\"<0\",\"no checking\",\"no checking\",\"0<=X<200\",\"<0\",\"0<=X<200\",\"0<=X<200\",\"<0\",\"no checking\",\"0<=X<200\",\"0<=X<200\",\"0<=X<200\",\"0<=X<200\",\"0<=X<200\",\"0<=X<200\",\"<0\",\"<0\",\">=200\",\"0<=X<200\",\"<0\",\"no checking\",\">=200\",\"<0\",\"0<=X<200\",\"0<=X<200\",\"<0\",\"<0\",\"no checking\",\"0<=X<200\",\"<0\",\"0<=X<200\",\"<0\",\"0<=X<200\",\"<0\",\"no checking\",\"<0\",\"0<=X<200\",\"0<=X<200\",\"0<=X<200\",\">=200\",\"no checking\",\"<0\",\"0<=X<200\",\"0<=X<200\",\"<0\",\"0<=X<200\",\"<0\",\"no checking\",\"0<=X<200\",\"no checking\",\"<0\",\"<0\",\"<0\",\"0<=X<200\",\"0<=X<200\",\"<0\",\"0<=X<200\",\"no checking\",\"<0\",\"<0\",\"<0\",\"0<=X<200\",\"<0\",\"0<=X<200\",\"0<=X<200\",\"0<=X<200\",\"no checking\",\"0<=X<200\",\">=200\",\"no checking\",\"<0\",\"<0\",\"0<=X<200\",\"0<=X<200\",\"<0\",\"0<=X<200\",\"0<=X<200\",\">=200\",\"no checking\",\"0<=X<200\",\"<0\",\"0<=X<200\",\"<0\",\"<0\",\"<0\",\"0<=X<200\",\"<0\",\"<0\",\"0<=X<200\",\"<0\",\"0<=X<200\",\"0<=X<200\",\"<0\",\"0<=X<200\",\"<0\",\"0<=X<200\",\"<0\",\"no checking\",\"0<=X<200\",\"<0\",\"no checking\",\"<0\",\"<0\",\"<0\",\"0<=X<200\",\">=200\",\"<0\",\"0<=X<200\",\"<0\",\">=200\",\"<0\",\"<0\",\"<0\",\"0<=X<200\",\"0<=X<200\",\"no checking\",\"<0\",\"0<=X<200\",\"<0\",\"0<=X<200\",\"<0\",\"<0\",\"<0\",\"0<=X<200\",\"0<=X<200\",\"0<=X<200\",\"<0\",\"<0\",\"<0\",\"0<=X<200\",\"<0\",\"0<=X<200\",\"<0\",\"0<=X<200\",\"no checking\",\"0<=X<200\",\"0<=X<200\",\"no checking\",\"0<=X<200\",\"<0\",\">=200\",\"no checking\",\"0<=X<200\",\"no checking\",\"no checking\",\"<0\",\"0<=X<200\",\"<0\",\"no checking\",\"0<=X<200\",\"<0\",\"<0\",\"no checking\",\"no checking\",\"no checking\",\">=200\",\"<0\",\"0<=X<200\",\"<0\",\"0<=X<200\",\"0<=X<200\",\"<0\",\"<0\",\"no checking\",\"0<=X<200\",\"no checking\",\"<0\",\"0<=X<200\",\"0<=X<200\",\"<0\",\"0<=X<200\",\">=200\",\"0<=X<200\",\"<0\",\"no checking\",\"<0\",\"0<=X<200\",\"<0\",\"0<=X<200\",\"0<=X<200\",\"<0\",\"<0\",\"no checking\",\"<0\",\">=200\",\"<0\",\"<0\",\"no checking\",\"<0\",\"<0\",\"<0\",\"0<=X<200\",\"0<=X<200\",\"0<=X<200\",\"<0\",\"0<=X<200\",\"<0\",\"<0\",\"0<=X<200\",\"<0\",\"<0\",\"<0\",\"<0\",\"<0\",\"<0\",\"no checking\",\"<0\",\"<0\",\"<0\",\">=200\",\"<0\",\"<0\",\"no checking\",\"no checking\",\"<0\",\"<0\",\"<0\",\"<0\",\"no checking\",\"<0\",\"no checking\",\"<0\",\"0<=X<200\",\"<0\",\"0<=X<200\",\"<0\",\"<0\",\"0<=X<200\",\"<0\",\"0<=X<200\",\"<0\",\"<0\",\"<0\",\"<0\",\"<0\",\"<0\",\"<0\",\"0<=X<200\",\"0<=X<200\",\">=200\",\"0<=X<200\",\"<0\",\"no checking\",\"no checking\",\"<0\",\"0<=X<200\",\"no checking\",\"<0\",\"no checking\",\"0<=X<200\",\"<0\",\"<0\",\"no checking\",\"0<=X<200\",\"0<=X<200\",\"no checking\",\"<0\",\"<0\"],\"xaxis\":\"x\",\"yaxis\":\"y\",\"type\":\"histogram\"}],                        {\"template\":{\"data\":{\"bar\":[{\"error_x\":{\"color\":\"#2a3f5f\"},\"error_y\":{\"color\":\"#2a3f5f\"},\"marker\":{\"line\":{\"color\":\"#E5ECF6\",\"width\":0.5},\"pattern\":{\"fillmode\":\"overlay\",\"size\":10,\"solidity\":0.2}},\"type\":\"bar\"}],\"barpolar\":[{\"marker\":{\"line\":{\"color\":\"#E5ECF6\",\"width\":0.5},\"pattern\":{\"fillmode\":\"overlay\",\"size\":10,\"solidity\":0.2}},\"type\":\"barpolar\"}],\"carpet\":[{\"aaxis\":{\"endlinecolor\":\"#2a3f5f\",\"gridcolor\":\"white\",\"linecolor\":\"white\",\"minorgridcolor\":\"white\",\"startlinecolor\":\"#2a3f5f\"},\"baxis\":{\"endlinecolor\":\"#2a3f5f\",\"gridcolor\":\"white\",\"linecolor\":\"white\",\"minorgridcolor\":\"white\",\"startlinecolor\":\"#2a3f5f\"},\"type\":\"carpet\"}],\"choropleth\":[{\"colorbar\":{\"outlinewidth\":0,\"ticks\":\"\"},\"type\":\"choropleth\"}],\"contour\":[{\"colorbar\":{\"outlinewidth\":0,\"ticks\":\"\"},\"colorscale\":[[0.0,\"#0d0887\"],[0.1111111111111111,\"#46039f\"],[0.2222222222222222,\"#7201a8\"],[0.3333333333333333,\"#9c179e\"],[0.4444444444444444,\"#bd3786\"],[0.5555555555555556,\"#d8576b\"],[0.6666666666666666,\"#ed7953\"],[0.7777777777777778,\"#fb9f3a\"],[0.8888888888888888,\"#fdca26\"],[1.0,\"#f0f921\"]],\"type\":\"contour\"}],\"contourcarpet\":[{\"colorbar\":{\"outlinewidth\":0,\"ticks\":\"\"},\"type\":\"contourcarpet\"}],\"heatmap\":[{\"colorbar\":{\"outlinewidth\":0,\"ticks\":\"\"},\"colorscale\":[[0.0,\"#0d0887\"],[0.1111111111111111,\"#46039f\"],[0.2222222222222222,\"#7201a8\"],[0.3333333333333333,\"#9c179e\"],[0.4444444444444444,\"#bd3786\"],[0.5555555555555556,\"#d8576b\"],[0.6666666666666666,\"#ed7953\"],[0.7777777777777778,\"#fb9f3a\"],[0.8888888888888888,\"#fdca26\"],[1.0,\"#f0f921\"]],\"type\":\"heatmap\"}],\"heatmapgl\":[{\"colorbar\":{\"outlinewidth\":0,\"ticks\":\"\"},\"colorscale\":[[0.0,\"#0d0887\"],[0.1111111111111111,\"#46039f\"],[0.2222222222222222,\"#7201a8\"],[0.3333333333333333,\"#9c179e\"],[0.4444444444444444,\"#bd3786\"],[0.5555555555555556,\"#d8576b\"],[0.6666666666666666,\"#ed7953\"],[0.7777777777777778,\"#fb9f3a\"],[0.8888888888888888,\"#fdca26\"],[1.0,\"#f0f921\"]],\"type\":\"heatmapgl\"}],\"histogram\":[{\"marker\":{\"pattern\":{\"fillmode\":\"overlay\",\"size\":10,\"solidity\":0.2}},\"type\":\"histogram\"}],\"histogram2d\":[{\"colorbar\":{\"outlinewidth\":0,\"ticks\":\"\"},\"colorscale\":[[0.0,\"#0d0887\"],[0.1111111111111111,\"#46039f\"],[0.2222222222222222,\"#7201a8\"],[0.3333333333333333,\"#9c179e\"],[0.4444444444444444,\"#bd3786\"],[0.5555555555555556,\"#d8576b\"],[0.6666666666666666,\"#ed7953\"],[0.7777777777777778,\"#fb9f3a\"],[0.8888888888888888,\"#fdca26\"],[1.0,\"#f0f921\"]],\"type\":\"histogram2d\"}],\"histogram2dcontour\":[{\"colorbar\":{\"outlinewidth\":0,\"ticks\":\"\"},\"colorscale\":[[0.0,\"#0d0887\"],[0.1111111111111111,\"#46039f\"],[0.2222222222222222,\"#7201a8\"],[0.3333333333333333,\"#9c179e\"],[0.4444444444444444,\"#bd3786\"],[0.5555555555555556,\"#d8576b\"],[0.6666666666666666,\"#ed7953\"],[0.7777777777777778,\"#fb9f3a\"],[0.8888888888888888,\"#fdca26\"],[1.0,\"#f0f921\"]],\"type\":\"histogram2dcontour\"}],\"mesh3d\":[{\"colorbar\":{\"outlinewidth\":0,\"ticks\":\"\"},\"type\":\"mesh3d\"}],\"parcoords\":[{\"line\":{\"colorbar\":{\"outlinewidth\":0,\"ticks\":\"\"}},\"type\":\"parcoords\"}],\"pie\":[{\"automargin\":true,\"type\":\"pie\"}],\"scatter\":[{\"marker\":{\"colorbar\":{\"outlinewidth\":0,\"ticks\":\"\"}},\"type\":\"scatter\"}],\"scatter3d\":[{\"line\":{\"colorbar\":{\"outlinewidth\":0,\"ticks\":\"\"}},\"marker\":{\"colorbar\":{\"outlinewidth\":0,\"ticks\":\"\"}},\"type\":\"scatter3d\"}],\"scattercarpet\":[{\"marker\":{\"colorbar\":{\"outlinewidth\":0,\"ticks\":\"\"}},\"type\":\"scattercarpet\"}],\"scattergeo\":[{\"marker\":{\"colorbar\":{\"outlinewidth\":0,\"ticks\":\"\"}},\"type\":\"scattergeo\"}],\"scattergl\":[{\"marker\":{\"colorbar\":{\"outlinewidth\":0,\"ticks\":\"\"}},\"type\":\"scattergl\"}],\"scattermapbox\":[{\"marker\":{\"colorbar\":{\"outlinewidth\":0,\"ticks\":\"\"}},\"type\":\"scattermapbox\"}],\"scatterpolar\":[{\"marker\":{\"colorbar\":{\"outlinewidth\":0,\"ticks\":\"\"}},\"type\":\"scatterpolar\"}],\"scatterpolargl\":[{\"marker\":{\"colorbar\":{\"outlinewidth\":0,\"ticks\":\"\"}},\"type\":\"scatterpolargl\"}],\"scatterternary\":[{\"marker\":{\"colorbar\":{\"outlinewidth\":0,\"ticks\":\"\"}},\"type\":\"scatterternary\"}],\"surface\":[{\"colorbar\":{\"outlinewidth\":0,\"ticks\":\"\"},\"colorscale\":[[0.0,\"#0d0887\"],[0.1111111111111111,\"#46039f\"],[0.2222222222222222,\"#7201a8\"],[0.3333333333333333,\"#9c179e\"],[0.4444444444444444,\"#bd3786\"],[0.5555555555555556,\"#d8576b\"],[0.6666666666666666,\"#ed7953\"],[0.7777777777777778,\"#fb9f3a\"],[0.8888888888888888,\"#fdca26\"],[1.0,\"#f0f921\"]],\"type\":\"surface\"}],\"table\":[{\"cells\":{\"fill\":{\"color\":\"#EBF0F8\"},\"line\":{\"color\":\"white\"}},\"header\":{\"fill\":{\"color\":\"#C8D4E3\"},\"line\":{\"color\":\"white\"}},\"type\":\"table\"}]},\"layout\":{\"annotationdefaults\":{\"arrowcolor\":\"#2a3f5f\",\"arrowhead\":0,\"arrowwidth\":1},\"autotypenumbers\":\"strict\",\"coloraxis\":{\"colorbar\":{\"outlinewidth\":0,\"ticks\":\"\"}},\"colorscale\":{\"diverging\":[[0,\"#8e0152\"],[0.1,\"#c51b7d\"],[0.2,\"#de77ae\"],[0.3,\"#f1b6da\"],[0.4,\"#fde0ef\"],[0.5,\"#f7f7f7\"],[0.6,\"#e6f5d0\"],[0.7,\"#b8e186\"],[0.8,\"#7fbc41\"],[0.9,\"#4d9221\"],[1,\"#276419\"]],\"sequential\":[[0.0,\"#0d0887\"],[0.1111111111111111,\"#46039f\"],[0.2222222222222222,\"#7201a8\"],[0.3333333333333333,\"#9c179e\"],[0.4444444444444444,\"#bd3786\"],[0.5555555555555556,\"#d8576b\"],[0.6666666666666666,\"#ed7953\"],[0.7777777777777778,\"#fb9f3a\"],[0.8888888888888888,\"#fdca26\"],[1.0,\"#f0f921\"]],\"sequentialminus\":[[0.0,\"#0d0887\"],[0.1111111111111111,\"#46039f\"],[0.2222222222222222,\"#7201a8\"],[0.3333333333333333,\"#9c179e\"],[0.4444444444444444,\"#bd3786\"],[0.5555555555555556,\"#d8576b\"],[0.6666666666666666,\"#ed7953\"],[0.7777777777777778,\"#fb9f3a\"],[0.8888888888888888,\"#fdca26\"],[1.0,\"#f0f921\"]]},\"colorway\":[\"#636efa\",\"#EF553B\",\"#00cc96\",\"#ab63fa\",\"#FFA15A\",\"#19d3f3\",\"#FF6692\",\"#B6E880\",\"#FF97FF\",\"#FECB52\"],\"font\":{\"color\":\"#2a3f5f\"},\"geo\":{\"bgcolor\":\"white\",\"lakecolor\":\"white\",\"landcolor\":\"#E5ECF6\",\"showlakes\":true,\"showland\":true,\"subunitcolor\":\"white\"},\"hoverlabel\":{\"align\":\"left\"},\"hovermode\":\"closest\",\"mapbox\":{\"style\":\"light\"},\"paper_bgcolor\":\"white\",\"plot_bgcolor\":\"#E5ECF6\",\"polar\":{\"angularaxis\":{\"gridcolor\":\"white\",\"linecolor\":\"white\",\"ticks\":\"\"},\"bgcolor\":\"#E5ECF6\",\"radialaxis\":{\"gridcolor\":\"white\",\"linecolor\":\"white\",\"ticks\":\"\"}},\"scene\":{\"xaxis\":{\"backgroundcolor\":\"#E5ECF6\",\"gridcolor\":\"white\",\"gridwidth\":2,\"linecolor\":\"white\",\"showbackground\":true,\"ticks\":\"\",\"zerolinecolor\":\"white\"},\"yaxis\":{\"backgroundcolor\":\"#E5ECF6\",\"gridcolor\":\"white\",\"gridwidth\":2,\"linecolor\":\"white\",\"showbackground\":true,\"ticks\":\"\",\"zerolinecolor\":\"white\"},\"zaxis\":{\"backgroundcolor\":\"#E5ECF6\",\"gridcolor\":\"white\",\"gridwidth\":2,\"linecolor\":\"white\",\"showbackground\":true,\"ticks\":\"\",\"zerolinecolor\":\"white\"}},\"shapedefaults\":{\"line\":{\"color\":\"#2a3f5f\"}},\"ternary\":{\"aaxis\":{\"gridcolor\":\"white\",\"linecolor\":\"white\",\"ticks\":\"\"},\"baxis\":{\"gridcolor\":\"white\",\"linecolor\":\"white\",\"ticks\":\"\"},\"bgcolor\":\"#E5ECF6\",\"caxis\":{\"gridcolor\":\"white\",\"linecolor\":\"white\",\"ticks\":\"\"}},\"title\":{\"x\":0.05},\"xaxis\":{\"automargin\":true,\"gridcolor\":\"white\",\"linecolor\":\"white\",\"ticks\":\"\",\"title\":{\"standoff\":15},\"zerolinecolor\":\"white\",\"zerolinewidth\":2},\"yaxis\":{\"automargin\":true,\"gridcolor\":\"white\",\"linecolor\":\"white\",\"ticks\":\"\",\"title\":{\"standoff\":15},\"zerolinecolor\":\"white\",\"zerolinewidth\":2}}},\"xaxis\":{\"anchor\":\"y\",\"domain\":[0.0,1.0],\"title\":{\"text\":\"checking_status\"}},\"yaxis\":{\"anchor\":\"x\",\"domain\":[0.0,1.0],\"title\":{\"text\":\"count\"}},\"legend\":{\"title\":{\"text\":\"risk\"},\"tracegroupgap\":0},\"margin\":{\"t\":60},\"barmode\":\"relative\"},                        {\"responsive\": true}                    ).then(function(){\n",
              "                            \n",
              "var gd = document.getElementById('15b3ed9e-e4c6-4160-949b-98f967993bd6');\n",
              "var x = new MutationObserver(function (mutations, observer) {{\n",
              "        var display = window.getComputedStyle(gd).display;\n",
              "        if (!display || display === 'none') {{\n",
              "            console.log([gd, 'removed!']);\n",
              "            Plotly.purge(gd);\n",
              "            observer.disconnect();\n",
              "        }}\n",
              "}});\n",
              "\n",
              "// Listen for the removal of the full notebook cells\n",
              "var notebookContainer = gd.closest('#notebook-container');\n",
              "if (notebookContainer) {{\n",
              "    x.observe(notebookContainer, {childList: true});\n",
              "}}\n",
              "\n",
              "// Listen for the clearing of the current output cell\n",
              "var outputEl = gd.closest('.output');\n",
              "if (outputEl) {{\n",
              "    x.observe(outputEl, {childList: true});\n",
              "}}\n",
              "\n",
              "                        })                };                            </script>        </div>\n",
              "</body>\n",
              "</html>"
            ]
          },
          "metadata": {}
        },
        {
          "output_type": "display_data",
          "data": {
            "text/html": [
              "<html>\n",
              "<head><meta charset=\"utf-8\" /></head>\n",
              "<body>\n",
              "    <div>            <script src=\"https://cdnjs.cloudflare.com/ajax/libs/mathjax/2.7.5/MathJax.js?config=TeX-AMS-MML_SVG\"></script><script type=\"text/javascript\">if (window.MathJax) {MathJax.Hub.Config({SVG: {font: \"STIX-Web\"}});}</script>                <script type=\"text/javascript\">window.PlotlyConfig = {MathJaxConfig: 'local'};</script>\n",
              "        <script src=\"https://cdn.plot.ly/plotly-2.8.3.min.js\"></script>                <div id=\"c080719b-51c0-4a50-829c-fb957f897493\" class=\"plotly-graph-div\" style=\"height:525px; width:100%;\"></div>            <script type=\"text/javascript\">                                    window.PLOTLYENV=window.PLOTLYENV || {};                                    if (document.getElementById(\"c080719b-51c0-4a50-829c-fb957f897493\")) {                    Plotly.newPlot(                        \"c080719b-51c0-4a50-829c-fb957f897493\",                        [{\"alignmentgroup\":\"True\",\"bingroup\":\"x\",\"hovertemplate\":\"risk=good<br>credit_history=%{x}<br>count=%{y}<extra></extra>\",\"legendgroup\":\"good\",\"marker\":{\"color\":\"#636efa\",\"pattern\":{\"shape\":\"\"}},\"name\":\"good\",\"offsetgroup\":\"good\",\"orientation\":\"v\",\"showlegend\":true,\"x\":[\"critical/other existing credit\",\"critical/other existing credit\",\"existing paid\",\"existing paid\",\"existing paid\",\"existing paid\",\"existing paid\",\"existing paid\",\"existing paid\",\"critical/other existing credit\",\"no credits/all paid\",\"existing paid\",\"critical/other existing credit\",\"existing paid\",\"critical/other existing credit\",\"critical/other existing credit\",\"critical/other existing credit\",\"existing paid\",\"no credits/all paid\",\"all paid\",\"existing paid\",\"existing paid\",\"existing paid\",\"existing paid\",\"critical/other existing credit\",\"existing paid\",\"critical/other existing credit\",\"existing paid\",\"existing paid\",\"existing paid\",\"existing paid\",\"delayed previously\",\"critical/other existing credit\",\"critical/other existing credit\",\"existing paid\",\"existing paid\",\"critical/other existing credit\",\"existing paid\",\"delayed previously\",\"delayed previously\",\"existing paid\",\"existing paid\",\"all paid\",\"critical/other existing credit\",\"existing paid\",\"existing paid\",\"critical/other existing credit\",\"existing paid\",\"existing paid\",\"existing paid\",\"existing paid\",\"existing paid\",\"existing paid\",\"critical/other existing credit\",\"critical/other existing credit\",\"critical/other existing credit\",\"critical/other existing credit\",\"delayed previously\",\"no credits/all paid\",\"existing paid\",\"existing paid\",\"existing paid\",\"existing paid\",\"existing paid\",\"critical/other existing credit\",\"critical/other existing credit\",\"existing paid\",\"critical/other existing credit\",\"critical/other existing credit\",\"critical/other existing credit\",\"existing paid\",\"critical/other existing credit\",\"existing paid\",\"critical/other existing credit\",\"delayed previously\",\"existing paid\",\"existing paid\",\"delayed previously\",\"critical/other existing credit\",\"existing paid\",\"existing paid\",\"existing paid\",\"existing paid\",\"delayed previously\",\"existing paid\",\"existing paid\",\"existing paid\",\"critical/other existing credit\",\"critical/other existing credit\",\"critical/other existing credit\",\"critical/other existing credit\",\"existing paid\",\"critical/other existing credit\",\"critical/other existing credit\",\"existing paid\",\"critical/other existing credit\",\"existing paid\",\"existing paid\",\"existing paid\",\"existing paid\",\"critical/other existing credit\",\"delayed previously\",\"critical/other existing credit\",\"existing paid\",\"existing paid\",\"existing paid\",\"existing paid\",\"critical/other existing credit\",\"all paid\",\"critical/other existing credit\",\"critical/other existing credit\",\"critical/other existing credit\",\"critical/other existing credit\",\"existing paid\",\"existing paid\",\"existing paid\",\"critical/other existing credit\",\"delayed previously\",\"critical/other existing credit\",\"all paid\",\"existing paid\",\"critical/other existing credit\",\"critical/other existing credit\",\"critical/other existing credit\",\"existing paid\",\"existing paid\",\"existing paid\",\"existing paid\",\"existing paid\",\"existing paid\",\"existing paid\",\"existing paid\",\"existing paid\",\"critical/other existing credit\",\"existing paid\",\"critical/other existing credit\",\"critical/other existing credit\",\"critical/other existing credit\",\"critical/other existing credit\",\"no credits/all paid\",\"existing paid\",\"critical/other existing credit\",\"existing paid\",\"critical/other existing credit\",\"existing paid\",\"delayed previously\",\"critical/other existing credit\",\"critical/other existing credit\",\"critical/other existing credit\",\"critical/other existing credit\",\"existing paid\",\"existing paid\",\"critical/other existing credit\",\"existing paid\",\"critical/other existing credit\",\"critical/other existing credit\",\"no credits/all paid\",\"existing paid\",\"existing paid\",\"existing paid\",\"existing paid\",\"existing paid\",\"existing paid\",\"delayed previously\",\"existing paid\",\"no credits/all paid\",\"existing paid\",\"existing paid\",\"existing paid\",\"existing paid\",\"critical/other existing credit\",\"critical/other existing credit\",\"existing paid\",\"existing paid\",\"critical/other existing credit\",\"all paid\",\"existing paid\",\"critical/other existing credit\",\"no credits/all paid\",\"existing paid\",\"critical/other existing credit\",\"existing paid\",\"delayed previously\",\"existing paid\",\"delayed previously\",\"critical/other existing credit\",\"existing paid\",\"critical/other existing credit\",\"existing paid\",\"existing paid\",\"critical/other existing credit\",\"critical/other existing credit\",\"critical/other existing credit\",\"critical/other existing credit\",\"existing paid\",\"existing paid\",\"existing paid\",\"critical/other existing credit\",\"all paid\",\"existing paid\",\"critical/other existing credit\",\"existing paid\",\"existing paid\",\"critical/other existing credit\",\"existing paid\",\"all paid\",\"critical/other existing credit\",\"critical/other existing credit\",\"existing paid\",\"existing paid\",\"delayed previously\",\"existing paid\",\"existing paid\",\"critical/other existing credit\",\"critical/other existing credit\",\"critical/other existing credit\",\"existing paid\",\"existing paid\",\"existing paid\",\"critical/other existing credit\",\"existing paid\",\"critical/other existing credit\",\"existing paid\",\"existing paid\",\"existing paid\",\"existing paid\",\"existing paid\",\"existing paid\",\"existing paid\",\"existing paid\",\"existing paid\",\"critical/other existing credit\",\"delayed previously\",\"existing paid\",\"existing paid\",\"critical/other existing credit\",\"critical/other existing credit\",\"critical/other existing credit\",\"existing paid\",\"existing paid\",\"existing paid\",\"critical/other existing credit\",\"existing paid\",\"existing paid\",\"existing paid\",\"critical/other existing credit\",\"existing paid\",\"existing paid\",\"existing paid\",\"existing paid\",\"critical/other existing credit\",\"critical/other existing credit\",\"existing paid\",\"delayed previously\",\"existing paid\",\"critical/other existing credit\",\"existing paid\",\"critical/other existing credit\",\"existing paid\",\"existing paid\",\"existing paid\",\"delayed previously\",\"existing paid\",\"existing paid\",\"critical/other existing credit\",\"existing paid\",\"existing paid\",\"existing paid\",\"critical/other existing credit\",\"critical/other existing credit\",\"critical/other existing credit\",\"delayed previously\",\"delayed previously\",\"critical/other existing credit\",\"existing paid\",\"existing paid\",\"existing paid\",\"delayed previously\",\"critical/other existing credit\",\"existing paid\",\"critical/other existing credit\",\"critical/other existing credit\",\"existing paid\",\"existing paid\",\"existing paid\",\"existing paid\",\"critical/other existing credit\",\"critical/other existing credit\",\"delayed previously\",\"existing paid\",\"critical/other existing credit\",\"critical/other existing credit\",\"existing paid\",\"critical/other existing credit\",\"delayed previously\",\"delayed previously\",\"critical/other existing credit\",\"existing paid\",\"existing paid\",\"existing paid\",\"critical/other existing credit\",\"existing paid\",\"critical/other existing credit\",\"delayed previously\",\"existing paid\",\"existing paid\",\"existing paid\",\"critical/other existing credit\",\"delayed previously\",\"existing paid\",\"critical/other existing credit\",\"critical/other existing credit\",\"existing paid\",\"existing paid\",\"critical/other existing credit\",\"critical/other existing credit\",\"existing paid\",\"existing paid\",\"critical/other existing credit\",\"critical/other existing credit\",\"existing paid\",\"existing paid\",\"delayed previously\",\"critical/other existing credit\",\"existing paid\",\"existing paid\",\"critical/other existing credit\",\"existing paid\",\"no credits/all paid\",\"existing paid\",\"existing paid\",\"critical/other existing credit\",\"existing paid\",\"existing paid\",\"existing paid\",\"existing paid\",\"existing paid\",\"existing paid\",\"existing paid\",\"existing paid\",\"delayed previously\",\"delayed previously\",\"delayed previously\",\"existing paid\",\"existing paid\",\"existing paid\",\"existing paid\",\"critical/other existing credit\",\"critical/other existing credit\",\"existing paid\",\"existing paid\",\"delayed previously\",\"critical/other existing credit\",\"existing paid\",\"existing paid\",\"existing paid\",\"existing paid\",\"critical/other existing credit\",\"critical/other existing credit\",\"existing paid\",\"critical/other existing credit\",\"critical/other existing credit\",\"existing paid\",\"critical/other existing credit\",\"existing paid\",\"existing paid\",\"critical/other existing credit\",\"existing paid\",\"existing paid\",\"existing paid\",\"existing paid\",\"delayed previously\",\"existing paid\",\"critical/other existing credit\",\"critical/other existing credit\",\"existing paid\",\"critical/other existing credit\",\"critical/other existing credit\",\"existing paid\",\"existing paid\",\"existing paid\",\"critical/other existing credit\",\"critical/other existing credit\",\"existing paid\",\"existing paid\",\"delayed previously\",\"existing paid\",\"existing paid\",\"existing paid\",\"critical/other existing credit\",\"existing paid\",\"delayed previously\",\"critical/other existing credit\",\"critical/other existing credit\",\"existing paid\",\"critical/other existing credit\",\"critical/other existing credit\",\"all paid\",\"critical/other existing credit\",\"existing paid\",\"existing paid\",\"delayed previously\",\"delayed previously\",\"delayed previously\",\"critical/other existing credit\",\"existing paid\",\"critical/other existing credit\",\"existing paid\",\"existing paid\",\"existing paid\",\"critical/other existing credit\",\"existing paid\",\"critical/other existing credit\",\"existing paid\",\"critical/other existing credit\",\"existing paid\",\"existing paid\",\"critical/other existing credit\",\"existing paid\",\"critical/other existing credit\",\"delayed previously\",\"existing paid\",\"delayed previously\",\"existing paid\",\"existing paid\",\"all paid\",\"critical/other existing credit\",\"existing paid\",\"existing paid\",\"existing paid\",\"all paid\",\"no credits/all paid\",\"delayed previously\",\"critical/other existing credit\",\"existing paid\",\"critical/other existing credit\",\"existing paid\",\"existing paid\",\"existing paid\",\"critical/other existing credit\",\"existing paid\",\"existing paid\",\"existing paid\",\"existing paid\",\"existing paid\",\"delayed previously\",\"existing paid\",\"existing paid\",\"critical/other existing credit\",\"critical/other existing credit\",\"no credits/all paid\",\"existing paid\",\"critical/other existing credit\",\"existing paid\",\"existing paid\",\"no credits/all paid\",\"critical/other existing credit\",\"existing paid\",\"existing paid\",\"delayed previously\",\"critical/other existing credit\",\"critical/other existing credit\",\"all paid\",\"all paid\",\"critical/other existing credit\",\"critical/other existing credit\",\"existing paid\",\"existing paid\",\"critical/other existing credit\",\"critical/other existing credit\",\"critical/other existing credit\",\"existing paid\",\"existing paid\",\"existing paid\",\"existing paid\",\"delayed previously\",\"critical/other existing credit\",\"delayed previously\",\"existing paid\",\"critical/other existing credit\",\"delayed previously\",\"existing paid\",\"existing paid\",\"critical/other existing credit\",\"existing paid\",\"existing paid\",\"critical/other existing credit\",\"existing paid\",\"existing paid\",\"existing paid\",\"critical/other existing credit\",\"critical/other existing credit\",\"existing paid\",\"existing paid\",\"delayed previously\",\"existing paid\",\"existing paid\",\"existing paid\",\"existing paid\",\"critical/other existing credit\",\"existing paid\",\"critical/other existing credit\",\"critical/other existing credit\",\"critical/other existing credit\",\"existing paid\",\"critical/other existing credit\",\"no credits/all paid\",\"existing paid\",\"critical/other existing credit\",\"critical/other existing credit\",\"critical/other existing credit\",\"delayed previously\",\"existing paid\",\"existing paid\",\"critical/other existing credit\",\"all paid\",\"existing paid\",\"critical/other existing credit\",\"all paid\",\"all paid\",\"existing paid\",\"all paid\",\"critical/other existing credit\",\"critical/other existing credit\",\"existing paid\",\"existing paid\",\"existing paid\",\"existing paid\",\"existing paid\",\"critical/other existing credit\",\"critical/other existing credit\",\"existing paid\",\"critical/other existing credit\",\"existing paid\",\"critical/other existing credit\",\"existing paid\",\"existing paid\",\"critical/other existing credit\",\"critical/other existing credit\",\"existing paid\",\"critical/other existing credit\",\"critical/other existing credit\",\"critical/other existing credit\",\"critical/other existing credit\",\"existing paid\",\"critical/other existing credit\",\"existing paid\",\"critical/other existing credit\",\"no credits/all paid\",\"existing paid\",\"existing paid\",\"existing paid\",\"critical/other existing credit\",\"existing paid\",\"critical/other existing credit\",\"existing paid\",\"existing paid\",\"existing paid\",\"critical/other existing credit\",\"delayed previously\",\"existing paid\",\"critical/other existing credit\",\"critical/other existing credit\",\"critical/other existing credit\",\"critical/other existing credit\",\"existing paid\",\"existing paid\",\"critical/other existing credit\",\"all paid\",\"existing paid\",\"existing paid\",\"delayed previously\",\"existing paid\",\"critical/other existing credit\",\"existing paid\",\"existing paid\",\"existing paid\",\"critical/other existing credit\",\"critical/other existing credit\",\"critical/other existing credit\",\"delayed previously\",\"delayed previously\",\"existing paid\",\"existing paid\",\"existing paid\",\"critical/other existing credit\",\"critical/other existing credit\",\"delayed previously\",\"all paid\",\"existing paid\",\"existing paid\",\"existing paid\",\"existing paid\",\"critical/other existing credit\",\"critical/other existing credit\",\"delayed previously\",\"existing paid\",\"existing paid\",\"critical/other existing credit\",\"existing paid\",\"critical/other existing credit\",\"critical/other existing credit\",\"existing paid\",\"existing paid\",\"critical/other existing credit\",\"existing paid\",\"existing paid\",\"delayed previously\",\"critical/other existing credit\",\"critical/other existing credit\",\"existing paid\",\"existing paid\",\"critical/other existing credit\",\"all paid\",\"existing paid\",\"critical/other existing credit\",\"existing paid\",\"existing paid\",\"critical/other existing credit\",\"critical/other existing credit\",\"critical/other existing credit\",\"critical/other existing credit\",\"all paid\",\"critical/other existing credit\",\"critical/other existing credit\",\"critical/other existing credit\",\"critical/other existing credit\",\"critical/other existing credit\",\"delayed previously\",\"existing paid\",\"critical/other existing credit\",\"existing paid\",\"critical/other existing credit\",\"critical/other existing credit\",\"existing paid\",\"existing paid\",\"existing paid\",\"existing paid\",\"existing paid\",\"delayed previously\",\"existing paid\",\"delayed previously\",\"existing paid\",\"existing paid\",\"existing paid\",\"critical/other existing credit\",\"delayed previously\",\"existing paid\",\"critical/other existing credit\",\"existing paid\",\"delayed previously\",\"existing paid\",\"critical/other existing credit\",\"critical/other existing credit\",\"existing paid\",\"existing paid\",\"critical/other existing credit\",\"existing paid\",\"existing paid\",\"existing paid\",\"critical/other existing credit\",\"existing paid\",\"no credits/all paid\",\"existing paid\",\"critical/other existing credit\",\"existing paid\",\"critical/other existing credit\",\"critical/other existing credit\",\"critical/other existing credit\",\"existing paid\",\"critical/other existing credit\",\"delayed previously\",\"existing paid\",\"existing paid\",\"existing paid\",\"existing paid\",\"existing paid\",\"critical/other existing credit\",\"existing paid\",\"existing paid\",\"critical/other existing credit\",\"existing paid\",\"existing paid\",\"delayed previously\",\"existing paid\",\"critical/other existing credit\",\"critical/other existing credit\",\"no credits/all paid\",\"existing paid\",\"existing paid\",\"critical/other existing credit\",\"critical/other existing credit\",\"all paid\",\"existing paid\",\"existing paid\",\"existing paid\",\"existing paid\",\"existing paid\",\"existing paid\",\"critical/other existing credit\"],\"xaxis\":\"x\",\"yaxis\":\"y\",\"type\":\"histogram\"},{\"alignmentgroup\":\"True\",\"bingroup\":\"x\",\"hovertemplate\":\"risk=bad<br>credit_history=%{x}<br>count=%{y}<extra></extra>\",\"legendgroup\":\"bad\",\"marker\":{\"color\":\"#EF553B\",\"pattern\":{\"shape\":\"\"}},\"name\":\"bad\",\"offsetgroup\":\"bad\",\"orientation\":\"v\",\"showlegend\":true,\"x\":[\"existing paid\",\"delayed previously\",\"critical/other existing credit\",\"existing paid\",\"existing paid\",\"critical/other existing credit\",\"existing paid\",\"existing paid\",\"delayed previously\",\"critical/other existing credit\",\"existing paid\",\"critical/other existing credit\",\"delayed previously\",\"existing paid\",\"critical/other existing credit\",\"no credits/all paid\",\"no credits/all paid\",\"existing paid\",\"existing paid\",\"existing paid\",\"existing paid\",\"existing paid\",\"no credits/all paid\",\"critical/other existing credit\",\"no credits/all paid\",\"critical/other existing credit\",\"all paid\",\"critical/other existing credit\",\"existing paid\",\"critical/other existing credit\",\"existing paid\",\"existing paid\",\"existing paid\",\"critical/other existing credit\",\"delayed previously\",\"existing paid\",\"existing paid\",\"existing paid\",\"existing paid\",\"critical/other existing credit\",\"no credits/all paid\",\"delayed previously\",\"delayed previously\",\"all paid\",\"delayed previously\",\"delayed previously\",\"all paid\",\"critical/other existing credit\",\"all paid\",\"existing paid\",\"existing paid\",\"no credits/all paid\",\"existing paid\",\"existing paid\",\"critical/other existing credit\",\"existing paid\",\"delayed previously\",\"existing paid\",\"no credits/all paid\",\"delayed previously\",\"existing paid\",\"existing paid\",\"existing paid\",\"existing paid\",\"existing paid\",\"existing paid\",\"existing paid\",\"existing paid\",\"no credits/all paid\",\"existing paid\",\"existing paid\",\"all paid\",\"existing paid\",\"existing paid\",\"existing paid\",\"existing paid\",\"existing paid\",\"delayed previously\",\"existing paid\",\"existing paid\",\"no credits/all paid\",\"critical/other existing credit\",\"critical/other existing credit\",\"existing paid\",\"existing paid\",\"existing paid\",\"all paid\",\"critical/other existing credit\",\"existing paid\",\"critical/other existing credit\",\"existing paid\",\"critical/other existing credit\",\"no credits/all paid\",\"critical/other existing credit\",\"existing paid\",\"critical/other existing credit\",\"existing paid\",\"no credits/all paid\",\"existing paid\",\"delayed previously\",\"existing paid\",\"existing paid\",\"existing paid\",\"all paid\",\"all paid\",\"existing paid\",\"existing paid\",\"existing paid\",\"delayed previously\",\"existing paid\",\"critical/other existing credit\",\"critical/other existing credit\",\"existing paid\",\"existing paid\",\"existing paid\",\"existing paid\",\"critical/other existing credit\",\"existing paid\",\"existing paid\",\"all paid\",\"existing paid\",\"critical/other existing credit\",\"existing paid\",\"delayed previously\",\"existing paid\",\"existing paid\",\"delayed previously\",\"existing paid\",\"existing paid\",\"existing paid\",\"critical/other existing credit\",\"no credits/all paid\",\"delayed previously\",\"no credits/all paid\",\"existing paid\",\"existing paid\",\"existing paid\",\"critical/other existing credit\",\"existing paid\",\"existing paid\",\"all paid\",\"existing paid\",\"critical/other existing credit\",\"existing paid\",\"no credits/all paid\",\"existing paid\",\"existing paid\",\"critical/other existing credit\",\"existing paid\",\"existing paid\",\"existing paid\",\"existing paid\",\"delayed previously\",\"all paid\",\"existing paid\",\"existing paid\",\"no credits/all paid\",\"no credits/all paid\",\"all paid\",\"critical/other existing credit\",\"all paid\",\"existing paid\",\"existing paid\",\"existing paid\",\"existing paid\",\"critical/other existing credit\",\"critical/other existing credit\",\"existing paid\",\"existing paid\",\"existing paid\",\"critical/other existing credit\",\"existing paid\",\"all paid\",\"all paid\",\"existing paid\",\"no credits/all paid\",\"critical/other existing credit\",\"existing paid\",\"all paid\",\"existing paid\",\"existing paid\",\"existing paid\",\"existing paid\",\"delayed previously\",\"existing paid\",\"critical/other existing credit\",\"existing paid\",\"existing paid\",\"all paid\",\"all paid\",\"existing paid\",\"existing paid\",\"delayed previously\",\"existing paid\",\"existing paid\",\"delayed previously\",\"existing paid\",\"existing paid\",\"existing paid\",\"existing paid\",\"existing paid\",\"delayed previously\",\"existing paid\",\"existing paid\",\"critical/other existing credit\",\"delayed previously\",\"existing paid\",\"existing paid\",\"critical/other existing credit\",\"existing paid\",\"no credits/all paid\",\"all paid\",\"existing paid\",\"no credits/all paid\",\"all paid\",\"existing paid\",\"existing paid\",\"existing paid\",\"all paid\",\"existing paid\",\"existing paid\",\"no credits/all paid\",\"existing paid\",\"existing paid\",\"delayed previously\",\"existing paid\",\"critical/other existing credit\",\"critical/other existing credit\",\"critical/other existing credit\",\"critical/other existing credit\",\"existing paid\",\"critical/other existing credit\",\"existing paid\",\"critical/other existing credit\",\"existing paid\",\"delayed previously\",\"critical/other existing credit\",\"existing paid\",\"existing paid\",\"existing paid\",\"no credits/all paid\",\"critical/other existing credit\",\"existing paid\",\"existing paid\",\"existing paid\",\"existing paid\",\"critical/other existing credit\",\"no credits/all paid\",\"existing paid\",\"existing paid\",\"no credits/all paid\",\"existing paid\",\"no credits/all paid\",\"existing paid\",\"existing paid\",\"existing paid\",\"existing paid\",\"critical/other existing credit\",\"all paid\",\"existing paid\",\"delayed previously\",\"existing paid\",\"existing paid\",\"existing paid\",\"existing paid\",\"existing paid\",\"existing paid\",\"existing paid\",\"critical/other existing credit\",\"critical/other existing credit\",\"all paid\",\"no credits/all paid\",\"existing paid\",\"existing paid\",\"existing paid\",\"existing paid\",\"all paid\",\"all paid\",\"existing paid\",\"existing paid\",\"delayed previously\",\"existing paid\",\"existing paid\",\"all paid\",\"existing paid\",\"existing paid\",\"delayed previously\",\"existing paid\",\"existing paid\",\"existing paid\",\"existing paid\",\"critical/other existing credit\",\"all paid\",\"existing paid\",\"delayed previously\",\"all paid\",\"critical/other existing credit\",\"existing paid\",\"existing paid\",\"existing paid\"],\"xaxis\":\"x\",\"yaxis\":\"y\",\"type\":\"histogram\"}],                        {\"template\":{\"data\":{\"bar\":[{\"error_x\":{\"color\":\"#2a3f5f\"},\"error_y\":{\"color\":\"#2a3f5f\"},\"marker\":{\"line\":{\"color\":\"#E5ECF6\",\"width\":0.5},\"pattern\":{\"fillmode\":\"overlay\",\"size\":10,\"solidity\":0.2}},\"type\":\"bar\"}],\"barpolar\":[{\"marker\":{\"line\":{\"color\":\"#E5ECF6\",\"width\":0.5},\"pattern\":{\"fillmode\":\"overlay\",\"size\":10,\"solidity\":0.2}},\"type\":\"barpolar\"}],\"carpet\":[{\"aaxis\":{\"endlinecolor\":\"#2a3f5f\",\"gridcolor\":\"white\",\"linecolor\":\"white\",\"minorgridcolor\":\"white\",\"startlinecolor\":\"#2a3f5f\"},\"baxis\":{\"endlinecolor\":\"#2a3f5f\",\"gridcolor\":\"white\",\"linecolor\":\"white\",\"minorgridcolor\":\"white\",\"startlinecolor\":\"#2a3f5f\"},\"type\":\"carpet\"}],\"choropleth\":[{\"colorbar\":{\"outlinewidth\":0,\"ticks\":\"\"},\"type\":\"choropleth\"}],\"contour\":[{\"colorbar\":{\"outlinewidth\":0,\"ticks\":\"\"},\"colorscale\":[[0.0,\"#0d0887\"],[0.1111111111111111,\"#46039f\"],[0.2222222222222222,\"#7201a8\"],[0.3333333333333333,\"#9c179e\"],[0.4444444444444444,\"#bd3786\"],[0.5555555555555556,\"#d8576b\"],[0.6666666666666666,\"#ed7953\"],[0.7777777777777778,\"#fb9f3a\"],[0.8888888888888888,\"#fdca26\"],[1.0,\"#f0f921\"]],\"type\":\"contour\"}],\"contourcarpet\":[{\"colorbar\":{\"outlinewidth\":0,\"ticks\":\"\"},\"type\":\"contourcarpet\"}],\"heatmap\":[{\"colorbar\":{\"outlinewidth\":0,\"ticks\":\"\"},\"colorscale\":[[0.0,\"#0d0887\"],[0.1111111111111111,\"#46039f\"],[0.2222222222222222,\"#7201a8\"],[0.3333333333333333,\"#9c179e\"],[0.4444444444444444,\"#bd3786\"],[0.5555555555555556,\"#d8576b\"],[0.6666666666666666,\"#ed7953\"],[0.7777777777777778,\"#fb9f3a\"],[0.8888888888888888,\"#fdca26\"],[1.0,\"#f0f921\"]],\"type\":\"heatmap\"}],\"heatmapgl\":[{\"colorbar\":{\"outlinewidth\":0,\"ticks\":\"\"},\"colorscale\":[[0.0,\"#0d0887\"],[0.1111111111111111,\"#46039f\"],[0.2222222222222222,\"#7201a8\"],[0.3333333333333333,\"#9c179e\"],[0.4444444444444444,\"#bd3786\"],[0.5555555555555556,\"#d8576b\"],[0.6666666666666666,\"#ed7953\"],[0.7777777777777778,\"#fb9f3a\"],[0.8888888888888888,\"#fdca26\"],[1.0,\"#f0f921\"]],\"type\":\"heatmapgl\"}],\"histogram\":[{\"marker\":{\"pattern\":{\"fillmode\":\"overlay\",\"size\":10,\"solidity\":0.2}},\"type\":\"histogram\"}],\"histogram2d\":[{\"colorbar\":{\"outlinewidth\":0,\"ticks\":\"\"},\"colorscale\":[[0.0,\"#0d0887\"],[0.1111111111111111,\"#46039f\"],[0.2222222222222222,\"#7201a8\"],[0.3333333333333333,\"#9c179e\"],[0.4444444444444444,\"#bd3786\"],[0.5555555555555556,\"#d8576b\"],[0.6666666666666666,\"#ed7953\"],[0.7777777777777778,\"#fb9f3a\"],[0.8888888888888888,\"#fdca26\"],[1.0,\"#f0f921\"]],\"type\":\"histogram2d\"}],\"histogram2dcontour\":[{\"colorbar\":{\"outlinewidth\":0,\"ticks\":\"\"},\"colorscale\":[[0.0,\"#0d0887\"],[0.1111111111111111,\"#46039f\"],[0.2222222222222222,\"#7201a8\"],[0.3333333333333333,\"#9c179e\"],[0.4444444444444444,\"#bd3786\"],[0.5555555555555556,\"#d8576b\"],[0.6666666666666666,\"#ed7953\"],[0.7777777777777778,\"#fb9f3a\"],[0.8888888888888888,\"#fdca26\"],[1.0,\"#f0f921\"]],\"type\":\"histogram2dcontour\"}],\"mesh3d\":[{\"colorbar\":{\"outlinewidth\":0,\"ticks\":\"\"},\"type\":\"mesh3d\"}],\"parcoords\":[{\"line\":{\"colorbar\":{\"outlinewidth\":0,\"ticks\":\"\"}},\"type\":\"parcoords\"}],\"pie\":[{\"automargin\":true,\"type\":\"pie\"}],\"scatter\":[{\"marker\":{\"colorbar\":{\"outlinewidth\":0,\"ticks\":\"\"}},\"type\":\"scatter\"}],\"scatter3d\":[{\"line\":{\"colorbar\":{\"outlinewidth\":0,\"ticks\":\"\"}},\"marker\":{\"colorbar\":{\"outlinewidth\":0,\"ticks\":\"\"}},\"type\":\"scatter3d\"}],\"scattercarpet\":[{\"marker\":{\"colorbar\":{\"outlinewidth\":0,\"ticks\":\"\"}},\"type\":\"scattercarpet\"}],\"scattergeo\":[{\"marker\":{\"colorbar\":{\"outlinewidth\":0,\"ticks\":\"\"}},\"type\":\"scattergeo\"}],\"scattergl\":[{\"marker\":{\"colorbar\":{\"outlinewidth\":0,\"ticks\":\"\"}},\"type\":\"scattergl\"}],\"scattermapbox\":[{\"marker\":{\"colorbar\":{\"outlinewidth\":0,\"ticks\":\"\"}},\"type\":\"scattermapbox\"}],\"scatterpolar\":[{\"marker\":{\"colorbar\":{\"outlinewidth\":0,\"ticks\":\"\"}},\"type\":\"scatterpolar\"}],\"scatterpolargl\":[{\"marker\":{\"colorbar\":{\"outlinewidth\":0,\"ticks\":\"\"}},\"type\":\"scatterpolargl\"}],\"scatterternary\":[{\"marker\":{\"colorbar\":{\"outlinewidth\":0,\"ticks\":\"\"}},\"type\":\"scatterternary\"}],\"surface\":[{\"colorbar\":{\"outlinewidth\":0,\"ticks\":\"\"},\"colorscale\":[[0.0,\"#0d0887\"],[0.1111111111111111,\"#46039f\"],[0.2222222222222222,\"#7201a8\"],[0.3333333333333333,\"#9c179e\"],[0.4444444444444444,\"#bd3786\"],[0.5555555555555556,\"#d8576b\"],[0.6666666666666666,\"#ed7953\"],[0.7777777777777778,\"#fb9f3a\"],[0.8888888888888888,\"#fdca26\"],[1.0,\"#f0f921\"]],\"type\":\"surface\"}],\"table\":[{\"cells\":{\"fill\":{\"color\":\"#EBF0F8\"},\"line\":{\"color\":\"white\"}},\"header\":{\"fill\":{\"color\":\"#C8D4E3\"},\"line\":{\"color\":\"white\"}},\"type\":\"table\"}]},\"layout\":{\"annotationdefaults\":{\"arrowcolor\":\"#2a3f5f\",\"arrowhead\":0,\"arrowwidth\":1},\"autotypenumbers\":\"strict\",\"coloraxis\":{\"colorbar\":{\"outlinewidth\":0,\"ticks\":\"\"}},\"colorscale\":{\"diverging\":[[0,\"#8e0152\"],[0.1,\"#c51b7d\"],[0.2,\"#de77ae\"],[0.3,\"#f1b6da\"],[0.4,\"#fde0ef\"],[0.5,\"#f7f7f7\"],[0.6,\"#e6f5d0\"],[0.7,\"#b8e186\"],[0.8,\"#7fbc41\"],[0.9,\"#4d9221\"],[1,\"#276419\"]],\"sequential\":[[0.0,\"#0d0887\"],[0.1111111111111111,\"#46039f\"],[0.2222222222222222,\"#7201a8\"],[0.3333333333333333,\"#9c179e\"],[0.4444444444444444,\"#bd3786\"],[0.5555555555555556,\"#d8576b\"],[0.6666666666666666,\"#ed7953\"],[0.7777777777777778,\"#fb9f3a\"],[0.8888888888888888,\"#fdca26\"],[1.0,\"#f0f921\"]],\"sequentialminus\":[[0.0,\"#0d0887\"],[0.1111111111111111,\"#46039f\"],[0.2222222222222222,\"#7201a8\"],[0.3333333333333333,\"#9c179e\"],[0.4444444444444444,\"#bd3786\"],[0.5555555555555556,\"#d8576b\"],[0.6666666666666666,\"#ed7953\"],[0.7777777777777778,\"#fb9f3a\"],[0.8888888888888888,\"#fdca26\"],[1.0,\"#f0f921\"]]},\"colorway\":[\"#636efa\",\"#EF553B\",\"#00cc96\",\"#ab63fa\",\"#FFA15A\",\"#19d3f3\",\"#FF6692\",\"#B6E880\",\"#FF97FF\",\"#FECB52\"],\"font\":{\"color\":\"#2a3f5f\"},\"geo\":{\"bgcolor\":\"white\",\"lakecolor\":\"white\",\"landcolor\":\"#E5ECF6\",\"showlakes\":true,\"showland\":true,\"subunitcolor\":\"white\"},\"hoverlabel\":{\"align\":\"left\"},\"hovermode\":\"closest\",\"mapbox\":{\"style\":\"light\"},\"paper_bgcolor\":\"white\",\"plot_bgcolor\":\"#E5ECF6\",\"polar\":{\"angularaxis\":{\"gridcolor\":\"white\",\"linecolor\":\"white\",\"ticks\":\"\"},\"bgcolor\":\"#E5ECF6\",\"radialaxis\":{\"gridcolor\":\"white\",\"linecolor\":\"white\",\"ticks\":\"\"}},\"scene\":{\"xaxis\":{\"backgroundcolor\":\"#E5ECF6\",\"gridcolor\":\"white\",\"gridwidth\":2,\"linecolor\":\"white\",\"showbackground\":true,\"ticks\":\"\",\"zerolinecolor\":\"white\"},\"yaxis\":{\"backgroundcolor\":\"#E5ECF6\",\"gridcolor\":\"white\",\"gridwidth\":2,\"linecolor\":\"white\",\"showbackground\":true,\"ticks\":\"\",\"zerolinecolor\":\"white\"},\"zaxis\":{\"backgroundcolor\":\"#E5ECF6\",\"gridcolor\":\"white\",\"gridwidth\":2,\"linecolor\":\"white\",\"showbackground\":true,\"ticks\":\"\",\"zerolinecolor\":\"white\"}},\"shapedefaults\":{\"line\":{\"color\":\"#2a3f5f\"}},\"ternary\":{\"aaxis\":{\"gridcolor\":\"white\",\"linecolor\":\"white\",\"ticks\":\"\"},\"baxis\":{\"gridcolor\":\"white\",\"linecolor\":\"white\",\"ticks\":\"\"},\"bgcolor\":\"#E5ECF6\",\"caxis\":{\"gridcolor\":\"white\",\"linecolor\":\"white\",\"ticks\":\"\"}},\"title\":{\"x\":0.05},\"xaxis\":{\"automargin\":true,\"gridcolor\":\"white\",\"linecolor\":\"white\",\"ticks\":\"\",\"title\":{\"standoff\":15},\"zerolinecolor\":\"white\",\"zerolinewidth\":2},\"yaxis\":{\"automargin\":true,\"gridcolor\":\"white\",\"linecolor\":\"white\",\"ticks\":\"\",\"title\":{\"standoff\":15},\"zerolinecolor\":\"white\",\"zerolinewidth\":2}}},\"xaxis\":{\"anchor\":\"y\",\"domain\":[0.0,1.0],\"title\":{\"text\":\"credit_history\"}},\"yaxis\":{\"anchor\":\"x\",\"domain\":[0.0,1.0],\"title\":{\"text\":\"count\"}},\"legend\":{\"title\":{\"text\":\"risk\"},\"tracegroupgap\":0},\"margin\":{\"t\":60},\"barmode\":\"relative\"},                        {\"responsive\": true}                    ).then(function(){\n",
              "                            \n",
              "var gd = document.getElementById('c080719b-51c0-4a50-829c-fb957f897493');\n",
              "var x = new MutationObserver(function (mutations, observer) {{\n",
              "        var display = window.getComputedStyle(gd).display;\n",
              "        if (!display || display === 'none') {{\n",
              "            console.log([gd, 'removed!']);\n",
              "            Plotly.purge(gd);\n",
              "            observer.disconnect();\n",
              "        }}\n",
              "}});\n",
              "\n",
              "// Listen for the removal of the full notebook cells\n",
              "var notebookContainer = gd.closest('#notebook-container');\n",
              "if (notebookContainer) {{\n",
              "    x.observe(notebookContainer, {childList: true});\n",
              "}}\n",
              "\n",
              "// Listen for the clearing of the current output cell\n",
              "var outputEl = gd.closest('.output');\n",
              "if (outputEl) {{\n",
              "    x.observe(outputEl, {childList: true});\n",
              "}}\n",
              "\n",
              "                        })                };                            </script>        </div>\n",
              "</body>\n",
              "</html>"
            ]
          },
          "metadata": {}
        },
        {
          "output_type": "display_data",
          "data": {
            "text/html": [
              "<html>\n",
              "<head><meta charset=\"utf-8\" /></head>\n",
              "<body>\n",
              "    <div>            <script src=\"https://cdnjs.cloudflare.com/ajax/libs/mathjax/2.7.5/MathJax.js?config=TeX-AMS-MML_SVG\"></script><script type=\"text/javascript\">if (window.MathJax) {MathJax.Hub.Config({SVG: {font: \"STIX-Web\"}});}</script>                <script type=\"text/javascript\">window.PlotlyConfig = {MathJaxConfig: 'local'};</script>\n",
              "        <script src=\"https://cdn.plot.ly/plotly-2.8.3.min.js\"></script>                <div id=\"fddb0775-2f44-4170-8b5e-85645840a32f\" class=\"plotly-graph-div\" style=\"height:525px; width:100%;\"></div>            <script type=\"text/javascript\">                                    window.PLOTLYENV=window.PLOTLYENV || {};                                    if (document.getElementById(\"fddb0775-2f44-4170-8b5e-85645840a32f\")) {                    Plotly.newPlot(                        \"fddb0775-2f44-4170-8b5e-85645840a32f\",                        [{\"alignmentgroup\":\"True\",\"bingroup\":\"x\",\"hovertemplate\":\"risk=good<br>purpose=%{x}<br>count=%{y}<extra></extra>\",\"legendgroup\":\"good\",\"marker\":{\"color\":\"#636efa\",\"pattern\":{\"shape\":\"\"}},\"name\":\"good\",\"offsetgroup\":\"good\",\"orientation\":\"v\",\"showlegend\":true,\"x\":[\"radio/tv\",\"education\",\"furniture/equipment\",\"education\",\"furniture/equipment\",\"used car\",\"radio/tv\",\"radio/tv\",\"new car\",\"radio/tv\",\"business\",\"radio/tv\",\"new car\",\"radio/tv\",\"new car\",\"used car\",\"furniture/equipment\",\"furniture/equipment\",\"radio/tv\",\"radio/tv\",\"radio/tv\",\"business\",\"furniture/equipment\",\"new car\",\"business\",\"furniture/equipment\",\"education\",\"domestic appliance\",\"radio/tv\",\"radio/tv\",\"radio/tv\",\"repairs\",\"used car\",\"new car\",\"radio/tv\",\"used car\",\"new car\",\"radio/tv\",\"furniture/equipment\",\"used car\",\"radio/tv\",\"used car\",\"new car\",\"radio/tv\",\"new car\",\"business\",\"radio/tv\",\"radio/tv\",\"repairs\",\"radio/tv\",\"new car\",\"radio/tv\",\"used car\",\"radio/tv\",\"other\",\"business\",\"used car\",\"radio/tv\",\"used car\",\"furniture/equipment\",\"radio/tv\",\"business\",\"other\",\"radio/tv\",\"business\",\"furniture/equipment\",\"new car\",\"radio/tv\",\"used car\",\"furniture/equipment\",\"new car\",\"education\",\"business\",\"radio/tv\",\"used car\",\"new car\",\"radio/tv\",\"radio/tv\",\"furniture/equipment\",\"used car\",\"new car\",\"furniture/equipment\",\"business\",\"business\",\"education\",\"new car\",\"radio/tv\",\"radio/tv\",\"furniture/equipment\",\"new car\",\"used car\",\"furniture/equipment\",\"new car\",\"new car\",\"radio/tv\",\"used car\",\"new car\",\"furniture/equipment\",\"furniture/equipment\",\"radio/tv\",\"radio/tv\",\"used car\",\"radio/tv\",\"radio/tv\",\"new car\",\"radio/tv\",\"radio/tv\",\"furniture/equipment\",\"business\",\"new car\",\"new car\",\"furniture/equipment\",\"radio/tv\",\"radio/tv\",\"radio/tv\",\"radio/tv\",\"used car\",\"business\",\"repairs\",\"retraining\",\"new car\",\"radio/tv\",\"radio/tv\",\"new car\",\"domestic appliance\",\"new car\",\"new car\",\"furniture/equipment\",\"furniture/equipment\",\"furniture/equipment\",\"furniture/equipment\",\"radio/tv\",\"furniture/equipment\",\"radio/tv\",\"radio/tv\",\"new car\",\"furniture/equipment\",\"radio/tv\",\"new car\",\"furniture/equipment\",\"radio/tv\",\"radio/tv\",\"used car\",\"education\",\"new car\",\"business\",\"new car\",\"used car\",\"furniture/equipment\",\"domestic appliance\",\"business\",\"used car\",\"radio/tv\",\"radio/tv\",\"radio/tv\",\"retraining\",\"business\",\"radio/tv\",\"furniture/equipment\",\"new car\",\"radio/tv\",\"education\",\"radio/tv\",\"business\",\"used car\",\"repairs\",\"furniture/equipment\",\"new car\",\"radio/tv\",\"radio/tv\",\"radio/tv\",\"radio/tv\",\"radio/tv\",\"radio/tv\",\"business\",\"retraining\",\"business\",\"radio/tv\",\"new car\",\"furniture/equipment\",\"new car\",\"furniture/equipment\",\"furniture/equipment\",\"furniture/equipment\",\"radio/tv\",\"radio/tv\",\"used car\",\"radio/tv\",\"furniture/equipment\",\"radio/tv\",\"new car\",\"education\",\"new car\",\"business\",\"radio/tv\",\"radio/tv\",\"new car\",\"furniture/equipment\",\"new car\",\"radio/tv\",\"radio/tv\",\"furniture/equipment\",\"radio/tv\",\"used car\",\"furniture/equipment\",\"radio/tv\",\"furniture/equipment\",\"new car\",\"new car\",\"used car\",\"other\",\"radio/tv\",\"business\",\"used car\",\"used car\",\"business\",\"used car\",\"new car\",\"furniture/equipment\",\"furniture/equipment\",\"new car\",\"new car\",\"furniture/equipment\",\"used car\",\"new car\",\"other\",\"furniture/equipment\",\"furniture/equipment\",\"new car\",\"furniture/equipment\",\"furniture/equipment\",\"education\",\"furniture/equipment\",\"used car\",\"furniture/equipment\",\"new car\",\"new car\",\"furniture/equipment\",\"new car\",\"radio/tv\",\"radio/tv\",\"used car\",\"radio/tv\",\"furniture/equipment\",\"furniture/equipment\",\"education\",\"furniture/equipment\",\"radio/tv\",\"business\",\"new car\",\"radio/tv\",\"radio/tv\",\"radio/tv\",\"business\",\"domestic appliance\",\"used car\",\"education\",\"radio/tv\",\"radio/tv\",\"education\",\"radio/tv\",\"new car\",\"furniture/equipment\",\"business\",\"used car\",\"furniture/equipment\",\"furniture/equipment\",\"new car\",\"radio/tv\",\"furniture/equipment\",\"new car\",\"radio/tv\",\"radio/tv\",\"new car\",\"furniture/equipment\",\"new car\",\"new car\",\"business\",\"radio/tv\",\"radio/tv\",\"furniture/equipment\",\"business\",\"business\",\"new car\",\"furniture/equipment\",\"new car\",\"radio/tv\",\"furniture/equipment\",\"education\",\"furniture/equipment\",\"furniture/equipment\",\"radio/tv\",\"radio/tv\",\"business\",\"new car\",\"new car\",\"used car\",\"radio/tv\",\"radio/tv\",\"radio/tv\",\"used car\",\"new car\",\"used car\",\"education\",\"new car\",\"new car\",\"used car\",\"new car\",\"furniture/equipment\",\"used car\",\"radio/tv\",\"radio/tv\",\"furniture/equipment\",\"business\",\"furniture/equipment\",\"repairs\",\"furniture/equipment\",\"repairs\",\"new car\",\"repairs\",\"new car\",\"furniture/equipment\",\"other\",\"education\",\"radio/tv\",\"furniture/equipment\",\"used car\",\"radio/tv\",\"furniture/equipment\",\"used car\",\"used car\",\"new car\",\"domestic appliance\",\"radio/tv\",\"furniture/equipment\",\"new car\",\"furniture/equipment\",\"retraining\",\"business\",\"used car\",\"radio/tv\",\"business\",\"used car\",\"retraining\",\"used car\",\"radio/tv\",\"business\",\"furniture/equipment\",\"radio/tv\",\"new car\",\"furniture/equipment\",\"furniture/equipment\",\"new car\",\"radio/tv\",\"new car\",\"new car\",\"new car\",\"radio/tv\",\"radio/tv\",\"radio/tv\",\"new car\",\"furniture/equipment\",\"radio/tv\",\"new car\",\"used car\",\"radio/tv\",\"used car\",\"radio/tv\",\"used car\",\"used car\",\"business\",\"radio/tv\",\"new car\",\"new car\",\"new car\",\"new car\",\"radio/tv\",\"repairs\",\"used car\",\"radio/tv\",\"used car\",\"education\",\"radio/tv\",\"new car\",\"education\",\"used car\",\"radio/tv\",\"radio/tv\",\"new car\",\"furniture/equipment\",\"furniture/equipment\",\"new car\",\"new car\",\"new car\",\"radio/tv\",\"used car\",\"repairs\",\"radio/tv\",\"new car\",\"education\",\"used car\",\"radio/tv\",\"business\",\"radio/tv\",\"radio/tv\",\"radio/tv\",\"radio/tv\",\"used car\",\"business\",\"radio/tv\",\"furniture/equipment\",\"radio/tv\",\"education\",\"retraining\",\"new car\",\"furniture/equipment\",\"new car\",\"new car\",\"furniture/equipment\",\"radio/tv\",\"new car\",\"business\",\"business\",\"radio/tv\",\"furniture/equipment\",\"furniture/equipment\",\"business\",\"radio/tv\",\"used car\",\"radio/tv\",\"used car\",\"business\",\"radio/tv\",\"new car\",\"new car\",\"business\",\"furniture/equipment\",\"radio/tv\",\"furniture/equipment\",\"furniture/equipment\",\"education\",\"radio/tv\",\"radio/tv\",\"education\",\"radio/tv\",\"radio/tv\",\"radio/tv\",\"repairs\",\"radio/tv\",\"radio/tv\",\"furniture/equipment\",\"education\",\"used car\",\"new car\",\"radio/tv\",\"business\",\"furniture/equipment\",\"radio/tv\",\"furniture/equipment\",\"furniture/equipment\",\"education\",\"other\",\"furniture/equipment\",\"business\",\"radio/tv\",\"business\",\"business\",\"new car\",\"new car\",\"radio/tv\",\"furniture/equipment\",\"radio/tv\",\"radio/tv\",\"education\",\"radio/tv\",\"radio/tv\",\"radio/tv\",\"business\",\"new car\",\"radio/tv\",\"new car\",\"radio/tv\",\"new car\",\"furniture/equipment\",\"repairs\",\"radio/tv\",\"new car\",\"radio/tv\",\"used car\",\"radio/tv\",\"new car\",\"radio/tv\",\"education\",\"radio/tv\",\"business\",\"business\",\"new car\",\"radio/tv\",\"radio/tv\",\"radio/tv\",\"used car\",\"radio/tv\",\"used car\",\"radio/tv\",\"radio/tv\",\"radio/tv\",\"used car\",\"radio/tv\",\"new car\",\"radio/tv\",\"business\",\"radio/tv\",\"radio/tv\",\"used car\",\"new car\",\"domestic appliance\",\"new car\",\"new car\",\"new car\",\"radio/tv\",\"radio/tv\",\"furniture/equipment\",\"furniture/equipment\",\"business\",\"new car\",\"used car\",\"used car\",\"furniture/equipment\",\"business\",\"radio/tv\",\"new car\",\"new car\",\"new car\",\"radio/tv\",\"new car\",\"radio/tv\",\"used car\",\"furniture/equipment\",\"radio/tv\",\"used car\",\"used car\",\"radio/tv\",\"new car\",\"new car\",\"radio/tv\",\"used car\",\"repairs\",\"new car\",\"retraining\",\"used car\",\"business\",\"radio/tv\",\"used car\",\"used car\",\"furniture/equipment\",\"furniture/equipment\",\"furniture/equipment\",\"furniture/equipment\",\"furniture/equipment\",\"new car\",\"new car\",\"education\",\"radio/tv\",\"furniture/equipment\",\"radio/tv\",\"new car\",\"radio/tv\",\"radio/tv\",\"used car\",\"business\",\"radio/tv\",\"new car\",\"domestic appliance\",\"radio/tv\",\"other\",\"new car\",\"radio/tv\",\"new car\",\"furniture/equipment\",\"new car\",\"business\",\"business\",\"radio/tv\",\"radio/tv\",\"furniture/equipment\",\"used car\",\"radio/tv\",\"used car\",\"business\",\"furniture/equipment\",\"furniture/equipment\",\"new car\",\"radio/tv\",\"used car\",\"radio/tv\",\"new car\",\"new car\",\"retraining\",\"furniture/equipment\",\"new car\",\"used car\",\"furniture/equipment\",\"furniture/equipment\",\"radio/tv\",\"furniture/equipment\",\"business\",\"furniture/equipment\",\"furniture/equipment\",\"new car\",\"business\",\"domestic appliance\",\"furniture/equipment\",\"new car\",\"radio/tv\",\"radio/tv\",\"radio/tv\",\"used car\",\"used car\",\"new car\",\"radio/tv\",\"business\",\"new car\",\"used car\",\"business\",\"radio/tv\",\"new car\",\"used car\",\"radio/tv\",\"used car\",\"radio/tv\",\"furniture/equipment\",\"furniture/equipment\",\"new car\",\"used car\",\"radio/tv\",\"radio/tv\",\"radio/tv\",\"new car\",\"education\",\"used car\",\"new car\",\"radio/tv\",\"radio/tv\",\"business\",\"used car\",\"furniture/equipment\",\"radio/tv\",\"new car\",\"furniture/equipment\",\"radio/tv\",\"new car\",\"furniture/equipment\",\"new car\",\"radio/tv\",\"radio/tv\",\"radio/tv\",\"used car\",\"new car\",\"new car\",\"furniture/equipment\",\"new car\",\"furniture/equipment\",\"new car\",\"new car\",\"business\",\"new car\",\"radio/tv\",\"radio/tv\",\"radio/tv\",\"furniture/equipment\",\"radio/tv\",\"new car\",\"new car\",\"repairs\",\"radio/tv\",\"radio/tv\",\"radio/tv\",\"new car\",\"repairs\",\"new car\",\"radio/tv\",\"radio/tv\",\"radio/tv\",\"business\",\"new car\",\"furniture/equipment\",\"furniture/equipment\",\"business\",\"radio/tv\",\"used car\",\"radio/tv\",\"education\",\"radio/tv\",\"radio/tv\",\"furniture/equipment\",\"new car\",\"furniture/equipment\",\"used car\",\"radio/tv\",\"used car\"],\"xaxis\":\"x\",\"yaxis\":\"y\",\"type\":\"histogram\"},{\"alignmentgroup\":\"True\",\"bingroup\":\"x\",\"hovertemplate\":\"risk=bad<br>purpose=%{x}<br>count=%{y}<extra></extra>\",\"legendgroup\":\"bad\",\"marker\":{\"color\":\"#EF553B\",\"pattern\":{\"shape\":\"\"}},\"name\":\"bad\",\"offsetgroup\":\"bad\",\"orientation\":\"v\",\"showlegend\":true,\"x\":[\"radio/tv\",\"new car\",\"new car\",\"new car\",\"business\",\"new car\",\"radio/tv\",\"used car\",\"business\",\"radio/tv\",\"radio/tv\",\"used car\",\"new car\",\"radio/tv\",\"furniture/equipment\",\"business\",\"business\",\"education\",\"education\",\"radio/tv\",\"radio/tv\",\"education\",\"repairs\",\"radio/tv\",\"business\",\"other\",\"new car\",\"new car\",\"radio/tv\",\"furniture/equipment\",\"radio/tv\",\"furniture/equipment\",\"repairs\",\"new car\",\"education\",\"radio/tv\",\"furniture/equipment\",\"furniture/equipment\",\"furniture/equipment\",\"business\",\"new car\",\"furniture/equipment\",\"education\",\"used car\",\"business\",\"business\",\"new car\",\"new car\",\"used car\",\"radio/tv\",\"business\",\"business\",\"business\",\"radio/tv\",\"education\",\"furniture/equipment\",\"furniture/equipment\",\"retraining\",\"business\",\"business\",\"radio/tv\",\"furniture/equipment\",\"radio/tv\",\"radio/tv\",\"radio/tv\",\"new car\",\"business\",\"new car\",\"used car\",\"radio/tv\",\"new car\",\"radio/tv\",\"radio/tv\",\"new car\",\"radio/tv\",\"repairs\",\"furniture/equipment\",\"radio/tv\",\"used car\",\"furniture/equipment\",\"radio/tv\",\"new car\",\"new car\",\"radio/tv\",\"furniture/equipment\",\"new car\",\"furniture/equipment\",\"new car\",\"radio/tv\",\"education\",\"new car\",\"used car\",\"furniture/equipment\",\"furniture/equipment\",\"domestic appliance\",\"education\",\"furniture/equipment\",\"radio/tv\",\"new car\",\"radio/tv\",\"furniture/equipment\",\"furniture/equipment\",\"furniture/equipment\",\"other\",\"business\",\"new car\",\"used car\",\"new car\",\"business\",\"radio/tv\",\"new car\",\"business\",\"new car\",\"new car\",\"new car\",\"furniture/equipment\",\"repairs\",\"other\",\"radio/tv\",\"business\",\"education\",\"furniture/equipment\",\"new car\",\"repairs\",\"new car\",\"used car\",\"radio/tv\",\"radio/tv\",\"education\",\"new car\",\"radio/tv\",\"furniture/equipment\",\"new car\",\"business\",\"furniture/equipment\",\"furniture/equipment\",\"new car\",\"radio/tv\",\"new car\",\"new car\",\"new car\",\"new car\",\"furniture/equipment\",\"radio/tv\",\"furniture/equipment\",\"radio/tv\",\"new car\",\"education\",\"new car\",\"radio/tv\",\"furniture/equipment\",\"furniture/equipment\",\"new car\",\"radio/tv\",\"radio/tv\",\"radio/tv\",\"new car\",\"new car\",\"furniture/equipment\",\"furniture/equipment\",\"radio/tv\",\"new car\",\"new car\",\"radio/tv\",\"furniture/equipment\",\"new car\",\"new car\",\"repairs\",\"furniture/equipment\",\"domestic appliance\",\"furniture/equipment\",\"new car\",\"other\",\"new car\",\"new car\",\"business\",\"new car\",\"furniture/equipment\",\"education\",\"furniture/equipment\",\"radio/tv\",\"domestic appliance\",\"new car\",\"furniture/equipment\",\"furniture/equipment\",\"new car\",\"business\",\"radio/tv\",\"new car\",\"furniture/equipment\",\"furniture/equipment\",\"new car\",\"radio/tv\",\"education\",\"education\",\"business\",\"new car\",\"new car\",\"education\",\"furniture/equipment\",\"new car\",\"new car\",\"new car\",\"new car\",\"new car\",\"business\",\"radio/tv\",\"furniture/equipment\",\"used car\",\"new car\",\"furniture/equipment\",\"education\",\"new car\",\"radio/tv\",\"education\",\"new car\",\"new car\",\"radio/tv\",\"business\",\"radio/tv\",\"used car\",\"business\",\"new car\",\"new car\",\"repairs\",\"new car\",\"radio/tv\",\"new car\",\"furniture/equipment\",\"new car\",\"furniture/equipment\",\"education\",\"new car\",\"radio/tv\",\"new car\",\"education\",\"education\",\"business\",\"used car\",\"new car\",\"new car\",\"used car\",\"domestic appliance\",\"new car\",\"radio/tv\",\"furniture/equipment\",\"new car\",\"business\",\"used car\",\"new car\",\"business\",\"radio/tv\",\"new car\",\"furniture/equipment\",\"repairs\",\"new car\",\"radio/tv\",\"new car\",\"new car\",\"new car\",\"business\",\"radio/tv\",\"furniture/equipment\",\"new car\",\"furniture/equipment\",\"education\",\"business\",\"furniture/equipment\",\"new car\",\"furniture/equipment\",\"business\",\"other\",\"new car\",\"furniture/equipment\",\"furniture/equipment\",\"radio/tv\",\"furniture/equipment\",\"new car\",\"used car\",\"radio/tv\",\"radio/tv\",\"radio/tv\",\"education\",\"furniture/equipment\",\"furniture/equipment\",\"radio/tv\",\"business\",\"used car\",\"furniture/equipment\",\"new car\",\"radio/tv\",\"radio/tv\",\"new car\",\"business\",\"new car\",\"new car\",\"furniture/equipment\",\"business\",\"used car\",\"radio/tv\"],\"xaxis\":\"x\",\"yaxis\":\"y\",\"type\":\"histogram\"}],                        {\"template\":{\"data\":{\"bar\":[{\"error_x\":{\"color\":\"#2a3f5f\"},\"error_y\":{\"color\":\"#2a3f5f\"},\"marker\":{\"line\":{\"color\":\"#E5ECF6\",\"width\":0.5},\"pattern\":{\"fillmode\":\"overlay\",\"size\":10,\"solidity\":0.2}},\"type\":\"bar\"}],\"barpolar\":[{\"marker\":{\"line\":{\"color\":\"#E5ECF6\",\"width\":0.5},\"pattern\":{\"fillmode\":\"overlay\",\"size\":10,\"solidity\":0.2}},\"type\":\"barpolar\"}],\"carpet\":[{\"aaxis\":{\"endlinecolor\":\"#2a3f5f\",\"gridcolor\":\"white\",\"linecolor\":\"white\",\"minorgridcolor\":\"white\",\"startlinecolor\":\"#2a3f5f\"},\"baxis\":{\"endlinecolor\":\"#2a3f5f\",\"gridcolor\":\"white\",\"linecolor\":\"white\",\"minorgridcolor\":\"white\",\"startlinecolor\":\"#2a3f5f\"},\"type\":\"carpet\"}],\"choropleth\":[{\"colorbar\":{\"outlinewidth\":0,\"ticks\":\"\"},\"type\":\"choropleth\"}],\"contour\":[{\"colorbar\":{\"outlinewidth\":0,\"ticks\":\"\"},\"colorscale\":[[0.0,\"#0d0887\"],[0.1111111111111111,\"#46039f\"],[0.2222222222222222,\"#7201a8\"],[0.3333333333333333,\"#9c179e\"],[0.4444444444444444,\"#bd3786\"],[0.5555555555555556,\"#d8576b\"],[0.6666666666666666,\"#ed7953\"],[0.7777777777777778,\"#fb9f3a\"],[0.8888888888888888,\"#fdca26\"],[1.0,\"#f0f921\"]],\"type\":\"contour\"}],\"contourcarpet\":[{\"colorbar\":{\"outlinewidth\":0,\"ticks\":\"\"},\"type\":\"contourcarpet\"}],\"heatmap\":[{\"colorbar\":{\"outlinewidth\":0,\"ticks\":\"\"},\"colorscale\":[[0.0,\"#0d0887\"],[0.1111111111111111,\"#46039f\"],[0.2222222222222222,\"#7201a8\"],[0.3333333333333333,\"#9c179e\"],[0.4444444444444444,\"#bd3786\"],[0.5555555555555556,\"#d8576b\"],[0.6666666666666666,\"#ed7953\"],[0.7777777777777778,\"#fb9f3a\"],[0.8888888888888888,\"#fdca26\"],[1.0,\"#f0f921\"]],\"type\":\"heatmap\"}],\"heatmapgl\":[{\"colorbar\":{\"outlinewidth\":0,\"ticks\":\"\"},\"colorscale\":[[0.0,\"#0d0887\"],[0.1111111111111111,\"#46039f\"],[0.2222222222222222,\"#7201a8\"],[0.3333333333333333,\"#9c179e\"],[0.4444444444444444,\"#bd3786\"],[0.5555555555555556,\"#d8576b\"],[0.6666666666666666,\"#ed7953\"],[0.7777777777777778,\"#fb9f3a\"],[0.8888888888888888,\"#fdca26\"],[1.0,\"#f0f921\"]],\"type\":\"heatmapgl\"}],\"histogram\":[{\"marker\":{\"pattern\":{\"fillmode\":\"overlay\",\"size\":10,\"solidity\":0.2}},\"type\":\"histogram\"}],\"histogram2d\":[{\"colorbar\":{\"outlinewidth\":0,\"ticks\":\"\"},\"colorscale\":[[0.0,\"#0d0887\"],[0.1111111111111111,\"#46039f\"],[0.2222222222222222,\"#7201a8\"],[0.3333333333333333,\"#9c179e\"],[0.4444444444444444,\"#bd3786\"],[0.5555555555555556,\"#d8576b\"],[0.6666666666666666,\"#ed7953\"],[0.7777777777777778,\"#fb9f3a\"],[0.8888888888888888,\"#fdca26\"],[1.0,\"#f0f921\"]],\"type\":\"histogram2d\"}],\"histogram2dcontour\":[{\"colorbar\":{\"outlinewidth\":0,\"ticks\":\"\"},\"colorscale\":[[0.0,\"#0d0887\"],[0.1111111111111111,\"#46039f\"],[0.2222222222222222,\"#7201a8\"],[0.3333333333333333,\"#9c179e\"],[0.4444444444444444,\"#bd3786\"],[0.5555555555555556,\"#d8576b\"],[0.6666666666666666,\"#ed7953\"],[0.7777777777777778,\"#fb9f3a\"],[0.8888888888888888,\"#fdca26\"],[1.0,\"#f0f921\"]],\"type\":\"histogram2dcontour\"}],\"mesh3d\":[{\"colorbar\":{\"outlinewidth\":0,\"ticks\":\"\"},\"type\":\"mesh3d\"}],\"parcoords\":[{\"line\":{\"colorbar\":{\"outlinewidth\":0,\"ticks\":\"\"}},\"type\":\"parcoords\"}],\"pie\":[{\"automargin\":true,\"type\":\"pie\"}],\"scatter\":[{\"marker\":{\"colorbar\":{\"outlinewidth\":0,\"ticks\":\"\"}},\"type\":\"scatter\"}],\"scatter3d\":[{\"line\":{\"colorbar\":{\"outlinewidth\":0,\"ticks\":\"\"}},\"marker\":{\"colorbar\":{\"outlinewidth\":0,\"ticks\":\"\"}},\"type\":\"scatter3d\"}],\"scattercarpet\":[{\"marker\":{\"colorbar\":{\"outlinewidth\":0,\"ticks\":\"\"}},\"type\":\"scattercarpet\"}],\"scattergeo\":[{\"marker\":{\"colorbar\":{\"outlinewidth\":0,\"ticks\":\"\"}},\"type\":\"scattergeo\"}],\"scattergl\":[{\"marker\":{\"colorbar\":{\"outlinewidth\":0,\"ticks\":\"\"}},\"type\":\"scattergl\"}],\"scattermapbox\":[{\"marker\":{\"colorbar\":{\"outlinewidth\":0,\"ticks\":\"\"}},\"type\":\"scattermapbox\"}],\"scatterpolar\":[{\"marker\":{\"colorbar\":{\"outlinewidth\":0,\"ticks\":\"\"}},\"type\":\"scatterpolar\"}],\"scatterpolargl\":[{\"marker\":{\"colorbar\":{\"outlinewidth\":0,\"ticks\":\"\"}},\"type\":\"scatterpolargl\"}],\"scatterternary\":[{\"marker\":{\"colorbar\":{\"outlinewidth\":0,\"ticks\":\"\"}},\"type\":\"scatterternary\"}],\"surface\":[{\"colorbar\":{\"outlinewidth\":0,\"ticks\":\"\"},\"colorscale\":[[0.0,\"#0d0887\"],[0.1111111111111111,\"#46039f\"],[0.2222222222222222,\"#7201a8\"],[0.3333333333333333,\"#9c179e\"],[0.4444444444444444,\"#bd3786\"],[0.5555555555555556,\"#d8576b\"],[0.6666666666666666,\"#ed7953\"],[0.7777777777777778,\"#fb9f3a\"],[0.8888888888888888,\"#fdca26\"],[1.0,\"#f0f921\"]],\"type\":\"surface\"}],\"table\":[{\"cells\":{\"fill\":{\"color\":\"#EBF0F8\"},\"line\":{\"color\":\"white\"}},\"header\":{\"fill\":{\"color\":\"#C8D4E3\"},\"line\":{\"color\":\"white\"}},\"type\":\"table\"}]},\"layout\":{\"annotationdefaults\":{\"arrowcolor\":\"#2a3f5f\",\"arrowhead\":0,\"arrowwidth\":1},\"autotypenumbers\":\"strict\",\"coloraxis\":{\"colorbar\":{\"outlinewidth\":0,\"ticks\":\"\"}},\"colorscale\":{\"diverging\":[[0,\"#8e0152\"],[0.1,\"#c51b7d\"],[0.2,\"#de77ae\"],[0.3,\"#f1b6da\"],[0.4,\"#fde0ef\"],[0.5,\"#f7f7f7\"],[0.6,\"#e6f5d0\"],[0.7,\"#b8e186\"],[0.8,\"#7fbc41\"],[0.9,\"#4d9221\"],[1,\"#276419\"]],\"sequential\":[[0.0,\"#0d0887\"],[0.1111111111111111,\"#46039f\"],[0.2222222222222222,\"#7201a8\"],[0.3333333333333333,\"#9c179e\"],[0.4444444444444444,\"#bd3786\"],[0.5555555555555556,\"#d8576b\"],[0.6666666666666666,\"#ed7953\"],[0.7777777777777778,\"#fb9f3a\"],[0.8888888888888888,\"#fdca26\"],[1.0,\"#f0f921\"]],\"sequentialminus\":[[0.0,\"#0d0887\"],[0.1111111111111111,\"#46039f\"],[0.2222222222222222,\"#7201a8\"],[0.3333333333333333,\"#9c179e\"],[0.4444444444444444,\"#bd3786\"],[0.5555555555555556,\"#d8576b\"],[0.6666666666666666,\"#ed7953\"],[0.7777777777777778,\"#fb9f3a\"],[0.8888888888888888,\"#fdca26\"],[1.0,\"#f0f921\"]]},\"colorway\":[\"#636efa\",\"#EF553B\",\"#00cc96\",\"#ab63fa\",\"#FFA15A\",\"#19d3f3\",\"#FF6692\",\"#B6E880\",\"#FF97FF\",\"#FECB52\"],\"font\":{\"color\":\"#2a3f5f\"},\"geo\":{\"bgcolor\":\"white\",\"lakecolor\":\"white\",\"landcolor\":\"#E5ECF6\",\"showlakes\":true,\"showland\":true,\"subunitcolor\":\"white\"},\"hoverlabel\":{\"align\":\"left\"},\"hovermode\":\"closest\",\"mapbox\":{\"style\":\"light\"},\"paper_bgcolor\":\"white\",\"plot_bgcolor\":\"#E5ECF6\",\"polar\":{\"angularaxis\":{\"gridcolor\":\"white\",\"linecolor\":\"white\",\"ticks\":\"\"},\"bgcolor\":\"#E5ECF6\",\"radialaxis\":{\"gridcolor\":\"white\",\"linecolor\":\"white\",\"ticks\":\"\"}},\"scene\":{\"xaxis\":{\"backgroundcolor\":\"#E5ECF6\",\"gridcolor\":\"white\",\"gridwidth\":2,\"linecolor\":\"white\",\"showbackground\":true,\"ticks\":\"\",\"zerolinecolor\":\"white\"},\"yaxis\":{\"backgroundcolor\":\"#E5ECF6\",\"gridcolor\":\"white\",\"gridwidth\":2,\"linecolor\":\"white\",\"showbackground\":true,\"ticks\":\"\",\"zerolinecolor\":\"white\"},\"zaxis\":{\"backgroundcolor\":\"#E5ECF6\",\"gridcolor\":\"white\",\"gridwidth\":2,\"linecolor\":\"white\",\"showbackground\":true,\"ticks\":\"\",\"zerolinecolor\":\"white\"}},\"shapedefaults\":{\"line\":{\"color\":\"#2a3f5f\"}},\"ternary\":{\"aaxis\":{\"gridcolor\":\"white\",\"linecolor\":\"white\",\"ticks\":\"\"},\"baxis\":{\"gridcolor\":\"white\",\"linecolor\":\"white\",\"ticks\":\"\"},\"bgcolor\":\"#E5ECF6\",\"caxis\":{\"gridcolor\":\"white\",\"linecolor\":\"white\",\"ticks\":\"\"}},\"title\":{\"x\":0.05},\"xaxis\":{\"automargin\":true,\"gridcolor\":\"white\",\"linecolor\":\"white\",\"ticks\":\"\",\"title\":{\"standoff\":15},\"zerolinecolor\":\"white\",\"zerolinewidth\":2},\"yaxis\":{\"automargin\":true,\"gridcolor\":\"white\",\"linecolor\":\"white\",\"ticks\":\"\",\"title\":{\"standoff\":15},\"zerolinecolor\":\"white\",\"zerolinewidth\":2}}},\"xaxis\":{\"anchor\":\"y\",\"domain\":[0.0,1.0],\"title\":{\"text\":\"purpose\"}},\"yaxis\":{\"anchor\":\"x\",\"domain\":[0.0,1.0],\"title\":{\"text\":\"count\"}},\"legend\":{\"title\":{\"text\":\"risk\"},\"tracegroupgap\":0},\"margin\":{\"t\":60},\"barmode\":\"relative\"},                        {\"responsive\": true}                    ).then(function(){\n",
              "                            \n",
              "var gd = document.getElementById('fddb0775-2f44-4170-8b5e-85645840a32f');\n",
              "var x = new MutationObserver(function (mutations, observer) {{\n",
              "        var display = window.getComputedStyle(gd).display;\n",
              "        if (!display || display === 'none') {{\n",
              "            console.log([gd, 'removed!']);\n",
              "            Plotly.purge(gd);\n",
              "            observer.disconnect();\n",
              "        }}\n",
              "}});\n",
              "\n",
              "// Listen for the removal of the full notebook cells\n",
              "var notebookContainer = gd.closest('#notebook-container');\n",
              "if (notebookContainer) {{\n",
              "    x.observe(notebookContainer, {childList: true});\n",
              "}}\n",
              "\n",
              "// Listen for the clearing of the current output cell\n",
              "var outputEl = gd.closest('.output');\n",
              "if (outputEl) {{\n",
              "    x.observe(outputEl, {childList: true});\n",
              "}}\n",
              "\n",
              "                        })                };                            </script>        </div>\n",
              "</body>\n",
              "</html>"
            ]
          },
          "metadata": {}
        },
        {
          "output_type": "display_data",
          "data": {
            "text/html": [
              "<html>\n",
              "<head><meta charset=\"utf-8\" /></head>\n",
              "<body>\n",
              "    <div>            <script src=\"https://cdnjs.cloudflare.com/ajax/libs/mathjax/2.7.5/MathJax.js?config=TeX-AMS-MML_SVG\"></script><script type=\"text/javascript\">if (window.MathJax) {MathJax.Hub.Config({SVG: {font: \"STIX-Web\"}});}</script>                <script type=\"text/javascript\">window.PlotlyConfig = {MathJaxConfig: 'local'};</script>\n",
              "        <script src=\"https://cdn.plot.ly/plotly-2.8.3.min.js\"></script>                <div id=\"924fd89e-94dc-4219-9723-2ae826a86e63\" class=\"plotly-graph-div\" style=\"height:525px; width:100%;\"></div>            <script type=\"text/javascript\">                                    window.PLOTLYENV=window.PLOTLYENV || {};                                    if (document.getElementById(\"924fd89e-94dc-4219-9723-2ae826a86e63\")) {                    Plotly.newPlot(                        \"924fd89e-94dc-4219-9723-2ae826a86e63\",                        [{\"alignmentgroup\":\"True\",\"bingroup\":\"x\",\"hovertemplate\":\"risk=good<br>savings_status=%{x}<br>count=%{y}<extra></extra>\",\"legendgroup\":\"good\",\"marker\":{\"color\":\"#636efa\",\"pattern\":{\"shape\":\"\"}},\"name\":\"good\",\"offsetgroup\":\"good\",\"orientation\":\"v\",\"showlegend\":true,\"x\":[\"no known savings\",\"<100\",\"<100\",\"no known savings\",\"500<=X<1000\",\"<100\",\">=1000\",\"<100\",\"<100\",\"no known savings\",\"no known savings\",\"500<=X<1000\",\"<100\",\"500<=X<1000\",\"<100\",\"100<=X<500\",\"no known savings\",\"<100\",\"<100\",\">=1000\",\"<100\",\">=1000\",\"<100\",\"100<=X<500\",\"no known savings\",\"<100\",\"<100\",\"<100\",\"<100\",\"500<=X<1000\",\"500<=X<1000\",\"<100\",\"100<=X<500\",\"<100\",\"500<=X<1000\",\"500<=X<1000\",\"<100\",\"100<=X<500\",\"no known savings\",\"<100\",\"<100\",\"no known savings\",\"no known savings\",\"<100\",\"<100\",\"<100\",\"no known savings\",\"<100\",\"no known savings\",\"<100\",\">=1000\",\"no known savings\",\"<100\",\"no known savings\",\"<100\",\"<100\",\"<100\",\"<100\",\"no known savings\",\"<100\",\"500<=X<1000\",\"100<=X<500\",\"<100\",\"<100\",\"<100\",\"<100\",\"100<=X<500\",\"<100\",\"<100\",\"no known savings\",\">=1000\",\"no known savings\",\"100<=X<500\",\"<100\",\"no known savings\",\"100<=X<500\",\"<100\",\"<100\",\"<100\",\"no known savings\",\"<100\",\"no known savings\",\"500<=X<1000\",\"100<=X<500\",\"<100\",\"<100\",\"500<=X<1000\",\"no known savings\",\"no known savings\",\"500<=X<1000\",\"<100\",\"<100\",\"<100\",\"<100\",\"<100\",\"<100\",\"no known savings\",\"<100\",\"<100\",\"100<=X<500\",\"no known savings\",\">=1000\",\"no known savings\",\"<100\",\">=1000\",\"<100\",\"<100\",\"<100\",\"100<=X<500\",\"<100\",\"100<=X<500\",\"<100\",\">=1000\",\"100<=X<500\",\"<100\",\"<100\",\">=1000\",\"100<=X<500\",\"100<=X<500\",\"<100\",\"100<=X<500\",\"no known savings\",\"100<=X<500\",\"<100\",\"500<=X<1000\",\"<100\",\"500<=X<1000\",\"500<=X<1000\",\">=1000\",\"<100\",\"<100\",\"<100\",\"<100\",\"500<=X<1000\",\"<100\",\"<100\",\">=1000\",\"<100\",\"<100\",\"<100\",\"<100\",\"<100\",\"no known savings\",\"500<=X<1000\",\"<100\",\"<100\",\"<100\",\"<100\",\"<100\",\"<100\",\"<100\",\">=1000\",\"no known savings\",\"no known savings\",\"no known savings\",\"no known savings\",\"<100\",\"<100\",\"<100\",\"<100\",\"<100\",\"no known savings\",\"<100\",\"no known savings\",\"<100\",\"<100\",\"<100\",\"500<=X<1000\",\"100<=X<500\",\"<100\",\"<100\",\"<100\",\"<100\",\"<100\",\"<100\",\"500<=X<1000\",\"<100\",\"<100\",\"100<=X<500\",\"<100\",\">=1000\",\"<100\",\"100<=X<500\",\"no known savings\",\"no known savings\",\"<100\",\"100<=X<500\",\"100<=X<500\",\"<100\",\"<100\",\"<100\",\"<100\",\"<100\",\"no known savings\",\"<100\",\"no known savings\",\"no known savings\",\"500<=X<1000\",\"no known savings\",\"<100\",\"<100\",\"no known savings\",\"100<=X<500\",\">=1000\",\"<100\",\"no known savings\",\"no known savings\",\"100<=X<500\",\"<100\",\"<100\",\"100<=X<500\",\"<100\",\"<100\",\"<100\",\"<100\",\"no known savings\",\"no known savings\",\"no known savings\",\"<100\",\">=1000\",\"<100\",\"<100\",\">=1000\",\"no known savings\",\"<100\",\"no known savings\",\"100<=X<500\",\"<100\",\"no known savings\",\"<100\",\"no known savings\",\"<100\",\"<100\",\"<100\",\">=1000\",\"<100\",\"<100\",\"no known savings\",\">=1000\",\"<100\",\"<100\",\"<100\",\"<100\",\"<100\",\"<100\",\"<100\",\"<100\",\"500<=X<1000\",\"<100\",\"<100\",\"<100\",\"<100\",\"500<=X<1000\",\"100<=X<500\",\"<100\",\"no known savings\",\"500<=X<1000\",\"no known savings\",\"<100\",\"no known savings\",\"no known savings\",\"<100\",\"<100\",\"<100\",\"<100\",\"<100\",\"<100\",\"no known savings\",\"<100\",\"<100\",\"no known savings\",\"<100\",\"no known savings\",\"100<=X<500\",\"no known savings\",\"no known savings\",\"<100\",\"100<=X<500\",\"<100\",\"no known savings\",\"<100\",\"500<=X<1000\",\"<100\",\"<100\",\">=1000\",\"<100\",\"<100\",\"<100\",\"100<=X<500\",\"<100\",\"<100\",\">=1000\",\"<100\",\"no known savings\",\"<100\",\"no known savings\",\"no known savings\",\"<100\",\"500<=X<1000\",\"<100\",\"<100\",\"500<=X<1000\",\"<100\",\"no known savings\",\"500<=X<1000\",\">=1000\",\"no known savings\",\"<100\",\"100<=X<500\",\"<100\",\"<100\",\">=1000\",\"<100\",\"<100\",\"<100\",\"<100\",\"<100\",\"500<=X<1000\",\">=1000\",\"<100\",\"<100\",\"<100\",\"<100\",\"no known savings\",\"<100\",\"no known savings\",\"no known savings\",\"<100\",\"<100\",\"<100\",\"<100\",\"<100\",\"<100\",\"<100\",\"<100\",\"<100\",\"<100\",\"no known savings\",\"<100\",\"<100\",\"no known savings\",\"<100\",\"<100\",\"no known savings\",\"500<=X<1000\",\"<100\",\"100<=X<500\",\"<100\",\"<100\",\"<100\",\">=1000\",\">=1000\",\"500<=X<1000\",\"<100\",\"<100\",\"100<=X<500\",\"<100\",\"<100\",\"100<=X<500\",\"no known savings\",\"<100\",\"<100\",\"<100\",\"100<=X<500\",\"<100\",\"100<=X<500\",\"500<=X<1000\",\"<100\",\"100<=X<500\",\"<100\",\"<100\",\"<100\",\"no known savings\",\"<100\",\"<100\",\"100<=X<500\",\"no known savings\",\"<100\",\"100<=X<500\",\"<100\",\"<100\",\"100<=X<500\",\"<100\",\"<100\",\"<100\",\"<100\",\"100<=X<500\",\"no known savings\",\"no known savings\",\"<100\",\"<100\",\"<100\",\"<100\",\"<100\",\"<100\",\"no known savings\",\"no known savings\",\"500<=X<1000\",\"100<=X<500\",\"<100\",\"no known savings\",\"<100\",\"no known savings\",\"100<=X<500\",\">=1000\",\"no known savings\",\"<100\",\"no known savings\",\"<100\",\"<100\",\"<100\",\"<100\",\"no known savings\",\"<100\",\"<100\",\"<100\",\"no known savings\",\"<100\",\"<100\",\"<100\",\"no known savings\",\">=1000\",\"<100\",\"<100\",\"<100\",\"500<=X<1000\",\"<100\",\"<100\",\"no known savings\",\">=1000\",\"<100\",\"no known savings\",\"no known savings\",\"<100\",\"<100\",\"<100\",\"<100\",\"no known savings\",\"<100\",\"500<=X<1000\",\"no known savings\",\"<100\",\"no known savings\",\"<100\",\"500<=X<1000\",\"<100\",\"<100\",\"<100\",\"<100\",\"<100\",\"<100\",\"<100\",\"<100\",\"<100\",\"no known savings\",\"<100\",\"<100\",\"<100\",\"<100\",\"<100\",\"<100\",\"<100\",\">=1000\",\"<100\",\"<100\",\"100<=X<500\",\"100<=X<500\",\"<100\",\"500<=X<1000\",\"<100\",\"<100\",\"<100\",\"<100\",\"<100\",\"no known savings\",\"<100\",\"<100\",\"100<=X<500\",\"no known savings\",\"no known savings\",\"100<=X<500\",\"100<=X<500\",\">=1000\",\"<100\",\"100<=X<500\",\"100<=X<500\",\"no known savings\",\"<100\",\"500<=X<1000\",\"<100\",\"<100\",\"<100\",\"<100\",\"100<=X<500\",\"100<=X<500\",\"<100\",\"500<=X<1000\",\"<100\",\"<100\",\"500<=X<1000\",\"no known savings\",\"<100\",\"no known savings\",\"no known savings\",\"<100\",\"no known savings\",\"100<=X<500\",\"500<=X<1000\",\">=1000\",\"500<=X<1000\",\">=1000\",\"<100\",\"<100\",\">=1000\",\"<100\",\"no known savings\",\"100<=X<500\",\"<100\",\"100<=X<500\",\"<100\",\"no known savings\",\"500<=X<1000\",\"no known savings\",\"<100\",\"<100\",\"no known savings\",\"<100\",\"<100\",\"100<=X<500\",\"<100\",\"<100\",\"<100\",\"no known savings\",\"<100\",\"100<=X<500\",\"<100\",\"no known savings\",\"<100\",\"<100\",\"no known savings\",\"<100\",\"100<=X<500\",\"500<=X<1000\",\"<100\",\"<100\",\">=1000\",\"<100\",\">=1000\",\"<100\",\"no known savings\",\">=1000\",\"500<=X<1000\",\"no known savings\",\"no known savings\",\"no known savings\",\"<100\",\"500<=X<1000\",\"100<=X<500\",\"<100\",\"no known savings\",\"no known savings\",\"<100\",\"<100\",\"<100\",\"no known savings\",\"no known savings\",\"<100\",\"no known savings\",\"<100\",\"<100\",\"<100\",\"<100\",\"500<=X<1000\",\"<100\",\"<100\",\"<100\",\"<100\",\"<100\",\"<100\",\"<100\",\"no known savings\",\"500<=X<1000\",\"no known savings\",\"no known savings\",\"<100\",\"<100\",\"<100\",\"<100\",\"<100\",\"<100\",\"no known savings\",\"<100\",\"<100\",\"no known savings\",\"<100\",\"<100\",\"100<=X<500\",\"no known savings\",\"<100\",\"100<=X<500\",\">=1000\",\">=1000\",\"500<=X<1000\",\"<100\",\"<100\",\"no known savings\",\"<100\",\"500<=X<1000\",\"<100\",\"100<=X<500\",\"no known savings\",\"<100\",\">=1000\",\"<100\",\"<100\",\"no known savings\",\"<100\",\"no known savings\",\"no known savings\",\"<100\",\"no known savings\",\"<100\",\"no known savings\",\"<100\",\"<100\",\"<100\",\"<100\",\"no known savings\",\"no known savings\",\"<100\",\">=1000\",\"no known savings\",\"no known savings\",\"no known savings\",\"no known savings\",\"<100\",\"<100\",\"no known savings\",\"no known savings\",\"<100\",\"no known savings\",\"<100\",\"no known savings\",\">=1000\",\"100<=X<500\",\"<100\",\"500<=X<1000\",\"<100\",\"<100\",\"no known savings\",\"<100\",\"<100\",\"<100\",\"500<=X<1000\",\"<100\",\"<100\",\"no known savings\",\"no known savings\",\"<100\",\"no known savings\",\"<100\",\"<100\",\"500<=X<1000\",\"no known savings\",\"<100\",\"<100\",\">=1000\",\"no known savings\",\"<100\",\"100<=X<500\",\"<100\",\"<100\",\"no known savings\",\"<100\",\"no known savings\",\"<100\",\"no known savings\",\"<100\",\"100<=X<500\",\"<100\",\"<100\",\"500<=X<1000\",\"<100\",\"no known savings\",\"100<=X<500\",\"<100\",\"<100\",\"<100\",\"100<=X<500\",\"<100\",\"<100\",\"no known savings\",\"100<=X<500\",\"no known savings\",\"<100\",\"no known savings\",\"<100\",\"<100\",\"<100\",\"100<=X<500\"],\"xaxis\":\"x\",\"yaxis\":\"y\",\"type\":\"histogram\"},{\"alignmentgroup\":\"True\",\"bingroup\":\"x\",\"hovertemplate\":\"risk=bad<br>savings_status=%{x}<br>count=%{y}<extra></extra>\",\"legendgroup\":\"bad\",\"marker\":{\"color\":\"#EF553B\",\"pattern\":{\"shape\":\"\"}},\"name\":\"bad\",\"offsetgroup\":\"bad\",\"orientation\":\"v\",\"showlegend\":true,\"x\":[\"<100\",\"<100\",\"<100\",\"<100\",\"<100\",\"<100\",\"100<=X<500\",\"<100\",\"<100\",\"<100\",\"<100\",\"<100\",\"<100\",\"no known savings\",\"<100\",\"<100\",\"<100\",\"<100\",\"no known savings\",\"<100\",\"no known savings\",\"100<=X<500\",\"<100\",\"no known savings\",\"<100\",\"<100\",\"<100\",\"<100\",\"no known savings\",\"500<=X<1000\",\"<100\",\"no known savings\",\"<100\",\"<100\",\"<100\",\"500<=X<1000\",\"<100\",\"<100\",\"<100\",\"<100\",\"<100\",\"<100\",\"<100\",\"no known savings\",\"<100\",\"<100\",\"no known savings\",\"<100\",\"<100\",\"100<=X<500\",\">=1000\",\"100<=X<500\",\"<100\",\"100<=X<500\",\"<100\",\"100<=X<500\",\"<100\",\"<100\",\"<100\",\"<100\",\">=1000\",\"<100\",\"<100\",\"<100\",\"<100\",\"no known savings\",\"100<=X<500\",\"no known savings\",\"<100\",\"<100\",\"<100\",\"<100\",\"<100\",\"<100\",\"<100\",\"<100\",\"<100\",\"<100\",\"<100\",\"<100\",\"<100\",\"no known savings\",\"500<=X<1000\",\"100<=X<500\",\"<100\",\"<100\",\"<100\",\"<100\",\"<100\",\"100<=X<500\",\"100<=X<500\",\"100<=X<500\",\"<100\",\"<100\",\"no known savings\",\">=1000\",\"<100\",\"<100\",\"<100\",\"<100\",\"<100\",\"<100\",\"<100\",\"100<=X<500\",\"<100\",\"<100\",\"<100\",\"<100\",\"<100\",\"<100\",\"500<=X<1000\",\"<100\",\"no known savings\",\"<100\",\"no known savings\",\"no known savings\",\"<100\",\"<100\",\"no known savings\",\"<100\",\"<100\",\"<100\",\"<100\",\">=1000\",\"<100\",\"<100\",\"<100\",\"100<=X<500\",\"<100\",\"<100\",\"<100\",\"<100\",\"<100\",\"<100\",\"no known savings\",\"100<=X<500\",\"<100\",\"100<=X<500\",\"<100\",\"no known savings\",\"100<=X<500\",\"<100\",\"<100\",\"<100\",\"<100\",\"<100\",\"100<=X<500\",\"<100\",\"<100\",\"<100\",\"no known savings\",\"<100\",\"<100\",\"<100\",\"<100\",\"<100\",\"100<=X<500\",\"no known savings\",\"<100\",\"<100\",\"<100\",\"no known savings\",\"<100\",\"<100\",\"<100\",\"<100\",\"<100\",\"<100\",\"<100\",\"<100\",\"<100\",\"<100\",\"no known savings\",\"100<=X<500\",\"<100\",\"<100\",\"<100\",\"<100\",\"<100\",\"<100\",\"100<=X<500\",\"100<=X<500\",\"100<=X<500\",\"<100\",\"100<=X<500\",\"<100\",\"no known savings\",\"<100\",\"100<=X<500\",\"<100\",\"<100\",\"<100\",\"<100\",\"<100\",\"100<=X<500\",\"no known savings\",\"500<=X<1000\",\"<100\",\"<100\",\"<100\",\"<100\",\"100<=X<500\",\"<100\",\"no known savings\",\"<100\",\"500<=X<1000\",\"100<=X<500\",\"500<=X<1000\",\"<100\",\"100<=X<500\",\"<100\",\"<100\",\"<100\",\"<100\",\">=1000\",\"<100\",\"<100\",\"<100\",\"<100\",\"<100\",\"<100\",\"100<=X<500\",\"<100\",\"<100\",\">=1000\",\"no known savings\",\"no known savings\",\"<100\",\"<100\",\"no known savings\",\"<100\",\"<100\",\"no known savings\",\"<100\",\"100<=X<500\",\"<100\",\"<100\",\"<100\",\"no known savings\",\"<100\",\"<100\",\"<100\",\"<100\",\"<100\",\"<100\",\"<100\",\"<100\",\"<100\",\"no known savings\",\"<100\",\"<100\",\"<100\",\"<100\",\"<100\",\"<100\",\"no known savings\",\"<100\",\"<100\",\"<100\",\"<100\",\"<100\",\"<100\",\"<100\",\"<100\",\"<100\",\"<100\",\"<100\",\"<100\",\"<100\",\"<100\",\"<100\",\"<100\",\"<100\",\"100<=X<500\",\"<100\",\"<100\",\"<100\",\"<100\",\"<100\",\"<100\",\"100<=X<500\",\"<100\",\"<100\",\"500<=X<1000\",\"<100\",\"100<=X<500\",\"<100\",\"500<=X<1000\",\"<100\",\"<100\",\"500<=X<1000\",\"500<=X<1000\",\"<100\",\"<100\",\"<100\",\"100<=X<500\",\"<100\",\"<100\",\"<100\",\"<100\"],\"xaxis\":\"x\",\"yaxis\":\"y\",\"type\":\"histogram\"}],                        {\"template\":{\"data\":{\"bar\":[{\"error_x\":{\"color\":\"#2a3f5f\"},\"error_y\":{\"color\":\"#2a3f5f\"},\"marker\":{\"line\":{\"color\":\"#E5ECF6\",\"width\":0.5},\"pattern\":{\"fillmode\":\"overlay\",\"size\":10,\"solidity\":0.2}},\"type\":\"bar\"}],\"barpolar\":[{\"marker\":{\"line\":{\"color\":\"#E5ECF6\",\"width\":0.5},\"pattern\":{\"fillmode\":\"overlay\",\"size\":10,\"solidity\":0.2}},\"type\":\"barpolar\"}],\"carpet\":[{\"aaxis\":{\"endlinecolor\":\"#2a3f5f\",\"gridcolor\":\"white\",\"linecolor\":\"white\",\"minorgridcolor\":\"white\",\"startlinecolor\":\"#2a3f5f\"},\"baxis\":{\"endlinecolor\":\"#2a3f5f\",\"gridcolor\":\"white\",\"linecolor\":\"white\",\"minorgridcolor\":\"white\",\"startlinecolor\":\"#2a3f5f\"},\"type\":\"carpet\"}],\"choropleth\":[{\"colorbar\":{\"outlinewidth\":0,\"ticks\":\"\"},\"type\":\"choropleth\"}],\"contour\":[{\"colorbar\":{\"outlinewidth\":0,\"ticks\":\"\"},\"colorscale\":[[0.0,\"#0d0887\"],[0.1111111111111111,\"#46039f\"],[0.2222222222222222,\"#7201a8\"],[0.3333333333333333,\"#9c179e\"],[0.4444444444444444,\"#bd3786\"],[0.5555555555555556,\"#d8576b\"],[0.6666666666666666,\"#ed7953\"],[0.7777777777777778,\"#fb9f3a\"],[0.8888888888888888,\"#fdca26\"],[1.0,\"#f0f921\"]],\"type\":\"contour\"}],\"contourcarpet\":[{\"colorbar\":{\"outlinewidth\":0,\"ticks\":\"\"},\"type\":\"contourcarpet\"}],\"heatmap\":[{\"colorbar\":{\"outlinewidth\":0,\"ticks\":\"\"},\"colorscale\":[[0.0,\"#0d0887\"],[0.1111111111111111,\"#46039f\"],[0.2222222222222222,\"#7201a8\"],[0.3333333333333333,\"#9c179e\"],[0.4444444444444444,\"#bd3786\"],[0.5555555555555556,\"#d8576b\"],[0.6666666666666666,\"#ed7953\"],[0.7777777777777778,\"#fb9f3a\"],[0.8888888888888888,\"#fdca26\"],[1.0,\"#f0f921\"]],\"type\":\"heatmap\"}],\"heatmapgl\":[{\"colorbar\":{\"outlinewidth\":0,\"ticks\":\"\"},\"colorscale\":[[0.0,\"#0d0887\"],[0.1111111111111111,\"#46039f\"],[0.2222222222222222,\"#7201a8\"],[0.3333333333333333,\"#9c179e\"],[0.4444444444444444,\"#bd3786\"],[0.5555555555555556,\"#d8576b\"],[0.6666666666666666,\"#ed7953\"],[0.7777777777777778,\"#fb9f3a\"],[0.8888888888888888,\"#fdca26\"],[1.0,\"#f0f921\"]],\"type\":\"heatmapgl\"}],\"histogram\":[{\"marker\":{\"pattern\":{\"fillmode\":\"overlay\",\"size\":10,\"solidity\":0.2}},\"type\":\"histogram\"}],\"histogram2d\":[{\"colorbar\":{\"outlinewidth\":0,\"ticks\":\"\"},\"colorscale\":[[0.0,\"#0d0887\"],[0.1111111111111111,\"#46039f\"],[0.2222222222222222,\"#7201a8\"],[0.3333333333333333,\"#9c179e\"],[0.4444444444444444,\"#bd3786\"],[0.5555555555555556,\"#d8576b\"],[0.6666666666666666,\"#ed7953\"],[0.7777777777777778,\"#fb9f3a\"],[0.8888888888888888,\"#fdca26\"],[1.0,\"#f0f921\"]],\"type\":\"histogram2d\"}],\"histogram2dcontour\":[{\"colorbar\":{\"outlinewidth\":0,\"ticks\":\"\"},\"colorscale\":[[0.0,\"#0d0887\"],[0.1111111111111111,\"#46039f\"],[0.2222222222222222,\"#7201a8\"],[0.3333333333333333,\"#9c179e\"],[0.4444444444444444,\"#bd3786\"],[0.5555555555555556,\"#d8576b\"],[0.6666666666666666,\"#ed7953\"],[0.7777777777777778,\"#fb9f3a\"],[0.8888888888888888,\"#fdca26\"],[1.0,\"#f0f921\"]],\"type\":\"histogram2dcontour\"}],\"mesh3d\":[{\"colorbar\":{\"outlinewidth\":0,\"ticks\":\"\"},\"type\":\"mesh3d\"}],\"parcoords\":[{\"line\":{\"colorbar\":{\"outlinewidth\":0,\"ticks\":\"\"}},\"type\":\"parcoords\"}],\"pie\":[{\"automargin\":true,\"type\":\"pie\"}],\"scatter\":[{\"marker\":{\"colorbar\":{\"outlinewidth\":0,\"ticks\":\"\"}},\"type\":\"scatter\"}],\"scatter3d\":[{\"line\":{\"colorbar\":{\"outlinewidth\":0,\"ticks\":\"\"}},\"marker\":{\"colorbar\":{\"outlinewidth\":0,\"ticks\":\"\"}},\"type\":\"scatter3d\"}],\"scattercarpet\":[{\"marker\":{\"colorbar\":{\"outlinewidth\":0,\"ticks\":\"\"}},\"type\":\"scattercarpet\"}],\"scattergeo\":[{\"marker\":{\"colorbar\":{\"outlinewidth\":0,\"ticks\":\"\"}},\"type\":\"scattergeo\"}],\"scattergl\":[{\"marker\":{\"colorbar\":{\"outlinewidth\":0,\"ticks\":\"\"}},\"type\":\"scattergl\"}],\"scattermapbox\":[{\"marker\":{\"colorbar\":{\"outlinewidth\":0,\"ticks\":\"\"}},\"type\":\"scattermapbox\"}],\"scatterpolar\":[{\"marker\":{\"colorbar\":{\"outlinewidth\":0,\"ticks\":\"\"}},\"type\":\"scatterpolar\"}],\"scatterpolargl\":[{\"marker\":{\"colorbar\":{\"outlinewidth\":0,\"ticks\":\"\"}},\"type\":\"scatterpolargl\"}],\"scatterternary\":[{\"marker\":{\"colorbar\":{\"outlinewidth\":0,\"ticks\":\"\"}},\"type\":\"scatterternary\"}],\"surface\":[{\"colorbar\":{\"outlinewidth\":0,\"ticks\":\"\"},\"colorscale\":[[0.0,\"#0d0887\"],[0.1111111111111111,\"#46039f\"],[0.2222222222222222,\"#7201a8\"],[0.3333333333333333,\"#9c179e\"],[0.4444444444444444,\"#bd3786\"],[0.5555555555555556,\"#d8576b\"],[0.6666666666666666,\"#ed7953\"],[0.7777777777777778,\"#fb9f3a\"],[0.8888888888888888,\"#fdca26\"],[1.0,\"#f0f921\"]],\"type\":\"surface\"}],\"table\":[{\"cells\":{\"fill\":{\"color\":\"#EBF0F8\"},\"line\":{\"color\":\"white\"}},\"header\":{\"fill\":{\"color\":\"#C8D4E3\"},\"line\":{\"color\":\"white\"}},\"type\":\"table\"}]},\"layout\":{\"annotationdefaults\":{\"arrowcolor\":\"#2a3f5f\",\"arrowhead\":0,\"arrowwidth\":1},\"autotypenumbers\":\"strict\",\"coloraxis\":{\"colorbar\":{\"outlinewidth\":0,\"ticks\":\"\"}},\"colorscale\":{\"diverging\":[[0,\"#8e0152\"],[0.1,\"#c51b7d\"],[0.2,\"#de77ae\"],[0.3,\"#f1b6da\"],[0.4,\"#fde0ef\"],[0.5,\"#f7f7f7\"],[0.6,\"#e6f5d0\"],[0.7,\"#b8e186\"],[0.8,\"#7fbc41\"],[0.9,\"#4d9221\"],[1,\"#276419\"]],\"sequential\":[[0.0,\"#0d0887\"],[0.1111111111111111,\"#46039f\"],[0.2222222222222222,\"#7201a8\"],[0.3333333333333333,\"#9c179e\"],[0.4444444444444444,\"#bd3786\"],[0.5555555555555556,\"#d8576b\"],[0.6666666666666666,\"#ed7953\"],[0.7777777777777778,\"#fb9f3a\"],[0.8888888888888888,\"#fdca26\"],[1.0,\"#f0f921\"]],\"sequentialminus\":[[0.0,\"#0d0887\"],[0.1111111111111111,\"#46039f\"],[0.2222222222222222,\"#7201a8\"],[0.3333333333333333,\"#9c179e\"],[0.4444444444444444,\"#bd3786\"],[0.5555555555555556,\"#d8576b\"],[0.6666666666666666,\"#ed7953\"],[0.7777777777777778,\"#fb9f3a\"],[0.8888888888888888,\"#fdca26\"],[1.0,\"#f0f921\"]]},\"colorway\":[\"#636efa\",\"#EF553B\",\"#00cc96\",\"#ab63fa\",\"#FFA15A\",\"#19d3f3\",\"#FF6692\",\"#B6E880\",\"#FF97FF\",\"#FECB52\"],\"font\":{\"color\":\"#2a3f5f\"},\"geo\":{\"bgcolor\":\"white\",\"lakecolor\":\"white\",\"landcolor\":\"#E5ECF6\",\"showlakes\":true,\"showland\":true,\"subunitcolor\":\"white\"},\"hoverlabel\":{\"align\":\"left\"},\"hovermode\":\"closest\",\"mapbox\":{\"style\":\"light\"},\"paper_bgcolor\":\"white\",\"plot_bgcolor\":\"#E5ECF6\",\"polar\":{\"angularaxis\":{\"gridcolor\":\"white\",\"linecolor\":\"white\",\"ticks\":\"\"},\"bgcolor\":\"#E5ECF6\",\"radialaxis\":{\"gridcolor\":\"white\",\"linecolor\":\"white\",\"ticks\":\"\"}},\"scene\":{\"xaxis\":{\"backgroundcolor\":\"#E5ECF6\",\"gridcolor\":\"white\",\"gridwidth\":2,\"linecolor\":\"white\",\"showbackground\":true,\"ticks\":\"\",\"zerolinecolor\":\"white\"},\"yaxis\":{\"backgroundcolor\":\"#E5ECF6\",\"gridcolor\":\"white\",\"gridwidth\":2,\"linecolor\":\"white\",\"showbackground\":true,\"ticks\":\"\",\"zerolinecolor\":\"white\"},\"zaxis\":{\"backgroundcolor\":\"#E5ECF6\",\"gridcolor\":\"white\",\"gridwidth\":2,\"linecolor\":\"white\",\"showbackground\":true,\"ticks\":\"\",\"zerolinecolor\":\"white\"}},\"shapedefaults\":{\"line\":{\"color\":\"#2a3f5f\"}},\"ternary\":{\"aaxis\":{\"gridcolor\":\"white\",\"linecolor\":\"white\",\"ticks\":\"\"},\"baxis\":{\"gridcolor\":\"white\",\"linecolor\":\"white\",\"ticks\":\"\"},\"bgcolor\":\"#E5ECF6\",\"caxis\":{\"gridcolor\":\"white\",\"linecolor\":\"white\",\"ticks\":\"\"}},\"title\":{\"x\":0.05},\"xaxis\":{\"automargin\":true,\"gridcolor\":\"white\",\"linecolor\":\"white\",\"ticks\":\"\",\"title\":{\"standoff\":15},\"zerolinecolor\":\"white\",\"zerolinewidth\":2},\"yaxis\":{\"automargin\":true,\"gridcolor\":\"white\",\"linecolor\":\"white\",\"ticks\":\"\",\"title\":{\"standoff\":15},\"zerolinecolor\":\"white\",\"zerolinewidth\":2}}},\"xaxis\":{\"anchor\":\"y\",\"domain\":[0.0,1.0],\"title\":{\"text\":\"savings_status\"}},\"yaxis\":{\"anchor\":\"x\",\"domain\":[0.0,1.0],\"title\":{\"text\":\"count\"}},\"legend\":{\"title\":{\"text\":\"risk\"},\"tracegroupgap\":0},\"margin\":{\"t\":60},\"barmode\":\"relative\"},                        {\"responsive\": true}                    ).then(function(){\n",
              "                            \n",
              "var gd = document.getElementById('924fd89e-94dc-4219-9723-2ae826a86e63');\n",
              "var x = new MutationObserver(function (mutations, observer) {{\n",
              "        var display = window.getComputedStyle(gd).display;\n",
              "        if (!display || display === 'none') {{\n",
              "            console.log([gd, 'removed!']);\n",
              "            Plotly.purge(gd);\n",
              "            observer.disconnect();\n",
              "        }}\n",
              "}});\n",
              "\n",
              "// Listen for the removal of the full notebook cells\n",
              "var notebookContainer = gd.closest('#notebook-container');\n",
              "if (notebookContainer) {{\n",
              "    x.observe(notebookContainer, {childList: true});\n",
              "}}\n",
              "\n",
              "// Listen for the clearing of the current output cell\n",
              "var outputEl = gd.closest('.output');\n",
              "if (outputEl) {{\n",
              "    x.observe(outputEl, {childList: true});\n",
              "}}\n",
              "\n",
              "                        })                };                            </script>        </div>\n",
              "</body>\n",
              "</html>"
            ]
          },
          "metadata": {}
        },
        {
          "output_type": "display_data",
          "data": {
            "text/html": [
              "<html>\n",
              "<head><meta charset=\"utf-8\" /></head>\n",
              "<body>\n",
              "    <div>            <script src=\"https://cdnjs.cloudflare.com/ajax/libs/mathjax/2.7.5/MathJax.js?config=TeX-AMS-MML_SVG\"></script><script type=\"text/javascript\">if (window.MathJax) {MathJax.Hub.Config({SVG: {font: \"STIX-Web\"}});}</script>                <script type=\"text/javascript\">window.PlotlyConfig = {MathJaxConfig: 'local'};</script>\n",
              "        <script src=\"https://cdn.plot.ly/plotly-2.8.3.min.js\"></script>                <div id=\"95daf781-7b50-429e-a00c-76fe50f5f686\" class=\"plotly-graph-div\" style=\"height:525px; width:100%;\"></div>            <script type=\"text/javascript\">                                    window.PLOTLYENV=window.PLOTLYENV || {};                                    if (document.getElementById(\"95daf781-7b50-429e-a00c-76fe50f5f686\")) {                    Plotly.newPlot(                        \"95daf781-7b50-429e-a00c-76fe50f5f686\",                        [{\"alignmentgroup\":\"True\",\"bingroup\":\"x\",\"hovertemplate\":\"risk=good<br>employment=%{x}<br>count=%{y}<extra></extra>\",\"legendgroup\":\"good\",\"marker\":{\"color\":\"#636efa\",\"pattern\":{\"shape\":\"\"}},\"name\":\"good\",\"offsetgroup\":\"good\",\"orientation\":\"v\",\"showlegend\":true,\"x\":[\">=7\",\"4<=X<7\",\"4<=X<7\",\"1<=X<4\",\">=7\",\"1<=X<4\",\"4<=X<7\",\"1<=X<4\",\"1<=X<4\",\">=7\",\"<1\",\">=7\",\"1<=X<4\",\"1<=X<4\",\"<1\",\"<1\",\"1<=X<4\",\"1<=X<4\",\">=7\",\"1<=X<4\",\"1<=X<4\",\"<1\",\"1<=X<4\",\"1<=X<4\",\">=7\",\"<1\",\"1<=X<4\",\"1<=X<4\",\"1<=X<4\",\">=7\",\"1<=X<4\",\"1<=X<4\",\"4<=X<7\",\"<1\",\">=7\",\"unemployed\",\"1<=X<4\",\"1<=X<4\",\"<1\",\">=7\",\"1<=X<4\",\"1<=X<4\",\"1<=X<4\",\"1<=X<4\",\">=7\",\"1<=X<4\",\">=7\",\"<1\",\">=7\",\"<1\",\"1<=X<4\",\"1<=X<4\",\"1<=X<4\",\">=7\",\">=7\",\"4<=X<7\",\">=7\",\"4<=X<7\",\"1<=X<4\",\"<1\",\">=7\",\"1<=X<4\",\">=7\",\">=7\",\"1<=X<4\",\"<1\",\"4<=X<7\",\">=7\",\">=7\",\">=7\",\">=7\",\"4<=X<7\",\"1<=X<4\",\">=7\",\"4<=X<7\",\">=7\",\"4<=X<7\",\"1<=X<4\",\"4<=X<7\",\"<1\",\"4<=X<7\",\"<1\",\">=7\",\">=7\",\"<1\",\"4<=X<7\",\">=7\",\">=7\",\"<1\",\"4<=X<7\",\">=7\",\"1<=X<4\",\">=7\",\"1<=X<4\",\"1<=X<4\",\"unemployed\",\"4<=X<7\",\"<1\",\"1<=X<4\",\"4<=X<7\",\">=7\",\"1<=X<4\",\"4<=X<7\",\"1<=X<4\",\"<1\",\"<1\",\"1<=X<4\",\"<1\",\"4<=X<7\",\">=7\",\"4<=X<7\",\"1<=X<4\",\">=7\",\">=7\",\"1<=X<4\",\"1<=X<4\",\">=7\",\"4<=X<7\",\">=7\",\">=7\",\"4<=X<7\",\"1<=X<4\",\">=7\",\"<1\",\"4<=X<7\",\"unemployed\",\">=7\",\"1<=X<4\",\"<1\",\"4<=X<7\",\"1<=X<4\",\"1<=X<4\",\"1<=X<4\",\">=7\",\"4<=X<7\",\">=7\",\"1<=X<4\",\"1<=X<4\",\"unemployed\",\"1<=X<4\",\"4<=X<7\",\"1<=X<4\",\">=7\",\">=7\",\"1<=X<4\",\"4<=X<7\",\">=7\",\">=7\",\">=7\",\"4<=X<7\",\"1<=X<4\",\"4<=X<7\",\"1<=X<4\",\">=7\",\">=7\",\"4<=X<7\",\"4<=X<7\",\"1<=X<4\",\"1<=X<4\",\"1<=X<4\",\"<1\",\"1<=X<4\",\"1<=X<4\",\"1<=X<4\",\"1<=X<4\",\"1<=X<4\",\"<1\",\">=7\",\"4<=X<7\",\"1<=X<4\",\"4<=X<7\",\"1<=X<4\",\">=7\",\"4<=X<7\",\"1<=X<4\",\"1<=X<4\",\"4<=X<7\",\">=7\",\"1<=X<4\",\"1<=X<4\",\"4<=X<7\",\"1<=X<4\",\"1<=X<4\",\"4<=X<7\",\"1<=X<4\",\"1<=X<4\",\"<1\",\"unemployed\",\"1<=X<4\",\">=7\",\">=7\",\">=7\",\">=7\",\">=7\",\"<1\",\">=7\",\"4<=X<7\",\"4<=X<7\",\"unemployed\",\"1<=X<4\",\"1<=X<4\",\">=7\",\"1<=X<4\",\">=7\",\"1<=X<4\",\"4<=X<7\",\">=7\",\"<1\",\"<1\",\"4<=X<7\",\"unemployed\",\"1<=X<4\",\"1<=X<4\",\">=7\",\">=7\",\">=7\",\"<1\",\">=7\",\"1<=X<4\",\"4<=X<7\",\"unemployed\",\"4<=X<7\",\"1<=X<4\",\"4<=X<7\",\"1<=X<4\",\"unemployed\",\"1<=X<4\",\"<1\",\"<1\",\"1<=X<4\",\"1<=X<4\",\"1<=X<4\",\">=7\",\"4<=X<7\",\"1<=X<4\",\"1<=X<4\",\"4<=X<7\",\">=7\",\"4<=X<7\",\">=7\",\">=7\",\"unemployed\",\"<1\",\"1<=X<4\",\"1<=X<4\",\"<1\",\"4<=X<7\",\"<1\",\">=7\",\"<1\",\"1<=X<4\",\"<1\",\"unemployed\",\"1<=X<4\",\"<1\",\"unemployed\",\">=7\",\">=7\",\"1<=X<4\",\"1<=X<4\",\">=7\",\"1<=X<4\",\"1<=X<4\",\"4<=X<7\",\"4<=X<7\",\"<1\",\"4<=X<7\",\"1<=X<4\",\">=7\",\"<1\",\">=7\",\"unemployed\",\">=7\",\"1<=X<4\",\"4<=X<7\",\"4<=X<7\",\"<1\",\"1<=X<4\",\"1<=X<4\",\"<1\",\"unemployed\",\"1<=X<4\",\"4<=X<7\",\"1<=X<4\",\"<1\",\"4<=X<7\",\"4<=X<7\",\"unemployed\",\"4<=X<7\",\"unemployed\",\"1<=X<4\",\"1<=X<4\",\"<1\",\"1<=X<4\",\"1<=X<4\",\">=7\",\"4<=X<7\",\"<1\",\">=7\",\">=7\",\"4<=X<7\",\"1<=X<4\",\">=7\",\"1<=X<4\",\"4<=X<7\",\"4<=X<7\",\"1<=X<4\",\"4<=X<7\",\"4<=X<7\",\"1<=X<4\",\">=7\",\"1<=X<4\",\">=7\",\"4<=X<7\",\"unemployed\",\"1<=X<4\",\"1<=X<4\",\"4<=X<7\",\">=7\",\"unemployed\",\">=7\",\"1<=X<4\",\"1<=X<4\",\">=7\",\"1<=X<4\",\">=7\",\"1<=X<4\",\"1<=X<4\",\">=7\",\">=7\",\"<1\",\"1<=X<4\",\"<1\",\"<1\",\"1<=X<4\",\"<1\",\"<1\",\">=7\",\"4<=X<7\",\"1<=X<4\",\">=7\",\"1<=X<4\",\"4<=X<7\",\"unemployed\",\"1<=X<4\",\"4<=X<7\",\"4<=X<7\",\">=7\",\"1<=X<4\",\"<1\",\">=7\",\"4<=X<7\",\"1<=X<4\",\"1<=X<4\",\">=7\",\"1<=X<4\",\"1<=X<4\",\">=7\",\"1<=X<4\",\">=7\",\"1<=X<4\",\"4<=X<7\",\">=7\",\">=7\",\">=7\",\">=7\",\"1<=X<4\",\"1<=X<4\",\">=7\",\"1<=X<4\",\"4<=X<7\",\"1<=X<4\",\"<1\",\"4<=X<7\",\"<1\",\">=7\",\">=7\",\">=7\",\"4<=X<7\",\"1<=X<4\",\"<1\",\"1<=X<4\",\"4<=X<7\",\"<1\",\"4<=X<7\",\"1<=X<4\",\"4<=X<7\",\"<1\",\"unemployed\",\">=7\",\"<1\",\">=7\",\">=7\",\"1<=X<4\",\"4<=X<7\",\"4<=X<7\",\"4<=X<7\",\">=7\",\"<1\",\"4<=X<7\",\">=7\",\"<1\",\"1<=X<4\",\"4<=X<7\",\">=7\",\"4<=X<7\",\"4<=X<7\",\"unemployed\",\"1<=X<4\",\">=7\",\"4<=X<7\",\"4<=X<7\",\"1<=X<4\",\"<1\",\"<1\",\"1<=X<4\",\">=7\",\"1<=X<4\",\"1<=X<4\",\"4<=X<7\",\"1<=X<4\",\">=7\",\"1<=X<4\",\"<1\",\"<1\",\"1<=X<4\",\"1<=X<4\",\"<1\",\">=7\",\"<1\",\"1<=X<4\",\"1<=X<4\",\"1<=X<4\",\"1<=X<4\",\"1<=X<4\",\"4<=X<7\",\"<1\",\">=7\",\"1<=X<4\",\"1<=X<4\",\">=7\",\"1<=X<4\",\"<1\",\">=7\",\"4<=X<7\",\"4<=X<7\",\"<1\",\">=7\",\"4<=X<7\",\"4<=X<7\",\"1<=X<4\",\"4<=X<7\",\"4<=X<7\",\"unemployed\",\"4<=X<7\",\"1<=X<4\",\">=7\",\"1<=X<4\",\">=7\",\"unemployed\",\"1<=X<4\",\"unemployed\",\"1<=X<4\",\"1<=X<4\",\">=7\",\"1<=X<4\",\"4<=X<7\",\">=7\",\"1<=X<4\",\"4<=X<7\",\">=7\",\">=7\",\"<1\",\"<1\",\"1<=X<4\",\"1<=X<4\",\"<1\",\"4<=X<7\",\"1<=X<4\",\"4<=X<7\",\">=7\",\">=7\",\"1<=X<4\",\"1<=X<4\",\"1<=X<4\",\"<1\",\"<1\",\"4<=X<7\",\"1<=X<4\",\"4<=X<7\",\"unemployed\",\"1<=X<4\",\">=7\",\">=7\",\">=7\",\"<1\",\">=7\",\">=7\",\"1<=X<4\",\">=7\",\">=7\",\"1<=X<4\",\">=7\",\">=7\",\"1<=X<4\",\"1<=X<4\",\">=7\",\"1<=X<4\",\"1<=X<4\",\"1<=X<4\",\"1<=X<4\",\"<1\",\"4<=X<7\",\"1<=X<4\",\"4<=X<7\",\"<1\",\"1<=X<4\",\"4<=X<7\",\"4<=X<7\",\"1<=X<4\",\">=7\",\"1<=X<4\",\"4<=X<7\",\"<1\",\"unemployed\",\"1<=X<4\",\"4<=X<7\",\">=7\",\"4<=X<7\",\"4<=X<7\",\"1<=X<4\",\"1<=X<4\",\">=7\",\"1<=X<4\",\"4<=X<7\",\">=7\",\"<1\",\">=7\",\">=7\",\">=7\",\">=7\",\">=7\",\"unemployed\",\"4<=X<7\",\"4<=X<7\",\">=7\",\"unemployed\",\">=7\",\"1<=X<4\",\"unemployed\",\"1<=X<4\",\">=7\",\">=7\",\">=7\",\"1<=X<4\",\">=7\",\">=7\",\"<1\",\"<1\",\">=7\",\"<1\",\">=7\",\">=7\",\">=7\",\">=7\",\"unemployed\",\"<1\",\">=7\",\"unemployed\",\"<1\",\"4<=X<7\",\"1<=X<4\",\"1<=X<4\",\"4<=X<7\",\"unemployed\",\"1<=X<4\",\"1<=X<4\",\">=7\",\"<1\",\">=7\",\"1<=X<4\",\"1<=X<4\",\">=7\",\"1<=X<4\",\"<1\",\">=7\",\">=7\",\"1<=X<4\",\"4<=X<7\",\">=7\",\"4<=X<7\",\"<1\",\"4<=X<7\",\"4<=X<7\",\"1<=X<4\",\">=7\",\"<1\",\"4<=X<7\",\"1<=X<4\",\"1<=X<4\",\"1<=X<4\",\"<1\",\"1<=X<4\",\"<1\",\">=7\",\">=7\",\">=7\",\"4<=X<7\",\">=7\",\"4<=X<7\",\"<1\",\"1<=X<4\",\"1<=X<4\",\"<1\",\">=7\",\"4<=X<7\",\"4<=X<7\",\"1<=X<4\",\">=7\",\"unemployed\",\"4<=X<7\",\">=7\",\"<1\",\">=7\",\">=7\",\"1<=X<4\",\"1<=X<4\",\"1<=X<4\",\"4<=X<7\",\"<1\",\"4<=X<7\",\"4<=X<7\",\"<1\",\">=7\",\"1<=X<4\",\">=7\",\"1<=X<4\",\"4<=X<7\",\"1<=X<4\",\"<1\",\"1<=X<4\",\"1<=X<4\",\">=7\",\">=7\",\"1<=X<4\",\"1<=X<4\",\"4<=X<7\",\"4<=X<7\",\"<1\",\">=7\",\"1<=X<4\",\"<1\",\"1<=X<4\",\">=7\",\"1<=X<4\",\"<1\",\"1<=X<4\",\"<1\",\"1<=X<4\",\"4<=X<7\",\"4<=X<7\",\"<1\",\"<1\",\"unemployed\",\"unemployed\",\"1<=X<4\",\">=7\",\">=7\",\">=7\",\">=7\",\">=7\",\"1<=X<4\",\"1<=X<4\",\"<1\",\"1<=X<4\",\">=7\",\"4<=X<7\",\"1<=X<4\",\"1<=X<4\",\"1<=X<4\",\"1<=X<4\",\"1<=X<4\",\"1<=X<4\",\">=7\",\"1<=X<4\",\"4<=X<7\",\"1<=X<4\",\"<1\",\"unemployed\",\"unemployed\",\">=7\",\"<1\",\">=7\",\"4<=X<7\",\"unemployed\",\">=7\",\"4<=X<7\",\"1<=X<4\",\">=7\",\"unemployed\"],\"xaxis\":\"x\",\"yaxis\":\"y\",\"type\":\"histogram\"},{\"alignmentgroup\":\"True\",\"bingroup\":\"x\",\"hovertemplate\":\"risk=bad<br>employment=%{x}<br>count=%{y}<extra></extra>\",\"legendgroup\":\"bad\",\"marker\":{\"color\":\"#EF553B\",\"pattern\":{\"shape\":\"\"}},\"name\":\"bad\",\"offsetgroup\":\"bad\",\"orientation\":\"v\",\"showlegend\":true,\"x\":[\"1<=X<4\",\"1<=X<4\",\"unemployed\",\"<1\",\"<1\",\">=7\",\"1<=X<4\",\">=7\",\">=7\",\"<1\",\"1<=X<4\",\">=7\",\">=7\",\"unemployed\",\"<1\",\">=7\",\"1<=X<4\",\"1<=X<4\",\">=7\",\"<1\",\"<1\",\"1<=X<4\",\"4<=X<7\",\">=7\",\"<1\",\"1<=X<4\",\">=7\",\"1<=X<4\",\"4<=X<7\",\"1<=X<4\",\"1<=X<4\",\"<1\",\"1<=X<4\",\"1<=X<4\",\"1<=X<4\",\"1<=X<4\",\"1<=X<4\",\"1<=X<4\",\"unemployed\",\">=7\",\">=7\",\"unemployed\",\"<1\",\"unemployed\",\"<1\",\"1<=X<4\",\"1<=X<4\",\">=7\",\">=7\",\"4<=X<7\",\"1<=X<4\",\"4<=X<7\",\"1<=X<4\",\"1<=X<4\",\">=7\",\"<1\",\">=7\",\"4<=X<7\",\"unemployed\",\">=7\",\"4<=X<7\",\">=7\",\"4<=X<7\",\"1<=X<4\",\"unemployed\",\"unemployed\",\">=7\",\">=7\",\">=7\",\"unemployed\",\"1<=X<4\",\"1<=X<4\",\">=7\",\">=7\",\"4<=X<7\",\"<1\",\"<1\",\"<1\",\"<1\",\"<1\",\"1<=X<4\",\"4<=X<7\",\"1<=X<4\",\"<1\",\"1<=X<4\",\"4<=X<7\",\">=7\",\"unemployed\",\"<1\",\"1<=X<4\",\"<1\",\"1<=X<4\",\">=7\",\"1<=X<4\",\"1<=X<4\",\">=7\",\"1<=X<4\",\"1<=X<4\",\"<1\",\"1<=X<4\",\"4<=X<7\",\"unemployed\",\">=7\",\">=7\",\"4<=X<7\",\">=7\",\"unemployed\",\">=7\",\"<1\",\"<1\",\"4<=X<7\",\"unemployed\",\"1<=X<4\",\"<1\",\"1<=X<4\",\">=7\",\"unemployed\",\"1<=X<4\",\"1<=X<4\",\"<1\",\">=7\",\"1<=X<4\",\"<1\",\"1<=X<4\",\"4<=X<7\",\">=7\",\"<1\",\"<1\",\"<1\",\"1<=X<4\",\"1<=X<4\",\"<1\",\"unemployed\",\">=7\",\"1<=X<4\",\"<1\",\"<1\",\"<1\",\"<1\",\"1<=X<4\",\"unemployed\",\"4<=X<7\",\"<1\",\"1<=X<4\",\"1<=X<4\",\"1<=X<4\",\"1<=X<4\",\"<1\",\">=7\",\"<1\",\">=7\",\"1<=X<4\",\"unemployed\",\"1<=X<4\",\"4<=X<7\",\"<1\",\"<1\",\"1<=X<4\",\"4<=X<7\",\"<1\",\"4<=X<7\",\"1<=X<4\",\"4<=X<7\",\"1<=X<4\",\"<1\",\"<1\",\">=7\",\"<1\",\"1<=X<4\",\"1<=X<4\",\">=7\",\"1<=X<4\",\">=7\",\"<1\",\"4<=X<7\",\"1<=X<4\",\"4<=X<7\",\"1<=X<4\",\"4<=X<7\",\"1<=X<4\",\"1<=X<4\",\"unemployed\",\">=7\",\"4<=X<7\",\"1<=X<4\",\"1<=X<4\",\"1<=X<4\",\"1<=X<4\",\"4<=X<7\",\"1<=X<4\",\"<1\",\"<1\",\"4<=X<7\",\"unemployed\",\"1<=X<4\",\"<1\",\"1<=X<4\",\"4<=X<7\",\"1<=X<4\",\"1<=X<4\",\">=7\",\">=7\",\">=7\",\"1<=X<4\",\">=7\",\"<1\",\"1<=X<4\",\"1<=X<4\",\">=7\",\"4<=X<7\",\"<1\",\">=7\",\"4<=X<7\",\"<1\",\"<1\",\"1<=X<4\",\"1<=X<4\",\"1<=X<4\",\">=7\",\"1<=X<4\",\"1<=X<4\",\"1<=X<4\",\"<1\",\"<1\",\">=7\",\"4<=X<7\",\"1<=X<4\",\">=7\",\"1<=X<4\",\">=7\",\"<1\",\"1<=X<4\",\"1<=X<4\",\"4<=X<7\",\"<1\",\">=7\",\"1<=X<4\",\">=7\",\">=7\",\"4<=X<7\",\"<1\",\"4<=X<7\",\"1<=X<4\",\"4<=X<7\",\"1<=X<4\",\">=7\",\">=7\",\"1<=X<4\",\">=7\",\"<1\",\">=7\",\"<1\",\"1<=X<4\",\"4<=X<7\",\"<1\",\"1<=X<4\",\">=7\",\"1<=X<4\",\"4<=X<7\",\"1<=X<4\",\"1<=X<4\",\"<1\",\"1<=X<4\",\"<1\",\"4<=X<7\",\"<1\",\"1<=X<4\",\"1<=X<4\",\">=7\",\"<1\",\"1<=X<4\",\"1<=X<4\",\">=7\",\"unemployed\",\">=7\",\"<1\",\"<1\",\"<1\",\"4<=X<7\",\"<1\",\"<1\",\"1<=X<4\",\"1<=X<4\",\"<1\",\"<1\",\">=7\",\"4<=X<7\",\"<1\",\"unemployed\",\"1<=X<4\",\">=7\",\"1<=X<4\",\"unemployed\",\">=7\",\">=7\",\"1<=X<4\",\"4<=X<7\",\"unemployed\",\"1<=X<4\",\"1<=X<4\"],\"xaxis\":\"x\",\"yaxis\":\"y\",\"type\":\"histogram\"}],                        {\"template\":{\"data\":{\"bar\":[{\"error_x\":{\"color\":\"#2a3f5f\"},\"error_y\":{\"color\":\"#2a3f5f\"},\"marker\":{\"line\":{\"color\":\"#E5ECF6\",\"width\":0.5},\"pattern\":{\"fillmode\":\"overlay\",\"size\":10,\"solidity\":0.2}},\"type\":\"bar\"}],\"barpolar\":[{\"marker\":{\"line\":{\"color\":\"#E5ECF6\",\"width\":0.5},\"pattern\":{\"fillmode\":\"overlay\",\"size\":10,\"solidity\":0.2}},\"type\":\"barpolar\"}],\"carpet\":[{\"aaxis\":{\"endlinecolor\":\"#2a3f5f\",\"gridcolor\":\"white\",\"linecolor\":\"white\",\"minorgridcolor\":\"white\",\"startlinecolor\":\"#2a3f5f\"},\"baxis\":{\"endlinecolor\":\"#2a3f5f\",\"gridcolor\":\"white\",\"linecolor\":\"white\",\"minorgridcolor\":\"white\",\"startlinecolor\":\"#2a3f5f\"},\"type\":\"carpet\"}],\"choropleth\":[{\"colorbar\":{\"outlinewidth\":0,\"ticks\":\"\"},\"type\":\"choropleth\"}],\"contour\":[{\"colorbar\":{\"outlinewidth\":0,\"ticks\":\"\"},\"colorscale\":[[0.0,\"#0d0887\"],[0.1111111111111111,\"#46039f\"],[0.2222222222222222,\"#7201a8\"],[0.3333333333333333,\"#9c179e\"],[0.4444444444444444,\"#bd3786\"],[0.5555555555555556,\"#d8576b\"],[0.6666666666666666,\"#ed7953\"],[0.7777777777777778,\"#fb9f3a\"],[0.8888888888888888,\"#fdca26\"],[1.0,\"#f0f921\"]],\"type\":\"contour\"}],\"contourcarpet\":[{\"colorbar\":{\"outlinewidth\":0,\"ticks\":\"\"},\"type\":\"contourcarpet\"}],\"heatmap\":[{\"colorbar\":{\"outlinewidth\":0,\"ticks\":\"\"},\"colorscale\":[[0.0,\"#0d0887\"],[0.1111111111111111,\"#46039f\"],[0.2222222222222222,\"#7201a8\"],[0.3333333333333333,\"#9c179e\"],[0.4444444444444444,\"#bd3786\"],[0.5555555555555556,\"#d8576b\"],[0.6666666666666666,\"#ed7953\"],[0.7777777777777778,\"#fb9f3a\"],[0.8888888888888888,\"#fdca26\"],[1.0,\"#f0f921\"]],\"type\":\"heatmap\"}],\"heatmapgl\":[{\"colorbar\":{\"outlinewidth\":0,\"ticks\":\"\"},\"colorscale\":[[0.0,\"#0d0887\"],[0.1111111111111111,\"#46039f\"],[0.2222222222222222,\"#7201a8\"],[0.3333333333333333,\"#9c179e\"],[0.4444444444444444,\"#bd3786\"],[0.5555555555555556,\"#d8576b\"],[0.6666666666666666,\"#ed7953\"],[0.7777777777777778,\"#fb9f3a\"],[0.8888888888888888,\"#fdca26\"],[1.0,\"#f0f921\"]],\"type\":\"heatmapgl\"}],\"histogram\":[{\"marker\":{\"pattern\":{\"fillmode\":\"overlay\",\"size\":10,\"solidity\":0.2}},\"type\":\"histogram\"}],\"histogram2d\":[{\"colorbar\":{\"outlinewidth\":0,\"ticks\":\"\"},\"colorscale\":[[0.0,\"#0d0887\"],[0.1111111111111111,\"#46039f\"],[0.2222222222222222,\"#7201a8\"],[0.3333333333333333,\"#9c179e\"],[0.4444444444444444,\"#bd3786\"],[0.5555555555555556,\"#d8576b\"],[0.6666666666666666,\"#ed7953\"],[0.7777777777777778,\"#fb9f3a\"],[0.8888888888888888,\"#fdca26\"],[1.0,\"#f0f921\"]],\"type\":\"histogram2d\"}],\"histogram2dcontour\":[{\"colorbar\":{\"outlinewidth\":0,\"ticks\":\"\"},\"colorscale\":[[0.0,\"#0d0887\"],[0.1111111111111111,\"#46039f\"],[0.2222222222222222,\"#7201a8\"],[0.3333333333333333,\"#9c179e\"],[0.4444444444444444,\"#bd3786\"],[0.5555555555555556,\"#d8576b\"],[0.6666666666666666,\"#ed7953\"],[0.7777777777777778,\"#fb9f3a\"],[0.8888888888888888,\"#fdca26\"],[1.0,\"#f0f921\"]],\"type\":\"histogram2dcontour\"}],\"mesh3d\":[{\"colorbar\":{\"outlinewidth\":0,\"ticks\":\"\"},\"type\":\"mesh3d\"}],\"parcoords\":[{\"line\":{\"colorbar\":{\"outlinewidth\":0,\"ticks\":\"\"}},\"type\":\"parcoords\"}],\"pie\":[{\"automargin\":true,\"type\":\"pie\"}],\"scatter\":[{\"marker\":{\"colorbar\":{\"outlinewidth\":0,\"ticks\":\"\"}},\"type\":\"scatter\"}],\"scatter3d\":[{\"line\":{\"colorbar\":{\"outlinewidth\":0,\"ticks\":\"\"}},\"marker\":{\"colorbar\":{\"outlinewidth\":0,\"ticks\":\"\"}},\"type\":\"scatter3d\"}],\"scattercarpet\":[{\"marker\":{\"colorbar\":{\"outlinewidth\":0,\"ticks\":\"\"}},\"type\":\"scattercarpet\"}],\"scattergeo\":[{\"marker\":{\"colorbar\":{\"outlinewidth\":0,\"ticks\":\"\"}},\"type\":\"scattergeo\"}],\"scattergl\":[{\"marker\":{\"colorbar\":{\"outlinewidth\":0,\"ticks\":\"\"}},\"type\":\"scattergl\"}],\"scattermapbox\":[{\"marker\":{\"colorbar\":{\"outlinewidth\":0,\"ticks\":\"\"}},\"type\":\"scattermapbox\"}],\"scatterpolar\":[{\"marker\":{\"colorbar\":{\"outlinewidth\":0,\"ticks\":\"\"}},\"type\":\"scatterpolar\"}],\"scatterpolargl\":[{\"marker\":{\"colorbar\":{\"outlinewidth\":0,\"ticks\":\"\"}},\"type\":\"scatterpolargl\"}],\"scatterternary\":[{\"marker\":{\"colorbar\":{\"outlinewidth\":0,\"ticks\":\"\"}},\"type\":\"scatterternary\"}],\"surface\":[{\"colorbar\":{\"outlinewidth\":0,\"ticks\":\"\"},\"colorscale\":[[0.0,\"#0d0887\"],[0.1111111111111111,\"#46039f\"],[0.2222222222222222,\"#7201a8\"],[0.3333333333333333,\"#9c179e\"],[0.4444444444444444,\"#bd3786\"],[0.5555555555555556,\"#d8576b\"],[0.6666666666666666,\"#ed7953\"],[0.7777777777777778,\"#fb9f3a\"],[0.8888888888888888,\"#fdca26\"],[1.0,\"#f0f921\"]],\"type\":\"surface\"}],\"table\":[{\"cells\":{\"fill\":{\"color\":\"#EBF0F8\"},\"line\":{\"color\":\"white\"}},\"header\":{\"fill\":{\"color\":\"#C8D4E3\"},\"line\":{\"color\":\"white\"}},\"type\":\"table\"}]},\"layout\":{\"annotationdefaults\":{\"arrowcolor\":\"#2a3f5f\",\"arrowhead\":0,\"arrowwidth\":1},\"autotypenumbers\":\"strict\",\"coloraxis\":{\"colorbar\":{\"outlinewidth\":0,\"ticks\":\"\"}},\"colorscale\":{\"diverging\":[[0,\"#8e0152\"],[0.1,\"#c51b7d\"],[0.2,\"#de77ae\"],[0.3,\"#f1b6da\"],[0.4,\"#fde0ef\"],[0.5,\"#f7f7f7\"],[0.6,\"#e6f5d0\"],[0.7,\"#b8e186\"],[0.8,\"#7fbc41\"],[0.9,\"#4d9221\"],[1,\"#276419\"]],\"sequential\":[[0.0,\"#0d0887\"],[0.1111111111111111,\"#46039f\"],[0.2222222222222222,\"#7201a8\"],[0.3333333333333333,\"#9c179e\"],[0.4444444444444444,\"#bd3786\"],[0.5555555555555556,\"#d8576b\"],[0.6666666666666666,\"#ed7953\"],[0.7777777777777778,\"#fb9f3a\"],[0.8888888888888888,\"#fdca26\"],[1.0,\"#f0f921\"]],\"sequentialminus\":[[0.0,\"#0d0887\"],[0.1111111111111111,\"#46039f\"],[0.2222222222222222,\"#7201a8\"],[0.3333333333333333,\"#9c179e\"],[0.4444444444444444,\"#bd3786\"],[0.5555555555555556,\"#d8576b\"],[0.6666666666666666,\"#ed7953\"],[0.7777777777777778,\"#fb9f3a\"],[0.8888888888888888,\"#fdca26\"],[1.0,\"#f0f921\"]]},\"colorway\":[\"#636efa\",\"#EF553B\",\"#00cc96\",\"#ab63fa\",\"#FFA15A\",\"#19d3f3\",\"#FF6692\",\"#B6E880\",\"#FF97FF\",\"#FECB52\"],\"font\":{\"color\":\"#2a3f5f\"},\"geo\":{\"bgcolor\":\"white\",\"lakecolor\":\"white\",\"landcolor\":\"#E5ECF6\",\"showlakes\":true,\"showland\":true,\"subunitcolor\":\"white\"},\"hoverlabel\":{\"align\":\"left\"},\"hovermode\":\"closest\",\"mapbox\":{\"style\":\"light\"},\"paper_bgcolor\":\"white\",\"plot_bgcolor\":\"#E5ECF6\",\"polar\":{\"angularaxis\":{\"gridcolor\":\"white\",\"linecolor\":\"white\",\"ticks\":\"\"},\"bgcolor\":\"#E5ECF6\",\"radialaxis\":{\"gridcolor\":\"white\",\"linecolor\":\"white\",\"ticks\":\"\"}},\"scene\":{\"xaxis\":{\"backgroundcolor\":\"#E5ECF6\",\"gridcolor\":\"white\",\"gridwidth\":2,\"linecolor\":\"white\",\"showbackground\":true,\"ticks\":\"\",\"zerolinecolor\":\"white\"},\"yaxis\":{\"backgroundcolor\":\"#E5ECF6\",\"gridcolor\":\"white\",\"gridwidth\":2,\"linecolor\":\"white\",\"showbackground\":true,\"ticks\":\"\",\"zerolinecolor\":\"white\"},\"zaxis\":{\"backgroundcolor\":\"#E5ECF6\",\"gridcolor\":\"white\",\"gridwidth\":2,\"linecolor\":\"white\",\"showbackground\":true,\"ticks\":\"\",\"zerolinecolor\":\"white\"}},\"shapedefaults\":{\"line\":{\"color\":\"#2a3f5f\"}},\"ternary\":{\"aaxis\":{\"gridcolor\":\"white\",\"linecolor\":\"white\",\"ticks\":\"\"},\"baxis\":{\"gridcolor\":\"white\",\"linecolor\":\"white\",\"ticks\":\"\"},\"bgcolor\":\"#E5ECF6\",\"caxis\":{\"gridcolor\":\"white\",\"linecolor\":\"white\",\"ticks\":\"\"}},\"title\":{\"x\":0.05},\"xaxis\":{\"automargin\":true,\"gridcolor\":\"white\",\"linecolor\":\"white\",\"ticks\":\"\",\"title\":{\"standoff\":15},\"zerolinecolor\":\"white\",\"zerolinewidth\":2},\"yaxis\":{\"automargin\":true,\"gridcolor\":\"white\",\"linecolor\":\"white\",\"ticks\":\"\",\"title\":{\"standoff\":15},\"zerolinecolor\":\"white\",\"zerolinewidth\":2}}},\"xaxis\":{\"anchor\":\"y\",\"domain\":[0.0,1.0],\"title\":{\"text\":\"employment\"}},\"yaxis\":{\"anchor\":\"x\",\"domain\":[0.0,1.0],\"title\":{\"text\":\"count\"}},\"legend\":{\"title\":{\"text\":\"risk\"},\"tracegroupgap\":0},\"margin\":{\"t\":60},\"barmode\":\"relative\"},                        {\"responsive\": true}                    ).then(function(){\n",
              "                            \n",
              "var gd = document.getElementById('95daf781-7b50-429e-a00c-76fe50f5f686');\n",
              "var x = new MutationObserver(function (mutations, observer) {{\n",
              "        var display = window.getComputedStyle(gd).display;\n",
              "        if (!display || display === 'none') {{\n",
              "            console.log([gd, 'removed!']);\n",
              "            Plotly.purge(gd);\n",
              "            observer.disconnect();\n",
              "        }}\n",
              "}});\n",
              "\n",
              "// Listen for the removal of the full notebook cells\n",
              "var notebookContainer = gd.closest('#notebook-container');\n",
              "if (notebookContainer) {{\n",
              "    x.observe(notebookContainer, {childList: true});\n",
              "}}\n",
              "\n",
              "// Listen for the clearing of the current output cell\n",
              "var outputEl = gd.closest('.output');\n",
              "if (outputEl) {{\n",
              "    x.observe(outputEl, {childList: true});\n",
              "}}\n",
              "\n",
              "                        })                };                            </script>        </div>\n",
              "</body>\n",
              "</html>"
            ]
          },
          "metadata": {}
        },
        {
          "output_type": "display_data",
          "data": {
            "text/html": [
              "<html>\n",
              "<head><meta charset=\"utf-8\" /></head>\n",
              "<body>\n",
              "    <div>            <script src=\"https://cdnjs.cloudflare.com/ajax/libs/mathjax/2.7.5/MathJax.js?config=TeX-AMS-MML_SVG\"></script><script type=\"text/javascript\">if (window.MathJax) {MathJax.Hub.Config({SVG: {font: \"STIX-Web\"}});}</script>                <script type=\"text/javascript\">window.PlotlyConfig = {MathJaxConfig: 'local'};</script>\n",
              "        <script src=\"https://cdn.plot.ly/plotly-2.8.3.min.js\"></script>                <div id=\"a175f2e9-ba9b-4d06-af87-01617d55623c\" class=\"plotly-graph-div\" style=\"height:525px; width:100%;\"></div>            <script type=\"text/javascript\">                                    window.PLOTLYENV=window.PLOTLYENV || {};                                    if (document.getElementById(\"a175f2e9-ba9b-4d06-af87-01617d55623c\")) {                    Plotly.newPlot(                        \"a175f2e9-ba9b-4d06-af87-01617d55623c\",                        [{\"alignmentgroup\":\"True\",\"bingroup\":\"x\",\"hovertemplate\":\"risk=good<br>personal_status=%{x}<br>count=%{y}<extra></extra>\",\"legendgroup\":\"good\",\"marker\":{\"color\":\"#636efa\",\"pattern\":{\"shape\":\"\"}},\"name\":\"good\",\"offsetgroup\":\"good\",\"orientation\":\"v\",\"showlegend\":true,\"x\":[\"male single\",\"male single\",\"male single\",\"male single\",\"male single\",\"male single\",\"male div/sep\",\"female div/dep/mar\",\"female div/dep/mar\",\"male single\",\"male single\",\"male single\",\"male single\",\"male single\",\"male single\",\"male single\",\"male mar/wid\",\"male single\",\"male mar/wid\",\"female div/dep/mar\",\"male single\",\"male mar/wid\",\"male single\",\"male single\",\"male single\",\"female div/dep/mar\",\"male single\",\"male single\",\"male single\",\"male single\",\"male div/sep\",\"male single\",\"male mar/wid\",\"female div/dep/mar\",\"male single\",\"female div/dep/mar\",\"male single\",\"female div/dep/mar\",\"male single\",\"male single\",\"male single\",\"male single\",\"male single\",\"female div/dep/mar\",\"female div/dep/mar\",\"male mar/wid\",\"male single\",\"female div/dep/mar\",\"male single\",\"female div/dep/mar\",\"male mar/wid\",\"female div/dep/mar\",\"female div/dep/mar\",\"male single\",\"male single\",\"female div/dep/mar\",\"male single\",\"male single\",\"male single\",\"male mar/wid\",\"male single\",\"female div/dep/mar\",\"female div/dep/mar\",\"male single\",\"female div/dep/mar\",\"female div/dep/mar\",\"male single\",\"male single\",\"male single\",\"male single\",\"male single\",\"female div/dep/mar\",\"male single\",\"male single\",\"male single\",\"male mar/wid\",\"male single\",\"female div/dep/mar\",\"male single\",\"male mar/wid\",\"male single\",\"female div/dep/mar\",\"male mar/wid\",\"male div/sep\",\"female div/dep/mar\",\"male single\",\"male mar/wid\",\"male single\",\"female div/dep/mar\",\"male div/sep\",\"female div/dep/mar\",\"male single\",\"male single\",\"male single\",\"male mar/wid\",\"male single\",\"female div/dep/mar\",\"male single\",\"male single\",\"female div/dep/mar\",\"female div/dep/mar\",\"male single\",\"male single\",\"female div/dep/mar\",\"male mar/wid\",\"female div/dep/mar\",\"male single\",\"female div/dep/mar\",\"male single\",\"female div/dep/mar\",\"female div/dep/mar\",\"male single\",\"male single\",\"male single\",\"male single\",\"male single\",\"female div/dep/mar\",\"male single\",\"male single\",\"male mar/wid\",\"male single\",\"male single\",\"male single\",\"female div/dep/mar\",\"male single\",\"male single\",\"male single\",\"male single\",\"female div/dep/mar\",\"female div/dep/mar\",\"female div/dep/mar\",\"male single\",\"male div/sep\",\"male single\",\"male single\",\"male single\",\"male single\",\"male single\",\"male single\",\"female div/dep/mar\",\"male mar/wid\",\"female div/dep/mar\",\"male single\",\"male single\",\"male mar/wid\",\"male single\",\"male single\",\"male single\",\"male single\",\"male single\",\"male mar/wid\",\"male single\",\"male single\",\"female div/dep/mar\",\"male single\",\"female div/dep/mar\",\"male single\",\"male single\",\"male div/sep\",\"female div/dep/mar\",\"male mar/wid\",\"female div/dep/mar\",\"male single\",\"male single\",\"male single\",\"male single\",\"male single\",\"male single\",\"male single\",\"male mar/wid\",\"male single\",\"female div/dep/mar\",\"male single\",\"male single\",\"female div/dep/mar\",\"female div/dep/mar\",\"male single\",\"male single\",\"male single\",\"male single\",\"female div/dep/mar\",\"female div/dep/mar\",\"male single\",\"male single\",\"male single\",\"male single\",\"female div/dep/mar\",\"female div/dep/mar\",\"male single\",\"female div/dep/mar\",\"male single\",\"female div/dep/mar\",\"male single\",\"male single\",\"female div/dep/mar\",\"male single\",\"male single\",\"female div/dep/mar\",\"male single\",\"male single\",\"female div/dep/mar\",\"male div/sep\",\"male single\",\"male single\",\"male single\",\"male single\",\"male single\",\"male div/sep\",\"female div/dep/mar\",\"male single\",\"male single\",\"female div/dep/mar\",\"male mar/wid\",\"female div/dep/mar\",\"male single\",\"male div/sep\",\"female div/dep/mar\",\"male single\",\"male single\",\"male single\",\"female div/dep/mar\",\"male single\",\"male div/sep\",\"female div/dep/mar\",\"male mar/wid\",\"male single\",\"male single\",\"female div/dep/mar\",\"male single\",\"male single\",\"female div/dep/mar\",\"male single\",\"female div/dep/mar\",\"male single\",\"male single\",\"female div/dep/mar\",\"male single\",\"male single\",\"female div/dep/mar\",\"male single\",\"male single\",\"male single\",\"female div/dep/mar\",\"male single\",\"male div/sep\",\"female div/dep/mar\",\"female div/dep/mar\",\"male mar/wid\",\"male single\",\"male single\",\"female div/dep/mar\",\"male single\",\"female div/dep/mar\",\"male single\",\"female div/dep/mar\",\"male single\",\"male single\",\"male single\",\"male mar/wid\",\"male single\",\"male single\",\"female div/dep/mar\",\"male mar/wid\",\"male single\",\"male single\",\"female div/dep/mar\",\"female div/dep/mar\",\"male single\",\"male single\",\"female div/dep/mar\",\"male single\",\"male mar/wid\",\"male single\",\"female div/dep/mar\",\"male single\",\"female div/dep/mar\",\"male single\",\"male single\",\"female div/dep/mar\",\"female div/dep/mar\",\"male single\",\"male single\",\"female div/dep/mar\",\"male mar/wid\",\"female div/dep/mar\",\"male single\",\"female div/dep/mar\",\"male single\",\"male single\",\"female div/dep/mar\",\"male mar/wid\",\"female div/dep/mar\",\"male mar/wid\",\"male mar/wid\",\"male single\",\"male single\",\"male single\",\"male mar/wid\",\"male div/sep\",\"female div/dep/mar\",\"male single\",\"male single\",\"male single\",\"female div/dep/mar\",\"female div/dep/mar\",\"female div/dep/mar\",\"male single\",\"male single\",\"male single\",\"male mar/wid\",\"male single\",\"male single\",\"male single\",\"male single\",\"male single\",\"male div/sep\",\"male single\",\"male mar/wid\",\"female div/dep/mar\",\"male single\",\"male single\",\"female div/dep/mar\",\"male single\",\"female div/dep/mar\",\"male single\",\"female div/dep/mar\",\"male single\",\"female div/dep/mar\",\"male single\",\"male single\",\"female div/dep/mar\",\"male single\",\"female div/dep/mar\",\"male single\",\"male single\",\"male single\",\"female div/dep/mar\",\"male single\",\"male single\",\"male single\",\"male single\",\"female div/dep/mar\",\"male single\",\"male single\",\"male single\",\"male single\",\"male single\",\"male single\",\"female div/dep/mar\",\"male single\",\"female div/dep/mar\",\"female div/dep/mar\",\"male single\",\"male single\",\"female div/dep/mar\",\"male single\",\"male single\",\"male single\",\"female div/dep/mar\",\"male single\",\"male single\",\"male single\",\"male mar/wid\",\"male div/sep\",\"male single\",\"male div/sep\",\"male single\",\"male mar/wid\",\"male single\",\"male single\",\"male single\",\"male mar/wid\",\"male single\",\"female div/dep/mar\",\"male single\",\"male single\",\"male single\",\"male single\",\"female div/dep/mar\",\"female div/dep/mar\",\"male single\",\"female div/dep/mar\",\"male single\",\"male single\",\"male single\",\"male mar/wid\",\"male mar/wid\",\"male single\",\"female div/dep/mar\",\"female div/dep/mar\",\"female div/dep/mar\",\"male single\",\"male single\",\"female div/dep/mar\",\"male single\",\"male single\",\"female div/dep/mar\",\"male single\",\"male single\",\"female div/dep/mar\",\"male single\",\"female div/dep/mar\",\"male single\",\"female div/dep/mar\",\"male single\",\"male single\",\"male single\",\"female div/dep/mar\",\"female div/dep/mar\",\"male single\",\"female div/dep/mar\",\"female div/dep/mar\",\"female div/dep/mar\",\"male mar/wid\",\"male single\",\"female div/dep/mar\",\"female div/dep/mar\",\"male single\",\"male single\",\"female div/dep/mar\",\"female div/dep/mar\",\"female div/dep/mar\",\"male single\",\"female div/dep/mar\",\"female div/dep/mar\",\"male single\",\"male single\",\"male single\",\"male single\",\"female div/dep/mar\",\"female div/dep/mar\",\"male single\",\"male single\",\"male single\",\"male div/sep\",\"male single\",\"female div/dep/mar\",\"male single\",\"male single\",\"male single\",\"male single\",\"female div/dep/mar\",\"male single\",\"male single\",\"female div/dep/mar\",\"male single\",\"female div/dep/mar\",\"male single\",\"male mar/wid\",\"male mar/wid\",\"male div/sep\",\"male single\",\"male single\",\"male single\",\"male single\",\"female div/dep/mar\",\"male single\",\"male mar/wid\",\"male single\",\"male single\",\"female div/dep/mar\",\"male single\",\"male single\",\"female div/dep/mar\",\"male single\",\"male single\",\"male single\",\"male single\",\"male mar/wid\",\"female div/dep/mar\",\"male single\",\"male single\",\"female div/dep/mar\",\"female div/dep/mar\",\"male single\",\"male mar/wid\",\"male mar/wid\",\"male single\",\"male single\",\"male single\",\"male single\",\"male single\",\"male single\",\"male div/sep\",\"female div/dep/mar\",\"male single\",\"male single\",\"male single\",\"male single\",\"male single\",\"female div/dep/mar\",\"male single\",\"male single\",\"female div/dep/mar\",\"male single\",\"female div/dep/mar\",\"female div/dep/mar\",\"female div/dep/mar\",\"male single\",\"male single\",\"male single\",\"male single\",\"male single\",\"male single\",\"male single\",\"male single\",\"male mar/wid\",\"female div/dep/mar\",\"female div/dep/mar\",\"male mar/wid\",\"male div/sep\",\"male single\",\"female div/dep/mar\",\"female div/dep/mar\",\"female div/dep/mar\",\"female div/dep/mar\",\"male single\",\"male single\",\"male single\",\"male single\",\"male single\",\"male single\",\"male single\",\"male single\",\"female div/dep/mar\",\"male single\",\"male single\",\"female div/dep/mar\",\"female div/dep/mar\",\"female div/dep/mar\",\"male single\",\"male single\",\"female div/dep/mar\",\"male single\",\"male mar/wid\",\"male mar/wid\",\"female div/dep/mar\",\"male single\",\"male single\",\"female div/dep/mar\",\"male single\",\"male single\",\"male single\",\"male single\",\"female div/dep/mar\",\"male single\",\"female div/dep/mar\",\"male single\",\"male single\",\"male div/sep\",\"male single\",\"male single\",\"male single\",\"male single\",\"male mar/wid\",\"male div/sep\",\"male single\",\"female div/dep/mar\",\"female div/dep/mar\",\"male mar/wid\",\"male single\",\"male single\",\"female div/dep/mar\",\"female div/dep/mar\",\"male single\",\"female div/dep/mar\",\"male mar/wid\",\"male single\",\"male single\",\"male mar/wid\",\"male mar/wid\",\"female div/dep/mar\",\"male div/sep\",\"female div/dep/mar\",\"male div/sep\",\"male mar/wid\",\"male mar/wid\",\"male single\",\"male div/sep\",\"male mar/wid\",\"male single\",\"male single\",\"female div/dep/mar\",\"female div/dep/mar\",\"female div/dep/mar\",\"male single\",\"male mar/wid\",\"male single\",\"male single\",\"male single\",\"male single\",\"male mar/wid\",\"male single\",\"male single\",\"male single\",\"male single\",\"male mar/wid\",\"female div/dep/mar\",\"male single\",\"male single\",\"male single\",\"male single\",\"female div/dep/mar\",\"female div/dep/mar\",\"male single\",\"male single\",\"female div/dep/mar\",\"female div/dep/mar\",\"male single\",\"male single\",\"female div/dep/mar\",\"male single\",\"female div/dep/mar\",\"male single\",\"male single\",\"male single\",\"male single\",\"male div/sep\",\"male single\",\"female div/dep/mar\",\"male single\",\"male single\",\"male single\",\"male single\",\"male single\",\"male single\",\"male single\",\"male single\",\"male single\",\"female div/dep/mar\",\"female div/dep/mar\",\"female div/dep/mar\",\"male div/sep\",\"male single\",\"male mar/wid\",\"male single\",\"male single\",\"male single\",\"male mar/wid\",\"female div/dep/mar\",\"female div/dep/mar\",\"female div/dep/mar\",\"female div/dep/mar\",\"male div/sep\",\"male single\",\"female div/dep/mar\",\"male single\",\"male single\",\"female div/dep/mar\",\"male single\",\"male single\",\"male single\",\"male single\",\"male single\",\"female div/dep/mar\",\"male mar/wid\",\"male single\",\"male single\",\"male single\",\"male single\",\"male single\",\"female div/dep/mar\",\"female div/dep/mar\",\"male single\",\"male mar/wid\",\"female div/dep/mar\",\"female div/dep/mar\",\"male single\",\"male single\",\"male single\",\"male mar/wid\",\"male div/sep\",\"male single\",\"male mar/wid\",\"female div/dep/mar\",\"female div/dep/mar\",\"male mar/wid\",\"male single\",\"male single\",\"male single\",\"female div/dep/mar\",\"female div/dep/mar\",\"female div/dep/mar\",\"male single\",\"female div/dep/mar\",\"male single\",\"female div/dep/mar\",\"male div/sep\",\"female div/dep/mar\",\"male single\",\"male single\",\"male single\",\"male single\",\"male mar/wid\",\"male single\",\"male single\",\"female div/dep/mar\",\"male div/sep\",\"male single\",\"male single\"],\"xaxis\":\"x\",\"yaxis\":\"y\",\"type\":\"histogram\"},{\"alignmentgroup\":\"True\",\"bingroup\":\"x\",\"hovertemplate\":\"risk=bad<br>personal_status=%{x}<br>count=%{y}<extra></extra>\",\"legendgroup\":\"bad\",\"marker\":{\"color\":\"#EF553B\",\"pattern\":{\"shape\":\"\"}},\"name\":\"bad\",\"offsetgroup\":\"bad\",\"orientation\":\"v\",\"showlegend\":true,\"x\":[\"female div/dep/mar\",\"male single\",\"male mar/wid\",\"female div/dep/mar\",\"female div/dep/mar\",\"male single\",\"female div/dep/mar\",\"female div/dep/mar\",\"male single\",\"male single\",\"male single\",\"female div/dep/mar\",\"male single\",\"male single\",\"female div/dep/mar\",\"male single\",\"male single\",\"male single\",\"male single\",\"male single\",\"female div/dep/mar\",\"male single\",\"male single\",\"female div/dep/mar\",\"male single\",\"male single\",\"male single\",\"female div/dep/mar\",\"female div/dep/mar\",\"female div/dep/mar\",\"female div/dep/mar\",\"female div/dep/mar\",\"male single\",\"female div/dep/mar\",\"male single\",\"male single\",\"male single\",\"female div/dep/mar\",\"female div/dep/mar\",\"male div/sep\",\"male single\",\"female div/dep/mar\",\"male single\",\"female div/dep/mar\",\"male div/sep\",\"male div/sep\",\"male single\",\"male single\",\"female div/dep/mar\",\"male mar/wid\",\"male single\",\"male single\",\"male single\",\"male single\",\"female div/dep/mar\",\"female div/dep/mar\",\"male div/sep\",\"male mar/wid\",\"male single\",\"male single\",\"male single\",\"male single\",\"male single\",\"male single\",\"male single\",\"male single\",\"male div/sep\",\"female div/dep/mar\",\"male single\",\"female div/dep/mar\",\"female div/dep/mar\",\"male div/sep\",\"male single\",\"male div/sep\",\"male single\",\"male div/sep\",\"female div/dep/mar\",\"male mar/wid\",\"male mar/wid\",\"female div/dep/mar\",\"female div/dep/mar\",\"male single\",\"male single\",\"male mar/wid\",\"female div/dep/mar\",\"male mar/wid\",\"male single\",\"male mar/wid\",\"male div/sep\",\"female div/dep/mar\",\"female div/dep/mar\",\"female div/dep/mar\",\"male single\",\"male div/sep\",\"female div/dep/mar\",\"male single\",\"female div/dep/mar\",\"male single\",\"male single\",\"male single\",\"female div/dep/mar\",\"male single\",\"male single\",\"female div/dep/mar\",\"female div/dep/mar\",\"male single\",\"female div/dep/mar\",\"male div/sep\",\"male single\",\"male mar/wid\",\"male mar/wid\",\"male single\",\"female div/dep/mar\",\"male single\",\"female div/dep/mar\",\"female div/dep/mar\",\"female div/dep/mar\",\"male single\",\"male mar/wid\",\"female div/dep/mar\",\"male single\",\"female div/dep/mar\",\"female div/dep/mar\",\"male mar/wid\",\"male single\",\"male single\",\"female div/dep/mar\",\"male mar/wid\",\"female div/dep/mar\",\"male single\",\"male mar/wid\",\"female div/dep/mar\",\"male single\",\"female div/dep/mar\",\"male mar/wid\",\"male single\",\"female div/dep/mar\",\"male single\",\"female div/dep/mar\",\"male single\",\"male single\",\"male single\",\"female div/dep/mar\",\"female div/dep/mar\",\"male single\",\"male div/sep\",\"female div/dep/mar\",\"male div/sep\",\"male single\",\"male mar/wid\",\"male single\",\"male single\",\"male single\",\"female div/dep/mar\",\"male mar/wid\",\"male single\",\"female div/dep/mar\",\"female div/dep/mar\",\"male single\",\"male single\",\"male single\",\"male single\",\"male div/sep\",\"female div/dep/mar\",\"female div/dep/mar\",\"male div/sep\",\"male single\",\"male single\",\"female div/dep/mar\",\"male mar/wid\",\"male single\",\"female div/dep/mar\",\"male single\",\"female div/dep/mar\",\"female div/dep/mar\",\"male single\",\"male single\",\"female div/dep/mar\",\"female div/dep/mar\",\"female div/dep/mar\",\"female div/dep/mar\",\"female div/dep/mar\",\"female div/dep/mar\",\"female div/dep/mar\",\"female div/dep/mar\",\"male single\",\"male div/sep\",\"male single\",\"male single\",\"male single\",\"female div/dep/mar\",\"female div/dep/mar\",\"male single\",\"female div/dep/mar\",\"male single\",\"male single\",\"female div/dep/mar\",\"male single\",\"male single\",\"male single\",\"male single\",\"male single\",\"male single\",\"male mar/wid\",\"male single\",\"male single\",\"male mar/wid\",\"female div/dep/mar\",\"male single\",\"male single\",\"female div/dep/mar\",\"female div/dep/mar\",\"male single\",\"male single\",\"female div/dep/mar\",\"female div/dep/mar\",\"female div/dep/mar\",\"female div/dep/mar\",\"female div/dep/mar\",\"male single\",\"female div/dep/mar\",\"female div/dep/mar\",\"female div/dep/mar\",\"female div/dep/mar\",\"male single\",\"female div/dep/mar\",\"male single\",\"male single\",\"female div/dep/mar\",\"male single\",\"male div/sep\",\"female div/dep/mar\",\"female div/dep/mar\",\"male single\",\"female div/dep/mar\",\"male single\",\"male single\",\"female div/dep/mar\",\"male single\",\"male single\",\"female div/dep/mar\",\"male single\",\"male single\",\"male single\",\"male mar/wid\",\"male single\",\"female div/dep/mar\",\"male single\",\"male single\",\"female div/dep/mar\",\"male single\",\"female div/dep/mar\",\"male single\",\"male single\",\"female div/dep/mar\",\"male single\",\"male single\",\"male mar/wid\",\"male single\",\"female div/dep/mar\",\"male mar/wid\",\"female div/dep/mar\",\"male single\",\"male single\",\"male div/sep\",\"female div/dep/mar\",\"male single\",\"male single\",\"male single\",\"female div/dep/mar\",\"male single\",\"female div/dep/mar\",\"male single\",\"male div/sep\",\"male single\",\"female div/dep/mar\",\"male div/sep\",\"male single\",\"male single\",\"female div/dep/mar\",\"male single\",\"female div/dep/mar\",\"male single\",\"male single\",\"male mar/wid\",\"male single\",\"male single\",\"female div/dep/mar\",\"female div/dep/mar\",\"male single\",\"male single\",\"male single\",\"female div/dep/mar\",\"male single\",\"male single\",\"male mar/wid\",\"male single\",\"male single\",\"male single\",\"male single\"],\"xaxis\":\"x\",\"yaxis\":\"y\",\"type\":\"histogram\"}],                        {\"template\":{\"data\":{\"bar\":[{\"error_x\":{\"color\":\"#2a3f5f\"},\"error_y\":{\"color\":\"#2a3f5f\"},\"marker\":{\"line\":{\"color\":\"#E5ECF6\",\"width\":0.5},\"pattern\":{\"fillmode\":\"overlay\",\"size\":10,\"solidity\":0.2}},\"type\":\"bar\"}],\"barpolar\":[{\"marker\":{\"line\":{\"color\":\"#E5ECF6\",\"width\":0.5},\"pattern\":{\"fillmode\":\"overlay\",\"size\":10,\"solidity\":0.2}},\"type\":\"barpolar\"}],\"carpet\":[{\"aaxis\":{\"endlinecolor\":\"#2a3f5f\",\"gridcolor\":\"white\",\"linecolor\":\"white\",\"minorgridcolor\":\"white\",\"startlinecolor\":\"#2a3f5f\"},\"baxis\":{\"endlinecolor\":\"#2a3f5f\",\"gridcolor\":\"white\",\"linecolor\":\"white\",\"minorgridcolor\":\"white\",\"startlinecolor\":\"#2a3f5f\"},\"type\":\"carpet\"}],\"choropleth\":[{\"colorbar\":{\"outlinewidth\":0,\"ticks\":\"\"},\"type\":\"choropleth\"}],\"contour\":[{\"colorbar\":{\"outlinewidth\":0,\"ticks\":\"\"},\"colorscale\":[[0.0,\"#0d0887\"],[0.1111111111111111,\"#46039f\"],[0.2222222222222222,\"#7201a8\"],[0.3333333333333333,\"#9c179e\"],[0.4444444444444444,\"#bd3786\"],[0.5555555555555556,\"#d8576b\"],[0.6666666666666666,\"#ed7953\"],[0.7777777777777778,\"#fb9f3a\"],[0.8888888888888888,\"#fdca26\"],[1.0,\"#f0f921\"]],\"type\":\"contour\"}],\"contourcarpet\":[{\"colorbar\":{\"outlinewidth\":0,\"ticks\":\"\"},\"type\":\"contourcarpet\"}],\"heatmap\":[{\"colorbar\":{\"outlinewidth\":0,\"ticks\":\"\"},\"colorscale\":[[0.0,\"#0d0887\"],[0.1111111111111111,\"#46039f\"],[0.2222222222222222,\"#7201a8\"],[0.3333333333333333,\"#9c179e\"],[0.4444444444444444,\"#bd3786\"],[0.5555555555555556,\"#d8576b\"],[0.6666666666666666,\"#ed7953\"],[0.7777777777777778,\"#fb9f3a\"],[0.8888888888888888,\"#fdca26\"],[1.0,\"#f0f921\"]],\"type\":\"heatmap\"}],\"heatmapgl\":[{\"colorbar\":{\"outlinewidth\":0,\"ticks\":\"\"},\"colorscale\":[[0.0,\"#0d0887\"],[0.1111111111111111,\"#46039f\"],[0.2222222222222222,\"#7201a8\"],[0.3333333333333333,\"#9c179e\"],[0.4444444444444444,\"#bd3786\"],[0.5555555555555556,\"#d8576b\"],[0.6666666666666666,\"#ed7953\"],[0.7777777777777778,\"#fb9f3a\"],[0.8888888888888888,\"#fdca26\"],[1.0,\"#f0f921\"]],\"type\":\"heatmapgl\"}],\"histogram\":[{\"marker\":{\"pattern\":{\"fillmode\":\"overlay\",\"size\":10,\"solidity\":0.2}},\"type\":\"histogram\"}],\"histogram2d\":[{\"colorbar\":{\"outlinewidth\":0,\"ticks\":\"\"},\"colorscale\":[[0.0,\"#0d0887\"],[0.1111111111111111,\"#46039f\"],[0.2222222222222222,\"#7201a8\"],[0.3333333333333333,\"#9c179e\"],[0.4444444444444444,\"#bd3786\"],[0.5555555555555556,\"#d8576b\"],[0.6666666666666666,\"#ed7953\"],[0.7777777777777778,\"#fb9f3a\"],[0.8888888888888888,\"#fdca26\"],[1.0,\"#f0f921\"]],\"type\":\"histogram2d\"}],\"histogram2dcontour\":[{\"colorbar\":{\"outlinewidth\":0,\"ticks\":\"\"},\"colorscale\":[[0.0,\"#0d0887\"],[0.1111111111111111,\"#46039f\"],[0.2222222222222222,\"#7201a8\"],[0.3333333333333333,\"#9c179e\"],[0.4444444444444444,\"#bd3786\"],[0.5555555555555556,\"#d8576b\"],[0.6666666666666666,\"#ed7953\"],[0.7777777777777778,\"#fb9f3a\"],[0.8888888888888888,\"#fdca26\"],[1.0,\"#f0f921\"]],\"type\":\"histogram2dcontour\"}],\"mesh3d\":[{\"colorbar\":{\"outlinewidth\":0,\"ticks\":\"\"},\"type\":\"mesh3d\"}],\"parcoords\":[{\"line\":{\"colorbar\":{\"outlinewidth\":0,\"ticks\":\"\"}},\"type\":\"parcoords\"}],\"pie\":[{\"automargin\":true,\"type\":\"pie\"}],\"scatter\":[{\"marker\":{\"colorbar\":{\"outlinewidth\":0,\"ticks\":\"\"}},\"type\":\"scatter\"}],\"scatter3d\":[{\"line\":{\"colorbar\":{\"outlinewidth\":0,\"ticks\":\"\"}},\"marker\":{\"colorbar\":{\"outlinewidth\":0,\"ticks\":\"\"}},\"type\":\"scatter3d\"}],\"scattercarpet\":[{\"marker\":{\"colorbar\":{\"outlinewidth\":0,\"ticks\":\"\"}},\"type\":\"scattercarpet\"}],\"scattergeo\":[{\"marker\":{\"colorbar\":{\"outlinewidth\":0,\"ticks\":\"\"}},\"type\":\"scattergeo\"}],\"scattergl\":[{\"marker\":{\"colorbar\":{\"outlinewidth\":0,\"ticks\":\"\"}},\"type\":\"scattergl\"}],\"scattermapbox\":[{\"marker\":{\"colorbar\":{\"outlinewidth\":0,\"ticks\":\"\"}},\"type\":\"scattermapbox\"}],\"scatterpolar\":[{\"marker\":{\"colorbar\":{\"outlinewidth\":0,\"ticks\":\"\"}},\"type\":\"scatterpolar\"}],\"scatterpolargl\":[{\"marker\":{\"colorbar\":{\"outlinewidth\":0,\"ticks\":\"\"}},\"type\":\"scatterpolargl\"}],\"scatterternary\":[{\"marker\":{\"colorbar\":{\"outlinewidth\":0,\"ticks\":\"\"}},\"type\":\"scatterternary\"}],\"surface\":[{\"colorbar\":{\"outlinewidth\":0,\"ticks\":\"\"},\"colorscale\":[[0.0,\"#0d0887\"],[0.1111111111111111,\"#46039f\"],[0.2222222222222222,\"#7201a8\"],[0.3333333333333333,\"#9c179e\"],[0.4444444444444444,\"#bd3786\"],[0.5555555555555556,\"#d8576b\"],[0.6666666666666666,\"#ed7953\"],[0.7777777777777778,\"#fb9f3a\"],[0.8888888888888888,\"#fdca26\"],[1.0,\"#f0f921\"]],\"type\":\"surface\"}],\"table\":[{\"cells\":{\"fill\":{\"color\":\"#EBF0F8\"},\"line\":{\"color\":\"white\"}},\"header\":{\"fill\":{\"color\":\"#C8D4E3\"},\"line\":{\"color\":\"white\"}},\"type\":\"table\"}]},\"layout\":{\"annotationdefaults\":{\"arrowcolor\":\"#2a3f5f\",\"arrowhead\":0,\"arrowwidth\":1},\"autotypenumbers\":\"strict\",\"coloraxis\":{\"colorbar\":{\"outlinewidth\":0,\"ticks\":\"\"}},\"colorscale\":{\"diverging\":[[0,\"#8e0152\"],[0.1,\"#c51b7d\"],[0.2,\"#de77ae\"],[0.3,\"#f1b6da\"],[0.4,\"#fde0ef\"],[0.5,\"#f7f7f7\"],[0.6,\"#e6f5d0\"],[0.7,\"#b8e186\"],[0.8,\"#7fbc41\"],[0.9,\"#4d9221\"],[1,\"#276419\"]],\"sequential\":[[0.0,\"#0d0887\"],[0.1111111111111111,\"#46039f\"],[0.2222222222222222,\"#7201a8\"],[0.3333333333333333,\"#9c179e\"],[0.4444444444444444,\"#bd3786\"],[0.5555555555555556,\"#d8576b\"],[0.6666666666666666,\"#ed7953\"],[0.7777777777777778,\"#fb9f3a\"],[0.8888888888888888,\"#fdca26\"],[1.0,\"#f0f921\"]],\"sequentialminus\":[[0.0,\"#0d0887\"],[0.1111111111111111,\"#46039f\"],[0.2222222222222222,\"#7201a8\"],[0.3333333333333333,\"#9c179e\"],[0.4444444444444444,\"#bd3786\"],[0.5555555555555556,\"#d8576b\"],[0.6666666666666666,\"#ed7953\"],[0.7777777777777778,\"#fb9f3a\"],[0.8888888888888888,\"#fdca26\"],[1.0,\"#f0f921\"]]},\"colorway\":[\"#636efa\",\"#EF553B\",\"#00cc96\",\"#ab63fa\",\"#FFA15A\",\"#19d3f3\",\"#FF6692\",\"#B6E880\",\"#FF97FF\",\"#FECB52\"],\"font\":{\"color\":\"#2a3f5f\"},\"geo\":{\"bgcolor\":\"white\",\"lakecolor\":\"white\",\"landcolor\":\"#E5ECF6\",\"showlakes\":true,\"showland\":true,\"subunitcolor\":\"white\"},\"hoverlabel\":{\"align\":\"left\"},\"hovermode\":\"closest\",\"mapbox\":{\"style\":\"light\"},\"paper_bgcolor\":\"white\",\"plot_bgcolor\":\"#E5ECF6\",\"polar\":{\"angularaxis\":{\"gridcolor\":\"white\",\"linecolor\":\"white\",\"ticks\":\"\"},\"bgcolor\":\"#E5ECF6\",\"radialaxis\":{\"gridcolor\":\"white\",\"linecolor\":\"white\",\"ticks\":\"\"}},\"scene\":{\"xaxis\":{\"backgroundcolor\":\"#E5ECF6\",\"gridcolor\":\"white\",\"gridwidth\":2,\"linecolor\":\"white\",\"showbackground\":true,\"ticks\":\"\",\"zerolinecolor\":\"white\"},\"yaxis\":{\"backgroundcolor\":\"#E5ECF6\",\"gridcolor\":\"white\",\"gridwidth\":2,\"linecolor\":\"white\",\"showbackground\":true,\"ticks\":\"\",\"zerolinecolor\":\"white\"},\"zaxis\":{\"backgroundcolor\":\"#E5ECF6\",\"gridcolor\":\"white\",\"gridwidth\":2,\"linecolor\":\"white\",\"showbackground\":true,\"ticks\":\"\",\"zerolinecolor\":\"white\"}},\"shapedefaults\":{\"line\":{\"color\":\"#2a3f5f\"}},\"ternary\":{\"aaxis\":{\"gridcolor\":\"white\",\"linecolor\":\"white\",\"ticks\":\"\"},\"baxis\":{\"gridcolor\":\"white\",\"linecolor\":\"white\",\"ticks\":\"\"},\"bgcolor\":\"#E5ECF6\",\"caxis\":{\"gridcolor\":\"white\",\"linecolor\":\"white\",\"ticks\":\"\"}},\"title\":{\"x\":0.05},\"xaxis\":{\"automargin\":true,\"gridcolor\":\"white\",\"linecolor\":\"white\",\"ticks\":\"\",\"title\":{\"standoff\":15},\"zerolinecolor\":\"white\",\"zerolinewidth\":2},\"yaxis\":{\"automargin\":true,\"gridcolor\":\"white\",\"linecolor\":\"white\",\"ticks\":\"\",\"title\":{\"standoff\":15},\"zerolinecolor\":\"white\",\"zerolinewidth\":2}}},\"xaxis\":{\"anchor\":\"y\",\"domain\":[0.0,1.0],\"title\":{\"text\":\"personal_status\"}},\"yaxis\":{\"anchor\":\"x\",\"domain\":[0.0,1.0],\"title\":{\"text\":\"count\"}},\"legend\":{\"title\":{\"text\":\"risk\"},\"tracegroupgap\":0},\"margin\":{\"t\":60},\"barmode\":\"relative\"},                        {\"responsive\": true}                    ).then(function(){\n",
              "                            \n",
              "var gd = document.getElementById('a175f2e9-ba9b-4d06-af87-01617d55623c');\n",
              "var x = new MutationObserver(function (mutations, observer) {{\n",
              "        var display = window.getComputedStyle(gd).display;\n",
              "        if (!display || display === 'none') {{\n",
              "            console.log([gd, 'removed!']);\n",
              "            Plotly.purge(gd);\n",
              "            observer.disconnect();\n",
              "        }}\n",
              "}});\n",
              "\n",
              "// Listen for the removal of the full notebook cells\n",
              "var notebookContainer = gd.closest('#notebook-container');\n",
              "if (notebookContainer) {{\n",
              "    x.observe(notebookContainer, {childList: true});\n",
              "}}\n",
              "\n",
              "// Listen for the clearing of the current output cell\n",
              "var outputEl = gd.closest('.output');\n",
              "if (outputEl) {{\n",
              "    x.observe(outputEl, {childList: true});\n",
              "}}\n",
              "\n",
              "                        })                };                            </script>        </div>\n",
              "</body>\n",
              "</html>"
            ]
          },
          "metadata": {}
        },
        {
          "output_type": "display_data",
          "data": {
            "text/html": [
              "<html>\n",
              "<head><meta charset=\"utf-8\" /></head>\n",
              "<body>\n",
              "    <div>            <script src=\"https://cdnjs.cloudflare.com/ajax/libs/mathjax/2.7.5/MathJax.js?config=TeX-AMS-MML_SVG\"></script><script type=\"text/javascript\">if (window.MathJax) {MathJax.Hub.Config({SVG: {font: \"STIX-Web\"}});}</script>                <script type=\"text/javascript\">window.PlotlyConfig = {MathJaxConfig: 'local'};</script>\n",
              "        <script src=\"https://cdn.plot.ly/plotly-2.8.3.min.js\"></script>                <div id=\"12ede423-e42e-4dec-a9c1-8bf62ed32119\" class=\"plotly-graph-div\" style=\"height:525px; width:100%;\"></div>            <script type=\"text/javascript\">                                    window.PLOTLYENV=window.PLOTLYENV || {};                                    if (document.getElementById(\"12ede423-e42e-4dec-a9c1-8bf62ed32119\")) {                    Plotly.newPlot(                        \"12ede423-e42e-4dec-a9c1-8bf62ed32119\",                        [{\"alignmentgroup\":\"True\",\"bingroup\":\"x\",\"hovertemplate\":\"risk=good<br>other_parties=%{x}<br>count=%{y}<extra></extra>\",\"legendgroup\":\"good\",\"marker\":{\"color\":\"#636efa\",\"pattern\":{\"shape\":\"\"}},\"name\":\"good\",\"offsetgroup\":\"good\",\"orientation\":\"v\",\"showlegend\":true,\"x\":[\"none\",\"none\",\"guarantor\",\"none\",\"none\",\"none\",\"none\",\"none\",\"none\",\"none\",\"none\",\"none\",\"none\",\"none\",\"none\",\"none\",\"none\",\"none\",\"none\",\"none\",\"guarantor\",\"none\",\"none\",\"none\",\"none\",\"none\",\"none\",\"none\",\"none\",\"none\",\"none\",\"none\",\"none\",\"none\",\"none\",\"none\",\"none\",\"co applicant\",\"none\",\"none\",\"none\",\"none\",\"guarantor\",\"none\",\"none\",\"none\",\"guarantor\",\"none\",\"none\",\"none\",\"none\",\"none\",\"none\",\"none\",\"none\",\"none\",\"none\",\"none\",\"none\",\"none\",\"none\",\"none\",\"guarantor\",\"none\",\"guarantor\",\"none\",\"none\",\"none\",\"none\",\"co applicant\",\"none\",\"none\",\"none\",\"none\",\"none\",\"none\",\"none\",\"none\",\"none\",\"none\",\"none\",\"none\",\"none\",\"none\",\"none\",\"none\",\"none\",\"none\",\"co applicant\",\"none\",\"none\",\"none\",\"none\",\"none\",\"none\",\"none\",\"none\",\"none\",\"none\",\"none\",\"none\",\"none\",\"guarantor\",\"none\",\"none\",\"none\",\"none\",\"none\",\"none\",\"none\",\"none\",\"guarantor\",\"none\",\"none\",\"none\",\"none\",\"none\",\"none\",\"guarantor\",\"none\",\"none\",\"none\",\"none\",\"none\",\"none\",\"none\",\"none\",\"none\",\"none\",\"none\",\"none\",\"guarantor\",\"none\",\"none\",\"none\",\"none\",\"none\",\"none\",\"none\",\"none\",\"none\",\"none\",\"none\",\"none\",\"none\",\"none\",\"none\",\"none\",\"none\",\"none\",\"none\",\"none\",\"none\",\"none\",\"none\",\"none\",\"none\",\"none\",\"none\",\"none\",\"guarantor\",\"none\",\"none\",\"none\",\"none\",\"none\",\"none\",\"none\",\"none\",\"guarantor\",\"none\",\"none\",\"guarantor\",\"none\",\"none\",\"none\",\"none\",\"none\",\"none\",\"none\",\"none\",\"none\",\"none\",\"none\",\"none\",\"none\",\"none\",\"none\",\"none\",\"none\",\"none\",\"none\",\"none\",\"none\",\"none\",\"none\",\"none\",\"none\",\"co applicant\",\"none\",\"none\",\"none\",\"none\",\"none\",\"none\",\"none\",\"none\",\"none\",\"none\",\"none\",\"none\",\"guarantor\",\"none\",\"none\",\"none\",\"none\",\"none\",\"co applicant\",\"none\",\"none\",\"none\",\"co applicant\",\"none\",\"none\",\"none\",\"none\",\"none\",\"none\",\"none\",\"guarantor\",\"none\",\"none\",\"none\",\"none\",\"none\",\"none\",\"none\",\"none\",\"none\",\"none\",\"none\",\"none\",\"guarantor\",\"none\",\"none\",\"none\",\"none\",\"none\",\"co applicant\",\"guarantor\",\"none\",\"guarantor\",\"none\",\"none\",\"none\",\"none\",\"none\",\"co applicant\",\"none\",\"none\",\"none\",\"none\",\"none\",\"none\",\"none\",\"none\",\"none\",\"none\",\"none\",\"none\",\"none\",\"none\",\"none\",\"none\",\"none\",\"none\",\"none\",\"none\",\"none\",\"none\",\"none\",\"none\",\"none\",\"none\",\"none\",\"none\",\"none\",\"none\",\"none\",\"none\",\"none\",\"none\",\"none\",\"none\",\"none\",\"none\",\"none\",\"none\",\"none\",\"none\",\"none\",\"none\",\"none\",\"none\",\"none\",\"none\",\"none\",\"none\",\"none\",\"none\",\"none\",\"none\",\"none\",\"none\",\"none\",\"none\",\"none\",\"none\",\"none\",\"co applicant\",\"none\",\"co applicant\",\"none\",\"none\",\"guarantor\",\"none\",\"none\",\"none\",\"none\",\"none\",\"none\",\"none\",\"none\",\"none\",\"guarantor\",\"none\",\"none\",\"none\",\"none\",\"guarantor\",\"none\",\"none\",\"none\",\"none\",\"none\",\"none\",\"none\",\"none\",\"none\",\"none\",\"none\",\"none\",\"none\",\"none\",\"co applicant\",\"none\",\"guarantor\",\"none\",\"none\",\"none\",\"none\",\"none\",\"guarantor\",\"none\",\"none\",\"none\",\"none\",\"none\",\"none\",\"none\",\"none\",\"co applicant\",\"none\",\"none\",\"none\",\"none\",\"none\",\"none\",\"none\",\"guarantor\",\"none\",\"none\",\"none\",\"none\",\"none\",\"none\",\"none\",\"none\",\"none\",\"none\",\"none\",\"none\",\"none\",\"none\",\"none\",\"none\",\"none\",\"none\",\"none\",\"none\",\"none\",\"none\",\"none\",\"none\",\"none\",\"none\",\"co applicant\",\"none\",\"none\",\"none\",\"co applicant\",\"none\",\"none\",\"none\",\"none\",\"none\",\"none\",\"none\",\"guarantor\",\"none\",\"none\",\"none\",\"none\",\"guarantor\",\"none\",\"none\",\"none\",\"none\",\"none\",\"none\",\"guarantor\",\"none\",\"none\",\"none\",\"none\",\"none\",\"none\",\"none\",\"none\",\"none\",\"none\",\"none\",\"none\",\"none\",\"none\",\"none\",\"none\",\"none\",\"guarantor\",\"none\",\"guarantor\",\"none\",\"none\",\"none\",\"none\",\"none\",\"none\",\"none\",\"none\",\"none\",\"none\",\"co applicant\",\"none\",\"none\",\"none\",\"none\",\"none\",\"none\",\"none\",\"none\",\"none\",\"none\",\"none\",\"none\",\"none\",\"none\",\"none\",\"none\",\"none\",\"none\",\"none\",\"co applicant\",\"none\",\"none\",\"none\",\"none\",\"none\",\"none\",\"none\",\"guarantor\",\"none\",\"none\",\"none\",\"none\",\"none\",\"none\",\"none\",\"none\",\"none\",\"none\",\"none\",\"none\",\"none\",\"none\",\"none\",\"none\",\"none\",\"none\",\"none\",\"none\",\"none\",\"none\",\"guarantor\",\"none\",\"none\",\"none\",\"none\",\"none\",\"none\",\"none\",\"none\",\"none\",\"none\",\"none\",\"none\",\"none\",\"none\",\"none\",\"none\",\"none\",\"none\",\"guarantor\",\"none\",\"none\",\"none\",\"guarantor\",\"none\",\"none\",\"none\",\"none\",\"none\",\"none\",\"none\",\"none\",\"guarantor\",\"none\",\"none\",\"none\",\"none\",\"none\",\"none\",\"none\",\"none\",\"none\",\"none\",\"none\",\"none\",\"none\",\"none\",\"none\",\"none\",\"none\",\"guarantor\",\"none\",\"none\",\"none\",\"none\",\"none\",\"none\",\"none\",\"guarantor\",\"none\",\"none\",\"none\",\"co applicant\",\"none\",\"none\",\"none\",\"none\",\"none\",\"none\",\"none\",\"none\",\"none\",\"none\",\"none\",\"co applicant\",\"none\",\"none\",\"none\",\"none\",\"none\",\"none\",\"none\",\"none\",\"none\",\"none\",\"none\",\"none\",\"guarantor\",\"none\",\"none\",\"none\",\"none\",\"none\",\"none\",\"none\",\"none\",\"none\",\"none\",\"none\",\"co applicant\",\"none\",\"co applicant\",\"none\",\"none\",\"none\",\"none\",\"none\",\"none\",\"none\",\"none\",\"guarantor\",\"none\",\"none\",\"none\",\"none\",\"none\",\"none\",\"none\",\"none\",\"none\",\"none\",\"none\",\"none\",\"none\",\"none\",\"co applicant\",\"none\",\"none\",\"none\",\"none\",\"none\",\"none\",\"co applicant\",\"none\",\"none\",\"none\",\"none\",\"none\",\"none\",\"co applicant\",\"none\",\"none\",\"none\",\"none\",\"none\",\"none\",\"none\",\"none\",\"none\",\"guarantor\",\"none\",\"none\",\"none\",\"guarantor\",\"none\",\"none\",\"none\",\"none\",\"none\",\"none\",\"none\",\"none\",\"none\",\"none\",\"none\",\"none\",\"guarantor\",\"none\",\"none\",\"none\",\"guarantor\",\"none\",\"none\",\"none\",\"none\",\"none\",\"none\",\"none\",\"none\",\"none\",\"none\",\"none\",\"none\",\"none\",\"none\",\"none\",\"none\",\"none\"],\"xaxis\":\"x\",\"yaxis\":\"y\",\"type\":\"histogram\"},{\"alignmentgroup\":\"True\",\"bingroup\":\"x\",\"hovertemplate\":\"risk=bad<br>other_parties=%{x}<br>count=%{y}<extra></extra>\",\"legendgroup\":\"bad\",\"marker\":{\"color\":\"#EF553B\",\"pattern\":{\"shape\":\"\"}},\"name\":\"bad\",\"offsetgroup\":\"bad\",\"orientation\":\"v\",\"showlegend\":true,\"x\":[\"none\",\"none\",\"none\",\"none\",\"none\",\"none\",\"none\",\"none\",\"none\",\"none\",\"co applicant\",\"none\",\"none\",\"none\",\"co applicant\",\"none\",\"none\",\"none\",\"none\",\"none\",\"none\",\"none\",\"none\",\"none\",\"none\",\"co applicant\",\"none\",\"none\",\"none\",\"none\",\"none\",\"none\",\"none\",\"co applicant\",\"none\",\"none\",\"none\",\"none\",\"none\",\"none\",\"none\",\"none\",\"none\",\"none\",\"none\",\"none\",\"none\",\"none\",\"none\",\"none\",\"none\",\"none\",\"none\",\"guarantor\",\"none\",\"none\",\"none\",\"none\",\"none\",\"none\",\"co applicant\",\"none\",\"none\",\"none\",\"none\",\"none\",\"none\",\"none\",\"none\",\"co applicant\",\"guarantor\",\"none\",\"none\",\"none\",\"none\",\"none\",\"none\",\"none\",\"none\",\"none\",\"none\",\"none\",\"none\",\"none\",\"none\",\"none\",\"none\",\"none\",\"none\",\"none\",\"none\",\"none\",\"none\",\"none\",\"none\",\"none\",\"none\",\"none\",\"none\",\"none\",\"none\",\"none\",\"none\",\"none\",\"guarantor\",\"none\",\"none\",\"none\",\"none\",\"none\",\"none\",\"none\",\"none\",\"none\",\"none\",\"none\",\"none\",\"co applicant\",\"none\",\"none\",\"none\",\"none\",\"none\",\"none\",\"co applicant\",\"none\",\"none\",\"none\",\"none\",\"none\",\"none\",\"none\",\"none\",\"none\",\"none\",\"co applicant\",\"none\",\"none\",\"none\",\"guarantor\",\"none\",\"none\",\"none\",\"none\",\"none\",\"none\",\"none\",\"none\",\"none\",\"none\",\"none\",\"none\",\"none\",\"none\",\"guarantor\",\"none\",\"none\",\"none\",\"none\",\"none\",\"guarantor\",\"none\",\"none\",\"none\",\"none\",\"none\",\"guarantor\",\"none\",\"none\",\"none\",\"none\",\"none\",\"none\",\"none\",\"none\",\"none\",\"none\",\"none\",\"none\",\"none\",\"co applicant\",\"none\",\"none\",\"none\",\"co applicant\",\"none\",\"none\",\"none\",\"none\",\"none\",\"co applicant\",\"none\",\"none\",\"none\",\"none\",\"none\",\"none\",\"none\",\"none\",\"none\",\"co applicant\",\"none\",\"none\",\"none\",\"co applicant\",\"none\",\"none\",\"none\",\"none\",\"none\",\"none\",\"none\",\"none\",\"none\",\"none\",\"none\",\"none\",\"none\",\"none\",\"none\",\"none\",\"none\",\"none\",\"none\",\"none\",\"none\",\"none\",\"none\",\"none\",\"none\",\"none\",\"none\",\"none\",\"guarantor\",\"none\",\"none\",\"none\",\"none\",\"none\",\"none\",\"none\",\"none\",\"none\",\"none\",\"none\",\"none\",\"none\",\"none\",\"none\",\"none\",\"none\",\"none\",\"none\",\"none\",\"none\",\"none\",\"none\",\"guarantor\",\"none\",\"none\",\"none\",\"none\",\"none\",\"none\",\"none\",\"none\",\"none\",\"co applicant\",\"guarantor\",\"none\",\"none\",\"none\",\"none\",\"none\",\"none\",\"none\",\"none\",\"none\",\"none\",\"none\",\"none\",\"none\",\"none\",\"none\",\"co applicant\",\"none\",\"none\",\"none\",\"none\",\"none\",\"none\",\"none\",\"co applicant\",\"co applicant\",\"none\",\"none\",\"none\",\"none\",\"none\",\"none\"],\"xaxis\":\"x\",\"yaxis\":\"y\",\"type\":\"histogram\"}],                        {\"template\":{\"data\":{\"bar\":[{\"error_x\":{\"color\":\"#2a3f5f\"},\"error_y\":{\"color\":\"#2a3f5f\"},\"marker\":{\"line\":{\"color\":\"#E5ECF6\",\"width\":0.5},\"pattern\":{\"fillmode\":\"overlay\",\"size\":10,\"solidity\":0.2}},\"type\":\"bar\"}],\"barpolar\":[{\"marker\":{\"line\":{\"color\":\"#E5ECF6\",\"width\":0.5},\"pattern\":{\"fillmode\":\"overlay\",\"size\":10,\"solidity\":0.2}},\"type\":\"barpolar\"}],\"carpet\":[{\"aaxis\":{\"endlinecolor\":\"#2a3f5f\",\"gridcolor\":\"white\",\"linecolor\":\"white\",\"minorgridcolor\":\"white\",\"startlinecolor\":\"#2a3f5f\"},\"baxis\":{\"endlinecolor\":\"#2a3f5f\",\"gridcolor\":\"white\",\"linecolor\":\"white\",\"minorgridcolor\":\"white\",\"startlinecolor\":\"#2a3f5f\"},\"type\":\"carpet\"}],\"choropleth\":[{\"colorbar\":{\"outlinewidth\":0,\"ticks\":\"\"},\"type\":\"choropleth\"}],\"contour\":[{\"colorbar\":{\"outlinewidth\":0,\"ticks\":\"\"},\"colorscale\":[[0.0,\"#0d0887\"],[0.1111111111111111,\"#46039f\"],[0.2222222222222222,\"#7201a8\"],[0.3333333333333333,\"#9c179e\"],[0.4444444444444444,\"#bd3786\"],[0.5555555555555556,\"#d8576b\"],[0.6666666666666666,\"#ed7953\"],[0.7777777777777778,\"#fb9f3a\"],[0.8888888888888888,\"#fdca26\"],[1.0,\"#f0f921\"]],\"type\":\"contour\"}],\"contourcarpet\":[{\"colorbar\":{\"outlinewidth\":0,\"ticks\":\"\"},\"type\":\"contourcarpet\"}],\"heatmap\":[{\"colorbar\":{\"outlinewidth\":0,\"ticks\":\"\"},\"colorscale\":[[0.0,\"#0d0887\"],[0.1111111111111111,\"#46039f\"],[0.2222222222222222,\"#7201a8\"],[0.3333333333333333,\"#9c179e\"],[0.4444444444444444,\"#bd3786\"],[0.5555555555555556,\"#d8576b\"],[0.6666666666666666,\"#ed7953\"],[0.7777777777777778,\"#fb9f3a\"],[0.8888888888888888,\"#fdca26\"],[1.0,\"#f0f921\"]],\"type\":\"heatmap\"}],\"heatmapgl\":[{\"colorbar\":{\"outlinewidth\":0,\"ticks\":\"\"},\"colorscale\":[[0.0,\"#0d0887\"],[0.1111111111111111,\"#46039f\"],[0.2222222222222222,\"#7201a8\"],[0.3333333333333333,\"#9c179e\"],[0.4444444444444444,\"#bd3786\"],[0.5555555555555556,\"#d8576b\"],[0.6666666666666666,\"#ed7953\"],[0.7777777777777778,\"#fb9f3a\"],[0.8888888888888888,\"#fdca26\"],[1.0,\"#f0f921\"]],\"type\":\"heatmapgl\"}],\"histogram\":[{\"marker\":{\"pattern\":{\"fillmode\":\"overlay\",\"size\":10,\"solidity\":0.2}},\"type\":\"histogram\"}],\"histogram2d\":[{\"colorbar\":{\"outlinewidth\":0,\"ticks\":\"\"},\"colorscale\":[[0.0,\"#0d0887\"],[0.1111111111111111,\"#46039f\"],[0.2222222222222222,\"#7201a8\"],[0.3333333333333333,\"#9c179e\"],[0.4444444444444444,\"#bd3786\"],[0.5555555555555556,\"#d8576b\"],[0.6666666666666666,\"#ed7953\"],[0.7777777777777778,\"#fb9f3a\"],[0.8888888888888888,\"#fdca26\"],[1.0,\"#f0f921\"]],\"type\":\"histogram2d\"}],\"histogram2dcontour\":[{\"colorbar\":{\"outlinewidth\":0,\"ticks\":\"\"},\"colorscale\":[[0.0,\"#0d0887\"],[0.1111111111111111,\"#46039f\"],[0.2222222222222222,\"#7201a8\"],[0.3333333333333333,\"#9c179e\"],[0.4444444444444444,\"#bd3786\"],[0.5555555555555556,\"#d8576b\"],[0.6666666666666666,\"#ed7953\"],[0.7777777777777778,\"#fb9f3a\"],[0.8888888888888888,\"#fdca26\"],[1.0,\"#f0f921\"]],\"type\":\"histogram2dcontour\"}],\"mesh3d\":[{\"colorbar\":{\"outlinewidth\":0,\"ticks\":\"\"},\"type\":\"mesh3d\"}],\"parcoords\":[{\"line\":{\"colorbar\":{\"outlinewidth\":0,\"ticks\":\"\"}},\"type\":\"parcoords\"}],\"pie\":[{\"automargin\":true,\"type\":\"pie\"}],\"scatter\":[{\"marker\":{\"colorbar\":{\"outlinewidth\":0,\"ticks\":\"\"}},\"type\":\"scatter\"}],\"scatter3d\":[{\"line\":{\"colorbar\":{\"outlinewidth\":0,\"ticks\":\"\"}},\"marker\":{\"colorbar\":{\"outlinewidth\":0,\"ticks\":\"\"}},\"type\":\"scatter3d\"}],\"scattercarpet\":[{\"marker\":{\"colorbar\":{\"outlinewidth\":0,\"ticks\":\"\"}},\"type\":\"scattercarpet\"}],\"scattergeo\":[{\"marker\":{\"colorbar\":{\"outlinewidth\":0,\"ticks\":\"\"}},\"type\":\"scattergeo\"}],\"scattergl\":[{\"marker\":{\"colorbar\":{\"outlinewidth\":0,\"ticks\":\"\"}},\"type\":\"scattergl\"}],\"scattermapbox\":[{\"marker\":{\"colorbar\":{\"outlinewidth\":0,\"ticks\":\"\"}},\"type\":\"scattermapbox\"}],\"scatterpolar\":[{\"marker\":{\"colorbar\":{\"outlinewidth\":0,\"ticks\":\"\"}},\"type\":\"scatterpolar\"}],\"scatterpolargl\":[{\"marker\":{\"colorbar\":{\"outlinewidth\":0,\"ticks\":\"\"}},\"type\":\"scatterpolargl\"}],\"scatterternary\":[{\"marker\":{\"colorbar\":{\"outlinewidth\":0,\"ticks\":\"\"}},\"type\":\"scatterternary\"}],\"surface\":[{\"colorbar\":{\"outlinewidth\":0,\"ticks\":\"\"},\"colorscale\":[[0.0,\"#0d0887\"],[0.1111111111111111,\"#46039f\"],[0.2222222222222222,\"#7201a8\"],[0.3333333333333333,\"#9c179e\"],[0.4444444444444444,\"#bd3786\"],[0.5555555555555556,\"#d8576b\"],[0.6666666666666666,\"#ed7953\"],[0.7777777777777778,\"#fb9f3a\"],[0.8888888888888888,\"#fdca26\"],[1.0,\"#f0f921\"]],\"type\":\"surface\"}],\"table\":[{\"cells\":{\"fill\":{\"color\":\"#EBF0F8\"},\"line\":{\"color\":\"white\"}},\"header\":{\"fill\":{\"color\":\"#C8D4E3\"},\"line\":{\"color\":\"white\"}},\"type\":\"table\"}]},\"layout\":{\"annotationdefaults\":{\"arrowcolor\":\"#2a3f5f\",\"arrowhead\":0,\"arrowwidth\":1},\"autotypenumbers\":\"strict\",\"coloraxis\":{\"colorbar\":{\"outlinewidth\":0,\"ticks\":\"\"}},\"colorscale\":{\"diverging\":[[0,\"#8e0152\"],[0.1,\"#c51b7d\"],[0.2,\"#de77ae\"],[0.3,\"#f1b6da\"],[0.4,\"#fde0ef\"],[0.5,\"#f7f7f7\"],[0.6,\"#e6f5d0\"],[0.7,\"#b8e186\"],[0.8,\"#7fbc41\"],[0.9,\"#4d9221\"],[1,\"#276419\"]],\"sequential\":[[0.0,\"#0d0887\"],[0.1111111111111111,\"#46039f\"],[0.2222222222222222,\"#7201a8\"],[0.3333333333333333,\"#9c179e\"],[0.4444444444444444,\"#bd3786\"],[0.5555555555555556,\"#d8576b\"],[0.6666666666666666,\"#ed7953\"],[0.7777777777777778,\"#fb9f3a\"],[0.8888888888888888,\"#fdca26\"],[1.0,\"#f0f921\"]],\"sequentialminus\":[[0.0,\"#0d0887\"],[0.1111111111111111,\"#46039f\"],[0.2222222222222222,\"#7201a8\"],[0.3333333333333333,\"#9c179e\"],[0.4444444444444444,\"#bd3786\"],[0.5555555555555556,\"#d8576b\"],[0.6666666666666666,\"#ed7953\"],[0.7777777777777778,\"#fb9f3a\"],[0.8888888888888888,\"#fdca26\"],[1.0,\"#f0f921\"]]},\"colorway\":[\"#636efa\",\"#EF553B\",\"#00cc96\",\"#ab63fa\",\"#FFA15A\",\"#19d3f3\",\"#FF6692\",\"#B6E880\",\"#FF97FF\",\"#FECB52\"],\"font\":{\"color\":\"#2a3f5f\"},\"geo\":{\"bgcolor\":\"white\",\"lakecolor\":\"white\",\"landcolor\":\"#E5ECF6\",\"showlakes\":true,\"showland\":true,\"subunitcolor\":\"white\"},\"hoverlabel\":{\"align\":\"left\"},\"hovermode\":\"closest\",\"mapbox\":{\"style\":\"light\"},\"paper_bgcolor\":\"white\",\"plot_bgcolor\":\"#E5ECF6\",\"polar\":{\"angularaxis\":{\"gridcolor\":\"white\",\"linecolor\":\"white\",\"ticks\":\"\"},\"bgcolor\":\"#E5ECF6\",\"radialaxis\":{\"gridcolor\":\"white\",\"linecolor\":\"white\",\"ticks\":\"\"}},\"scene\":{\"xaxis\":{\"backgroundcolor\":\"#E5ECF6\",\"gridcolor\":\"white\",\"gridwidth\":2,\"linecolor\":\"white\",\"showbackground\":true,\"ticks\":\"\",\"zerolinecolor\":\"white\"},\"yaxis\":{\"backgroundcolor\":\"#E5ECF6\",\"gridcolor\":\"white\",\"gridwidth\":2,\"linecolor\":\"white\",\"showbackground\":true,\"ticks\":\"\",\"zerolinecolor\":\"white\"},\"zaxis\":{\"backgroundcolor\":\"#E5ECF6\",\"gridcolor\":\"white\",\"gridwidth\":2,\"linecolor\":\"white\",\"showbackground\":true,\"ticks\":\"\",\"zerolinecolor\":\"white\"}},\"shapedefaults\":{\"line\":{\"color\":\"#2a3f5f\"}},\"ternary\":{\"aaxis\":{\"gridcolor\":\"white\",\"linecolor\":\"white\",\"ticks\":\"\"},\"baxis\":{\"gridcolor\":\"white\",\"linecolor\":\"white\",\"ticks\":\"\"},\"bgcolor\":\"#E5ECF6\",\"caxis\":{\"gridcolor\":\"white\",\"linecolor\":\"white\",\"ticks\":\"\"}},\"title\":{\"x\":0.05},\"xaxis\":{\"automargin\":true,\"gridcolor\":\"white\",\"linecolor\":\"white\",\"ticks\":\"\",\"title\":{\"standoff\":15},\"zerolinecolor\":\"white\",\"zerolinewidth\":2},\"yaxis\":{\"automargin\":true,\"gridcolor\":\"white\",\"linecolor\":\"white\",\"ticks\":\"\",\"title\":{\"standoff\":15},\"zerolinecolor\":\"white\",\"zerolinewidth\":2}}},\"xaxis\":{\"anchor\":\"y\",\"domain\":[0.0,1.0],\"title\":{\"text\":\"other_parties\"}},\"yaxis\":{\"anchor\":\"x\",\"domain\":[0.0,1.0],\"title\":{\"text\":\"count\"}},\"legend\":{\"title\":{\"text\":\"risk\"},\"tracegroupgap\":0},\"margin\":{\"t\":60},\"barmode\":\"relative\"},                        {\"responsive\": true}                    ).then(function(){\n",
              "                            \n",
              "var gd = document.getElementById('12ede423-e42e-4dec-a9c1-8bf62ed32119');\n",
              "var x = new MutationObserver(function (mutations, observer) {{\n",
              "        var display = window.getComputedStyle(gd).display;\n",
              "        if (!display || display === 'none') {{\n",
              "            console.log([gd, 'removed!']);\n",
              "            Plotly.purge(gd);\n",
              "            observer.disconnect();\n",
              "        }}\n",
              "}});\n",
              "\n",
              "// Listen for the removal of the full notebook cells\n",
              "var notebookContainer = gd.closest('#notebook-container');\n",
              "if (notebookContainer) {{\n",
              "    x.observe(notebookContainer, {childList: true});\n",
              "}}\n",
              "\n",
              "// Listen for the clearing of the current output cell\n",
              "var outputEl = gd.closest('.output');\n",
              "if (outputEl) {{\n",
              "    x.observe(outputEl, {childList: true});\n",
              "}}\n",
              "\n",
              "                        })                };                            </script>        </div>\n",
              "</body>\n",
              "</html>"
            ]
          },
          "metadata": {}
        },
        {
          "output_type": "display_data",
          "data": {
            "text/html": [
              "<html>\n",
              "<head><meta charset=\"utf-8\" /></head>\n",
              "<body>\n",
              "    <div>            <script src=\"https://cdnjs.cloudflare.com/ajax/libs/mathjax/2.7.5/MathJax.js?config=TeX-AMS-MML_SVG\"></script><script type=\"text/javascript\">if (window.MathJax) {MathJax.Hub.Config({SVG: {font: \"STIX-Web\"}});}</script>                <script type=\"text/javascript\">window.PlotlyConfig = {MathJaxConfig: 'local'};</script>\n",
              "        <script src=\"https://cdn.plot.ly/plotly-2.8.3.min.js\"></script>                <div id=\"58a68d57-5c5f-4492-92ee-9f67b06c736a\" class=\"plotly-graph-div\" style=\"height:525px; width:100%;\"></div>            <script type=\"text/javascript\">                                    window.PLOTLYENV=window.PLOTLYENV || {};                                    if (document.getElementById(\"58a68d57-5c5f-4492-92ee-9f67b06c736a\")) {                    Plotly.newPlot(                        \"58a68d57-5c5f-4492-92ee-9f67b06c736a\",                        [{\"alignmentgroup\":\"True\",\"bingroup\":\"x\",\"hovertemplate\":\"risk=good<br>property_magnitude=%{x}<br>count=%{y}<extra></extra>\",\"legendgroup\":\"good\",\"marker\":{\"color\":\"#636efa\",\"pattern\":{\"shape\":\"\"}},\"name\":\"good\",\"offsetgroup\":\"good\",\"orientation\":\"v\",\"showlegend\":true,\"x\":[\"real estate\",\"real estate\",\"life insurance\",\"no known property\",\"life insurance\",\"car\",\"real estate\",\"car\",\"car\",\"life insurance\",\"car\",\"car\",\"car\",\"real estate\",\"real estate\",\"life insurance\",\"car\",\"real estate\",\"car\",\"real estate\",\"real estate\",\"real estate\",\"car\",\"car\",\"no known property\",\"life insurance\",\"no known property\",\"car\",\"real estate\",\"car\",\"car\",\"real estate\",\"car\",\"car\",\"car\",\"life insurance\",\"life insurance\",\"real estate\",\"life insurance\",\"car\",\"car\",\"life insurance\",\"real estate\",\"car\",\"car\",\"real estate\",\"real estate\",\"life insurance\",\"life insurance\",\"car\",\"real estate\",\"car\",\"life insurance\",\"life insurance\",\"no known property\",\"real estate\",\"no known property\",\"life insurance\",\"life insurance\",\"life insurance\",\"life insurance\",\"life insurance\",\"real estate\",\"real estate\",\"real estate\",\"life insurance\",\"car\",\"real estate\",\"real estate\",\"no known property\",\"real estate\",\"car\",\"car\",\"real estate\",\"life insurance\",\"real estate\",\"car\",\"real estate\",\"car\",\"car\",\"car\",\"life insurance\",\"real estate\",\"car\",\"life insurance\",\"real estate\",\"real estate\",\"real estate\",\"real estate\",\"car\",\"car\",\"real estate\",\"no known property\",\"life insurance\",\"real estate\",\"car\",\"car\",\"life insurance\",\"no known property\",\"real estate\",\"real estate\",\"car\",\"real estate\",\"car\",\"real estate\",\"no known property\",\"car\",\"life insurance\",\"car\",\"no known property\",\"car\",\"life insurance\",\"car\",\"no known property\",\"life insurance\",\"car\",\"no known property\",\"car\",\"real estate\",\"car\",\"car\",\"real estate\",\"real estate\",\"life insurance\",\"life insurance\",\"no known property\",\"life insurance\",\"car\",\"real estate\",\"life insurance\",\"real estate\",\"real estate\",\"car\",\"car\",\"car\",\"real estate\",\"real estate\",\"life insurance\",\"car\",\"car\",\"real estate\",\"car\",\"no known property\",\"car\",\"real estate\",\"car\",\"real estate\",\"no known property\",\"real estate\",\"life insurance\",\"car\",\"life insurance\",\"real estate\",\"real estate\",\"car\",\"life insurance\",\"life insurance\",\"real estate\",\"real estate\",\"car\",\"real estate\",\"life insurance\",\"real estate\",\"real estate\",\"car\",\"car\",\"no known property\",\"no known property\",\"no known property\",\"real estate\",\"real estate\",\"life insurance\",\"life insurance\",\"life insurance\",\"real estate\",\"real estate\",\"real estate\",\"real estate\",\"no known property\",\"real estate\",\"real estate\",\"car\",\"life insurance\",\"car\",\"real estate\",\"real estate\",\"car\",\"real estate\",\"real estate\",\"car\",\"no known property\",\"no known property\",\"real estate\",\"real estate\",\"car\",\"car\",\"life insurance\",\"car\",\"no known property\",\"real estate\",\"car\",\"life insurance\",\"car\",\"no known property\",\"real estate\",\"car\",\"life insurance\",\"car\",\"real estate\",\"life insurance\",\"no known property\",\"real estate\",\"real estate\",\"no known property\",\"no known property\",\"car\",\"car\",\"life insurance\",\"real estate\",\"car\",\"real estate\",\"life insurance\",\"real estate\",\"life insurance\",\"real estate\",\"no known property\",\"car\",\"car\",\"real estate\",\"life insurance\",\"life insurance\",\"car\",\"life insurance\",\"no known property\",\"car\",\"real estate\",\"real estate\",\"life insurance\",\"car\",\"car\",\"car\",\"no known property\",\"life insurance\",\"life insurance\",\"car\",\"no known property\",\"car\",\"real estate\",\"real estate\",\"life insurance\",\"car\",\"real estate\",\"no known property\",\"real estate\",\"real estate\",\"no known property\",\"no known property\",\"real estate\",\"real estate\",\"no known property\",\"car\",\"car\",\"life insurance\",\"car\",\"car\",\"car\",\"real estate\",\"real estate\",\"car\",\"real estate\",\"no known property\",\"real estate\",\"no known property\",\"car\",\"car\",\"life insurance\",\"real estate\",\"life insurance\",\"car\",\"real estate\",\"life insurance\",\"car\",\"car\",\"life insurance\",\"real estate\",\"no known property\",\"car\",\"car\",\"no known property\",\"no known property\",\"life insurance\",\"real estate\",\"real estate\",\"real estate\",\"car\",\"car\",\"car\",\"real estate\",\"car\",\"car\",\"car\",\"no known property\",\"life insurance\",\"car\",\"car\",\"car\",\"car\",\"real estate\",\"real estate\",\"car\",\"car\",\"real estate\",\"car\",\"real estate\",\"no known property\",\"real estate\",\"real estate\",\"real estate\",\"real estate\",\"car\",\"car\",\"life insurance\",\"car\",\"life insurance\",\"real estate\",\"real estate\",\"car\",\"real estate\",\"life insurance\",\"car\",\"no known property\",\"real estate\",\"real estate\",\"car\",\"life insurance\",\"real estate\",\"real estate\",\"life insurance\",\"car\",\"no known property\",\"car\",\"car\",\"car\",\"life insurance\",\"car\",\"car\",\"real estate\",\"car\",\"real estate\",\"life insurance\",\"life insurance\",\"life insurance\",\"real estate\",\"car\",\"no known property\",\"real estate\",\"life insurance\",\"no known property\",\"life insurance\",\"life insurance\",\"real estate\",\"life insurance\",\"real estate\",\"car\",\"no known property\",\"real estate\",\"car\",\"life insurance\",\"car\",\"no known property\",\"life insurance\",\"real estate\",\"life insurance\",\"life insurance\",\"real estate\",\"life insurance\",\"no known property\",\"no known property\",\"car\",\"real estate\",\"car\",\"car\",\"real estate\",\"real estate\",\"car\",\"real estate\",\"life insurance\",\"car\",\"life insurance\",\"life insurance\",\"life insurance\",\"no known property\",\"real estate\",\"car\",\"car\",\"no known property\",\"real estate\",\"life insurance\",\"car\",\"life insurance\",\"no known property\",\"life insurance\",\"life insurance\",\"life insurance\",\"car\",\"car\",\"car\",\"life insurance\",\"life insurance\",\"car\",\"car\",\"real estate\",\"car\",\"car\",\"real estate\",\"real estate\",\"no known property\",\"real estate\",\"life insurance\",\"real estate\",\"car\",\"real estate\",\"no known property\",\"real estate\",\"life insurance\",\"real estate\",\"real estate\",\"real estate\",\"no known property\",\"car\",\"car\",\"car\",\"no known property\",\"real estate\",\"real estate\",\"life insurance\",\"car\",\"car\",\"real estate\",\"real estate\",\"real estate\",\"car\",\"life insurance\",\"life insurance\",\"car\",\"car\",\"car\",\"car\",\"car\",\"life insurance\",\"real estate\",\"no known property\",\"car\",\"no known property\",\"car\",\"car\",\"no known property\",\"real estate\",\"real estate\",\"life insurance\",\"life insurance\",\"no known property\",\"car\",\"real estate\",\"life insurance\",\"life insurance\",\"car\",\"life insurance\",\"car\",\"car\",\"car\",\"real estate\",\"real estate\",\"no known property\",\"no known property\",\"real estate\",\"no known property\",\"life insurance\",\"no known property\",\"life insurance\",\"no known property\",\"car\",\"life insurance\",\"life insurance\",\"real estate\",\"car\",\"real estate\",\"car\",\"life insurance\",\"real estate\",\"life insurance\",\"car\",\"car\",\"no known property\",\"life insurance\",\"life insurance\",\"no known property\",\"real estate\",\"real estate\",\"life insurance\",\"real estate\",\"real estate\",\"car\",\"car\",\"no known property\",\"car\",\"car\",\"real estate\",\"real estate\",\"life insurance\",\"real estate\",\"car\",\"real estate\",\"car\",\"real estate\",\"no known property\",\"car\",\"no known property\",\"car\",\"real estate\",\"life insurance\",\"real estate\",\"life insurance\",\"life insurance\",\"car\",\"car\",\"car\",\"life insurance\",\"real estate\",\"car\",\"real estate\",\"real estate\",\"car\",\"life insurance\",\"life insurance\",\"real estate\",\"real estate\",\"car\",\"real estate\",\"real estate\",\"car\",\"life insurance\",\"no known property\",\"car\",\"real estate\",\"car\",\"car\",\"real estate\",\"real estate\",\"real estate\",\"life insurance\",\"car\",\"car\",\"car\",\"life insurance\",\"no known property\",\"no known property\",\"life insurance\",\"life insurance\",\"car\",\"real estate\",\"no known property\",\"real estate\",\"life insurance\",\"car\",\"real estate\",\"real estate\",\"real estate\",\"no known property\",\"real estate\",\"real estate\",\"life insurance\",\"real estate\",\"car\",\"car\",\"real estate\",\"car\",\"real estate\",\"car\",\"car\",\"no known property\",\"car\",\"car\",\"car\",\"real estate\",\"life insurance\",\"real estate\",\"real estate\",\"car\",\"life insurance\",\"car\",\"real estate\",\"real estate\",\"life insurance\",\"no known property\",\"car\",\"real estate\",\"life insurance\",\"no known property\",\"real estate\",\"real estate\",\"real estate\",\"car\",\"car\",\"life insurance\",\"life insurance\",\"life insurance\",\"car\",\"real estate\",\"real estate\",\"real estate\",\"life insurance\",\"car\",\"no known property\",\"car\",\"life insurance\",\"car\",\"no known property\",\"real estate\",\"car\",\"no known property\",\"car\",\"real estate\",\"car\",\"car\",\"life insurance\",\"car\",\"life insurance\",\"car\",\"life insurance\",\"life insurance\",\"real estate\",\"real estate\",\"no known property\",\"real estate\",\"real estate\",\"real estate\",\"real estate\",\"car\",\"life insurance\",\"real estate\",\"real estate\",\"car\",\"real estate\",\"real estate\",\"no known property\",\"car\",\"life insurance\",\"life insurance\",\"car\",\"real estate\",\"life insurance\",\"real estate\",\"life insurance\",\"car\",\"car\",\"life insurance\",\"life insurance\",\"real estate\",\"car\",\"real estate\",\"life insurance\",\"car\",\"no known property\",\"car\",\"life insurance\",\"life insurance\",\"life insurance\",\"real estate\",\"no known property\",\"real estate\",\"life insurance\",\"no known property\",\"life insurance\",\"car\",\"car\",\"life insurance\",\"real estate\",\"real estate\",\"life insurance\",\"car\",\"car\",\"real estate\",\"life insurance\",\"car\",\"life insurance\",\"life insurance\",\"life insurance\",\"real estate\",\"no known property\",\"life insurance\",\"life insurance\",\"car\",\"car\",\"life insurance\",\"car\",\"real estate\",\"life insurance\",\"car\",\"car\"],\"xaxis\":\"x\",\"yaxis\":\"y\",\"type\":\"histogram\"},{\"alignmentgroup\":\"True\",\"bingroup\":\"x\",\"hovertemplate\":\"risk=bad<br>property_magnitude=%{x}<br>count=%{y}<extra></extra>\",\"legendgroup\":\"bad\",\"marker\":{\"color\":\"#EF553B\",\"pattern\":{\"shape\":\"\"}},\"name\":\"bad\",\"offsetgroup\":\"bad\",\"orientation\":\"v\",\"showlegend\":true,\"x\":[\"real estate\",\"no known property\",\"car\",\"car\",\"life insurance\",\"car\",\"car\",\"no known property\",\"no known property\",\"life insurance\",\"real estate\",\"no known property\",\"no known property\",\"no known property\",\"no known property\",\"no known property\",\"car\",\"no known property\",\"no known property\",\"car\",\"car\",\"no known property\",\"real estate\",\"life insurance\",\"no known property\",\"car\",\"no known property\",\"real estate\",\"car\",\"car\",\"real estate\",\"real estate\",\"car\",\"real estate\",\"life insurance\",\"real estate\",\"car\",\"car\",\"car\",\"real estate\",\"car\",\"life insurance\",\"life insurance\",\"real estate\",\"car\",\"real estate\",\"life insurance\",\"car\",\"no known property\",\"life insurance\",\"life insurance\",\"no known property\",\"car\",\"life insurance\",\"car\",\"car\",\"no known property\",\"life insurance\",\"life insurance\",\"real estate\",\"no known property\",\"no known property\",\"car\",\"car\",\"car\",\"life insurance\",\"car\",\"car\",\"no known property\",\"real estate\",\"no known property\",\"no known property\",\"car\",\"life insurance\",\"real estate\",\"no known property\",\"life insurance\",\"real estate\",\"car\",\"car\",\"car\",\"real estate\",\"no known property\",\"no known property\",\"real estate\",\"car\",\"car\",\"car\",\"life insurance\",\"real estate\",\"life insurance\",\"car\",\"no known property\",\"real estate\",\"car\",\"no known property\",\"car\",\"life insurance\",\"real estate\",\"car\",\"real estate\",\"car\",\"car\",\"no known property\",\"car\",\"no known property\",\"no known property\",\"real estate\",\"car\",\"life insurance\",\"real estate\",\"car\",\"life insurance\",\"real estate\",\"life insurance\",\"life insurance\",\"no known property\",\"car\",\"real estate\",\"real estate\",\"car\",\"car\",\"car\",\"life insurance\",\"life insurance\",\"no known property\",\"car\",\"car\",\"life insurance\",\"car\",\"car\",\"life insurance\",\"life insurance\",\"no known property\",\"car\",\"no known property\",\"life insurance\",\"no known property\",\"life insurance\",\"life insurance\",\"life insurance\",\"real estate\",\"life insurance\",\"real estate\",\"no known property\",\"car\",\"car\",\"car\",\"no known property\",\"real estate\",\"life insurance\",\"real estate\",\"real estate\",\"real estate\",\"real estate\",\"car\",\"car\",\"life insurance\",\"car\",\"real estate\",\"car\",\"no known property\",\"car\",\"car\",\"real estate\",\"car\",\"real estate\",\"no known property\",\"real estate\",\"real estate\",\"life insurance\",\"life insurance\",\"car\",\"life insurance\",\"car\",\"real estate\",\"life insurance\",\"life insurance\",\"no known property\",\"car\",\"no known property\",\"life insurance\",\"no known property\",\"real estate\",\"car\",\"life insurance\",\"real estate\",\"no known property\",\"no known property\",\"car\",\"car\",\"car\",\"life insurance\",\"real estate\",\"life insurance\",\"car\",\"life insurance\",\"no known property\",\"car\",\"life insurance\",\"real estate\",\"car\",\"car\",\"car\",\"life insurance\",\"real estate\",\"car\",\"car\",\"no known property\",\"life insurance\",\"life insurance\",\"no known property\",\"no known property\",\"car\",\"life insurance\",\"real estate\",\"real estate\",\"car\",\"no known property\",\"real estate\",\"car\",\"car\",\"real estate\",\"car\",\"no known property\",\"no known property\",\"no known property\",\"life insurance\",\"real estate\",\"no known property\",\"life insurance\",\"no known property\",\"real estate\",\"real estate\",\"life insurance\",\"no known property\",\"no known property\",\"life insurance\",\"life insurance\",\"car\",\"real estate\",\"car\",\"car\",\"no known property\",\"real estate\",\"life insurance\",\"real estate\",\"car\",\"no known property\",\"car\",\"car\",\"real estate\",\"car\",\"life insurance\",\"real estate\",\"car\",\"real estate\",\"life insurance\",\"no known property\",\"life insurance\",\"car\",\"real estate\",\"real estate\",\"no known property\",\"car\",\"life insurance\",\"car\",\"car\",\"life insurance\",\"car\",\"life insurance\",\"life insurance\",\"no known property\",\"life insurance\",\"life insurance\",\"life insurance\",\"life insurance\",\"car\",\"no known property\",\"car\",\"no known property\",\"real estate\",\"no known property\",\"no known property\",\"life insurance\",\"car\",\"car\",\"car\",\"car\",\"car\",\"car\",\"life insurance\",\"no known property\",\"no known property\",\"car\",\"life insurance\",\"life insurance\",\"car\",\"life insurance\",\"no known property\"],\"xaxis\":\"x\",\"yaxis\":\"y\",\"type\":\"histogram\"}],                        {\"template\":{\"data\":{\"bar\":[{\"error_x\":{\"color\":\"#2a3f5f\"},\"error_y\":{\"color\":\"#2a3f5f\"},\"marker\":{\"line\":{\"color\":\"#E5ECF6\",\"width\":0.5},\"pattern\":{\"fillmode\":\"overlay\",\"size\":10,\"solidity\":0.2}},\"type\":\"bar\"}],\"barpolar\":[{\"marker\":{\"line\":{\"color\":\"#E5ECF6\",\"width\":0.5},\"pattern\":{\"fillmode\":\"overlay\",\"size\":10,\"solidity\":0.2}},\"type\":\"barpolar\"}],\"carpet\":[{\"aaxis\":{\"endlinecolor\":\"#2a3f5f\",\"gridcolor\":\"white\",\"linecolor\":\"white\",\"minorgridcolor\":\"white\",\"startlinecolor\":\"#2a3f5f\"},\"baxis\":{\"endlinecolor\":\"#2a3f5f\",\"gridcolor\":\"white\",\"linecolor\":\"white\",\"minorgridcolor\":\"white\",\"startlinecolor\":\"#2a3f5f\"},\"type\":\"carpet\"}],\"choropleth\":[{\"colorbar\":{\"outlinewidth\":0,\"ticks\":\"\"},\"type\":\"choropleth\"}],\"contour\":[{\"colorbar\":{\"outlinewidth\":0,\"ticks\":\"\"},\"colorscale\":[[0.0,\"#0d0887\"],[0.1111111111111111,\"#46039f\"],[0.2222222222222222,\"#7201a8\"],[0.3333333333333333,\"#9c179e\"],[0.4444444444444444,\"#bd3786\"],[0.5555555555555556,\"#d8576b\"],[0.6666666666666666,\"#ed7953\"],[0.7777777777777778,\"#fb9f3a\"],[0.8888888888888888,\"#fdca26\"],[1.0,\"#f0f921\"]],\"type\":\"contour\"}],\"contourcarpet\":[{\"colorbar\":{\"outlinewidth\":0,\"ticks\":\"\"},\"type\":\"contourcarpet\"}],\"heatmap\":[{\"colorbar\":{\"outlinewidth\":0,\"ticks\":\"\"},\"colorscale\":[[0.0,\"#0d0887\"],[0.1111111111111111,\"#46039f\"],[0.2222222222222222,\"#7201a8\"],[0.3333333333333333,\"#9c179e\"],[0.4444444444444444,\"#bd3786\"],[0.5555555555555556,\"#d8576b\"],[0.6666666666666666,\"#ed7953\"],[0.7777777777777778,\"#fb9f3a\"],[0.8888888888888888,\"#fdca26\"],[1.0,\"#f0f921\"]],\"type\":\"heatmap\"}],\"heatmapgl\":[{\"colorbar\":{\"outlinewidth\":0,\"ticks\":\"\"},\"colorscale\":[[0.0,\"#0d0887\"],[0.1111111111111111,\"#46039f\"],[0.2222222222222222,\"#7201a8\"],[0.3333333333333333,\"#9c179e\"],[0.4444444444444444,\"#bd3786\"],[0.5555555555555556,\"#d8576b\"],[0.6666666666666666,\"#ed7953\"],[0.7777777777777778,\"#fb9f3a\"],[0.8888888888888888,\"#fdca26\"],[1.0,\"#f0f921\"]],\"type\":\"heatmapgl\"}],\"histogram\":[{\"marker\":{\"pattern\":{\"fillmode\":\"overlay\",\"size\":10,\"solidity\":0.2}},\"type\":\"histogram\"}],\"histogram2d\":[{\"colorbar\":{\"outlinewidth\":0,\"ticks\":\"\"},\"colorscale\":[[0.0,\"#0d0887\"],[0.1111111111111111,\"#46039f\"],[0.2222222222222222,\"#7201a8\"],[0.3333333333333333,\"#9c179e\"],[0.4444444444444444,\"#bd3786\"],[0.5555555555555556,\"#d8576b\"],[0.6666666666666666,\"#ed7953\"],[0.7777777777777778,\"#fb9f3a\"],[0.8888888888888888,\"#fdca26\"],[1.0,\"#f0f921\"]],\"type\":\"histogram2d\"}],\"histogram2dcontour\":[{\"colorbar\":{\"outlinewidth\":0,\"ticks\":\"\"},\"colorscale\":[[0.0,\"#0d0887\"],[0.1111111111111111,\"#46039f\"],[0.2222222222222222,\"#7201a8\"],[0.3333333333333333,\"#9c179e\"],[0.4444444444444444,\"#bd3786\"],[0.5555555555555556,\"#d8576b\"],[0.6666666666666666,\"#ed7953\"],[0.7777777777777778,\"#fb9f3a\"],[0.8888888888888888,\"#fdca26\"],[1.0,\"#f0f921\"]],\"type\":\"histogram2dcontour\"}],\"mesh3d\":[{\"colorbar\":{\"outlinewidth\":0,\"ticks\":\"\"},\"type\":\"mesh3d\"}],\"parcoords\":[{\"line\":{\"colorbar\":{\"outlinewidth\":0,\"ticks\":\"\"}},\"type\":\"parcoords\"}],\"pie\":[{\"automargin\":true,\"type\":\"pie\"}],\"scatter\":[{\"marker\":{\"colorbar\":{\"outlinewidth\":0,\"ticks\":\"\"}},\"type\":\"scatter\"}],\"scatter3d\":[{\"line\":{\"colorbar\":{\"outlinewidth\":0,\"ticks\":\"\"}},\"marker\":{\"colorbar\":{\"outlinewidth\":0,\"ticks\":\"\"}},\"type\":\"scatter3d\"}],\"scattercarpet\":[{\"marker\":{\"colorbar\":{\"outlinewidth\":0,\"ticks\":\"\"}},\"type\":\"scattercarpet\"}],\"scattergeo\":[{\"marker\":{\"colorbar\":{\"outlinewidth\":0,\"ticks\":\"\"}},\"type\":\"scattergeo\"}],\"scattergl\":[{\"marker\":{\"colorbar\":{\"outlinewidth\":0,\"ticks\":\"\"}},\"type\":\"scattergl\"}],\"scattermapbox\":[{\"marker\":{\"colorbar\":{\"outlinewidth\":0,\"ticks\":\"\"}},\"type\":\"scattermapbox\"}],\"scatterpolar\":[{\"marker\":{\"colorbar\":{\"outlinewidth\":0,\"ticks\":\"\"}},\"type\":\"scatterpolar\"}],\"scatterpolargl\":[{\"marker\":{\"colorbar\":{\"outlinewidth\":0,\"ticks\":\"\"}},\"type\":\"scatterpolargl\"}],\"scatterternary\":[{\"marker\":{\"colorbar\":{\"outlinewidth\":0,\"ticks\":\"\"}},\"type\":\"scatterternary\"}],\"surface\":[{\"colorbar\":{\"outlinewidth\":0,\"ticks\":\"\"},\"colorscale\":[[0.0,\"#0d0887\"],[0.1111111111111111,\"#46039f\"],[0.2222222222222222,\"#7201a8\"],[0.3333333333333333,\"#9c179e\"],[0.4444444444444444,\"#bd3786\"],[0.5555555555555556,\"#d8576b\"],[0.6666666666666666,\"#ed7953\"],[0.7777777777777778,\"#fb9f3a\"],[0.8888888888888888,\"#fdca26\"],[1.0,\"#f0f921\"]],\"type\":\"surface\"}],\"table\":[{\"cells\":{\"fill\":{\"color\":\"#EBF0F8\"},\"line\":{\"color\":\"white\"}},\"header\":{\"fill\":{\"color\":\"#C8D4E3\"},\"line\":{\"color\":\"white\"}},\"type\":\"table\"}]},\"layout\":{\"annotationdefaults\":{\"arrowcolor\":\"#2a3f5f\",\"arrowhead\":0,\"arrowwidth\":1},\"autotypenumbers\":\"strict\",\"coloraxis\":{\"colorbar\":{\"outlinewidth\":0,\"ticks\":\"\"}},\"colorscale\":{\"diverging\":[[0,\"#8e0152\"],[0.1,\"#c51b7d\"],[0.2,\"#de77ae\"],[0.3,\"#f1b6da\"],[0.4,\"#fde0ef\"],[0.5,\"#f7f7f7\"],[0.6,\"#e6f5d0\"],[0.7,\"#b8e186\"],[0.8,\"#7fbc41\"],[0.9,\"#4d9221\"],[1,\"#276419\"]],\"sequential\":[[0.0,\"#0d0887\"],[0.1111111111111111,\"#46039f\"],[0.2222222222222222,\"#7201a8\"],[0.3333333333333333,\"#9c179e\"],[0.4444444444444444,\"#bd3786\"],[0.5555555555555556,\"#d8576b\"],[0.6666666666666666,\"#ed7953\"],[0.7777777777777778,\"#fb9f3a\"],[0.8888888888888888,\"#fdca26\"],[1.0,\"#f0f921\"]],\"sequentialminus\":[[0.0,\"#0d0887\"],[0.1111111111111111,\"#46039f\"],[0.2222222222222222,\"#7201a8\"],[0.3333333333333333,\"#9c179e\"],[0.4444444444444444,\"#bd3786\"],[0.5555555555555556,\"#d8576b\"],[0.6666666666666666,\"#ed7953\"],[0.7777777777777778,\"#fb9f3a\"],[0.8888888888888888,\"#fdca26\"],[1.0,\"#f0f921\"]]},\"colorway\":[\"#636efa\",\"#EF553B\",\"#00cc96\",\"#ab63fa\",\"#FFA15A\",\"#19d3f3\",\"#FF6692\",\"#B6E880\",\"#FF97FF\",\"#FECB52\"],\"font\":{\"color\":\"#2a3f5f\"},\"geo\":{\"bgcolor\":\"white\",\"lakecolor\":\"white\",\"landcolor\":\"#E5ECF6\",\"showlakes\":true,\"showland\":true,\"subunitcolor\":\"white\"},\"hoverlabel\":{\"align\":\"left\"},\"hovermode\":\"closest\",\"mapbox\":{\"style\":\"light\"},\"paper_bgcolor\":\"white\",\"plot_bgcolor\":\"#E5ECF6\",\"polar\":{\"angularaxis\":{\"gridcolor\":\"white\",\"linecolor\":\"white\",\"ticks\":\"\"},\"bgcolor\":\"#E5ECF6\",\"radialaxis\":{\"gridcolor\":\"white\",\"linecolor\":\"white\",\"ticks\":\"\"}},\"scene\":{\"xaxis\":{\"backgroundcolor\":\"#E5ECF6\",\"gridcolor\":\"white\",\"gridwidth\":2,\"linecolor\":\"white\",\"showbackground\":true,\"ticks\":\"\",\"zerolinecolor\":\"white\"},\"yaxis\":{\"backgroundcolor\":\"#E5ECF6\",\"gridcolor\":\"white\",\"gridwidth\":2,\"linecolor\":\"white\",\"showbackground\":true,\"ticks\":\"\",\"zerolinecolor\":\"white\"},\"zaxis\":{\"backgroundcolor\":\"#E5ECF6\",\"gridcolor\":\"white\",\"gridwidth\":2,\"linecolor\":\"white\",\"showbackground\":true,\"ticks\":\"\",\"zerolinecolor\":\"white\"}},\"shapedefaults\":{\"line\":{\"color\":\"#2a3f5f\"}},\"ternary\":{\"aaxis\":{\"gridcolor\":\"white\",\"linecolor\":\"white\",\"ticks\":\"\"},\"baxis\":{\"gridcolor\":\"white\",\"linecolor\":\"white\",\"ticks\":\"\"},\"bgcolor\":\"#E5ECF6\",\"caxis\":{\"gridcolor\":\"white\",\"linecolor\":\"white\",\"ticks\":\"\"}},\"title\":{\"x\":0.05},\"xaxis\":{\"automargin\":true,\"gridcolor\":\"white\",\"linecolor\":\"white\",\"ticks\":\"\",\"title\":{\"standoff\":15},\"zerolinecolor\":\"white\",\"zerolinewidth\":2},\"yaxis\":{\"automargin\":true,\"gridcolor\":\"white\",\"linecolor\":\"white\",\"ticks\":\"\",\"title\":{\"standoff\":15},\"zerolinecolor\":\"white\",\"zerolinewidth\":2}}},\"xaxis\":{\"anchor\":\"y\",\"domain\":[0.0,1.0],\"title\":{\"text\":\"property_magnitude\"}},\"yaxis\":{\"anchor\":\"x\",\"domain\":[0.0,1.0],\"title\":{\"text\":\"count\"}},\"legend\":{\"title\":{\"text\":\"risk\"},\"tracegroupgap\":0},\"margin\":{\"t\":60},\"barmode\":\"relative\"},                        {\"responsive\": true}                    ).then(function(){\n",
              "                            \n",
              "var gd = document.getElementById('58a68d57-5c5f-4492-92ee-9f67b06c736a');\n",
              "var x = new MutationObserver(function (mutations, observer) {{\n",
              "        var display = window.getComputedStyle(gd).display;\n",
              "        if (!display || display === 'none') {{\n",
              "            console.log([gd, 'removed!']);\n",
              "            Plotly.purge(gd);\n",
              "            observer.disconnect();\n",
              "        }}\n",
              "}});\n",
              "\n",
              "// Listen for the removal of the full notebook cells\n",
              "var notebookContainer = gd.closest('#notebook-container');\n",
              "if (notebookContainer) {{\n",
              "    x.observe(notebookContainer, {childList: true});\n",
              "}}\n",
              "\n",
              "// Listen for the clearing of the current output cell\n",
              "var outputEl = gd.closest('.output');\n",
              "if (outputEl) {{\n",
              "    x.observe(outputEl, {childList: true});\n",
              "}}\n",
              "\n",
              "                        })                };                            </script>        </div>\n",
              "</body>\n",
              "</html>"
            ]
          },
          "metadata": {}
        },
        {
          "output_type": "display_data",
          "data": {
            "text/html": [
              "<html>\n",
              "<head><meta charset=\"utf-8\" /></head>\n",
              "<body>\n",
              "    <div>            <script src=\"https://cdnjs.cloudflare.com/ajax/libs/mathjax/2.7.5/MathJax.js?config=TeX-AMS-MML_SVG\"></script><script type=\"text/javascript\">if (window.MathJax) {MathJax.Hub.Config({SVG: {font: \"STIX-Web\"}});}</script>                <script type=\"text/javascript\">window.PlotlyConfig = {MathJaxConfig: 'local'};</script>\n",
              "        <script src=\"https://cdn.plot.ly/plotly-2.8.3.min.js\"></script>                <div id=\"a4b33738-6136-4267-b640-c9d1b25b91ff\" class=\"plotly-graph-div\" style=\"height:525px; width:100%;\"></div>            <script type=\"text/javascript\">                                    window.PLOTLYENV=window.PLOTLYENV || {};                                    if (document.getElementById(\"a4b33738-6136-4267-b640-c9d1b25b91ff\")) {                    Plotly.newPlot(                        \"a4b33738-6136-4267-b640-c9d1b25b91ff\",                        [{\"alignmentgroup\":\"True\",\"bingroup\":\"x\",\"hovertemplate\":\"risk=good<br>other_payment_plans=%{x}<br>count=%{y}<extra></extra>\",\"legendgroup\":\"good\",\"marker\":{\"color\":\"#636efa\",\"pattern\":{\"shape\":\"\"}},\"name\":\"good\",\"offsetgroup\":\"good\",\"orientation\":\"v\",\"showlegend\":true,\"x\":[\"none\",\"none\",\"none\",\"none\",\"none\",\"none\",\"none\",\"none\",\"none\",\"none\",\"bank\",\"none\",\"none\",\"none\",\"none\",\"none\",\"none\",\"bank\",\"none\",\"none\",\"none\",\"bank\",\"stores\",\"none\",\"none\",\"bank\",\"bank\",\"none\",\"none\",\"bank\",\"none\",\"none\",\"none\",\"none\",\"none\",\"none\",\"none\",\"none\",\"bank\",\"none\",\"none\",\"none\",\"stores\",\"stores\",\"none\",\"bank\",\"none\",\"none\",\"none\",\"bank\",\"none\",\"none\",\"bank\",\"none\",\"bank\",\"bank\",\"none\",\"none\",\"none\",\"none\",\"stores\",\"none\",\"none\",\"none\",\"none\",\"none\",\"none\",\"none\",\"none\",\"none\",\"none\",\"none\",\"none\",\"none\",\"bank\",\"none\",\"none\",\"none\",\"none\",\"none\",\"none\",\"none\",\"none\",\"bank\",\"none\",\"none\",\"none\",\"none\",\"none\",\"none\",\"none\",\"none\",\"none\",\"none\",\"none\",\"none\",\"none\",\"bank\",\"bank\",\"none\",\"none\",\"none\",\"bank\",\"none\",\"none\",\"none\",\"none\",\"none\",\"none\",\"none\",\"none\",\"none\",\"none\",\"bank\",\"none\",\"none\",\"none\",\"none\",\"none\",\"bank\",\"bank\",\"none\",\"none\",\"none\",\"none\",\"bank\",\"none\",\"none\",\"none\",\"none\",\"none\",\"none\",\"none\",\"none\",\"none\",\"none\",\"none\",\"none\",\"none\",\"bank\",\"none\",\"none\",\"bank\",\"none\",\"none\",\"none\",\"none\",\"none\",\"none\",\"none\",\"stores\",\"none\",\"none\",\"none\",\"none\",\"none\",\"bank\",\"none\",\"none\",\"none\",\"bank\",\"bank\",\"bank\",\"none\",\"none\",\"none\",\"bank\",\"none\",\"none\",\"none\",\"none\",\"none\",\"none\",\"none\",\"none\",\"none\",\"none\",\"none\",\"bank\",\"none\",\"none\",\"none\",\"none\",\"none\",\"none\",\"none\",\"none\",\"none\",\"none\",\"none\",\"none\",\"bank\",\"none\",\"none\",\"stores\",\"none\",\"none\",\"none\",\"none\",\"none\",\"none\",\"none\",\"none\",\"none\",\"none\",\"bank\",\"none\",\"none\",\"none\",\"none\",\"none\",\"none\",\"none\",\"none\",\"none\",\"bank\",\"none\",\"none\",\"none\",\"none\",\"none\",\"none\",\"none\",\"stores\",\"none\",\"bank\",\"stores\",\"none\",\"none\",\"none\",\"none\",\"none\",\"none\",\"none\",\"none\",\"none\",\"none\",\"none\",\"none\",\"none\",\"none\",\"none\",\"none\",\"none\",\"none\",\"none\",\"none\",\"none\",\"bank\",\"none\",\"none\",\"none\",\"none\",\"none\",\"none\",\"none\",\"none\",\"none\",\"none\",\"none\",\"none\",\"stores\",\"none\",\"none\",\"none\",\"none\",\"none\",\"none\",\"none\",\"none\",\"bank\",\"none\",\"none\",\"none\",\"none\",\"none\",\"none\",\"none\",\"none\",\"none\",\"stores\",\"bank\",\"none\",\"none\",\"none\",\"bank\",\"none\",\"none\",\"none\",\"none\",\"none\",\"none\",\"none\",\"bank\",\"none\",\"none\",\"none\",\"none\",\"none\",\"none\",\"none\",\"none\",\"none\",\"none\",\"bank\",\"none\",\"none\",\"none\",\"none\",\"none\",\"none\",\"none\",\"none\",\"none\",\"none\",\"none\",\"none\",\"none\",\"none\",\"none\",\"none\",\"none\",\"bank\",\"none\",\"none\",\"none\",\"none\",\"none\",\"none\",\"none\",\"none\",\"none\",\"none\",\"none\",\"none\",\"none\",\"none\",\"none\",\"stores\",\"bank\",\"bank\",\"none\",\"none\",\"none\",\"none\",\"bank\",\"none\",\"none\",\"none\",\"none\",\"none\",\"none\",\"none\",\"none\",\"none\",\"none\",\"none\",\"none\",\"none\",\"none\",\"none\",\"none\",\"none\",\"none\",\"none\",\"none\",\"none\",\"none\",\"none\",\"none\",\"none\",\"none\",\"none\",\"none\",\"none\",\"none\",\"none\",\"none\",\"none\",\"none\",\"none\",\"none\",\"none\",\"none\",\"none\",\"none\",\"none\",\"none\",\"none\",\"none\",\"stores\",\"none\",\"none\",\"none\",\"bank\",\"none\",\"none\",\"bank\",\"none\",\"none\",\"bank\",\"bank\",\"bank\",\"none\",\"none\",\"none\",\"none\",\"none\",\"none\",\"none\",\"bank\",\"none\",\"none\",\"none\",\"bank\",\"none\",\"none\",\"none\",\"none\",\"none\",\"none\",\"bank\",\"none\",\"none\",\"none\",\"stores\",\"none\",\"none\",\"bank\",\"bank\",\"bank\",\"bank\",\"none\",\"none\",\"none\",\"none\",\"none\",\"none\",\"none\",\"none\",\"none\",\"none\",\"none\",\"bank\",\"none\",\"none\",\"none\",\"none\",\"none\",\"none\",\"none\",\"none\",\"none\",\"none\",\"stores\",\"none\",\"none\",\"none\",\"none\",\"stores\",\"none\",\"bank\",\"stores\",\"stores\",\"none\",\"none\",\"none\",\"none\",\"none\",\"none\",\"none\",\"bank\",\"none\",\"none\",\"none\",\"bank\",\"none\",\"none\",\"none\",\"none\",\"none\",\"none\",\"none\",\"none\",\"none\",\"none\",\"none\",\"none\",\"none\",\"none\",\"none\",\"none\",\"none\",\"none\",\"stores\",\"none\",\"none\",\"none\",\"none\",\"bank\",\"none\",\"none\",\"none\",\"none\",\"none\",\"none\",\"bank\",\"none\",\"bank\",\"none\",\"none\",\"none\",\"none\",\"none\",\"none\",\"bank\",\"none\",\"none\",\"bank\",\"stores\",\"none\",\"stores\",\"none\",\"bank\",\"none\",\"none\",\"none\",\"bank\",\"none\",\"none\",\"none\",\"none\",\"none\",\"none\",\"none\",\"bank\",\"none\",\"none\",\"none\",\"none\",\"none\",\"bank\",\"bank\",\"none\",\"none\",\"none\",\"none\",\"none\",\"none\",\"none\",\"none\",\"none\",\"none\",\"none\",\"none\",\"none\",\"none\",\"none\",\"none\",\"none\",\"none\",\"none\",\"bank\",\"none\",\"none\",\"none\",\"none\",\"none\",\"bank\",\"none\",\"bank\",\"none\",\"none\",\"none\",\"none\",\"none\",\"none\",\"none\",\"none\",\"none\",\"none\",\"none\",\"none\",\"none\",\"none\",\"none\",\"none\",\"stores\",\"bank\",\"bank\",\"none\",\"none\",\"none\",\"none\",\"none\",\"none\",\"none\",\"none\",\"none\",\"none\",\"none\",\"stores\",\"none\",\"stores\",\"stores\",\"none\",\"none\",\"none\",\"none\",\"none\",\"none\",\"none\",\"none\",\"bank\",\"none\",\"none\",\"none\",\"none\",\"none\",\"none\",\"none\",\"none\",\"bank\",\"stores\",\"none\",\"bank\",\"none\",\"none\",\"stores\",\"none\",\"none\",\"bank\",\"none\",\"none\",\"none\",\"none\",\"none\",\"none\",\"none\",\"none\",\"none\",\"none\",\"none\",\"none\",\"none\",\"none\",\"none\",\"none\",\"none\",\"none\",\"none\",\"none\",\"none\",\"none\",\"bank\",\"none\",\"none\",\"none\",\"none\",\"stores\",\"none\",\"none\",\"none\",\"none\",\"none\",\"none\",\"none\",\"stores\",\"none\",\"none\",\"none\",\"none\",\"none\",\"none\",\"none\",\"bank\",\"none\",\"none\",\"none\",\"none\",\"none\",\"none\",\"none\",\"none\",\"bank\",\"none\",\"none\",\"none\",\"none\",\"none\",\"none\",\"none\",\"bank\",\"none\",\"none\",\"none\",\"none\",\"none\",\"none\",\"none\"],\"xaxis\":\"x\",\"yaxis\":\"y\",\"type\":\"histogram\"},{\"alignmentgroup\":\"True\",\"bingroup\":\"x\",\"hovertemplate\":\"risk=bad<br>other_payment_plans=%{x}<br>count=%{y}<extra></extra>\",\"legendgroup\":\"bad\",\"marker\":{\"color\":\"#EF553B\",\"pattern\":{\"shape\":\"\"}},\"name\":\"bad\",\"offsetgroup\":\"bad\",\"orientation\":\"v\",\"showlegend\":true,\"x\":[\"none\",\"none\",\"none\",\"none\",\"none\",\"none\",\"none\",\"none\",\"none\",\"none\",\"stores\",\"stores\",\"bank\",\"none\",\"none\",\"none\",\"none\",\"stores\",\"none\",\"none\",\"none\",\"none\",\"none\",\"bank\",\"none\",\"none\",\"bank\",\"stores\",\"none\",\"none\",\"none\",\"none\",\"none\",\"none\",\"stores\",\"none\",\"none\",\"none\",\"none\",\"none\",\"none\",\"none\",\"none\",\"bank\",\"none\",\"stores\",\"none\",\"bank\",\"bank\",\"none\",\"none\",\"none\",\"none\",\"none\",\"none\",\"bank\",\"none\",\"none\",\"stores\",\"none\",\"bank\",\"none\",\"none\",\"none\",\"stores\",\"none\",\"bank\",\"bank\",\"none\",\"none\",\"bank\",\"none\",\"none\",\"none\",\"none\",\"none\",\"none\",\"stores\",\"none\",\"none\",\"none\",\"bank\",\"bank\",\"none\",\"none\",\"bank\",\"bank\",\"none\",\"none\",\"none\",\"none\",\"bank\",\"bank\",\"none\",\"none\",\"none\",\"none\",\"none\",\"stores\",\"none\",\"none\",\"none\",\"none\",\"bank\",\"none\",\"none\",\"none\",\"none\",\"bank\",\"none\",\"none\",\"stores\",\"none\",\"none\",\"none\",\"bank\",\"none\",\"bank\",\"none\",\"none\",\"bank\",\"none\",\"none\",\"stores\",\"none\",\"none\",\"none\",\"none\",\"none\",\"none\",\"none\",\"none\",\"none\",\"none\",\"none\",\"none\",\"none\",\"bank\",\"none\",\"none\",\"none\",\"none\",\"none\",\"none\",\"none\",\"none\",\"none\",\"none\",\"bank\",\"none\",\"none\",\"none\",\"none\",\"bank\",\"none\",\"stores\",\"none\",\"bank\",\"bank\",\"none\",\"bank\",\"none\",\"none\",\"none\",\"none\",\"none\",\"bank\",\"none\",\"bank\",\"none\",\"none\",\"none\",\"stores\",\"stores\",\"none\",\"none\",\"bank\",\"none\",\"bank\",\"none\",\"none\",\"none\",\"none\",\"none\",\"none\",\"bank\",\"bank\",\"none\",\"none\",\"bank\",\"none\",\"none\",\"bank\",\"none\",\"none\",\"none\",\"none\",\"bank\",\"none\",\"none\",\"none\",\"none\",\"bank\",\"none\",\"none\",\"bank\",\"none\",\"none\",\"none\",\"none\",\"none\",\"none\",\"none\",\"none\",\"bank\",\"none\",\"none\",\"bank\",\"none\",\"none\",\"none\",\"none\",\"none\",\"none\",\"none\",\"none\",\"none\",\"none\",\"none\",\"none\",\"none\",\"none\",\"none\",\"none\",\"bank\",\"none\",\"bank\",\"none\",\"none\",\"none\",\"none\",\"none\",\"none\",\"none\",\"bank\",\"bank\",\"bank\",\"stores\",\"none\",\"none\",\"none\",\"none\",\"bank\",\"none\",\"none\",\"none\",\"stores\",\"bank\",\"none\",\"none\",\"none\",\"none\",\"bank\",\"none\",\"none\",\"none\",\"none\",\"none\",\"bank\",\"bank\",\"none\",\"bank\",\"bank\",\"none\",\"none\",\"none\",\"bank\",\"bank\",\"stores\",\"none\",\"stores\",\"none\",\"none\",\"none\",\"none\",\"none\",\"none\",\"none\",\"none\",\"none\",\"bank\",\"none\",\"none\",\"none\",\"none\",\"none\",\"none\",\"bank\",\"none\",\"none\"],\"xaxis\":\"x\",\"yaxis\":\"y\",\"type\":\"histogram\"}],                        {\"template\":{\"data\":{\"bar\":[{\"error_x\":{\"color\":\"#2a3f5f\"},\"error_y\":{\"color\":\"#2a3f5f\"},\"marker\":{\"line\":{\"color\":\"#E5ECF6\",\"width\":0.5},\"pattern\":{\"fillmode\":\"overlay\",\"size\":10,\"solidity\":0.2}},\"type\":\"bar\"}],\"barpolar\":[{\"marker\":{\"line\":{\"color\":\"#E5ECF6\",\"width\":0.5},\"pattern\":{\"fillmode\":\"overlay\",\"size\":10,\"solidity\":0.2}},\"type\":\"barpolar\"}],\"carpet\":[{\"aaxis\":{\"endlinecolor\":\"#2a3f5f\",\"gridcolor\":\"white\",\"linecolor\":\"white\",\"minorgridcolor\":\"white\",\"startlinecolor\":\"#2a3f5f\"},\"baxis\":{\"endlinecolor\":\"#2a3f5f\",\"gridcolor\":\"white\",\"linecolor\":\"white\",\"minorgridcolor\":\"white\",\"startlinecolor\":\"#2a3f5f\"},\"type\":\"carpet\"}],\"choropleth\":[{\"colorbar\":{\"outlinewidth\":0,\"ticks\":\"\"},\"type\":\"choropleth\"}],\"contour\":[{\"colorbar\":{\"outlinewidth\":0,\"ticks\":\"\"},\"colorscale\":[[0.0,\"#0d0887\"],[0.1111111111111111,\"#46039f\"],[0.2222222222222222,\"#7201a8\"],[0.3333333333333333,\"#9c179e\"],[0.4444444444444444,\"#bd3786\"],[0.5555555555555556,\"#d8576b\"],[0.6666666666666666,\"#ed7953\"],[0.7777777777777778,\"#fb9f3a\"],[0.8888888888888888,\"#fdca26\"],[1.0,\"#f0f921\"]],\"type\":\"contour\"}],\"contourcarpet\":[{\"colorbar\":{\"outlinewidth\":0,\"ticks\":\"\"},\"type\":\"contourcarpet\"}],\"heatmap\":[{\"colorbar\":{\"outlinewidth\":0,\"ticks\":\"\"},\"colorscale\":[[0.0,\"#0d0887\"],[0.1111111111111111,\"#46039f\"],[0.2222222222222222,\"#7201a8\"],[0.3333333333333333,\"#9c179e\"],[0.4444444444444444,\"#bd3786\"],[0.5555555555555556,\"#d8576b\"],[0.6666666666666666,\"#ed7953\"],[0.7777777777777778,\"#fb9f3a\"],[0.8888888888888888,\"#fdca26\"],[1.0,\"#f0f921\"]],\"type\":\"heatmap\"}],\"heatmapgl\":[{\"colorbar\":{\"outlinewidth\":0,\"ticks\":\"\"},\"colorscale\":[[0.0,\"#0d0887\"],[0.1111111111111111,\"#46039f\"],[0.2222222222222222,\"#7201a8\"],[0.3333333333333333,\"#9c179e\"],[0.4444444444444444,\"#bd3786\"],[0.5555555555555556,\"#d8576b\"],[0.6666666666666666,\"#ed7953\"],[0.7777777777777778,\"#fb9f3a\"],[0.8888888888888888,\"#fdca26\"],[1.0,\"#f0f921\"]],\"type\":\"heatmapgl\"}],\"histogram\":[{\"marker\":{\"pattern\":{\"fillmode\":\"overlay\",\"size\":10,\"solidity\":0.2}},\"type\":\"histogram\"}],\"histogram2d\":[{\"colorbar\":{\"outlinewidth\":0,\"ticks\":\"\"},\"colorscale\":[[0.0,\"#0d0887\"],[0.1111111111111111,\"#46039f\"],[0.2222222222222222,\"#7201a8\"],[0.3333333333333333,\"#9c179e\"],[0.4444444444444444,\"#bd3786\"],[0.5555555555555556,\"#d8576b\"],[0.6666666666666666,\"#ed7953\"],[0.7777777777777778,\"#fb9f3a\"],[0.8888888888888888,\"#fdca26\"],[1.0,\"#f0f921\"]],\"type\":\"histogram2d\"}],\"histogram2dcontour\":[{\"colorbar\":{\"outlinewidth\":0,\"ticks\":\"\"},\"colorscale\":[[0.0,\"#0d0887\"],[0.1111111111111111,\"#46039f\"],[0.2222222222222222,\"#7201a8\"],[0.3333333333333333,\"#9c179e\"],[0.4444444444444444,\"#bd3786\"],[0.5555555555555556,\"#d8576b\"],[0.6666666666666666,\"#ed7953\"],[0.7777777777777778,\"#fb9f3a\"],[0.8888888888888888,\"#fdca26\"],[1.0,\"#f0f921\"]],\"type\":\"histogram2dcontour\"}],\"mesh3d\":[{\"colorbar\":{\"outlinewidth\":0,\"ticks\":\"\"},\"type\":\"mesh3d\"}],\"parcoords\":[{\"line\":{\"colorbar\":{\"outlinewidth\":0,\"ticks\":\"\"}},\"type\":\"parcoords\"}],\"pie\":[{\"automargin\":true,\"type\":\"pie\"}],\"scatter\":[{\"marker\":{\"colorbar\":{\"outlinewidth\":0,\"ticks\":\"\"}},\"type\":\"scatter\"}],\"scatter3d\":[{\"line\":{\"colorbar\":{\"outlinewidth\":0,\"ticks\":\"\"}},\"marker\":{\"colorbar\":{\"outlinewidth\":0,\"ticks\":\"\"}},\"type\":\"scatter3d\"}],\"scattercarpet\":[{\"marker\":{\"colorbar\":{\"outlinewidth\":0,\"ticks\":\"\"}},\"type\":\"scattercarpet\"}],\"scattergeo\":[{\"marker\":{\"colorbar\":{\"outlinewidth\":0,\"ticks\":\"\"}},\"type\":\"scattergeo\"}],\"scattergl\":[{\"marker\":{\"colorbar\":{\"outlinewidth\":0,\"ticks\":\"\"}},\"type\":\"scattergl\"}],\"scattermapbox\":[{\"marker\":{\"colorbar\":{\"outlinewidth\":0,\"ticks\":\"\"}},\"type\":\"scattermapbox\"}],\"scatterpolar\":[{\"marker\":{\"colorbar\":{\"outlinewidth\":0,\"ticks\":\"\"}},\"type\":\"scatterpolar\"}],\"scatterpolargl\":[{\"marker\":{\"colorbar\":{\"outlinewidth\":0,\"ticks\":\"\"}},\"type\":\"scatterpolargl\"}],\"scatterternary\":[{\"marker\":{\"colorbar\":{\"outlinewidth\":0,\"ticks\":\"\"}},\"type\":\"scatterternary\"}],\"surface\":[{\"colorbar\":{\"outlinewidth\":0,\"ticks\":\"\"},\"colorscale\":[[0.0,\"#0d0887\"],[0.1111111111111111,\"#46039f\"],[0.2222222222222222,\"#7201a8\"],[0.3333333333333333,\"#9c179e\"],[0.4444444444444444,\"#bd3786\"],[0.5555555555555556,\"#d8576b\"],[0.6666666666666666,\"#ed7953\"],[0.7777777777777778,\"#fb9f3a\"],[0.8888888888888888,\"#fdca26\"],[1.0,\"#f0f921\"]],\"type\":\"surface\"}],\"table\":[{\"cells\":{\"fill\":{\"color\":\"#EBF0F8\"},\"line\":{\"color\":\"white\"}},\"header\":{\"fill\":{\"color\":\"#C8D4E3\"},\"line\":{\"color\":\"white\"}},\"type\":\"table\"}]},\"layout\":{\"annotationdefaults\":{\"arrowcolor\":\"#2a3f5f\",\"arrowhead\":0,\"arrowwidth\":1},\"autotypenumbers\":\"strict\",\"coloraxis\":{\"colorbar\":{\"outlinewidth\":0,\"ticks\":\"\"}},\"colorscale\":{\"diverging\":[[0,\"#8e0152\"],[0.1,\"#c51b7d\"],[0.2,\"#de77ae\"],[0.3,\"#f1b6da\"],[0.4,\"#fde0ef\"],[0.5,\"#f7f7f7\"],[0.6,\"#e6f5d0\"],[0.7,\"#b8e186\"],[0.8,\"#7fbc41\"],[0.9,\"#4d9221\"],[1,\"#276419\"]],\"sequential\":[[0.0,\"#0d0887\"],[0.1111111111111111,\"#46039f\"],[0.2222222222222222,\"#7201a8\"],[0.3333333333333333,\"#9c179e\"],[0.4444444444444444,\"#bd3786\"],[0.5555555555555556,\"#d8576b\"],[0.6666666666666666,\"#ed7953\"],[0.7777777777777778,\"#fb9f3a\"],[0.8888888888888888,\"#fdca26\"],[1.0,\"#f0f921\"]],\"sequentialminus\":[[0.0,\"#0d0887\"],[0.1111111111111111,\"#46039f\"],[0.2222222222222222,\"#7201a8\"],[0.3333333333333333,\"#9c179e\"],[0.4444444444444444,\"#bd3786\"],[0.5555555555555556,\"#d8576b\"],[0.6666666666666666,\"#ed7953\"],[0.7777777777777778,\"#fb9f3a\"],[0.8888888888888888,\"#fdca26\"],[1.0,\"#f0f921\"]]},\"colorway\":[\"#636efa\",\"#EF553B\",\"#00cc96\",\"#ab63fa\",\"#FFA15A\",\"#19d3f3\",\"#FF6692\",\"#B6E880\",\"#FF97FF\",\"#FECB52\"],\"font\":{\"color\":\"#2a3f5f\"},\"geo\":{\"bgcolor\":\"white\",\"lakecolor\":\"white\",\"landcolor\":\"#E5ECF6\",\"showlakes\":true,\"showland\":true,\"subunitcolor\":\"white\"},\"hoverlabel\":{\"align\":\"left\"},\"hovermode\":\"closest\",\"mapbox\":{\"style\":\"light\"},\"paper_bgcolor\":\"white\",\"plot_bgcolor\":\"#E5ECF6\",\"polar\":{\"angularaxis\":{\"gridcolor\":\"white\",\"linecolor\":\"white\",\"ticks\":\"\"},\"bgcolor\":\"#E5ECF6\",\"radialaxis\":{\"gridcolor\":\"white\",\"linecolor\":\"white\",\"ticks\":\"\"}},\"scene\":{\"xaxis\":{\"backgroundcolor\":\"#E5ECF6\",\"gridcolor\":\"white\",\"gridwidth\":2,\"linecolor\":\"white\",\"showbackground\":true,\"ticks\":\"\",\"zerolinecolor\":\"white\"},\"yaxis\":{\"backgroundcolor\":\"#E5ECF6\",\"gridcolor\":\"white\",\"gridwidth\":2,\"linecolor\":\"white\",\"showbackground\":true,\"ticks\":\"\",\"zerolinecolor\":\"white\"},\"zaxis\":{\"backgroundcolor\":\"#E5ECF6\",\"gridcolor\":\"white\",\"gridwidth\":2,\"linecolor\":\"white\",\"showbackground\":true,\"ticks\":\"\",\"zerolinecolor\":\"white\"}},\"shapedefaults\":{\"line\":{\"color\":\"#2a3f5f\"}},\"ternary\":{\"aaxis\":{\"gridcolor\":\"white\",\"linecolor\":\"white\",\"ticks\":\"\"},\"baxis\":{\"gridcolor\":\"white\",\"linecolor\":\"white\",\"ticks\":\"\"},\"bgcolor\":\"#E5ECF6\",\"caxis\":{\"gridcolor\":\"white\",\"linecolor\":\"white\",\"ticks\":\"\"}},\"title\":{\"x\":0.05},\"xaxis\":{\"automargin\":true,\"gridcolor\":\"white\",\"linecolor\":\"white\",\"ticks\":\"\",\"title\":{\"standoff\":15},\"zerolinecolor\":\"white\",\"zerolinewidth\":2},\"yaxis\":{\"automargin\":true,\"gridcolor\":\"white\",\"linecolor\":\"white\",\"ticks\":\"\",\"title\":{\"standoff\":15},\"zerolinecolor\":\"white\",\"zerolinewidth\":2}}},\"xaxis\":{\"anchor\":\"y\",\"domain\":[0.0,1.0],\"title\":{\"text\":\"other_payment_plans\"}},\"yaxis\":{\"anchor\":\"x\",\"domain\":[0.0,1.0],\"title\":{\"text\":\"count\"}},\"legend\":{\"title\":{\"text\":\"risk\"},\"tracegroupgap\":0},\"margin\":{\"t\":60},\"barmode\":\"relative\"},                        {\"responsive\": true}                    ).then(function(){\n",
              "                            \n",
              "var gd = document.getElementById('a4b33738-6136-4267-b640-c9d1b25b91ff');\n",
              "var x = new MutationObserver(function (mutations, observer) {{\n",
              "        var display = window.getComputedStyle(gd).display;\n",
              "        if (!display || display === 'none') {{\n",
              "            console.log([gd, 'removed!']);\n",
              "            Plotly.purge(gd);\n",
              "            observer.disconnect();\n",
              "        }}\n",
              "}});\n",
              "\n",
              "// Listen for the removal of the full notebook cells\n",
              "var notebookContainer = gd.closest('#notebook-container');\n",
              "if (notebookContainer) {{\n",
              "    x.observe(notebookContainer, {childList: true});\n",
              "}}\n",
              "\n",
              "// Listen for the clearing of the current output cell\n",
              "var outputEl = gd.closest('.output');\n",
              "if (outputEl) {{\n",
              "    x.observe(outputEl, {childList: true});\n",
              "}}\n",
              "\n",
              "                        })                };                            </script>        </div>\n",
              "</body>\n",
              "</html>"
            ]
          },
          "metadata": {}
        },
        {
          "output_type": "display_data",
          "data": {
            "text/html": [
              "<html>\n",
              "<head><meta charset=\"utf-8\" /></head>\n",
              "<body>\n",
              "    <div>            <script src=\"https://cdnjs.cloudflare.com/ajax/libs/mathjax/2.7.5/MathJax.js?config=TeX-AMS-MML_SVG\"></script><script type=\"text/javascript\">if (window.MathJax) {MathJax.Hub.Config({SVG: {font: \"STIX-Web\"}});}</script>                <script type=\"text/javascript\">window.PlotlyConfig = {MathJaxConfig: 'local'};</script>\n",
              "        <script src=\"https://cdn.plot.ly/plotly-2.8.3.min.js\"></script>                <div id=\"f38dfe61-e1f4-4c89-897d-e7fa393c69d9\" class=\"plotly-graph-div\" style=\"height:525px; width:100%;\"></div>            <script type=\"text/javascript\">                                    window.PLOTLYENV=window.PLOTLYENV || {};                                    if (document.getElementById(\"f38dfe61-e1f4-4c89-897d-e7fa393c69d9\")) {                    Plotly.newPlot(                        \"f38dfe61-e1f4-4c89-897d-e7fa393c69d9\",                        [{\"alignmentgroup\":\"True\",\"bingroup\":\"x\",\"hovertemplate\":\"risk=good<br>housing=%{x}<br>count=%{y}<extra></extra>\",\"legendgroup\":\"good\",\"marker\":{\"color\":\"#636efa\",\"pattern\":{\"shape\":\"\"}},\"name\":\"good\",\"offsetgroup\":\"good\",\"orientation\":\"v\",\"showlegend\":true,\"x\":[\"own\",\"own\",\"for free\",\"for free\",\"own\",\"rent\",\"own\",\"own\",\"rent\",\"own\",\"own\",\"own\",\"own\",\"rent\",\"rent\",\"own\",\"own\",\"own\",\"own\",\"rent\",\"own\",\"own\",\"own\",\"own\",\"rent\",\"own\",\"for free\",\"own\",\"own\",\"own\",\"own\",\"own\",\"rent\",\"own\",\"own\",\"rent\",\"own\",\"own\",\"own\",\"own\",\"own\",\"own\",\"own\",\"own\",\"own\",\"own\",\"own\",\"own\",\"own\",\"own\",\"own\",\"own\",\"own\",\"rent\",\"for free\",\"own\",\"for free\",\"own\",\"own\",\"own\",\"own\",\"rent\",\"own\",\"own\",\"own\",\"own\",\"own\",\"own\",\"own\",\"rent\",\"own\",\"own\",\"own\",\"own\",\"rent\",\"rent\",\"rent\",\"own\",\"rent\",\"rent\",\"own\",\"own\",\"own\",\"own\",\"rent\",\"rent\",\"own\",\"own\",\"rent\",\"own\",\"rent\",\"rent\",\"for free\",\"own\",\"own\",\"own\",\"own\",\"own\",\"for free\",\"own\",\"own\",\"own\",\"own\",\"rent\",\"own\",\"own\",\"own\",\"own\",\"own\",\"own\",\"own\",\"own\",\"own\",\"for free\",\"own\",\"own\",\"rent\",\"rent\",\"own\",\"own\",\"own\",\"own\",\"own\",\"own\",\"own\",\"for free\",\"own\",\"own\",\"own\",\"rent\",\"own\",\"own\",\"own\",\"own\",\"rent\",\"own\",\"own\",\"own\",\"for free\",\"own\",\"rent\",\"own\",\"for free\",\"own\",\"own\",\"own\",\"own\",\"for free\",\"own\",\"own\",\"own\",\"own\",\"own\",\"own\",\"own\",\"own\",\"own\",\"own\",\"rent\",\"own\",\"own\",\"rent\",\"own\",\"own\",\"own\",\"own\",\"for free\",\"for free\",\"own\",\"own\",\"own\",\"own\",\"own\",\"own\",\"own\",\"own\",\"own\",\"own\",\"rent\",\"own\",\"own\",\"own\",\"own\",\"own\",\"own\",\"own\",\"own\",\"own\",\"own\",\"own\",\"for free\",\"for free\",\"own\",\"own\",\"own\",\"own\",\"own\",\"rent\",\"for free\",\"own\",\"own\",\"own\",\"rent\",\"rent\",\"own\",\"own\",\"own\",\"own\",\"own\",\"own\",\"for free\",\"own\",\"own\",\"for free\",\"for free\",\"own\",\"rent\",\"own\",\"own\",\"own\",\"own\",\"own\",\"own\",\"rent\",\"rent\",\"for free\",\"own\",\"own\",\"own\",\"own\",\"own\",\"own\",\"own\",\"for free\",\"own\",\"own\",\"own\",\"rent\",\"own\",\"own\",\"own\",\"for free\",\"own\",\"own\",\"own\",\"for free\",\"rent\",\"rent\",\"own\",\"own\",\"own\",\"own\",\"rent\",\"own\",\"rent\",\"own\",\"for free\",\"own\",\"own\",\"for free\",\"own\",\"own\",\"rent\",\"own\",\"own\",\"rent\",\"rent\",\"own\",\"own\",\"rent\",\"for free\",\"own\",\"for free\",\"own\",\"own\",\"rent\",\"own\",\"own\",\"own\",\"rent\",\"own\",\"own\",\"own\",\"own\",\"rent\",\"for free\",\"own\",\"own\",\"rent\",\"for free\",\"own\",\"own\",\"own\",\"own\",\"own\",\"own\",\"own\",\"own\",\"own\",\"own\",\"own\",\"rent\",\"own\",\"rent\",\"own\",\"rent\",\"own\",\"own\",\"own\",\"rent\",\"own\",\"own\",\"own\",\"own\",\"for free\",\"own\",\"own\",\"rent\",\"own\",\"own\",\"own\",\"own\",\"own\",\"rent\",\"own\",\"own\",\"own\",\"own\",\"own\",\"own\",\"own\",\"rent\",\"own\",\"own\",\"own\",\"own\",\"rent\",\"own\",\"own\",\"own\",\"own\",\"own\",\"own\",\"own\",\"own\",\"own\",\"own\",\"own\",\"own\",\"own\",\"rent\",\"own\",\"own\",\"own\",\"for free\",\"rent\",\"rent\",\"own\",\"own\",\"own\",\"rent\",\"own\",\"own\",\"own\",\"for free\",\"own\",\"own\",\"own\",\"own\",\"for free\",\"rent\",\"rent\",\"own\",\"own\",\"own\",\"own\",\"for free\",\"for free\",\"own\",\"own\",\"own\",\"own\",\"own\",\"own\",\"own\",\"rent\",\"own\",\"own\",\"own\",\"own\",\"own\",\"for free\",\"own\",\"own\",\"own\",\"for free\",\"own\",\"own\",\"own\",\"own\",\"for free\",\"own\",\"own\",\"rent\",\"own\",\"own\",\"own\",\"rent\",\"own\",\"own\",\"own\",\"own\",\"own\",\"own\",\"own\",\"rent\",\"for free\",\"rent\",\"own\",\"own\",\"rent\",\"own\",\"for free\",\"own\",\"own\",\"own\",\"own\",\"own\",\"for free\",\"own\",\"rent\",\"own\",\"for free\",\"rent\",\"own\",\"own\",\"rent\",\"own\",\"own\",\"own\",\"own\",\"own\",\"own\",\"own\",\"own\",\"own\",\"own\",\"own\",\"own\",\"own\",\"own\",\"for free\",\"own\",\"for free\",\"own\",\"own\",\"own\",\"rent\",\"own\",\"own\",\"own\",\"own\",\"own\",\"own\",\"own\",\"own\",\"own\",\"own\",\"own\",\"rent\",\"own\",\"rent\",\"own\",\"own\",\"for free\",\"own\",\"for free\",\"own\",\"for free\",\"own\",\"for free\",\"own\",\"own\",\"own\",\"own\",\"own\",\"own\",\"own\",\"rent\",\"own\",\"own\",\"own\",\"rent\",\"for free\",\"own\",\"own\",\"for free\",\"own\",\"own\",\"own\",\"own\",\"own\",\"own\",\"own\",\"for free\",\"own\",\"own\",\"own\",\"own\",\"own\",\"own\",\"own\",\"own\",\"rent\",\"own\",\"own\",\"own\",\"own\",\"own\",\"own\",\"own\",\"own\",\"own\",\"own\",\"rent\",\"own\",\"own\",\"own\",\"rent\",\"own\",\"own\",\"own\",\"own\",\"own\",\"own\",\"own\",\"rent\",\"rent\",\"own\",\"rent\",\"own\",\"own\",\"for free\",\"own\",\"own\",\"own\",\"own\",\"own\",\"own\",\"own\",\"own\",\"own\",\"own\",\"own\",\"own\",\"for free\",\"rent\",\"rent\",\"rent\",\"own\",\"own\",\"for free\",\"rent\",\"own\",\"own\",\"rent\",\"own\",\"own\",\"for free\",\"own\",\"own\",\"rent\",\"own\",\"rent\",\"own\",\"own\",\"own\",\"own\",\"own\",\"own\",\"for free\",\"own\",\"own\",\"own\",\"rent\",\"own\",\"own\",\"own\",\"own\",\"own\",\"own\",\"own\",\"own\",\"own\",\"for free\",\"own\",\"own\",\"own\",\"for free\",\"rent\",\"own\",\"own\",\"rent\",\"own\",\"own\",\"own\",\"rent\",\"own\",\"own\",\"own\",\"own\",\"own\",\"own\",\"for free\",\"own\",\"own\",\"own\",\"for free\",\"own\",\"own\",\"own\",\"own\",\"rent\",\"own\",\"own\",\"own\",\"own\",\"own\",\"own\",\"rent\",\"own\",\"rent\",\"own\",\"for free\",\"rent\",\"own\",\"rent\",\"own\",\"own\",\"own\",\"own\",\"own\",\"own\",\"own\",\"own\",\"own\",\"own\",\"rent\",\"rent\",\"own\",\"own\",\"own\",\"own\",\"own\",\"own\",\"rent\",\"own\",\"own\",\"own\",\"own\",\"own\",\"rent\",\"own\",\"own\",\"own\",\"own\",\"rent\",\"own\",\"own\",\"for free\",\"rent\",\"own\",\"own\",\"own\",\"own\",\"rent\",\"rent\",\"own\",\"own\",\"own\",\"own\",\"own\",\"own\",\"own\",\"own\",\"own\",\"rent\",\"own\",\"own\",\"for free\",\"own\",\"own\",\"own\",\"rent\",\"own\",\"own\",\"own\",\"own\",\"own\",\"own\"],\"xaxis\":\"x\",\"yaxis\":\"y\",\"type\":\"histogram\"},{\"alignmentgroup\":\"True\",\"bingroup\":\"x\",\"hovertemplate\":\"risk=bad<br>housing=%{x}<br>count=%{y}<extra></extra>\",\"legendgroup\":\"bad\",\"marker\":{\"color\":\"#EF553B\",\"pattern\":{\"shape\":\"\"}},\"name\":\"bad\",\"offsetgroup\":\"bad\",\"orientation\":\"v\",\"showlegend\":true,\"x\":[\"own\",\"for free\",\"own\",\"rent\",\"rent\",\"own\",\"own\",\"for free\",\"own\",\"own\",\"own\",\"for free\",\"for free\",\"own\",\"rent\",\"for free\",\"own\",\"for free\",\"own\",\"own\",\"own\",\"for free\",\"own\",\"own\",\"rent\",\"own\",\"own\",\"own\",\"own\",\"own\",\"own\",\"rent\",\"own\",\"own\",\"own\",\"own\",\"own\",\"rent\",\"own\",\"own\",\"rent\",\"own\",\"own\",\"own\",\"own\",\"own\",\"own\",\"own\",\"for free\",\"own\",\"own\",\"for free\",\"own\",\"rent\",\"own\",\"rent\",\"own\",\"rent\",\"own\",\"own\",\"own\",\"for free\",\"own\",\"own\",\"own\",\"own\",\"rent\",\"own\",\"for free\",\"rent\",\"own\",\"for free\",\"own\",\"own\",\"own\",\"own\",\"own\",\"own\",\"rent\",\"own\",\"own\",\"own\",\"for free\",\"own\",\"own\",\"own\",\"own\",\"own\",\"own\",\"own\",\"own\",\"rent\",\"rent\",\"rent\",\"rent\",\"for free\",\"own\",\"rent\",\"own\",\"own\",\"rent\",\"own\",\"own\",\"for free\",\"rent\",\"for free\",\"for free\",\"rent\",\"own\",\"own\",\"own\",\"own\",\"own\",\"own\",\"own\",\"own\",\"for free\",\"own\",\"own\",\"own\",\"own\",\"own\",\"own\",\"own\",\"own\",\"for free\",\"rent\",\"rent\",\"own\",\"own\",\"own\",\"rent\",\"own\",\"for free\",\"own\",\"rent\",\"own\",\"own\",\"rent\",\"own\",\"own\",\"own\",\"rent\",\"own\",\"for free\",\"rent\",\"rent\",\"rent\",\"for free\",\"rent\",\"own\",\"own\",\"for free\",\"own\",\"own\",\"own\",\"own\",\"own\",\"own\",\"own\",\"rent\",\"for free\",\"own\",\"own\",\"rent\",\"own\",\"own\",\"rent\",\"rent\",\"own\",\"own\",\"rent\",\"own\",\"own\",\"rent\",\"own\",\"own\",\"own\",\"for free\",\"own\",\"for free\",\"own\",\"for free\",\"own\",\"rent\",\"own\",\"own\",\"for free\",\"own\",\"own\",\"rent\",\"own\",\"own\",\"own\",\"own\",\"rent\",\"own\",\"for free\",\"rent\",\"own\",\"own\",\"own\",\"own\",\"own\",\"rent\",\"own\",\"own\",\"rent\",\"for free\",\"own\",\"rent\",\"for free\",\"own\",\"own\",\"rent\",\"own\",\"rent\",\"rent\",\"rent\",\"rent\",\"rent\",\"rent\",\"own\",\"own\",\"for free\",\"rent\",\"for free\",\"own\",\"rent\",\"for free\",\"own\",\"own\",\"rent\",\"own\",\"own\",\"for free\",\"own\",\"own\",\"for free\",\"own\",\"rent\",\"own\",\"own\",\"for free\",\"own\",\"own\",\"rent\",\"own\",\"for free\",\"rent\",\"rent\",\"own\",\"own\",\"own\",\"own\",\"rent\",\"own\",\"rent\",\"for free\",\"own\",\"own\",\"own\",\"rent\",\"for free\",\"own\",\"own\",\"own\",\"own\",\"rent\",\"own\",\"rent\",\"own\",\"own\",\"own\",\"rent\",\"rent\",\"own\",\"own\",\"for free\",\"own\",\"own\",\"own\",\"for free\",\"for free\",\"own\",\"own\",\"own\",\"rent\",\"own\",\"own\",\"own\",\"own\",\"rent\",\"rent\",\"own\",\"rent\",\"own\",\"rent\",\"own\",\"for free\"],\"xaxis\":\"x\",\"yaxis\":\"y\",\"type\":\"histogram\"}],                        {\"template\":{\"data\":{\"bar\":[{\"error_x\":{\"color\":\"#2a3f5f\"},\"error_y\":{\"color\":\"#2a3f5f\"},\"marker\":{\"line\":{\"color\":\"#E5ECF6\",\"width\":0.5},\"pattern\":{\"fillmode\":\"overlay\",\"size\":10,\"solidity\":0.2}},\"type\":\"bar\"}],\"barpolar\":[{\"marker\":{\"line\":{\"color\":\"#E5ECF6\",\"width\":0.5},\"pattern\":{\"fillmode\":\"overlay\",\"size\":10,\"solidity\":0.2}},\"type\":\"barpolar\"}],\"carpet\":[{\"aaxis\":{\"endlinecolor\":\"#2a3f5f\",\"gridcolor\":\"white\",\"linecolor\":\"white\",\"minorgridcolor\":\"white\",\"startlinecolor\":\"#2a3f5f\"},\"baxis\":{\"endlinecolor\":\"#2a3f5f\",\"gridcolor\":\"white\",\"linecolor\":\"white\",\"minorgridcolor\":\"white\",\"startlinecolor\":\"#2a3f5f\"},\"type\":\"carpet\"}],\"choropleth\":[{\"colorbar\":{\"outlinewidth\":0,\"ticks\":\"\"},\"type\":\"choropleth\"}],\"contour\":[{\"colorbar\":{\"outlinewidth\":0,\"ticks\":\"\"},\"colorscale\":[[0.0,\"#0d0887\"],[0.1111111111111111,\"#46039f\"],[0.2222222222222222,\"#7201a8\"],[0.3333333333333333,\"#9c179e\"],[0.4444444444444444,\"#bd3786\"],[0.5555555555555556,\"#d8576b\"],[0.6666666666666666,\"#ed7953\"],[0.7777777777777778,\"#fb9f3a\"],[0.8888888888888888,\"#fdca26\"],[1.0,\"#f0f921\"]],\"type\":\"contour\"}],\"contourcarpet\":[{\"colorbar\":{\"outlinewidth\":0,\"ticks\":\"\"},\"type\":\"contourcarpet\"}],\"heatmap\":[{\"colorbar\":{\"outlinewidth\":0,\"ticks\":\"\"},\"colorscale\":[[0.0,\"#0d0887\"],[0.1111111111111111,\"#46039f\"],[0.2222222222222222,\"#7201a8\"],[0.3333333333333333,\"#9c179e\"],[0.4444444444444444,\"#bd3786\"],[0.5555555555555556,\"#d8576b\"],[0.6666666666666666,\"#ed7953\"],[0.7777777777777778,\"#fb9f3a\"],[0.8888888888888888,\"#fdca26\"],[1.0,\"#f0f921\"]],\"type\":\"heatmap\"}],\"heatmapgl\":[{\"colorbar\":{\"outlinewidth\":0,\"ticks\":\"\"},\"colorscale\":[[0.0,\"#0d0887\"],[0.1111111111111111,\"#46039f\"],[0.2222222222222222,\"#7201a8\"],[0.3333333333333333,\"#9c179e\"],[0.4444444444444444,\"#bd3786\"],[0.5555555555555556,\"#d8576b\"],[0.6666666666666666,\"#ed7953\"],[0.7777777777777778,\"#fb9f3a\"],[0.8888888888888888,\"#fdca26\"],[1.0,\"#f0f921\"]],\"type\":\"heatmapgl\"}],\"histogram\":[{\"marker\":{\"pattern\":{\"fillmode\":\"overlay\",\"size\":10,\"solidity\":0.2}},\"type\":\"histogram\"}],\"histogram2d\":[{\"colorbar\":{\"outlinewidth\":0,\"ticks\":\"\"},\"colorscale\":[[0.0,\"#0d0887\"],[0.1111111111111111,\"#46039f\"],[0.2222222222222222,\"#7201a8\"],[0.3333333333333333,\"#9c179e\"],[0.4444444444444444,\"#bd3786\"],[0.5555555555555556,\"#d8576b\"],[0.6666666666666666,\"#ed7953\"],[0.7777777777777778,\"#fb9f3a\"],[0.8888888888888888,\"#fdca26\"],[1.0,\"#f0f921\"]],\"type\":\"histogram2d\"}],\"histogram2dcontour\":[{\"colorbar\":{\"outlinewidth\":0,\"ticks\":\"\"},\"colorscale\":[[0.0,\"#0d0887\"],[0.1111111111111111,\"#46039f\"],[0.2222222222222222,\"#7201a8\"],[0.3333333333333333,\"#9c179e\"],[0.4444444444444444,\"#bd3786\"],[0.5555555555555556,\"#d8576b\"],[0.6666666666666666,\"#ed7953\"],[0.7777777777777778,\"#fb9f3a\"],[0.8888888888888888,\"#fdca26\"],[1.0,\"#f0f921\"]],\"type\":\"histogram2dcontour\"}],\"mesh3d\":[{\"colorbar\":{\"outlinewidth\":0,\"ticks\":\"\"},\"type\":\"mesh3d\"}],\"parcoords\":[{\"line\":{\"colorbar\":{\"outlinewidth\":0,\"ticks\":\"\"}},\"type\":\"parcoords\"}],\"pie\":[{\"automargin\":true,\"type\":\"pie\"}],\"scatter\":[{\"marker\":{\"colorbar\":{\"outlinewidth\":0,\"ticks\":\"\"}},\"type\":\"scatter\"}],\"scatter3d\":[{\"line\":{\"colorbar\":{\"outlinewidth\":0,\"ticks\":\"\"}},\"marker\":{\"colorbar\":{\"outlinewidth\":0,\"ticks\":\"\"}},\"type\":\"scatter3d\"}],\"scattercarpet\":[{\"marker\":{\"colorbar\":{\"outlinewidth\":0,\"ticks\":\"\"}},\"type\":\"scattercarpet\"}],\"scattergeo\":[{\"marker\":{\"colorbar\":{\"outlinewidth\":0,\"ticks\":\"\"}},\"type\":\"scattergeo\"}],\"scattergl\":[{\"marker\":{\"colorbar\":{\"outlinewidth\":0,\"ticks\":\"\"}},\"type\":\"scattergl\"}],\"scattermapbox\":[{\"marker\":{\"colorbar\":{\"outlinewidth\":0,\"ticks\":\"\"}},\"type\":\"scattermapbox\"}],\"scatterpolar\":[{\"marker\":{\"colorbar\":{\"outlinewidth\":0,\"ticks\":\"\"}},\"type\":\"scatterpolar\"}],\"scatterpolargl\":[{\"marker\":{\"colorbar\":{\"outlinewidth\":0,\"ticks\":\"\"}},\"type\":\"scatterpolargl\"}],\"scatterternary\":[{\"marker\":{\"colorbar\":{\"outlinewidth\":0,\"ticks\":\"\"}},\"type\":\"scatterternary\"}],\"surface\":[{\"colorbar\":{\"outlinewidth\":0,\"ticks\":\"\"},\"colorscale\":[[0.0,\"#0d0887\"],[0.1111111111111111,\"#46039f\"],[0.2222222222222222,\"#7201a8\"],[0.3333333333333333,\"#9c179e\"],[0.4444444444444444,\"#bd3786\"],[0.5555555555555556,\"#d8576b\"],[0.6666666666666666,\"#ed7953\"],[0.7777777777777778,\"#fb9f3a\"],[0.8888888888888888,\"#fdca26\"],[1.0,\"#f0f921\"]],\"type\":\"surface\"}],\"table\":[{\"cells\":{\"fill\":{\"color\":\"#EBF0F8\"},\"line\":{\"color\":\"white\"}},\"header\":{\"fill\":{\"color\":\"#C8D4E3\"},\"line\":{\"color\":\"white\"}},\"type\":\"table\"}]},\"layout\":{\"annotationdefaults\":{\"arrowcolor\":\"#2a3f5f\",\"arrowhead\":0,\"arrowwidth\":1},\"autotypenumbers\":\"strict\",\"coloraxis\":{\"colorbar\":{\"outlinewidth\":0,\"ticks\":\"\"}},\"colorscale\":{\"diverging\":[[0,\"#8e0152\"],[0.1,\"#c51b7d\"],[0.2,\"#de77ae\"],[0.3,\"#f1b6da\"],[0.4,\"#fde0ef\"],[0.5,\"#f7f7f7\"],[0.6,\"#e6f5d0\"],[0.7,\"#b8e186\"],[0.8,\"#7fbc41\"],[0.9,\"#4d9221\"],[1,\"#276419\"]],\"sequential\":[[0.0,\"#0d0887\"],[0.1111111111111111,\"#46039f\"],[0.2222222222222222,\"#7201a8\"],[0.3333333333333333,\"#9c179e\"],[0.4444444444444444,\"#bd3786\"],[0.5555555555555556,\"#d8576b\"],[0.6666666666666666,\"#ed7953\"],[0.7777777777777778,\"#fb9f3a\"],[0.8888888888888888,\"#fdca26\"],[1.0,\"#f0f921\"]],\"sequentialminus\":[[0.0,\"#0d0887\"],[0.1111111111111111,\"#46039f\"],[0.2222222222222222,\"#7201a8\"],[0.3333333333333333,\"#9c179e\"],[0.4444444444444444,\"#bd3786\"],[0.5555555555555556,\"#d8576b\"],[0.6666666666666666,\"#ed7953\"],[0.7777777777777778,\"#fb9f3a\"],[0.8888888888888888,\"#fdca26\"],[1.0,\"#f0f921\"]]},\"colorway\":[\"#636efa\",\"#EF553B\",\"#00cc96\",\"#ab63fa\",\"#FFA15A\",\"#19d3f3\",\"#FF6692\",\"#B6E880\",\"#FF97FF\",\"#FECB52\"],\"font\":{\"color\":\"#2a3f5f\"},\"geo\":{\"bgcolor\":\"white\",\"lakecolor\":\"white\",\"landcolor\":\"#E5ECF6\",\"showlakes\":true,\"showland\":true,\"subunitcolor\":\"white\"},\"hoverlabel\":{\"align\":\"left\"},\"hovermode\":\"closest\",\"mapbox\":{\"style\":\"light\"},\"paper_bgcolor\":\"white\",\"plot_bgcolor\":\"#E5ECF6\",\"polar\":{\"angularaxis\":{\"gridcolor\":\"white\",\"linecolor\":\"white\",\"ticks\":\"\"},\"bgcolor\":\"#E5ECF6\",\"radialaxis\":{\"gridcolor\":\"white\",\"linecolor\":\"white\",\"ticks\":\"\"}},\"scene\":{\"xaxis\":{\"backgroundcolor\":\"#E5ECF6\",\"gridcolor\":\"white\",\"gridwidth\":2,\"linecolor\":\"white\",\"showbackground\":true,\"ticks\":\"\",\"zerolinecolor\":\"white\"},\"yaxis\":{\"backgroundcolor\":\"#E5ECF6\",\"gridcolor\":\"white\",\"gridwidth\":2,\"linecolor\":\"white\",\"showbackground\":true,\"ticks\":\"\",\"zerolinecolor\":\"white\"},\"zaxis\":{\"backgroundcolor\":\"#E5ECF6\",\"gridcolor\":\"white\",\"gridwidth\":2,\"linecolor\":\"white\",\"showbackground\":true,\"ticks\":\"\",\"zerolinecolor\":\"white\"}},\"shapedefaults\":{\"line\":{\"color\":\"#2a3f5f\"}},\"ternary\":{\"aaxis\":{\"gridcolor\":\"white\",\"linecolor\":\"white\",\"ticks\":\"\"},\"baxis\":{\"gridcolor\":\"white\",\"linecolor\":\"white\",\"ticks\":\"\"},\"bgcolor\":\"#E5ECF6\",\"caxis\":{\"gridcolor\":\"white\",\"linecolor\":\"white\",\"ticks\":\"\"}},\"title\":{\"x\":0.05},\"xaxis\":{\"automargin\":true,\"gridcolor\":\"white\",\"linecolor\":\"white\",\"ticks\":\"\",\"title\":{\"standoff\":15},\"zerolinecolor\":\"white\",\"zerolinewidth\":2},\"yaxis\":{\"automargin\":true,\"gridcolor\":\"white\",\"linecolor\":\"white\",\"ticks\":\"\",\"title\":{\"standoff\":15},\"zerolinecolor\":\"white\",\"zerolinewidth\":2}}},\"xaxis\":{\"anchor\":\"y\",\"domain\":[0.0,1.0],\"title\":{\"text\":\"housing\"}},\"yaxis\":{\"anchor\":\"x\",\"domain\":[0.0,1.0],\"title\":{\"text\":\"count\"}},\"legend\":{\"title\":{\"text\":\"risk\"},\"tracegroupgap\":0},\"margin\":{\"t\":60},\"barmode\":\"relative\"},                        {\"responsive\": true}                    ).then(function(){\n",
              "                            \n",
              "var gd = document.getElementById('f38dfe61-e1f4-4c89-897d-e7fa393c69d9');\n",
              "var x = new MutationObserver(function (mutations, observer) {{\n",
              "        var display = window.getComputedStyle(gd).display;\n",
              "        if (!display || display === 'none') {{\n",
              "            console.log([gd, 'removed!']);\n",
              "            Plotly.purge(gd);\n",
              "            observer.disconnect();\n",
              "        }}\n",
              "}});\n",
              "\n",
              "// Listen for the removal of the full notebook cells\n",
              "var notebookContainer = gd.closest('#notebook-container');\n",
              "if (notebookContainer) {{\n",
              "    x.observe(notebookContainer, {childList: true});\n",
              "}}\n",
              "\n",
              "// Listen for the clearing of the current output cell\n",
              "var outputEl = gd.closest('.output');\n",
              "if (outputEl) {{\n",
              "    x.observe(outputEl, {childList: true});\n",
              "}}\n",
              "\n",
              "                        })                };                            </script>        </div>\n",
              "</body>\n",
              "</html>"
            ]
          },
          "metadata": {}
        },
        {
          "output_type": "display_data",
          "data": {
            "text/html": [
              "<html>\n",
              "<head><meta charset=\"utf-8\" /></head>\n",
              "<body>\n",
              "    <div>            <script src=\"https://cdnjs.cloudflare.com/ajax/libs/mathjax/2.7.5/MathJax.js?config=TeX-AMS-MML_SVG\"></script><script type=\"text/javascript\">if (window.MathJax) {MathJax.Hub.Config({SVG: {font: \"STIX-Web\"}});}</script>                <script type=\"text/javascript\">window.PlotlyConfig = {MathJaxConfig: 'local'};</script>\n",
              "        <script src=\"https://cdn.plot.ly/plotly-2.8.3.min.js\"></script>                <div id=\"ad07c827-b737-4108-9ee9-5d28dcb0dbf7\" class=\"plotly-graph-div\" style=\"height:525px; width:100%;\"></div>            <script type=\"text/javascript\">                                    window.PLOTLYENV=window.PLOTLYENV || {};                                    if (document.getElementById(\"ad07c827-b737-4108-9ee9-5d28dcb0dbf7\")) {                    Plotly.newPlot(                        \"ad07c827-b737-4108-9ee9-5d28dcb0dbf7\",                        [{\"alignmentgroup\":\"True\",\"bingroup\":\"x\",\"hovertemplate\":\"risk=good<br>job=%{x}<br>count=%{y}<extra></extra>\",\"legendgroup\":\"good\",\"marker\":{\"color\":\"#636efa\",\"pattern\":{\"shape\":\"\"}},\"name\":\"good\",\"offsetgroup\":\"good\",\"orientation\":\"v\",\"showlegend\":true,\"x\":[\"skilled\",\"unskilled resident\",\"skilled\",\"unskilled resident\",\"skilled\",\"high qualif/self emp/mgmt\",\"unskilled resident\",\"skilled\",\"skilled\",\"skilled\",\"skilled\",\"skilled\",\"skilled\",\"skilled\",\"unskilled resident\",\"skilled\",\"skilled\",\"unskilled resident\",\"unskilled resident\",\"skilled\",\"skilled\",\"skilled\",\"skilled\",\"skilled\",\"unskilled resident\",\"high qualif/self emp/mgmt\",\"skilled\",\"skilled\",\"skilled\",\"high qualif/self emp/mgmt\",\"skilled\",\"unskilled resident\",\"skilled\",\"high qualif/self emp/mgmt\",\"skilled\",\"unemp/unskilled non res\",\"unskilled resident\",\"skilled\",\"unskilled resident\",\"high qualif/self emp/mgmt\",\"skilled\",\"skilled\",\"unskilled resident\",\"skilled\",\"high qualif/self emp/mgmt\",\"skilled\",\"skilled\",\"skilled\",\"skilled\",\"skilled\",\"skilled\",\"skilled\",\"skilled\",\"unskilled resident\",\"high qualif/self emp/mgmt\",\"unskilled resident\",\"high qualif/self emp/mgmt\",\"skilled\",\"unskilled resident\",\"skilled\",\"skilled\",\"unskilled resident\",\"unskilled resident\",\"unskilled resident\",\"high qualif/self emp/mgmt\",\"skilled\",\"high qualif/self emp/mgmt\",\"skilled\",\"skilled\",\"skilled\",\"skilled\",\"skilled\",\"skilled\",\"skilled\",\"high qualif/self emp/mgmt\",\"unskilled resident\",\"skilled\",\"skilled\",\"skilled\",\"skilled\",\"skilled\",\"skilled\",\"skilled\",\"skilled\",\"skilled\",\"unskilled resident\",\"skilled\",\"skilled\",\"skilled\",\"high qualif/self emp/mgmt\",\"high qualif/self emp/mgmt\",\"unskilled resident\",\"skilled\",\"skilled\",\"unskilled resident\",\"high qualif/self emp/mgmt\",\"skilled\",\"unskilled resident\",\"skilled\",\"skilled\",\"skilled\",\"skilled\",\"skilled\",\"unskilled resident\",\"unemp/unskilled non res\",\"high qualif/self emp/mgmt\",\"high qualif/self emp/mgmt\",\"skilled\",\"skilled\",\"skilled\",\"skilled\",\"skilled\",\"skilled\",\"skilled\",\"skilled\",\"skilled\",\"skilled\",\"high qualif/self emp/mgmt\",\"skilled\",\"unskilled resident\",\"skilled\",\"unskilled resident\",\"skilled\",\"skilled\",\"skilled\",\"high qualif/self emp/mgmt\",\"skilled\",\"skilled\",\"skilled\",\"skilled\",\"skilled\",\"skilled\",\"skilled\",\"skilled\",\"high qualif/self emp/mgmt\",\"skilled\",\"skilled\",\"skilled\",\"unemp/unskilled non res\",\"skilled\",\"skilled\",\"skilled\",\"skilled\",\"skilled\",\"unskilled resident\",\"skilled\",\"unskilled resident\",\"high qualif/self emp/mgmt\",\"skilled\",\"skilled\",\"unskilled resident\",\"skilled\",\"skilled\",\"unskilled resident\",\"skilled\",\"unskilled resident\",\"skilled\",\"skilled\",\"unskilled resident\",\"skilled\",\"unskilled resident\",\"skilled\",\"skilled\",\"skilled\",\"skilled\",\"skilled\",\"skilled\",\"unskilled resident\",\"skilled\",\"unskilled resident\",\"unskilled resident\",\"skilled\",\"skilled\",\"skilled\",\"skilled\",\"unskilled resident\",\"skilled\",\"skilled\",\"skilled\",\"skilled\",\"unskilled resident\",\"unskilled resident\",\"skilled\",\"skilled\",\"unskilled resident\",\"unskilled resident\",\"skilled\",\"unskilled resident\",\"skilled\",\"skilled\",\"high qualif/self emp/mgmt\",\"unskilled resident\",\"unskilled resident\",\"skilled\",\"skilled\",\"skilled\",\"skilled\",\"skilled\",\"high qualif/self emp/mgmt\",\"skilled\",\"skilled\",\"unskilled resident\",\"high qualif/self emp/mgmt\",\"skilled\",\"skilled\",\"unskilled resident\",\"skilled\",\"skilled\",\"unskilled resident\",\"skilled\",\"high qualif/self emp/mgmt\",\"skilled\",\"skilled\",\"high qualif/self emp/mgmt\",\"skilled\",\"high qualif/self emp/mgmt\",\"skilled\",\"unskilled resident\",\"skilled\",\"skilled\",\"unemp/unskilled non res\",\"skilled\",\"skilled\",\"unskilled resident\",\"unskilled resident\",\"unemp/unskilled non res\",\"skilled\",\"skilled\",\"unskilled resident\",\"unskilled resident\",\"unskilled resident\",\"skilled\",\"unskilled resident\",\"high qualif/self emp/mgmt\",\"skilled\",\"skilled\",\"unskilled resident\",\"skilled\",\"skilled\",\"skilled\",\"skilled\",\"high qualif/self emp/mgmt\",\"unskilled resident\",\"skilled\",\"unskilled resident\",\"skilled\",\"unskilled resident\",\"skilled\",\"high qualif/self emp/mgmt\",\"unskilled resident\",\"unskilled resident\",\"skilled\",\"unemp/unskilled non res\",\"unskilled resident\",\"skilled\",\"high qualif/self emp/mgmt\",\"skilled\",\"skilled\",\"skilled\",\"skilled\",\"high qualif/self emp/mgmt\",\"skilled\",\"skilled\",\"skilled\",\"skilled\",\"skilled\",\"skilled\",\"skilled\",\"skilled\",\"skilled\",\"high qualif/self emp/mgmt\",\"skilled\",\"skilled\",\"unskilled resident\",\"skilled\",\"skilled\",\"skilled\",\"unskilled resident\",\"skilled\",\"skilled\",\"high qualif/self emp/mgmt\",\"skilled\",\"skilled\",\"high qualif/self emp/mgmt\",\"unskilled resident\",\"high qualif/self emp/mgmt\",\"skilled\",\"high qualif/self emp/mgmt\",\"skilled\",\"high qualif/self emp/mgmt\",\"skilled\",\"unskilled resident\",\"skilled\",\"skilled\",\"unskilled resident\",\"skilled\",\"skilled\",\"skilled\",\"high qualif/self emp/mgmt\",\"skilled\",\"high qualif/self emp/mgmt\",\"unskilled resident\",\"skilled\",\"skilled\",\"high qualif/self emp/mgmt\",\"skilled\",\"skilled\",\"unskilled resident\",\"high qualif/self emp/mgmt\",\"skilled\",\"skilled\",\"skilled\",\"skilled\",\"unskilled resident\",\"high qualif/self emp/mgmt\",\"skilled\",\"skilled\",\"unskilled resident\",\"skilled\",\"unemp/unskilled non res\",\"high qualif/self emp/mgmt\",\"skilled\",\"skilled\",\"unskilled resident\",\"skilled\",\"high qualif/self emp/mgmt\",\"high qualif/self emp/mgmt\",\"skilled\",\"skilled\",\"high qualif/self emp/mgmt\",\"high qualif/self emp/mgmt\",\"skilled\",\"skilled\",\"skilled\",\"skilled\",\"skilled\",\"high qualif/self emp/mgmt\",\"skilled\",\"skilled\",\"skilled\",\"skilled\",\"skilled\",\"unskilled resident\",\"high qualif/self emp/mgmt\",\"skilled\",\"skilled\",\"unskilled resident\",\"skilled\",\"unskilled resident\",\"skilled\",\"skilled\",\"skilled\",\"skilled\",\"skilled\",\"skilled\",\"unskilled resident\",\"skilled\",\"skilled\",\"skilled\",\"skilled\",\"unskilled resident\",\"skilled\",\"unskilled resident\",\"skilled\",\"skilled\",\"skilled\",\"skilled\",\"skilled\",\"high qualif/self emp/mgmt\",\"high qualif/self emp/mgmt\",\"skilled\",\"skilled\",\"skilled\",\"skilled\",\"unskilled resident\",\"skilled\",\"skilled\",\"skilled\",\"skilled\",\"unskilled resident\",\"skilled\",\"skilled\",\"unskilled resident\",\"unskilled resident\",\"skilled\",\"skilled\",\"skilled\",\"skilled\",\"high qualif/self emp/mgmt\",\"skilled\",\"unskilled resident\",\"skilled\",\"unskilled resident\",\"skilled\",\"skilled\",\"skilled\",\"skilled\",\"unskilled resident\",\"skilled\",\"high qualif/self emp/mgmt\",\"skilled\",\"skilled\",\"high qualif/self emp/mgmt\",\"skilled\",\"skilled\",\"skilled\",\"skilled\",\"high qualif/self emp/mgmt\",\"unskilled resident\",\"unskilled resident\",\"skilled\",\"skilled\",\"skilled\",\"unskilled resident\",\"unskilled resident\",\"skilled\",\"high qualif/self emp/mgmt\",\"skilled\",\"unskilled resident\",\"unskilled resident\",\"skilled\",\"unskilled resident\",\"skilled\",\"skilled\",\"skilled\",\"skilled\",\"high qualif/self emp/mgmt\",\"skilled\",\"skilled\",\"skilled\",\"skilled\",\"high qualif/self emp/mgmt\",\"high qualif/self emp/mgmt\",\"skilled\",\"unskilled resident\",\"skilled\",\"skilled\",\"skilled\",\"skilled\",\"skilled\",\"unskilled resident\",\"skilled\",\"skilled\",\"skilled\",\"skilled\",\"skilled\",\"skilled\",\"unskilled resident\",\"skilled\",\"high qualif/self emp/mgmt\",\"skilled\",\"high qualif/self emp/mgmt\",\"skilled\",\"skilled\",\"skilled\",\"skilled\",\"skilled\",\"skilled\",\"skilled\",\"high qualif/self emp/mgmt\",\"unskilled resident\",\"high qualif/self emp/mgmt\",\"skilled\",\"skilled\",\"skilled\",\"unskilled resident\",\"skilled\",\"high qualif/self emp/mgmt\",\"skilled\",\"high qualif/self emp/mgmt\",\"skilled\",\"unskilled resident\",\"skilled\",\"skilled\",\"skilled\",\"skilled\",\"skilled\",\"unskilled resident\",\"skilled\",\"skilled\",\"skilled\",\"skilled\",\"skilled\",\"skilled\",\"unskilled resident\",\"skilled\",\"unskilled resident\",\"skilled\",\"skilled\",\"skilled\",\"unemp/unskilled non res\",\"skilled\",\"high qualif/self emp/mgmt\",\"skilled\",\"skilled\",\"skilled\",\"skilled\",\"skilled\",\"unskilled resident\",\"high qualif/self emp/mgmt\",\"high qualif/self emp/mgmt\",\"unskilled resident\",\"skilled\",\"skilled\",\"high qualif/self emp/mgmt\",\"skilled\",\"skilled\",\"unskilled resident\",\"unskilled resident\",\"unskilled resident\",\"skilled\",\"skilled\",\"unskilled resident\",\"skilled\",\"skilled\",\"unemp/unskilled non res\",\"unskilled resident\",\"high qualif/self emp/mgmt\",\"skilled\",\"unskilled resident\",\"skilled\",\"skilled\",\"high qualif/self emp/mgmt\",\"unskilled resident\",\"skilled\",\"skilled\",\"skilled\",\"skilled\",\"unskilled resident\",\"skilled\",\"unemp/unskilled non res\",\"skilled\",\"skilled\",\"unskilled resident\",\"skilled\",\"unskilled resident\",\"skilled\",\"skilled\",\"unskilled resident\",\"skilled\",\"high qualif/self emp/mgmt\",\"skilled\",\"unemp/unskilled non res\",\"skilled\",\"skilled\",\"high qualif/self emp/mgmt\",\"skilled\",\"skilled\",\"unskilled resident\",\"high qualif/self emp/mgmt\",\"unskilled resident\",\"skilled\",\"skilled\",\"high qualif/self emp/mgmt\",\"skilled\",\"skilled\",\"skilled\",\"skilled\",\"unskilled resident\",\"skilled\",\"unemp/unskilled non res\",\"skilled\",\"unskilled resident\",\"skilled\",\"skilled\",\"unemp/unskilled non res\",\"unskilled resident\",\"skilled\",\"high qualif/self emp/mgmt\",\"skilled\",\"unskilled resident\",\"skilled\",\"skilled\",\"skilled\",\"high qualif/self emp/mgmt\",\"skilled\",\"skilled\",\"unskilled resident\",\"high qualif/self emp/mgmt\",\"skilled\",\"skilled\",\"skilled\",\"skilled\",\"skilled\",\"unskilled resident\",\"skilled\",\"skilled\",\"unskilled resident\",\"skilled\",\"skilled\",\"skilled\",\"skilled\",\"skilled\",\"skilled\",\"skilled\",\"skilled\",\"skilled\",\"skilled\",\"skilled\",\"skilled\",\"skilled\",\"unskilled resident\",\"skilled\",\"skilled\",\"skilled\",\"skilled\",\"skilled\",\"skilled\",\"skilled\",\"skilled\",\"skilled\",\"unskilled resident\",\"skilled\",\"high qualif/self emp/mgmt\",\"skilled\",\"skilled\",\"high qualif/self emp/mgmt\",\"skilled\",\"skilled\",\"unemp/unskilled non res\",\"skilled\",\"high qualif/self emp/mgmt\",\"skilled\",\"high qualif/self emp/mgmt\",\"skilled\",\"unskilled resident\",\"skilled\",\"skilled\",\"high qualif/self emp/mgmt\",\"high qualif/self emp/mgmt\",\"skilled\",\"unskilled resident\",\"skilled\",\"skilled\",\"skilled\",\"high qualif/self emp/mgmt\",\"high qualif/self emp/mgmt\",\"unskilled resident\",\"skilled\",\"unskilled resident\",\"unskilled resident\",\"skilled\",\"skilled\",\"skilled\",\"skilled\",\"skilled\",\"high qualif/self emp/mgmt\",\"skilled\",\"skilled\",\"skilled\",\"unskilled resident\",\"unskilled resident\",\"skilled\",\"skilled\",\"skilled\",\"high qualif/self emp/mgmt\",\"high qualif/self emp/mgmt\",\"high qualif/self emp/mgmt\",\"unskilled resident\",\"skilled\",\"unskilled resident\",\"skilled\",\"skilled\",\"high qualif/self emp/mgmt\",\"unemp/unskilled non res\",\"skilled\",\"high qualif/self emp/mgmt\",\"unskilled resident\",\"unskilled resident\",\"skilled\",\"skilled\",\"skilled\",\"skilled\",\"unskilled resident\",\"skilled\",\"high qualif/self emp/mgmt\",\"skilled\",\"unskilled resident\",\"skilled\",\"unskilled resident\",\"skilled\",\"unskilled resident\",\"skilled\",\"skilled\",\"high qualif/self emp/mgmt\",\"unskilled resident\",\"skilled\",\"skilled\",\"skilled\",\"high qualif/self emp/mgmt\",\"unskilled resident\",\"unskilled resident\",\"unskilled resident\",\"unskilled resident\",\"high qualif/self emp/mgmt\",\"skilled\",\"unskilled resident\",\"high qualif/self emp/mgmt\",\"skilled\",\"skilled\"],\"xaxis\":\"x\",\"yaxis\":\"y\",\"type\":\"histogram\"},{\"alignmentgroup\":\"True\",\"bingroup\":\"x\",\"hovertemplate\":\"risk=bad<br>job=%{x}<br>count=%{y}<extra></extra>\",\"legendgroup\":\"bad\",\"marker\":{\"color\":\"#EF553B\",\"pattern\":{\"shape\":\"\"}},\"name\":\"bad\",\"offsetgroup\":\"bad\",\"orientation\":\"v\",\"showlegend\":true,\"x\":[\"skilled\",\"skilled\",\"high qualif/self emp/mgmt\",\"skilled\",\"skilled\",\"unskilled resident\",\"unskilled resident\",\"high qualif/self emp/mgmt\",\"skilled\",\"unskilled resident\",\"skilled\",\"unskilled resident\",\"skilled\",\"high qualif/self emp/mgmt\",\"unskilled resident\",\"high qualif/self emp/mgmt\",\"skilled\",\"skilled\",\"high qualif/self emp/mgmt\",\"skilled\",\"skilled\",\"skilled\",\"skilled\",\"unskilled resident\",\"skilled\",\"high qualif/self emp/mgmt\",\"high qualif/self emp/mgmt\",\"skilled\",\"high qualif/self emp/mgmt\",\"skilled\",\"skilled\",\"skilled\",\"skilled\",\"skilled\",\"skilled\",\"unskilled resident\",\"skilled\",\"skilled\",\"skilled\",\"skilled\",\"skilled\",\"high qualif/self emp/mgmt\",\"skilled\",\"high qualif/self emp/mgmt\",\"skilled\",\"high qualif/self emp/mgmt\",\"unskilled resident\",\"skilled\",\"high qualif/self emp/mgmt\",\"skilled\",\"high qualif/self emp/mgmt\",\"unskilled resident\",\"skilled\",\"skilled\",\"high qualif/self emp/mgmt\",\"skilled\",\"high qualif/self emp/mgmt\",\"skilled\",\"skilled\",\"high qualif/self emp/mgmt\",\"skilled\",\"high qualif/self emp/mgmt\",\"skilled\",\"skilled\",\"high qualif/self emp/mgmt\",\"unemp/unskilled non res\",\"unskilled resident\",\"skilled\",\"skilled\",\"skilled\",\"skilled\",\"skilled\",\"skilled\",\"high qualif/self emp/mgmt\",\"skilled\",\"unskilled resident\",\"skilled\",\"skilled\",\"high qualif/self emp/mgmt\",\"skilled\",\"skilled\",\"unskilled resident\",\"skilled\",\"unskilled resident\",\"skilled\",\"unskilled resident\",\"skilled\",\"high qualif/self emp/mgmt\",\"skilled\",\"skilled\",\"high qualif/self emp/mgmt\",\"unskilled resident\",\"skilled\",\"high qualif/self emp/mgmt\",\"skilled\",\"skilled\",\"skilled\",\"skilled\",\"unskilled resident\",\"high qualif/self emp/mgmt\",\"skilled\",\"unemp/unskilled non res\",\"skilled\",\"high qualif/self emp/mgmt\",\"skilled\",\"high qualif/self emp/mgmt\",\"high qualif/self emp/mgmt\",\"skilled\",\"skilled\",\"skilled\",\"skilled\",\"high qualif/self emp/mgmt\",\"skilled\",\"unskilled resident\",\"skilled\",\"skilled\",\"unemp/unskilled non res\",\"high qualif/self emp/mgmt\",\"skilled\",\"unemp/unskilled non res\",\"unskilled resident\",\"high qualif/self emp/mgmt\",\"skilled\",\"skilled\",\"skilled\",\"skilled\",\"unskilled resident\",\"skilled\",\"skilled\",\"unskilled resident\",\"skilled\",\"skilled\",\"high qualif/self emp/mgmt\",\"high qualif/self emp/mgmt\",\"skilled\",\"high qualif/self emp/mgmt\",\"skilled\",\"skilled\",\"skilled\",\"unskilled resident\",\"high qualif/self emp/mgmt\",\"skilled\",\"skilled\",\"skilled\",\"skilled\",\"skilled\",\"skilled\",\"skilled\",\"high qualif/self emp/mgmt\",\"skilled\",\"skilled\",\"unskilled resident\",\"skilled\",\"unskilled resident\",\"skilled\",\"skilled\",\"skilled\",\"skilled\",\"skilled\",\"unskilled resident\",\"unskilled resident\",\"skilled\",\"skilled\",\"skilled\",\"unskilled resident\",\"skilled\",\"skilled\",\"unskilled resident\",\"skilled\",\"unskilled resident\",\"skilled\",\"unskilled resident\",\"high qualif/self emp/mgmt\",\"unskilled resident\",\"skilled\",\"unskilled resident\",\"skilled\",\"skilled\",\"unskilled resident\",\"high qualif/self emp/mgmt\",\"skilled\",\"skilled\",\"unskilled resident\",\"skilled\",\"skilled\",\"skilled\",\"skilled\",\"skilled\",\"skilled\",\"skilled\",\"skilled\",\"unskilled resident\",\"skilled\",\"unemp/unskilled non res\",\"high qualif/self emp/mgmt\",\"skilled\",\"skilled\",\"skilled\",\"unskilled resident\",\"unskilled resident\",\"skilled\",\"high qualif/self emp/mgmt\",\"unskilled resident\",\"skilled\",\"skilled\",\"unskilled resident\",\"skilled\",\"unskilled resident\",\"skilled\",\"skilled\",\"skilled\",\"skilled\",\"high qualif/self emp/mgmt\",\"high qualif/self emp/mgmt\",\"skilled\",\"unskilled resident\",\"skilled\",\"skilled\",\"skilled\",\"unskilled resident\",\"high qualif/self emp/mgmt\",\"unskilled resident\",\"unskilled resident\",\"unskilled resident\",\"skilled\",\"skilled\",\"skilled\",\"skilled\",\"skilled\",\"high qualif/self emp/mgmt\",\"unskilled resident\",\"high qualif/self emp/mgmt\",\"skilled\",\"skilled\",\"unskilled resident\",\"skilled\",\"skilled\",\"skilled\",\"skilled\",\"skilled\",\"unemp/unskilled non res\",\"skilled\",\"skilled\",\"skilled\",\"skilled\",\"skilled\",\"skilled\",\"skilled\",\"skilled\",\"skilled\",\"skilled\",\"unskilled resident\",\"skilled\",\"skilled\",\"skilled\",\"skilled\",\"unskilled resident\",\"skilled\",\"unskilled resident\",\"skilled\",\"skilled\",\"skilled\",\"unskilled resident\",\"high qualif/self emp/mgmt\",\"skilled\",\"skilled\",\"skilled\",\"skilled\",\"skilled\",\"unskilled resident\",\"skilled\",\"high qualif/self emp/mgmt\",\"high qualif/self emp/mgmt\",\"skilled\",\"high qualif/self emp/mgmt\",\"skilled\",\"skilled\",\"skilled\",\"skilled\",\"skilled\",\"high qualif/self emp/mgmt\",\"unskilled resident\",\"skilled\",\"skilled\",\"unskilled resident\",\"skilled\",\"skilled\",\"skilled\",\"high qualif/self emp/mgmt\",\"unskilled resident\",\"skilled\",\"unskilled resident\",\"unemp/unskilled non res\",\"skilled\",\"unskilled resident\",\"skilled\",\"skilled\",\"high qualif/self emp/mgmt\",\"skilled\",\"skilled\"],\"xaxis\":\"x\",\"yaxis\":\"y\",\"type\":\"histogram\"}],                        {\"template\":{\"data\":{\"bar\":[{\"error_x\":{\"color\":\"#2a3f5f\"},\"error_y\":{\"color\":\"#2a3f5f\"},\"marker\":{\"line\":{\"color\":\"#E5ECF6\",\"width\":0.5},\"pattern\":{\"fillmode\":\"overlay\",\"size\":10,\"solidity\":0.2}},\"type\":\"bar\"}],\"barpolar\":[{\"marker\":{\"line\":{\"color\":\"#E5ECF6\",\"width\":0.5},\"pattern\":{\"fillmode\":\"overlay\",\"size\":10,\"solidity\":0.2}},\"type\":\"barpolar\"}],\"carpet\":[{\"aaxis\":{\"endlinecolor\":\"#2a3f5f\",\"gridcolor\":\"white\",\"linecolor\":\"white\",\"minorgridcolor\":\"white\",\"startlinecolor\":\"#2a3f5f\"},\"baxis\":{\"endlinecolor\":\"#2a3f5f\",\"gridcolor\":\"white\",\"linecolor\":\"white\",\"minorgridcolor\":\"white\",\"startlinecolor\":\"#2a3f5f\"},\"type\":\"carpet\"}],\"choropleth\":[{\"colorbar\":{\"outlinewidth\":0,\"ticks\":\"\"},\"type\":\"choropleth\"}],\"contour\":[{\"colorbar\":{\"outlinewidth\":0,\"ticks\":\"\"},\"colorscale\":[[0.0,\"#0d0887\"],[0.1111111111111111,\"#46039f\"],[0.2222222222222222,\"#7201a8\"],[0.3333333333333333,\"#9c179e\"],[0.4444444444444444,\"#bd3786\"],[0.5555555555555556,\"#d8576b\"],[0.6666666666666666,\"#ed7953\"],[0.7777777777777778,\"#fb9f3a\"],[0.8888888888888888,\"#fdca26\"],[1.0,\"#f0f921\"]],\"type\":\"contour\"}],\"contourcarpet\":[{\"colorbar\":{\"outlinewidth\":0,\"ticks\":\"\"},\"type\":\"contourcarpet\"}],\"heatmap\":[{\"colorbar\":{\"outlinewidth\":0,\"ticks\":\"\"},\"colorscale\":[[0.0,\"#0d0887\"],[0.1111111111111111,\"#46039f\"],[0.2222222222222222,\"#7201a8\"],[0.3333333333333333,\"#9c179e\"],[0.4444444444444444,\"#bd3786\"],[0.5555555555555556,\"#d8576b\"],[0.6666666666666666,\"#ed7953\"],[0.7777777777777778,\"#fb9f3a\"],[0.8888888888888888,\"#fdca26\"],[1.0,\"#f0f921\"]],\"type\":\"heatmap\"}],\"heatmapgl\":[{\"colorbar\":{\"outlinewidth\":0,\"ticks\":\"\"},\"colorscale\":[[0.0,\"#0d0887\"],[0.1111111111111111,\"#46039f\"],[0.2222222222222222,\"#7201a8\"],[0.3333333333333333,\"#9c179e\"],[0.4444444444444444,\"#bd3786\"],[0.5555555555555556,\"#d8576b\"],[0.6666666666666666,\"#ed7953\"],[0.7777777777777778,\"#fb9f3a\"],[0.8888888888888888,\"#fdca26\"],[1.0,\"#f0f921\"]],\"type\":\"heatmapgl\"}],\"histogram\":[{\"marker\":{\"pattern\":{\"fillmode\":\"overlay\",\"size\":10,\"solidity\":0.2}},\"type\":\"histogram\"}],\"histogram2d\":[{\"colorbar\":{\"outlinewidth\":0,\"ticks\":\"\"},\"colorscale\":[[0.0,\"#0d0887\"],[0.1111111111111111,\"#46039f\"],[0.2222222222222222,\"#7201a8\"],[0.3333333333333333,\"#9c179e\"],[0.4444444444444444,\"#bd3786\"],[0.5555555555555556,\"#d8576b\"],[0.6666666666666666,\"#ed7953\"],[0.7777777777777778,\"#fb9f3a\"],[0.8888888888888888,\"#fdca26\"],[1.0,\"#f0f921\"]],\"type\":\"histogram2d\"}],\"histogram2dcontour\":[{\"colorbar\":{\"outlinewidth\":0,\"ticks\":\"\"},\"colorscale\":[[0.0,\"#0d0887\"],[0.1111111111111111,\"#46039f\"],[0.2222222222222222,\"#7201a8\"],[0.3333333333333333,\"#9c179e\"],[0.4444444444444444,\"#bd3786\"],[0.5555555555555556,\"#d8576b\"],[0.6666666666666666,\"#ed7953\"],[0.7777777777777778,\"#fb9f3a\"],[0.8888888888888888,\"#fdca26\"],[1.0,\"#f0f921\"]],\"type\":\"histogram2dcontour\"}],\"mesh3d\":[{\"colorbar\":{\"outlinewidth\":0,\"ticks\":\"\"},\"type\":\"mesh3d\"}],\"parcoords\":[{\"line\":{\"colorbar\":{\"outlinewidth\":0,\"ticks\":\"\"}},\"type\":\"parcoords\"}],\"pie\":[{\"automargin\":true,\"type\":\"pie\"}],\"scatter\":[{\"marker\":{\"colorbar\":{\"outlinewidth\":0,\"ticks\":\"\"}},\"type\":\"scatter\"}],\"scatter3d\":[{\"line\":{\"colorbar\":{\"outlinewidth\":0,\"ticks\":\"\"}},\"marker\":{\"colorbar\":{\"outlinewidth\":0,\"ticks\":\"\"}},\"type\":\"scatter3d\"}],\"scattercarpet\":[{\"marker\":{\"colorbar\":{\"outlinewidth\":0,\"ticks\":\"\"}},\"type\":\"scattercarpet\"}],\"scattergeo\":[{\"marker\":{\"colorbar\":{\"outlinewidth\":0,\"ticks\":\"\"}},\"type\":\"scattergeo\"}],\"scattergl\":[{\"marker\":{\"colorbar\":{\"outlinewidth\":0,\"ticks\":\"\"}},\"type\":\"scattergl\"}],\"scattermapbox\":[{\"marker\":{\"colorbar\":{\"outlinewidth\":0,\"ticks\":\"\"}},\"type\":\"scattermapbox\"}],\"scatterpolar\":[{\"marker\":{\"colorbar\":{\"outlinewidth\":0,\"ticks\":\"\"}},\"type\":\"scatterpolar\"}],\"scatterpolargl\":[{\"marker\":{\"colorbar\":{\"outlinewidth\":0,\"ticks\":\"\"}},\"type\":\"scatterpolargl\"}],\"scatterternary\":[{\"marker\":{\"colorbar\":{\"outlinewidth\":0,\"ticks\":\"\"}},\"type\":\"scatterternary\"}],\"surface\":[{\"colorbar\":{\"outlinewidth\":0,\"ticks\":\"\"},\"colorscale\":[[0.0,\"#0d0887\"],[0.1111111111111111,\"#46039f\"],[0.2222222222222222,\"#7201a8\"],[0.3333333333333333,\"#9c179e\"],[0.4444444444444444,\"#bd3786\"],[0.5555555555555556,\"#d8576b\"],[0.6666666666666666,\"#ed7953\"],[0.7777777777777778,\"#fb9f3a\"],[0.8888888888888888,\"#fdca26\"],[1.0,\"#f0f921\"]],\"type\":\"surface\"}],\"table\":[{\"cells\":{\"fill\":{\"color\":\"#EBF0F8\"},\"line\":{\"color\":\"white\"}},\"header\":{\"fill\":{\"color\":\"#C8D4E3\"},\"line\":{\"color\":\"white\"}},\"type\":\"table\"}]},\"layout\":{\"annotationdefaults\":{\"arrowcolor\":\"#2a3f5f\",\"arrowhead\":0,\"arrowwidth\":1},\"autotypenumbers\":\"strict\",\"coloraxis\":{\"colorbar\":{\"outlinewidth\":0,\"ticks\":\"\"}},\"colorscale\":{\"diverging\":[[0,\"#8e0152\"],[0.1,\"#c51b7d\"],[0.2,\"#de77ae\"],[0.3,\"#f1b6da\"],[0.4,\"#fde0ef\"],[0.5,\"#f7f7f7\"],[0.6,\"#e6f5d0\"],[0.7,\"#b8e186\"],[0.8,\"#7fbc41\"],[0.9,\"#4d9221\"],[1,\"#276419\"]],\"sequential\":[[0.0,\"#0d0887\"],[0.1111111111111111,\"#46039f\"],[0.2222222222222222,\"#7201a8\"],[0.3333333333333333,\"#9c179e\"],[0.4444444444444444,\"#bd3786\"],[0.5555555555555556,\"#d8576b\"],[0.6666666666666666,\"#ed7953\"],[0.7777777777777778,\"#fb9f3a\"],[0.8888888888888888,\"#fdca26\"],[1.0,\"#f0f921\"]],\"sequentialminus\":[[0.0,\"#0d0887\"],[0.1111111111111111,\"#46039f\"],[0.2222222222222222,\"#7201a8\"],[0.3333333333333333,\"#9c179e\"],[0.4444444444444444,\"#bd3786\"],[0.5555555555555556,\"#d8576b\"],[0.6666666666666666,\"#ed7953\"],[0.7777777777777778,\"#fb9f3a\"],[0.8888888888888888,\"#fdca26\"],[1.0,\"#f0f921\"]]},\"colorway\":[\"#636efa\",\"#EF553B\",\"#00cc96\",\"#ab63fa\",\"#FFA15A\",\"#19d3f3\",\"#FF6692\",\"#B6E880\",\"#FF97FF\",\"#FECB52\"],\"font\":{\"color\":\"#2a3f5f\"},\"geo\":{\"bgcolor\":\"white\",\"lakecolor\":\"white\",\"landcolor\":\"#E5ECF6\",\"showlakes\":true,\"showland\":true,\"subunitcolor\":\"white\"},\"hoverlabel\":{\"align\":\"left\"},\"hovermode\":\"closest\",\"mapbox\":{\"style\":\"light\"},\"paper_bgcolor\":\"white\",\"plot_bgcolor\":\"#E5ECF6\",\"polar\":{\"angularaxis\":{\"gridcolor\":\"white\",\"linecolor\":\"white\",\"ticks\":\"\"},\"bgcolor\":\"#E5ECF6\",\"radialaxis\":{\"gridcolor\":\"white\",\"linecolor\":\"white\",\"ticks\":\"\"}},\"scene\":{\"xaxis\":{\"backgroundcolor\":\"#E5ECF6\",\"gridcolor\":\"white\",\"gridwidth\":2,\"linecolor\":\"white\",\"showbackground\":true,\"ticks\":\"\",\"zerolinecolor\":\"white\"},\"yaxis\":{\"backgroundcolor\":\"#E5ECF6\",\"gridcolor\":\"white\",\"gridwidth\":2,\"linecolor\":\"white\",\"showbackground\":true,\"ticks\":\"\",\"zerolinecolor\":\"white\"},\"zaxis\":{\"backgroundcolor\":\"#E5ECF6\",\"gridcolor\":\"white\",\"gridwidth\":2,\"linecolor\":\"white\",\"showbackground\":true,\"ticks\":\"\",\"zerolinecolor\":\"white\"}},\"shapedefaults\":{\"line\":{\"color\":\"#2a3f5f\"}},\"ternary\":{\"aaxis\":{\"gridcolor\":\"white\",\"linecolor\":\"white\",\"ticks\":\"\"},\"baxis\":{\"gridcolor\":\"white\",\"linecolor\":\"white\",\"ticks\":\"\"},\"bgcolor\":\"#E5ECF6\",\"caxis\":{\"gridcolor\":\"white\",\"linecolor\":\"white\",\"ticks\":\"\"}},\"title\":{\"x\":0.05},\"xaxis\":{\"automargin\":true,\"gridcolor\":\"white\",\"linecolor\":\"white\",\"ticks\":\"\",\"title\":{\"standoff\":15},\"zerolinecolor\":\"white\",\"zerolinewidth\":2},\"yaxis\":{\"automargin\":true,\"gridcolor\":\"white\",\"linecolor\":\"white\",\"ticks\":\"\",\"title\":{\"standoff\":15},\"zerolinecolor\":\"white\",\"zerolinewidth\":2}}},\"xaxis\":{\"anchor\":\"y\",\"domain\":[0.0,1.0],\"title\":{\"text\":\"job\"}},\"yaxis\":{\"anchor\":\"x\",\"domain\":[0.0,1.0],\"title\":{\"text\":\"count\"}},\"legend\":{\"title\":{\"text\":\"risk\"},\"tracegroupgap\":0},\"margin\":{\"t\":60},\"barmode\":\"relative\"},                        {\"responsive\": true}                    ).then(function(){\n",
              "                            \n",
              "var gd = document.getElementById('ad07c827-b737-4108-9ee9-5d28dcb0dbf7');\n",
              "var x = new MutationObserver(function (mutations, observer) {{\n",
              "        var display = window.getComputedStyle(gd).display;\n",
              "        if (!display || display === 'none') {{\n",
              "            console.log([gd, 'removed!']);\n",
              "            Plotly.purge(gd);\n",
              "            observer.disconnect();\n",
              "        }}\n",
              "}});\n",
              "\n",
              "// Listen for the removal of the full notebook cells\n",
              "var notebookContainer = gd.closest('#notebook-container');\n",
              "if (notebookContainer) {{\n",
              "    x.observe(notebookContainer, {childList: true});\n",
              "}}\n",
              "\n",
              "// Listen for the clearing of the current output cell\n",
              "var outputEl = gd.closest('.output');\n",
              "if (outputEl) {{\n",
              "    x.observe(outputEl, {childList: true});\n",
              "}}\n",
              "\n",
              "                        })                };                            </script>        </div>\n",
              "</body>\n",
              "</html>"
            ]
          },
          "metadata": {}
        },
        {
          "output_type": "display_data",
          "data": {
            "text/html": [
              "<html>\n",
              "<head><meta charset=\"utf-8\" /></head>\n",
              "<body>\n",
              "    <div>            <script src=\"https://cdnjs.cloudflare.com/ajax/libs/mathjax/2.7.5/MathJax.js?config=TeX-AMS-MML_SVG\"></script><script type=\"text/javascript\">if (window.MathJax) {MathJax.Hub.Config({SVG: {font: \"STIX-Web\"}});}</script>                <script type=\"text/javascript\">window.PlotlyConfig = {MathJaxConfig: 'local'};</script>\n",
              "        <script src=\"https://cdn.plot.ly/plotly-2.8.3.min.js\"></script>                <div id=\"a59a9929-9bfe-4329-8f03-aedb53e8ffbf\" class=\"plotly-graph-div\" style=\"height:525px; width:100%;\"></div>            <script type=\"text/javascript\">                                    window.PLOTLYENV=window.PLOTLYENV || {};                                    if (document.getElementById(\"a59a9929-9bfe-4329-8f03-aedb53e8ffbf\")) {                    Plotly.newPlot(                        \"a59a9929-9bfe-4329-8f03-aedb53e8ffbf\",                        [{\"alignmentgroup\":\"True\",\"bingroup\":\"x\",\"hovertemplate\":\"risk=good<br>own_telephone=%{x}<br>count=%{y}<extra></extra>\",\"legendgroup\":\"good\",\"marker\":{\"color\":\"#636efa\",\"pattern\":{\"shape\":\"\"}},\"name\":\"good\",\"offsetgroup\":\"good\",\"orientation\":\"v\",\"showlegend\":true,\"x\":[\"yes\",\"none\",\"none\",\"yes\",\"none\",\"yes\",\"none\",\"yes\",\"none\",\"none\",\"none\",\"yes\",\"yes\",\"none\",\"none\",\"none\",\"none\",\"yes\",\"none\",\"none\",\"none\",\"yes\",\"none\",\"yes\",\"none\",\"yes\",\"yes\",\"yes\",\"none\",\"none\",\"yes\",\"yes\",\"none\",\"none\",\"none\",\"yes\",\"none\",\"none\",\"none\",\"yes\",\"none\",\"yes\",\"none\",\"none\",\"none\",\"yes\",\"yes\",\"yes\",\"yes\",\"none\",\"none\",\"none\",\"none\",\"yes\",\"yes\",\"none\",\"none\",\"none\",\"none\",\"none\",\"yes\",\"none\",\"yes\",\"none\",\"yes\",\"none\",\"yes\",\"none\",\"none\",\"none\",\"yes\",\"none\",\"none\",\"none\",\"yes\",\"none\",\"none\",\"none\",\"yes\",\"yes\",\"none\",\"yes\",\"yes\",\"none\",\"yes\",\"none\",\"none\",\"yes\",\"none\",\"yes\",\"yes\",\"none\",\"yes\",\"none\",\"none\",\"yes\",\"none\",\"none\",\"none\",\"yes\",\"yes\",\"none\",\"yes\",\"yes\",\"none\",\"yes\",\"none\",\"yes\",\"none\",\"yes\",\"yes\",\"none\",\"none\",\"yes\",\"yes\",\"none\",\"none\",\"yes\",\"none\",\"none\",\"yes\",\"none\",\"yes\",\"none\",\"yes\",\"yes\",\"none\",\"yes\",\"none\",\"yes\",\"yes\",\"none\",\"none\",\"none\",\"yes\",\"none\",\"yes\",\"none\",\"yes\",\"yes\",\"none\",\"yes\",\"yes\",\"yes\",\"none\",\"none\",\"none\",\"yes\",\"yes\",\"none\",\"none\",\"none\",\"none\",\"yes\",\"yes\",\"none\",\"yes\",\"yes\",\"none\",\"yes\",\"none\",\"yes\",\"none\",\"yes\",\"yes\",\"none\",\"none\",\"none\",\"none\",\"none\",\"none\",\"none\",\"none\",\"none\",\"none\",\"none\",\"yes\",\"none\",\"none\",\"none\",\"yes\",\"none\",\"none\",\"yes\",\"none\",\"none\",\"yes\",\"none\",\"none\",\"none\",\"yes\",\"none\",\"none\",\"none\",\"yes\",\"none\",\"none\",\"yes\",\"yes\",\"none\",\"none\",\"yes\",\"yes\",\"yes\",\"none\",\"none\",\"none\",\"yes\",\"yes\",\"none\",\"yes\",\"yes\",\"yes\",\"yes\",\"none\",\"none\",\"none\",\"none\",\"yes\",\"yes\",\"yes\",\"yes\",\"none\",\"none\",\"none\",\"yes\",\"none\",\"none\",\"none\",\"none\",\"yes\",\"none\",\"none\",\"yes\",\"none\",\"none\",\"none\",\"yes\",\"yes\",\"none\",\"none\",\"yes\",\"none\",\"none\",\"none\",\"yes\",\"none\",\"none\",\"yes\",\"none\",\"none\",\"none\",\"none\",\"none\",\"yes\",\"yes\",\"yes\",\"yes\",\"none\",\"none\",\"none\",\"yes\",\"none\",\"yes\",\"none\",\"none\",\"none\",\"none\",\"yes\",\"none\",\"yes\",\"none\",\"none\",\"none\",\"yes\",\"none\",\"none\",\"none\",\"none\",\"yes\",\"yes\",\"none\",\"none\",\"yes\",\"none\",\"yes\",\"none\",\"none\",\"yes\",\"none\",\"yes\",\"none\",\"yes\",\"none\",\"none\",\"none\",\"yes\",\"none\",\"yes\",\"yes\",\"yes\",\"none\",\"yes\",\"yes\",\"none\",\"none\",\"none\",\"none\",\"none\",\"yes\",\"none\",\"none\",\"none\",\"none\",\"yes\",\"yes\",\"none\",\"none\",\"yes\",\"none\",\"yes\",\"none\",\"yes\",\"none\",\"none\",\"yes\",\"yes\",\"none\",\"none\",\"yes\",\"yes\",\"none\",\"none\",\"yes\",\"none\",\"none\",\"none\",\"none\",\"yes\",\"yes\",\"none\",\"yes\",\"yes\",\"yes\",\"none\",\"none\",\"none\",\"yes\",\"none\",\"none\",\"yes\",\"none\",\"yes\",\"yes\",\"yes\",\"none\",\"none\",\"none\",\"none\",\"none\",\"none\",\"none\",\"none\",\"yes\",\"none\",\"none\",\"yes\",\"none\",\"yes\",\"yes\",\"yes\",\"none\",\"none\",\"none\",\"none\",\"yes\",\"none\",\"none\",\"none\",\"none\",\"none\",\"none\",\"none\",\"yes\",\"none\",\"none\",\"yes\",\"none\",\"yes\",\"yes\",\"none\",\"yes\",\"none\",\"yes\",\"none\",\"yes\",\"none\",\"none\",\"none\",\"yes\",\"yes\",\"none\",\"yes\",\"yes\",\"none\",\"yes\",\"none\",\"yes\",\"none\",\"none\",\"none\",\"none\",\"yes\",\"none\",\"none\",\"none\",\"yes\",\"none\",\"none\",\"yes\",\"yes\",\"none\",\"none\",\"none\",\"none\",\"yes\",\"yes\",\"none\",\"none\",\"none\",\"none\",\"yes\",\"none\",\"none\",\"none\",\"none\",\"none\",\"none\",\"yes\",\"yes\",\"none\",\"none\",\"none\",\"yes\",\"none\",\"yes\",\"none\",\"none\",\"yes\",\"yes\",\"none\",\"yes\",\"yes\",\"none\",\"yes\",\"none\",\"yes\",\"none\",\"none\",\"yes\",\"none\",\"yes\",\"yes\",\"none\",\"none\",\"yes\",\"yes\",\"yes\",\"none\",\"yes\",\"yes\",\"none\",\"none\",\"none\",\"yes\",\"none\",\"yes\",\"yes\",\"yes\",\"yes\",\"none\",\"yes\",\"none\",\"none\",\"none\",\"none\",\"none\",\"yes\",\"none\",\"none\",\"none\",\"none\",\"yes\",\"yes\",\"none\",\"yes\",\"none\",\"none\",\"none\",\"yes\",\"yes\",\"none\",\"none\",\"yes\",\"yes\",\"yes\",\"yes\",\"none\",\"none\",\"none\",\"yes\",\"none\",\"none\",\"yes\",\"none\",\"none\",\"yes\",\"yes\",\"none\",\"none\",\"yes\",\"yes\",\"yes\",\"none\",\"none\",\"none\",\"none\",\"yes\",\"none\",\"none\",\"none\",\"yes\",\"yes\",\"none\",\"yes\",\"none\",\"none\",\"yes\",\"yes\",\"none\",\"yes\",\"none\",\"none\",\"yes\",\"none\",\"yes\",\"yes\",\"yes\",\"yes\",\"yes\",\"yes\",\"none\",\"yes\",\"yes\",\"none\",\"none\",\"yes\",\"none\",\"none\",\"yes\",\"none\",\"none\",\"yes\",\"none\",\"none\",\"none\",\"none\",\"none\",\"yes\",\"yes\",\"none\",\"none\",\"none\",\"yes\",\"none\",\"yes\",\"none\",\"none\",\"yes\",\"yes\",\"yes\",\"yes\",\"yes\",\"none\",\"none\",\"yes\",\"none\",\"none\",\"yes\",\"yes\",\"yes\",\"none\",\"none\",\"yes\",\"yes\",\"yes\",\"yes\",\"yes\",\"yes\",\"none\",\"none\",\"yes\",\"none\",\"none\",\"none\",\"none\",\"none\",\"yes\",\"none\",\"yes\",\"none\",\"none\",\"none\",\"yes\",\"none\",\"none\",\"yes\",\"yes\",\"none\",\"none\",\"yes\",\"yes\",\"yes\",\"yes\",\"yes\",\"none\",\"yes\",\"yes\",\"yes\",\"yes\",\"none\",\"none\",\"yes\",\"none\",\"yes\",\"yes\",\"yes\",\"none\",\"none\",\"none\",\"none\",\"none\",\"none\",\"yes\",\"none\",\"none\",\"yes\",\"yes\",\"none\",\"yes\",\"none\",\"none\",\"none\",\"yes\",\"none\",\"yes\",\"yes\",\"yes\",\"none\",\"yes\",\"none\",\"none\",\"none\",\"yes\",\"yes\",\"yes\",\"yes\",\"none\",\"none\",\"none\",\"none\",\"none\",\"none\",\"none\",\"none\",\"yes\",\"yes\",\"none\",\"none\",\"none\",\"yes\",\"none\",\"none\",\"none\",\"yes\",\"none\",\"none\",\"none\",\"none\",\"yes\",\"none\",\"none\",\"none\",\"none\",\"yes\",\"yes\",\"none\",\"yes\",\"none\",\"none\"],\"xaxis\":\"x\",\"yaxis\":\"y\",\"type\":\"histogram\"},{\"alignmentgroup\":\"True\",\"bingroup\":\"x\",\"hovertemplate\":\"risk=bad<br>own_telephone=%{x}<br>count=%{y}<extra></extra>\",\"legendgroup\":\"bad\",\"marker\":{\"color\":\"#EF553B\",\"pattern\":{\"shape\":\"\"}},\"name\":\"bad\",\"offsetgroup\":\"bad\",\"orientation\":\"v\",\"showlegend\":true,\"x\":[\"none\",\"none\",\"none\",\"none\",\"none\",\"none\",\"none\",\"yes\",\"yes\",\"none\",\"none\",\"none\",\"yes\",\"yes\",\"yes\",\"yes\",\"yes\",\"yes\",\"yes\",\"none\",\"yes\",\"yes\",\"none\",\"none\",\"yes\",\"yes\",\"yes\",\"yes\",\"yes\",\"none\",\"yes\",\"none\",\"none\",\"none\",\"yes\",\"none\",\"none\",\"none\",\"none\",\"yes\",\"none\",\"yes\",\"none\",\"yes\",\"none\",\"yes\",\"none\",\"yes\",\"yes\",\"none\",\"yes\",\"none\",\"yes\",\"none\",\"yes\",\"none\",\"yes\",\"none\",\"yes\",\"yes\",\"yes\",\"yes\",\"none\",\"none\",\"none\",\"yes\",\"none\",\"none\",\"none\",\"none\",\"none\",\"none\",\"none\",\"yes\",\"none\",\"yes\",\"none\",\"none\",\"yes\",\"yes\",\"yes\",\"none\",\"none\",\"yes\",\"none\",\"none\",\"none\",\"none\",\"none\",\"none\",\"none\",\"none\",\"none\",\"yes\",\"none\",\"none\",\"none\",\"yes\",\"none\",\"yes\",\"none\",\"none\",\"none\",\"yes\",\"none\",\"yes\",\"yes\",\"none\",\"yes\",\"yes\",\"yes\",\"yes\",\"none\",\"none\",\"none\",\"yes\",\"none\",\"yes\",\"yes\",\"none\",\"none\",\"yes\",\"yes\",\"none\",\"yes\",\"yes\",\"yes\",\"yes\",\"none\",\"none\",\"none\",\"none\",\"yes\",\"yes\",\"none\",\"yes\",\"none\",\"none\",\"none\",\"none\",\"yes\",\"none\",\"yes\",\"none\",\"none\",\"none\",\"yes\",\"none\",\"none\",\"none\",\"none\",\"none\",\"none\",\"none\",\"yes\",\"none\",\"none\",\"yes\",\"none\",\"none\",\"none\",\"yes\",\"none\",\"yes\",\"yes\",\"none\",\"none\",\"none\",\"none\",\"yes\",\"none\",\"yes\",\"yes\",\"none\",\"none\",\"yes\",\"none\",\"none\",\"none\",\"yes\",\"none\",\"none\",\"none\",\"none\",\"none\",\"none\",\"none\",\"none\",\"none\",\"none\",\"none\",\"yes\",\"yes\",\"none\",\"yes\",\"yes\",\"none\",\"none\",\"none\",\"none\",\"none\",\"yes\",\"none\",\"none\",\"yes\",\"none\",\"none\",\"none\",\"yes\",\"none\",\"none\",\"none\",\"yes\",\"yes\",\"none\",\"none\",\"none\",\"none\",\"none\",\"none\",\"none\",\"none\",\"none\",\"none\",\"none\",\"none\",\"yes\",\"none\",\"none\",\"yes\",\"none\",\"yes\",\"none\",\"none\",\"none\",\"none\",\"yes\",\"none\",\"yes\",\"yes\",\"none\",\"yes\",\"none\",\"none\",\"none\",\"none\",\"yes\",\"none\",\"none\",\"yes\",\"none\",\"none\",\"none\",\"none\",\"none\",\"none\",\"none\",\"none\",\"none\",\"yes\",\"yes\",\"yes\",\"none\",\"yes\",\"yes\",\"none\",\"yes\",\"none\",\"yes\",\"none\",\"yes\",\"yes\",\"yes\",\"none\",\"yes\",\"none\",\"yes\",\"yes\",\"yes\",\"yes\",\"none\",\"none\",\"none\",\"yes\",\"none\",\"none\",\"yes\",\"none\",\"yes\",\"none\",\"yes\",\"none\",\"none\",\"none\",\"none\",\"none\",\"none\",\"yes\",\"none\",\"yes\"],\"xaxis\":\"x\",\"yaxis\":\"y\",\"type\":\"histogram\"}],                        {\"template\":{\"data\":{\"bar\":[{\"error_x\":{\"color\":\"#2a3f5f\"},\"error_y\":{\"color\":\"#2a3f5f\"},\"marker\":{\"line\":{\"color\":\"#E5ECF6\",\"width\":0.5},\"pattern\":{\"fillmode\":\"overlay\",\"size\":10,\"solidity\":0.2}},\"type\":\"bar\"}],\"barpolar\":[{\"marker\":{\"line\":{\"color\":\"#E5ECF6\",\"width\":0.5},\"pattern\":{\"fillmode\":\"overlay\",\"size\":10,\"solidity\":0.2}},\"type\":\"barpolar\"}],\"carpet\":[{\"aaxis\":{\"endlinecolor\":\"#2a3f5f\",\"gridcolor\":\"white\",\"linecolor\":\"white\",\"minorgridcolor\":\"white\",\"startlinecolor\":\"#2a3f5f\"},\"baxis\":{\"endlinecolor\":\"#2a3f5f\",\"gridcolor\":\"white\",\"linecolor\":\"white\",\"minorgridcolor\":\"white\",\"startlinecolor\":\"#2a3f5f\"},\"type\":\"carpet\"}],\"choropleth\":[{\"colorbar\":{\"outlinewidth\":0,\"ticks\":\"\"},\"type\":\"choropleth\"}],\"contour\":[{\"colorbar\":{\"outlinewidth\":0,\"ticks\":\"\"},\"colorscale\":[[0.0,\"#0d0887\"],[0.1111111111111111,\"#46039f\"],[0.2222222222222222,\"#7201a8\"],[0.3333333333333333,\"#9c179e\"],[0.4444444444444444,\"#bd3786\"],[0.5555555555555556,\"#d8576b\"],[0.6666666666666666,\"#ed7953\"],[0.7777777777777778,\"#fb9f3a\"],[0.8888888888888888,\"#fdca26\"],[1.0,\"#f0f921\"]],\"type\":\"contour\"}],\"contourcarpet\":[{\"colorbar\":{\"outlinewidth\":0,\"ticks\":\"\"},\"type\":\"contourcarpet\"}],\"heatmap\":[{\"colorbar\":{\"outlinewidth\":0,\"ticks\":\"\"},\"colorscale\":[[0.0,\"#0d0887\"],[0.1111111111111111,\"#46039f\"],[0.2222222222222222,\"#7201a8\"],[0.3333333333333333,\"#9c179e\"],[0.4444444444444444,\"#bd3786\"],[0.5555555555555556,\"#d8576b\"],[0.6666666666666666,\"#ed7953\"],[0.7777777777777778,\"#fb9f3a\"],[0.8888888888888888,\"#fdca26\"],[1.0,\"#f0f921\"]],\"type\":\"heatmap\"}],\"heatmapgl\":[{\"colorbar\":{\"outlinewidth\":0,\"ticks\":\"\"},\"colorscale\":[[0.0,\"#0d0887\"],[0.1111111111111111,\"#46039f\"],[0.2222222222222222,\"#7201a8\"],[0.3333333333333333,\"#9c179e\"],[0.4444444444444444,\"#bd3786\"],[0.5555555555555556,\"#d8576b\"],[0.6666666666666666,\"#ed7953\"],[0.7777777777777778,\"#fb9f3a\"],[0.8888888888888888,\"#fdca26\"],[1.0,\"#f0f921\"]],\"type\":\"heatmapgl\"}],\"histogram\":[{\"marker\":{\"pattern\":{\"fillmode\":\"overlay\",\"size\":10,\"solidity\":0.2}},\"type\":\"histogram\"}],\"histogram2d\":[{\"colorbar\":{\"outlinewidth\":0,\"ticks\":\"\"},\"colorscale\":[[0.0,\"#0d0887\"],[0.1111111111111111,\"#46039f\"],[0.2222222222222222,\"#7201a8\"],[0.3333333333333333,\"#9c179e\"],[0.4444444444444444,\"#bd3786\"],[0.5555555555555556,\"#d8576b\"],[0.6666666666666666,\"#ed7953\"],[0.7777777777777778,\"#fb9f3a\"],[0.8888888888888888,\"#fdca26\"],[1.0,\"#f0f921\"]],\"type\":\"histogram2d\"}],\"histogram2dcontour\":[{\"colorbar\":{\"outlinewidth\":0,\"ticks\":\"\"},\"colorscale\":[[0.0,\"#0d0887\"],[0.1111111111111111,\"#46039f\"],[0.2222222222222222,\"#7201a8\"],[0.3333333333333333,\"#9c179e\"],[0.4444444444444444,\"#bd3786\"],[0.5555555555555556,\"#d8576b\"],[0.6666666666666666,\"#ed7953\"],[0.7777777777777778,\"#fb9f3a\"],[0.8888888888888888,\"#fdca26\"],[1.0,\"#f0f921\"]],\"type\":\"histogram2dcontour\"}],\"mesh3d\":[{\"colorbar\":{\"outlinewidth\":0,\"ticks\":\"\"},\"type\":\"mesh3d\"}],\"parcoords\":[{\"line\":{\"colorbar\":{\"outlinewidth\":0,\"ticks\":\"\"}},\"type\":\"parcoords\"}],\"pie\":[{\"automargin\":true,\"type\":\"pie\"}],\"scatter\":[{\"marker\":{\"colorbar\":{\"outlinewidth\":0,\"ticks\":\"\"}},\"type\":\"scatter\"}],\"scatter3d\":[{\"line\":{\"colorbar\":{\"outlinewidth\":0,\"ticks\":\"\"}},\"marker\":{\"colorbar\":{\"outlinewidth\":0,\"ticks\":\"\"}},\"type\":\"scatter3d\"}],\"scattercarpet\":[{\"marker\":{\"colorbar\":{\"outlinewidth\":0,\"ticks\":\"\"}},\"type\":\"scattercarpet\"}],\"scattergeo\":[{\"marker\":{\"colorbar\":{\"outlinewidth\":0,\"ticks\":\"\"}},\"type\":\"scattergeo\"}],\"scattergl\":[{\"marker\":{\"colorbar\":{\"outlinewidth\":0,\"ticks\":\"\"}},\"type\":\"scattergl\"}],\"scattermapbox\":[{\"marker\":{\"colorbar\":{\"outlinewidth\":0,\"ticks\":\"\"}},\"type\":\"scattermapbox\"}],\"scatterpolar\":[{\"marker\":{\"colorbar\":{\"outlinewidth\":0,\"ticks\":\"\"}},\"type\":\"scatterpolar\"}],\"scatterpolargl\":[{\"marker\":{\"colorbar\":{\"outlinewidth\":0,\"ticks\":\"\"}},\"type\":\"scatterpolargl\"}],\"scatterternary\":[{\"marker\":{\"colorbar\":{\"outlinewidth\":0,\"ticks\":\"\"}},\"type\":\"scatterternary\"}],\"surface\":[{\"colorbar\":{\"outlinewidth\":0,\"ticks\":\"\"},\"colorscale\":[[0.0,\"#0d0887\"],[0.1111111111111111,\"#46039f\"],[0.2222222222222222,\"#7201a8\"],[0.3333333333333333,\"#9c179e\"],[0.4444444444444444,\"#bd3786\"],[0.5555555555555556,\"#d8576b\"],[0.6666666666666666,\"#ed7953\"],[0.7777777777777778,\"#fb9f3a\"],[0.8888888888888888,\"#fdca26\"],[1.0,\"#f0f921\"]],\"type\":\"surface\"}],\"table\":[{\"cells\":{\"fill\":{\"color\":\"#EBF0F8\"},\"line\":{\"color\":\"white\"}},\"header\":{\"fill\":{\"color\":\"#C8D4E3\"},\"line\":{\"color\":\"white\"}},\"type\":\"table\"}]},\"layout\":{\"annotationdefaults\":{\"arrowcolor\":\"#2a3f5f\",\"arrowhead\":0,\"arrowwidth\":1},\"autotypenumbers\":\"strict\",\"coloraxis\":{\"colorbar\":{\"outlinewidth\":0,\"ticks\":\"\"}},\"colorscale\":{\"diverging\":[[0,\"#8e0152\"],[0.1,\"#c51b7d\"],[0.2,\"#de77ae\"],[0.3,\"#f1b6da\"],[0.4,\"#fde0ef\"],[0.5,\"#f7f7f7\"],[0.6,\"#e6f5d0\"],[0.7,\"#b8e186\"],[0.8,\"#7fbc41\"],[0.9,\"#4d9221\"],[1,\"#276419\"]],\"sequential\":[[0.0,\"#0d0887\"],[0.1111111111111111,\"#46039f\"],[0.2222222222222222,\"#7201a8\"],[0.3333333333333333,\"#9c179e\"],[0.4444444444444444,\"#bd3786\"],[0.5555555555555556,\"#d8576b\"],[0.6666666666666666,\"#ed7953\"],[0.7777777777777778,\"#fb9f3a\"],[0.8888888888888888,\"#fdca26\"],[1.0,\"#f0f921\"]],\"sequentialminus\":[[0.0,\"#0d0887\"],[0.1111111111111111,\"#46039f\"],[0.2222222222222222,\"#7201a8\"],[0.3333333333333333,\"#9c179e\"],[0.4444444444444444,\"#bd3786\"],[0.5555555555555556,\"#d8576b\"],[0.6666666666666666,\"#ed7953\"],[0.7777777777777778,\"#fb9f3a\"],[0.8888888888888888,\"#fdca26\"],[1.0,\"#f0f921\"]]},\"colorway\":[\"#636efa\",\"#EF553B\",\"#00cc96\",\"#ab63fa\",\"#FFA15A\",\"#19d3f3\",\"#FF6692\",\"#B6E880\",\"#FF97FF\",\"#FECB52\"],\"font\":{\"color\":\"#2a3f5f\"},\"geo\":{\"bgcolor\":\"white\",\"lakecolor\":\"white\",\"landcolor\":\"#E5ECF6\",\"showlakes\":true,\"showland\":true,\"subunitcolor\":\"white\"},\"hoverlabel\":{\"align\":\"left\"},\"hovermode\":\"closest\",\"mapbox\":{\"style\":\"light\"},\"paper_bgcolor\":\"white\",\"plot_bgcolor\":\"#E5ECF6\",\"polar\":{\"angularaxis\":{\"gridcolor\":\"white\",\"linecolor\":\"white\",\"ticks\":\"\"},\"bgcolor\":\"#E5ECF6\",\"radialaxis\":{\"gridcolor\":\"white\",\"linecolor\":\"white\",\"ticks\":\"\"}},\"scene\":{\"xaxis\":{\"backgroundcolor\":\"#E5ECF6\",\"gridcolor\":\"white\",\"gridwidth\":2,\"linecolor\":\"white\",\"showbackground\":true,\"ticks\":\"\",\"zerolinecolor\":\"white\"},\"yaxis\":{\"backgroundcolor\":\"#E5ECF6\",\"gridcolor\":\"white\",\"gridwidth\":2,\"linecolor\":\"white\",\"showbackground\":true,\"ticks\":\"\",\"zerolinecolor\":\"white\"},\"zaxis\":{\"backgroundcolor\":\"#E5ECF6\",\"gridcolor\":\"white\",\"gridwidth\":2,\"linecolor\":\"white\",\"showbackground\":true,\"ticks\":\"\",\"zerolinecolor\":\"white\"}},\"shapedefaults\":{\"line\":{\"color\":\"#2a3f5f\"}},\"ternary\":{\"aaxis\":{\"gridcolor\":\"white\",\"linecolor\":\"white\",\"ticks\":\"\"},\"baxis\":{\"gridcolor\":\"white\",\"linecolor\":\"white\",\"ticks\":\"\"},\"bgcolor\":\"#E5ECF6\",\"caxis\":{\"gridcolor\":\"white\",\"linecolor\":\"white\",\"ticks\":\"\"}},\"title\":{\"x\":0.05},\"xaxis\":{\"automargin\":true,\"gridcolor\":\"white\",\"linecolor\":\"white\",\"ticks\":\"\",\"title\":{\"standoff\":15},\"zerolinecolor\":\"white\",\"zerolinewidth\":2},\"yaxis\":{\"automargin\":true,\"gridcolor\":\"white\",\"linecolor\":\"white\",\"ticks\":\"\",\"title\":{\"standoff\":15},\"zerolinecolor\":\"white\",\"zerolinewidth\":2}}},\"xaxis\":{\"anchor\":\"y\",\"domain\":[0.0,1.0],\"title\":{\"text\":\"own_telephone\"}},\"yaxis\":{\"anchor\":\"x\",\"domain\":[0.0,1.0],\"title\":{\"text\":\"count\"}},\"legend\":{\"title\":{\"text\":\"risk\"},\"tracegroupgap\":0},\"margin\":{\"t\":60},\"barmode\":\"relative\"},                        {\"responsive\": true}                    ).then(function(){\n",
              "                            \n",
              "var gd = document.getElementById('a59a9929-9bfe-4329-8f03-aedb53e8ffbf');\n",
              "var x = new MutationObserver(function (mutations, observer) {{\n",
              "        var display = window.getComputedStyle(gd).display;\n",
              "        if (!display || display === 'none') {{\n",
              "            console.log([gd, 'removed!']);\n",
              "            Plotly.purge(gd);\n",
              "            observer.disconnect();\n",
              "        }}\n",
              "}});\n",
              "\n",
              "// Listen for the removal of the full notebook cells\n",
              "var notebookContainer = gd.closest('#notebook-container');\n",
              "if (notebookContainer) {{\n",
              "    x.observe(notebookContainer, {childList: true});\n",
              "}}\n",
              "\n",
              "// Listen for the clearing of the current output cell\n",
              "var outputEl = gd.closest('.output');\n",
              "if (outputEl) {{\n",
              "    x.observe(outputEl, {childList: true});\n",
              "}}\n",
              "\n",
              "                        })                };                            </script>        </div>\n",
              "</body>\n",
              "</html>"
            ]
          },
          "metadata": {}
        },
        {
          "output_type": "display_data",
          "data": {
            "text/html": [
              "<html>\n",
              "<head><meta charset=\"utf-8\" /></head>\n",
              "<body>\n",
              "    <div>            <script src=\"https://cdnjs.cloudflare.com/ajax/libs/mathjax/2.7.5/MathJax.js?config=TeX-AMS-MML_SVG\"></script><script type=\"text/javascript\">if (window.MathJax) {MathJax.Hub.Config({SVG: {font: \"STIX-Web\"}});}</script>                <script type=\"text/javascript\">window.PlotlyConfig = {MathJaxConfig: 'local'};</script>\n",
              "        <script src=\"https://cdn.plot.ly/plotly-2.8.3.min.js\"></script>                <div id=\"9e990405-b4ec-45c4-9fdb-f7c4a19d178e\" class=\"plotly-graph-div\" style=\"height:525px; width:100%;\"></div>            <script type=\"text/javascript\">                                    window.PLOTLYENV=window.PLOTLYENV || {};                                    if (document.getElementById(\"9e990405-b4ec-45c4-9fdb-f7c4a19d178e\")) {                    Plotly.newPlot(                        \"9e990405-b4ec-45c4-9fdb-f7c4a19d178e\",                        [{\"alignmentgroup\":\"True\",\"bingroup\":\"x\",\"hovertemplate\":\"risk=good<br>foreign_worker=%{x}<br>count=%{y}<extra></extra>\",\"legendgroup\":\"good\",\"marker\":{\"color\":\"#636efa\",\"pattern\":{\"shape\":\"\"}},\"name\":\"good\",\"offsetgroup\":\"good\",\"orientation\":\"v\",\"showlegend\":true,\"x\":[\"yes\",\"yes\",\"yes\",\"yes\",\"yes\",\"yes\",\"yes\",\"yes\",\"yes\",\"yes\",\"yes\",\"yes\",\"yes\",\"yes\",\"no\",\"yes\",\"no\",\"yes\",\"yes\",\"yes\",\"yes\",\"yes\",\"yes\",\"yes\",\"yes\",\"yes\",\"yes\",\"yes\",\"yes\",\"yes\",\"yes\",\"yes\",\"yes\",\"yes\",\"yes\",\"yes\",\"yes\",\"yes\",\"yes\",\"yes\",\"yes\",\"yes\",\"yes\",\"yes\",\"yes\",\"yes\",\"yes\",\"yes\",\"yes\",\"yes\",\"yes\",\"yes\",\"yes\",\"yes\",\"yes\",\"yes\",\"yes\",\"yes\",\"yes\",\"yes\",\"yes\",\"yes\",\"yes\",\"yes\",\"yes\",\"yes\",\"yes\",\"yes\",\"yes\",\"yes\",\"yes\",\"yes\",\"yes\",\"yes\",\"yes\",\"yes\",\"yes\",\"yes\",\"yes\",\"yes\",\"yes\",\"no\",\"yes\",\"yes\",\"yes\",\"yes\",\"yes\",\"yes\",\"no\",\"yes\",\"yes\",\"yes\",\"yes\",\"yes\",\"yes\",\"yes\",\"yes\",\"yes\",\"yes\",\"yes\",\"yes\",\"yes\",\"yes\",\"yes\",\"no\",\"yes\",\"yes\",\"yes\",\"yes\",\"yes\",\"yes\",\"yes\",\"yes\",\"yes\",\"no\",\"yes\",\"yes\",\"yes\",\"no\",\"yes\",\"yes\",\"yes\",\"yes\",\"yes\",\"yes\",\"yes\",\"yes\",\"yes\",\"yes\",\"yes\",\"yes\",\"no\",\"yes\",\"yes\",\"yes\",\"yes\",\"yes\",\"yes\",\"yes\",\"yes\",\"yes\",\"yes\",\"yes\",\"yes\",\"yes\",\"yes\",\"yes\",\"yes\",\"yes\",\"yes\",\"yes\",\"no\",\"yes\",\"yes\",\"yes\",\"yes\",\"yes\",\"yes\",\"yes\",\"yes\",\"yes\",\"yes\",\"yes\",\"yes\",\"yes\",\"yes\",\"yes\",\"yes\",\"yes\",\"yes\",\"yes\",\"yes\",\"yes\",\"yes\",\"yes\",\"yes\",\"yes\",\"yes\",\"no\",\"yes\",\"yes\",\"yes\",\"yes\",\"yes\",\"yes\",\"yes\",\"yes\",\"yes\",\"yes\",\"yes\",\"yes\",\"yes\",\"no\",\"yes\",\"yes\",\"yes\",\"no\",\"yes\",\"yes\",\"yes\",\"yes\",\"yes\",\"yes\",\"yes\",\"yes\",\"yes\",\"yes\",\"yes\",\"yes\",\"yes\",\"yes\",\"yes\",\"no\",\"yes\",\"yes\",\"yes\",\"yes\",\"no\",\"yes\",\"yes\",\"yes\",\"yes\",\"yes\",\"yes\",\"yes\",\"yes\",\"yes\",\"yes\",\"no\",\"yes\",\"yes\",\"yes\",\"yes\",\"yes\",\"yes\",\"yes\",\"no\",\"yes\",\"yes\",\"yes\",\"yes\",\"yes\",\"yes\",\"yes\",\"yes\",\"yes\",\"yes\",\"yes\",\"yes\",\"yes\",\"yes\",\"yes\",\"yes\",\"yes\",\"yes\",\"yes\",\"yes\",\"yes\",\"yes\",\"yes\",\"yes\",\"yes\",\"yes\",\"yes\",\"yes\",\"yes\",\"yes\",\"yes\",\"yes\",\"yes\",\"yes\",\"yes\",\"yes\",\"yes\",\"yes\",\"yes\",\"yes\",\"yes\",\"yes\",\"yes\",\"yes\",\"yes\",\"yes\",\"yes\",\"yes\",\"yes\",\"yes\",\"yes\",\"yes\",\"yes\",\"yes\",\"yes\",\"yes\",\"yes\",\"yes\",\"yes\",\"yes\",\"no\",\"yes\",\"yes\",\"yes\",\"no\",\"yes\",\"yes\",\"yes\",\"yes\",\"yes\",\"yes\",\"yes\",\"yes\",\"yes\",\"yes\",\"yes\",\"yes\",\"yes\",\"yes\",\"yes\",\"yes\",\"yes\",\"yes\",\"yes\",\"yes\",\"yes\",\"yes\",\"yes\",\"yes\",\"yes\",\"yes\",\"yes\",\"yes\",\"yes\",\"yes\",\"yes\",\"yes\",\"yes\",\"yes\",\"yes\",\"yes\",\"yes\",\"yes\",\"yes\",\"yes\",\"yes\",\"yes\",\"yes\",\"yes\",\"yes\",\"yes\",\"yes\",\"yes\",\"yes\",\"yes\",\"yes\",\"yes\",\"yes\",\"no\",\"yes\",\"yes\",\"yes\",\"yes\",\"no\",\"yes\",\"yes\",\"yes\",\"yes\",\"yes\",\"yes\",\"yes\",\"yes\",\"yes\",\"yes\",\"yes\",\"yes\",\"no\",\"no\",\"yes\",\"yes\",\"yes\",\"yes\",\"yes\",\"yes\",\"yes\",\"yes\",\"yes\",\"yes\",\"yes\",\"yes\",\"yes\",\"yes\",\"yes\",\"yes\",\"yes\",\"yes\",\"yes\",\"yes\",\"yes\",\"yes\",\"yes\",\"yes\",\"yes\",\"yes\",\"yes\",\"yes\",\"yes\",\"yes\",\"yes\",\"yes\",\"yes\",\"yes\",\"yes\",\"yes\",\"yes\",\"yes\",\"yes\",\"yes\",\"yes\",\"yes\",\"yes\",\"yes\",\"yes\",\"yes\",\"yes\",\"yes\",\"yes\",\"yes\",\"yes\",\"yes\",\"yes\",\"yes\",\"yes\",\"no\",\"yes\",\"yes\",\"yes\",\"yes\",\"yes\",\"yes\",\"yes\",\"yes\",\"yes\",\"yes\",\"yes\",\"yes\",\"yes\",\"yes\",\"yes\",\"yes\",\"yes\",\"yes\",\"yes\",\"yes\",\"yes\",\"yes\",\"yes\",\"yes\",\"yes\",\"yes\",\"yes\",\"yes\",\"yes\",\"yes\",\"yes\",\"yes\",\"yes\",\"yes\",\"yes\",\"yes\",\"yes\",\"yes\",\"yes\",\"yes\",\"yes\",\"yes\",\"yes\",\"yes\",\"yes\",\"yes\",\"yes\",\"yes\",\"yes\",\"yes\",\"yes\",\"yes\",\"yes\",\"yes\",\"yes\",\"yes\",\"yes\",\"yes\",\"no\",\"yes\",\"yes\",\"yes\",\"yes\",\"yes\",\"yes\",\"yes\",\"yes\",\"yes\",\"yes\",\"yes\",\"yes\",\"yes\",\"yes\",\"yes\",\"yes\",\"yes\",\"yes\",\"yes\",\"yes\",\"yes\",\"yes\",\"yes\",\"yes\",\"yes\",\"yes\",\"yes\",\"yes\",\"yes\",\"yes\",\"yes\",\"yes\",\"yes\",\"yes\",\"yes\",\"yes\",\"yes\",\"yes\",\"yes\",\"yes\",\"no\",\"yes\",\"yes\",\"yes\",\"yes\",\"yes\",\"yes\",\"yes\",\"yes\",\"yes\",\"yes\",\"yes\",\"yes\",\"yes\",\"yes\",\"yes\",\"yes\",\"yes\",\"yes\",\"yes\",\"yes\",\"yes\",\"yes\",\"yes\",\"yes\",\"yes\",\"yes\",\"yes\",\"yes\",\"yes\",\"yes\",\"yes\",\"yes\",\"yes\",\"yes\",\"yes\",\"no\",\"yes\",\"yes\",\"yes\",\"yes\",\"yes\",\"yes\",\"yes\",\"yes\",\"yes\",\"yes\",\"yes\",\"yes\",\"yes\",\"yes\",\"yes\",\"yes\",\"yes\",\"yes\",\"yes\",\"yes\",\"yes\",\"yes\",\"yes\",\"yes\",\"yes\",\"yes\",\"yes\",\"yes\",\"yes\",\"yes\",\"yes\",\"yes\",\"no\",\"yes\",\"yes\",\"yes\",\"yes\",\"yes\",\"yes\",\"yes\",\"yes\",\"no\",\"yes\",\"yes\",\"yes\",\"yes\",\"yes\",\"yes\",\"yes\",\"yes\",\"yes\",\"yes\",\"yes\",\"yes\",\"yes\",\"yes\",\"yes\",\"yes\",\"no\",\"yes\",\"yes\",\"yes\",\"yes\",\"no\",\"yes\",\"yes\",\"yes\",\"yes\",\"yes\",\"yes\",\"no\",\"yes\",\"yes\",\"yes\",\"yes\",\"yes\",\"yes\",\"yes\",\"yes\",\"yes\",\"yes\",\"yes\",\"yes\",\"yes\",\"no\",\"yes\",\"yes\",\"yes\",\"yes\",\"yes\",\"yes\",\"no\",\"yes\",\"yes\",\"yes\",\"yes\",\"yes\",\"yes\",\"yes\",\"yes\",\"yes\",\"yes\",\"yes\",\"yes\",\"yes\",\"yes\",\"yes\",\"yes\",\"yes\",\"yes\",\"yes\",\"yes\",\"yes\",\"yes\",\"yes\",\"yes\",\"yes\",\"yes\",\"yes\",\"yes\",\"yes\",\"yes\",\"yes\",\"yes\",\"yes\",\"yes\",\"yes\",\"yes\",\"yes\",\"yes\",\"yes\",\"yes\",\"yes\"],\"xaxis\":\"x\",\"yaxis\":\"y\",\"type\":\"histogram\"},{\"alignmentgroup\":\"True\",\"bingroup\":\"x\",\"hovertemplate\":\"risk=bad<br>foreign_worker=%{x}<br>count=%{y}<extra></extra>\",\"legendgroup\":\"bad\",\"marker\":{\"color\":\"#EF553B\",\"pattern\":{\"shape\":\"\"}},\"name\":\"bad\",\"offsetgroup\":\"bad\",\"orientation\":\"v\",\"showlegend\":true,\"x\":[\"yes\",\"yes\",\"yes\",\"yes\",\"yes\",\"yes\",\"yes\",\"yes\",\"yes\",\"yes\",\"yes\",\"yes\",\"yes\",\"yes\",\"yes\",\"yes\",\"yes\",\"yes\",\"yes\",\"yes\",\"yes\",\"yes\",\"yes\",\"yes\",\"yes\",\"yes\",\"yes\",\"yes\",\"yes\",\"yes\",\"yes\",\"yes\",\"yes\",\"yes\",\"yes\",\"yes\",\"yes\",\"yes\",\"yes\",\"yes\",\"yes\",\"yes\",\"yes\",\"yes\",\"yes\",\"yes\",\"yes\",\"yes\",\"yes\",\"yes\",\"yes\",\"yes\",\"yes\",\"yes\",\"yes\",\"yes\",\"yes\",\"yes\",\"yes\",\"yes\",\"yes\",\"yes\",\"yes\",\"yes\",\"yes\",\"yes\",\"yes\",\"yes\",\"yes\",\"yes\",\"yes\",\"yes\",\"yes\",\"no\",\"yes\",\"yes\",\"yes\",\"yes\",\"yes\",\"yes\",\"yes\",\"yes\",\"yes\",\"yes\",\"yes\",\"yes\",\"yes\",\"yes\",\"yes\",\"yes\",\"yes\",\"yes\",\"yes\",\"yes\",\"yes\",\"yes\",\"no\",\"yes\",\"yes\",\"yes\",\"yes\",\"yes\",\"yes\",\"yes\",\"yes\",\"yes\",\"yes\",\"yes\",\"yes\",\"yes\",\"yes\",\"yes\",\"yes\",\"yes\",\"yes\",\"yes\",\"yes\",\"yes\",\"yes\",\"yes\",\"yes\",\"yes\",\"yes\",\"yes\",\"yes\",\"yes\",\"yes\",\"yes\",\"yes\",\"yes\",\"yes\",\"yes\",\"yes\",\"yes\",\"yes\",\"yes\",\"yes\",\"yes\",\"yes\",\"yes\",\"yes\",\"yes\",\"yes\",\"yes\",\"yes\",\"yes\",\"yes\",\"yes\",\"yes\",\"yes\",\"yes\",\"yes\",\"yes\",\"yes\",\"yes\",\"yes\",\"yes\",\"yes\",\"yes\",\"yes\",\"yes\",\"yes\",\"yes\",\"yes\",\"yes\",\"yes\",\"yes\",\"yes\",\"yes\",\"yes\",\"yes\",\"yes\",\"yes\",\"yes\",\"yes\",\"yes\",\"yes\",\"yes\",\"yes\",\"yes\",\"yes\",\"yes\",\"yes\",\"yes\",\"yes\",\"yes\",\"yes\",\"yes\",\"yes\",\"yes\",\"yes\",\"yes\",\"yes\",\"yes\",\"yes\",\"yes\",\"yes\",\"yes\",\"yes\",\"yes\",\"yes\",\"yes\",\"yes\",\"yes\",\"yes\",\"yes\",\"yes\",\"yes\",\"yes\",\"yes\",\"yes\",\"yes\",\"yes\",\"yes\",\"yes\",\"yes\",\"yes\",\"yes\",\"yes\",\"yes\",\"yes\",\"yes\",\"yes\",\"yes\",\"yes\",\"yes\",\"yes\",\"yes\",\"yes\",\"yes\",\"yes\",\"yes\",\"yes\",\"yes\",\"yes\",\"yes\",\"yes\",\"yes\",\"yes\",\"yes\",\"yes\",\"yes\",\"yes\",\"yes\",\"yes\",\"yes\",\"yes\",\"yes\",\"yes\",\"yes\",\"yes\",\"yes\",\"yes\",\"yes\",\"yes\",\"yes\",\"yes\",\"no\",\"yes\",\"yes\",\"yes\",\"yes\",\"yes\",\"yes\",\"yes\",\"yes\",\"yes\",\"yes\",\"yes\",\"yes\",\"yes\",\"no\",\"yes\",\"yes\",\"yes\",\"yes\",\"yes\",\"yes\",\"yes\",\"yes\",\"yes\",\"yes\",\"yes\",\"yes\",\"yes\",\"yes\",\"yes\",\"yes\",\"yes\",\"yes\",\"yes\",\"yes\",\"yes\",\"yes\",\"yes\",\"yes\",\"yes\",\"yes\",\"yes\",\"yes\"],\"xaxis\":\"x\",\"yaxis\":\"y\",\"type\":\"histogram\"}],                        {\"template\":{\"data\":{\"bar\":[{\"error_x\":{\"color\":\"#2a3f5f\"},\"error_y\":{\"color\":\"#2a3f5f\"},\"marker\":{\"line\":{\"color\":\"#E5ECF6\",\"width\":0.5},\"pattern\":{\"fillmode\":\"overlay\",\"size\":10,\"solidity\":0.2}},\"type\":\"bar\"}],\"barpolar\":[{\"marker\":{\"line\":{\"color\":\"#E5ECF6\",\"width\":0.5},\"pattern\":{\"fillmode\":\"overlay\",\"size\":10,\"solidity\":0.2}},\"type\":\"barpolar\"}],\"carpet\":[{\"aaxis\":{\"endlinecolor\":\"#2a3f5f\",\"gridcolor\":\"white\",\"linecolor\":\"white\",\"minorgridcolor\":\"white\",\"startlinecolor\":\"#2a3f5f\"},\"baxis\":{\"endlinecolor\":\"#2a3f5f\",\"gridcolor\":\"white\",\"linecolor\":\"white\",\"minorgridcolor\":\"white\",\"startlinecolor\":\"#2a3f5f\"},\"type\":\"carpet\"}],\"choropleth\":[{\"colorbar\":{\"outlinewidth\":0,\"ticks\":\"\"},\"type\":\"choropleth\"}],\"contour\":[{\"colorbar\":{\"outlinewidth\":0,\"ticks\":\"\"},\"colorscale\":[[0.0,\"#0d0887\"],[0.1111111111111111,\"#46039f\"],[0.2222222222222222,\"#7201a8\"],[0.3333333333333333,\"#9c179e\"],[0.4444444444444444,\"#bd3786\"],[0.5555555555555556,\"#d8576b\"],[0.6666666666666666,\"#ed7953\"],[0.7777777777777778,\"#fb9f3a\"],[0.8888888888888888,\"#fdca26\"],[1.0,\"#f0f921\"]],\"type\":\"contour\"}],\"contourcarpet\":[{\"colorbar\":{\"outlinewidth\":0,\"ticks\":\"\"},\"type\":\"contourcarpet\"}],\"heatmap\":[{\"colorbar\":{\"outlinewidth\":0,\"ticks\":\"\"},\"colorscale\":[[0.0,\"#0d0887\"],[0.1111111111111111,\"#46039f\"],[0.2222222222222222,\"#7201a8\"],[0.3333333333333333,\"#9c179e\"],[0.4444444444444444,\"#bd3786\"],[0.5555555555555556,\"#d8576b\"],[0.6666666666666666,\"#ed7953\"],[0.7777777777777778,\"#fb9f3a\"],[0.8888888888888888,\"#fdca26\"],[1.0,\"#f0f921\"]],\"type\":\"heatmap\"}],\"heatmapgl\":[{\"colorbar\":{\"outlinewidth\":0,\"ticks\":\"\"},\"colorscale\":[[0.0,\"#0d0887\"],[0.1111111111111111,\"#46039f\"],[0.2222222222222222,\"#7201a8\"],[0.3333333333333333,\"#9c179e\"],[0.4444444444444444,\"#bd3786\"],[0.5555555555555556,\"#d8576b\"],[0.6666666666666666,\"#ed7953\"],[0.7777777777777778,\"#fb9f3a\"],[0.8888888888888888,\"#fdca26\"],[1.0,\"#f0f921\"]],\"type\":\"heatmapgl\"}],\"histogram\":[{\"marker\":{\"pattern\":{\"fillmode\":\"overlay\",\"size\":10,\"solidity\":0.2}},\"type\":\"histogram\"}],\"histogram2d\":[{\"colorbar\":{\"outlinewidth\":0,\"ticks\":\"\"},\"colorscale\":[[0.0,\"#0d0887\"],[0.1111111111111111,\"#46039f\"],[0.2222222222222222,\"#7201a8\"],[0.3333333333333333,\"#9c179e\"],[0.4444444444444444,\"#bd3786\"],[0.5555555555555556,\"#d8576b\"],[0.6666666666666666,\"#ed7953\"],[0.7777777777777778,\"#fb9f3a\"],[0.8888888888888888,\"#fdca26\"],[1.0,\"#f0f921\"]],\"type\":\"histogram2d\"}],\"histogram2dcontour\":[{\"colorbar\":{\"outlinewidth\":0,\"ticks\":\"\"},\"colorscale\":[[0.0,\"#0d0887\"],[0.1111111111111111,\"#46039f\"],[0.2222222222222222,\"#7201a8\"],[0.3333333333333333,\"#9c179e\"],[0.4444444444444444,\"#bd3786\"],[0.5555555555555556,\"#d8576b\"],[0.6666666666666666,\"#ed7953\"],[0.7777777777777778,\"#fb9f3a\"],[0.8888888888888888,\"#fdca26\"],[1.0,\"#f0f921\"]],\"type\":\"histogram2dcontour\"}],\"mesh3d\":[{\"colorbar\":{\"outlinewidth\":0,\"ticks\":\"\"},\"type\":\"mesh3d\"}],\"parcoords\":[{\"line\":{\"colorbar\":{\"outlinewidth\":0,\"ticks\":\"\"}},\"type\":\"parcoords\"}],\"pie\":[{\"automargin\":true,\"type\":\"pie\"}],\"scatter\":[{\"marker\":{\"colorbar\":{\"outlinewidth\":0,\"ticks\":\"\"}},\"type\":\"scatter\"}],\"scatter3d\":[{\"line\":{\"colorbar\":{\"outlinewidth\":0,\"ticks\":\"\"}},\"marker\":{\"colorbar\":{\"outlinewidth\":0,\"ticks\":\"\"}},\"type\":\"scatter3d\"}],\"scattercarpet\":[{\"marker\":{\"colorbar\":{\"outlinewidth\":0,\"ticks\":\"\"}},\"type\":\"scattercarpet\"}],\"scattergeo\":[{\"marker\":{\"colorbar\":{\"outlinewidth\":0,\"ticks\":\"\"}},\"type\":\"scattergeo\"}],\"scattergl\":[{\"marker\":{\"colorbar\":{\"outlinewidth\":0,\"ticks\":\"\"}},\"type\":\"scattergl\"}],\"scattermapbox\":[{\"marker\":{\"colorbar\":{\"outlinewidth\":0,\"ticks\":\"\"}},\"type\":\"scattermapbox\"}],\"scatterpolar\":[{\"marker\":{\"colorbar\":{\"outlinewidth\":0,\"ticks\":\"\"}},\"type\":\"scatterpolar\"}],\"scatterpolargl\":[{\"marker\":{\"colorbar\":{\"outlinewidth\":0,\"ticks\":\"\"}},\"type\":\"scatterpolargl\"}],\"scatterternary\":[{\"marker\":{\"colorbar\":{\"outlinewidth\":0,\"ticks\":\"\"}},\"type\":\"scatterternary\"}],\"surface\":[{\"colorbar\":{\"outlinewidth\":0,\"ticks\":\"\"},\"colorscale\":[[0.0,\"#0d0887\"],[0.1111111111111111,\"#46039f\"],[0.2222222222222222,\"#7201a8\"],[0.3333333333333333,\"#9c179e\"],[0.4444444444444444,\"#bd3786\"],[0.5555555555555556,\"#d8576b\"],[0.6666666666666666,\"#ed7953\"],[0.7777777777777778,\"#fb9f3a\"],[0.8888888888888888,\"#fdca26\"],[1.0,\"#f0f921\"]],\"type\":\"surface\"}],\"table\":[{\"cells\":{\"fill\":{\"color\":\"#EBF0F8\"},\"line\":{\"color\":\"white\"}},\"header\":{\"fill\":{\"color\":\"#C8D4E3\"},\"line\":{\"color\":\"white\"}},\"type\":\"table\"}]},\"layout\":{\"annotationdefaults\":{\"arrowcolor\":\"#2a3f5f\",\"arrowhead\":0,\"arrowwidth\":1},\"autotypenumbers\":\"strict\",\"coloraxis\":{\"colorbar\":{\"outlinewidth\":0,\"ticks\":\"\"}},\"colorscale\":{\"diverging\":[[0,\"#8e0152\"],[0.1,\"#c51b7d\"],[0.2,\"#de77ae\"],[0.3,\"#f1b6da\"],[0.4,\"#fde0ef\"],[0.5,\"#f7f7f7\"],[0.6,\"#e6f5d0\"],[0.7,\"#b8e186\"],[0.8,\"#7fbc41\"],[0.9,\"#4d9221\"],[1,\"#276419\"]],\"sequential\":[[0.0,\"#0d0887\"],[0.1111111111111111,\"#46039f\"],[0.2222222222222222,\"#7201a8\"],[0.3333333333333333,\"#9c179e\"],[0.4444444444444444,\"#bd3786\"],[0.5555555555555556,\"#d8576b\"],[0.6666666666666666,\"#ed7953\"],[0.7777777777777778,\"#fb9f3a\"],[0.8888888888888888,\"#fdca26\"],[1.0,\"#f0f921\"]],\"sequentialminus\":[[0.0,\"#0d0887\"],[0.1111111111111111,\"#46039f\"],[0.2222222222222222,\"#7201a8\"],[0.3333333333333333,\"#9c179e\"],[0.4444444444444444,\"#bd3786\"],[0.5555555555555556,\"#d8576b\"],[0.6666666666666666,\"#ed7953\"],[0.7777777777777778,\"#fb9f3a\"],[0.8888888888888888,\"#fdca26\"],[1.0,\"#f0f921\"]]},\"colorway\":[\"#636efa\",\"#EF553B\",\"#00cc96\",\"#ab63fa\",\"#FFA15A\",\"#19d3f3\",\"#FF6692\",\"#B6E880\",\"#FF97FF\",\"#FECB52\"],\"font\":{\"color\":\"#2a3f5f\"},\"geo\":{\"bgcolor\":\"white\",\"lakecolor\":\"white\",\"landcolor\":\"#E5ECF6\",\"showlakes\":true,\"showland\":true,\"subunitcolor\":\"white\"},\"hoverlabel\":{\"align\":\"left\"},\"hovermode\":\"closest\",\"mapbox\":{\"style\":\"light\"},\"paper_bgcolor\":\"white\",\"plot_bgcolor\":\"#E5ECF6\",\"polar\":{\"angularaxis\":{\"gridcolor\":\"white\",\"linecolor\":\"white\",\"ticks\":\"\"},\"bgcolor\":\"#E5ECF6\",\"radialaxis\":{\"gridcolor\":\"white\",\"linecolor\":\"white\",\"ticks\":\"\"}},\"scene\":{\"xaxis\":{\"backgroundcolor\":\"#E5ECF6\",\"gridcolor\":\"white\",\"gridwidth\":2,\"linecolor\":\"white\",\"showbackground\":true,\"ticks\":\"\",\"zerolinecolor\":\"white\"},\"yaxis\":{\"backgroundcolor\":\"#E5ECF6\",\"gridcolor\":\"white\",\"gridwidth\":2,\"linecolor\":\"white\",\"showbackground\":true,\"ticks\":\"\",\"zerolinecolor\":\"white\"},\"zaxis\":{\"backgroundcolor\":\"#E5ECF6\",\"gridcolor\":\"white\",\"gridwidth\":2,\"linecolor\":\"white\",\"showbackground\":true,\"ticks\":\"\",\"zerolinecolor\":\"white\"}},\"shapedefaults\":{\"line\":{\"color\":\"#2a3f5f\"}},\"ternary\":{\"aaxis\":{\"gridcolor\":\"white\",\"linecolor\":\"white\",\"ticks\":\"\"},\"baxis\":{\"gridcolor\":\"white\",\"linecolor\":\"white\",\"ticks\":\"\"},\"bgcolor\":\"#E5ECF6\",\"caxis\":{\"gridcolor\":\"white\",\"linecolor\":\"white\",\"ticks\":\"\"}},\"title\":{\"x\":0.05},\"xaxis\":{\"automargin\":true,\"gridcolor\":\"white\",\"linecolor\":\"white\",\"ticks\":\"\",\"title\":{\"standoff\":15},\"zerolinecolor\":\"white\",\"zerolinewidth\":2},\"yaxis\":{\"automargin\":true,\"gridcolor\":\"white\",\"linecolor\":\"white\",\"ticks\":\"\",\"title\":{\"standoff\":15},\"zerolinecolor\":\"white\",\"zerolinewidth\":2}}},\"xaxis\":{\"anchor\":\"y\",\"domain\":[0.0,1.0],\"title\":{\"text\":\"foreign_worker\"}},\"yaxis\":{\"anchor\":\"x\",\"domain\":[0.0,1.0],\"title\":{\"text\":\"count\"}},\"legend\":{\"title\":{\"text\":\"risk\"},\"tracegroupgap\":0},\"margin\":{\"t\":60},\"barmode\":\"relative\"},                        {\"responsive\": true}                    ).then(function(){\n",
              "                            \n",
              "var gd = document.getElementById('9e990405-b4ec-45c4-9fdb-f7c4a19d178e');\n",
              "var x = new MutationObserver(function (mutations, observer) {{\n",
              "        var display = window.getComputedStyle(gd).display;\n",
              "        if (!display || display === 'none') {{\n",
              "            console.log([gd, 'removed!']);\n",
              "            Plotly.purge(gd);\n",
              "            observer.disconnect();\n",
              "        }}\n",
              "}});\n",
              "\n",
              "// Listen for the removal of the full notebook cells\n",
              "var notebookContainer = gd.closest('#notebook-container');\n",
              "if (notebookContainer) {{\n",
              "    x.observe(notebookContainer, {childList: true});\n",
              "}}\n",
              "\n",
              "// Listen for the clearing of the current output cell\n",
              "var outputEl = gd.closest('.output');\n",
              "if (outputEl) {{\n",
              "    x.observe(outputEl, {childList: true});\n",
              "}}\n",
              "\n",
              "                        })                };                            </script>        </div>\n",
              "</body>\n",
              "</html>"
            ]
          },
          "metadata": {}
        }
      ]
    },
    {
      "cell_type": "code",
      "source": [
        "risk_dataset.data = risk_dataset.data.drop(columns='risk')"
      ],
      "metadata": {
        "id": "-g6xiQnwMJJo"
      },
      "execution_count": 932,
      "outputs": []
    },
    {
      "cell_type": "markdown",
      "source": [
        "# Preparação de dados"
      ],
      "metadata": {
        "id": "3eeSZuEwq4ee"
      }
    },
    {
      "cell_type": "markdown",
      "source": [
        "## Codificação de classes para valores numéricos"
      ],
      "metadata": {
        "id": "2UaDFTzr6cEi"
      }
    },
    {
      "cell_type": "code",
      "source": [
        "from sklearn.preprocessing import LabelEncoder\n",
        "encoder = LabelEncoder()\n",
        "target = encoder.fit_transform(risk_dataset.target)\n",
        "target"
      ],
      "metadata": {
        "colab": {
          "base_uri": "https://localhost:8080/"
        },
        "id": "BRwkA9v6jcH0",
        "outputId": "310a6077-a695-400a-9454-026d0597ca20"
      },
      "execution_count": 933,
      "outputs": [
        {
          "output_type": "execute_result",
          "data": {
            "text/plain": [
              "array([1, 0, 1, 1, 0, 1, 1, 1, 1, 0, 0, 0, 1, 0, 1, 0, 1, 1, 0, 1, 1, 1,\n",
              "       1, 1, 1, 1, 1, 1, 1, 0, 1, 1, 1, 1, 1, 0, 1, 0, 1, 1, 1, 1, 1, 1,\n",
              "       0, 1, 1, 1, 1, 1, 1, 1, 1, 1, 0, 1, 0, 1, 1, 0, 1, 1, 0, 0, 1, 1,\n",
              "       1, 1, 0, 1, 1, 1, 1, 1, 0, 1, 0, 1, 1, 1, 0, 1, 1, 1, 1, 1, 1, 0,\n",
              "       1, 0, 1, 1, 0, 1, 1, 0, 1, 1, 1, 1, 1, 1, 1, 1, 1, 0, 0, 1, 1, 1,\n",
              "       1, 1, 1, 0, 1, 1, 0, 1, 0, 1, 0, 1, 1, 1, 0, 1, 1, 0, 1, 0, 1, 0,\n",
              "       1, 1, 1, 1, 1, 0, 1, 1, 1, 1, 1, 0, 1, 1, 1, 1, 1, 1, 1, 1, 1, 1,\n",
              "       1, 0, 1, 1, 1, 1, 1, 1, 1, 1, 1, 1, 0, 1, 1, 0, 0, 1, 0, 1, 0, 0,\n",
              "       1, 1, 1, 1, 0, 0, 0, 1, 0, 1, 0, 1, 0, 1, 0, 0, 0, 1, 0, 0, 1, 0,\n",
              "       1, 0, 1, 1, 1, 0, 1, 1, 1, 1, 1, 1, 1, 1, 0, 0, 1, 1, 1, 1, 1, 1,\n",
              "       1, 1, 1, 1, 1, 1, 0, 0, 0, 1, 0, 1, 1, 1, 1, 0, 0, 0, 1, 1, 0, 1,\n",
              "       0, 1, 1, 1, 1, 1, 1, 0, 1, 1, 0, 1, 1, 1, 1, 0, 1, 1, 1, 1, 1, 1,\n",
              "       1, 0, 1, 1, 0, 1, 1, 1, 1, 0, 0, 1, 1, 1, 0, 1, 1, 1, 1, 1, 1, 1,\n",
              "       1, 1, 1, 0, 1, 0, 1, 1, 1, 0, 1, 1, 1, 1, 1, 0, 0, 1, 0, 1, 1, 0,\n",
              "       0, 1, 1, 1, 1, 0, 1, 0, 1, 1, 1, 1, 0, 0, 1, 1, 1, 1, 1, 1, 1, 1,\n",
              "       1, 0, 0, 0, 0, 0, 1, 0, 1, 1, 1, 1, 1, 1, 1, 1, 1, 1, 1, 0, 1, 0,\n",
              "       1, 0, 1, 0, 1, 0, 1, 0, 1, 1, 1, 1, 0, 1, 1, 1, 0, 1, 1, 1, 1, 1,\n",
              "       0, 0, 1, 1, 0, 1, 1, 0, 1, 1, 1, 1, 1, 1, 1, 1, 1, 1, 1, 1, 1, 1,\n",
              "       1, 1, 0, 1, 1, 1, 0, 1, 1, 0, 1, 1, 1, 0, 1, 1, 0, 1, 0, 1, 0, 1,\n",
              "       1, 0, 1, 1, 1, 1, 0, 1, 1, 1, 1, 0, 1, 0, 1, 1, 1, 0, 1, 1, 1, 0,\n",
              "       1, 1, 1, 0, 0, 1, 0, 1, 1, 0, 1, 1, 1, 1, 0, 1, 1, 0, 1, 1, 1, 1,\n",
              "       1, 1, 1, 1, 0, 1, 1, 1, 0, 0, 0, 1, 0, 0, 1, 1, 1, 1, 1, 1, 1, 1,\n",
              "       1, 0, 1, 1, 1, 1, 1, 0, 1, 1, 1, 0, 0, 1, 1, 1, 0, 1, 1, 0, 0, 0,\n",
              "       1, 0, 1, 1, 0, 1, 1, 1, 1, 1, 1, 0, 1, 1, 1, 0, 0, 1, 1, 1, 1, 1,\n",
              "       0, 1, 1, 0, 1, 1, 1, 0, 1, 1, 0, 1, 0, 1, 0, 0, 1, 0, 1, 1, 0, 1,\n",
              "       1, 1, 0, 1, 1, 0, 0, 0, 0, 0, 1, 0, 1, 0, 1, 1, 0, 1, 1, 0, 0, 1,\n",
              "       1, 1, 1, 1, 1, 1, 0, 1, 0, 1, 1, 0, 1, 0, 1, 1, 0, 0, 1, 1, 1, 0,\n",
              "       0, 0, 0, 0, 0, 1, 1, 0, 0, 0, 1, 1, 1, 0, 1, 1, 0, 0, 1, 1, 0, 1,\n",
              "       1, 1, 0, 1, 1, 0, 0, 1, 0, 1, 1, 0, 1, 1, 1, 0, 1, 0, 0, 1, 1, 1,\n",
              "       1, 0, 0, 1, 0, 1, 1, 0, 1, 0, 0, 0, 1, 0, 0, 0, 1, 1, 0, 1, 1, 1,\n",
              "       1, 0, 1, 1, 1, 1, 1, 1, 0, 1, 1, 1, 1, 1, 0, 1, 1, 0, 1, 1, 1, 1,\n",
              "       1, 1, 1, 1, 1, 1, 1, 1, 1, 1, 1, 1, 1, 1, 1, 1, 1, 1, 0, 0, 1, 1,\n",
              "       1, 1, 0, 0, 1, 1, 1, 0, 1, 1, 0, 1, 1, 1, 1, 1, 0, 0, 0, 1, 0, 1,\n",
              "       1, 0, 0, 1, 1, 0, 1, 1, 1, 1, 0, 1, 1, 0, 1, 1, 1, 1, 1, 1, 1, 0,\n",
              "       1, 1, 1, 0, 1, 1, 0, 0, 1, 0, 1, 0, 1, 0, 1, 0, 1, 1, 0, 1, 1, 1,\n",
              "       1, 0, 1, 1, 1, 0, 1, 1, 1, 1, 0, 1, 1, 0, 1, 1, 1, 1, 0, 0, 0, 1,\n",
              "       1, 1, 1, 1, 0, 1, 1, 1, 1, 1, 1, 1, 1, 0, 1, 1, 1, 0, 1, 1, 0, 0,\n",
              "       0, 1, 1, 1, 1, 0, 1, 1, 0, 1, 1, 1, 0, 0, 0, 1, 1, 0, 0, 1, 0, 0,\n",
              "       1, 1, 1, 1, 0, 1, 0, 1, 1, 1, 0, 1, 1, 0, 0, 1, 1, 0, 1, 1, 1, 1,\n",
              "       0, 1, 1, 0, 0, 1, 0, 1, 1, 1, 1, 1, 1, 1, 1, 1, 1, 1, 1, 1, 0, 1,\n",
              "       1, 1, 1, 1, 0, 0, 1, 0, 1, 1, 1, 1, 1, 1, 1, 1, 1, 1, 1, 0, 0, 1,\n",
              "       1, 1, 1, 1, 1, 1, 1, 1, 1, 0, 1, 1, 0, 0, 1, 0, 0, 0, 1, 1, 0, 1,\n",
              "       0, 0, 1, 0, 1, 1, 1, 0, 1, 1, 1, 0, 0, 1, 0, 1, 1, 1, 1, 1, 1, 1,\n",
              "       0, 1, 0, 0, 1, 0, 0, 0, 1, 1, 1, 1, 0, 1, 1, 1, 1, 0, 1, 1, 0, 1,\n",
              "       1, 1, 1, 1, 0, 0, 1, 1, 1, 1, 0, 0, 0, 0, 1, 0, 1, 1, 1, 1, 1, 1,\n",
              "       1, 1, 1, 1, 1, 1, 1, 1, 0, 1])"
            ]
          },
          "metadata": {},
          "execution_count": 933
        }
      ]
    },
    {
      "cell_type": "markdown",
      "source": [
        "## Codificação de features categóricos para valores numéricos"
      ],
      "metadata": {
        "id": "ewPbbaGs6iY7"
      }
    },
    {
      "cell_type": "code",
      "source": [
        "from sklearn.preprocessing import OneHotEncoder\n",
        "encoder = OneHotEncoder(handle_unknown='error',sparse=False)\n",
        "data = pd.DataFrame(encoder.fit_transform(risk_dataset.data[category_features]))\n",
        "data.columns = encoder.get_feature_names_out()\n",
        "data"
      ],
      "metadata": {
        "colab": {
          "base_uri": "https://localhost:8080/",
          "height": 522
        },
        "id": "g15DQKmtkSwQ",
        "outputId": "61794ab2-b666-4eb7-9212-caf96cd359f3"
      },
      "execution_count": 934,
      "outputs": [
        {
          "output_type": "execute_result",
          "data": {
            "text/plain": [
              "     checking_status_0<=X<200  checking_status_<0  checking_status_>=200  \\\n",
              "0                         0.0                 1.0                    0.0   \n",
              "1                         1.0                 0.0                    0.0   \n",
              "2                         0.0                 0.0                    0.0   \n",
              "3                         0.0                 1.0                    0.0   \n",
              "4                         0.0                 1.0                    0.0   \n",
              "..                        ...                 ...                    ...   \n",
              "995                       0.0                 0.0                    0.0   \n",
              "996                       0.0                 1.0                    0.0   \n",
              "997                       0.0                 0.0                    0.0   \n",
              "998                       0.0                 1.0                    0.0   \n",
              "999                       1.0                 0.0                    0.0   \n",
              "\n",
              "     checking_status_no checking  credit_history_all paid  \\\n",
              "0                            0.0                      0.0   \n",
              "1                            0.0                      0.0   \n",
              "2                            1.0                      0.0   \n",
              "3                            0.0                      0.0   \n",
              "4                            0.0                      0.0   \n",
              "..                           ...                      ...   \n",
              "995                          1.0                      0.0   \n",
              "996                          0.0                      0.0   \n",
              "997                          1.0                      0.0   \n",
              "998                          0.0                      0.0   \n",
              "999                          0.0                      0.0   \n",
              "\n",
              "     credit_history_critical/other existing credit  \\\n",
              "0                                              1.0   \n",
              "1                                              0.0   \n",
              "2                                              1.0   \n",
              "3                                              0.0   \n",
              "4                                              0.0   \n",
              "..                                             ...   \n",
              "995                                            0.0   \n",
              "996                                            0.0   \n",
              "997                                            0.0   \n",
              "998                                            0.0   \n",
              "999                                            1.0   \n",
              "\n",
              "     credit_history_delayed previously  credit_history_existing paid  \\\n",
              "0                                  0.0                           0.0   \n",
              "1                                  0.0                           1.0   \n",
              "2                                  0.0                           0.0   \n",
              "3                                  0.0                           1.0   \n",
              "4                                  1.0                           0.0   \n",
              "..                                 ...                           ...   \n",
              "995                                0.0                           1.0   \n",
              "996                                0.0                           1.0   \n",
              "997                                0.0                           1.0   \n",
              "998                                0.0                           1.0   \n",
              "999                                0.0                           0.0   \n",
              "\n",
              "     credit_history_no credits/all paid  purpose_business  ...  housing_own  \\\n",
              "0                                   0.0               0.0  ...          1.0   \n",
              "1                                   0.0               0.0  ...          1.0   \n",
              "2                                   0.0               0.0  ...          1.0   \n",
              "3                                   0.0               0.0  ...          0.0   \n",
              "4                                   0.0               0.0  ...          0.0   \n",
              "..                                  ...               ...  ...          ...   \n",
              "995                                 0.0               0.0  ...          1.0   \n",
              "996                                 0.0               0.0  ...          1.0   \n",
              "997                                 0.0               0.0  ...          1.0   \n",
              "998                                 0.0               0.0  ...          0.0   \n",
              "999                                 0.0               0.0  ...          1.0   \n",
              "\n",
              "     housing_rent  job_high qualif/self emp/mgmt  job_skilled  \\\n",
              "0             0.0                            0.0          1.0   \n",
              "1             0.0                            0.0          1.0   \n",
              "2             0.0                            0.0          0.0   \n",
              "3             0.0                            0.0          1.0   \n",
              "4             0.0                            0.0          1.0   \n",
              "..            ...                            ...          ...   \n",
              "995           0.0                            0.0          0.0   \n",
              "996           0.0                            1.0          0.0   \n",
              "997           0.0                            0.0          1.0   \n",
              "998           0.0                            0.0          1.0   \n",
              "999           0.0                            0.0          1.0   \n",
              "\n",
              "     job_unemp/unskilled non res  job_unskilled resident  own_telephone_none  \\\n",
              "0                            0.0                     0.0                 0.0   \n",
              "1                            0.0                     0.0                 1.0   \n",
              "2                            0.0                     1.0                 1.0   \n",
              "3                            0.0                     0.0                 1.0   \n",
              "4                            0.0                     0.0                 1.0   \n",
              "..                           ...                     ...                 ...   \n",
              "995                          0.0                     1.0                 1.0   \n",
              "996                          0.0                     0.0                 0.0   \n",
              "997                          0.0                     0.0                 1.0   \n",
              "998                          0.0                     0.0                 0.0   \n",
              "999                          0.0                     0.0                 1.0   \n",
              "\n",
              "     own_telephone_yes  foreign_worker_no  foreign_worker_yes  \n",
              "0                  1.0                0.0                 1.0  \n",
              "1                  0.0                0.0                 1.0  \n",
              "2                  0.0                0.0                 1.0  \n",
              "3                  0.0                0.0                 1.0  \n",
              "4                  0.0                0.0                 1.0  \n",
              "..                 ...                ...                 ...  \n",
              "995                0.0                0.0                 1.0  \n",
              "996                1.0                0.0                 1.0  \n",
              "997                0.0                0.0                 1.0  \n",
              "998                1.0                0.0                 1.0  \n",
              "999                0.0                0.0                 1.0  \n",
              "\n",
              "[1000 rows x 54 columns]"
            ],
            "text/html": [
              "\n",
              "  <div id=\"df-693e1661-08f6-4d35-b20b-7270e9fe1878\">\n",
              "    <div class=\"colab-df-container\">\n",
              "      <div>\n",
              "<style scoped>\n",
              "    .dataframe tbody tr th:only-of-type {\n",
              "        vertical-align: middle;\n",
              "    }\n",
              "\n",
              "    .dataframe tbody tr th {\n",
              "        vertical-align: top;\n",
              "    }\n",
              "\n",
              "    .dataframe thead th {\n",
              "        text-align: right;\n",
              "    }\n",
              "</style>\n",
              "<table border=\"1\" class=\"dataframe\">\n",
              "  <thead>\n",
              "    <tr style=\"text-align: right;\">\n",
              "      <th></th>\n",
              "      <th>checking_status_0&lt;=X&lt;200</th>\n",
              "      <th>checking_status_&lt;0</th>\n",
              "      <th>checking_status_&gt;=200</th>\n",
              "      <th>checking_status_no checking</th>\n",
              "      <th>credit_history_all paid</th>\n",
              "      <th>credit_history_critical/other existing credit</th>\n",
              "      <th>credit_history_delayed previously</th>\n",
              "      <th>credit_history_existing paid</th>\n",
              "      <th>credit_history_no credits/all paid</th>\n",
              "      <th>purpose_business</th>\n",
              "      <th>...</th>\n",
              "      <th>housing_own</th>\n",
              "      <th>housing_rent</th>\n",
              "      <th>job_high qualif/self emp/mgmt</th>\n",
              "      <th>job_skilled</th>\n",
              "      <th>job_unemp/unskilled non res</th>\n",
              "      <th>job_unskilled resident</th>\n",
              "      <th>own_telephone_none</th>\n",
              "      <th>own_telephone_yes</th>\n",
              "      <th>foreign_worker_no</th>\n",
              "      <th>foreign_worker_yes</th>\n",
              "    </tr>\n",
              "  </thead>\n",
              "  <tbody>\n",
              "    <tr>\n",
              "      <th>0</th>\n",
              "      <td>0.0</td>\n",
              "      <td>1.0</td>\n",
              "      <td>0.0</td>\n",
              "      <td>0.0</td>\n",
              "      <td>0.0</td>\n",
              "      <td>1.0</td>\n",
              "      <td>0.0</td>\n",
              "      <td>0.0</td>\n",
              "      <td>0.0</td>\n",
              "      <td>0.0</td>\n",
              "      <td>...</td>\n",
              "      <td>1.0</td>\n",
              "      <td>0.0</td>\n",
              "      <td>0.0</td>\n",
              "      <td>1.0</td>\n",
              "      <td>0.0</td>\n",
              "      <td>0.0</td>\n",
              "      <td>0.0</td>\n",
              "      <td>1.0</td>\n",
              "      <td>0.0</td>\n",
              "      <td>1.0</td>\n",
              "    </tr>\n",
              "    <tr>\n",
              "      <th>1</th>\n",
              "      <td>1.0</td>\n",
              "      <td>0.0</td>\n",
              "      <td>0.0</td>\n",
              "      <td>0.0</td>\n",
              "      <td>0.0</td>\n",
              "      <td>0.0</td>\n",
              "      <td>0.0</td>\n",
              "      <td>1.0</td>\n",
              "      <td>0.0</td>\n",
              "      <td>0.0</td>\n",
              "      <td>...</td>\n",
              "      <td>1.0</td>\n",
              "      <td>0.0</td>\n",
              "      <td>0.0</td>\n",
              "      <td>1.0</td>\n",
              "      <td>0.0</td>\n",
              "      <td>0.0</td>\n",
              "      <td>1.0</td>\n",
              "      <td>0.0</td>\n",
              "      <td>0.0</td>\n",
              "      <td>1.0</td>\n",
              "    </tr>\n",
              "    <tr>\n",
              "      <th>2</th>\n",
              "      <td>0.0</td>\n",
              "      <td>0.0</td>\n",
              "      <td>0.0</td>\n",
              "      <td>1.0</td>\n",
              "      <td>0.0</td>\n",
              "      <td>1.0</td>\n",
              "      <td>0.0</td>\n",
              "      <td>0.0</td>\n",
              "      <td>0.0</td>\n",
              "      <td>0.0</td>\n",
              "      <td>...</td>\n",
              "      <td>1.0</td>\n",
              "      <td>0.0</td>\n",
              "      <td>0.0</td>\n",
              "      <td>0.0</td>\n",
              "      <td>0.0</td>\n",
              "      <td>1.0</td>\n",
              "      <td>1.0</td>\n",
              "      <td>0.0</td>\n",
              "      <td>0.0</td>\n",
              "      <td>1.0</td>\n",
              "    </tr>\n",
              "    <tr>\n",
              "      <th>3</th>\n",
              "      <td>0.0</td>\n",
              "      <td>1.0</td>\n",
              "      <td>0.0</td>\n",
              "      <td>0.0</td>\n",
              "      <td>0.0</td>\n",
              "      <td>0.0</td>\n",
              "      <td>0.0</td>\n",
              "      <td>1.0</td>\n",
              "      <td>0.0</td>\n",
              "      <td>0.0</td>\n",
              "      <td>...</td>\n",
              "      <td>0.0</td>\n",
              "      <td>0.0</td>\n",
              "      <td>0.0</td>\n",
              "      <td>1.0</td>\n",
              "      <td>0.0</td>\n",
              "      <td>0.0</td>\n",
              "      <td>1.0</td>\n",
              "      <td>0.0</td>\n",
              "      <td>0.0</td>\n",
              "      <td>1.0</td>\n",
              "    </tr>\n",
              "    <tr>\n",
              "      <th>4</th>\n",
              "      <td>0.0</td>\n",
              "      <td>1.0</td>\n",
              "      <td>0.0</td>\n",
              "      <td>0.0</td>\n",
              "      <td>0.0</td>\n",
              "      <td>0.0</td>\n",
              "      <td>1.0</td>\n",
              "      <td>0.0</td>\n",
              "      <td>0.0</td>\n",
              "      <td>0.0</td>\n",
              "      <td>...</td>\n",
              "      <td>0.0</td>\n",
              "      <td>0.0</td>\n",
              "      <td>0.0</td>\n",
              "      <td>1.0</td>\n",
              "      <td>0.0</td>\n",
              "      <td>0.0</td>\n",
              "      <td>1.0</td>\n",
              "      <td>0.0</td>\n",
              "      <td>0.0</td>\n",
              "      <td>1.0</td>\n",
              "    </tr>\n",
              "    <tr>\n",
              "      <th>...</th>\n",
              "      <td>...</td>\n",
              "      <td>...</td>\n",
              "      <td>...</td>\n",
              "      <td>...</td>\n",
              "      <td>...</td>\n",
              "      <td>...</td>\n",
              "      <td>...</td>\n",
              "      <td>...</td>\n",
              "      <td>...</td>\n",
              "      <td>...</td>\n",
              "      <td>...</td>\n",
              "      <td>...</td>\n",
              "      <td>...</td>\n",
              "      <td>...</td>\n",
              "      <td>...</td>\n",
              "      <td>...</td>\n",
              "      <td>...</td>\n",
              "      <td>...</td>\n",
              "      <td>...</td>\n",
              "      <td>...</td>\n",
              "      <td>...</td>\n",
              "    </tr>\n",
              "    <tr>\n",
              "      <th>995</th>\n",
              "      <td>0.0</td>\n",
              "      <td>0.0</td>\n",
              "      <td>0.0</td>\n",
              "      <td>1.0</td>\n",
              "      <td>0.0</td>\n",
              "      <td>0.0</td>\n",
              "      <td>0.0</td>\n",
              "      <td>1.0</td>\n",
              "      <td>0.0</td>\n",
              "      <td>0.0</td>\n",
              "      <td>...</td>\n",
              "      <td>1.0</td>\n",
              "      <td>0.0</td>\n",
              "      <td>0.0</td>\n",
              "      <td>0.0</td>\n",
              "      <td>0.0</td>\n",
              "      <td>1.0</td>\n",
              "      <td>1.0</td>\n",
              "      <td>0.0</td>\n",
              "      <td>0.0</td>\n",
              "      <td>1.0</td>\n",
              "    </tr>\n",
              "    <tr>\n",
              "      <th>996</th>\n",
              "      <td>0.0</td>\n",
              "      <td>1.0</td>\n",
              "      <td>0.0</td>\n",
              "      <td>0.0</td>\n",
              "      <td>0.0</td>\n",
              "      <td>0.0</td>\n",
              "      <td>0.0</td>\n",
              "      <td>1.0</td>\n",
              "      <td>0.0</td>\n",
              "      <td>0.0</td>\n",
              "      <td>...</td>\n",
              "      <td>1.0</td>\n",
              "      <td>0.0</td>\n",
              "      <td>1.0</td>\n",
              "      <td>0.0</td>\n",
              "      <td>0.0</td>\n",
              "      <td>0.0</td>\n",
              "      <td>0.0</td>\n",
              "      <td>1.0</td>\n",
              "      <td>0.0</td>\n",
              "      <td>1.0</td>\n",
              "    </tr>\n",
              "    <tr>\n",
              "      <th>997</th>\n",
              "      <td>0.0</td>\n",
              "      <td>0.0</td>\n",
              "      <td>0.0</td>\n",
              "      <td>1.0</td>\n",
              "      <td>0.0</td>\n",
              "      <td>0.0</td>\n",
              "      <td>0.0</td>\n",
              "      <td>1.0</td>\n",
              "      <td>0.0</td>\n",
              "      <td>0.0</td>\n",
              "      <td>...</td>\n",
              "      <td>1.0</td>\n",
              "      <td>0.0</td>\n",
              "      <td>0.0</td>\n",
              "      <td>1.0</td>\n",
              "      <td>0.0</td>\n",
              "      <td>0.0</td>\n",
              "      <td>1.0</td>\n",
              "      <td>0.0</td>\n",
              "      <td>0.0</td>\n",
              "      <td>1.0</td>\n",
              "    </tr>\n",
              "    <tr>\n",
              "      <th>998</th>\n",
              "      <td>0.0</td>\n",
              "      <td>1.0</td>\n",
              "      <td>0.0</td>\n",
              "      <td>0.0</td>\n",
              "      <td>0.0</td>\n",
              "      <td>0.0</td>\n",
              "      <td>0.0</td>\n",
              "      <td>1.0</td>\n",
              "      <td>0.0</td>\n",
              "      <td>0.0</td>\n",
              "      <td>...</td>\n",
              "      <td>0.0</td>\n",
              "      <td>0.0</td>\n",
              "      <td>0.0</td>\n",
              "      <td>1.0</td>\n",
              "      <td>0.0</td>\n",
              "      <td>0.0</td>\n",
              "      <td>0.0</td>\n",
              "      <td>1.0</td>\n",
              "      <td>0.0</td>\n",
              "      <td>1.0</td>\n",
              "    </tr>\n",
              "    <tr>\n",
              "      <th>999</th>\n",
              "      <td>1.0</td>\n",
              "      <td>0.0</td>\n",
              "      <td>0.0</td>\n",
              "      <td>0.0</td>\n",
              "      <td>0.0</td>\n",
              "      <td>1.0</td>\n",
              "      <td>0.0</td>\n",
              "      <td>0.0</td>\n",
              "      <td>0.0</td>\n",
              "      <td>0.0</td>\n",
              "      <td>...</td>\n",
              "      <td>1.0</td>\n",
              "      <td>0.0</td>\n",
              "      <td>0.0</td>\n",
              "      <td>1.0</td>\n",
              "      <td>0.0</td>\n",
              "      <td>0.0</td>\n",
              "      <td>1.0</td>\n",
              "      <td>0.0</td>\n",
              "      <td>0.0</td>\n",
              "      <td>1.0</td>\n",
              "    </tr>\n",
              "  </tbody>\n",
              "</table>\n",
              "<p>1000 rows × 54 columns</p>\n",
              "</div>\n",
              "      <button class=\"colab-df-convert\" onclick=\"convertToInteractive('df-693e1661-08f6-4d35-b20b-7270e9fe1878')\"\n",
              "              title=\"Convert this dataframe to an interactive table.\"\n",
              "              style=\"display:none;\">\n",
              "        \n",
              "  <svg xmlns=\"http://www.w3.org/2000/svg\" height=\"24px\"viewBox=\"0 0 24 24\"\n",
              "       width=\"24px\">\n",
              "    <path d=\"M0 0h24v24H0V0z\" fill=\"none\"/>\n",
              "    <path d=\"M18.56 5.44l.94 2.06.94-2.06 2.06-.94-2.06-.94-.94-2.06-.94 2.06-2.06.94zm-11 1L8.5 8.5l.94-2.06 2.06-.94-2.06-.94L8.5 2.5l-.94 2.06-2.06.94zm10 10l.94 2.06.94-2.06 2.06-.94-2.06-.94-.94-2.06-.94 2.06-2.06.94z\"/><path d=\"M17.41 7.96l-1.37-1.37c-.4-.4-.92-.59-1.43-.59-.52 0-1.04.2-1.43.59L10.3 9.45l-7.72 7.72c-.78.78-.78 2.05 0 2.83L4 21.41c.39.39.9.59 1.41.59.51 0 1.02-.2 1.41-.59l7.78-7.78 2.81-2.81c.8-.78.8-2.07 0-2.86zM5.41 20L4 18.59l7.72-7.72 1.47 1.35L5.41 20z\"/>\n",
              "  </svg>\n",
              "      </button>\n",
              "      \n",
              "  <style>\n",
              "    .colab-df-container {\n",
              "      display:flex;\n",
              "      flex-wrap:wrap;\n",
              "      gap: 12px;\n",
              "    }\n",
              "\n",
              "    .colab-df-convert {\n",
              "      background-color: #E8F0FE;\n",
              "      border: none;\n",
              "      border-radius: 50%;\n",
              "      cursor: pointer;\n",
              "      display: none;\n",
              "      fill: #1967D2;\n",
              "      height: 32px;\n",
              "      padding: 0 0 0 0;\n",
              "      width: 32px;\n",
              "    }\n",
              "\n",
              "    .colab-df-convert:hover {\n",
              "      background-color: #E2EBFA;\n",
              "      box-shadow: 0px 1px 2px rgba(60, 64, 67, 0.3), 0px 1px 3px 1px rgba(60, 64, 67, 0.15);\n",
              "      fill: #174EA6;\n",
              "    }\n",
              "\n",
              "    [theme=dark] .colab-df-convert {\n",
              "      background-color: #3B4455;\n",
              "      fill: #D2E3FC;\n",
              "    }\n",
              "\n",
              "    [theme=dark] .colab-df-convert:hover {\n",
              "      background-color: #434B5C;\n",
              "      box-shadow: 0px 1px 3px 1px rgba(0, 0, 0, 0.15);\n",
              "      filter: drop-shadow(0px 1px 2px rgba(0, 0, 0, 0.3));\n",
              "      fill: #FFFFFF;\n",
              "    }\n",
              "  </style>\n",
              "\n",
              "      <script>\n",
              "        const buttonEl =\n",
              "          document.querySelector('#df-693e1661-08f6-4d35-b20b-7270e9fe1878 button.colab-df-convert');\n",
              "        buttonEl.style.display =\n",
              "          google.colab.kernel.accessAllowed ? 'block' : 'none';\n",
              "\n",
              "        async function convertToInteractive(key) {\n",
              "          const element = document.querySelector('#df-693e1661-08f6-4d35-b20b-7270e9fe1878');\n",
              "          const dataTable =\n",
              "            await google.colab.kernel.invokeFunction('convertToInteractive',\n",
              "                                                     [key], {});\n",
              "          if (!dataTable) return;\n",
              "\n",
              "          const docLinkHtml = 'Like what you see? Visit the ' +\n",
              "            '<a target=\"_blank\" href=https://colab.research.google.com/notebooks/data_table.ipynb>data table notebook</a>'\n",
              "            + ' to learn more about interactive tables.';\n",
              "          element.innerHTML = '';\n",
              "          dataTable['output_type'] = 'display_data';\n",
              "          await google.colab.output.renderOutput(dataTable, element);\n",
              "          const docLink = document.createElement('div');\n",
              "          docLink.innerHTML = docLinkHtml;\n",
              "          element.appendChild(docLink);\n",
              "        }\n",
              "      </script>\n",
              "    </div>\n",
              "  </div>\n",
              "  "
            ]
          },
          "metadata": {},
          "execution_count": 934
        }
      ]
    },
    {
      "cell_type": "markdown",
      "source": [
        "## Junção de features categóricas e numéricas"
      ],
      "metadata": {
        "id": "n95hzxB_dkv4"
      }
    },
    {
      "cell_type": "code",
      "source": [
        "data = pd.concat([risk_dataset.data[numeric_features], data], axis=1)\n",
        "data"
      ],
      "metadata": {
        "id": "AODPUjZm0hZ2",
        "outputId": "7604a0c9-89bb-45c2-e855-ea94c55b170c",
        "colab": {
          "base_uri": "https://localhost:8080/",
          "height": 522
        }
      },
      "execution_count": 935,
      "outputs": [
        {
          "output_type": "execute_result",
          "data": {
            "text/plain": [
              "     duration  credit_amount  installment_commitment  residence_since   age  \\\n",
              "0         6.0         1169.0                     4.0              4.0  67.0   \n",
              "1        48.0         5951.0                     2.0              2.0  22.0   \n",
              "2        12.0         2096.0                     2.0              3.0  49.0   \n",
              "3        42.0         7882.0                     2.0              4.0  45.0   \n",
              "4        24.0         4870.0                     3.0              4.0  53.0   \n",
              "..        ...            ...                     ...              ...   ...   \n",
              "995      12.0         1736.0                     3.0              4.0  31.0   \n",
              "996      30.0         3857.0                     4.0              4.0  40.0   \n",
              "997      12.0          804.0                     4.0              4.0  38.0   \n",
              "998      45.0         1845.0                     4.0              4.0  23.0   \n",
              "999      45.0         4576.0                     3.0              4.0  27.0   \n",
              "\n",
              "     existing_credits  num_dependents  checking_status_0<=X<200  \\\n",
              "0                 2.0             1.0                       0.0   \n",
              "1                 1.0             1.0                       1.0   \n",
              "2                 1.0             2.0                       0.0   \n",
              "3                 1.0             2.0                       0.0   \n",
              "4                 2.0             2.0                       0.0   \n",
              "..                ...             ...                       ...   \n",
              "995               1.0             1.0                       0.0   \n",
              "996               1.0             1.0                       0.0   \n",
              "997               1.0             1.0                       0.0   \n",
              "998               1.0             1.0                       0.0   \n",
              "999               1.0             1.0                       1.0   \n",
              "\n",
              "     checking_status_<0  checking_status_>=200  ...  housing_own  \\\n",
              "0                   1.0                    0.0  ...          1.0   \n",
              "1                   0.0                    0.0  ...          1.0   \n",
              "2                   0.0                    0.0  ...          1.0   \n",
              "3                   1.0                    0.0  ...          0.0   \n",
              "4                   1.0                    0.0  ...          0.0   \n",
              "..                  ...                    ...  ...          ...   \n",
              "995                 0.0                    0.0  ...          1.0   \n",
              "996                 1.0                    0.0  ...          1.0   \n",
              "997                 0.0                    0.0  ...          1.0   \n",
              "998                 1.0                    0.0  ...          0.0   \n",
              "999                 0.0                    0.0  ...          1.0   \n",
              "\n",
              "     housing_rent  job_high qualif/self emp/mgmt  job_skilled  \\\n",
              "0             0.0                            0.0          1.0   \n",
              "1             0.0                            0.0          1.0   \n",
              "2             0.0                            0.0          0.0   \n",
              "3             0.0                            0.0          1.0   \n",
              "4             0.0                            0.0          1.0   \n",
              "..            ...                            ...          ...   \n",
              "995           0.0                            0.0          0.0   \n",
              "996           0.0                            1.0          0.0   \n",
              "997           0.0                            0.0          1.0   \n",
              "998           0.0                            0.0          1.0   \n",
              "999           0.0                            0.0          1.0   \n",
              "\n",
              "     job_unemp/unskilled non res  job_unskilled resident  own_telephone_none  \\\n",
              "0                            0.0                     0.0                 0.0   \n",
              "1                            0.0                     0.0                 1.0   \n",
              "2                            0.0                     1.0                 1.0   \n",
              "3                            0.0                     0.0                 1.0   \n",
              "4                            0.0                     0.0                 1.0   \n",
              "..                           ...                     ...                 ...   \n",
              "995                          0.0                     1.0                 1.0   \n",
              "996                          0.0                     0.0                 0.0   \n",
              "997                          0.0                     0.0                 1.0   \n",
              "998                          0.0                     0.0                 0.0   \n",
              "999                          0.0                     0.0                 1.0   \n",
              "\n",
              "     own_telephone_yes  foreign_worker_no  foreign_worker_yes  \n",
              "0                  1.0                0.0                 1.0  \n",
              "1                  0.0                0.0                 1.0  \n",
              "2                  0.0                0.0                 1.0  \n",
              "3                  0.0                0.0                 1.0  \n",
              "4                  0.0                0.0                 1.0  \n",
              "..                 ...                ...                 ...  \n",
              "995                0.0                0.0                 1.0  \n",
              "996                1.0                0.0                 1.0  \n",
              "997                0.0                0.0                 1.0  \n",
              "998                1.0                0.0                 1.0  \n",
              "999                0.0                0.0                 1.0  \n",
              "\n",
              "[1000 rows x 61 columns]"
            ],
            "text/html": [
              "\n",
              "  <div id=\"df-e1bfabe7-b0ed-4eb4-8c96-26ec7fc10060\">\n",
              "    <div class=\"colab-df-container\">\n",
              "      <div>\n",
              "<style scoped>\n",
              "    .dataframe tbody tr th:only-of-type {\n",
              "        vertical-align: middle;\n",
              "    }\n",
              "\n",
              "    .dataframe tbody tr th {\n",
              "        vertical-align: top;\n",
              "    }\n",
              "\n",
              "    .dataframe thead th {\n",
              "        text-align: right;\n",
              "    }\n",
              "</style>\n",
              "<table border=\"1\" class=\"dataframe\">\n",
              "  <thead>\n",
              "    <tr style=\"text-align: right;\">\n",
              "      <th></th>\n",
              "      <th>duration</th>\n",
              "      <th>credit_amount</th>\n",
              "      <th>installment_commitment</th>\n",
              "      <th>residence_since</th>\n",
              "      <th>age</th>\n",
              "      <th>existing_credits</th>\n",
              "      <th>num_dependents</th>\n",
              "      <th>checking_status_0&lt;=X&lt;200</th>\n",
              "      <th>checking_status_&lt;0</th>\n",
              "      <th>checking_status_&gt;=200</th>\n",
              "      <th>...</th>\n",
              "      <th>housing_own</th>\n",
              "      <th>housing_rent</th>\n",
              "      <th>job_high qualif/self emp/mgmt</th>\n",
              "      <th>job_skilled</th>\n",
              "      <th>job_unemp/unskilled non res</th>\n",
              "      <th>job_unskilled resident</th>\n",
              "      <th>own_telephone_none</th>\n",
              "      <th>own_telephone_yes</th>\n",
              "      <th>foreign_worker_no</th>\n",
              "      <th>foreign_worker_yes</th>\n",
              "    </tr>\n",
              "  </thead>\n",
              "  <tbody>\n",
              "    <tr>\n",
              "      <th>0</th>\n",
              "      <td>6.0</td>\n",
              "      <td>1169.0</td>\n",
              "      <td>4.0</td>\n",
              "      <td>4.0</td>\n",
              "      <td>67.0</td>\n",
              "      <td>2.0</td>\n",
              "      <td>1.0</td>\n",
              "      <td>0.0</td>\n",
              "      <td>1.0</td>\n",
              "      <td>0.0</td>\n",
              "      <td>...</td>\n",
              "      <td>1.0</td>\n",
              "      <td>0.0</td>\n",
              "      <td>0.0</td>\n",
              "      <td>1.0</td>\n",
              "      <td>0.0</td>\n",
              "      <td>0.0</td>\n",
              "      <td>0.0</td>\n",
              "      <td>1.0</td>\n",
              "      <td>0.0</td>\n",
              "      <td>1.0</td>\n",
              "    </tr>\n",
              "    <tr>\n",
              "      <th>1</th>\n",
              "      <td>48.0</td>\n",
              "      <td>5951.0</td>\n",
              "      <td>2.0</td>\n",
              "      <td>2.0</td>\n",
              "      <td>22.0</td>\n",
              "      <td>1.0</td>\n",
              "      <td>1.0</td>\n",
              "      <td>1.0</td>\n",
              "      <td>0.0</td>\n",
              "      <td>0.0</td>\n",
              "      <td>...</td>\n",
              "      <td>1.0</td>\n",
              "      <td>0.0</td>\n",
              "      <td>0.0</td>\n",
              "      <td>1.0</td>\n",
              "      <td>0.0</td>\n",
              "      <td>0.0</td>\n",
              "      <td>1.0</td>\n",
              "      <td>0.0</td>\n",
              "      <td>0.0</td>\n",
              "      <td>1.0</td>\n",
              "    </tr>\n",
              "    <tr>\n",
              "      <th>2</th>\n",
              "      <td>12.0</td>\n",
              "      <td>2096.0</td>\n",
              "      <td>2.0</td>\n",
              "      <td>3.0</td>\n",
              "      <td>49.0</td>\n",
              "      <td>1.0</td>\n",
              "      <td>2.0</td>\n",
              "      <td>0.0</td>\n",
              "      <td>0.0</td>\n",
              "      <td>0.0</td>\n",
              "      <td>...</td>\n",
              "      <td>1.0</td>\n",
              "      <td>0.0</td>\n",
              "      <td>0.0</td>\n",
              "      <td>0.0</td>\n",
              "      <td>0.0</td>\n",
              "      <td>1.0</td>\n",
              "      <td>1.0</td>\n",
              "      <td>0.0</td>\n",
              "      <td>0.0</td>\n",
              "      <td>1.0</td>\n",
              "    </tr>\n",
              "    <tr>\n",
              "      <th>3</th>\n",
              "      <td>42.0</td>\n",
              "      <td>7882.0</td>\n",
              "      <td>2.0</td>\n",
              "      <td>4.0</td>\n",
              "      <td>45.0</td>\n",
              "      <td>1.0</td>\n",
              "      <td>2.0</td>\n",
              "      <td>0.0</td>\n",
              "      <td>1.0</td>\n",
              "      <td>0.0</td>\n",
              "      <td>...</td>\n",
              "      <td>0.0</td>\n",
              "      <td>0.0</td>\n",
              "      <td>0.0</td>\n",
              "      <td>1.0</td>\n",
              "      <td>0.0</td>\n",
              "      <td>0.0</td>\n",
              "      <td>1.0</td>\n",
              "      <td>0.0</td>\n",
              "      <td>0.0</td>\n",
              "      <td>1.0</td>\n",
              "    </tr>\n",
              "    <tr>\n",
              "      <th>4</th>\n",
              "      <td>24.0</td>\n",
              "      <td>4870.0</td>\n",
              "      <td>3.0</td>\n",
              "      <td>4.0</td>\n",
              "      <td>53.0</td>\n",
              "      <td>2.0</td>\n",
              "      <td>2.0</td>\n",
              "      <td>0.0</td>\n",
              "      <td>1.0</td>\n",
              "      <td>0.0</td>\n",
              "      <td>...</td>\n",
              "      <td>0.0</td>\n",
              "      <td>0.0</td>\n",
              "      <td>0.0</td>\n",
              "      <td>1.0</td>\n",
              "      <td>0.0</td>\n",
              "      <td>0.0</td>\n",
              "      <td>1.0</td>\n",
              "      <td>0.0</td>\n",
              "      <td>0.0</td>\n",
              "      <td>1.0</td>\n",
              "    </tr>\n",
              "    <tr>\n",
              "      <th>...</th>\n",
              "      <td>...</td>\n",
              "      <td>...</td>\n",
              "      <td>...</td>\n",
              "      <td>...</td>\n",
              "      <td>...</td>\n",
              "      <td>...</td>\n",
              "      <td>...</td>\n",
              "      <td>...</td>\n",
              "      <td>...</td>\n",
              "      <td>...</td>\n",
              "      <td>...</td>\n",
              "      <td>...</td>\n",
              "      <td>...</td>\n",
              "      <td>...</td>\n",
              "      <td>...</td>\n",
              "      <td>...</td>\n",
              "      <td>...</td>\n",
              "      <td>...</td>\n",
              "      <td>...</td>\n",
              "      <td>...</td>\n",
              "      <td>...</td>\n",
              "    </tr>\n",
              "    <tr>\n",
              "      <th>995</th>\n",
              "      <td>12.0</td>\n",
              "      <td>1736.0</td>\n",
              "      <td>3.0</td>\n",
              "      <td>4.0</td>\n",
              "      <td>31.0</td>\n",
              "      <td>1.0</td>\n",
              "      <td>1.0</td>\n",
              "      <td>0.0</td>\n",
              "      <td>0.0</td>\n",
              "      <td>0.0</td>\n",
              "      <td>...</td>\n",
              "      <td>1.0</td>\n",
              "      <td>0.0</td>\n",
              "      <td>0.0</td>\n",
              "      <td>0.0</td>\n",
              "      <td>0.0</td>\n",
              "      <td>1.0</td>\n",
              "      <td>1.0</td>\n",
              "      <td>0.0</td>\n",
              "      <td>0.0</td>\n",
              "      <td>1.0</td>\n",
              "    </tr>\n",
              "    <tr>\n",
              "      <th>996</th>\n",
              "      <td>30.0</td>\n",
              "      <td>3857.0</td>\n",
              "      <td>4.0</td>\n",
              "      <td>4.0</td>\n",
              "      <td>40.0</td>\n",
              "      <td>1.0</td>\n",
              "      <td>1.0</td>\n",
              "      <td>0.0</td>\n",
              "      <td>1.0</td>\n",
              "      <td>0.0</td>\n",
              "      <td>...</td>\n",
              "      <td>1.0</td>\n",
              "      <td>0.0</td>\n",
              "      <td>1.0</td>\n",
              "      <td>0.0</td>\n",
              "      <td>0.0</td>\n",
              "      <td>0.0</td>\n",
              "      <td>0.0</td>\n",
              "      <td>1.0</td>\n",
              "      <td>0.0</td>\n",
              "      <td>1.0</td>\n",
              "    </tr>\n",
              "    <tr>\n",
              "      <th>997</th>\n",
              "      <td>12.0</td>\n",
              "      <td>804.0</td>\n",
              "      <td>4.0</td>\n",
              "      <td>4.0</td>\n",
              "      <td>38.0</td>\n",
              "      <td>1.0</td>\n",
              "      <td>1.0</td>\n",
              "      <td>0.0</td>\n",
              "      <td>0.0</td>\n",
              "      <td>0.0</td>\n",
              "      <td>...</td>\n",
              "      <td>1.0</td>\n",
              "      <td>0.0</td>\n",
              "      <td>0.0</td>\n",
              "      <td>1.0</td>\n",
              "      <td>0.0</td>\n",
              "      <td>0.0</td>\n",
              "      <td>1.0</td>\n",
              "      <td>0.0</td>\n",
              "      <td>0.0</td>\n",
              "      <td>1.0</td>\n",
              "    </tr>\n",
              "    <tr>\n",
              "      <th>998</th>\n",
              "      <td>45.0</td>\n",
              "      <td>1845.0</td>\n",
              "      <td>4.0</td>\n",
              "      <td>4.0</td>\n",
              "      <td>23.0</td>\n",
              "      <td>1.0</td>\n",
              "      <td>1.0</td>\n",
              "      <td>0.0</td>\n",
              "      <td>1.0</td>\n",
              "      <td>0.0</td>\n",
              "      <td>...</td>\n",
              "      <td>0.0</td>\n",
              "      <td>0.0</td>\n",
              "      <td>0.0</td>\n",
              "      <td>1.0</td>\n",
              "      <td>0.0</td>\n",
              "      <td>0.0</td>\n",
              "      <td>0.0</td>\n",
              "      <td>1.0</td>\n",
              "      <td>0.0</td>\n",
              "      <td>1.0</td>\n",
              "    </tr>\n",
              "    <tr>\n",
              "      <th>999</th>\n",
              "      <td>45.0</td>\n",
              "      <td>4576.0</td>\n",
              "      <td>3.0</td>\n",
              "      <td>4.0</td>\n",
              "      <td>27.0</td>\n",
              "      <td>1.0</td>\n",
              "      <td>1.0</td>\n",
              "      <td>1.0</td>\n",
              "      <td>0.0</td>\n",
              "      <td>0.0</td>\n",
              "      <td>...</td>\n",
              "      <td>1.0</td>\n",
              "      <td>0.0</td>\n",
              "      <td>0.0</td>\n",
              "      <td>1.0</td>\n",
              "      <td>0.0</td>\n",
              "      <td>0.0</td>\n",
              "      <td>1.0</td>\n",
              "      <td>0.0</td>\n",
              "      <td>0.0</td>\n",
              "      <td>1.0</td>\n",
              "    </tr>\n",
              "  </tbody>\n",
              "</table>\n",
              "<p>1000 rows × 61 columns</p>\n",
              "</div>\n",
              "      <button class=\"colab-df-convert\" onclick=\"convertToInteractive('df-e1bfabe7-b0ed-4eb4-8c96-26ec7fc10060')\"\n",
              "              title=\"Convert this dataframe to an interactive table.\"\n",
              "              style=\"display:none;\">\n",
              "        \n",
              "  <svg xmlns=\"http://www.w3.org/2000/svg\" height=\"24px\"viewBox=\"0 0 24 24\"\n",
              "       width=\"24px\">\n",
              "    <path d=\"M0 0h24v24H0V0z\" fill=\"none\"/>\n",
              "    <path d=\"M18.56 5.44l.94 2.06.94-2.06 2.06-.94-2.06-.94-.94-2.06-.94 2.06-2.06.94zm-11 1L8.5 8.5l.94-2.06 2.06-.94-2.06-.94L8.5 2.5l-.94 2.06-2.06.94zm10 10l.94 2.06.94-2.06 2.06-.94-2.06-.94-.94-2.06-.94 2.06-2.06.94z\"/><path d=\"M17.41 7.96l-1.37-1.37c-.4-.4-.92-.59-1.43-.59-.52 0-1.04.2-1.43.59L10.3 9.45l-7.72 7.72c-.78.78-.78 2.05 0 2.83L4 21.41c.39.39.9.59 1.41.59.51 0 1.02-.2 1.41-.59l7.78-7.78 2.81-2.81c.8-.78.8-2.07 0-2.86zM5.41 20L4 18.59l7.72-7.72 1.47 1.35L5.41 20z\"/>\n",
              "  </svg>\n",
              "      </button>\n",
              "      \n",
              "  <style>\n",
              "    .colab-df-container {\n",
              "      display:flex;\n",
              "      flex-wrap:wrap;\n",
              "      gap: 12px;\n",
              "    }\n",
              "\n",
              "    .colab-df-convert {\n",
              "      background-color: #E8F0FE;\n",
              "      border: none;\n",
              "      border-radius: 50%;\n",
              "      cursor: pointer;\n",
              "      display: none;\n",
              "      fill: #1967D2;\n",
              "      height: 32px;\n",
              "      padding: 0 0 0 0;\n",
              "      width: 32px;\n",
              "    }\n",
              "\n",
              "    .colab-df-convert:hover {\n",
              "      background-color: #E2EBFA;\n",
              "      box-shadow: 0px 1px 2px rgba(60, 64, 67, 0.3), 0px 1px 3px 1px rgba(60, 64, 67, 0.15);\n",
              "      fill: #174EA6;\n",
              "    }\n",
              "\n",
              "    [theme=dark] .colab-df-convert {\n",
              "      background-color: #3B4455;\n",
              "      fill: #D2E3FC;\n",
              "    }\n",
              "\n",
              "    [theme=dark] .colab-df-convert:hover {\n",
              "      background-color: #434B5C;\n",
              "      box-shadow: 0px 1px 3px 1px rgba(0, 0, 0, 0.15);\n",
              "      filter: drop-shadow(0px 1px 2px rgba(0, 0, 0, 0.3));\n",
              "      fill: #FFFFFF;\n",
              "    }\n",
              "  </style>\n",
              "\n",
              "      <script>\n",
              "        const buttonEl =\n",
              "          document.querySelector('#df-e1bfabe7-b0ed-4eb4-8c96-26ec7fc10060 button.colab-df-convert');\n",
              "        buttonEl.style.display =\n",
              "          google.colab.kernel.accessAllowed ? 'block' : 'none';\n",
              "\n",
              "        async function convertToInteractive(key) {\n",
              "          const element = document.querySelector('#df-e1bfabe7-b0ed-4eb4-8c96-26ec7fc10060');\n",
              "          const dataTable =\n",
              "            await google.colab.kernel.invokeFunction('convertToInteractive',\n",
              "                                                     [key], {});\n",
              "          if (!dataTable) return;\n",
              "\n",
              "          const docLinkHtml = 'Like what you see? Visit the ' +\n",
              "            '<a target=\"_blank\" href=https://colab.research.google.com/notebooks/data_table.ipynb>data table notebook</a>'\n",
              "            + ' to learn more about interactive tables.';\n",
              "          element.innerHTML = '';\n",
              "          dataTable['output_type'] = 'display_data';\n",
              "          await google.colab.output.renderOutput(dataTable, element);\n",
              "          const docLink = document.createElement('div');\n",
              "          docLink.innerHTML = docLinkHtml;\n",
              "          element.appendChild(docLink);\n",
              "        }\n",
              "      </script>\n",
              "    </div>\n",
              "  </div>\n",
              "  "
            ]
          },
          "metadata": {},
          "execution_count": 935
        }
      ]
    },
    {
      "cell_type": "markdown",
      "source": [
        "## Normalização das features"
      ],
      "metadata": {
        "id": "AK9hxhuOTWzv"
      }
    },
    {
      "cell_type": "code",
      "source": [
        "from sklearn.preprocessing import StandardScaler\n",
        "scaler = StandardScaler()\n",
        "data = scaler.fit_transform(data)\n",
        "data"
      ],
      "metadata": {
        "colab": {
          "base_uri": "https://localhost:8080/"
        },
        "id": "YOG76mGU-G3I",
        "outputId": "b6254921-58c0-44a5-bbbd-cd5a6f0ece97"
      },
      "execution_count": 936,
      "outputs": [
        {
          "output_type": "execute_result",
          "data": {
            "text/plain": [
              "array([[-1.24, -0.75,  0.92, ...,  1.21, -0.2 ,  0.2 ],\n",
              "       [ 2.25,  0.95, -0.87, ..., -0.82, -0.2 ,  0.2 ],\n",
              "       [-0.74, -0.42, -0.87, ..., -0.82, -0.2 ,  0.2 ],\n",
              "       ...,\n",
              "       [-0.74, -0.87,  0.92, ..., -0.82, -0.2 ,  0.2 ],\n",
              "       [ 2.  , -0.51,  0.92, ...,  1.21, -0.2 ,  0.2 ],\n",
              "       [ 2.  ,  0.46,  0.02, ..., -0.82, -0.2 ,  0.2 ]])"
            ]
          },
          "metadata": {},
          "execution_count": 936
        }
      ]
    },
    {
      "cell_type": "markdown",
      "source": [
        "## Definição de função para exibição da ConfusionMatrix"
      ],
      "metadata": {
        "id": "zfciiP-yQlYA"
      }
    },
    {
      "cell_type": "code",
      "source": [
        "import matplotlib.pyplot as plt\n",
        "from sklearn.metrics import ConfusionMatrixDisplay\n",
        "\n",
        "np.set_printoptions(precision=2)\n",
        "\n",
        "class_names = risk_dataset.target.unique()\n",
        "color_map = plt.cm.Blues\n",
        "options = [\n",
        "    (\"Confusion matrix, denormalized\", None),\n",
        "    (\"Confusion matrix, normalized\", \"true\"),\n",
        "]\n",
        "\n",
        "def confusion_matrix_display(y_test, y_pred, options, method, display_labels, color_map):  \n",
        "  for title, normalize in options:\n",
        "    disp = ConfusionMatrixDisplay.from_predictions(y_test, y_pred, display_labels=class_names,normalize=normalize,cmap=color_map)\n",
        "    disp.ax_.set_title(method+' -  '+title)\n",
        "  plt.show()\n"
      ],
      "metadata": {
        "id": "i0Blg-q4GQEJ"
      },
      "execution_count": 938,
      "outputs": []
    },
    {
      "cell_type": "markdown",
      "source": [
        "## Definição de função para coleta de métricas"
      ],
      "metadata": {
        "id": "LEFmU59n_pcf"
      }
    },
    {
      "cell_type": "code",
      "source": [
        "metrics_df = pd.DataFrame()"
      ],
      "metadata": {
        "id": "NnBhtiG1dc15"
      },
      "execution_count": 939,
      "outputs": []
    },
    {
      "cell_type": "code",
      "source": [
        "from sklearn.metrics import accuracy_score, precision_score, f1_score, recall_score, confusion_matrix\n",
        "\n",
        "def metrics_collect(method, y_test, y_pred):\n",
        "  accuracy = accuracy_score(y_test, y_pred)\n",
        "  precision = precision_score(y_test, y_pred)\n",
        "  recall = recall_score(y_test, y_pred)\n",
        "  f1 = f1_score(y_test, y_pred)\n",
        "  confusion_matrix_data = confusion_matrix(y_test, y_pred, normalize='true')\n",
        "  metrics_data = {'method': method, \n",
        "                  'accuracy': accuracy, \n",
        "                  'precision': precision, \n",
        "                  'recall': recall, \n",
        "                  'f1': f1, \n",
        "                  'confusion_matrix': confusion_matrix_data }\n",
        "  return metrics_data"
      ],
      "metadata": {
        "id": "oUpRS2PP_sJh"
      },
      "execution_count": 940,
      "outputs": []
    },
    {
      "cell_type": "markdown",
      "source": [
        "## Definição de parâmetros para o GridSearchCV"
      ],
      "metadata": {
        "id": "40-3pR9pXzEC"
      }
    },
    {
      "cell_type": "code",
      "source": [
        "from sklearn.model_selection import GridSearchCV\n",
        "\n",
        "scoring='accuracy'\n",
        "cv=10\n",
        "n_jobs=-1"
      ],
      "metadata": {
        "id": "ZHMykS6nXwrT"
      },
      "execution_count": 941,
      "outputs": []
    },
    {
      "cell_type": "markdown",
      "source": [
        "# Modelagem"
      ],
      "metadata": {
        "id": "I44dq3X0QSlf"
      }
    },
    {
      "cell_type": "markdown",
      "source": [
        "## Separação dados de treinamento e testes"
      ],
      "metadata": {
        "id": "UhRR8yNdQd9W"
      }
    },
    {
      "cell_type": "code",
      "source": [
        "import numpy as np\n",
        "from sklearn.model_selection import train_test_split\n",
        "\n",
        "X_train, X_test, y_train, y_test = train_test_split(data, target, random_state=0)\n",
        "print(X_train.shape)\n",
        "print(y_train.shape)\n",
        "print(X_test.shape)\n",
        "print(y_test.shape)"
      ],
      "metadata": {
        "colab": {
          "base_uri": "https://localhost:8080/"
        },
        "id": "HJb7eZgdzQsn",
        "outputId": "777f2443-e010-45b1-ca22-3547df03dbd0"
      },
      "execution_count": 937,
      "outputs": [
        {
          "output_type": "stream",
          "name": "stdout",
          "text": [
            "(750, 61)\n",
            "(750,)\n",
            "(250, 61)\n",
            "(250,)\n"
          ]
        }
      ]
    },
    {
      "cell_type": "markdown",
      "source": [
        "## Aplicação do método KNN"
      ],
      "metadata": {
        "id": "a90PEpIbrBVg"
      }
    },
    {
      "cell_type": "code",
      "source": [
        "from sklearn.neighbors import KNeighborsClassifier\n",
        "\n",
        "parameters = {'n_neighbors': range(1,9)}\n",
        "clf = GridSearchCV(KNeighborsClassifier(), parameters, scoring=scoring, cv=cv, n_jobs=n_jobs)\n",
        "clf.fit(X_train,y_train)\n",
        "print(clf.best_params_)"
      ],
      "metadata": {
        "colab": {
          "base_uri": "https://localhost:8080/"
        },
        "id": "ToReFiMTWSff",
        "outputId": "689a47d1-1338-4291-e885-c50c00781085"
      },
      "execution_count": 942,
      "outputs": [
        {
          "output_type": "stream",
          "name": "stdout",
          "text": [
            "{'n_neighbors': 6}\n"
          ]
        }
      ]
    },
    {
      "cell_type": "code",
      "source": [
        "method = 'KNN'\n",
        "knn = KNeighborsClassifier(**clf.best_params_)\n",
        "y_pred_knn = knn.fit(X_train,y_train).predict(X_test)\n",
        "metrics = metrics_collect(method, y_test, y_pred_knn)\n",
        "metrics_df = metrics_df.append(metrics, ignore_index=True)"
      ],
      "metadata": {
        "id": "I-aTsK3Dup4D"
      },
      "execution_count": 943,
      "outputs": []
    },
    {
      "cell_type": "code",
      "source": [
        "knn.get_params(deep=True)"
      ],
      "metadata": {
        "colab": {
          "base_uri": "https://localhost:8080/"
        },
        "id": "HSi2lgALJ_cl",
        "outputId": "669c9ffc-419c-4ad8-8064-e5aa19613f98"
      },
      "execution_count": 944,
      "outputs": [
        {
          "output_type": "execute_result",
          "data": {
            "text/plain": [
              "{'algorithm': 'auto',\n",
              " 'leaf_size': 30,\n",
              " 'metric': 'minkowski',\n",
              " 'metric_params': None,\n",
              " 'n_jobs': None,\n",
              " 'n_neighbors': 6,\n",
              " 'p': 2,\n",
              " 'weights': 'uniform'}"
            ]
          },
          "metadata": {},
          "execution_count": 944
        }
      ]
    },
    {
      "cell_type": "markdown",
      "source": [
        "## Aplicação do método LDA"
      ],
      "metadata": {
        "id": "ON4stDcTrNMQ"
      }
    },
    {
      "cell_type": "code",
      "source": [
        "from sklearn.discriminant_analysis import LinearDiscriminantAnalysis\n",
        "\n",
        "method = 'LDA'\n",
        "lda = LinearDiscriminantAnalysis()\n",
        "y_pred_lda = lda.fit(X_train,y_train).predict(X_test)\n",
        "metrics = metrics_collect(method, y_test, y_pred_lda)\n",
        "metrics_df = metrics_df.append(metrics, ignore_index=True)"
      ],
      "metadata": {
        "id": "UiwHf6QTE9Qx"
      },
      "execution_count": 945,
      "outputs": []
    },
    {
      "cell_type": "code",
      "source": [
        "lda.get_params(deep=True)"
      ],
      "metadata": {
        "colab": {
          "base_uri": "https://localhost:8080/"
        },
        "id": "FygYPw0-KVom",
        "outputId": "d714cad6-18aa-42de-f566-5626e2296558"
      },
      "execution_count": 946,
      "outputs": [
        {
          "output_type": "execute_result",
          "data": {
            "text/plain": [
              "{'covariance_estimator': None,\n",
              " 'n_components': None,\n",
              " 'priors': None,\n",
              " 'shrinkage': None,\n",
              " 'solver': 'svd',\n",
              " 'store_covariance': False,\n",
              " 'tol': 0.0001}"
            ]
          },
          "metadata": {},
          "execution_count": 946
        }
      ]
    },
    {
      "cell_type": "markdown",
      "source": [
        "## Aplicação do método QDA"
      ],
      "metadata": {
        "id": "8If4PAlorTNg"
      }
    },
    {
      "cell_type": "code",
      "source": [
        "from sklearn.discriminant_analysis import QuadraticDiscriminantAnalysis\n",
        "\n",
        "method = 'QDA'\n",
        "qda = QuadraticDiscriminantAnalysis()\n",
        "y_pred_qda = qda.fit(X_train,y_train).predict(X_test)\n",
        "metrics = metrics_collect(method, y_test, y_pred_qda)\n",
        "metrics_df = metrics_df.append(metrics, ignore_index=True)"
      ],
      "metadata": {
        "colab": {
          "base_uri": "https://localhost:8080/"
        },
        "id": "ONmXK70tIwk0",
        "outputId": "846db2f7-e58d-4a1d-a4dc-850242bd9010"
      },
      "execution_count": 947,
      "outputs": [
        {
          "output_type": "stream",
          "name": "stderr",
          "text": [
            "/usr/local/lib/python3.8/dist-packages/sklearn/discriminant_analysis.py:878: UserWarning:\n",
            "\n",
            "Variables are collinear\n",
            "\n"
          ]
        }
      ]
    },
    {
      "cell_type": "code",
      "source": [
        "qda.get_params(deep=True)"
      ],
      "metadata": {
        "colab": {
          "base_uri": "https://localhost:8080/"
        },
        "id": "gqAjIcKkKirM",
        "outputId": "f472e646-7d4c-4f6b-8b34-71140a5dfe1a"
      },
      "execution_count": 948,
      "outputs": [
        {
          "output_type": "execute_result",
          "data": {
            "text/plain": [
              "{'priors': None, 'reg_param': 0.0, 'store_covariance': False, 'tol': 0.0001}"
            ]
          },
          "metadata": {},
          "execution_count": 948
        }
      ]
    },
    {
      "cell_type": "markdown",
      "source": [
        "## Aplicação do método SVC"
      ],
      "metadata": {
        "id": "w7qlF1xDrXNg"
      }
    },
    {
      "cell_type": "code",
      "source": [
        "from sklearn.svm import SVC\n",
        "\n",
        "parameters = { 'kernel': ('linear', 'rbf'), 'C': [1,10], 'gamma': ('scale', 'auto') }\n",
        "clf = GridSearchCV(SVC(), parameters, scoring=scoring, cv=cv, n_jobs=n_jobs)\n",
        "clf.fit(X_train,y_train)\n",
        "print(clf.best_params_)"
      ],
      "metadata": {
        "colab": {
          "base_uri": "https://localhost:8080/"
        },
        "id": "DYStx7Y8JyHv",
        "outputId": "7070b441-47bf-4465-d5d2-8fe0c9b9698b"
      },
      "execution_count": 949,
      "outputs": [
        {
          "output_type": "stream",
          "name": "stdout",
          "text": [
            "{'C': 1, 'gamma': 'scale', 'kernel': 'rbf'}\n"
          ]
        }
      ]
    },
    {
      "cell_type": "code",
      "source": [
        "method = 'SVC'\n",
        "svc = SVC(**clf.best_params_)\n",
        "y_pred_svc = svc.fit(X_train,y_train).predict(X_test)\n",
        "metrics = metrics_collect(method, y_test, y_pred_svc)\n",
        "metrics_df = metrics_df.append(metrics, ignore_index=True)"
      ],
      "metadata": {
        "id": "JZyfjTFQX8AQ"
      },
      "execution_count": 950,
      "outputs": []
    },
    {
      "cell_type": "code",
      "source": [
        "svc.get_params(deep=True)"
      ],
      "metadata": {
        "colab": {
          "base_uri": "https://localhost:8080/"
        },
        "id": "U3cozD2hK0YH",
        "outputId": "52e67895-f200-4035-e5e6-9732fc2737a8"
      },
      "execution_count": 951,
      "outputs": [
        {
          "output_type": "execute_result",
          "data": {
            "text/plain": [
              "{'C': 1,\n",
              " 'break_ties': False,\n",
              " 'cache_size': 200,\n",
              " 'class_weight': None,\n",
              " 'coef0': 0.0,\n",
              " 'decision_function_shape': 'ovr',\n",
              " 'degree': 3,\n",
              " 'gamma': 'scale',\n",
              " 'kernel': 'rbf',\n",
              " 'max_iter': -1,\n",
              " 'probability': False,\n",
              " 'random_state': None,\n",
              " 'shrinking': True,\n",
              " 'tol': 0.001,\n",
              " 'verbose': False}"
            ]
          },
          "metadata": {},
          "execution_count": 951
        }
      ]
    },
    {
      "cell_type": "markdown",
      "source": [
        "## Aplicação do método MLP"
      ],
      "metadata": {
        "id": "ydyhwRcbrdmE"
      }
    },
    {
      "cell_type": "code",
      "source": [
        "from sklearn.neural_network import MLPClassifier\n",
        "\n",
        "# restrição de parâmetros devido a desempenho...\n",
        "parameters = {'solver': ['lbfgs'], 'alpha': [0.0001, 0.0001], 'hidden_layer_sizes': [10,20], 'max_iter': [1000,1000]}\n",
        "clf = GridSearchCV(MLPClassifier(), parameters, scoring=scoring, cv=cv, n_jobs=n_jobs)\n",
        "clf.fit(X_train,y_train)\n",
        "print(clf.best_params_)"
      ],
      "metadata": {
        "id": "IR9NbT_sBq3K",
        "colab": {
          "base_uri": "https://localhost:8080/"
        },
        "outputId": "f9ed6121-e006-4166-9c30-2507b8857886"
      },
      "execution_count": 952,
      "outputs": [
        {
          "output_type": "stream",
          "name": "stdout",
          "text": [
            "{'alpha': 0.0001, 'hidden_layer_sizes': 10, 'max_iter': 1000, 'solver': 'lbfgs'}\n"
          ]
        }
      ]
    },
    {
      "cell_type": "code",
      "source": [
        "method = 'MLP'\n",
        "mlp = MLPClassifier(**clf.best_params_)\n",
        "y_pred_mlp = mlp.fit(X_train,y_train).predict(X_test)\n",
        "metrics = metrics_collect(method, y_test, y_pred_mlp)\n",
        "metrics_df = metrics_df.append(metrics, ignore_index=True)"
      ],
      "metadata": {
        "id": "2DFjEp6isdq0"
      },
      "execution_count": 953,
      "outputs": []
    },
    {
      "cell_type": "code",
      "source": [
        "mlp.get_params(deep=True)"
      ],
      "metadata": {
        "colab": {
          "base_uri": "https://localhost:8080/"
        },
        "id": "s5brotRwLAwd",
        "outputId": "bcc64ddd-5bce-481a-fe16-9090611e7914"
      },
      "execution_count": 954,
      "outputs": [
        {
          "output_type": "execute_result",
          "data": {
            "text/plain": [
              "{'activation': 'relu',\n",
              " 'alpha': 0.0001,\n",
              " 'batch_size': 'auto',\n",
              " 'beta_1': 0.9,\n",
              " 'beta_2': 0.999,\n",
              " 'early_stopping': False,\n",
              " 'epsilon': 1e-08,\n",
              " 'hidden_layer_sizes': 10,\n",
              " 'learning_rate': 'constant',\n",
              " 'learning_rate_init': 0.001,\n",
              " 'max_fun': 15000,\n",
              " 'max_iter': 1000,\n",
              " 'momentum': 0.9,\n",
              " 'n_iter_no_change': 10,\n",
              " 'nesterovs_momentum': True,\n",
              " 'power_t': 0.5,\n",
              " 'random_state': None,\n",
              " 'shuffle': True,\n",
              " 'solver': 'lbfgs',\n",
              " 'tol': 0.0001,\n",
              " 'validation_fraction': 0.1,\n",
              " 'verbose': False,\n",
              " 'warm_start': False}"
            ]
          },
          "metadata": {},
          "execution_count": 954
        }
      ]
    },
    {
      "cell_type": "markdown",
      "source": [
        "## Aplicação do método RFT"
      ],
      "metadata": {
        "id": "bZjfVaMcJ5LF"
      }
    },
    {
      "cell_type": "code",
      "source": [
        "from sklearn.ensemble import RandomForestClassifier\n",
        "\n",
        "parameters = {'n_estimators': [200, 300], 'max_features': ['auto', 'sqrt', 'log2'] }\n",
        "clf = GridSearchCV(RandomForestClassifier(), parameters, scoring=scoring, cv=cv, n_jobs=n_jobs)\n",
        "clf.fit(X_train,y_train)\n",
        "print(clf.best_params_)"
      ],
      "metadata": {
        "id": "6-bE9whiK8iC",
        "colab": {
          "base_uri": "https://localhost:8080/"
        },
        "outputId": "38f8fdcb-2a0a-4e5f-da63-3484ab55372b"
      },
      "execution_count": 955,
      "outputs": [
        {
          "output_type": "stream",
          "name": "stdout",
          "text": [
            "{'max_features': 'auto', 'n_estimators': 200}\n"
          ]
        }
      ]
    },
    {
      "cell_type": "code",
      "source": [
        "method = 'RFT'\n",
        "rft = RandomForestClassifier(**clf.best_params_)\n",
        "y_pred_rft = rft.fit(X_train,y_train).predict(X_test)\n",
        "metrics = metrics_collect(method, y_test, y_pred_rft)\n",
        "metrics_df = metrics_df.append(metrics, ignore_index=True)"
      ],
      "metadata": {
        "id": "5RfBqkH_J4m1"
      },
      "execution_count": 956,
      "outputs": []
    },
    {
      "cell_type": "code",
      "source": [
        "rft.get_params(deep=True)"
      ],
      "metadata": {
        "colab": {
          "base_uri": "https://localhost:8080/"
        },
        "id": "kBCXYTRuKQRN",
        "outputId": "58d24527-54c8-44cb-d336-f6e5af3e456a"
      },
      "execution_count": 957,
      "outputs": [
        {
          "output_type": "execute_result",
          "data": {
            "text/plain": [
              "{'bootstrap': True,\n",
              " 'ccp_alpha': 0.0,\n",
              " 'class_weight': None,\n",
              " 'criterion': 'gini',\n",
              " 'max_depth': None,\n",
              " 'max_features': 'auto',\n",
              " 'max_leaf_nodes': None,\n",
              " 'max_samples': None,\n",
              " 'min_impurity_decrease': 0.0,\n",
              " 'min_samples_leaf': 1,\n",
              " 'min_samples_split': 2,\n",
              " 'min_weight_fraction_leaf': 0.0,\n",
              " 'n_estimators': 200,\n",
              " 'n_jobs': None,\n",
              " 'oob_score': False,\n",
              " 'random_state': None,\n",
              " 'verbose': 0,\n",
              " 'warm_start': False}"
            ]
          },
          "metadata": {},
          "execution_count": 957
        }
      ]
    },
    {
      "cell_type": "markdown",
      "source": [
        "# Avaliações"
      ],
      "metadata": {
        "id": "k-jn98nge2Dh"
      }
    },
    {
      "cell_type": "markdown",
      "source": [
        "## Métricas diversas"
      ],
      "metadata": {
        "id": "AbfnkTt8YYS_"
      }
    },
    {
      "cell_type": "code",
      "source": [
        "import plotly.express as px\n",
        "\n",
        "fig = px.bar(metrics_df, x='method', y=['accuracy', 'precision','recall', 'f1'], barmode='group', text_auto='.2f', title='Metrics by method')\n",
        "fig.show()"
      ],
      "metadata": {
        "colab": {
          "base_uri": "https://localhost:8080/",
          "height": 542
        },
        "id": "TsQ2Up8he5Q7",
        "outputId": "a5c1a4e6-fc15-4549-b0c7-6eed94cb3fbc"
      },
      "execution_count": 958,
      "outputs": [
        {
          "output_type": "display_data",
          "data": {
            "text/html": [
              "<html>\n",
              "<head><meta charset=\"utf-8\" /></head>\n",
              "<body>\n",
              "    <div>            <script src=\"https://cdnjs.cloudflare.com/ajax/libs/mathjax/2.7.5/MathJax.js?config=TeX-AMS-MML_SVG\"></script><script type=\"text/javascript\">if (window.MathJax) {MathJax.Hub.Config({SVG: {font: \"STIX-Web\"}});}</script>                <script type=\"text/javascript\">window.PlotlyConfig = {MathJaxConfig: 'local'};</script>\n",
              "        <script src=\"https://cdn.plot.ly/plotly-2.8.3.min.js\"></script>                <div id=\"ac599c99-d58f-4760-a6e2-cb6f59fea401\" class=\"plotly-graph-div\" style=\"height:525px; width:100%;\"></div>            <script type=\"text/javascript\">                                    window.PLOTLYENV=window.PLOTLYENV || {};                                    if (document.getElementById(\"ac599c99-d58f-4760-a6e2-cb6f59fea401\")) {                    Plotly.newPlot(                        \"ac599c99-d58f-4760-a6e2-cb6f59fea401\",                        [{\"alignmentgroup\":\"True\",\"hovertemplate\":\"variable=accuracy<br>method=%{x}<br>value=%{y}<extra></extra>\",\"legendgroup\":\"accuracy\",\"marker\":{\"color\":\"#636efa\",\"pattern\":{\"shape\":\"\"}},\"name\":\"accuracy\",\"offsetgroup\":\"accuracy\",\"orientation\":\"v\",\"showlegend\":true,\"textposition\":\"auto\",\"texttemplate\":\"%{y:.2f}\",\"x\":[\"KNN\",\"LDA\",\"QDA\",\"SVC\",\"MLP\",\"RFT\"],\"xaxis\":\"x\",\"y\":[0.7,0.716,0.528,0.752,0.628,0.768],\"yaxis\":\"y\",\"type\":\"bar\"},{\"alignmentgroup\":\"True\",\"hovertemplate\":\"variable=precision<br>method=%{x}<br>value=%{y}<extra></extra>\",\"legendgroup\":\"precision\",\"marker\":{\"color\":\"#EF553B\",\"pattern\":{\"shape\":\"\"}},\"name\":\"precision\",\"offsetgroup\":\"precision\",\"orientation\":\"v\",\"showlegend\":true,\"textposition\":\"auto\",\"texttemplate\":\"%{y:.2f}\",\"x\":[\"KNN\",\"LDA\",\"QDA\",\"SVC\",\"MLP\",\"RFT\"],\"xaxis\":\"x\",\"y\":[0.7853107344632768,0.7900552486187845,0.75,0.785,0.754601226993865,0.8010204081632653],\"yaxis\":\"y\",\"type\":\"bar\"},{\"alignmentgroup\":\"True\",\"hovertemplate\":\"variable=recall<br>method=%{x}<br>value=%{y}<extra></extra>\",\"legendgroup\":\"recall\",\"marker\":{\"color\":\"#00cc96\",\"pattern\":{\"shape\":\"\"}},\"name\":\"recall\",\"offsetgroup\":\"recall\",\"orientation\":\"v\",\"showlegend\":true,\"textposition\":\"auto\",\"texttemplate\":\"%{y:.2f}\",\"x\":[\"KNN\",\"LDA\",\"QDA\",\"SVC\",\"MLP\",\"RFT\"],\"xaxis\":\"x\",\"y\":[0.7897727272727273,0.8125,0.4943181818181818,0.8920454545454546,0.6988636363636364,0.8920454545454546],\"yaxis\":\"y\",\"type\":\"bar\"},{\"alignmentgroup\":\"True\",\"hovertemplate\":\"variable=f1<br>method=%{x}<br>value=%{y}<extra></extra>\",\"legendgroup\":\"f1\",\"marker\":{\"color\":\"#ab63fa\",\"pattern\":{\"shape\":\"\"}},\"name\":\"f1\",\"offsetgroup\":\"f1\",\"orientation\":\"v\",\"showlegend\":true,\"textposition\":\"auto\",\"texttemplate\":\"%{y:.2f}\",\"x\":[\"KNN\",\"LDA\",\"QDA\",\"SVC\",\"MLP\",\"RFT\"],\"xaxis\":\"x\",\"y\":[0.7875354107648725,0.8011204481792719,0.595890410958904,0.8351063829787234,0.7256637168141593,0.8440860215053763],\"yaxis\":\"y\",\"type\":\"bar\"}],                        {\"template\":{\"data\":{\"bar\":[{\"error_x\":{\"color\":\"#2a3f5f\"},\"error_y\":{\"color\":\"#2a3f5f\"},\"marker\":{\"line\":{\"color\":\"#E5ECF6\",\"width\":0.5},\"pattern\":{\"fillmode\":\"overlay\",\"size\":10,\"solidity\":0.2}},\"type\":\"bar\"}],\"barpolar\":[{\"marker\":{\"line\":{\"color\":\"#E5ECF6\",\"width\":0.5},\"pattern\":{\"fillmode\":\"overlay\",\"size\":10,\"solidity\":0.2}},\"type\":\"barpolar\"}],\"carpet\":[{\"aaxis\":{\"endlinecolor\":\"#2a3f5f\",\"gridcolor\":\"white\",\"linecolor\":\"white\",\"minorgridcolor\":\"white\",\"startlinecolor\":\"#2a3f5f\"},\"baxis\":{\"endlinecolor\":\"#2a3f5f\",\"gridcolor\":\"white\",\"linecolor\":\"white\",\"minorgridcolor\":\"white\",\"startlinecolor\":\"#2a3f5f\"},\"type\":\"carpet\"}],\"choropleth\":[{\"colorbar\":{\"outlinewidth\":0,\"ticks\":\"\"},\"type\":\"choropleth\"}],\"contour\":[{\"colorbar\":{\"outlinewidth\":0,\"ticks\":\"\"},\"colorscale\":[[0.0,\"#0d0887\"],[0.1111111111111111,\"#46039f\"],[0.2222222222222222,\"#7201a8\"],[0.3333333333333333,\"#9c179e\"],[0.4444444444444444,\"#bd3786\"],[0.5555555555555556,\"#d8576b\"],[0.6666666666666666,\"#ed7953\"],[0.7777777777777778,\"#fb9f3a\"],[0.8888888888888888,\"#fdca26\"],[1.0,\"#f0f921\"]],\"type\":\"contour\"}],\"contourcarpet\":[{\"colorbar\":{\"outlinewidth\":0,\"ticks\":\"\"},\"type\":\"contourcarpet\"}],\"heatmap\":[{\"colorbar\":{\"outlinewidth\":0,\"ticks\":\"\"},\"colorscale\":[[0.0,\"#0d0887\"],[0.1111111111111111,\"#46039f\"],[0.2222222222222222,\"#7201a8\"],[0.3333333333333333,\"#9c179e\"],[0.4444444444444444,\"#bd3786\"],[0.5555555555555556,\"#d8576b\"],[0.6666666666666666,\"#ed7953\"],[0.7777777777777778,\"#fb9f3a\"],[0.8888888888888888,\"#fdca26\"],[1.0,\"#f0f921\"]],\"type\":\"heatmap\"}],\"heatmapgl\":[{\"colorbar\":{\"outlinewidth\":0,\"ticks\":\"\"},\"colorscale\":[[0.0,\"#0d0887\"],[0.1111111111111111,\"#46039f\"],[0.2222222222222222,\"#7201a8\"],[0.3333333333333333,\"#9c179e\"],[0.4444444444444444,\"#bd3786\"],[0.5555555555555556,\"#d8576b\"],[0.6666666666666666,\"#ed7953\"],[0.7777777777777778,\"#fb9f3a\"],[0.8888888888888888,\"#fdca26\"],[1.0,\"#f0f921\"]],\"type\":\"heatmapgl\"}],\"histogram\":[{\"marker\":{\"pattern\":{\"fillmode\":\"overlay\",\"size\":10,\"solidity\":0.2}},\"type\":\"histogram\"}],\"histogram2d\":[{\"colorbar\":{\"outlinewidth\":0,\"ticks\":\"\"},\"colorscale\":[[0.0,\"#0d0887\"],[0.1111111111111111,\"#46039f\"],[0.2222222222222222,\"#7201a8\"],[0.3333333333333333,\"#9c179e\"],[0.4444444444444444,\"#bd3786\"],[0.5555555555555556,\"#d8576b\"],[0.6666666666666666,\"#ed7953\"],[0.7777777777777778,\"#fb9f3a\"],[0.8888888888888888,\"#fdca26\"],[1.0,\"#f0f921\"]],\"type\":\"histogram2d\"}],\"histogram2dcontour\":[{\"colorbar\":{\"outlinewidth\":0,\"ticks\":\"\"},\"colorscale\":[[0.0,\"#0d0887\"],[0.1111111111111111,\"#46039f\"],[0.2222222222222222,\"#7201a8\"],[0.3333333333333333,\"#9c179e\"],[0.4444444444444444,\"#bd3786\"],[0.5555555555555556,\"#d8576b\"],[0.6666666666666666,\"#ed7953\"],[0.7777777777777778,\"#fb9f3a\"],[0.8888888888888888,\"#fdca26\"],[1.0,\"#f0f921\"]],\"type\":\"histogram2dcontour\"}],\"mesh3d\":[{\"colorbar\":{\"outlinewidth\":0,\"ticks\":\"\"},\"type\":\"mesh3d\"}],\"parcoords\":[{\"line\":{\"colorbar\":{\"outlinewidth\":0,\"ticks\":\"\"}},\"type\":\"parcoords\"}],\"pie\":[{\"automargin\":true,\"type\":\"pie\"}],\"scatter\":[{\"marker\":{\"colorbar\":{\"outlinewidth\":0,\"ticks\":\"\"}},\"type\":\"scatter\"}],\"scatter3d\":[{\"line\":{\"colorbar\":{\"outlinewidth\":0,\"ticks\":\"\"}},\"marker\":{\"colorbar\":{\"outlinewidth\":0,\"ticks\":\"\"}},\"type\":\"scatter3d\"}],\"scattercarpet\":[{\"marker\":{\"colorbar\":{\"outlinewidth\":0,\"ticks\":\"\"}},\"type\":\"scattercarpet\"}],\"scattergeo\":[{\"marker\":{\"colorbar\":{\"outlinewidth\":0,\"ticks\":\"\"}},\"type\":\"scattergeo\"}],\"scattergl\":[{\"marker\":{\"colorbar\":{\"outlinewidth\":0,\"ticks\":\"\"}},\"type\":\"scattergl\"}],\"scattermapbox\":[{\"marker\":{\"colorbar\":{\"outlinewidth\":0,\"ticks\":\"\"}},\"type\":\"scattermapbox\"}],\"scatterpolar\":[{\"marker\":{\"colorbar\":{\"outlinewidth\":0,\"ticks\":\"\"}},\"type\":\"scatterpolar\"}],\"scatterpolargl\":[{\"marker\":{\"colorbar\":{\"outlinewidth\":0,\"ticks\":\"\"}},\"type\":\"scatterpolargl\"}],\"scatterternary\":[{\"marker\":{\"colorbar\":{\"outlinewidth\":0,\"ticks\":\"\"}},\"type\":\"scatterternary\"}],\"surface\":[{\"colorbar\":{\"outlinewidth\":0,\"ticks\":\"\"},\"colorscale\":[[0.0,\"#0d0887\"],[0.1111111111111111,\"#46039f\"],[0.2222222222222222,\"#7201a8\"],[0.3333333333333333,\"#9c179e\"],[0.4444444444444444,\"#bd3786\"],[0.5555555555555556,\"#d8576b\"],[0.6666666666666666,\"#ed7953\"],[0.7777777777777778,\"#fb9f3a\"],[0.8888888888888888,\"#fdca26\"],[1.0,\"#f0f921\"]],\"type\":\"surface\"}],\"table\":[{\"cells\":{\"fill\":{\"color\":\"#EBF0F8\"},\"line\":{\"color\":\"white\"}},\"header\":{\"fill\":{\"color\":\"#C8D4E3\"},\"line\":{\"color\":\"white\"}},\"type\":\"table\"}]},\"layout\":{\"annotationdefaults\":{\"arrowcolor\":\"#2a3f5f\",\"arrowhead\":0,\"arrowwidth\":1},\"autotypenumbers\":\"strict\",\"coloraxis\":{\"colorbar\":{\"outlinewidth\":0,\"ticks\":\"\"}},\"colorscale\":{\"diverging\":[[0,\"#8e0152\"],[0.1,\"#c51b7d\"],[0.2,\"#de77ae\"],[0.3,\"#f1b6da\"],[0.4,\"#fde0ef\"],[0.5,\"#f7f7f7\"],[0.6,\"#e6f5d0\"],[0.7,\"#b8e186\"],[0.8,\"#7fbc41\"],[0.9,\"#4d9221\"],[1,\"#276419\"]],\"sequential\":[[0.0,\"#0d0887\"],[0.1111111111111111,\"#46039f\"],[0.2222222222222222,\"#7201a8\"],[0.3333333333333333,\"#9c179e\"],[0.4444444444444444,\"#bd3786\"],[0.5555555555555556,\"#d8576b\"],[0.6666666666666666,\"#ed7953\"],[0.7777777777777778,\"#fb9f3a\"],[0.8888888888888888,\"#fdca26\"],[1.0,\"#f0f921\"]],\"sequentialminus\":[[0.0,\"#0d0887\"],[0.1111111111111111,\"#46039f\"],[0.2222222222222222,\"#7201a8\"],[0.3333333333333333,\"#9c179e\"],[0.4444444444444444,\"#bd3786\"],[0.5555555555555556,\"#d8576b\"],[0.6666666666666666,\"#ed7953\"],[0.7777777777777778,\"#fb9f3a\"],[0.8888888888888888,\"#fdca26\"],[1.0,\"#f0f921\"]]},\"colorway\":[\"#636efa\",\"#EF553B\",\"#00cc96\",\"#ab63fa\",\"#FFA15A\",\"#19d3f3\",\"#FF6692\",\"#B6E880\",\"#FF97FF\",\"#FECB52\"],\"font\":{\"color\":\"#2a3f5f\"},\"geo\":{\"bgcolor\":\"white\",\"lakecolor\":\"white\",\"landcolor\":\"#E5ECF6\",\"showlakes\":true,\"showland\":true,\"subunitcolor\":\"white\"},\"hoverlabel\":{\"align\":\"left\"},\"hovermode\":\"closest\",\"mapbox\":{\"style\":\"light\"},\"paper_bgcolor\":\"white\",\"plot_bgcolor\":\"#E5ECF6\",\"polar\":{\"angularaxis\":{\"gridcolor\":\"white\",\"linecolor\":\"white\",\"ticks\":\"\"},\"bgcolor\":\"#E5ECF6\",\"radialaxis\":{\"gridcolor\":\"white\",\"linecolor\":\"white\",\"ticks\":\"\"}},\"scene\":{\"xaxis\":{\"backgroundcolor\":\"#E5ECF6\",\"gridcolor\":\"white\",\"gridwidth\":2,\"linecolor\":\"white\",\"showbackground\":true,\"ticks\":\"\",\"zerolinecolor\":\"white\"},\"yaxis\":{\"backgroundcolor\":\"#E5ECF6\",\"gridcolor\":\"white\",\"gridwidth\":2,\"linecolor\":\"white\",\"showbackground\":true,\"ticks\":\"\",\"zerolinecolor\":\"white\"},\"zaxis\":{\"backgroundcolor\":\"#E5ECF6\",\"gridcolor\":\"white\",\"gridwidth\":2,\"linecolor\":\"white\",\"showbackground\":true,\"ticks\":\"\",\"zerolinecolor\":\"white\"}},\"shapedefaults\":{\"line\":{\"color\":\"#2a3f5f\"}},\"ternary\":{\"aaxis\":{\"gridcolor\":\"white\",\"linecolor\":\"white\",\"ticks\":\"\"},\"baxis\":{\"gridcolor\":\"white\",\"linecolor\":\"white\",\"ticks\":\"\"},\"bgcolor\":\"#E5ECF6\",\"caxis\":{\"gridcolor\":\"white\",\"linecolor\":\"white\",\"ticks\":\"\"}},\"title\":{\"x\":0.05},\"xaxis\":{\"automargin\":true,\"gridcolor\":\"white\",\"linecolor\":\"white\",\"ticks\":\"\",\"title\":{\"standoff\":15},\"zerolinecolor\":\"white\",\"zerolinewidth\":2},\"yaxis\":{\"automargin\":true,\"gridcolor\":\"white\",\"linecolor\":\"white\",\"ticks\":\"\",\"title\":{\"standoff\":15},\"zerolinecolor\":\"white\",\"zerolinewidth\":2}}},\"xaxis\":{\"anchor\":\"y\",\"domain\":[0.0,1.0],\"title\":{\"text\":\"method\"}},\"yaxis\":{\"anchor\":\"x\",\"domain\":[0.0,1.0],\"title\":{\"text\":\"value\"}},\"legend\":{\"title\":{\"text\":\"variable\"},\"tracegroupgap\":0},\"title\":{\"text\":\"Metrics by method\"},\"barmode\":\"group\"},                        {\"responsive\": true}                    ).then(function(){\n",
              "                            \n",
              "var gd = document.getElementById('ac599c99-d58f-4760-a6e2-cb6f59fea401');\n",
              "var x = new MutationObserver(function (mutations, observer) {{\n",
              "        var display = window.getComputedStyle(gd).display;\n",
              "        if (!display || display === 'none') {{\n",
              "            console.log([gd, 'removed!']);\n",
              "            Plotly.purge(gd);\n",
              "            observer.disconnect();\n",
              "        }}\n",
              "}});\n",
              "\n",
              "// Listen for the removal of the full notebook cells\n",
              "var notebookContainer = gd.closest('#notebook-container');\n",
              "if (notebookContainer) {{\n",
              "    x.observe(notebookContainer, {childList: true});\n",
              "}}\n",
              "\n",
              "// Listen for the clearing of the current output cell\n",
              "var outputEl = gd.closest('.output');\n",
              "if (outputEl) {{\n",
              "    x.observe(outputEl, {childList: true});\n",
              "}}\n",
              "\n",
              "                        })                };                            </script>        </div>\n",
              "</body>\n",
              "</html>"
            ]
          },
          "metadata": {}
        }
      ]
    },
    {
      "cell_type": "markdown",
      "source": [
        "## Matriz de Confusão"
      ],
      "metadata": {
        "id": "uF_S3PB-YbyO"
      }
    },
    {
      "cell_type": "code",
      "source": [
        "import matplotlib.pyplot as plt\n",
        "\n",
        "methods = [ ['KNN',  y_pred_knn ],\n",
        "            ['LDA',  y_pred_lda ],\n",
        "            ['QDA',  y_pred_qda ],\n",
        "            ['SVC',  y_pred_svc ],\n",
        "            ['MLP',  y_pred_mlp ],\n",
        "            ['RFT',  y_pred_rft ] ]\n",
        "for method, y_pred in methods:\n",
        "  confusion_matrix_display(y_test, y_pred, options, method, class_names, color_map)"
      ],
      "metadata": {
        "colab": {
          "base_uri": "https://localhost:8080/",
          "height": 1000
        },
        "id": "5B-k7wEmwGjV",
        "outputId": "15083479-809d-4af2-f35d-c9f140637b31"
      },
      "execution_count": 959,
      "outputs": [
        {
          "output_type": "display_data",
          "data": {
            "text/plain": [
              "<Figure size 432x288 with 2 Axes>"
            ],
            "image/png": "[encoded data removed]"
          },
          "metadata": {
            "needs_background": "light"
          }
        },
        {
          "output_type": "display_data",
          "data": {
            "text/plain": [
              "<Figure size 432x288 with 2 Axes>"
            ],
            "image/png": "[encoded data removed]"
          },
          "metadata": {
            "needs_background": "light"
          }
        },
        {
          "output_type": "display_data",
          "data": {
            "text/plain": [
              "<Figure size 432x288 with 2 Axes>"
            ],
            "image/png": "[encoded data removed]"
          },
          "metadata": {
            "needs_background": "light"
          }
        },
        {
          "output_type": "display_data",
          "data": {
            "text/plain": [
              "<Figure size 432x288 with 2 Axes>"
            ],
            "image/png": "[encoded data removed]"
          },
          "metadata": {
            "needs_background": "light"
          }
        },
        {
          "output_type": "display_data",
          "data": {
            "text/plain": [
              "<Figure size 432x288 with 2 Axes>"
            ],
            "image/png": "[encoded data removed]"
          },
          "metadata": {
            "needs_background": "light"
          }
        },
        {
          "output_type": "display_data",
          "data": {
            "text/plain": [
              "<Figure size 432x288 with 2 Axes>"
            ],
            "image/png": "[encoded data removed]"
          },
          "metadata": {
            "needs_background": "light"
          }
        },
        {
          "output_type": "display_data",
          "data": {
            "text/plain": [
              "<Figure size 432x288 with 2 Axes>"
            ],
            "image/png": "[encoded data removed]"
          },
          "metadata": {
            "needs_background": "light"
          }
        },
        {
          "output_type": "display_data",
          "data": {
            "text/plain": [
              "<Figure size 432x288 with 2 Axes>"
            ],
            "image/png": "[encoded data removed]"
          },
          "metadata": {
            "needs_background": "light"
          }
        },
        {
          "output_type": "display_data",
          "data": {
            "text/plain": [
              "<Figure size 432x288 with 2 Axes>"
            ],
            "image/png": "[encoded data removed]"
          },
          "metadata": {
            "needs_background": "light"
          }
        },
        {
          "output_type": "display_data",
          "data": {
            "text/plain": [
              "<Figure size 432x288 with 2 Axes>"
            ],
            "image/png": "[encoded data removed]"
          },
          "metadata": {
            "needs_background": "light"
          }
        },
        {
          "output_type": "display_data",
          "data": {
            "text/plain": [
              "<Figure size 432x288 with 2 Axes>"
            ],
            "image/png": "[encoded data removed]"
          },
          "metadata": {
            "needs_background": "light"
          }
        },
        {
          "output_type": "display_data",
          "data": {
            "text/plain": [
              "<Figure size 432x288 with 2 Axes>"
            ],
            "image/png": "[encoded data removed]"
          },
          "metadata": {
            "needs_background": "light"
          }
        }
      ]
    },
    {
      "cell_type": "markdown",
      "source": [
        "## Custos"
      ],
      "metadata": {
        "id": "wfGf-8cEhOAE"
      }
    },
    {
      "cell_type": "code",
      "source": [
        "import numpy as np\n",
        "\n",
        "cost_matrix = [ [0, 1], [5, 0] ]\n",
        "costs = []\n",
        "for ind in metrics_df.index:\n",
        "    cost  = np.sum(np.multiply(cost_matrix, metrics_df['confusion_matrix'][ind]))\n",
        "    costs.append(cost)\n",
        "metrics_df['cost'] = costs\n",
        "\n",
        "method_min_cost = metrics_df['method'][metrics_df['cost'].idxmin()]\n",
        "print(\"Method with the minimun cost: \", method_min_cost)"
      ],
      "metadata": {
        "id": "HlyADFgthU9I",
        "outputId": "19e75cf7-a90d-4966-cee3-6dd5b1bd8a86",
        "colab": {
          "base_uri": "https://localhost:8080/"
        }
      },
      "execution_count": 967,
      "outputs": [
        {
          "output_type": "stream",
          "name": "stdout",
          "text": [
            "Method with the minimun cost:  RFT\n"
          ]
        }
      ]
    }
  ]
}