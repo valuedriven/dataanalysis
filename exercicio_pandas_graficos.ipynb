{
  "cells": [
    {
      "cell_type": "markdown",
      "metadata": {
        "id": "view-in-github",
        "colab_type": "text"
      },
      "source": [
        "<a href=\"https://colab.research.google.com/github/valuedriven/dataanalysis/blob/master/exercicio_pandas_graficos.ipynb\" target=\"_parent\"><img src=\"https://colab.research.google.com/assets/colab-badge.svg\" alt=\"Open In Colab\"/></a>"
      ]
    },
    {
      "cell_type": "markdown",
      "metadata": {
        "id": "KsNUMgAewqvD"
      },
      "source": [
        "# Exercício\n",
        "1. Abra o arquivo consumo_alcool.xlsx de modo que a coluna país seja o índice das linhas (use a função read_excel).\n",
        "+ Determine o total de consumo de destilados em L/ano para os países listados.\n",
        "+ Determine a média de consumo de cada tipo de bebida por ano.\n",
        "+ Determine qual país é maior consumidor de cada tipo de bebida.\n",
        "+ Faça uma tabela contendo os dados apenas dos países que consomem 100 ou mais litros de cerveja por ano (Use compreensão de listas).\n",
        "+ Adicione uma coluna à tabela contendo a a porcentagem de consumo de vinho que cada país consome em relação ao total dos países pesquisados.\n",
        "+ Faça um gráfico de pizza da coluna nova coluna adicionada destacando o consumo da Austrália.\n",
        "+ Faça um gráfico do consumo dos 3 tipos de bebida versus a expectativa de vida. Dê um título ao gráfico assim como títulos para os eixos e coloque legendas para cada tipo de bebida. Você consegue observar alguma relação linear entre eles?\n",
        "+ Faça um gráfico do consumo dos 3 tipos de bebida versus a taxa de problemas cardíacos. Dê um título ao gráfico assim como títulos para os eixos e coloque legendas para cada tipo de bebida. Você consegue observar alguma relação linear entre eles?"
      ]
    },
    {
      "cell_type": "code",
      "execution_count": 3,
      "metadata": {
        "colab": {
          "base_uri": "https://localhost:8080/",
          "height": 394
        },
        "id": "BxeqGjoAwqvI",
        "outputId": "b88ffce7-96b7-48ab-9d83-597e0b28b9ff"
      },
      "outputs": [
        {
          "output_type": "execute_result",
          "data": {
            "text/plain": [
              "                 Consumo de destilados (L/ano)  Consumo de vinho (L/ano)  \\\n",
              "País                                                                       \n",
              "França                                     2.5                      63.5   \n",
              "Itália                                     0.9                      58.0   \n",
              "Suíça                                      1.7                      46.0   \n",
              "Austrália                                  1.2                      15.7   \n",
              "Grã Bretanha                               1.5                      12.2   \n",
              "Estados unidos                             2.0                       8.9   \n",
              "Rússia                                     3.8                       2.7   \n",
              "República Checa                            1.0                       1.7   \n",
              "Japão                                      2.1                       1.0   \n",
              "México                                     0.8                       0.2   \n",
              "\n",
              "                 Consumo de cerveja (L/ano)  Expectativa de vida (anos)  \\\n",
              "País                                                                      \n",
              "França                                 40.1                          78   \n",
              "Itália                                 25.1                          78   \n",
              "Suíça                                  65.0                          78   \n",
              "Austrália                             102.1                          78   \n",
              "Grã Bretanha                          100.0                          77   \n",
              "Estados unidos                         87.8                          76   \n",
              "Rússia                                 17.1                          69   \n",
              "República Checa                       140.0                          73   \n",
              "Japão                                  55.0                          79   \n",
              "México                                 50.4                          73   \n",
              "\n",
              "                 Taxa de problemas cardíacos (casos/10⁵/ano)  \n",
              "País                                                          \n",
              "França                                                  61.1  \n",
              "Itália                                                  94.1  \n",
              "Suíça                                                  106.4  \n",
              "Austrália                                              173.0  \n",
              "Grã Bretanha                                           199.7  \n",
              "Estados unidos                                         176.0  \n",
              "Rússia                                                 373.6  \n",
              "República Checa                                        283.7  \n",
              "Japão                                                   34.7  \n",
              "México                                                  36.4  "
            ],
            "text/html": [
              "\n",
              "  <div id=\"df-6a1d1461-7647-4478-b32d-35afb08c5aee\">\n",
              "    <div class=\"colab-df-container\">\n",
              "      <div>\n",
              "<style scoped>\n",
              "    .dataframe tbody tr th:only-of-type {\n",
              "        vertical-align: middle;\n",
              "    }\n",
              "\n",
              "    .dataframe tbody tr th {\n",
              "        vertical-align: top;\n",
              "    }\n",
              "\n",
              "    .dataframe thead th {\n",
              "        text-align: right;\n",
              "    }\n",
              "</style>\n",
              "<table border=\"1\" class=\"dataframe\">\n",
              "  <thead>\n",
              "    <tr style=\"text-align: right;\">\n",
              "      <th></th>\n",
              "      <th>Consumo de destilados (L/ano)</th>\n",
              "      <th>Consumo de vinho (L/ano)</th>\n",
              "      <th>Consumo de cerveja (L/ano)</th>\n",
              "      <th>Expectativa de vida (anos)</th>\n",
              "      <th>Taxa de problemas cardíacos (casos/10⁵/ano)</th>\n",
              "    </tr>\n",
              "    <tr>\n",
              "      <th>País</th>\n",
              "      <th></th>\n",
              "      <th></th>\n",
              "      <th></th>\n",
              "      <th></th>\n",
              "      <th></th>\n",
              "    </tr>\n",
              "  </thead>\n",
              "  <tbody>\n",
              "    <tr>\n",
              "      <th>França</th>\n",
              "      <td>2.5</td>\n",
              "      <td>63.5</td>\n",
              "      <td>40.1</td>\n",
              "      <td>78</td>\n",
              "      <td>61.1</td>\n",
              "    </tr>\n",
              "    <tr>\n",
              "      <th>Itália</th>\n",
              "      <td>0.9</td>\n",
              "      <td>58.0</td>\n",
              "      <td>25.1</td>\n",
              "      <td>78</td>\n",
              "      <td>94.1</td>\n",
              "    </tr>\n",
              "    <tr>\n",
              "      <th>Suíça</th>\n",
              "      <td>1.7</td>\n",
              "      <td>46.0</td>\n",
              "      <td>65.0</td>\n",
              "      <td>78</td>\n",
              "      <td>106.4</td>\n",
              "    </tr>\n",
              "    <tr>\n",
              "      <th>Austrália</th>\n",
              "      <td>1.2</td>\n",
              "      <td>15.7</td>\n",
              "      <td>102.1</td>\n",
              "      <td>78</td>\n",
              "      <td>173.0</td>\n",
              "    </tr>\n",
              "    <tr>\n",
              "      <th>Grã Bretanha</th>\n",
              "      <td>1.5</td>\n",
              "      <td>12.2</td>\n",
              "      <td>100.0</td>\n",
              "      <td>77</td>\n",
              "      <td>199.7</td>\n",
              "    </tr>\n",
              "    <tr>\n",
              "      <th>Estados unidos</th>\n",
              "      <td>2.0</td>\n",
              "      <td>8.9</td>\n",
              "      <td>87.8</td>\n",
              "      <td>76</td>\n",
              "      <td>176.0</td>\n",
              "    </tr>\n",
              "    <tr>\n",
              "      <th>Rússia</th>\n",
              "      <td>3.8</td>\n",
              "      <td>2.7</td>\n",
              "      <td>17.1</td>\n",
              "      <td>69</td>\n",
              "      <td>373.6</td>\n",
              "    </tr>\n",
              "    <tr>\n",
              "      <th>República Checa</th>\n",
              "      <td>1.0</td>\n",
              "      <td>1.7</td>\n",
              "      <td>140.0</td>\n",
              "      <td>73</td>\n",
              "      <td>283.7</td>\n",
              "    </tr>\n",
              "    <tr>\n",
              "      <th>Japão</th>\n",
              "      <td>2.1</td>\n",
              "      <td>1.0</td>\n",
              "      <td>55.0</td>\n",
              "      <td>79</td>\n",
              "      <td>34.7</td>\n",
              "    </tr>\n",
              "    <tr>\n",
              "      <th>México</th>\n",
              "      <td>0.8</td>\n",
              "      <td>0.2</td>\n",
              "      <td>50.4</td>\n",
              "      <td>73</td>\n",
              "      <td>36.4</td>\n",
              "    </tr>\n",
              "  </tbody>\n",
              "</table>\n",
              "</div>\n",
              "      <button class=\"colab-df-convert\" onclick=\"convertToInteractive('df-6a1d1461-7647-4478-b32d-35afb08c5aee')\"\n",
              "              title=\"Convert this dataframe to an interactive table.\"\n",
              "              style=\"display:none;\">\n",
              "        \n",
              "  <svg xmlns=\"http://www.w3.org/2000/svg\" height=\"24px\"viewBox=\"0 0 24 24\"\n",
              "       width=\"24px\">\n",
              "    <path d=\"M0 0h24v24H0V0z\" fill=\"none\"/>\n",
              "    <path d=\"M18.56 5.44l.94 2.06.94-2.06 2.06-.94-2.06-.94-.94-2.06-.94 2.06-2.06.94zm-11 1L8.5 8.5l.94-2.06 2.06-.94-2.06-.94L8.5 2.5l-.94 2.06-2.06.94zm10 10l.94 2.06.94-2.06 2.06-.94-2.06-.94-.94-2.06-.94 2.06-2.06.94z\"/><path d=\"M17.41 7.96l-1.37-1.37c-.4-.4-.92-.59-1.43-.59-.52 0-1.04.2-1.43.59L10.3 9.45l-7.72 7.72c-.78.78-.78 2.05 0 2.83L4 21.41c.39.39.9.59 1.41.59.51 0 1.02-.2 1.41-.59l7.78-7.78 2.81-2.81c.8-.78.8-2.07 0-2.86zM5.41 20L4 18.59l7.72-7.72 1.47 1.35L5.41 20z\"/>\n",
              "  </svg>\n",
              "      </button>\n",
              "      \n",
              "  <style>\n",
              "    .colab-df-container {\n",
              "      display:flex;\n",
              "      flex-wrap:wrap;\n",
              "      gap: 12px;\n",
              "    }\n",
              "\n",
              "    .colab-df-convert {\n",
              "      background-color: #E8F0FE;\n",
              "      border: none;\n",
              "      border-radius: 50%;\n",
              "      cursor: pointer;\n",
              "      display: none;\n",
              "      fill: #1967D2;\n",
              "      height: 32px;\n",
              "      padding: 0 0 0 0;\n",
              "      width: 32px;\n",
              "    }\n",
              "\n",
              "    .colab-df-convert:hover {\n",
              "      background-color: #E2EBFA;\n",
              "      box-shadow: 0px 1px 2px rgba(60, 64, 67, 0.3), 0px 1px 3px 1px rgba(60, 64, 67, 0.15);\n",
              "      fill: #174EA6;\n",
              "    }\n",
              "\n",
              "    [theme=dark] .colab-df-convert {\n",
              "      background-color: #3B4455;\n",
              "      fill: #D2E3FC;\n",
              "    }\n",
              "\n",
              "    [theme=dark] .colab-df-convert:hover {\n",
              "      background-color: #434B5C;\n",
              "      box-shadow: 0px 1px 3px 1px rgba(0, 0, 0, 0.15);\n",
              "      filter: drop-shadow(0px 1px 2px rgba(0, 0, 0, 0.3));\n",
              "      fill: #FFFFFF;\n",
              "    }\n",
              "  </style>\n",
              "\n",
              "      <script>\n",
              "        const buttonEl =\n",
              "          document.querySelector('#df-6a1d1461-7647-4478-b32d-35afb08c5aee button.colab-df-convert');\n",
              "        buttonEl.style.display =\n",
              "          google.colab.kernel.accessAllowed ? 'block' : 'none';\n",
              "\n",
              "        async function convertToInteractive(key) {\n",
              "          const element = document.querySelector('#df-6a1d1461-7647-4478-b32d-35afb08c5aee');\n",
              "          const dataTable =\n",
              "            await google.colab.kernel.invokeFunction('convertToInteractive',\n",
              "                                                     [key], {});\n",
              "          if (!dataTable) return;\n",
              "\n",
              "          const docLinkHtml = 'Like what you see? Visit the ' +\n",
              "            '<a target=\"_blank\" href=https://colab.research.google.com/notebooks/data_table.ipynb>data table notebook</a>'\n",
              "            + ' to learn more about interactive tables.';\n",
              "          element.innerHTML = '';\n",
              "          dataTable['output_type'] = 'display_data';\n",
              "          await google.colab.output.renderOutput(dataTable, element);\n",
              "          const docLink = document.createElement('div');\n",
              "          docLink.innerHTML = docLinkHtml;\n",
              "          element.appendChild(docLink);\n",
              "        }\n",
              "      </script>\n",
              "    </div>\n",
              "  </div>\n",
              "  "
            ]
          },
          "metadata": {},
          "execution_count": 3
        }
      ],
      "source": [
        "import pandas as pd\n",
        "df = pd.read_excel(\"consumo_alcool.xlsx\",index_col=0)\n",
        "df"
      ]
    },
    {
      "cell_type": "markdown",
      "source": [
        "Determine o total de consumo de destilados em L/ano para os países listados.\n",
        "\n"
      ],
      "metadata": {
        "id": "SAU7j5DGxEVT"
      }
    },
    {
      "cell_type": "code",
      "source": [
        "destiled_sum = df['Consumo de destilados (L/ano)'].sum()\n",
        "destiled_sum"
      ],
      "metadata": {
        "colab": {
          "base_uri": "https://localhost:8080/"
        },
        "id": "mssC_5ccxIAs",
        "outputId": "8aa91296-3545-43ac-d27e-1b0182a447f1"
      },
      "execution_count": 16,
      "outputs": [
        {
          "output_type": "execute_result",
          "data": {
            "text/plain": [
              "17.500000000000004"
            ]
          },
          "metadata": {},
          "execution_count": 16
        }
      ]
    },
    {
      "cell_type": "markdown",
      "source": [
        "Determine a média de consumo de cada tipo de bebida por ano."
      ],
      "metadata": {
        "id": "By_UO21FyLyA"
      }
    },
    {
      "cell_type": "code",
      "source": [],
      "metadata": {
        "id": "CBz3UE5ayOBw"
      },
      "execution_count": null,
      "outputs": []
    }
  ],
  "metadata": {
    "kernelspec": {
      "display_name": "Python 3",
      "language": "python",
      "name": "python3"
    },
    "language_info": {
      "codemirror_mode": {
        "name": "ipython",
        "version": 3
      },
      "file_extension": ".py",
      "mimetype": "text/x-python",
      "name": "python",
      "nbconvert_exporter": "python",
      "pygments_lexer": "ipython3",
      "version": "3.7.6"
    },
    "colab": {
      "provenance": [],
      "include_colab_link": true
    }
  },
  "nbformat": 4,
  "nbformat_minor": 0
}