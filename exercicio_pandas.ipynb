{
  "nbformat": 4,
  "nbformat_minor": 0,
  "metadata": {
    "colab": {
      "provenance": [],
      "authorship_tag": "ABX9TyO0ZTwSZDoZiKTORByTcHMg",
      "include_colab_link": true
    },
    "kernelspec": {
      "name": "python3",
      "display_name": "Python 3"
    },
    "language_info": {
      "name": "python"
    }
  },
  "cells": [
    {
      "cell_type": "markdown",
      "metadata": {
        "id": "view-in-github",
        "colab_type": "text"
      },
      "source": [
        "<a href=\"https://colab.research.google.com/github/valuedriven/dataanalysis/blob/master/exercicio_pandas.ipynb\" target=\"_parent\"><img src=\"https://colab.research.google.com/assets/colab-badge.svg\" alt=\"Open In Colab\"/></a>"
      ]
    },
    {
      "cell_type": "markdown",
      "source": [
        "- Crie um DataFrame com os nomes, idades, pesos e alturas dos estudantes da turma (Arquivo IMC.csv que está no github na página da disciplina)\n",
        "- Inclua uma nova coluna no DataFrame contendo o IMC de cada estudante ()\n",
        "- Salve o DataFrame em um arquivo xlsx e abra no excel para ver o resultado\n",
        "- Crie um DataFrame contendo apenas nomes e idades\n",
        "- Crie um DataFrame contendo apenas os 5 estudantes mais altos\n",
        "- Crie um novo DataFrame ordenado pelo IMC\n",
        "- Determine quem é o estudante mais alto, quem é o mais novo e a soma dos pesos de todos os estudantes\n",
        "- Calcule a média e o desvio padrão dos valores de IMC"
      ],
      "metadata": {
        "id": "v4_75ncXAxNL"
      }
    },
    {
      "cell_type": "code",
      "execution_count": null,
      "metadata": {
        "id": "sPDKDA6_Au_e"
      },
      "outputs": [],
      "source": [
        "import pandas as pd\n",
        "\n",
        "df = pd.read_csv(\"IMC.csv\",index_col=0)"
      ]
    },
    {
      "cell_type": "code",
      "source": [
        "df[\"IMC\"] = df[\"Peso\"]/df[\"Altura\"]**2\n",
        "df"
      ],
      "metadata": {
        "colab": {
          "base_uri": "https://localhost:8080/",
          "height": 425
        },
        "id": "IwaymeuyBwMm",
        "outputId": "6bb46acc-b710-43dc-8a5a-b9d03264b826"
      },
      "execution_count": null,
      "outputs": [
        {
          "output_type": "execute_result",
          "data": {
            "text/plain": [
              "           idade  Peso  Altura        IMC\n",
              "Nome                                     \n",
              "Maria         25    50    1.62  19.051974\n",
              "Telma         27    46    1.65  16.896235\n",
              "Jéssica       19    55    1.70  19.031142\n",
              "Sílvia        20    65    1.71  22.229062\n",
              "Cláudia       19    68    1.70  23.529412\n",
              "David         21    54    1.73  18.042701\n",
              "Augusto       16    69    1.78  21.777553\n",
              "Leandro       19    74    1.80  22.839506\n",
              "Guilherme     21    60    1.76  19.369835\n",
              "Paulo         25   115    1.75  37.551020\n",
              "Vagner        27    72    1.72  24.337480"
            ],
            "text/html": [
              "\n",
              "  <div id=\"df-998081d1-04b8-4135-a694-fa4516417a9b\">\n",
              "    <div class=\"colab-df-container\">\n",
              "      <div>\n",
              "<style scoped>\n",
              "    .dataframe tbody tr th:only-of-type {\n",
              "        vertical-align: middle;\n",
              "    }\n",
              "\n",
              "    .dataframe tbody tr th {\n",
              "        vertical-align: top;\n",
              "    }\n",
              "\n",
              "    .dataframe thead th {\n",
              "        text-align: right;\n",
              "    }\n",
              "</style>\n",
              "<table border=\"1\" class=\"dataframe\">\n",
              "  <thead>\n",
              "    <tr style=\"text-align: right;\">\n",
              "      <th></th>\n",
              "      <th>idade</th>\n",
              "      <th>Peso</th>\n",
              "      <th>Altura</th>\n",
              "      <th>IMC</th>\n",
              "    </tr>\n",
              "    <tr>\n",
              "      <th>Nome</th>\n",
              "      <th></th>\n",
              "      <th></th>\n",
              "      <th></th>\n",
              "      <th></th>\n",
              "    </tr>\n",
              "  </thead>\n",
              "  <tbody>\n",
              "    <tr>\n",
              "      <th>Maria</th>\n",
              "      <td>25</td>\n",
              "      <td>50</td>\n",
              "      <td>1.62</td>\n",
              "      <td>19.051974</td>\n",
              "    </tr>\n",
              "    <tr>\n",
              "      <th>Telma</th>\n",
              "      <td>27</td>\n",
              "      <td>46</td>\n",
              "      <td>1.65</td>\n",
              "      <td>16.896235</td>\n",
              "    </tr>\n",
              "    <tr>\n",
              "      <th>Jéssica</th>\n",
              "      <td>19</td>\n",
              "      <td>55</td>\n",
              "      <td>1.70</td>\n",
              "      <td>19.031142</td>\n",
              "    </tr>\n",
              "    <tr>\n",
              "      <th>Sílvia</th>\n",
              "      <td>20</td>\n",
              "      <td>65</td>\n",
              "      <td>1.71</td>\n",
              "      <td>22.229062</td>\n",
              "    </tr>\n",
              "    <tr>\n",
              "      <th>Cláudia</th>\n",
              "      <td>19</td>\n",
              "      <td>68</td>\n",
              "      <td>1.70</td>\n",
              "      <td>23.529412</td>\n",
              "    </tr>\n",
              "    <tr>\n",
              "      <th>David</th>\n",
              "      <td>21</td>\n",
              "      <td>54</td>\n",
              "      <td>1.73</td>\n",
              "      <td>18.042701</td>\n",
              "    </tr>\n",
              "    <tr>\n",
              "      <th>Augusto</th>\n",
              "      <td>16</td>\n",
              "      <td>69</td>\n",
              "      <td>1.78</td>\n",
              "      <td>21.777553</td>\n",
              "    </tr>\n",
              "    <tr>\n",
              "      <th>Leandro</th>\n",
              "      <td>19</td>\n",
              "      <td>74</td>\n",
              "      <td>1.80</td>\n",
              "      <td>22.839506</td>\n",
              "    </tr>\n",
              "    <tr>\n",
              "      <th>Guilherme</th>\n",
              "      <td>21</td>\n",
              "      <td>60</td>\n",
              "      <td>1.76</td>\n",
              "      <td>19.369835</td>\n",
              "    </tr>\n",
              "    <tr>\n",
              "      <th>Paulo</th>\n",
              "      <td>25</td>\n",
              "      <td>115</td>\n",
              "      <td>1.75</td>\n",
              "      <td>37.551020</td>\n",
              "    </tr>\n",
              "    <tr>\n",
              "      <th>Vagner</th>\n",
              "      <td>27</td>\n",
              "      <td>72</td>\n",
              "      <td>1.72</td>\n",
              "      <td>24.337480</td>\n",
              "    </tr>\n",
              "  </tbody>\n",
              "</table>\n",
              "</div>\n",
              "      <button class=\"colab-df-convert\" onclick=\"convertToInteractive('df-998081d1-04b8-4135-a694-fa4516417a9b')\"\n",
              "              title=\"Convert this dataframe to an interactive table.\"\n",
              "              style=\"display:none;\">\n",
              "        \n",
              "  <svg xmlns=\"http://www.w3.org/2000/svg\" height=\"24px\"viewBox=\"0 0 24 24\"\n",
              "       width=\"24px\">\n",
              "    <path d=\"M0 0h24v24H0V0z\" fill=\"none\"/>\n",
              "    <path d=\"M18.56 5.44l.94 2.06.94-2.06 2.06-.94-2.06-.94-.94-2.06-.94 2.06-2.06.94zm-11 1L8.5 8.5l.94-2.06 2.06-.94-2.06-.94L8.5 2.5l-.94 2.06-2.06.94zm10 10l.94 2.06.94-2.06 2.06-.94-2.06-.94-.94-2.06-.94 2.06-2.06.94z\"/><path d=\"M17.41 7.96l-1.37-1.37c-.4-.4-.92-.59-1.43-.59-.52 0-1.04.2-1.43.59L10.3 9.45l-7.72 7.72c-.78.78-.78 2.05 0 2.83L4 21.41c.39.39.9.59 1.41.59.51 0 1.02-.2 1.41-.59l7.78-7.78 2.81-2.81c.8-.78.8-2.07 0-2.86zM5.41 20L4 18.59l7.72-7.72 1.47 1.35L5.41 20z\"/>\n",
              "  </svg>\n",
              "      </button>\n",
              "      \n",
              "  <style>\n",
              "    .colab-df-container {\n",
              "      display:flex;\n",
              "      flex-wrap:wrap;\n",
              "      gap: 12px;\n",
              "    }\n",
              "\n",
              "    .colab-df-convert {\n",
              "      background-color: #E8F0FE;\n",
              "      border: none;\n",
              "      border-radius: 50%;\n",
              "      cursor: pointer;\n",
              "      display: none;\n",
              "      fill: #1967D2;\n",
              "      height: 32px;\n",
              "      padding: 0 0 0 0;\n",
              "      width: 32px;\n",
              "    }\n",
              "\n",
              "    .colab-df-convert:hover {\n",
              "      background-color: #E2EBFA;\n",
              "      box-shadow: 0px 1px 2px rgba(60, 64, 67, 0.3), 0px 1px 3px 1px rgba(60, 64, 67, 0.15);\n",
              "      fill: #174EA6;\n",
              "    }\n",
              "\n",
              "    [theme=dark] .colab-df-convert {\n",
              "      background-color: #3B4455;\n",
              "      fill: #D2E3FC;\n",
              "    }\n",
              "\n",
              "    [theme=dark] .colab-df-convert:hover {\n",
              "      background-color: #434B5C;\n",
              "      box-shadow: 0px 1px 3px 1px rgba(0, 0, 0, 0.15);\n",
              "      filter: drop-shadow(0px 1px 2px rgba(0, 0, 0, 0.3));\n",
              "      fill: #FFFFFF;\n",
              "    }\n",
              "  </style>\n",
              "\n",
              "      <script>\n",
              "        const buttonEl =\n",
              "          document.querySelector('#df-998081d1-04b8-4135-a694-fa4516417a9b button.colab-df-convert');\n",
              "        buttonEl.style.display =\n",
              "          google.colab.kernel.accessAllowed ? 'block' : 'none';\n",
              "\n",
              "        async function convertToInteractive(key) {\n",
              "          const element = document.querySelector('#df-998081d1-04b8-4135-a694-fa4516417a9b');\n",
              "          const dataTable =\n",
              "            await google.colab.kernel.invokeFunction('convertToInteractive',\n",
              "                                                     [key], {});\n",
              "          if (!dataTable) return;\n",
              "\n",
              "          const docLinkHtml = 'Like what you see? Visit the ' +\n",
              "            '<a target=\"_blank\" href=https://colab.research.google.com/notebooks/data_table.ipynb>data table notebook</a>'\n",
              "            + ' to learn more about interactive tables.';\n",
              "          element.innerHTML = '';\n",
              "          dataTable['output_type'] = 'display_data';\n",
              "          await google.colab.output.renderOutput(dataTable, element);\n",
              "          const docLink = document.createElement('div');\n",
              "          docLink.innerHTML = docLinkHtml;\n",
              "          element.appendChild(docLink);\n",
              "        }\n",
              "      </script>\n",
              "    </div>\n",
              "  </div>\n",
              "  "
            ]
          },
          "metadata": {},
          "execution_count": 40
        }
      ]
    },
    {
      "cell_type": "code",
      "source": [
        "df.to_excel(\"IMC.xlsx\")"
      ],
      "metadata": {
        "id": "lTlq7dx3B49A"
      },
      "execution_count": null,
      "outputs": []
    },
    {
      "cell_type": "code",
      "source": [
        "df2 = df.loc[:,\"idade\"]\n",
        "df2"
      ],
      "metadata": {
        "colab": {
          "base_uri": "https://localhost:8080/"
        },
        "id": "xuYu3fKjCDhK",
        "outputId": "89155e72-ee42-4325-cf4f-b0bd2f47ded9"
      },
      "execution_count": null,
      "outputs": [
        {
          "output_type": "execute_result",
          "data": {
            "text/plain": [
              "Nome\n",
              "Maria        25\n",
              "Telma        27\n",
              "Jéssica      19\n",
              "Sílvia       20\n",
              "Cláudia      19\n",
              "David        21\n",
              "Augusto      16\n",
              "Leandro      19\n",
              "Guilherme    21\n",
              "Paulo        25\n",
              "Vagner       27\n",
              "Name: idade, dtype: int64"
            ]
          },
          "metadata": {},
          "execution_count": 42
        }
      ]
    },
    {
      "cell_type": "code",
      "source": [
        "df2 = df.loc[:,\"idade\"]\n"
      ],
      "metadata": {
        "id": "a4N-VqF_Fgfj"
      },
      "execution_count": null,
      "outputs": []
    },
    {
      "cell_type": "code",
      "source": [
        "df_sort_tall = df.sort_values(by=\"Altura\", ascending=False)\n",
        "df_sort_tall.head(5)\n"
      ],
      "metadata": {
        "colab": {
          "base_uri": "https://localhost:8080/",
          "height": 237
        },
        "id": "4ZP42jvIH-LV",
        "outputId": "f60a99c6-ec98-43b7-ed9e-13c1a179687b"
      },
      "execution_count": null,
      "outputs": [
        {
          "output_type": "execute_result",
          "data": {
            "text/plain": [
              "           idade  Peso  Altura        IMC\n",
              "Nome                                     \n",
              "Leandro       19    74    1.80  22.839506\n",
              "Augusto       16    69    1.78  21.777553\n",
              "Guilherme     21    60    1.76  19.369835\n",
              "Paulo         25   115    1.75  37.551020\n",
              "David         21    54    1.73  18.042701"
            ],
            "text/html": [
              "\n",
              "  <div id=\"df-60d7866a-00cf-446f-a6a7-1f3ed84b032b\">\n",
              "    <div class=\"colab-df-container\">\n",
              "      <div>\n",
              "<style scoped>\n",
              "    .dataframe tbody tr th:only-of-type {\n",
              "        vertical-align: middle;\n",
              "    }\n",
              "\n",
              "    .dataframe tbody tr th {\n",
              "        vertical-align: top;\n",
              "    }\n",
              "\n",
              "    .dataframe thead th {\n",
              "        text-align: right;\n",
              "    }\n",
              "</style>\n",
              "<table border=\"1\" class=\"dataframe\">\n",
              "  <thead>\n",
              "    <tr style=\"text-align: right;\">\n",
              "      <th></th>\n",
              "      <th>idade</th>\n",
              "      <th>Peso</th>\n",
              "      <th>Altura</th>\n",
              "      <th>IMC</th>\n",
              "    </tr>\n",
              "    <tr>\n",
              "      <th>Nome</th>\n",
              "      <th></th>\n",
              "      <th></th>\n",
              "      <th></th>\n",
              "      <th></th>\n",
              "    </tr>\n",
              "  </thead>\n",
              "  <tbody>\n",
              "    <tr>\n",
              "      <th>Leandro</th>\n",
              "      <td>19</td>\n",
              "      <td>74</td>\n",
              "      <td>1.80</td>\n",
              "      <td>22.839506</td>\n",
              "    </tr>\n",
              "    <tr>\n",
              "      <th>Augusto</th>\n",
              "      <td>16</td>\n",
              "      <td>69</td>\n",
              "      <td>1.78</td>\n",
              "      <td>21.777553</td>\n",
              "    </tr>\n",
              "    <tr>\n",
              "      <th>Guilherme</th>\n",
              "      <td>21</td>\n",
              "      <td>60</td>\n",
              "      <td>1.76</td>\n",
              "      <td>19.369835</td>\n",
              "    </tr>\n",
              "    <tr>\n",
              "      <th>Paulo</th>\n",
              "      <td>25</td>\n",
              "      <td>115</td>\n",
              "      <td>1.75</td>\n",
              "      <td>37.551020</td>\n",
              "    </tr>\n",
              "    <tr>\n",
              "      <th>David</th>\n",
              "      <td>21</td>\n",
              "      <td>54</td>\n",
              "      <td>1.73</td>\n",
              "      <td>18.042701</td>\n",
              "    </tr>\n",
              "  </tbody>\n",
              "</table>\n",
              "</div>\n",
              "      <button class=\"colab-df-convert\" onclick=\"convertToInteractive('df-60d7866a-00cf-446f-a6a7-1f3ed84b032b')\"\n",
              "              title=\"Convert this dataframe to an interactive table.\"\n",
              "              style=\"display:none;\">\n",
              "        \n",
              "  <svg xmlns=\"http://www.w3.org/2000/svg\" height=\"24px\"viewBox=\"0 0 24 24\"\n",
              "       width=\"24px\">\n",
              "    <path d=\"M0 0h24v24H0V0z\" fill=\"none\"/>\n",
              "    <path d=\"M18.56 5.44l.94 2.06.94-2.06 2.06-.94-2.06-.94-.94-2.06-.94 2.06-2.06.94zm-11 1L8.5 8.5l.94-2.06 2.06-.94-2.06-.94L8.5 2.5l-.94 2.06-2.06.94zm10 10l.94 2.06.94-2.06 2.06-.94-2.06-.94-.94-2.06-.94 2.06-2.06.94z\"/><path d=\"M17.41 7.96l-1.37-1.37c-.4-.4-.92-.59-1.43-.59-.52 0-1.04.2-1.43.59L10.3 9.45l-7.72 7.72c-.78.78-.78 2.05 0 2.83L4 21.41c.39.39.9.59 1.41.59.51 0 1.02-.2 1.41-.59l7.78-7.78 2.81-2.81c.8-.78.8-2.07 0-2.86zM5.41 20L4 18.59l7.72-7.72 1.47 1.35L5.41 20z\"/>\n",
              "  </svg>\n",
              "      </button>\n",
              "      \n",
              "  <style>\n",
              "    .colab-df-container {\n",
              "      display:flex;\n",
              "      flex-wrap:wrap;\n",
              "      gap: 12px;\n",
              "    }\n",
              "\n",
              "    .colab-df-convert {\n",
              "      background-color: #E8F0FE;\n",
              "      border: none;\n",
              "      border-radius: 50%;\n",
              "      cursor: pointer;\n",
              "      display: none;\n",
              "      fill: #1967D2;\n",
              "      height: 32px;\n",
              "      padding: 0 0 0 0;\n",
              "      width: 32px;\n",
              "    }\n",
              "\n",
              "    .colab-df-convert:hover {\n",
              "      background-color: #E2EBFA;\n",
              "      box-shadow: 0px 1px 2px rgba(60, 64, 67, 0.3), 0px 1px 3px 1px rgba(60, 64, 67, 0.15);\n",
              "      fill: #174EA6;\n",
              "    }\n",
              "\n",
              "    [theme=dark] .colab-df-convert {\n",
              "      background-color: #3B4455;\n",
              "      fill: #D2E3FC;\n",
              "    }\n",
              "\n",
              "    [theme=dark] .colab-df-convert:hover {\n",
              "      background-color: #434B5C;\n",
              "      box-shadow: 0px 1px 3px 1px rgba(0, 0, 0, 0.15);\n",
              "      filter: drop-shadow(0px 1px 2px rgba(0, 0, 0, 0.3));\n",
              "      fill: #FFFFFF;\n",
              "    }\n",
              "  </style>\n",
              "\n",
              "      <script>\n",
              "        const buttonEl =\n",
              "          document.querySelector('#df-60d7866a-00cf-446f-a6a7-1f3ed84b032b button.colab-df-convert');\n",
              "        buttonEl.style.display =\n",
              "          google.colab.kernel.accessAllowed ? 'block' : 'none';\n",
              "\n",
              "        async function convertToInteractive(key) {\n",
              "          const element = document.querySelector('#df-60d7866a-00cf-446f-a6a7-1f3ed84b032b');\n",
              "          const dataTable =\n",
              "            await google.colab.kernel.invokeFunction('convertToInteractive',\n",
              "                                                     [key], {});\n",
              "          if (!dataTable) return;\n",
              "\n",
              "          const docLinkHtml = 'Like what you see? Visit the ' +\n",
              "            '<a target=\"_blank\" href=https://colab.research.google.com/notebooks/data_table.ipynb>data table notebook</a>'\n",
              "            + ' to learn more about interactive tables.';\n",
              "          element.innerHTML = '';\n",
              "          dataTable['output_type'] = 'display_data';\n",
              "          await google.colab.output.renderOutput(dataTable, element);\n",
              "          const docLink = document.createElement('div');\n",
              "          docLink.innerHTML = docLinkHtml;\n",
              "          element.appendChild(docLink);\n",
              "        }\n",
              "      </script>\n",
              "    </div>\n",
              "  </div>\n",
              "  "
            ]
          },
          "metadata": {},
          "execution_count": 44
        }
      ]
    },
    {
      "cell_type": "code",
      "source": [],
      "metadata": {
        "id": "JNTrb9zSJEZ3"
      },
      "execution_count": null,
      "outputs": []
    },
    {
      "cell_type": "code",
      "source": [
        "df_sort_imc = df.sort_values(by=\"IMC\")\n",
        "df_sort_imc"
      ],
      "metadata": {
        "colab": {
          "base_uri": "https://localhost:8080/",
          "height": 425
        },
        "outputId": "ac088e8d-4f15-4f86-cdd5-8a0101ec16ed",
        "id": "5ONP4E6NJEpM"
      },
      "execution_count": null,
      "outputs": [
        {
          "output_type": "execute_result",
          "data": {
            "text/plain": [
              "           idade  Peso  Altura        IMC\n",
              "Nome                                     \n",
              "Telma         27    46    1.65  16.896235\n",
              "David         21    54    1.73  18.042701\n",
              "Jéssica       19    55    1.70  19.031142\n",
              "Maria         25    50    1.62  19.051974\n",
              "Guilherme     21    60    1.76  19.369835\n",
              "Augusto       16    69    1.78  21.777553\n",
              "Sílvia        20    65    1.71  22.229062\n",
              "Leandro       19    74    1.80  22.839506\n",
              "Cláudia       19    68    1.70  23.529412\n",
              "Vagner        27    72    1.72  24.337480\n",
              "Paulo         25   115    1.75  37.551020"
            ],
            "text/html": [
              "\n",
              "  <div id=\"df-849a60b1-226b-4c06-b4a2-5fce4227f735\">\n",
              "    <div class=\"colab-df-container\">\n",
              "      <div>\n",
              "<style scoped>\n",
              "    .dataframe tbody tr th:only-of-type {\n",
              "        vertical-align: middle;\n",
              "    }\n",
              "\n",
              "    .dataframe tbody tr th {\n",
              "        vertical-align: top;\n",
              "    }\n",
              "\n",
              "    .dataframe thead th {\n",
              "        text-align: right;\n",
              "    }\n",
              "</style>\n",
              "<table border=\"1\" class=\"dataframe\">\n",
              "  <thead>\n",
              "    <tr style=\"text-align: right;\">\n",
              "      <th></th>\n",
              "      <th>idade</th>\n",
              "      <th>Peso</th>\n",
              "      <th>Altura</th>\n",
              "      <th>IMC</th>\n",
              "    </tr>\n",
              "    <tr>\n",
              "      <th>Nome</th>\n",
              "      <th></th>\n",
              "      <th></th>\n",
              "      <th></th>\n",
              "      <th></th>\n",
              "    </tr>\n",
              "  </thead>\n",
              "  <tbody>\n",
              "    <tr>\n",
              "      <th>Telma</th>\n",
              "      <td>27</td>\n",
              "      <td>46</td>\n",
              "      <td>1.65</td>\n",
              "      <td>16.896235</td>\n",
              "    </tr>\n",
              "    <tr>\n",
              "      <th>David</th>\n",
              "      <td>21</td>\n",
              "      <td>54</td>\n",
              "      <td>1.73</td>\n",
              "      <td>18.042701</td>\n",
              "    </tr>\n",
              "    <tr>\n",
              "      <th>Jéssica</th>\n",
              "      <td>19</td>\n",
              "      <td>55</td>\n",
              "      <td>1.70</td>\n",
              "      <td>19.031142</td>\n",
              "    </tr>\n",
              "    <tr>\n",
              "      <th>Maria</th>\n",
              "      <td>25</td>\n",
              "      <td>50</td>\n",
              "      <td>1.62</td>\n",
              "      <td>19.051974</td>\n",
              "    </tr>\n",
              "    <tr>\n",
              "      <th>Guilherme</th>\n",
              "      <td>21</td>\n",
              "      <td>60</td>\n",
              "      <td>1.76</td>\n",
              "      <td>19.369835</td>\n",
              "    </tr>\n",
              "    <tr>\n",
              "      <th>Augusto</th>\n",
              "      <td>16</td>\n",
              "      <td>69</td>\n",
              "      <td>1.78</td>\n",
              "      <td>21.777553</td>\n",
              "    </tr>\n",
              "    <tr>\n",
              "      <th>Sílvia</th>\n",
              "      <td>20</td>\n",
              "      <td>65</td>\n",
              "      <td>1.71</td>\n",
              "      <td>22.229062</td>\n",
              "    </tr>\n",
              "    <tr>\n",
              "      <th>Leandro</th>\n",
              "      <td>19</td>\n",
              "      <td>74</td>\n",
              "      <td>1.80</td>\n",
              "      <td>22.839506</td>\n",
              "    </tr>\n",
              "    <tr>\n",
              "      <th>Cláudia</th>\n",
              "      <td>19</td>\n",
              "      <td>68</td>\n",
              "      <td>1.70</td>\n",
              "      <td>23.529412</td>\n",
              "    </tr>\n",
              "    <tr>\n",
              "      <th>Vagner</th>\n",
              "      <td>27</td>\n",
              "      <td>72</td>\n",
              "      <td>1.72</td>\n",
              "      <td>24.337480</td>\n",
              "    </tr>\n",
              "    <tr>\n",
              "      <th>Paulo</th>\n",
              "      <td>25</td>\n",
              "      <td>115</td>\n",
              "      <td>1.75</td>\n",
              "      <td>37.551020</td>\n",
              "    </tr>\n",
              "  </tbody>\n",
              "</table>\n",
              "</div>\n",
              "      <button class=\"colab-df-convert\" onclick=\"convertToInteractive('df-849a60b1-226b-4c06-b4a2-5fce4227f735')\"\n",
              "              title=\"Convert this dataframe to an interactive table.\"\n",
              "              style=\"display:none;\">\n",
              "        \n",
              "  <svg xmlns=\"http://www.w3.org/2000/svg\" height=\"24px\"viewBox=\"0 0 24 24\"\n",
              "       width=\"24px\">\n",
              "    <path d=\"M0 0h24v24H0V0z\" fill=\"none\"/>\n",
              "    <path d=\"M18.56 5.44l.94 2.06.94-2.06 2.06-.94-2.06-.94-.94-2.06-.94 2.06-2.06.94zm-11 1L8.5 8.5l.94-2.06 2.06-.94-2.06-.94L8.5 2.5l-.94 2.06-2.06.94zm10 10l.94 2.06.94-2.06 2.06-.94-2.06-.94-.94-2.06-.94 2.06-2.06.94z\"/><path d=\"M17.41 7.96l-1.37-1.37c-.4-.4-.92-.59-1.43-.59-.52 0-1.04.2-1.43.59L10.3 9.45l-7.72 7.72c-.78.78-.78 2.05 0 2.83L4 21.41c.39.39.9.59 1.41.59.51 0 1.02-.2 1.41-.59l7.78-7.78 2.81-2.81c.8-.78.8-2.07 0-2.86zM5.41 20L4 18.59l7.72-7.72 1.47 1.35L5.41 20z\"/>\n",
              "  </svg>\n",
              "      </button>\n",
              "      \n",
              "  <style>\n",
              "    .colab-df-container {\n",
              "      display:flex;\n",
              "      flex-wrap:wrap;\n",
              "      gap: 12px;\n",
              "    }\n",
              "\n",
              "    .colab-df-convert {\n",
              "      background-color: #E8F0FE;\n",
              "      border: none;\n",
              "      border-radius: 50%;\n",
              "      cursor: pointer;\n",
              "      display: none;\n",
              "      fill: #1967D2;\n",
              "      height: 32px;\n",
              "      padding: 0 0 0 0;\n",
              "      width: 32px;\n",
              "    }\n",
              "\n",
              "    .colab-df-convert:hover {\n",
              "      background-color: #E2EBFA;\n",
              "      box-shadow: 0px 1px 2px rgba(60, 64, 67, 0.3), 0px 1px 3px 1px rgba(60, 64, 67, 0.15);\n",
              "      fill: #174EA6;\n",
              "    }\n",
              "\n",
              "    [theme=dark] .colab-df-convert {\n",
              "      background-color: #3B4455;\n",
              "      fill: #D2E3FC;\n",
              "    }\n",
              "\n",
              "    [theme=dark] .colab-df-convert:hover {\n",
              "      background-color: #434B5C;\n",
              "      box-shadow: 0px 1px 3px 1px rgba(0, 0, 0, 0.15);\n",
              "      filter: drop-shadow(0px 1px 2px rgba(0, 0, 0, 0.3));\n",
              "      fill: #FFFFFF;\n",
              "    }\n",
              "  </style>\n",
              "\n",
              "      <script>\n",
              "        const buttonEl =\n",
              "          document.querySelector('#df-849a60b1-226b-4c06-b4a2-5fce4227f735 button.colab-df-convert');\n",
              "        buttonEl.style.display =\n",
              "          google.colab.kernel.accessAllowed ? 'block' : 'none';\n",
              "\n",
              "        async function convertToInteractive(key) {\n",
              "          const element = document.querySelector('#df-849a60b1-226b-4c06-b4a2-5fce4227f735');\n",
              "          const dataTable =\n",
              "            await google.colab.kernel.invokeFunction('convertToInteractive',\n",
              "                                                     [key], {});\n",
              "          if (!dataTable) return;\n",
              "\n",
              "          const docLinkHtml = 'Like what you see? Visit the ' +\n",
              "            '<a target=\"_blank\" href=https://colab.research.google.com/notebooks/data_table.ipynb>data table notebook</a>'\n",
              "            + ' to learn more about interactive tables.';\n",
              "          element.innerHTML = '';\n",
              "          dataTable['output_type'] = 'display_data';\n",
              "          await google.colab.output.renderOutput(dataTable, element);\n",
              "          const docLink = document.createElement('div');\n",
              "          docLink.innerHTML = docLinkHtml;\n",
              "          element.appendChild(docLink);\n",
              "        }\n",
              "      </script>\n",
              "    </div>\n",
              "  </div>\n",
              "  "
            ]
          },
          "metadata": {},
          "execution_count": 45
        }
      ]
    },
    {
      "cell_type": "code",
      "source": [
        "df[\"Altura\"].idxmax()\n"
      ],
      "metadata": {
        "colab": {
          "base_uri": "https://localhost:8080/",
          "height": 36
        },
        "outputId": "09144a41-614c-42f2-bbd7-b9532dcb502f",
        "id": "XIqEROcKJsUS"
      },
      "execution_count": null,
      "outputs": [
        {
          "output_type": "execute_result",
          "data": {
            "text/plain": [
              "'Leandro'"
            ],
            "application/vnd.google.colaboratory.intrinsic+json": {
              "type": "string"
            }
          },
          "metadata": {},
          "execution_count": 46
        }
      ]
    },
    {
      "cell_type": "code",
      "source": [
        "df[\"idade\"].idxmin()"
      ],
      "metadata": {
        "colab": {
          "base_uri": "https://localhost:8080/",
          "height": 36
        },
        "id": "VdyA9At5LdhS",
        "outputId": "9c41585b-18d5-4c46-9010-8a29637582b1"
      },
      "execution_count": null,
      "outputs": [
        {
          "output_type": "execute_result",
          "data": {
            "text/plain": [
              "'Augusto'"
            ],
            "application/vnd.google.colaboratory.intrinsic+json": {
              "type": "string"
            }
          },
          "metadata": {},
          "execution_count": 47
        }
      ]
    },
    {
      "cell_type": "code",
      "source": [
        "df[\"Peso\"].sum()"
      ],
      "metadata": {
        "colab": {
          "base_uri": "https://localhost:8080/"
        },
        "id": "0R25QAB0LoY5",
        "outputId": "692a15e0-4d35-4f59-bf74-a0c04828bcca"
      },
      "execution_count": null,
      "outputs": [
        {
          "output_type": "execute_result",
          "data": {
            "text/plain": [
              "728"
            ]
          },
          "metadata": {},
          "execution_count": 48
        }
      ]
    },
    {
      "cell_type": "code",
      "source": [
        "df[\"IMC\"].mean()"
      ],
      "metadata": {
        "colab": {
          "base_uri": "https://localhost:8080/"
        },
        "outputId": "5d7f5d18-92a8-450a-a668-f09295c234ee",
        "id": "-SVoR6LgL0F6"
      },
      "execution_count": null,
      "outputs": [
        {
          "output_type": "execute_result",
          "data": {
            "text/plain": [
              "22.24144725802304"
            ]
          },
          "metadata": {},
          "execution_count": 49
        }
      ]
    },
    {
      "cell_type": "code",
      "source": [
        "df[\"IMC\"].std(ddof=1)"
      ],
      "metadata": {
        "colab": {
          "base_uri": "https://localhost:8080/"
        },
        "id": "CNN9M3LjL6HR",
        "outputId": "e163ff07-25b8-4013-9d12-963665b6b8c6"
      },
      "execution_count": null,
      "outputs": [
        {
          "output_type": "execute_result",
          "data": {
            "text/plain": [
              "5.620800506702645"
            ]
          },
          "metadata": {},
          "execution_count": 50
        }
      ]
    }
  ]
}