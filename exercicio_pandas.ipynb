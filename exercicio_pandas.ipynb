{
  "nbformat": 4,
  "nbformat_minor": 0,
  "metadata": {
    "colab": {
      "provenance": [],
      "authorship_tag": "ABX9TyMDQpjzJ8Iw9S0BnR0n743S",
      "include_colab_link": true
    },
    "kernelspec": {
      "name": "python3",
      "display_name": "Python 3"
    },
    "language_info": {
      "name": "python"
    }
  },
  "cells": [
    {
      "cell_type": "markdown",
      "metadata": {
        "id": "view-in-github",
        "colab_type": "text"
      },
      "source": [
        "<a href=\"https://colab.research.google.com/github/valuedriven/dataanalysis/blob/master/exercicio_pandas.ipynb\" target=\"_parent\"><img src=\"https://colab.research.google.com/assets/colab-badge.svg\" alt=\"Open In Colab\"/></a>"
      ]
    },
    {
      "cell_type": "markdown",
      "source": [
        "# Exercício Pandas\n",
        "\n",
        "1. Crie um DataFrame com os nomes, idades, pesos e alturas dos estudantes da turma (Arquivo IMC.csv que está no github na página da disciplina).\n",
        "2. Inclua uma nova coluna no DataFrame contendo o IMC de cada estudante ().\n",
        "3. Salve o DataFrame em um arquivo xlsx e abra no excel para ver o resultado.\n",
        "4. Crie um DataFrame contendo apenas nomes e idades.\n",
        "5. Crie um DataFrame contendo apenas os 5 estudantes mais altos.\n",
        "6. Crie um novo DataFrame ordenado pelo IMC.\n",
        "7. Determine quem é o estudante mais alto, quem é o mais novo e a soma dos pesos de todos os estudantes.\n",
        "8. Calcule a média e o desvio padrão dos valores de IMC."
      ],
      "metadata": {
        "id": "v4_75ncXAxNL"
      }
    },
    {
      "cell_type": "markdown",
      "source": [
        "1. Crie um DataFrame com os nomes, idades, pesos e alturas dos estudantes da turma (Arquivo IMC.csv que está no github na página da disciplina)\n"
      ],
      "metadata": {
        "id": "iwAD91o2poyH"
      }
    },
    {
      "cell_type": "code",
      "execution_count": 3,
      "metadata": {
        "id": "sPDKDA6_Au_e",
        "colab": {
          "base_uri": "https://localhost:8080/",
          "height": 426
        },
        "outputId": "01391797-8a98-43a6-ec52-380c4f5f1a36"
      },
      "outputs": [
        {
          "output_type": "execute_result",
          "data": {
            "text/plain": [
              "           Idade  Peso  Altura\n",
              "Nome                          \n",
              "Maria         25    50    1.62\n",
              "Telma         27    46    1.65\n",
              "Jéssica       19    55    1.70\n",
              "Sílvia        20    65    1.71\n",
              "Cláudia       19    68    1.70\n",
              "David         21    54    1.73\n",
              "Augusto       16    69    1.78\n",
              "Leandro       19    74    1.80\n",
              "Guilherme     21    60    1.76\n",
              "Paulo         25   115    1.75\n",
              "Vagner        27    72    1.72"
            ],
            "text/html": [
              "\n",
              "  <div id=\"df-7f278268-cddb-4c21-a0cf-82272efd57ae\">\n",
              "    <div class=\"colab-df-container\">\n",
              "      <div>\n",
              "<style scoped>\n",
              "    .dataframe tbody tr th:only-of-type {\n",
              "        vertical-align: middle;\n",
              "    }\n",
              "\n",
              "    .dataframe tbody tr th {\n",
              "        vertical-align: top;\n",
              "    }\n",
              "\n",
              "    .dataframe thead th {\n",
              "        text-align: right;\n",
              "    }\n",
              "</style>\n",
              "<table border=\"1\" class=\"dataframe\">\n",
              "  <thead>\n",
              "    <tr style=\"text-align: right;\">\n",
              "      <th></th>\n",
              "      <th>Idade</th>\n",
              "      <th>Peso</th>\n",
              "      <th>Altura</th>\n",
              "    </tr>\n",
              "    <tr>\n",
              "      <th>Nome</th>\n",
              "      <th></th>\n",
              "      <th></th>\n",
              "      <th></th>\n",
              "    </tr>\n",
              "  </thead>\n",
              "  <tbody>\n",
              "    <tr>\n",
              "      <th>Maria</th>\n",
              "      <td>25</td>\n",
              "      <td>50</td>\n",
              "      <td>1.62</td>\n",
              "    </tr>\n",
              "    <tr>\n",
              "      <th>Telma</th>\n",
              "      <td>27</td>\n",
              "      <td>46</td>\n",
              "      <td>1.65</td>\n",
              "    </tr>\n",
              "    <tr>\n",
              "      <th>Jéssica</th>\n",
              "      <td>19</td>\n",
              "      <td>55</td>\n",
              "      <td>1.70</td>\n",
              "    </tr>\n",
              "    <tr>\n",
              "      <th>Sílvia</th>\n",
              "      <td>20</td>\n",
              "      <td>65</td>\n",
              "      <td>1.71</td>\n",
              "    </tr>\n",
              "    <tr>\n",
              "      <th>Cláudia</th>\n",
              "      <td>19</td>\n",
              "      <td>68</td>\n",
              "      <td>1.70</td>\n",
              "    </tr>\n",
              "    <tr>\n",
              "      <th>David</th>\n",
              "      <td>21</td>\n",
              "      <td>54</td>\n",
              "      <td>1.73</td>\n",
              "    </tr>\n",
              "    <tr>\n",
              "      <th>Augusto</th>\n",
              "      <td>16</td>\n",
              "      <td>69</td>\n",
              "      <td>1.78</td>\n",
              "    </tr>\n",
              "    <tr>\n",
              "      <th>Leandro</th>\n",
              "      <td>19</td>\n",
              "      <td>74</td>\n",
              "      <td>1.80</td>\n",
              "    </tr>\n",
              "    <tr>\n",
              "      <th>Guilherme</th>\n",
              "      <td>21</td>\n",
              "      <td>60</td>\n",
              "      <td>1.76</td>\n",
              "    </tr>\n",
              "    <tr>\n",
              "      <th>Paulo</th>\n",
              "      <td>25</td>\n",
              "      <td>115</td>\n",
              "      <td>1.75</td>\n",
              "    </tr>\n",
              "    <tr>\n",
              "      <th>Vagner</th>\n",
              "      <td>27</td>\n",
              "      <td>72</td>\n",
              "      <td>1.72</td>\n",
              "    </tr>\n",
              "  </tbody>\n",
              "</table>\n",
              "</div>\n",
              "      <button class=\"colab-df-convert\" onclick=\"convertToInteractive('df-7f278268-cddb-4c21-a0cf-82272efd57ae')\"\n",
              "              title=\"Convert this dataframe to an interactive table.\"\n",
              "              style=\"display:none;\">\n",
              "        \n",
              "  <svg xmlns=\"http://www.w3.org/2000/svg\" height=\"24px\"viewBox=\"0 0 24 24\"\n",
              "       width=\"24px\">\n",
              "    <path d=\"M0 0h24v24H0V0z\" fill=\"none\"/>\n",
              "    <path d=\"M18.56 5.44l.94 2.06.94-2.06 2.06-.94-2.06-.94-.94-2.06-.94 2.06-2.06.94zm-11 1L8.5 8.5l.94-2.06 2.06-.94-2.06-.94L8.5 2.5l-.94 2.06-2.06.94zm10 10l.94 2.06.94-2.06 2.06-.94-2.06-.94-.94-2.06-.94 2.06-2.06.94z\"/><path d=\"M17.41 7.96l-1.37-1.37c-.4-.4-.92-.59-1.43-.59-.52 0-1.04.2-1.43.59L10.3 9.45l-7.72 7.72c-.78.78-.78 2.05 0 2.83L4 21.41c.39.39.9.59 1.41.59.51 0 1.02-.2 1.41-.59l7.78-7.78 2.81-2.81c.8-.78.8-2.07 0-2.86zM5.41 20L4 18.59l7.72-7.72 1.47 1.35L5.41 20z\"/>\n",
              "  </svg>\n",
              "      </button>\n",
              "      \n",
              "  <style>\n",
              "    .colab-df-container {\n",
              "      display:flex;\n",
              "      flex-wrap:wrap;\n",
              "      gap: 12px;\n",
              "    }\n",
              "\n",
              "    .colab-df-convert {\n",
              "      background-color: #E8F0FE;\n",
              "      border: none;\n",
              "      border-radius: 50%;\n",
              "      cursor: pointer;\n",
              "      display: none;\n",
              "      fill: #1967D2;\n",
              "      height: 32px;\n",
              "      padding: 0 0 0 0;\n",
              "      width: 32px;\n",
              "    }\n",
              "\n",
              "    .colab-df-convert:hover {\n",
              "      background-color: #E2EBFA;\n",
              "      box-shadow: 0px 1px 2px rgba(60, 64, 67, 0.3), 0px 1px 3px 1px rgba(60, 64, 67, 0.15);\n",
              "      fill: #174EA6;\n",
              "    }\n",
              "\n",
              "    [theme=dark] .colab-df-convert {\n",
              "      background-color: #3B4455;\n",
              "      fill: #D2E3FC;\n",
              "    }\n",
              "\n",
              "    [theme=dark] .colab-df-convert:hover {\n",
              "      background-color: #434B5C;\n",
              "      box-shadow: 0px 1px 3px 1px rgba(0, 0, 0, 0.15);\n",
              "      filter: drop-shadow(0px 1px 2px rgba(0, 0, 0, 0.3));\n",
              "      fill: #FFFFFF;\n",
              "    }\n",
              "  </style>\n",
              "\n",
              "      <script>\n",
              "        const buttonEl =\n",
              "          document.querySelector('#df-7f278268-cddb-4c21-a0cf-82272efd57ae button.colab-df-convert');\n",
              "        buttonEl.style.display =\n",
              "          google.colab.kernel.accessAllowed ? 'block' : 'none';\n",
              "\n",
              "        async function convertToInteractive(key) {\n",
              "          const element = document.querySelector('#df-7f278268-cddb-4c21-a0cf-82272efd57ae');\n",
              "          const dataTable =\n",
              "            await google.colab.kernel.invokeFunction('convertToInteractive',\n",
              "                                                     [key], {});\n",
              "          if (!dataTable) return;\n",
              "\n",
              "          const docLinkHtml = 'Like what you see? Visit the ' +\n",
              "            '<a target=\"_blank\" href=https://colab.research.google.com/notebooks/data_table.ipynb>data table notebook</a>'\n",
              "            + ' to learn more about interactive tables.';\n",
              "          element.innerHTML = '';\n",
              "          dataTable['output_type'] = 'display_data';\n",
              "          await google.colab.output.renderOutput(dataTable, element);\n",
              "          const docLink = document.createElement('div');\n",
              "          docLink.innerHTML = docLinkHtml;\n",
              "          element.appendChild(docLink);\n",
              "        }\n",
              "      </script>\n",
              "    </div>\n",
              "  </div>\n",
              "  "
            ]
          },
          "metadata": {},
          "execution_count": 3
        }
      ],
      "source": [
        "import pandas as pd\n",
        "\n",
        "df = pd.read_csv(\"IMC.csv\",index_col=0)\n",
        "df"
      ]
    },
    {
      "cell_type": "markdown",
      "source": [
        "2. Inclua uma nova coluna no DataFrame contendo o IMC de cada estudante ()"
      ],
      "metadata": {
        "id": "bTlxlpYBpvIo"
      }
    },
    {
      "cell_type": "code",
      "source": [
        "df[\"IMC\"] = df[\"Peso\"]/df[\"Altura\"]**2\n",
        "df"
      ],
      "metadata": {
        "colab": {
          "base_uri": "https://localhost:8080/",
          "height": 426
        },
        "id": "IwaymeuyBwMm",
        "outputId": "189fcba2-6c68-40c4-e5c6-b6b08839da53"
      },
      "execution_count": 4,
      "outputs": [
        {
          "output_type": "execute_result",
          "data": {
            "text/plain": [
              "           Idade  Peso  Altura        IMC\n",
              "Nome                                     \n",
              "Maria         25    50    1.62  19.051974\n",
              "Telma         27    46    1.65  16.896235\n",
              "Jéssica       19    55    1.70  19.031142\n",
              "Sílvia        20    65    1.71  22.229062\n",
              "Cláudia       19    68    1.70  23.529412\n",
              "David         21    54    1.73  18.042701\n",
              "Augusto       16    69    1.78  21.777553\n",
              "Leandro       19    74    1.80  22.839506\n",
              "Guilherme     21    60    1.76  19.369835\n",
              "Paulo         25   115    1.75  37.551020\n",
              "Vagner        27    72    1.72  24.337480"
            ],
            "text/html": [
              "\n",
              "  <div id=\"df-882ebff2-eeb3-4b92-a9e4-28191ae3180c\">\n",
              "    <div class=\"colab-df-container\">\n",
              "      <div>\n",
              "<style scoped>\n",
              "    .dataframe tbody tr th:only-of-type {\n",
              "        vertical-align: middle;\n",
              "    }\n",
              "\n",
              "    .dataframe tbody tr th {\n",
              "        vertical-align: top;\n",
              "    }\n",
              "\n",
              "    .dataframe thead th {\n",
              "        text-align: right;\n",
              "    }\n",
              "</style>\n",
              "<table border=\"1\" class=\"dataframe\">\n",
              "  <thead>\n",
              "    <tr style=\"text-align: right;\">\n",
              "      <th></th>\n",
              "      <th>Idade</th>\n",
              "      <th>Peso</th>\n",
              "      <th>Altura</th>\n",
              "      <th>IMC</th>\n",
              "    </tr>\n",
              "    <tr>\n",
              "      <th>Nome</th>\n",
              "      <th></th>\n",
              "      <th></th>\n",
              "      <th></th>\n",
              "      <th></th>\n",
              "    </tr>\n",
              "  </thead>\n",
              "  <tbody>\n",
              "    <tr>\n",
              "      <th>Maria</th>\n",
              "      <td>25</td>\n",
              "      <td>50</td>\n",
              "      <td>1.62</td>\n",
              "      <td>19.051974</td>\n",
              "    </tr>\n",
              "    <tr>\n",
              "      <th>Telma</th>\n",
              "      <td>27</td>\n",
              "      <td>46</td>\n",
              "      <td>1.65</td>\n",
              "      <td>16.896235</td>\n",
              "    </tr>\n",
              "    <tr>\n",
              "      <th>Jéssica</th>\n",
              "      <td>19</td>\n",
              "      <td>55</td>\n",
              "      <td>1.70</td>\n",
              "      <td>19.031142</td>\n",
              "    </tr>\n",
              "    <tr>\n",
              "      <th>Sílvia</th>\n",
              "      <td>20</td>\n",
              "      <td>65</td>\n",
              "      <td>1.71</td>\n",
              "      <td>22.229062</td>\n",
              "    </tr>\n",
              "    <tr>\n",
              "      <th>Cláudia</th>\n",
              "      <td>19</td>\n",
              "      <td>68</td>\n",
              "      <td>1.70</td>\n",
              "      <td>23.529412</td>\n",
              "    </tr>\n",
              "    <tr>\n",
              "      <th>David</th>\n",
              "      <td>21</td>\n",
              "      <td>54</td>\n",
              "      <td>1.73</td>\n",
              "      <td>18.042701</td>\n",
              "    </tr>\n",
              "    <tr>\n",
              "      <th>Augusto</th>\n",
              "      <td>16</td>\n",
              "      <td>69</td>\n",
              "      <td>1.78</td>\n",
              "      <td>21.777553</td>\n",
              "    </tr>\n",
              "    <tr>\n",
              "      <th>Leandro</th>\n",
              "      <td>19</td>\n",
              "      <td>74</td>\n",
              "      <td>1.80</td>\n",
              "      <td>22.839506</td>\n",
              "    </tr>\n",
              "    <tr>\n",
              "      <th>Guilherme</th>\n",
              "      <td>21</td>\n",
              "      <td>60</td>\n",
              "      <td>1.76</td>\n",
              "      <td>19.369835</td>\n",
              "    </tr>\n",
              "    <tr>\n",
              "      <th>Paulo</th>\n",
              "      <td>25</td>\n",
              "      <td>115</td>\n",
              "      <td>1.75</td>\n",
              "      <td>37.551020</td>\n",
              "    </tr>\n",
              "    <tr>\n",
              "      <th>Vagner</th>\n",
              "      <td>27</td>\n",
              "      <td>72</td>\n",
              "      <td>1.72</td>\n",
              "      <td>24.337480</td>\n",
              "    </tr>\n",
              "  </tbody>\n",
              "</table>\n",
              "</div>\n",
              "      <button class=\"colab-df-convert\" onclick=\"convertToInteractive('df-882ebff2-eeb3-4b92-a9e4-28191ae3180c')\"\n",
              "              title=\"Convert this dataframe to an interactive table.\"\n",
              "              style=\"display:none;\">\n",
              "        \n",
              "  <svg xmlns=\"http://www.w3.org/2000/svg\" height=\"24px\"viewBox=\"0 0 24 24\"\n",
              "       width=\"24px\">\n",
              "    <path d=\"M0 0h24v24H0V0z\" fill=\"none\"/>\n",
              "    <path d=\"M18.56 5.44l.94 2.06.94-2.06 2.06-.94-2.06-.94-.94-2.06-.94 2.06-2.06.94zm-11 1L8.5 8.5l.94-2.06 2.06-.94-2.06-.94L8.5 2.5l-.94 2.06-2.06.94zm10 10l.94 2.06.94-2.06 2.06-.94-2.06-.94-.94-2.06-.94 2.06-2.06.94z\"/><path d=\"M17.41 7.96l-1.37-1.37c-.4-.4-.92-.59-1.43-.59-.52 0-1.04.2-1.43.59L10.3 9.45l-7.72 7.72c-.78.78-.78 2.05 0 2.83L4 21.41c.39.39.9.59 1.41.59.51 0 1.02-.2 1.41-.59l7.78-7.78 2.81-2.81c.8-.78.8-2.07 0-2.86zM5.41 20L4 18.59l7.72-7.72 1.47 1.35L5.41 20z\"/>\n",
              "  </svg>\n",
              "      </button>\n",
              "      \n",
              "  <style>\n",
              "    .colab-df-container {\n",
              "      display:flex;\n",
              "      flex-wrap:wrap;\n",
              "      gap: 12px;\n",
              "    }\n",
              "\n",
              "    .colab-df-convert {\n",
              "      background-color: #E8F0FE;\n",
              "      border: none;\n",
              "      border-radius: 50%;\n",
              "      cursor: pointer;\n",
              "      display: none;\n",
              "      fill: #1967D2;\n",
              "      height: 32px;\n",
              "      padding: 0 0 0 0;\n",
              "      width: 32px;\n",
              "    }\n",
              "\n",
              "    .colab-df-convert:hover {\n",
              "      background-color: #E2EBFA;\n",
              "      box-shadow: 0px 1px 2px rgba(60, 64, 67, 0.3), 0px 1px 3px 1px rgba(60, 64, 67, 0.15);\n",
              "      fill: #174EA6;\n",
              "    }\n",
              "\n",
              "    [theme=dark] .colab-df-convert {\n",
              "      background-color: #3B4455;\n",
              "      fill: #D2E3FC;\n",
              "    }\n",
              "\n",
              "    [theme=dark] .colab-df-convert:hover {\n",
              "      background-color: #434B5C;\n",
              "      box-shadow: 0px 1px 3px 1px rgba(0, 0, 0, 0.15);\n",
              "      filter: drop-shadow(0px 1px 2px rgba(0, 0, 0, 0.3));\n",
              "      fill: #FFFFFF;\n",
              "    }\n",
              "  </style>\n",
              "\n",
              "      <script>\n",
              "        const buttonEl =\n",
              "          document.querySelector('#df-882ebff2-eeb3-4b92-a9e4-28191ae3180c button.colab-df-convert');\n",
              "        buttonEl.style.display =\n",
              "          google.colab.kernel.accessAllowed ? 'block' : 'none';\n",
              "\n",
              "        async function convertToInteractive(key) {\n",
              "          const element = document.querySelector('#df-882ebff2-eeb3-4b92-a9e4-28191ae3180c');\n",
              "          const dataTable =\n",
              "            await google.colab.kernel.invokeFunction('convertToInteractive',\n",
              "                                                     [key], {});\n",
              "          if (!dataTable) return;\n",
              "\n",
              "          const docLinkHtml = 'Like what you see? Visit the ' +\n",
              "            '<a target=\"_blank\" href=https://colab.research.google.com/notebooks/data_table.ipynb>data table notebook</a>'\n",
              "            + ' to learn more about interactive tables.';\n",
              "          element.innerHTML = '';\n",
              "          dataTable['output_type'] = 'display_data';\n",
              "          await google.colab.output.renderOutput(dataTable, element);\n",
              "          const docLink = document.createElement('div');\n",
              "          docLink.innerHTML = docLinkHtml;\n",
              "          element.appendChild(docLink);\n",
              "        }\n",
              "      </script>\n",
              "    </div>\n",
              "  </div>\n",
              "  "
            ]
          },
          "metadata": {},
          "execution_count": 4
        }
      ]
    },
    {
      "cell_type": "markdown",
      "source": [
        "3. Salve o DataFrame em um arquivo xlsx e abra no excel para ver o resultado"
      ],
      "metadata": {
        "id": "bSz-e2W7p0SU"
      }
    },
    {
      "cell_type": "code",
      "source": [
        "df.to_excel(\"IMC.xlsx\")"
      ],
      "metadata": {
        "id": "lTlq7dx3B49A"
      },
      "execution_count": 6,
      "outputs": []
    },
    {
      "cell_type": "markdown",
      "source": [
        "4. Crie um DataFrame contendo apenas nomes e idades"
      ],
      "metadata": {
        "id": "2eL1krVpp7w1"
      }
    },
    {
      "cell_type": "code",
      "source": [
        "df2 = df.loc[:,\"Idade\"]\n",
        "df2"
      ],
      "metadata": {
        "colab": {
          "base_uri": "https://localhost:8080/"
        },
        "id": "xuYu3fKjCDhK",
        "outputId": "77ccb5ac-097a-4f35-f193-364580fc3277"
      },
      "execution_count": 8,
      "outputs": [
        {
          "output_type": "execute_result",
          "data": {
            "text/plain": [
              "Nome\n",
              "Maria        25\n",
              "Telma        27\n",
              "Jéssica      19\n",
              "Sílvia       20\n",
              "Cláudia      19\n",
              "David        21\n",
              "Augusto      16\n",
              "Leandro      19\n",
              "Guilherme    21\n",
              "Paulo        25\n",
              "Vagner       27\n",
              "Name: Idade, dtype: int64"
            ]
          },
          "metadata": {},
          "execution_count": 8
        }
      ]
    },
    {
      "cell_type": "markdown",
      "source": [
        "5. Crie um DataFrame contendo apenas os 5 estudantes mais altos."
      ],
      "metadata": {
        "id": "q_uADGgeqLFK"
      }
    },
    {
      "cell_type": "code",
      "source": [
        "df_sort_tall = df.sort_values(by=\"Altura\", ascending=False)\n",
        "df_sort_tall.head(5)\n"
      ],
      "metadata": {
        "colab": {
          "base_uri": "https://localhost:8080/",
          "height": 238
        },
        "id": "4ZP42jvIH-LV",
        "outputId": "1b8b6970-8e42-4cb2-9b4b-8c8869824174"
      },
      "execution_count": 9,
      "outputs": [
        {
          "output_type": "execute_result",
          "data": {
            "text/plain": [
              "           Idade  Peso  Altura        IMC\n",
              "Nome                                     \n",
              "Leandro       19    74    1.80  22.839506\n",
              "Augusto       16    69    1.78  21.777553\n",
              "Guilherme     21    60    1.76  19.369835\n",
              "Paulo         25   115    1.75  37.551020\n",
              "David         21    54    1.73  18.042701"
            ],
            "text/html": [
              "\n",
              "  <div id=\"df-5f83587b-8de1-422b-aaf4-531759ef3e80\">\n",
              "    <div class=\"colab-df-container\">\n",
              "      <div>\n",
              "<style scoped>\n",
              "    .dataframe tbody tr th:only-of-type {\n",
              "        vertical-align: middle;\n",
              "    }\n",
              "\n",
              "    .dataframe tbody tr th {\n",
              "        vertical-align: top;\n",
              "    }\n",
              "\n",
              "    .dataframe thead th {\n",
              "        text-align: right;\n",
              "    }\n",
              "</style>\n",
              "<table border=\"1\" class=\"dataframe\">\n",
              "  <thead>\n",
              "    <tr style=\"text-align: right;\">\n",
              "      <th></th>\n",
              "      <th>Idade</th>\n",
              "      <th>Peso</th>\n",
              "      <th>Altura</th>\n",
              "      <th>IMC</th>\n",
              "    </tr>\n",
              "    <tr>\n",
              "      <th>Nome</th>\n",
              "      <th></th>\n",
              "      <th></th>\n",
              "      <th></th>\n",
              "      <th></th>\n",
              "    </tr>\n",
              "  </thead>\n",
              "  <tbody>\n",
              "    <tr>\n",
              "      <th>Leandro</th>\n",
              "      <td>19</td>\n",
              "      <td>74</td>\n",
              "      <td>1.80</td>\n",
              "      <td>22.839506</td>\n",
              "    </tr>\n",
              "    <tr>\n",
              "      <th>Augusto</th>\n",
              "      <td>16</td>\n",
              "      <td>69</td>\n",
              "      <td>1.78</td>\n",
              "      <td>21.777553</td>\n",
              "    </tr>\n",
              "    <tr>\n",
              "      <th>Guilherme</th>\n",
              "      <td>21</td>\n",
              "      <td>60</td>\n",
              "      <td>1.76</td>\n",
              "      <td>19.369835</td>\n",
              "    </tr>\n",
              "    <tr>\n",
              "      <th>Paulo</th>\n",
              "      <td>25</td>\n",
              "      <td>115</td>\n",
              "      <td>1.75</td>\n",
              "      <td>37.551020</td>\n",
              "    </tr>\n",
              "    <tr>\n",
              "      <th>David</th>\n",
              "      <td>21</td>\n",
              "      <td>54</td>\n",
              "      <td>1.73</td>\n",
              "      <td>18.042701</td>\n",
              "    </tr>\n",
              "  </tbody>\n",
              "</table>\n",
              "</div>\n",
              "      <button class=\"colab-df-convert\" onclick=\"convertToInteractive('df-5f83587b-8de1-422b-aaf4-531759ef3e80')\"\n",
              "              title=\"Convert this dataframe to an interactive table.\"\n",
              "              style=\"display:none;\">\n",
              "        \n",
              "  <svg xmlns=\"http://www.w3.org/2000/svg\" height=\"24px\"viewBox=\"0 0 24 24\"\n",
              "       width=\"24px\">\n",
              "    <path d=\"M0 0h24v24H0V0z\" fill=\"none\"/>\n",
              "    <path d=\"M18.56 5.44l.94 2.06.94-2.06 2.06-.94-2.06-.94-.94-2.06-.94 2.06-2.06.94zm-11 1L8.5 8.5l.94-2.06 2.06-.94-2.06-.94L8.5 2.5l-.94 2.06-2.06.94zm10 10l.94 2.06.94-2.06 2.06-.94-2.06-.94-.94-2.06-.94 2.06-2.06.94z\"/><path d=\"M17.41 7.96l-1.37-1.37c-.4-.4-.92-.59-1.43-.59-.52 0-1.04.2-1.43.59L10.3 9.45l-7.72 7.72c-.78.78-.78 2.05 0 2.83L4 21.41c.39.39.9.59 1.41.59.51 0 1.02-.2 1.41-.59l7.78-7.78 2.81-2.81c.8-.78.8-2.07 0-2.86zM5.41 20L4 18.59l7.72-7.72 1.47 1.35L5.41 20z\"/>\n",
              "  </svg>\n",
              "      </button>\n",
              "      \n",
              "  <style>\n",
              "    .colab-df-container {\n",
              "      display:flex;\n",
              "      flex-wrap:wrap;\n",
              "      gap: 12px;\n",
              "    }\n",
              "\n",
              "    .colab-df-convert {\n",
              "      background-color: #E8F0FE;\n",
              "      border: none;\n",
              "      border-radius: 50%;\n",
              "      cursor: pointer;\n",
              "      display: none;\n",
              "      fill: #1967D2;\n",
              "      height: 32px;\n",
              "      padding: 0 0 0 0;\n",
              "      width: 32px;\n",
              "    }\n",
              "\n",
              "    .colab-df-convert:hover {\n",
              "      background-color: #E2EBFA;\n",
              "      box-shadow: 0px 1px 2px rgba(60, 64, 67, 0.3), 0px 1px 3px 1px rgba(60, 64, 67, 0.15);\n",
              "      fill: #174EA6;\n",
              "    }\n",
              "\n",
              "    [theme=dark] .colab-df-convert {\n",
              "      background-color: #3B4455;\n",
              "      fill: #D2E3FC;\n",
              "    }\n",
              "\n",
              "    [theme=dark] .colab-df-convert:hover {\n",
              "      background-color: #434B5C;\n",
              "      box-shadow: 0px 1px 3px 1px rgba(0, 0, 0, 0.15);\n",
              "      filter: drop-shadow(0px 1px 2px rgba(0, 0, 0, 0.3));\n",
              "      fill: #FFFFFF;\n",
              "    }\n",
              "  </style>\n",
              "\n",
              "      <script>\n",
              "        const buttonEl =\n",
              "          document.querySelector('#df-5f83587b-8de1-422b-aaf4-531759ef3e80 button.colab-df-convert');\n",
              "        buttonEl.style.display =\n",
              "          google.colab.kernel.accessAllowed ? 'block' : 'none';\n",
              "\n",
              "        async function convertToInteractive(key) {\n",
              "          const element = document.querySelector('#df-5f83587b-8de1-422b-aaf4-531759ef3e80');\n",
              "          const dataTable =\n",
              "            await google.colab.kernel.invokeFunction('convertToInteractive',\n",
              "                                                     [key], {});\n",
              "          if (!dataTable) return;\n",
              "\n",
              "          const docLinkHtml = 'Like what you see? Visit the ' +\n",
              "            '<a target=\"_blank\" href=https://colab.research.google.com/notebooks/data_table.ipynb>data table notebook</a>'\n",
              "            + ' to learn more about interactive tables.';\n",
              "          element.innerHTML = '';\n",
              "          dataTable['output_type'] = 'display_data';\n",
              "          await google.colab.output.renderOutput(dataTable, element);\n",
              "          const docLink = document.createElement('div');\n",
              "          docLink.innerHTML = docLinkHtml;\n",
              "          element.appendChild(docLink);\n",
              "        }\n",
              "      </script>\n",
              "    </div>\n",
              "  </div>\n",
              "  "
            ]
          },
          "metadata": {},
          "execution_count": 9
        }
      ]
    },
    {
      "cell_type": "markdown",
      "source": [
        "6. Crie um novo DataFrame ordenado pelo IMC."
      ],
      "metadata": {
        "id": "roh7Bkb1qcCm"
      }
    },
    {
      "cell_type": "code",
      "source": [
        "df_sort_imc = df.sort_values(by=\"IMC\")\n",
        "df_sort_imc"
      ],
      "metadata": {
        "colab": {
          "base_uri": "https://localhost:8080/",
          "height": 426
        },
        "outputId": "ea843968-c13b-4a4d-d2c7-9b0ed591d69f",
        "id": "5ONP4E6NJEpM"
      },
      "execution_count": 10,
      "outputs": [
        {
          "output_type": "execute_result",
          "data": {
            "text/plain": [
              "           Idade  Peso  Altura        IMC\n",
              "Nome                                     \n",
              "Telma         27    46    1.65  16.896235\n",
              "David         21    54    1.73  18.042701\n",
              "Jéssica       19    55    1.70  19.031142\n",
              "Maria         25    50    1.62  19.051974\n",
              "Guilherme     21    60    1.76  19.369835\n",
              "Augusto       16    69    1.78  21.777553\n",
              "Sílvia        20    65    1.71  22.229062\n",
              "Leandro       19    74    1.80  22.839506\n",
              "Cláudia       19    68    1.70  23.529412\n",
              "Vagner        27    72    1.72  24.337480\n",
              "Paulo         25   115    1.75  37.551020"
            ],
            "text/html": [
              "\n",
              "  <div id=\"df-9574b16e-8da8-428e-87d7-a7c3715732b6\">\n",
              "    <div class=\"colab-df-container\">\n",
              "      <div>\n",
              "<style scoped>\n",
              "    .dataframe tbody tr th:only-of-type {\n",
              "        vertical-align: middle;\n",
              "    }\n",
              "\n",
              "    .dataframe tbody tr th {\n",
              "        vertical-align: top;\n",
              "    }\n",
              "\n",
              "    .dataframe thead th {\n",
              "        text-align: right;\n",
              "    }\n",
              "</style>\n",
              "<table border=\"1\" class=\"dataframe\">\n",
              "  <thead>\n",
              "    <tr style=\"text-align: right;\">\n",
              "      <th></th>\n",
              "      <th>Idade</th>\n",
              "      <th>Peso</th>\n",
              "      <th>Altura</th>\n",
              "      <th>IMC</th>\n",
              "    </tr>\n",
              "    <tr>\n",
              "      <th>Nome</th>\n",
              "      <th></th>\n",
              "      <th></th>\n",
              "      <th></th>\n",
              "      <th></th>\n",
              "    </tr>\n",
              "  </thead>\n",
              "  <tbody>\n",
              "    <tr>\n",
              "      <th>Telma</th>\n",
              "      <td>27</td>\n",
              "      <td>46</td>\n",
              "      <td>1.65</td>\n",
              "      <td>16.896235</td>\n",
              "    </tr>\n",
              "    <tr>\n",
              "      <th>David</th>\n",
              "      <td>21</td>\n",
              "      <td>54</td>\n",
              "      <td>1.73</td>\n",
              "      <td>18.042701</td>\n",
              "    </tr>\n",
              "    <tr>\n",
              "      <th>Jéssica</th>\n",
              "      <td>19</td>\n",
              "      <td>55</td>\n",
              "      <td>1.70</td>\n",
              "      <td>19.031142</td>\n",
              "    </tr>\n",
              "    <tr>\n",
              "      <th>Maria</th>\n",
              "      <td>25</td>\n",
              "      <td>50</td>\n",
              "      <td>1.62</td>\n",
              "      <td>19.051974</td>\n",
              "    </tr>\n",
              "    <tr>\n",
              "      <th>Guilherme</th>\n",
              "      <td>21</td>\n",
              "      <td>60</td>\n",
              "      <td>1.76</td>\n",
              "      <td>19.369835</td>\n",
              "    </tr>\n",
              "    <tr>\n",
              "      <th>Augusto</th>\n",
              "      <td>16</td>\n",
              "      <td>69</td>\n",
              "      <td>1.78</td>\n",
              "      <td>21.777553</td>\n",
              "    </tr>\n",
              "    <tr>\n",
              "      <th>Sílvia</th>\n",
              "      <td>20</td>\n",
              "      <td>65</td>\n",
              "      <td>1.71</td>\n",
              "      <td>22.229062</td>\n",
              "    </tr>\n",
              "    <tr>\n",
              "      <th>Leandro</th>\n",
              "      <td>19</td>\n",
              "      <td>74</td>\n",
              "      <td>1.80</td>\n",
              "      <td>22.839506</td>\n",
              "    </tr>\n",
              "    <tr>\n",
              "      <th>Cláudia</th>\n",
              "      <td>19</td>\n",
              "      <td>68</td>\n",
              "      <td>1.70</td>\n",
              "      <td>23.529412</td>\n",
              "    </tr>\n",
              "    <tr>\n",
              "      <th>Vagner</th>\n",
              "      <td>27</td>\n",
              "      <td>72</td>\n",
              "      <td>1.72</td>\n",
              "      <td>24.337480</td>\n",
              "    </tr>\n",
              "    <tr>\n",
              "      <th>Paulo</th>\n",
              "      <td>25</td>\n",
              "      <td>115</td>\n",
              "      <td>1.75</td>\n",
              "      <td>37.551020</td>\n",
              "    </tr>\n",
              "  </tbody>\n",
              "</table>\n",
              "</div>\n",
              "      <button class=\"colab-df-convert\" onclick=\"convertToInteractive('df-9574b16e-8da8-428e-87d7-a7c3715732b6')\"\n",
              "              title=\"Convert this dataframe to an interactive table.\"\n",
              "              style=\"display:none;\">\n",
              "        \n",
              "  <svg xmlns=\"http://www.w3.org/2000/svg\" height=\"24px\"viewBox=\"0 0 24 24\"\n",
              "       width=\"24px\">\n",
              "    <path d=\"M0 0h24v24H0V0z\" fill=\"none\"/>\n",
              "    <path d=\"M18.56 5.44l.94 2.06.94-2.06 2.06-.94-2.06-.94-.94-2.06-.94 2.06-2.06.94zm-11 1L8.5 8.5l.94-2.06 2.06-.94-2.06-.94L8.5 2.5l-.94 2.06-2.06.94zm10 10l.94 2.06.94-2.06 2.06-.94-2.06-.94-.94-2.06-.94 2.06-2.06.94z\"/><path d=\"M17.41 7.96l-1.37-1.37c-.4-.4-.92-.59-1.43-.59-.52 0-1.04.2-1.43.59L10.3 9.45l-7.72 7.72c-.78.78-.78 2.05 0 2.83L4 21.41c.39.39.9.59 1.41.59.51 0 1.02-.2 1.41-.59l7.78-7.78 2.81-2.81c.8-.78.8-2.07 0-2.86zM5.41 20L4 18.59l7.72-7.72 1.47 1.35L5.41 20z\"/>\n",
              "  </svg>\n",
              "      </button>\n",
              "      \n",
              "  <style>\n",
              "    .colab-df-container {\n",
              "      display:flex;\n",
              "      flex-wrap:wrap;\n",
              "      gap: 12px;\n",
              "    }\n",
              "\n",
              "    .colab-df-convert {\n",
              "      background-color: #E8F0FE;\n",
              "      border: none;\n",
              "      border-radius: 50%;\n",
              "      cursor: pointer;\n",
              "      display: none;\n",
              "      fill: #1967D2;\n",
              "      height: 32px;\n",
              "      padding: 0 0 0 0;\n",
              "      width: 32px;\n",
              "    }\n",
              "\n",
              "    .colab-df-convert:hover {\n",
              "      background-color: #E2EBFA;\n",
              "      box-shadow: 0px 1px 2px rgba(60, 64, 67, 0.3), 0px 1px 3px 1px rgba(60, 64, 67, 0.15);\n",
              "      fill: #174EA6;\n",
              "    }\n",
              "\n",
              "    [theme=dark] .colab-df-convert {\n",
              "      background-color: #3B4455;\n",
              "      fill: #D2E3FC;\n",
              "    }\n",
              "\n",
              "    [theme=dark] .colab-df-convert:hover {\n",
              "      background-color: #434B5C;\n",
              "      box-shadow: 0px 1px 3px 1px rgba(0, 0, 0, 0.15);\n",
              "      filter: drop-shadow(0px 1px 2px rgba(0, 0, 0, 0.3));\n",
              "      fill: #FFFFFF;\n",
              "    }\n",
              "  </style>\n",
              "\n",
              "      <script>\n",
              "        const buttonEl =\n",
              "          document.querySelector('#df-9574b16e-8da8-428e-87d7-a7c3715732b6 button.colab-df-convert');\n",
              "        buttonEl.style.display =\n",
              "          google.colab.kernel.accessAllowed ? 'block' : 'none';\n",
              "\n",
              "        async function convertToInteractive(key) {\n",
              "          const element = document.querySelector('#df-9574b16e-8da8-428e-87d7-a7c3715732b6');\n",
              "          const dataTable =\n",
              "            await google.colab.kernel.invokeFunction('convertToInteractive',\n",
              "                                                     [key], {});\n",
              "          if (!dataTable) return;\n",
              "\n",
              "          const docLinkHtml = 'Like what you see? Visit the ' +\n",
              "            '<a target=\"_blank\" href=https://colab.research.google.com/notebooks/data_table.ipynb>data table notebook</a>'\n",
              "            + ' to learn more about interactive tables.';\n",
              "          element.innerHTML = '';\n",
              "          dataTable['output_type'] = 'display_data';\n",
              "          await google.colab.output.renderOutput(dataTable, element);\n",
              "          const docLink = document.createElement('div');\n",
              "          docLink.innerHTML = docLinkHtml;\n",
              "          element.appendChild(docLink);\n",
              "        }\n",
              "      </script>\n",
              "    </div>\n",
              "  </div>\n",
              "  "
            ]
          },
          "metadata": {},
          "execution_count": 10
        }
      ]
    },
    {
      "cell_type": "markdown",
      "source": [
        "7. Determine quem é o estudante mais alto, quem é o mais novo e a soma dos pesos de todos os estudantes."
      ],
      "metadata": {
        "id": "QmO7f9-AqjbX"
      }
    },
    {
      "cell_type": "code",
      "source": [
        "df[\"Altura\"].idxmax()\n"
      ],
      "metadata": {
        "colab": {
          "base_uri": "https://localhost:8080/",
          "height": 35
        },
        "outputId": "8bd3f8b0-c9cc-4b83-a360-6704d1f68cca",
        "id": "XIqEROcKJsUS"
      },
      "execution_count": 11,
      "outputs": [
        {
          "output_type": "execute_result",
          "data": {
            "text/plain": [
              "'Leandro'"
            ],
            "application/vnd.google.colaboratory.intrinsic+json": {
              "type": "string"
            }
          },
          "metadata": {},
          "execution_count": 11
        }
      ]
    },
    {
      "cell_type": "code",
      "source": [
        "df[\"Idade\"].idxmin()"
      ],
      "metadata": {
        "colab": {
          "base_uri": "https://localhost:8080/",
          "height": 35
        },
        "id": "VdyA9At5LdhS",
        "outputId": "1c310302-ac41-4317-95aa-488f168bd3a6"
      },
      "execution_count": 13,
      "outputs": [
        {
          "output_type": "execute_result",
          "data": {
            "text/plain": [
              "'Augusto'"
            ],
            "application/vnd.google.colaboratory.intrinsic+json": {
              "type": "string"
            }
          },
          "metadata": {},
          "execution_count": 13
        }
      ]
    },
    {
      "cell_type": "code",
      "source": [
        "df[\"Peso\"].sum()"
      ],
      "metadata": {
        "colab": {
          "base_uri": "https://localhost:8080/"
        },
        "id": "0R25QAB0LoY5",
        "outputId": "6ed4acca-ff1e-42ad-8c23-dcf0aecd7bf2"
      },
      "execution_count": 14,
      "outputs": [
        {
          "output_type": "execute_result",
          "data": {
            "text/plain": [
              "728"
            ]
          },
          "metadata": {},
          "execution_count": 14
        }
      ]
    },
    {
      "cell_type": "markdown",
      "source": [
        "8. Calcule a média e o desvio padrão dos valores de IMC."
      ],
      "metadata": {
        "id": "ntPdu39Oqq4L"
      }
    },
    {
      "cell_type": "code",
      "source": [
        "df[\"IMC\"].mean()"
      ],
      "metadata": {
        "colab": {
          "base_uri": "https://localhost:8080/"
        },
        "outputId": "9d084a91-f9e5-4b15-bd57-5525256d8697",
        "id": "-SVoR6LgL0F6"
      },
      "execution_count": 15,
      "outputs": [
        {
          "output_type": "execute_result",
          "data": {
            "text/plain": [
              "22.24144725802304"
            ]
          },
          "metadata": {},
          "execution_count": 15
        }
      ]
    },
    {
      "cell_type": "code",
      "source": [
        "df[\"IMC\"].std(ddof=1)"
      ],
      "metadata": {
        "colab": {
          "base_uri": "https://localhost:8080/"
        },
        "id": "CNN9M3LjL6HR",
        "outputId": "bcd9c62e-d4e0-49c5-cbb5-e0148da3830c"
      },
      "execution_count": 16,
      "outputs": [
        {
          "output_type": "execute_result",
          "data": {
            "text/plain": [
              "5.620800506702645"
            ]
          },
          "metadata": {},
          "execution_count": 16
        }
      ]
    }
  ]
}