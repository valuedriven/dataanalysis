{
  "nbformat": 4,
  "nbformat_minor": 0,
  "metadata": {
    "colab": {
      "provenance": [],
      "authorship_tag": "ABX9TyNJQE3EiVGKBGvoio/BRV/k",
      "include_colab_link": true
    },
    "kernelspec": {
      "name": "python3",
      "display_name": "Python 3"
    },
    "language_info": {
      "name": "python"
    }
  },
  "cells": [
    {
      "cell_type": "markdown",
      "metadata": {
        "id": "view-in-github",
        "colab_type": "text"
      },
      "source": [
        "<a href=\"https://colab.research.google.com/github/valuedriven/dataanalysis/blob/master/exercicio_pandas.ipynb\" target=\"_parent\"><img src=\"https://colab.research.google.com/assets/colab-badge.svg\" alt=\"Open In Colab\"/></a>"
      ]
    },
    {
      "cell_type": "markdown",
      "source": [
        "- Crie um DataFrame com os nomes, idades, pesos e alturas dos estudantes da turma (Arquivo IMC.csv que está no github na página da disciplina)\n",
        "- Inclua uma nova coluna no DataFrame contendo o IMC de cada estudante ()\n",
        "- Salve o DataFrame em um arquivo xlsx e abra no excel para ver o resultado\n",
        "- Crie um DataFrame contendo apenas nomes e idades\n",
        "- Crie um DataFrame contendo apenas os 5 estudantes mais altos\n",
        "- Crie um novo DataFrame ordenado pelo IMC\n",
        "- Determine quem é o estudante mais alto, quem é o mais novo e a soma dos pesos de todos os estudantes\n",
        "- Calcule a média e o desvio padrão dos valores de IMC"
      ],
      "metadata": {
        "id": "v4_75ncXAxNL"
      }
    },
    {
      "cell_type": "code",
      "execution_count": null,
      "metadata": {
        "id": "sPDKDA6_Au_e"
      },
      "outputs": [],
      "source": []
    }
  ]
}