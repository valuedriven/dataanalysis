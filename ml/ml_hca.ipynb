{
  "nbformat": 4,
  "nbformat_minor": 0,
  "metadata": {
    "colab": {
      "provenance": [],
      "authorship_tag": "ABX9TyPQTMtvzNU/0txjYrwRIUue",
      "include_colab_link": true
    },
    "kernelspec": {
      "name": "python3",
      "display_name": "Python 3"
    },
    "language_info": {
      "name": "python"
    }
  },
  "cells": [
    {
      "cell_type": "markdown",
      "metadata": {
        "id": "view-in-github",
        "colab_type": "text"
      },
      "source": [
        "<a href=\"https://colab.research.google.com/github/valuedriven/dataanalysis/blob/master/ml/ml_hca.ipynb\" target=\"_parent\"><img src=\"https://colab.research.google.com/assets/colab-badge.svg\" alt=\"Open In Colab\"/></a>"
      ]
    },
    {
      "cell_type": "markdown",
      "source": [
        "# ML HCA"
      ],
      "metadata": {
        "id": "nj0ds1uUyT0J"
      }
    },
    {
      "cell_type": "code",
      "execution_count": 4,
      "metadata": {
        "id": "tiZHHzt2It4B",
        "outputId": "0833369f-07ee-4a19-fc5f-b28e6bf7647a",
        "colab": {
          "base_uri": "https://localhost:8080/"
        }
      },
      "outputs": [
        {
          "output_type": "stream",
          "name": "stdout",
          "text": [
            "--2022-12-01 13:04:03--  https://raw.githubusercontent.com/joaopauloam/metodos_computacionais/6246fbeb154dc834da4da653f8902693af729a8e/flavonoides.csv\n",
            "Resolving raw.githubusercontent.com (raw.githubusercontent.com)... 185.199.108.133, 185.199.109.133, 185.199.110.133, ...\n",
            "Connecting to raw.githubusercontent.com (raw.githubusercontent.com)|185.199.108.133|:443... connected.\n",
            "HTTP request sent, awaiting response... 200 OK\n",
            "Length: 111581 (109K) [text/plain]\n",
            "Saving to: ‘flavonoides.csv.1’\n",
            "\n",
            "\rflavonoides.csv.1     0%[                    ]       0  --.-KB/s               \rflavonoides.csv.1   100%[===================>] 108.97K  --.-KB/s    in 0.002s  \n",
            "\n",
            "2022-12-01 13:04:03 (44.9 MB/s) - ‘flavonoides.csv.1’ saved [111581/111581]\n",
            "\n",
            "flavonoides.csv  flavonoides.csv.1  sample_data\n"
          ]
        }
      ],
      "source": [
        "url_origem = \"https://raw.githubusercontent.com/joaopauloam/metodos_computacionais/6246fbeb154dc834da4da653f8902693af729a8e/\"\n",
        "arquivo_origem =\"flavonoides.csv\"\n",
        "\n",
        "!wget $url_origem$arquivo_origem -O $arquivo_origem"
      ]
    },
    {
      "cell_type": "code",
      "source": [],
      "metadata": {
        "id": "yKimVBIyy1Kx"
      },
      "execution_count": null,
      "outputs": []
    }
  ]
}