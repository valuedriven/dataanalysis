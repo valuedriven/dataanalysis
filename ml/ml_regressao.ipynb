{
  "nbformat": 4,
  "nbformat_minor": 0,
  "metadata": {
    "colab": {
      "provenance": [],
      "authorship_tag": "ABX9TyOelS0G+ZSWmO8AESJP8KPf",
      "include_colab_link": true
    },
    "kernelspec": {
      "name": "python3",
      "display_name": "Python 3"
    },
    "language_info": {
      "name": "python"
    }
  },
  "cells": [
    {
      "cell_type": "markdown",
      "metadata": {
        "id": "view-in-github",
        "colab_type": "text"
      },
      "source": [
        "<a href=\"https://colab.research.google.com/github/valuedriven/dataanalysis/blob/master/ml/ml_regressao.ipynb\" target=\"_parent\"><img src=\"https://colab.research.google.com/assets/colab-badge.svg\" alt=\"Open In Colab\"/></a>"
      ]
    },
    {
      "cell_type": "code",
      "execution_count": null,
      "metadata": {
        "id": "NQSdDf41Ogej"
      },
      "outputs": [],
      "source": [
        "url_origem = \"https://raw.githubusercontent.com/joaopauloam/metodos_computacionais/6246fbeb154dc834da4da653f8902693af729a8e/aprendizado_maquina/\"\n",
        "arquivo_origem =\"Xdat.txt\"\n",
        "\n",
        "!wget $url_origem$arquivo_origem -O $arquivo_origem"
      ]
    }
  ]
}