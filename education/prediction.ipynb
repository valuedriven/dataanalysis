{
  "nbformat": 4,
  "nbformat_minor": 0,
  "metadata": {
    "colab": {
      "provenance": [],
      "toc_visible": true,
      "authorship_tag": "ABX9TyOcI7VuxgCaaK3HZTlTFiYg",
      "include_colab_link": true
    },
    "kernelspec": {
      "name": "python3",
      "display_name": "Python 3"
    },
    "language_info": {
      "name": "python"
    }
  },
  "cells": [
    {
      "cell_type": "markdown",
      "metadata": {
        "id": "view-in-github",
        "colab_type": "text"
      },
      "source": [
        "<a href=\"https://colab.research.google.com/github/valuedriven/dataanalysis/blob/master/education/prediction.ipynb\" target=\"_parent\"><img src=\"https://colab.research.google.com/assets/colab-badge.svg\" alt=\"Open In Colab\"/></a>"
      ]
    },
    {
      "cell_type": "markdown",
      "source": [
        "# **Visão geral**\n",
        "\n",
        "This notebook uses an UCI dataset:\n",
        "https://archive-beta.ics.uci.edu/dataset/697/predict+students+dropout+and+academic+success\n",
        "\n",
        "## Introduction Paper\n",
        "\n",
        "Early prediction of student's performance in higher education: a case study\n",
        "Mónica V. Martins, Daniel Tolledo, Jorge Machado, Luís M. T. Baptista, and Valentim Realinho Trends and Applications in Information Systems and Technologies\n",
        "\n",
        "\n",
        "Other datasets evaluated:\n",
        "\n",
        "https://archive.ics.uci.edu/ml/datasets/Student+Performance\n",
        "\n",
        "https://archive.ics.uci.edu/ml/datasets/Higher+Education+Students+Performance+Evaluation+Dataset\n",
        "\n"
      ],
      "metadata": {
        "id": "4JTxm8YeehUT"
      }
    },
    {
      "cell_type": "markdown",
      "source": [
        "# Obtenção dos dados"
      ],
      "metadata": {
        "id": "wdN4HTFxqneN"
      }
    },
    {
      "cell_type": "code",
      "execution_count": 275,
      "metadata": {
        "id": "9F9vITDBz5Hw"
      },
      "outputs": [],
      "source": [
        "from io import BytesIO\n",
        "from zipfile import ZipFile\n",
        "import requests\n",
        "\n",
        "url = 'https://archive-beta.ics.uci.edu/static/public/697/predict+students+dropout+and+academic+success.zip'\n",
        "dataset_file = 'data.csv'\n",
        "filename = requests.get(url).content\n",
        "zip_file = ZipFile( BytesIO(filename), 'r' )"
      ]
    },
    {
      "cell_type": "code",
      "source": [
        "import pandas as pd\n",
        "\n",
        "df = pd.read_csv(zip_file.open(dataset_file),sep=';')\n",
        "df"
      ],
      "metadata": {
        "colab": {
          "base_uri": "https://localhost:8080/",
          "height": 540
        },
        "id": "xtCsbIP-81C_",
        "outputId": "de33a87f-6fc7-4cd5-b78d-6438c6f50bcc"
      },
      "execution_count": 276,
      "outputs": [
        {
          "output_type": "execute_result",
          "data": {
            "text/plain": [
              "      Marital status  Application mode  Application order  Course  \\\n",
              "0                  1                17                  5     171   \n",
              "1                  1                15                  1    9254   \n",
              "2                  1                 1                  5    9070   \n",
              "3                  1                17                  2    9773   \n",
              "4                  2                39                  1    8014   \n",
              "...              ...               ...                ...     ...   \n",
              "4419               1                 1                  6    9773   \n",
              "4420               1                 1                  2    9773   \n",
              "4421               1                 1                  1    9500   \n",
              "4422               1                 1                  1    9147   \n",
              "4423               1                10                  1    9773   \n",
              "\n",
              "      Daytime/evening attendance\\t  Previous qualification  \\\n",
              "0                                1                       1   \n",
              "1                                1                       1   \n",
              "2                                1                       1   \n",
              "3                                1                       1   \n",
              "4                                0                       1   \n",
              "...                            ...                     ...   \n",
              "4419                             1                       1   \n",
              "4420                             1                       1   \n",
              "4421                             1                       1   \n",
              "4422                             1                       1   \n",
              "4423                             1                       1   \n",
              "\n",
              "      Previous qualification (grade)  Nacionality  Mother's qualification  \\\n",
              "0                              122.0            1                      19   \n",
              "1                              160.0            1                       1   \n",
              "2                              122.0            1                      37   \n",
              "3                              122.0            1                      38   \n",
              "4                              100.0            1                      37   \n",
              "...                              ...          ...                     ...   \n",
              "4419                           125.0            1                       1   \n",
              "4420                           120.0          105                       1   \n",
              "4421                           154.0            1                      37   \n",
              "4422                           180.0            1                      37   \n",
              "4423                           152.0           22                      38   \n",
              "\n",
              "      Father's qualification  ...  Curricular units 2nd sem (credited)  \\\n",
              "0                         12  ...                                    0   \n",
              "1                          3  ...                                    0   \n",
              "2                         37  ...                                    0   \n",
              "3                         37  ...                                    0   \n",
              "4                         38  ...                                    0   \n",
              "...                      ...  ...                                  ...   \n",
              "4419                       1  ...                                    0   \n",
              "4420                       1  ...                                    0   \n",
              "4421                      37  ...                                    0   \n",
              "4422                      37  ...                                    0   \n",
              "4423                      37  ...                                    0   \n",
              "\n",
              "      Curricular units 2nd sem (enrolled)  \\\n",
              "0                                       0   \n",
              "1                                       6   \n",
              "2                                       6   \n",
              "3                                       6   \n",
              "4                                       6   \n",
              "...                                   ...   \n",
              "4419                                    6   \n",
              "4420                                    6   \n",
              "4421                                    8   \n",
              "4422                                    5   \n",
              "4423                                    6   \n",
              "\n",
              "      Curricular units 2nd sem (evaluations)  \\\n",
              "0                                          0   \n",
              "1                                          6   \n",
              "2                                          0   \n",
              "3                                         10   \n",
              "4                                          6   \n",
              "...                                      ...   \n",
              "4419                                       8   \n",
              "4420                                       6   \n",
              "4421                                       9   \n",
              "4422                                       6   \n",
              "4423                                       6   \n",
              "\n",
              "      Curricular units 2nd sem (approved)  Curricular units 2nd sem (grade)  \\\n",
              "0                                       0                          0.000000   \n",
              "1                                       6                         13.666667   \n",
              "2                                       0                          0.000000   \n",
              "3                                       5                         12.400000   \n",
              "4                                       6                         13.000000   \n",
              "...                                   ...                               ...   \n",
              "4419                                    5                         12.666667   \n",
              "4420                                    2                         11.000000   \n",
              "4421                                    1                         13.500000   \n",
              "4422                                    5                         12.000000   \n",
              "4423                                    6                         13.000000   \n",
              "\n",
              "      Curricular units 2nd sem (without evaluations)  Unemployment rate  \\\n",
              "0                                                  0               10.8   \n",
              "1                                                  0               13.9   \n",
              "2                                                  0               10.8   \n",
              "3                                                  0                9.4   \n",
              "4                                                  0               13.9   \n",
              "...                                              ...                ...   \n",
              "4419                                               0               15.5   \n",
              "4420                                               0               11.1   \n",
              "4421                                               0               13.9   \n",
              "4422                                               0                9.4   \n",
              "4423                                               0               12.7   \n",
              "\n",
              "      Inflation rate   GDP    Target  \n",
              "0                1.4  1.74   Dropout  \n",
              "1               -0.3  0.79  Graduate  \n",
              "2                1.4  1.74   Dropout  \n",
              "3               -0.8 -3.12  Graduate  \n",
              "4               -0.3  0.79  Graduate  \n",
              "...              ...   ...       ...  \n",
              "4419             2.8 -4.06  Graduate  \n",
              "4420             0.6  2.02   Dropout  \n",
              "4421            -0.3  0.79   Dropout  \n",
              "4422            -0.8 -3.12  Graduate  \n",
              "4423             3.7 -1.70  Graduate  \n",
              "\n",
              "[4424 rows x 37 columns]"
            ],
            "text/html": [
              "\n",
              "  <div id=\"df-ce94e6ad-3c79-43d5-b4b1-ee43a1e53bff\">\n",
              "    <div class=\"colab-df-container\">\n",
              "      <div>\n",
              "<style scoped>\n",
              "    .dataframe tbody tr th:only-of-type {\n",
              "        vertical-align: middle;\n",
              "    }\n",
              "\n",
              "    .dataframe tbody tr th {\n",
              "        vertical-align: top;\n",
              "    }\n",
              "\n",
              "    .dataframe thead th {\n",
              "        text-align: right;\n",
              "    }\n",
              "</style>\n",
              "<table border=\"1\" class=\"dataframe\">\n",
              "  <thead>\n",
              "    <tr style=\"text-align: right;\">\n",
              "      <th></th>\n",
              "      <th>Marital status</th>\n",
              "      <th>Application mode</th>\n",
              "      <th>Application order</th>\n",
              "      <th>Course</th>\n",
              "      <th>Daytime/evening attendance\\t</th>\n",
              "      <th>Previous qualification</th>\n",
              "      <th>Previous qualification (grade)</th>\n",
              "      <th>Nacionality</th>\n",
              "      <th>Mother's qualification</th>\n",
              "      <th>Father's qualification</th>\n",
              "      <th>...</th>\n",
              "      <th>Curricular units 2nd sem (credited)</th>\n",
              "      <th>Curricular units 2nd sem (enrolled)</th>\n",
              "      <th>Curricular units 2nd sem (evaluations)</th>\n",
              "      <th>Curricular units 2nd sem (approved)</th>\n",
              "      <th>Curricular units 2nd sem (grade)</th>\n",
              "      <th>Curricular units 2nd sem (without evaluations)</th>\n",
              "      <th>Unemployment rate</th>\n",
              "      <th>Inflation rate</th>\n",
              "      <th>GDP</th>\n",
              "      <th>Target</th>\n",
              "    </tr>\n",
              "  </thead>\n",
              "  <tbody>\n",
              "    <tr>\n",
              "      <th>0</th>\n",
              "      <td>1</td>\n",
              "      <td>17</td>\n",
              "      <td>5</td>\n",
              "      <td>171</td>\n",
              "      <td>1</td>\n",
              "      <td>1</td>\n",
              "      <td>122.0</td>\n",
              "      <td>1</td>\n",
              "      <td>19</td>\n",
              "      <td>12</td>\n",
              "      <td>...</td>\n",
              "      <td>0</td>\n",
              "      <td>0</td>\n",
              "      <td>0</td>\n",
              "      <td>0</td>\n",
              "      <td>0.000000</td>\n",
              "      <td>0</td>\n",
              "      <td>10.8</td>\n",
              "      <td>1.4</td>\n",
              "      <td>1.74</td>\n",
              "      <td>Dropout</td>\n",
              "    </tr>\n",
              "    <tr>\n",
              "      <th>1</th>\n",
              "      <td>1</td>\n",
              "      <td>15</td>\n",
              "      <td>1</td>\n",
              "      <td>9254</td>\n",
              "      <td>1</td>\n",
              "      <td>1</td>\n",
              "      <td>160.0</td>\n",
              "      <td>1</td>\n",
              "      <td>1</td>\n",
              "      <td>3</td>\n",
              "      <td>...</td>\n",
              "      <td>0</td>\n",
              "      <td>6</td>\n",
              "      <td>6</td>\n",
              "      <td>6</td>\n",
              "      <td>13.666667</td>\n",
              "      <td>0</td>\n",
              "      <td>13.9</td>\n",
              "      <td>-0.3</td>\n",
              "      <td>0.79</td>\n",
              "      <td>Graduate</td>\n",
              "    </tr>\n",
              "    <tr>\n",
              "      <th>2</th>\n",
              "      <td>1</td>\n",
              "      <td>1</td>\n",
              "      <td>5</td>\n",
              "      <td>9070</td>\n",
              "      <td>1</td>\n",
              "      <td>1</td>\n",
              "      <td>122.0</td>\n",
              "      <td>1</td>\n",
              "      <td>37</td>\n",
              "      <td>37</td>\n",
              "      <td>...</td>\n",
              "      <td>0</td>\n",
              "      <td>6</td>\n",
              "      <td>0</td>\n",
              "      <td>0</td>\n",
              "      <td>0.000000</td>\n",
              "      <td>0</td>\n",
              "      <td>10.8</td>\n",
              "      <td>1.4</td>\n",
              "      <td>1.74</td>\n",
              "      <td>Dropout</td>\n",
              "    </tr>\n",
              "    <tr>\n",
              "      <th>3</th>\n",
              "      <td>1</td>\n",
              "      <td>17</td>\n",
              "      <td>2</td>\n",
              "      <td>9773</td>\n",
              "      <td>1</td>\n",
              "      <td>1</td>\n",
              "      <td>122.0</td>\n",
              "      <td>1</td>\n",
              "      <td>38</td>\n",
              "      <td>37</td>\n",
              "      <td>...</td>\n",
              "      <td>0</td>\n",
              "      <td>6</td>\n",
              "      <td>10</td>\n",
              "      <td>5</td>\n",
              "      <td>12.400000</td>\n",
              "      <td>0</td>\n",
              "      <td>9.4</td>\n",
              "      <td>-0.8</td>\n",
              "      <td>-3.12</td>\n",
              "      <td>Graduate</td>\n",
              "    </tr>\n",
              "    <tr>\n",
              "      <th>4</th>\n",
              "      <td>2</td>\n",
              "      <td>39</td>\n",
              "      <td>1</td>\n",
              "      <td>8014</td>\n",
              "      <td>0</td>\n",
              "      <td>1</td>\n",
              "      <td>100.0</td>\n",
              "      <td>1</td>\n",
              "      <td>37</td>\n",
              "      <td>38</td>\n",
              "      <td>...</td>\n",
              "      <td>0</td>\n",
              "      <td>6</td>\n",
              "      <td>6</td>\n",
              "      <td>6</td>\n",
              "      <td>13.000000</td>\n",
              "      <td>0</td>\n",
              "      <td>13.9</td>\n",
              "      <td>-0.3</td>\n",
              "      <td>0.79</td>\n",
              "      <td>Graduate</td>\n",
              "    </tr>\n",
              "    <tr>\n",
              "      <th>...</th>\n",
              "      <td>...</td>\n",
              "      <td>...</td>\n",
              "      <td>...</td>\n",
              "      <td>...</td>\n",
              "      <td>...</td>\n",
              "      <td>...</td>\n",
              "      <td>...</td>\n",
              "      <td>...</td>\n",
              "      <td>...</td>\n",
              "      <td>...</td>\n",
              "      <td>...</td>\n",
              "      <td>...</td>\n",
              "      <td>...</td>\n",
              "      <td>...</td>\n",
              "      <td>...</td>\n",
              "      <td>...</td>\n",
              "      <td>...</td>\n",
              "      <td>...</td>\n",
              "      <td>...</td>\n",
              "      <td>...</td>\n",
              "      <td>...</td>\n",
              "    </tr>\n",
              "    <tr>\n",
              "      <th>4419</th>\n",
              "      <td>1</td>\n",
              "      <td>1</td>\n",
              "      <td>6</td>\n",
              "      <td>9773</td>\n",
              "      <td>1</td>\n",
              "      <td>1</td>\n",
              "      <td>125.0</td>\n",
              "      <td>1</td>\n",
              "      <td>1</td>\n",
              "      <td>1</td>\n",
              "      <td>...</td>\n",
              "      <td>0</td>\n",
              "      <td>6</td>\n",
              "      <td>8</td>\n",
              "      <td>5</td>\n",
              "      <td>12.666667</td>\n",
              "      <td>0</td>\n",
              "      <td>15.5</td>\n",
              "      <td>2.8</td>\n",
              "      <td>-4.06</td>\n",
              "      <td>Graduate</td>\n",
              "    </tr>\n",
              "    <tr>\n",
              "      <th>4420</th>\n",
              "      <td>1</td>\n",
              "      <td>1</td>\n",
              "      <td>2</td>\n",
              "      <td>9773</td>\n",
              "      <td>1</td>\n",
              "      <td>1</td>\n",
              "      <td>120.0</td>\n",
              "      <td>105</td>\n",
              "      <td>1</td>\n",
              "      <td>1</td>\n",
              "      <td>...</td>\n",
              "      <td>0</td>\n",
              "      <td>6</td>\n",
              "      <td>6</td>\n",
              "      <td>2</td>\n",
              "      <td>11.000000</td>\n",
              "      <td>0</td>\n",
              "      <td>11.1</td>\n",
              "      <td>0.6</td>\n",
              "      <td>2.02</td>\n",
              "      <td>Dropout</td>\n",
              "    </tr>\n",
              "    <tr>\n",
              "      <th>4421</th>\n",
              "      <td>1</td>\n",
              "      <td>1</td>\n",
              "      <td>1</td>\n",
              "      <td>9500</td>\n",
              "      <td>1</td>\n",
              "      <td>1</td>\n",
              "      <td>154.0</td>\n",
              "      <td>1</td>\n",
              "      <td>37</td>\n",
              "      <td>37</td>\n",
              "      <td>...</td>\n",
              "      <td>0</td>\n",
              "      <td>8</td>\n",
              "      <td>9</td>\n",
              "      <td>1</td>\n",
              "      <td>13.500000</td>\n",
              "      <td>0</td>\n",
              "      <td>13.9</td>\n",
              "      <td>-0.3</td>\n",
              "      <td>0.79</td>\n",
              "      <td>Dropout</td>\n",
              "    </tr>\n",
              "    <tr>\n",
              "      <th>4422</th>\n",
              "      <td>1</td>\n",
              "      <td>1</td>\n",
              "      <td>1</td>\n",
              "      <td>9147</td>\n",
              "      <td>1</td>\n",
              "      <td>1</td>\n",
              "      <td>180.0</td>\n",
              "      <td>1</td>\n",
              "      <td>37</td>\n",
              "      <td>37</td>\n",
              "      <td>...</td>\n",
              "      <td>0</td>\n",
              "      <td>5</td>\n",
              "      <td>6</td>\n",
              "      <td>5</td>\n",
              "      <td>12.000000</td>\n",
              "      <td>0</td>\n",
              "      <td>9.4</td>\n",
              "      <td>-0.8</td>\n",
              "      <td>-3.12</td>\n",
              "      <td>Graduate</td>\n",
              "    </tr>\n",
              "    <tr>\n",
              "      <th>4423</th>\n",
              "      <td>1</td>\n",
              "      <td>10</td>\n",
              "      <td>1</td>\n",
              "      <td>9773</td>\n",
              "      <td>1</td>\n",
              "      <td>1</td>\n",
              "      <td>152.0</td>\n",
              "      <td>22</td>\n",
              "      <td>38</td>\n",
              "      <td>37</td>\n",
              "      <td>...</td>\n",
              "      <td>0</td>\n",
              "      <td>6</td>\n",
              "      <td>6</td>\n",
              "      <td>6</td>\n",
              "      <td>13.000000</td>\n",
              "      <td>0</td>\n",
              "      <td>12.7</td>\n",
              "      <td>3.7</td>\n",
              "      <td>-1.70</td>\n",
              "      <td>Graduate</td>\n",
              "    </tr>\n",
              "  </tbody>\n",
              "</table>\n",
              "<p>4424 rows × 37 columns</p>\n",
              "</div>\n",
              "      <button class=\"colab-df-convert\" onclick=\"convertToInteractive('df-ce94e6ad-3c79-43d5-b4b1-ee43a1e53bff')\"\n",
              "              title=\"Convert this dataframe to an interactive table.\"\n",
              "              style=\"display:none;\">\n",
              "        \n",
              "  <svg xmlns=\"http://www.w3.org/2000/svg\" height=\"24px\"viewBox=\"0 0 24 24\"\n",
              "       width=\"24px\">\n",
              "    <path d=\"M0 0h24v24H0V0z\" fill=\"none\"/>\n",
              "    <path d=\"M18.56 5.44l.94 2.06.94-2.06 2.06-.94-2.06-.94-.94-2.06-.94 2.06-2.06.94zm-11 1L8.5 8.5l.94-2.06 2.06-.94-2.06-.94L8.5 2.5l-.94 2.06-2.06.94zm10 10l.94 2.06.94-2.06 2.06-.94-2.06-.94-.94-2.06-.94 2.06-2.06.94z\"/><path d=\"M17.41 7.96l-1.37-1.37c-.4-.4-.92-.59-1.43-.59-.52 0-1.04.2-1.43.59L10.3 9.45l-7.72 7.72c-.78.78-.78 2.05 0 2.83L4 21.41c.39.39.9.59 1.41.59.51 0 1.02-.2 1.41-.59l7.78-7.78 2.81-2.81c.8-.78.8-2.07 0-2.86zM5.41 20L4 18.59l7.72-7.72 1.47 1.35L5.41 20z\"/>\n",
              "  </svg>\n",
              "      </button>\n",
              "      \n",
              "  <style>\n",
              "    .colab-df-container {\n",
              "      display:flex;\n",
              "      flex-wrap:wrap;\n",
              "      gap: 12px;\n",
              "    }\n",
              "\n",
              "    .colab-df-convert {\n",
              "      background-color: #E8F0FE;\n",
              "      border: none;\n",
              "      border-radius: 50%;\n",
              "      cursor: pointer;\n",
              "      display: none;\n",
              "      fill: #1967D2;\n",
              "      height: 32px;\n",
              "      padding: 0 0 0 0;\n",
              "      width: 32px;\n",
              "    }\n",
              "\n",
              "    .colab-df-convert:hover {\n",
              "      background-color: #E2EBFA;\n",
              "      box-shadow: 0px 1px 2px rgba(60, 64, 67, 0.3), 0px 1px 3px 1px rgba(60, 64, 67, 0.15);\n",
              "      fill: #174EA6;\n",
              "    }\n",
              "\n",
              "    [theme=dark] .colab-df-convert {\n",
              "      background-color: #3B4455;\n",
              "      fill: #D2E3FC;\n",
              "    }\n",
              "\n",
              "    [theme=dark] .colab-df-convert:hover {\n",
              "      background-color: #434B5C;\n",
              "      box-shadow: 0px 1px 3px 1px rgba(0, 0, 0, 0.15);\n",
              "      filter: drop-shadow(0px 1px 2px rgba(0, 0, 0, 0.3));\n",
              "      fill: #FFFFFF;\n",
              "    }\n",
              "  </style>\n",
              "\n",
              "      <script>\n",
              "        const buttonEl =\n",
              "          document.querySelector('#df-ce94e6ad-3c79-43d5-b4b1-ee43a1e53bff button.colab-df-convert');\n",
              "        buttonEl.style.display =\n",
              "          google.colab.kernel.accessAllowed ? 'block' : 'none';\n",
              "\n",
              "        async function convertToInteractive(key) {\n",
              "          const element = document.querySelector('#df-ce94e6ad-3c79-43d5-b4b1-ee43a1e53bff');\n",
              "          const dataTable =\n",
              "            await google.colab.kernel.invokeFunction('convertToInteractive',\n",
              "                                                     [key], {});\n",
              "          if (!dataTable) return;\n",
              "\n",
              "          const docLinkHtml = 'Like what you see? Visit the ' +\n",
              "            '<a target=\"_blank\" href=https://colab.research.google.com/notebooks/data_table.ipynb>data table notebook</a>'\n",
              "            + ' to learn more about interactive tables.';\n",
              "          element.innerHTML = '';\n",
              "          dataTable['output_type'] = 'display_data';\n",
              "          await google.colab.output.renderOutput(dataTable, element);\n",
              "          const docLink = document.createElement('div');\n",
              "          docLink.innerHTML = docLinkHtml;\n",
              "          element.appendChild(docLink);\n",
              "        }\n",
              "      </script>\n",
              "    </div>\n",
              "  </div>\n",
              "  "
            ]
          },
          "metadata": {},
          "execution_count": 276
        }
      ]
    },
    {
      "cell_type": "markdown",
      "source": [
        "# Entendimento dos dados"
      ],
      "metadata": {
        "id": "J23Y5i7Wqrv8"
      }
    },
    {
      "cell_type": "code",
      "source": [
        "df.info()"
      ],
      "metadata": {
        "colab": {
          "base_uri": "https://localhost:8080/"
        },
        "id": "Y7wQr8oA9LJ-",
        "outputId": "7775cd06-7dbc-4473-cb78-5349248006e0"
      },
      "execution_count": 277,
      "outputs": [
        {
          "output_type": "stream",
          "name": "stdout",
          "text": [
            "<class 'pandas.core.frame.DataFrame'>\n",
            "RangeIndex: 4424 entries, 0 to 4423\n",
            "Data columns (total 37 columns):\n",
            " #   Column                                          Non-Null Count  Dtype  \n",
            "---  ------                                          --------------  -----  \n",
            " 0   Marital status                                  4424 non-null   int64  \n",
            " 1   Application mode                                4424 non-null   int64  \n",
            " 2   Application order                               4424 non-null   int64  \n",
            " 3   Course                                          4424 non-null   int64  \n",
            " 4   Daytime/evening attendance\t                     4424 non-null   int64  \n",
            " 5   Previous qualification                          4424 non-null   int64  \n",
            " 6   Previous qualification (grade)                  4424 non-null   float64\n",
            " 7   Nacionality                                     4424 non-null   int64  \n",
            " 8   Mother's qualification                          4424 non-null   int64  \n",
            " 9   Father's qualification                          4424 non-null   int64  \n",
            " 10  Mother's occupation                             4424 non-null   int64  \n",
            " 11  Father's occupation                             4424 non-null   int64  \n",
            " 12  Admission grade                                 4424 non-null   float64\n",
            " 13  Displaced                                       4424 non-null   int64  \n",
            " 14  Educational special needs                       4424 non-null   int64  \n",
            " 15  Debtor                                          4424 non-null   int64  \n",
            " 16  Tuition fees up to date                         4424 non-null   int64  \n",
            " 17  Gender                                          4424 non-null   int64  \n",
            " 18  Scholarship holder                              4424 non-null   int64  \n",
            " 19  Age at enrollment                               4424 non-null   int64  \n",
            " 20  International                                   4424 non-null   int64  \n",
            " 21  Curricular units 1st sem (credited)             4424 non-null   int64  \n",
            " 22  Curricular units 1st sem (enrolled)             4424 non-null   int64  \n",
            " 23  Curricular units 1st sem (evaluations)          4424 non-null   int64  \n",
            " 24  Curricular units 1st sem (approved)             4424 non-null   int64  \n",
            " 25  Curricular units 1st sem (grade)                4424 non-null   float64\n",
            " 26  Curricular units 1st sem (without evaluations)  4424 non-null   int64  \n",
            " 27  Curricular units 2nd sem (credited)             4424 non-null   int64  \n",
            " 28  Curricular units 2nd sem (enrolled)             4424 non-null   int64  \n",
            " 29  Curricular units 2nd sem (evaluations)          4424 non-null   int64  \n",
            " 30  Curricular units 2nd sem (approved)             4424 non-null   int64  \n",
            " 31  Curricular units 2nd sem (grade)                4424 non-null   float64\n",
            " 32  Curricular units 2nd sem (without evaluations)  4424 non-null   int64  \n",
            " 33  Unemployment rate                               4424 non-null   float64\n",
            " 34  Inflation rate                                  4424 non-null   float64\n",
            " 35  GDP                                             4424 non-null   float64\n",
            " 36  Target                                          4424 non-null   object \n",
            "dtypes: float64(7), int64(29), object(1)\n",
            "memory usage: 1.2+ MB\n"
          ]
        }
      ]
    },
    {
      "cell_type": "markdown",
      "source": [
        "## Total de instances e features"
      ],
      "metadata": {
        "id": "eZrEw-MH4uIs"
      }
    },
    {
      "cell_type": "code",
      "source": [
        "df.shape"
      ],
      "metadata": {
        "id": "0G4ObxC0wVwL",
        "outputId": "dd13a5df-fa36-4d67-9f98-6ec175af4c08",
        "colab": {
          "base_uri": "https://localhost:8080/"
        }
      },
      "execution_count": 278,
      "outputs": [
        {
          "output_type": "execute_result",
          "data": {
            "text/plain": [
              "(4424, 37)"
            ]
          },
          "metadata": {},
          "execution_count": 278
        }
      ]
    },
    {
      "cell_type": "markdown",
      "source": [
        "## Classes"
      ],
      "metadata": {
        "id": "wdyUbTd75Jhh"
      }
    },
    {
      "cell_type": "code",
      "source": [
        "df['Target'].unique()"
      ],
      "metadata": {
        "colab": {
          "base_uri": "https://localhost:8080/"
        },
        "id": "D-YrGKCC5Lwv",
        "outputId": "e221cf50-22aa-4028-9827-5af00654db49"
      },
      "execution_count": 279,
      "outputs": [
        {
          "output_type": "execute_result",
          "data": {
            "text/plain": [
              "array(['Dropout', 'Graduate', 'Enrolled'], dtype=object)"
            ]
          },
          "metadata": {},
          "execution_count": 279
        }
      ]
    },
    {
      "cell_type": "markdown",
      "source": [
        "## Features, missing values e data types"
      ],
      "metadata": {
        "id": "JlxFkPXi4pjc"
      }
    },
    {
      "cell_type": "code",
      "source": [
        "df.dtypes.value_counts()"
      ],
      "metadata": {
        "colab": {
          "base_uri": "https://localhost:8080/"
        },
        "id": "_gfCbNHf8YVt",
        "outputId": "8afd11d2-ca1f-488f-80c4-2f11203eefe7"
      },
      "execution_count": 280,
      "outputs": [
        {
          "output_type": "execute_result",
          "data": {
            "text/plain": [
              "int64      29\n",
              "float64     7\n",
              "object      1\n",
              "dtype: int64"
            ]
          },
          "metadata": {},
          "execution_count": 280
        }
      ]
    },
    {
      "cell_type": "code",
      "source": [
        "int_features = df.select_dtypes(['int64']).columns.to_numpy()\n",
        "float_features = df.select_dtypes(['float64']).columns.to_numpy()\n",
        "print(int_features)\n",
        "print(float_features)"
      ],
      "metadata": {
        "colab": {
          "base_uri": "https://localhost:8080/"
        },
        "id": "KdcQIlJt-pfK",
        "outputId": "c2cffc91-1ffa-4f65-dc63-8f5eac70e982"
      },
      "execution_count": 281,
      "outputs": [
        {
          "output_type": "stream",
          "name": "stdout",
          "text": [
            "['Marital status' 'Application mode' 'Application order' 'Course'\n",
            " 'Daytime/evening attendance\\t' 'Previous qualification' 'Nacionality'\n",
            " \"Mother's qualification\" \"Father's qualification\" \"Mother's occupation\"\n",
            " \"Father's occupation\" 'Displaced' 'Educational special needs' 'Debtor'\n",
            " 'Tuition fees up to date' 'Gender' 'Scholarship holder'\n",
            " 'Age at enrollment' 'International' 'Curricular units 1st sem (credited)'\n",
            " 'Curricular units 1st sem (enrolled)'\n",
            " 'Curricular units 1st sem (evaluations)'\n",
            " 'Curricular units 1st sem (approved)'\n",
            " 'Curricular units 1st sem (without evaluations)'\n",
            " 'Curricular units 2nd sem (credited)'\n",
            " 'Curricular units 2nd sem (enrolled)'\n",
            " 'Curricular units 2nd sem (evaluations)'\n",
            " 'Curricular units 2nd sem (approved)'\n",
            " 'Curricular units 2nd sem (without evaluations)']\n",
            "['Previous qualification (grade)' 'Admission grade'\n",
            " 'Curricular units 1st sem (grade)' 'Curricular units 2nd sem (grade)'\n",
            " 'Unemployment rate' 'Inflation rate' 'GDP']\n"
          ]
        }
      ]
    },
    {
      "cell_type": "markdown",
      "source": [
        "# Exploração de dados"
      ],
      "metadata": {
        "id": "t2aNr-W03tm4"
      }
    },
    {
      "cell_type": "code",
      "source": [
        "import plotly.express as px\n",
        "\n",
        "fig = px.histogram(df, x='Target')\n",
        "fig.show()"
      ],
      "metadata": {
        "colab": {
          "base_uri": "https://localhost:8080/",
          "height": 542
        },
        "id": "u5cnwVqIGdme",
        "outputId": "3c8f8f85-f574-423b-81f5-3d7095fdcf8b"
      },
      "execution_count": 282,
      "outputs": [
        {
          "output_type": "display_data",
          "data": {
            "text/html": [
              "<html>\n",
              "<head><meta charset=\"utf-8\" /></head>\n",
              "<body>\n",
              "    <div>            <script src=\"https://cdnjs.cloudflare.com/ajax/libs/mathjax/2.7.5/MathJax.js?config=TeX-AMS-MML_SVG\"></script><script type=\"text/javascript\">if (window.MathJax && window.MathJax.Hub && window.MathJax.Hub.Config) {window.MathJax.Hub.Config({SVG: {font: \"STIX-Web\"}});}</script>                <script type=\"text/javascript\">window.PlotlyConfig = {MathJaxConfig: 'local'};</script>\n",
              "        <script src=\"https://cdn.plot.ly/plotly-2.18.2.min.js\"></script>                <div id=\"9a323b58-229e-4eef-91b9-09c79f9e9112\" class=\"plotly-graph-div\" style=\"height:525px; width:100%;\"></div>            <script type=\"text/javascript\">                                    window.PLOTLYENV=window.PLOTLYENV || {};                                    if (document.getElementById(\"9a323b58-229e-4eef-91b9-09c79f9e9112\")) {                    Plotly.newPlot(                        \"9a323b58-229e-4eef-91b9-09c79f9e9112\",                        [{\"alignmentgroup\":\"True\",\"bingroup\":\"x\",\"hovertemplate\":\"Target=%{x}<br>count=%{y}<extra></extra>\",\"legendgroup\":\"\",\"marker\":{\"color\":\"#636efa\",\"pattern\":{\"shape\":\"\"}},\"name\":\"\",\"offsetgroup\":\"\",\"orientation\":\"v\",\"showlegend\":false,\"x\":[\"Dropout\",\"Graduate\",\"Dropout\",\"Graduate\",\"Graduate\",\"Graduate\",\"Graduate\",\"Dropout\",\"Graduate\",\"Dropout\",\"Graduate\",\"Graduate\",\"Dropout\",\"Graduate\",\"Graduate\",\"Dropout\",\"Enrolled\",\"Graduate\",\"Graduate\",\"Enrolled\",\"Graduate\",\"Enrolled\",\"Graduate\",\"Graduate\",\"Graduate\",\"Enrolled\",\"Graduate\",\"Enrolled\",\"Graduate\",\"Enrolled\",\"Enrolled\",\"Graduate\",\"Enrolled\",\"Graduate\",\"Graduate\",\"Dropout\",\"Dropout\",\"Dropout\",\"Graduate\",\"Dropout\",\"Dropout\",\"Graduate\",\"Graduate\",\"Dropout\",\"Dropout\",\"Enrolled\",\"Graduate\",\"Graduate\",\"Graduate\",\"Graduate\",\"Graduate\",\"Enrolled\",\"Enrolled\",\"Graduate\",\"Dropout\",\"Graduate\",\"Dropout\",\"Dropout\",\"Graduate\",\"Enrolled\",\"Graduate\",\"Graduate\",\"Enrolled\",\"Enrolled\",\"Enrolled\",\"Dropout\",\"Graduate\",\"Graduate\",\"Dropout\",\"Enrolled\",\"Enrolled\",\"Graduate\",\"Dropout\",\"Dropout\",\"Graduate\",\"Dropout\",\"Dropout\",\"Graduate\",\"Graduate\",\"Graduate\",\"Dropout\",\"Dropout\",\"Dropout\",\"Enrolled\",\"Graduate\",\"Graduate\",\"Graduate\",\"Graduate\",\"Enrolled\",\"Enrolled\",\"Dropout\",\"Graduate\",\"Dropout\",\"Dropout\",\"Graduate\",\"Enrolled\",\"Graduate\",\"Graduate\",\"Enrolled\",\"Dropout\",\"Dropout\",\"Graduate\",\"Dropout\",\"Graduate\",\"Dropout\",\"Graduate\",\"Dropout\",\"Dropout\",\"Dropout\",\"Enrolled\",\"Graduate\",\"Enrolled\",\"Graduate\",\"Graduate\",\"Dropout\",\"Enrolled\",\"Enrolled\",\"Enrolled\",\"Graduate\",\"Graduate\",\"Dropout\",\"Graduate\",\"Dropout\",\"Graduate\",\"Graduate\",\"Dropout\",\"Graduate\",\"Enrolled\",\"Graduate\",\"Graduate\",\"Dropout\",\"Graduate\",\"Graduate\",\"Dropout\",\"Graduate\",\"Dropout\",\"Graduate\",\"Graduate\",\"Enrolled\",\"Graduate\",\"Graduate\",\"Graduate\",\"Enrolled\",\"Graduate\",\"Graduate\",\"Graduate\",\"Dropout\",\"Dropout\",\"Graduate\",\"Graduate\",\"Enrolled\",\"Graduate\",\"Enrolled\",\"Graduate\",\"Dropout\",\"Dropout\",\"Graduate\",\"Graduate\",\"Graduate\",\"Graduate\",\"Dropout\",\"Graduate\",\"Graduate\",\"Dropout\",\"Graduate\",\"Graduate\",\"Enrolled\",\"Graduate\",\"Graduate\",\"Dropout\",\"Enrolled\",\"Graduate\",\"Graduate\",\"Graduate\",\"Dropout\",\"Enrolled\",\"Graduate\",\"Dropout\",\"Dropout\",\"Dropout\",\"Graduate\",\"Enrolled\",\"Dropout\",\"Dropout\",\"Dropout\",\"Dropout\",\"Enrolled\",\"Graduate\",\"Dropout\",\"Graduate\",\"Graduate\",\"Enrolled\",\"Dropout\",\"Dropout\",\"Graduate\",\"Dropout\",\"Graduate\",\"Dropout\",\"Graduate\",\"Enrolled\",\"Graduate\",\"Graduate\",\"Graduate\",\"Graduate\",\"Graduate\",\"Graduate\",\"Graduate\",\"Graduate\",\"Graduate\",\"Dropout\",\"Graduate\",\"Graduate\",\"Graduate\",\"Dropout\",\"Graduate\",\"Enrolled\",\"Graduate\",\"Dropout\",\"Dropout\",\"Dropout\",\"Graduate\",\"Graduate\",\"Dropout\",\"Graduate\",\"Graduate\",\"Graduate\",\"Graduate\",\"Graduate\",\"Dropout\",\"Graduate\",\"Graduate\",\"Dropout\",\"Graduate\",\"Graduate\",\"Dropout\",\"Graduate\",\"Graduate\",\"Graduate\",\"Dropout\",\"Dropout\",\"Enrolled\",\"Enrolled\",\"Graduate\",\"Dropout\",\"Graduate\",\"Graduate\",\"Graduate\",\"Dropout\",\"Graduate\",\"Graduate\",\"Enrolled\",\"Dropout\",\"Graduate\",\"Enrolled\",\"Graduate\",\"Dropout\",\"Graduate\",\"Enrolled\",\"Graduate\",\"Dropout\",\"Graduate\",\"Dropout\",\"Dropout\",\"Graduate\",\"Graduate\",\"Graduate\",\"Graduate\",\"Graduate\",\"Graduate\",\"Graduate\",\"Graduate\",\"Dropout\",\"Graduate\",\"Graduate\",\"Graduate\",\"Graduate\",\"Dropout\",\"Dropout\",\"Enrolled\",\"Graduate\",\"Graduate\",\"Graduate\",\"Graduate\",\"Graduate\",\"Graduate\",\"Graduate\",\"Enrolled\",\"Graduate\",\"Graduate\",\"Graduate\",\"Graduate\",\"Graduate\",\"Enrolled\",\"Graduate\",\"Dropout\",\"Graduate\",\"Graduate\",\"Graduate\",\"Graduate\",\"Graduate\",\"Graduate\",\"Graduate\",\"Graduate\",\"Dropout\",\"Dropout\",\"Enrolled\",\"Graduate\",\"Dropout\",\"Graduate\",\"Dropout\",\"Graduate\",\"Dropout\",\"Graduate\",\"Graduate\",\"Dropout\",\"Graduate\",\"Graduate\",\"Graduate\",\"Graduate\",\"Enrolled\",\"Dropout\",\"Graduate\",\"Graduate\",\"Graduate\",\"Enrolled\",\"Graduate\",\"Graduate\",\"Graduate\",\"Enrolled\",\"Enrolled\",\"Enrolled\",\"Dropout\",\"Graduate\",\"Graduate\",\"Graduate\",\"Graduate\",\"Graduate\",\"Graduate\",\"Graduate\",\"Graduate\",\"Enrolled\",\"Dropout\",\"Graduate\",\"Graduate\",\"Enrolled\",\"Graduate\",\"Enrolled\",\"Graduate\",\"Graduate\",\"Enrolled\",\"Dropout\",\"Graduate\",\"Dropout\",\"Graduate\",\"Dropout\",\"Graduate\",\"Graduate\",\"Dropout\",\"Enrolled\",\"Dropout\",\"Graduate\",\"Dropout\",\"Enrolled\",\"Graduate\",\"Enrolled\",\"Graduate\",\"Graduate\",\"Enrolled\",\"Graduate\",\"Dropout\",\"Graduate\",\"Enrolled\",\"Graduate\",\"Graduate\",\"Dropout\",\"Enrolled\",\"Dropout\",\"Graduate\",\"Enrolled\",\"Enrolled\",\"Dropout\",\"Enrolled\",\"Enrolled\",\"Graduate\",\"Graduate\",\"Graduate\",\"Graduate\",\"Graduate\",\"Enrolled\",\"Graduate\",\"Enrolled\",\"Enrolled\",\"Dropout\",\"Dropout\",\"Graduate\",\"Graduate\",\"Graduate\",\"Graduate\",\"Dropout\",\"Dropout\",\"Enrolled\",\"Enrolled\",\"Enrolled\",\"Enrolled\",\"Graduate\",\"Graduate\",\"Graduate\",\"Graduate\",\"Graduate\",\"Dropout\",\"Graduate\",\"Graduate\",\"Graduate\",\"Graduate\",\"Graduate\",\"Graduate\",\"Graduate\",\"Dropout\",\"Graduate\",\"Dropout\",\"Graduate\",\"Graduate\",\"Dropout\",\"Graduate\",\"Graduate\",\"Graduate\",\"Graduate\",\"Enrolled\",\"Dropout\",\"Graduate\",\"Graduate\",\"Graduate\",\"Graduate\",\"Dropout\",\"Graduate\",\"Graduate\",\"Enrolled\",\"Graduate\",\"Dropout\",\"Graduate\",\"Enrolled\",\"Enrolled\",\"Graduate\",\"Graduate\",\"Graduate\",\"Graduate\",\"Graduate\",\"Dropout\",\"Graduate\",\"Enrolled\",\"Graduate\",\"Graduate\",\"Graduate\",\"Graduate\",\"Enrolled\",\"Graduate\",\"Dropout\",\"Dropout\",\"Graduate\",\"Graduate\",\"Graduate\",\"Graduate\",\"Graduate\",\"Graduate\",\"Enrolled\",\"Dropout\",\"Enrolled\",\"Graduate\",\"Graduate\",\"Graduate\",\"Graduate\",\"Graduate\",\"Dropout\",\"Graduate\",\"Dropout\",\"Graduate\",\"Dropout\",\"Dropout\",\"Graduate\",\"Enrolled\",\"Graduate\",\"Graduate\",\"Dropout\",\"Enrolled\",\"Graduate\",\"Graduate\",\"Dropout\",\"Dropout\",\"Graduate\",\"Graduate\",\"Graduate\",\"Graduate\",\"Graduate\",\"Enrolled\",\"Enrolled\",\"Dropout\",\"Dropout\",\"Graduate\",\"Graduate\",\"Graduate\",\"Enrolled\",\"Graduate\",\"Enrolled\",\"Dropout\",\"Graduate\",\"Enrolled\",\"Enrolled\",\"Graduate\",\"Dropout\",\"Dropout\",\"Enrolled\",\"Dropout\",\"Graduate\",\"Dropout\",\"Dropout\",\"Dropout\",\"Graduate\",\"Dropout\",\"Dropout\",\"Dropout\",\"Graduate\",\"Graduate\",\"Graduate\",\"Graduate\",\"Dropout\",\"Dropout\",\"Enrolled\",\"Graduate\",\"Dropout\",\"Dropout\",\"Enrolled\",\"Dropout\",\"Graduate\",\"Dropout\",\"Graduate\",\"Graduate\",\"Dropout\",\"Graduate\",\"Graduate\",\"Dropout\",\"Graduate\",\"Enrolled\",\"Graduate\",\"Graduate\",\"Enrolled\",\"Enrolled\",\"Enrolled\",\"Enrolled\",\"Enrolled\",\"Graduate\",\"Dropout\",\"Dropout\",\"Dropout\",\"Dropout\",\"Dropout\",\"Dropout\",\"Enrolled\",\"Graduate\",\"Enrolled\",\"Graduate\",\"Graduate\",\"Enrolled\",\"Dropout\",\"Graduate\",\"Graduate\",\"Graduate\",\"Dropout\",\"Dropout\",\"Graduate\",\"Graduate\",\"Graduate\",\"Dropout\",\"Dropout\",\"Enrolled\",\"Graduate\",\"Dropout\",\"Graduate\",\"Enrolled\",\"Graduate\",\"Graduate\",\"Dropout\",\"Graduate\",\"Enrolled\",\"Graduate\",\"Graduate\",\"Graduate\",\"Graduate\",\"Graduate\",\"Graduate\",\"Graduate\",\"Graduate\",\"Enrolled\",\"Graduate\",\"Enrolled\",\"Enrolled\",\"Dropout\",\"Dropout\",\"Dropout\",\"Graduate\",\"Graduate\",\"Dropout\",\"Dropout\",\"Graduate\",\"Graduate\",\"Graduate\",\"Dropout\",\"Dropout\",\"Graduate\",\"Dropout\",\"Enrolled\",\"Graduate\",\"Graduate\",\"Graduate\",\"Enrolled\",\"Graduate\",\"Graduate\",\"Graduate\",\"Graduate\",\"Graduate\",\"Enrolled\",\"Graduate\",\"Dropout\",\"Dropout\",\"Graduate\",\"Dropout\",\"Dropout\",\"Graduate\",\"Graduate\",\"Graduate\",\"Graduate\",\"Graduate\",\"Enrolled\",\"Graduate\",\"Graduate\",\"Graduate\",\"Graduate\",\"Graduate\",\"Enrolled\",\"Graduate\",\"Dropout\",\"Dropout\",\"Enrolled\",\"Enrolled\",\"Enrolled\",\"Dropout\",\"Enrolled\",\"Enrolled\",\"Graduate\",\"Graduate\",\"Graduate\",\"Graduate\",\"Enrolled\",\"Graduate\",\"Graduate\",\"Graduate\",\"Enrolled\",\"Enrolled\",\"Graduate\",\"Graduate\",\"Dropout\",\"Graduate\",\"Enrolled\",\"Graduate\",\"Graduate\",\"Graduate\",\"Graduate\",\"Dropout\",\"Graduate\",\"Dropout\",\"Graduate\",\"Graduate\",\"Dropout\",\"Graduate\",\"Graduate\",\"Graduate\",\"Dropout\",\"Graduate\",\"Enrolled\",\"Dropout\",\"Graduate\",\"Graduate\",\"Graduate\",\"Dropout\",\"Dropout\",\"Graduate\",\"Graduate\",\"Dropout\",\"Graduate\",\"Graduate\",\"Dropout\",\"Dropout\",\"Graduate\",\"Enrolled\",\"Dropout\",\"Graduate\",\"Dropout\",\"Graduate\",\"Enrolled\",\"Graduate\",\"Dropout\",\"Enrolled\",\"Dropout\",\"Dropout\",\"Dropout\",\"Graduate\",\"Dropout\",\"Graduate\",\"Graduate\",\"Graduate\",\"Dropout\",\"Dropout\",\"Dropout\",\"Graduate\",\"Graduate\",\"Graduate\",\"Graduate\",\"Dropout\",\"Dropout\",\"Enrolled\",\"Enrolled\",\"Dropout\",\"Enrolled\",\"Graduate\",\"Dropout\",\"Dropout\",\"Graduate\",\"Graduate\",\"Dropout\",\"Graduate\",\"Enrolled\",\"Dropout\",\"Graduate\",\"Graduate\",\"Graduate\",\"Dropout\",\"Graduate\",\"Enrolled\",\"Dropout\",\"Enrolled\",\"Dropout\",\"Dropout\",\"Graduate\",\"Dropout\",\"Dropout\",\"Graduate\",\"Dropout\",\"Dropout\",\"Graduate\",\"Dropout\",\"Graduate\",\"Graduate\",\"Graduate\",\"Graduate\",\"Dropout\",\"Graduate\",\"Dropout\",\"Dropout\",\"Dropout\",\"Graduate\",\"Graduate\",\"Graduate\",\"Enrolled\",\"Graduate\",\"Enrolled\",\"Graduate\",\"Enrolled\",\"Enrolled\",\"Graduate\",\"Graduate\",\"Graduate\",\"Graduate\",\"Dropout\",\"Enrolled\",\"Graduate\",\"Enrolled\",\"Dropout\",\"Graduate\",\"Dropout\",\"Enrolled\",\"Graduate\",\"Graduate\",\"Dropout\",\"Graduate\",\"Enrolled\",\"Graduate\",\"Graduate\",\"Graduate\",\"Graduate\",\"Dropout\",\"Graduate\",\"Graduate\",\"Dropout\",\"Graduate\",\"Graduate\",\"Graduate\",\"Graduate\",\"Graduate\",\"Graduate\",\"Graduate\",\"Enrolled\",\"Enrolled\",\"Dropout\",\"Graduate\",\"Graduate\",\"Graduate\",\"Enrolled\",\"Graduate\",\"Enrolled\",\"Dropout\",\"Enrolled\",\"Dropout\",\"Graduate\",\"Graduate\",\"Graduate\",\"Graduate\",\"Enrolled\",\"Enrolled\",\"Graduate\",\"Enrolled\",\"Graduate\",\"Graduate\",\"Graduate\",\"Enrolled\",\"Graduate\",\"Graduate\",\"Graduate\",\"Dropout\",\"Graduate\",\"Graduate\",\"Dropout\",\"Dropout\",\"Dropout\",\"Enrolled\",\"Dropout\",\"Dropout\",\"Enrolled\",\"Dropout\",\"Enrolled\",\"Dropout\",\"Graduate\",\"Dropout\",\"Enrolled\",\"Dropout\",\"Graduate\",\"Graduate\",\"Dropout\",\"Graduate\",\"Graduate\",\"Enrolled\",\"Graduate\",\"Graduate\",\"Enrolled\",\"Graduate\",\"Graduate\",\"Enrolled\",\"Dropout\",\"Dropout\",\"Dropout\",\"Dropout\",\"Dropout\",\"Dropout\",\"Dropout\",\"Dropout\",\"Dropout\",\"Dropout\",\"Graduate\",\"Dropout\",\"Dropout\",\"Graduate\",\"Graduate\",\"Graduate\",\"Dropout\",\"Graduate\",\"Enrolled\",\"Graduate\",\"Graduate\",\"Dropout\",\"Dropout\",\"Graduate\",\"Dropout\",\"Graduate\",\"Graduate\",\"Dropout\",\"Dropout\",\"Graduate\",\"Graduate\",\"Graduate\",\"Graduate\",\"Graduate\",\"Graduate\",\"Graduate\",\"Dropout\",\"Graduate\",\"Dropout\",\"Graduate\",\"Dropout\",\"Graduate\",\"Graduate\",\"Enrolled\",\"Graduate\",\"Dropout\",\"Graduate\",\"Graduate\",\"Graduate\",\"Dropout\",\"Graduate\",\"Dropout\",\"Graduate\",\"Enrolled\",\"Dropout\",\"Graduate\",\"Graduate\",\"Dropout\",\"Graduate\",\"Dropout\",\"Graduate\",\"Dropout\",\"Dropout\",\"Graduate\",\"Graduate\",\"Graduate\",\"Graduate\",\"Dropout\",\"Dropout\",\"Enrolled\",\"Graduate\",\"Dropout\",\"Enrolled\",\"Enrolled\",\"Dropout\",\"Enrolled\",\"Graduate\",\"Graduate\",\"Dropout\",\"Enrolled\",\"Graduate\",\"Dropout\",\"Enrolled\",\"Enrolled\",\"Dropout\",\"Graduate\",\"Graduate\",\"Enrolled\",\"Dropout\",\"Graduate\",\"Graduate\",\"Graduate\",\"Dropout\",\"Graduate\",\"Dropout\",\"Graduate\",\"Dropout\",\"Graduate\",\"Dropout\",\"Dropout\",\"Dropout\",\"Graduate\",\"Graduate\",\"Graduate\",\"Dropout\",\"Dropout\",\"Graduate\",\"Graduate\",\"Enrolled\",\"Graduate\",\"Graduate\",\"Dropout\",\"Dropout\",\"Dropout\",\"Enrolled\",\"Graduate\",\"Dropout\",\"Dropout\",\"Graduate\",\"Graduate\",\"Enrolled\",\"Graduate\",\"Graduate\",\"Dropout\",\"Graduate\",\"Dropout\",\"Enrolled\",\"Graduate\",\"Enrolled\",\"Dropout\",\"Graduate\",\"Graduate\",\"Dropout\",\"Dropout\",\"Dropout\",\"Graduate\",\"Graduate\",\"Dropout\",\"Graduate\",\"Graduate\",\"Graduate\",\"Enrolled\",\"Enrolled\",\"Graduate\",\"Dropout\",\"Dropout\",\"Dropout\",\"Graduate\",\"Graduate\",\"Dropout\",\"Graduate\",\"Graduate\",\"Graduate\",\"Graduate\",\"Graduate\",\"Graduate\",\"Graduate\",\"Graduate\",\"Dropout\",\"Graduate\",\"Graduate\",\"Dropout\",\"Graduate\",\"Dropout\",\"Graduate\",\"Graduate\",\"Graduate\",\"Graduate\",\"Graduate\",\"Graduate\",\"Dropout\",\"Graduate\",\"Graduate\",\"Graduate\",\"Graduate\",\"Graduate\",\"Enrolled\",\"Graduate\",\"Graduate\",\"Dropout\",\"Enrolled\",\"Dropout\",\"Graduate\",\"Graduate\",\"Enrolled\",\"Graduate\",\"Graduate\",\"Graduate\",\"Graduate\",\"Graduate\",\"Dropout\",\"Dropout\",\"Graduate\",\"Graduate\",\"Graduate\",\"Graduate\",\"Graduate\",\"Dropout\",\"Graduate\",\"Graduate\",\"Graduate\",\"Dropout\",\"Graduate\",\"Dropout\",\"Graduate\",\"Dropout\",\"Dropout\",\"Graduate\",\"Graduate\",\"Enrolled\",\"Dropout\",\"Graduate\",\"Graduate\",\"Graduate\",\"Graduate\",\"Graduate\",\"Graduate\",\"Enrolled\",\"Graduate\",\"Graduate\",\"Graduate\",\"Dropout\",\"Dropout\",\"Dropout\",\"Graduate\",\"Graduate\",\"Graduate\",\"Enrolled\",\"Graduate\",\"Graduate\",\"Dropout\",\"Graduate\",\"Graduate\",\"Enrolled\",\"Enrolled\",\"Graduate\",\"Dropout\",\"Graduate\",\"Dropout\",\"Graduate\",\"Dropout\",\"Dropout\",\"Graduate\",\"Graduate\",\"Graduate\",\"Dropout\",\"Dropout\",\"Enrolled\",\"Enrolled\",\"Graduate\",\"Dropout\",\"Dropout\",\"Graduate\",\"Dropout\",\"Graduate\",\"Graduate\",\"Graduate\",\"Enrolled\",\"Enrolled\",\"Graduate\",\"Graduate\",\"Dropout\",\"Graduate\",\"Enrolled\",\"Graduate\",\"Enrolled\",\"Graduate\",\"Graduate\",\"Graduate\",\"Graduate\",\"Graduate\",\"Graduate\",\"Graduate\",\"Graduate\",\"Graduate\",\"Graduate\",\"Graduate\",\"Enrolled\",\"Graduate\",\"Dropout\",\"Dropout\",\"Graduate\",\"Dropout\",\"Graduate\",\"Graduate\",\"Graduate\",\"Enrolled\",\"Dropout\",\"Graduate\",\"Enrolled\",\"Graduate\",\"Enrolled\",\"Graduate\",\"Enrolled\",\"Graduate\",\"Graduate\",\"Dropout\",\"Enrolled\",\"Enrolled\",\"Graduate\",\"Enrolled\",\"Dropout\",\"Graduate\",\"Graduate\",\"Graduate\",\"Graduate\",\"Enrolled\",\"Graduate\",\"Graduate\",\"Dropout\",\"Graduate\",\"Dropout\",\"Graduate\",\"Dropout\",\"Graduate\",\"Graduate\",\"Graduate\",\"Dropout\",\"Enrolled\",\"Graduate\",\"Dropout\",\"Graduate\",\"Graduate\",\"Dropout\",\"Graduate\",\"Dropout\",\"Graduate\",\"Graduate\",\"Dropout\",\"Enrolled\",\"Graduate\",\"Enrolled\",\"Dropout\",\"Graduate\",\"Graduate\",\"Dropout\",\"Graduate\",\"Graduate\",\"Graduate\",\"Graduate\",\"Enrolled\",\"Dropout\",\"Dropout\",\"Graduate\",\"Graduate\",\"Graduate\",\"Graduate\",\"Dropout\",\"Graduate\",\"Dropout\",\"Graduate\",\"Graduate\",\"Enrolled\",\"Dropout\",\"Dropout\",\"Dropout\",\"Enrolled\",\"Graduate\",\"Graduate\",\"Enrolled\",\"Graduate\",\"Graduate\",\"Graduate\",\"Graduate\",\"Graduate\",\"Dropout\",\"Graduate\",\"Dropout\",\"Graduate\",\"Graduate\",\"Graduate\",\"Graduate\",\"Graduate\",\"Graduate\",\"Enrolled\",\"Graduate\",\"Graduate\",\"Graduate\",\"Graduate\",\"Graduate\",\"Dropout\",\"Graduate\",\"Dropout\",\"Graduate\",\"Dropout\",\"Dropout\",\"Dropout\",\"Enrolled\",\"Graduate\",\"Dropout\",\"Dropout\",\"Graduate\",\"Dropout\",\"Enrolled\",\"Dropout\",\"Graduate\",\"Graduate\",\"Graduate\",\"Graduate\",\"Enrolled\",\"Dropout\",\"Graduate\",\"Graduate\",\"Graduate\",\"Graduate\",\"Graduate\",\"Dropout\",\"Dropout\",\"Graduate\",\"Graduate\",\"Graduate\",\"Graduate\",\"Graduate\",\"Enrolled\",\"Dropout\",\"Enrolled\",\"Graduate\",\"Dropout\",\"Dropout\",\"Graduate\",\"Graduate\",\"Graduate\",\"Dropout\",\"Enrolled\",\"Graduate\",\"Graduate\",\"Graduate\",\"Dropout\",\"Graduate\",\"Graduate\",\"Dropout\",\"Enrolled\",\"Graduate\",\"Graduate\",\"Graduate\",\"Enrolled\",\"Graduate\",\"Dropout\",\"Graduate\",\"Dropout\",\"Dropout\",\"Dropout\",\"Dropout\",\"Graduate\",\"Enrolled\",\"Dropout\",\"Dropout\",\"Graduate\",\"Graduate\",\"Graduate\",\"Graduate\",\"Graduate\",\"Graduate\",\"Graduate\",\"Graduate\",\"Graduate\",\"Graduate\",\"Graduate\",\"Dropout\",\"Enrolled\",\"Graduate\",\"Enrolled\",\"Dropout\",\"Dropout\",\"Graduate\",\"Graduate\",\"Enrolled\",\"Graduate\",\"Graduate\",\"Enrolled\",\"Graduate\",\"Enrolled\",\"Dropout\",\"Graduate\",\"Enrolled\",\"Graduate\",\"Graduate\",\"Dropout\",\"Enrolled\",\"Graduate\",\"Enrolled\",\"Enrolled\",\"Enrolled\",\"Dropout\",\"Graduate\",\"Graduate\",\"Graduate\",\"Graduate\",\"Graduate\",\"Dropout\",\"Graduate\",\"Graduate\",\"Enrolled\",\"Enrolled\",\"Graduate\",\"Graduate\",\"Graduate\",\"Graduate\",\"Dropout\",\"Enrolled\",\"Enrolled\",\"Dropout\",\"Dropout\",\"Dropout\",\"Dropout\",\"Dropout\",\"Graduate\",\"Dropout\",\"Graduate\",\"Graduate\",\"Dropout\",\"Dropout\",\"Graduate\",\"Dropout\",\"Graduate\",\"Graduate\",\"Graduate\",\"Graduate\",\"Graduate\",\"Dropout\",\"Dropout\",\"Enrolled\",\"Graduate\",\"Dropout\",\"Dropout\",\"Graduate\",\"Dropout\",\"Graduate\",\"Graduate\",\"Graduate\",\"Dropout\",\"Dropout\",\"Graduate\",\"Dropout\",\"Enrolled\",\"Graduate\",\"Graduate\",\"Dropout\",\"Graduate\",\"Graduate\",\"Graduate\",\"Enrolled\",\"Graduate\",\"Graduate\",\"Graduate\",\"Enrolled\",\"Graduate\",\"Graduate\",\"Graduate\",\"Dropout\",\"Dropout\",\"Graduate\",\"Enrolled\",\"Dropout\",\"Graduate\",\"Dropout\",\"Graduate\",\"Graduate\",\"Enrolled\",\"Graduate\",\"Graduate\",\"Dropout\",\"Graduate\",\"Graduate\",\"Dropout\",\"Dropout\",\"Enrolled\",\"Graduate\",\"Graduate\",\"Enrolled\",\"Graduate\",\"Graduate\",\"Enrolled\",\"Enrolled\",\"Graduate\",\"Graduate\",\"Dropout\",\"Enrolled\",\"Graduate\",\"Enrolled\",\"Dropout\",\"Enrolled\",\"Graduate\",\"Graduate\",\"Graduate\",\"Graduate\",\"Graduate\",\"Graduate\",\"Dropout\",\"Graduate\",\"Dropout\",\"Dropout\",\"Dropout\",\"Dropout\",\"Graduate\",\"Dropout\",\"Graduate\",\"Dropout\",\"Graduate\",\"Enrolled\",\"Dropout\",\"Enrolled\",\"Enrolled\",\"Enrolled\",\"Dropout\",\"Dropout\",\"Graduate\",\"Enrolled\",\"Dropout\",\"Enrolled\",\"Graduate\",\"Dropout\",\"Enrolled\",\"Graduate\",\"Graduate\",\"Enrolled\",\"Enrolled\",\"Graduate\",\"Dropout\",\"Enrolled\",\"Graduate\",\"Dropout\",\"Graduate\",\"Dropout\",\"Dropout\",\"Dropout\",\"Graduate\",\"Graduate\",\"Graduate\",\"Graduate\",\"Graduate\",\"Graduate\",\"Enrolled\",\"Dropout\",\"Graduate\",\"Graduate\",\"Graduate\",\"Dropout\",\"Graduate\",\"Dropout\",\"Graduate\",\"Graduate\",\"Graduate\",\"Enrolled\",\"Graduate\",\"Graduate\",\"Dropout\",\"Graduate\",\"Enrolled\",\"Enrolled\",\"Dropout\",\"Enrolled\",\"Graduate\",\"Graduate\",\"Dropout\",\"Dropout\",\"Enrolled\",\"Graduate\",\"Graduate\",\"Dropout\",\"Graduate\",\"Dropout\",\"Graduate\",\"Enrolled\",\"Dropout\",\"Dropout\",\"Graduate\",\"Dropout\",\"Dropout\",\"Enrolled\",\"Graduate\",\"Dropout\",\"Graduate\",\"Graduate\",\"Dropout\",\"Enrolled\",\"Graduate\",\"Graduate\",\"Enrolled\",\"Graduate\",\"Enrolled\",\"Dropout\",\"Graduate\",\"Dropout\",\"Dropout\",\"Dropout\",\"Dropout\",\"Dropout\",\"Dropout\",\"Dropout\",\"Graduate\",\"Enrolled\",\"Dropout\",\"Dropout\",\"Dropout\",\"Graduate\",\"Graduate\",\"Graduate\",\"Graduate\",\"Graduate\",\"Graduate\",\"Dropout\",\"Enrolled\",\"Dropout\",\"Graduate\",\"Enrolled\",\"Enrolled\",\"Graduate\",\"Enrolled\",\"Enrolled\",\"Graduate\",\"Graduate\",\"Graduate\",\"Enrolled\",\"Dropout\",\"Enrolled\",\"Dropout\",\"Dropout\",\"Dropout\",\"Graduate\",\"Graduate\",\"Dropout\",\"Enrolled\",\"Dropout\",\"Enrolled\",\"Graduate\",\"Enrolled\",\"Dropout\",\"Dropout\",\"Graduate\",\"Graduate\",\"Enrolled\",\"Enrolled\",\"Dropout\",\"Graduate\",\"Dropout\",\"Dropout\",\"Enrolled\",\"Dropout\",\"Enrolled\",\"Enrolled\",\"Enrolled\",\"Graduate\",\"Dropout\",\"Dropout\",\"Graduate\",\"Enrolled\",\"Enrolled\",\"Graduate\",\"Dropout\",\"Enrolled\",\"Graduate\",\"Graduate\",\"Enrolled\",\"Graduate\",\"Dropout\",\"Enrolled\",\"Graduate\",\"Dropout\",\"Graduate\",\"Dropout\",\"Graduate\",\"Dropout\",\"Dropout\",\"Graduate\",\"Graduate\",\"Graduate\",\"Dropout\",\"Dropout\",\"Dropout\",\"Dropout\",\"Graduate\",\"Dropout\",\"Dropout\",\"Dropout\",\"Graduate\",\"Dropout\",\"Graduate\",\"Enrolled\",\"Graduate\",\"Graduate\",\"Graduate\",\"Graduate\",\"Dropout\",\"Graduate\",\"Graduate\",\"Graduate\",\"Graduate\",\"Graduate\",\"Dropout\",\"Dropout\",\"Graduate\",\"Graduate\",\"Dropout\",\"Graduate\",\"Enrolled\",\"Graduate\",\"Enrolled\",\"Graduate\",\"Dropout\",\"Graduate\",\"Graduate\",\"Enrolled\",\"Graduate\",\"Enrolled\",\"Graduate\",\"Graduate\",\"Graduate\",\"Graduate\",\"Graduate\",\"Enrolled\",\"Graduate\",\"Graduate\",\"Dropout\",\"Graduate\",\"Enrolled\",\"Graduate\",\"Dropout\",\"Graduate\",\"Graduate\",\"Dropout\",\"Dropout\",\"Graduate\",\"Graduate\",\"Dropout\",\"Enrolled\",\"Enrolled\",\"Dropout\",\"Dropout\",\"Graduate\",\"Graduate\",\"Graduate\",\"Dropout\",\"Enrolled\",\"Dropout\",\"Dropout\",\"Dropout\",\"Graduate\",\"Enrolled\",\"Dropout\",\"Graduate\",\"Graduate\",\"Dropout\",\"Dropout\",\"Dropout\",\"Graduate\",\"Graduate\",\"Dropout\",\"Graduate\",\"Graduate\",\"Enrolled\",\"Dropout\",\"Enrolled\",\"Dropout\",\"Graduate\",\"Enrolled\",\"Graduate\",\"Dropout\",\"Enrolled\",\"Graduate\",\"Graduate\",\"Graduate\",\"Enrolled\",\"Dropout\",\"Dropout\",\"Graduate\",\"Graduate\",\"Graduate\",\"Graduate\",\"Graduate\",\"Dropout\",\"Graduate\",\"Enrolled\",\"Dropout\",\"Graduate\",\"Graduate\",\"Dropout\",\"Dropout\",\"Enrolled\",\"Dropout\",\"Graduate\",\"Graduate\",\"Enrolled\",\"Graduate\",\"Dropout\",\"Dropout\",\"Enrolled\",\"Dropout\",\"Dropout\",\"Dropout\",\"Dropout\",\"Dropout\",\"Dropout\",\"Dropout\",\"Dropout\",\"Enrolled\",\"Graduate\",\"Enrolled\",\"Enrolled\",\"Dropout\",\"Enrolled\",\"Enrolled\",\"Dropout\",\"Graduate\",\"Graduate\",\"Graduate\",\"Dropout\",\"Graduate\",\"Graduate\",\"Graduate\",\"Dropout\",\"Dropout\",\"Enrolled\",\"Dropout\",\"Enrolled\",\"Enrolled\",\"Enrolled\",\"Graduate\",\"Enrolled\",\"Enrolled\",\"Dropout\",\"Graduate\",\"Dropout\",\"Graduate\",\"Graduate\",\"Enrolled\",\"Graduate\",\"Dropout\",\"Enrolled\",\"Dropout\",\"Enrolled\",\"Dropout\",\"Graduate\",\"Dropout\",\"Graduate\",\"Graduate\",\"Dropout\",\"Dropout\",\"Dropout\",\"Enrolled\",\"Graduate\",\"Graduate\",\"Dropout\",\"Dropout\",\"Dropout\",\"Dropout\",\"Graduate\",\"Graduate\",\"Dropout\",\"Dropout\",\"Dropout\",\"Enrolled\",\"Dropout\",\"Enrolled\",\"Graduate\",\"Graduate\",\"Graduate\",\"Dropout\",\"Graduate\",\"Dropout\",\"Enrolled\",\"Graduate\",\"Graduate\",\"Dropout\",\"Dropout\",\"Enrolled\",\"Enrolled\",\"Enrolled\",\"Dropout\",\"Graduate\",\"Graduate\",\"Graduate\",\"Enrolled\",\"Dropout\",\"Enrolled\",\"Dropout\",\"Graduate\",\"Graduate\",\"Dropout\",\"Graduate\",\"Graduate\",\"Graduate\",\"Enrolled\",\"Graduate\",\"Graduate\",\"Dropout\",\"Dropout\",\"Graduate\",\"Enrolled\",\"Graduate\",\"Dropout\",\"Dropout\",\"Dropout\",\"Graduate\",\"Enrolled\",\"Dropout\",\"Dropout\",\"Graduate\",\"Graduate\",\"Dropout\",\"Dropout\",\"Graduate\",\"Graduate\",\"Graduate\",\"Enrolled\",\"Dropout\",\"Enrolled\",\"Dropout\",\"Graduate\",\"Dropout\",\"Graduate\",\"Dropout\",\"Dropout\",\"Graduate\",\"Graduate\",\"Dropout\",\"Dropout\",\"Graduate\",\"Dropout\",\"Graduate\",\"Graduate\",\"Dropout\",\"Dropout\",\"Dropout\",\"Graduate\",\"Enrolled\",\"Dropout\",\"Dropout\",\"Graduate\",\"Enrolled\",\"Graduate\",\"Dropout\",\"Dropout\",\"Graduate\",\"Graduate\",\"Graduate\",\"Graduate\",\"Dropout\",\"Enrolled\",\"Graduate\",\"Enrolled\",\"Enrolled\",\"Dropout\",\"Graduate\",\"Graduate\",\"Graduate\",\"Graduate\",\"Graduate\",\"Graduate\",\"Graduate\",\"Graduate\",\"Graduate\",\"Graduate\",\"Enrolled\",\"Graduate\",\"Graduate\",\"Graduate\",\"Graduate\",\"Dropout\",\"Graduate\",\"Graduate\",\"Graduate\",\"Graduate\",\"Graduate\",\"Enrolled\",\"Enrolled\",\"Graduate\",\"Enrolled\",\"Graduate\",\"Dropout\",\"Graduate\",\"Graduate\",\"Graduate\",\"Enrolled\",\"Graduate\",\"Graduate\",\"Graduate\",\"Graduate\",\"Graduate\",\"Graduate\",\"Graduate\",\"Graduate\",\"Graduate\",\"Dropout\",\"Graduate\",\"Graduate\",\"Graduate\",\"Graduate\",\"Graduate\",\"Dropout\",\"Graduate\",\"Graduate\",\"Graduate\",\"Graduate\",\"Graduate\",\"Dropout\",\"Dropout\",\"Dropout\",\"Graduate\",\"Enrolled\",\"Graduate\",\"Enrolled\",\"Graduate\",\"Dropout\",\"Enrolled\",\"Graduate\",\"Enrolled\",\"Graduate\",\"Graduate\",\"Graduate\",\"Graduate\",\"Graduate\",\"Enrolled\",\"Enrolled\",\"Graduate\",\"Enrolled\",\"Graduate\",\"Dropout\",\"Graduate\",\"Graduate\",\"Dropout\",\"Enrolled\",\"Graduate\",\"Enrolled\",\"Graduate\",\"Graduate\",\"Graduate\",\"Graduate\",\"Graduate\",\"Graduate\",\"Graduate\",\"Graduate\",\"Enrolled\",\"Graduate\",\"Enrolled\",\"Graduate\",\"Dropout\",\"Enrolled\",\"Graduate\",\"Dropout\",\"Graduate\",\"Graduate\",\"Graduate\",\"Dropout\",\"Graduate\",\"Dropout\",\"Dropout\",\"Graduate\",\"Dropout\",\"Dropout\",\"Graduate\",\"Graduate\",\"Graduate\",\"Graduate\",\"Dropout\",\"Graduate\",\"Graduate\",\"Dropout\",\"Dropout\",\"Dropout\",\"Graduate\",\"Graduate\",\"Graduate\",\"Enrolled\",\"Graduate\",\"Dropout\",\"Dropout\",\"Dropout\",\"Graduate\",\"Enrolled\",\"Graduate\",\"Graduate\",\"Enrolled\",\"Graduate\",\"Graduate\",\"Graduate\",\"Dropout\",\"Graduate\",\"Dropout\",\"Graduate\",\"Enrolled\",\"Dropout\",\"Dropout\",\"Graduate\",\"Graduate\",\"Dropout\",\"Graduate\",\"Graduate\",\"Graduate\",\"Graduate\",\"Graduate\",\"Dropout\",\"Dropout\",\"Graduate\",\"Graduate\",\"Graduate\",\"Graduate\",\"Dropout\",\"Enrolled\",\"Graduate\",\"Graduate\",\"Graduate\",\"Enrolled\",\"Graduate\",\"Dropout\",\"Graduate\",\"Graduate\",\"Graduate\",\"Graduate\",\"Graduate\",\"Graduate\",\"Graduate\",\"Graduate\",\"Enrolled\",\"Dropout\",\"Graduate\",\"Graduate\",\"Graduate\",\"Graduate\",\"Graduate\",\"Graduate\",\"Graduate\",\"Graduate\",\"Graduate\",\"Graduate\",\"Graduate\",\"Graduate\",\"Graduate\",\"Graduate\",\"Graduate\",\"Dropout\",\"Dropout\",\"Dropout\",\"Graduate\",\"Dropout\",\"Graduate\",\"Enrolled\",\"Graduate\",\"Graduate\",\"Dropout\",\"Graduate\",\"Dropout\",\"Graduate\",\"Graduate\",\"Dropout\",\"Enrolled\",\"Graduate\",\"Graduate\",\"Dropout\",\"Graduate\",\"Enrolled\",\"Enrolled\",\"Graduate\",\"Enrolled\",\"Graduate\",\"Enrolled\",\"Graduate\",\"Graduate\",\"Graduate\",\"Dropout\",\"Dropout\",\"Graduate\",\"Dropout\",\"Graduate\",\"Enrolled\",\"Dropout\",\"Graduate\",\"Graduate\",\"Dropout\",\"Graduate\",\"Dropout\",\"Dropout\",\"Dropout\",\"Dropout\",\"Graduate\",\"Enrolled\",\"Graduate\",\"Graduate\",\"Graduate\",\"Graduate\",\"Dropout\",\"Graduate\",\"Graduate\",\"Graduate\",\"Dropout\",\"Enrolled\",\"Graduate\",\"Graduate\",\"Graduate\",\"Graduate\",\"Enrolled\",\"Graduate\",\"Graduate\",\"Graduate\",\"Graduate\",\"Graduate\",\"Enrolled\",\"Graduate\",\"Graduate\",\"Graduate\",\"Graduate\",\"Enrolled\",\"Graduate\",\"Graduate\",\"Dropout\",\"Graduate\",\"Dropout\",\"Dropout\",\"Graduate\",\"Graduate\",\"Graduate\",\"Graduate\",\"Graduate\",\"Graduate\",\"Graduate\",\"Graduate\",\"Graduate\",\"Graduate\",\"Dropout\",\"Graduate\",\"Graduate\",\"Graduate\",\"Dropout\",\"Graduate\",\"Graduate\",\"Dropout\",\"Graduate\",\"Graduate\",\"Dropout\",\"Enrolled\",\"Graduate\",\"Enrolled\",\"Graduate\",\"Graduate\",\"Dropout\",\"Enrolled\",\"Dropout\",\"Dropout\",\"Enrolled\",\"Graduate\",\"Enrolled\",\"Enrolled\",\"Enrolled\",\"Dropout\",\"Dropout\",\"Dropout\",\"Graduate\",\"Graduate\",\"Dropout\",\"Graduate\",\"Enrolled\",\"Dropout\",\"Enrolled\",\"Enrolled\",\"Dropout\",\"Graduate\",\"Graduate\",\"Enrolled\",\"Dropout\",\"Graduate\",\"Enrolled\",\"Graduate\",\"Dropout\",\"Graduate\",\"Graduate\",\"Graduate\",\"Graduate\",\"Enrolled\",\"Dropout\",\"Graduate\",\"Dropout\",\"Graduate\",\"Dropout\",\"Dropout\",\"Graduate\",\"Graduate\",\"Dropout\",\"Dropout\",\"Dropout\",\"Enrolled\",\"Graduate\",\"Enrolled\",\"Dropout\",\"Enrolled\",\"Enrolled\",\"Graduate\",\"Enrolled\",\"Enrolled\",\"Graduate\",\"Dropout\",\"Graduate\",\"Enrolled\",\"Enrolled\",\"Dropout\",\"Graduate\",\"Dropout\",\"Dropout\",\"Dropout\",\"Dropout\",\"Dropout\",\"Dropout\",\"Dropout\",\"Enrolled\",\"Dropout\",\"Graduate\",\"Enrolled\",\"Dropout\",\"Dropout\",\"Dropout\",\"Enrolled\",\"Enrolled\",\"Dropout\",\"Dropout\",\"Dropout\",\"Dropout\",\"Dropout\",\"Graduate\",\"Dropout\",\"Dropout\",\"Dropout\",\"Dropout\",\"Graduate\",\"Graduate\",\"Enrolled\",\"Dropout\",\"Graduate\",\"Enrolled\",\"Dropout\",\"Graduate\",\"Enrolled\",\"Dropout\",\"Graduate\",\"Graduate\",\"Enrolled\",\"Dropout\",\"Dropout\",\"Graduate\",\"Dropout\",\"Graduate\",\"Dropout\",\"Graduate\",\"Dropout\",\"Graduate\",\"Graduate\",\"Dropout\",\"Enrolled\",\"Enrolled\",\"Enrolled\",\"Enrolled\",\"Dropout\",\"Enrolled\",\"Dropout\",\"Dropout\",\"Dropout\",\"Graduate\",\"Graduate\",\"Graduate\",\"Dropout\",\"Graduate\",\"Graduate\",\"Dropout\",\"Dropout\",\"Dropout\",\"Dropout\",\"Graduate\",\"Dropout\",\"Enrolled\",\"Dropout\",\"Enrolled\",\"Graduate\",\"Dropout\",\"Enrolled\",\"Dropout\",\"Graduate\",\"Dropout\",\"Dropout\",\"Dropout\",\"Graduate\",\"Dropout\",\"Graduate\",\"Graduate\",\"Dropout\",\"Dropout\",\"Dropout\",\"Enrolled\",\"Dropout\",\"Enrolled\",\"Graduate\",\"Graduate\",\"Graduate\",\"Graduate\",\"Enrolled\",\"Graduate\",\"Dropout\",\"Graduate\",\"Graduate\",\"Graduate\",\"Graduate\",\"Graduate\",\"Dropout\",\"Graduate\",\"Graduate\",\"Dropout\",\"Graduate\",\"Dropout\",\"Enrolled\",\"Dropout\",\"Graduate\",\"Enrolled\",\"Enrolled\",\"Graduate\",\"Enrolled\",\"Graduate\",\"Enrolled\",\"Dropout\",\"Enrolled\",\"Graduate\",\"Enrolled\",\"Enrolled\",\"Enrolled\",\"Dropout\",\"Graduate\",\"Dropout\",\"Dropout\",\"Graduate\",\"Graduate\",\"Graduate\",\"Dropout\",\"Enrolled\",\"Enrolled\",\"Graduate\",\"Enrolled\",\"Graduate\",\"Dropout\",\"Dropout\",\"Dropout\",\"Dropout\",\"Enrolled\",\"Dropout\",\"Graduate\",\"Enrolled\",\"Dropout\",\"Enrolled\",\"Graduate\",\"Graduate\",\"Dropout\",\"Graduate\",\"Dropout\",\"Graduate\",\"Dropout\",\"Graduate\",\"Graduate\",\"Dropout\",\"Dropout\",\"Dropout\",\"Dropout\",\"Dropout\",\"Enrolled\",\"Graduate\",\"Graduate\",\"Dropout\",\"Dropout\",\"Graduate\",\"Graduate\",\"Enrolled\",\"Dropout\",\"Dropout\",\"Graduate\",\"Dropout\",\"Dropout\",\"Dropout\",\"Dropout\",\"Graduate\",\"Dropout\",\"Dropout\",\"Graduate\",\"Graduate\",\"Dropout\",\"Enrolled\",\"Enrolled\",\"Graduate\",\"Graduate\",\"Dropout\",\"Dropout\",\"Dropout\",\"Dropout\",\"Enrolled\",\"Dropout\",\"Graduate\",\"Dropout\",\"Enrolled\",\"Dropout\",\"Graduate\",\"Dropout\",\"Dropout\",\"Enrolled\",\"Dropout\",\"Graduate\",\"Enrolled\",\"Dropout\",\"Graduate\",\"Graduate\",\"Enrolled\",\"Dropout\",\"Graduate\",\"Dropout\",\"Dropout\",\"Dropout\",\"Dropout\",\"Dropout\",\"Dropout\",\"Enrolled\",\"Enrolled\",\"Dropout\",\"Dropout\",\"Enrolled\",\"Dropout\",\"Dropout\",\"Dropout\",\"Graduate\",\"Dropout\",\"Graduate\",\"Enrolled\",\"Graduate\",\"Dropout\",\"Enrolled\",\"Graduate\",\"Graduate\",\"Graduate\",\"Graduate\",\"Dropout\",\"Dropout\",\"Dropout\",\"Enrolled\",\"Graduate\",\"Enrolled\",\"Enrolled\",\"Dropout\",\"Graduate\",\"Graduate\",\"Graduate\",\"Graduate\",\"Graduate\",\"Dropout\",\"Dropout\",\"Graduate\",\"Graduate\",\"Graduate\",\"Graduate\",\"Dropout\",\"Graduate\",\"Graduate\",\"Graduate\",\"Graduate\",\"Graduate\",\"Dropout\",\"Enrolled\",\"Graduate\",\"Graduate\",\"Dropout\",\"Enrolled\",\"Graduate\",\"Graduate\",\"Graduate\",\"Graduate\",\"Graduate\",\"Graduate\",\"Graduate\",\"Dropout\",\"Dropout\",\"Graduate\",\"Dropout\",\"Graduate\",\"Graduate\",\"Graduate\",\"Graduate\",\"Graduate\",\"Graduate\",\"Enrolled\",\"Graduate\",\"Enrolled\",\"Enrolled\",\"Graduate\",\"Graduate\",\"Graduate\",\"Dropout\",\"Dropout\",\"Graduate\",\"Dropout\",\"Enrolled\",\"Graduate\",\"Graduate\",\"Graduate\",\"Graduate\",\"Dropout\",\"Graduate\",\"Enrolled\",\"Graduate\",\"Dropout\",\"Enrolled\",\"Enrolled\",\"Graduate\",\"Enrolled\",\"Enrolled\",\"Dropout\",\"Graduate\",\"Graduate\",\"Dropout\",\"Enrolled\",\"Graduate\",\"Graduate\",\"Graduate\",\"Enrolled\",\"Enrolled\",\"Graduate\",\"Graduate\",\"Graduate\",\"Graduate\",\"Graduate\",\"Graduate\",\"Graduate\",\"Dropout\",\"Dropout\",\"Graduate\",\"Graduate\",\"Graduate\",\"Dropout\",\"Graduate\",\"Enrolled\",\"Graduate\",\"Graduate\",\"Enrolled\",\"Enrolled\",\"Dropout\",\"Enrolled\",\"Dropout\",\"Enrolled\",\"Graduate\",\"Dropout\",\"Enrolled\",\"Graduate\",\"Dropout\",\"Dropout\",\"Enrolled\",\"Enrolled\",\"Dropout\",\"Enrolled\",\"Graduate\",\"Dropout\",\"Dropout\",\"Graduate\",\"Graduate\",\"Dropout\",\"Graduate\",\"Dropout\",\"Graduate\",\"Graduate\",\"Graduate\",\"Dropout\",\"Dropout\",\"Dropout\",\"Dropout\",\"Graduate\",\"Dropout\",\"Graduate\",\"Enrolled\",\"Graduate\",\"Graduate\",\"Dropout\",\"Graduate\",\"Dropout\",\"Graduate\",\"Enrolled\",\"Enrolled\",\"Enrolled\",\"Dropout\",\"Dropout\",\"Graduate\",\"Graduate\",\"Enrolled\",\"Dropout\",\"Dropout\",\"Graduate\",\"Graduate\",\"Graduate\",\"Dropout\",\"Graduate\",\"Dropout\",\"Dropout\",\"Graduate\",\"Dropout\",\"Enrolled\",\"Dropout\",\"Dropout\",\"Dropout\",\"Enrolled\",\"Dropout\",\"Graduate\",\"Dropout\",\"Graduate\",\"Graduate\",\"Graduate\",\"Enrolled\",\"Dropout\",\"Dropout\",\"Dropout\",\"Graduate\",\"Dropout\",\"Dropout\",\"Graduate\",\"Dropout\",\"Graduate\",\"Dropout\",\"Enrolled\",\"Dropout\",\"Enrolled\",\"Graduate\",\"Dropout\",\"Enrolled\",\"Graduate\",\"Enrolled\",\"Dropout\",\"Graduate\",\"Enrolled\",\"Graduate\",\"Graduate\",\"Dropout\",\"Dropout\",\"Graduate\",\"Dropout\",\"Enrolled\",\"Enrolled\",\"Dropout\",\"Enrolled\",\"Dropout\",\"Dropout\",\"Graduate\",\"Graduate\",\"Graduate\",\"Graduate\",\"Enrolled\",\"Dropout\",\"Enrolled\",\"Dropout\",\"Graduate\",\"Dropout\",\"Dropout\",\"Dropout\",\"Dropout\",\"Enrolled\",\"Dropout\",\"Graduate\",\"Dropout\",\"Graduate\",\"Enrolled\",\"Graduate\",\"Dropout\",\"Dropout\",\"Graduate\",\"Dropout\",\"Graduate\",\"Enrolled\",\"Graduate\",\"Graduate\",\"Graduate\",\"Graduate\",\"Enrolled\",\"Enrolled\",\"Dropout\",\"Graduate\",\"Enrolled\",\"Graduate\",\"Graduate\",\"Enrolled\",\"Graduate\",\"Graduate\",\"Graduate\",\"Enrolled\",\"Enrolled\",\"Graduate\",\"Graduate\",\"Graduate\",\"Dropout\",\"Graduate\",\"Graduate\",\"Graduate\",\"Graduate\",\"Graduate\",\"Graduate\",\"Dropout\",\"Graduate\",\"Enrolled\",\"Dropout\",\"Dropout\",\"Dropout\",\"Dropout\",\"Graduate\",\"Dropout\",\"Graduate\",\"Dropout\",\"Graduate\",\"Dropout\",\"Dropout\",\"Enrolled\",\"Enrolled\",\"Dropout\",\"Enrolled\",\"Enrolled\",\"Graduate\",\"Enrolled\",\"Graduate\",\"Graduate\",\"Dropout\",\"Graduate\",\"Dropout\",\"Graduate\",\"Graduate\",\"Enrolled\",\"Graduate\",\"Enrolled\",\"Graduate\",\"Enrolled\",\"Enrolled\",\"Graduate\",\"Graduate\",\"Graduate\",\"Dropout\",\"Enrolled\",\"Enrolled\",\"Graduate\",\"Graduate\",\"Dropout\",\"Enrolled\",\"Dropout\",\"Dropout\",\"Dropout\",\"Graduate\",\"Graduate\",\"Graduate\",\"Enrolled\",\"Graduate\",\"Dropout\",\"Graduate\",\"Graduate\",\"Dropout\",\"Graduate\",\"Dropout\",\"Graduate\",\"Graduate\",\"Graduate\",\"Graduate\",\"Graduate\",\"Enrolled\",\"Graduate\",\"Enrolled\",\"Graduate\",\"Dropout\",\"Graduate\",\"Graduate\",\"Graduate\",\"Graduate\",\"Graduate\",\"Enrolled\",\"Graduate\",\"Enrolled\",\"Graduate\",\"Dropout\",\"Graduate\",\"Enrolled\",\"Enrolled\",\"Dropout\",\"Graduate\",\"Graduate\",\"Enrolled\",\"Dropout\",\"Graduate\",\"Enrolled\",\"Enrolled\",\"Enrolled\",\"Graduate\",\"Graduate\",\"Dropout\",\"Enrolled\",\"Dropout\",\"Graduate\",\"Enrolled\",\"Graduate\",\"Graduate\",\"Dropout\",\"Enrolled\",\"Graduate\",\"Dropout\",\"Dropout\",\"Dropout\",\"Graduate\",\"Dropout\",\"Graduate\",\"Graduate\",\"Graduate\",\"Dropout\",\"Dropout\",\"Graduate\",\"Dropout\",\"Graduate\",\"Enrolled\",\"Graduate\",\"Graduate\",\"Graduate\",\"Graduate\",\"Dropout\",\"Graduate\",\"Dropout\",\"Graduate\",\"Enrolled\",\"Graduate\",\"Graduate\",\"Dropout\",\"Enrolled\",\"Graduate\",\"Dropout\",\"Enrolled\",\"Dropout\",\"Enrolled\",\"Dropout\",\"Dropout\",\"Graduate\",\"Enrolled\",\"Dropout\",\"Graduate\",\"Graduate\",\"Graduate\",\"Graduate\",\"Graduate\",\"Graduate\",\"Graduate\",\"Graduate\",\"Dropout\",\"Graduate\",\"Dropout\",\"Graduate\",\"Graduate\",\"Enrolled\",\"Graduate\",\"Graduate\",\"Graduate\",\"Enrolled\",\"Dropout\",\"Graduate\",\"Graduate\",\"Dropout\",\"Graduate\",\"Graduate\",\"Graduate\",\"Graduate\",\"Dropout\",\"Dropout\",\"Graduate\",\"Dropout\",\"Graduate\",\"Dropout\",\"Enrolled\",\"Graduate\",\"Graduate\",\"Dropout\",\"Dropout\",\"Graduate\",\"Enrolled\",\"Dropout\",\"Dropout\",\"Graduate\",\"Graduate\",\"Graduate\",\"Graduate\",\"Dropout\",\"Enrolled\",\"Dropout\",\"Dropout\",\"Dropout\",\"Graduate\",\"Dropout\",\"Dropout\",\"Dropout\",\"Dropout\",\"Enrolled\",\"Dropout\",\"Graduate\",\"Enrolled\",\"Graduate\",\"Graduate\",\"Graduate\",\"Dropout\",\"Dropout\",\"Graduate\",\"Graduate\",\"Dropout\",\"Graduate\",\"Graduate\",\"Enrolled\",\"Dropout\",\"Graduate\",\"Graduate\",\"Dropout\",\"Graduate\",\"Dropout\",\"Graduate\",\"Graduate\",\"Graduate\",\"Dropout\",\"Graduate\",\"Dropout\",\"Graduate\",\"Graduate\",\"Enrolled\",\"Graduate\",\"Graduate\",\"Graduate\",\"Dropout\",\"Enrolled\",\"Graduate\",\"Dropout\",\"Graduate\",\"Graduate\",\"Dropout\",\"Graduate\",\"Dropout\",\"Graduate\",\"Graduate\",\"Graduate\",\"Graduate\",\"Graduate\",\"Graduate\",\"Enrolled\",\"Graduate\",\"Graduate\",\"Enrolled\",\"Graduate\",\"Graduate\",\"Dropout\",\"Graduate\",\"Graduate\",\"Graduate\",\"Graduate\",\"Enrolled\",\"Graduate\",\"Dropout\",\"Enrolled\",\"Graduate\",\"Dropout\",\"Dropout\",\"Graduate\",\"Graduate\",\"Graduate\",\"Enrolled\",\"Dropout\",\"Graduate\",\"Graduate\",\"Dropout\",\"Graduate\",\"Graduate\",\"Dropout\",\"Graduate\",\"Graduate\",\"Graduate\",\"Graduate\",\"Graduate\",\"Graduate\",\"Graduate\",\"Dropout\",\"Graduate\",\"Graduate\",\"Graduate\",\"Enrolled\",\"Dropout\",\"Graduate\",\"Graduate\",\"Dropout\",\"Graduate\",\"Graduate\",\"Graduate\",\"Graduate\",\"Graduate\",\"Dropout\",\"Graduate\",\"Graduate\",\"Dropout\",\"Dropout\",\"Enrolled\",\"Graduate\",\"Graduate\",\"Graduate\",\"Graduate\",\"Enrolled\",\"Dropout\",\"Graduate\",\"Graduate\",\"Dropout\",\"Enrolled\",\"Graduate\",\"Dropout\",\"Graduate\",\"Dropout\",\"Graduate\",\"Dropout\",\"Graduate\",\"Graduate\",\"Enrolled\",\"Dropout\",\"Dropout\",\"Graduate\",\"Graduate\",\"Dropout\",\"Graduate\",\"Enrolled\",\"Graduate\",\"Dropout\",\"Enrolled\",\"Dropout\",\"Dropout\",\"Enrolled\",\"Dropout\",\"Enrolled\",\"Dropout\",\"Enrolled\",\"Graduate\",\"Dropout\",\"Graduate\",\"Graduate\",\"Graduate\",\"Dropout\",\"Graduate\",\"Enrolled\",\"Graduate\",\"Graduate\",\"Graduate\",\"Dropout\",\"Graduate\",\"Enrolled\",\"Graduate\",\"Graduate\",\"Dropout\",\"Graduate\",\"Graduate\",\"Dropout\",\"Enrolled\",\"Dropout\",\"Graduate\",\"Graduate\",\"Dropout\",\"Dropout\",\"Graduate\",\"Dropout\",\"Graduate\",\"Graduate\",\"Enrolled\",\"Graduate\",\"Dropout\",\"Graduate\",\"Dropout\",\"Enrolled\",\"Graduate\",\"Graduate\",\"Dropout\",\"Graduate\",\"Graduate\",\"Enrolled\",\"Dropout\",\"Graduate\",\"Enrolled\",\"Graduate\",\"Graduate\",\"Graduate\",\"Enrolled\",\"Graduate\",\"Graduate\",\"Graduate\",\"Graduate\",\"Graduate\",\"Graduate\",\"Enrolled\",\"Enrolled\",\"Graduate\",\"Graduate\",\"Graduate\",\"Graduate\",\"Enrolled\",\"Graduate\",\"Graduate\",\"Dropout\",\"Graduate\",\"Graduate\",\"Graduate\",\"Graduate\",\"Enrolled\",\"Enrolled\",\"Graduate\",\"Enrolled\",\"Dropout\",\"Graduate\",\"Graduate\",\"Enrolled\",\"Enrolled\",\"Graduate\",\"Dropout\",\"Enrolled\",\"Enrolled\",\"Graduate\",\"Graduate\",\"Graduate\",\"Graduate\",\"Graduate\",\"Graduate\",\"Dropout\",\"Dropout\",\"Dropout\",\"Graduate\",\"Graduate\",\"Dropout\",\"Dropout\",\"Graduate\",\"Enrolled\",\"Dropout\",\"Graduate\",\"Dropout\",\"Graduate\",\"Enrolled\",\"Graduate\",\"Dropout\",\"Graduate\",\"Enrolled\",\"Graduate\",\"Dropout\",\"Dropout\",\"Dropout\",\"Dropout\",\"Dropout\",\"Dropout\",\"Dropout\",\"Enrolled\",\"Dropout\",\"Enrolled\",\"Dropout\",\"Enrolled\",\"Graduate\",\"Dropout\",\"Graduate\",\"Dropout\",\"Graduate\",\"Enrolled\",\"Dropout\",\"Dropout\",\"Dropout\",\"Graduate\",\"Dropout\",\"Dropout\",\"Graduate\",\"Graduate\",\"Enrolled\",\"Graduate\",\"Dropout\",\"Graduate\",\"Graduate\",\"Dropout\",\"Graduate\",\"Enrolled\",\"Dropout\",\"Dropout\",\"Dropout\",\"Graduate\",\"Dropout\",\"Dropout\",\"Graduate\",\"Graduate\",\"Enrolled\",\"Graduate\",\"Graduate\",\"Graduate\",\"Enrolled\",\"Graduate\",\"Dropout\",\"Graduate\",\"Graduate\",\"Graduate\",\"Enrolled\",\"Graduate\",\"Graduate\",\"Enrolled\",\"Graduate\",\"Dropout\",\"Graduate\",\"Dropout\",\"Dropout\",\"Graduate\",\"Graduate\",\"Graduate\",\"Graduate\",\"Dropout\",\"Graduate\",\"Dropout\",\"Dropout\",\"Graduate\",\"Graduate\",\"Graduate\",\"Graduate\",\"Graduate\",\"Graduate\",\"Graduate\",\"Graduate\",\"Dropout\",\"Graduate\",\"Dropout\",\"Graduate\",\"Graduate\",\"Enrolled\",\"Dropout\",\"Dropout\",\"Dropout\",\"Graduate\",\"Graduate\",\"Enrolled\",\"Dropout\",\"Graduate\",\"Dropout\",\"Graduate\",\"Dropout\",\"Graduate\",\"Graduate\",\"Dropout\",\"Enrolled\",\"Graduate\",\"Enrolled\",\"Graduate\",\"Dropout\",\"Dropout\",\"Graduate\",\"Graduate\",\"Dropout\",\"Dropout\",\"Dropout\",\"Enrolled\",\"Enrolled\",\"Graduate\",\"Enrolled\",\"Dropout\",\"Graduate\",\"Dropout\",\"Dropout\",\"Graduate\",\"Graduate\",\"Graduate\",\"Graduate\",\"Graduate\",\"Graduate\",\"Graduate\",\"Graduate\",\"Dropout\",\"Graduate\",\"Dropout\",\"Enrolled\",\"Enrolled\",\"Dropout\",\"Graduate\",\"Dropout\",\"Graduate\",\"Dropout\",\"Graduate\",\"Graduate\",\"Dropout\",\"Dropout\",\"Dropout\",\"Dropout\",\"Enrolled\",\"Graduate\",\"Dropout\",\"Enrolled\",\"Enrolled\",\"Graduate\",\"Dropout\",\"Dropout\",\"Dropout\",\"Graduate\",\"Enrolled\",\"Dropout\",\"Dropout\",\"Dropout\",\"Enrolled\",\"Dropout\",\"Enrolled\",\"Graduate\",\"Enrolled\",\"Dropout\",\"Dropout\",\"Dropout\",\"Dropout\",\"Graduate\",\"Dropout\",\"Enrolled\",\"Dropout\",\"Dropout\",\"Graduate\",\"Graduate\",\"Dropout\",\"Enrolled\",\"Dropout\",\"Dropout\",\"Enrolled\",\"Dropout\",\"Graduate\",\"Graduate\",\"Dropout\",\"Dropout\",\"Dropout\",\"Enrolled\",\"Graduate\",\"Enrolled\",\"Dropout\",\"Dropout\",\"Graduate\",\"Graduate\",\"Graduate\",\"Graduate\",\"Graduate\",\"Graduate\",\"Graduate\",\"Enrolled\",\"Graduate\",\"Dropout\",\"Dropout\",\"Graduate\",\"Dropout\",\"Enrolled\",\"Graduate\",\"Graduate\",\"Graduate\",\"Graduate\",\"Enrolled\",\"Graduate\",\"Graduate\",\"Graduate\",\"Graduate\",\"Enrolled\",\"Graduate\",\"Enrolled\",\"Graduate\",\"Graduate\",\"Graduate\",\"Graduate\",\"Enrolled\",\"Graduate\",\"Graduate\",\"Enrolled\",\"Graduate\",\"Enrolled\",\"Graduate\",\"Dropout\",\"Graduate\",\"Enrolled\",\"Graduate\",\"Enrolled\",\"Dropout\",\"Graduate\",\"Enrolled\",\"Enrolled\",\"Dropout\",\"Graduate\",\"Graduate\",\"Graduate\",\"Dropout\",\"Dropout\",\"Dropout\",\"Dropout\",\"Dropout\",\"Enrolled\",\"Graduate\",\"Dropout\",\"Dropout\",\"Graduate\",\"Graduate\",\"Graduate\",\"Dropout\",\"Dropout\",\"Graduate\",\"Graduate\",\"Enrolled\",\"Graduate\",\"Dropout\",\"Enrolled\",\"Enrolled\",\"Graduate\",\"Graduate\",\"Dropout\",\"Graduate\",\"Dropout\",\"Graduate\",\"Graduate\",\"Graduate\",\"Enrolled\",\"Enrolled\",\"Graduate\",\"Graduate\",\"Dropout\",\"Graduate\",\"Graduate\",\"Graduate\",\"Graduate\",\"Dropout\",\"Graduate\",\"Enrolled\",\"Dropout\",\"Enrolled\",\"Graduate\",\"Dropout\",\"Enrolled\",\"Graduate\",\"Enrolled\",\"Enrolled\",\"Graduate\",\"Graduate\",\"Dropout\",\"Dropout\",\"Dropout\",\"Graduate\",\"Graduate\",\"Dropout\",\"Enrolled\",\"Graduate\",\"Graduate\",\"Graduate\",\"Dropout\",\"Dropout\",\"Dropout\",\"Dropout\",\"Graduate\",\"Dropout\",\"Dropout\",\"Graduate\",\"Dropout\",\"Dropout\",\"Dropout\",\"Dropout\",\"Graduate\",\"Graduate\",\"Dropout\",\"Dropout\",\"Graduate\",\"Enrolled\",\"Dropout\",\"Dropout\",\"Graduate\",\"Graduate\",\"Graduate\",\"Dropout\",\"Dropout\",\"Graduate\",\"Enrolled\",\"Graduate\",\"Dropout\",\"Enrolled\",\"Dropout\",\"Dropout\",\"Dropout\",\"Enrolled\",\"Dropout\",\"Dropout\",\"Dropout\",\"Dropout\",\"Graduate\",\"Dropout\",\"Graduate\",\"Enrolled\",\"Enrolled\",\"Graduate\",\"Dropout\",\"Dropout\",\"Dropout\",\"Enrolled\",\"Graduate\",\"Enrolled\",\"Graduate\",\"Dropout\",\"Dropout\",\"Dropout\",\"Dropout\",\"Dropout\",\"Dropout\",\"Graduate\",\"Dropout\",\"Dropout\",\"Enrolled\",\"Enrolled\",\"Enrolled\",\"Graduate\",\"Graduate\",\"Dropout\",\"Dropout\",\"Graduate\",\"Enrolled\",\"Dropout\",\"Dropout\",\"Dropout\",\"Enrolled\",\"Graduate\",\"Enrolled\",\"Dropout\",\"Enrolled\",\"Graduate\",\"Enrolled\",\"Graduate\",\"Dropout\",\"Dropout\",\"Dropout\",\"Dropout\",\"Graduate\",\"Graduate\",\"Graduate\",\"Dropout\",\"Graduate\",\"Graduate\",\"Dropout\",\"Enrolled\",\"Graduate\",\"Graduate\",\"Graduate\",\"Dropout\",\"Dropout\",\"Graduate\",\"Graduate\",\"Graduate\",\"Dropout\",\"Enrolled\",\"Graduate\",\"Dropout\",\"Dropout\",\"Graduate\",\"Graduate\",\"Dropout\",\"Enrolled\",\"Enrolled\",\"Dropout\",\"Dropout\",\"Enrolled\",\"Dropout\",\"Enrolled\",\"Graduate\",\"Graduate\",\"Dropout\",\"Dropout\",\"Graduate\",\"Graduate\",\"Enrolled\",\"Graduate\",\"Graduate\",\"Dropout\",\"Enrolled\",\"Dropout\",\"Enrolled\",\"Enrolled\",\"Graduate\",\"Dropout\",\"Dropout\",\"Enrolled\",\"Dropout\",\"Enrolled\",\"Dropout\",\"Graduate\",\"Graduate\",\"Dropout\",\"Graduate\",\"Graduate\",\"Dropout\",\"Graduate\",\"Enrolled\",\"Dropout\",\"Enrolled\",\"Dropout\",\"Graduate\",\"Graduate\",\"Dropout\",\"Enrolled\",\"Graduate\",\"Graduate\",\"Graduate\",\"Graduate\",\"Enrolled\",\"Graduate\",\"Graduate\",\"Graduate\",\"Dropout\",\"Graduate\",\"Graduate\",\"Graduate\",\"Graduate\",\"Enrolled\",\"Dropout\",\"Graduate\",\"Dropout\",\"Graduate\",\"Enrolled\",\"Graduate\",\"Enrolled\",\"Graduate\",\"Graduate\",\"Graduate\",\"Graduate\",\"Graduate\",\"Enrolled\",\"Dropout\",\"Graduate\",\"Graduate\",\"Graduate\",\"Dropout\",\"Enrolled\",\"Dropout\",\"Dropout\",\"Graduate\",\"Graduate\",\"Graduate\",\"Graduate\",\"Graduate\",\"Graduate\",\"Graduate\",\"Graduate\",\"Graduate\",\"Dropout\",\"Graduate\",\"Graduate\",\"Dropout\",\"Enrolled\",\"Dropout\",\"Graduate\",\"Dropout\",\"Dropout\",\"Dropout\",\"Dropout\",\"Graduate\",\"Enrolled\",\"Graduate\",\"Dropout\",\"Dropout\",\"Dropout\",\"Dropout\",\"Dropout\",\"Graduate\",\"Enrolled\",\"Graduate\",\"Dropout\",\"Enrolled\",\"Enrolled\",\"Dropout\",\"Dropout\",\"Graduate\",\"Dropout\",\"Graduate\",\"Graduate\",\"Dropout\",\"Dropout\",\"Graduate\",\"Dropout\",\"Dropout\",\"Dropout\",\"Dropout\",\"Enrolled\",\"Dropout\",\"Graduate\",\"Dropout\",\"Dropout\",\"Enrolled\",\"Dropout\",\"Dropout\",\"Dropout\",\"Dropout\",\"Dropout\",\"Dropout\",\"Graduate\",\"Graduate\",\"Graduate\",\"Graduate\",\"Dropout\",\"Graduate\",\"Dropout\",\"Dropout\",\"Graduate\",\"Enrolled\",\"Enrolled\",\"Graduate\",\"Dropout\",\"Dropout\",\"Enrolled\",\"Graduate\",\"Enrolled\",\"Dropout\",\"Graduate\",\"Graduate\",\"Graduate\",\"Dropout\",\"Graduate\",\"Graduate\",\"Graduate\",\"Graduate\",\"Graduate\",\"Dropout\",\"Dropout\",\"Graduate\",\"Graduate\",\"Enrolled\",\"Dropout\",\"Graduate\",\"Dropout\",\"Graduate\",\"Graduate\",\"Graduate\",\"Graduate\",\"Graduate\",\"Dropout\",\"Enrolled\",\"Dropout\",\"Dropout\",\"Graduate\",\"Graduate\",\"Dropout\",\"Graduate\",\"Dropout\",\"Graduate\",\"Graduate\",\"Enrolled\",\"Enrolled\",\"Graduate\",\"Graduate\",\"Graduate\",\"Enrolled\",\"Dropout\",\"Enrolled\",\"Dropout\",\"Dropout\",\"Enrolled\",\"Dropout\",\"Graduate\",\"Dropout\",\"Dropout\",\"Dropout\",\"Dropout\",\"Graduate\",\"Graduate\",\"Dropout\",\"Graduate\",\"Dropout\",\"Dropout\",\"Graduate\",\"Graduate\",\"Graduate\",\"Dropout\",\"Dropout\",\"Graduate\",\"Graduate\",\"Dropout\",\"Dropout\",\"Enrolled\",\"Dropout\",\"Graduate\",\"Graduate\",\"Graduate\",\"Enrolled\",\"Dropout\",\"Graduate\",\"Dropout\",\"Dropout\",\"Enrolled\",\"Dropout\",\"Graduate\",\"Dropout\",\"Enrolled\",\"Dropout\",\"Dropout\",\"Graduate\",\"Dropout\",\"Dropout\",\"Graduate\",\"Enrolled\",\"Enrolled\",\"Dropout\",\"Graduate\",\"Dropout\",\"Dropout\",\"Dropout\",\"Dropout\",\"Dropout\",\"Enrolled\",\"Enrolled\",\"Dropout\",\"Dropout\",\"Graduate\",\"Dropout\",\"Dropout\",\"Dropout\",\"Dropout\",\"Graduate\",\"Dropout\",\"Dropout\",\"Dropout\",\"Dropout\",\"Dropout\",\"Graduate\",\"Graduate\",\"Graduate\",\"Dropout\",\"Dropout\",\"Dropout\",\"Dropout\",\"Graduate\",\"Graduate\",\"Dropout\",\"Dropout\",\"Dropout\",\"Graduate\",\"Graduate\",\"Dropout\",\"Graduate\",\"Graduate\",\"Graduate\",\"Dropout\",\"Dropout\",\"Dropout\",\"Dropout\",\"Graduate\",\"Graduate\",\"Graduate\",\"Graduate\",\"Graduate\",\"Dropout\",\"Graduate\",\"Graduate\",\"Graduate\",\"Enrolled\",\"Enrolled\",\"Graduate\",\"Graduate\",\"Enrolled\",\"Enrolled\",\"Graduate\",\"Dropout\",\"Enrolled\",\"Graduate\",\"Enrolled\",\"Graduate\",\"Graduate\",\"Enrolled\",\"Graduate\",\"Enrolled\",\"Enrolled\",\"Dropout\",\"Dropout\",\"Graduate\",\"Graduate\",\"Enrolled\",\"Graduate\",\"Dropout\",\"Enrolled\",\"Graduate\",\"Graduate\",\"Graduate\",\"Dropout\",\"Graduate\",\"Graduate\",\"Graduate\",\"Enrolled\",\"Graduate\",\"Graduate\",\"Graduate\",\"Graduate\",\"Graduate\",\"Enrolled\",\"Enrolled\",\"Graduate\",\"Dropout\",\"Graduate\",\"Enrolled\",\"Graduate\",\"Graduate\",\"Graduate\",\"Enrolled\",\"Dropout\",\"Enrolled\",\"Dropout\",\"Enrolled\",\"Graduate\",\"Graduate\",\"Enrolled\",\"Dropout\",\"Graduate\",\"Dropout\",\"Dropout\",\"Graduate\",\"Graduate\",\"Dropout\",\"Graduate\",\"Graduate\",\"Dropout\",\"Dropout\",\"Graduate\",\"Graduate\",\"Dropout\",\"Dropout\",\"Graduate\",\"Graduate\",\"Graduate\",\"Graduate\",\"Dropout\",\"Graduate\",\"Graduate\",\"Graduate\",\"Dropout\",\"Graduate\",\"Dropout\",\"Enrolled\",\"Graduate\",\"Graduate\",\"Graduate\",\"Graduate\",\"Graduate\",\"Graduate\",\"Graduate\",\"Graduate\",\"Graduate\",\"Graduate\",\"Graduate\",\"Enrolled\",\"Graduate\",\"Graduate\",\"Graduate\",\"Graduate\",\"Dropout\",\"Graduate\",\"Graduate\",\"Graduate\",\"Graduate\",\"Graduate\",\"Graduate\",\"Dropout\",\"Graduate\",\"Graduate\",\"Graduate\",\"Dropout\",\"Dropout\",\"Graduate\",\"Dropout\",\"Dropout\",\"Dropout\",\"Dropout\",\"Graduate\",\"Graduate\",\"Graduate\",\"Dropout\",\"Graduate\",\"Dropout\",\"Dropout\",\"Dropout\",\"Dropout\",\"Enrolled\",\"Dropout\",\"Graduate\",\"Graduate\",\"Dropout\",\"Dropout\",\"Dropout\",\"Graduate\",\"Graduate\",\"Dropout\",\"Graduate\",\"Graduate\",\"Dropout\",\"Enrolled\",\"Enrolled\",\"Graduate\",\"Dropout\",\"Graduate\",\"Dropout\",\"Graduate\",\"Enrolled\",\"Graduate\",\"Dropout\",\"Dropout\",\"Dropout\",\"Graduate\",\"Enrolled\",\"Graduate\",\"Graduate\",\"Graduate\",\"Graduate\",\"Graduate\",\"Enrolled\",\"Graduate\",\"Dropout\",\"Graduate\",\"Graduate\",\"Graduate\",\"Graduate\",\"Dropout\",\"Graduate\",\"Dropout\",\"Enrolled\",\"Graduate\",\"Dropout\",\"Graduate\",\"Enrolled\",\"Graduate\",\"Dropout\",\"Graduate\",\"Graduate\",\"Graduate\",\"Graduate\",\"Enrolled\",\"Enrolled\",\"Graduate\",\"Dropout\",\"Graduate\",\"Graduate\",\"Graduate\",\"Dropout\",\"Enrolled\",\"Graduate\",\"Graduate\",\"Dropout\",\"Graduate\",\"Dropout\",\"Graduate\",\"Enrolled\",\"Dropout\",\"Enrolled\",\"Enrolled\",\"Graduate\",\"Dropout\",\"Dropout\",\"Graduate\",\"Enrolled\",\"Enrolled\",\"Dropout\",\"Graduate\",\"Dropout\",\"Dropout\",\"Graduate\",\"Graduate\",\"Graduate\",\"Graduate\",\"Graduate\",\"Dropout\",\"Dropout\",\"Enrolled\",\"Graduate\",\"Graduate\",\"Enrolled\",\"Graduate\",\"Graduate\",\"Graduate\",\"Dropout\",\"Graduate\",\"Graduate\",\"Graduate\",\"Graduate\",\"Graduate\",\"Dropout\",\"Graduate\",\"Enrolled\",\"Enrolled\",\"Graduate\",\"Graduate\",\"Graduate\",\"Graduate\",\"Graduate\",\"Graduate\",\"Graduate\",\"Enrolled\",\"Enrolled\",\"Enrolled\",\"Graduate\",\"Graduate\",\"Graduate\",\"Graduate\",\"Graduate\",\"Enrolled\",\"Enrolled\",\"Graduate\",\"Graduate\",\"Graduate\",\"Graduate\",\"Dropout\",\"Graduate\",\"Dropout\",\"Dropout\",\"Graduate\",\"Enrolled\",\"Enrolled\",\"Dropout\",\"Dropout\",\"Enrolled\",\"Enrolled\",\"Graduate\",\"Graduate\",\"Graduate\",\"Graduate\",\"Enrolled\",\"Dropout\",\"Graduate\",\"Enrolled\",\"Dropout\",\"Graduate\",\"Graduate\",\"Graduate\",\"Enrolled\",\"Dropout\",\"Graduate\",\"Dropout\",\"Graduate\",\"Enrolled\",\"Graduate\",\"Graduate\",\"Dropout\",\"Enrolled\",\"Enrolled\",\"Enrolled\",\"Graduate\",\"Graduate\",\"Graduate\",\"Graduate\",\"Enrolled\",\"Graduate\",\"Graduate\",\"Enrolled\",\"Dropout\",\"Dropout\",\"Graduate\",\"Graduate\",\"Enrolled\",\"Enrolled\",\"Graduate\",\"Graduate\",\"Graduate\",\"Dropout\",\"Enrolled\",\"Enrolled\",\"Graduate\",\"Dropout\",\"Graduate\",\"Graduate\",\"Graduate\",\"Enrolled\",\"Graduate\",\"Graduate\",\"Graduate\",\"Enrolled\",\"Graduate\",\"Dropout\",\"Graduate\",\"Graduate\",\"Graduate\",\"Dropout\",\"Graduate\",\"Graduate\",\"Graduate\",\"Graduate\",\"Graduate\",\"Graduate\",\"Dropout\",\"Dropout\",\"Graduate\",\"Enrolled\",\"Graduate\",\"Dropout\",\"Graduate\",\"Graduate\",\"Graduate\",\"Graduate\",\"Graduate\",\"Dropout\",\"Graduate\",\"Enrolled\",\"Dropout\",\"Graduate\",\"Enrolled\",\"Dropout\",\"Graduate\",\"Enrolled\",\"Enrolled\",\"Graduate\",\"Enrolled\",\"Dropout\",\"Graduate\",\"Graduate\",\"Dropout\",\"Dropout\",\"Enrolled\",\"Dropout\",\"Dropout\",\"Dropout\",\"Graduate\",\"Dropout\",\"Graduate\",\"Dropout\",\"Dropout\",\"Graduate\",\"Dropout\",\"Dropout\",\"Dropout\",\"Graduate\",\"Enrolled\",\"Graduate\",\"Dropout\",\"Dropout\",\"Dropout\",\"Graduate\",\"Dropout\",\"Graduate\",\"Graduate\",\"Enrolled\",\"Graduate\",\"Dropout\",\"Enrolled\",\"Graduate\",\"Dropout\",\"Graduate\",\"Enrolled\",\"Enrolled\",\"Enrolled\",\"Dropout\",\"Dropout\",\"Graduate\",\"Dropout\",\"Dropout\",\"Enrolled\",\"Dropout\",\"Dropout\",\"Enrolled\",\"Enrolled\",\"Graduate\",\"Graduate\",\"Dropout\",\"Graduate\",\"Graduate\",\"Graduate\",\"Graduate\",\"Dropout\",\"Graduate\",\"Enrolled\",\"Graduate\",\"Graduate\",\"Dropout\",\"Dropout\",\"Graduate\",\"Dropout\",\"Dropout\",\"Dropout\",\"Dropout\",\"Dropout\",\"Dropout\",\"Dropout\",\"Dropout\",\"Graduate\",\"Graduate\",\"Enrolled\",\"Dropout\",\"Graduate\",\"Dropout\",\"Dropout\",\"Graduate\",\"Graduate\",\"Graduate\",\"Graduate\",\"Enrolled\",\"Enrolled\",\"Dropout\",\"Dropout\",\"Graduate\",\"Graduate\",\"Dropout\",\"Dropout\",\"Dropout\",\"Graduate\",\"Dropout\",\"Dropout\",\"Graduate\",\"Dropout\",\"Graduate\",\"Enrolled\",\"Enrolled\",\"Graduate\",\"Enrolled\",\"Graduate\",\"Graduate\",\"Graduate\",\"Dropout\",\"Enrolled\",\"Dropout\",\"Graduate\",\"Dropout\",\"Dropout\",\"Graduate\",\"Graduate\",\"Graduate\",\"Graduate\",\"Dropout\",\"Graduate\",\"Enrolled\",\"Graduate\",\"Dropout\",\"Dropout\",\"Dropout\",\"Graduate\",\"Graduate\",\"Graduate\",\"Graduate\",\"Dropout\",\"Enrolled\",\"Graduate\",\"Graduate\",\"Graduate\",\"Dropout\",\"Enrolled\",\"Graduate\",\"Graduate\",\"Dropout\",\"Enrolled\",\"Graduate\",\"Dropout\",\"Graduate\",\"Dropout\",\"Graduate\",\"Dropout\",\"Dropout\",\"Enrolled\",\"Graduate\",\"Graduate\",\"Dropout\",\"Dropout\",\"Dropout\",\"Dropout\",\"Dropout\",\"Graduate\",\"Graduate\",\"Enrolled\",\"Enrolled\",\"Graduate\",\"Graduate\",\"Dropout\",\"Graduate\",\"Enrolled\",\"Graduate\",\"Graduate\",\"Dropout\",\"Dropout\",\"Enrolled\",\"Graduate\",\"Dropout\",\"Graduate\",\"Enrolled\",\"Graduate\",\"Dropout\",\"Graduate\",\"Graduate\",\"Dropout\",\"Enrolled\",\"Enrolled\",\"Graduate\",\"Dropout\",\"Graduate\",\"Graduate\",\"Graduate\",\"Graduate\",\"Dropout\",\"Dropout\",\"Graduate\",\"Graduate\"],\"xaxis\":\"x\",\"yaxis\":\"y\",\"type\":\"histogram\"}],                        {\"template\":{\"data\":{\"histogram2dcontour\":[{\"type\":\"histogram2dcontour\",\"colorbar\":{\"outlinewidth\":0,\"ticks\":\"\"},\"colorscale\":[[0.0,\"#0d0887\"],[0.1111111111111111,\"#46039f\"],[0.2222222222222222,\"#7201a8\"],[0.3333333333333333,\"#9c179e\"],[0.4444444444444444,\"#bd3786\"],[0.5555555555555556,\"#d8576b\"],[0.6666666666666666,\"#ed7953\"],[0.7777777777777778,\"#fb9f3a\"],[0.8888888888888888,\"#fdca26\"],[1.0,\"#f0f921\"]]}],\"choropleth\":[{\"type\":\"choropleth\",\"colorbar\":{\"outlinewidth\":0,\"ticks\":\"\"}}],\"histogram2d\":[{\"type\":\"histogram2d\",\"colorbar\":{\"outlinewidth\":0,\"ticks\":\"\"},\"colorscale\":[[0.0,\"#0d0887\"],[0.1111111111111111,\"#46039f\"],[0.2222222222222222,\"#7201a8\"],[0.3333333333333333,\"#9c179e\"],[0.4444444444444444,\"#bd3786\"],[0.5555555555555556,\"#d8576b\"],[0.6666666666666666,\"#ed7953\"],[0.7777777777777778,\"#fb9f3a\"],[0.8888888888888888,\"#fdca26\"],[1.0,\"#f0f921\"]]}],\"heatmap\":[{\"type\":\"heatmap\",\"colorbar\":{\"outlinewidth\":0,\"ticks\":\"\"},\"colorscale\":[[0.0,\"#0d0887\"],[0.1111111111111111,\"#46039f\"],[0.2222222222222222,\"#7201a8\"],[0.3333333333333333,\"#9c179e\"],[0.4444444444444444,\"#bd3786\"],[0.5555555555555556,\"#d8576b\"],[0.6666666666666666,\"#ed7953\"],[0.7777777777777778,\"#fb9f3a\"],[0.8888888888888888,\"#fdca26\"],[1.0,\"#f0f921\"]]}],\"heatmapgl\":[{\"type\":\"heatmapgl\",\"colorbar\":{\"outlinewidth\":0,\"ticks\":\"\"},\"colorscale\":[[0.0,\"#0d0887\"],[0.1111111111111111,\"#46039f\"],[0.2222222222222222,\"#7201a8\"],[0.3333333333333333,\"#9c179e\"],[0.4444444444444444,\"#bd3786\"],[0.5555555555555556,\"#d8576b\"],[0.6666666666666666,\"#ed7953\"],[0.7777777777777778,\"#fb9f3a\"],[0.8888888888888888,\"#fdca26\"],[1.0,\"#f0f921\"]]}],\"contourcarpet\":[{\"type\":\"contourcarpet\",\"colorbar\":{\"outlinewidth\":0,\"ticks\":\"\"}}],\"contour\":[{\"type\":\"contour\",\"colorbar\":{\"outlinewidth\":0,\"ticks\":\"\"},\"colorscale\":[[0.0,\"#0d0887\"],[0.1111111111111111,\"#46039f\"],[0.2222222222222222,\"#7201a8\"],[0.3333333333333333,\"#9c179e\"],[0.4444444444444444,\"#bd3786\"],[0.5555555555555556,\"#d8576b\"],[0.6666666666666666,\"#ed7953\"],[0.7777777777777778,\"#fb9f3a\"],[0.8888888888888888,\"#fdca26\"],[1.0,\"#f0f921\"]]}],\"surface\":[{\"type\":\"surface\",\"colorbar\":{\"outlinewidth\":0,\"ticks\":\"\"},\"colorscale\":[[0.0,\"#0d0887\"],[0.1111111111111111,\"#46039f\"],[0.2222222222222222,\"#7201a8\"],[0.3333333333333333,\"#9c179e\"],[0.4444444444444444,\"#bd3786\"],[0.5555555555555556,\"#d8576b\"],[0.6666666666666666,\"#ed7953\"],[0.7777777777777778,\"#fb9f3a\"],[0.8888888888888888,\"#fdca26\"],[1.0,\"#f0f921\"]]}],\"mesh3d\":[{\"type\":\"mesh3d\",\"colorbar\":{\"outlinewidth\":0,\"ticks\":\"\"}}],\"scatter\":[{\"fillpattern\":{\"fillmode\":\"overlay\",\"size\":10,\"solidity\":0.2},\"type\":\"scatter\"}],\"parcoords\":[{\"type\":\"parcoords\",\"line\":{\"colorbar\":{\"outlinewidth\":0,\"ticks\":\"\"}}}],\"scatterpolargl\":[{\"type\":\"scatterpolargl\",\"marker\":{\"colorbar\":{\"outlinewidth\":0,\"ticks\":\"\"}}}],\"bar\":[{\"error_x\":{\"color\":\"#2a3f5f\"},\"error_y\":{\"color\":\"#2a3f5f\"},\"marker\":{\"line\":{\"color\":\"#E5ECF6\",\"width\":0.5},\"pattern\":{\"fillmode\":\"overlay\",\"size\":10,\"solidity\":0.2}},\"type\":\"bar\"}],\"scattergeo\":[{\"type\":\"scattergeo\",\"marker\":{\"colorbar\":{\"outlinewidth\":0,\"ticks\":\"\"}}}],\"scatterpolar\":[{\"type\":\"scatterpolar\",\"marker\":{\"colorbar\":{\"outlinewidth\":0,\"ticks\":\"\"}}}],\"histogram\":[{\"marker\":{\"pattern\":{\"fillmode\":\"overlay\",\"size\":10,\"solidity\":0.2}},\"type\":\"histogram\"}],\"scattergl\":[{\"type\":\"scattergl\",\"marker\":{\"colorbar\":{\"outlinewidth\":0,\"ticks\":\"\"}}}],\"scatter3d\":[{\"type\":\"scatter3d\",\"line\":{\"colorbar\":{\"outlinewidth\":0,\"ticks\":\"\"}},\"marker\":{\"colorbar\":{\"outlinewidth\":0,\"ticks\":\"\"}}}],\"scattermapbox\":[{\"type\":\"scattermapbox\",\"marker\":{\"colorbar\":{\"outlinewidth\":0,\"ticks\":\"\"}}}],\"scatterternary\":[{\"type\":\"scatterternary\",\"marker\":{\"colorbar\":{\"outlinewidth\":0,\"ticks\":\"\"}}}],\"scattercarpet\":[{\"type\":\"scattercarpet\",\"marker\":{\"colorbar\":{\"outlinewidth\":0,\"ticks\":\"\"}}}],\"carpet\":[{\"aaxis\":{\"endlinecolor\":\"#2a3f5f\",\"gridcolor\":\"white\",\"linecolor\":\"white\",\"minorgridcolor\":\"white\",\"startlinecolor\":\"#2a3f5f\"},\"baxis\":{\"endlinecolor\":\"#2a3f5f\",\"gridcolor\":\"white\",\"linecolor\":\"white\",\"minorgridcolor\":\"white\",\"startlinecolor\":\"#2a3f5f\"},\"type\":\"carpet\"}],\"table\":[{\"cells\":{\"fill\":{\"color\":\"#EBF0F8\"},\"line\":{\"color\":\"white\"}},\"header\":{\"fill\":{\"color\":\"#C8D4E3\"},\"line\":{\"color\":\"white\"}},\"type\":\"table\"}],\"barpolar\":[{\"marker\":{\"line\":{\"color\":\"#E5ECF6\",\"width\":0.5},\"pattern\":{\"fillmode\":\"overlay\",\"size\":10,\"solidity\":0.2}},\"type\":\"barpolar\"}],\"pie\":[{\"automargin\":true,\"type\":\"pie\"}]},\"layout\":{\"autotypenumbers\":\"strict\",\"colorway\":[\"#636efa\",\"#EF553B\",\"#00cc96\",\"#ab63fa\",\"#FFA15A\",\"#19d3f3\",\"#FF6692\",\"#B6E880\",\"#FF97FF\",\"#FECB52\"],\"font\":{\"color\":\"#2a3f5f\"},\"hovermode\":\"closest\",\"hoverlabel\":{\"align\":\"left\"},\"paper_bgcolor\":\"white\",\"plot_bgcolor\":\"#E5ECF6\",\"polar\":{\"bgcolor\":\"#E5ECF6\",\"angularaxis\":{\"gridcolor\":\"white\",\"linecolor\":\"white\",\"ticks\":\"\"},\"radialaxis\":{\"gridcolor\":\"white\",\"linecolor\":\"white\",\"ticks\":\"\"}},\"ternary\":{\"bgcolor\":\"#E5ECF6\",\"aaxis\":{\"gridcolor\":\"white\",\"linecolor\":\"white\",\"ticks\":\"\"},\"baxis\":{\"gridcolor\":\"white\",\"linecolor\":\"white\",\"ticks\":\"\"},\"caxis\":{\"gridcolor\":\"white\",\"linecolor\":\"white\",\"ticks\":\"\"}},\"coloraxis\":{\"colorbar\":{\"outlinewidth\":0,\"ticks\":\"\"}},\"colorscale\":{\"sequential\":[[0.0,\"#0d0887\"],[0.1111111111111111,\"#46039f\"],[0.2222222222222222,\"#7201a8\"],[0.3333333333333333,\"#9c179e\"],[0.4444444444444444,\"#bd3786\"],[0.5555555555555556,\"#d8576b\"],[0.6666666666666666,\"#ed7953\"],[0.7777777777777778,\"#fb9f3a\"],[0.8888888888888888,\"#fdca26\"],[1.0,\"#f0f921\"]],\"sequentialminus\":[[0.0,\"#0d0887\"],[0.1111111111111111,\"#46039f\"],[0.2222222222222222,\"#7201a8\"],[0.3333333333333333,\"#9c179e\"],[0.4444444444444444,\"#bd3786\"],[0.5555555555555556,\"#d8576b\"],[0.6666666666666666,\"#ed7953\"],[0.7777777777777778,\"#fb9f3a\"],[0.8888888888888888,\"#fdca26\"],[1.0,\"#f0f921\"]],\"diverging\":[[0,\"#8e0152\"],[0.1,\"#c51b7d\"],[0.2,\"#de77ae\"],[0.3,\"#f1b6da\"],[0.4,\"#fde0ef\"],[0.5,\"#f7f7f7\"],[0.6,\"#e6f5d0\"],[0.7,\"#b8e186\"],[0.8,\"#7fbc41\"],[0.9,\"#4d9221\"],[1,\"#276419\"]]},\"xaxis\":{\"gridcolor\":\"white\",\"linecolor\":\"white\",\"ticks\":\"\",\"title\":{\"standoff\":15},\"zerolinecolor\":\"white\",\"automargin\":true,\"zerolinewidth\":2},\"yaxis\":{\"gridcolor\":\"white\",\"linecolor\":\"white\",\"ticks\":\"\",\"title\":{\"standoff\":15},\"zerolinecolor\":\"white\",\"automargin\":true,\"zerolinewidth\":2},\"scene\":{\"xaxis\":{\"backgroundcolor\":\"#E5ECF6\",\"gridcolor\":\"white\",\"linecolor\":\"white\",\"showbackground\":true,\"ticks\":\"\",\"zerolinecolor\":\"white\",\"gridwidth\":2},\"yaxis\":{\"backgroundcolor\":\"#E5ECF6\",\"gridcolor\":\"white\",\"linecolor\":\"white\",\"showbackground\":true,\"ticks\":\"\",\"zerolinecolor\":\"white\",\"gridwidth\":2},\"zaxis\":{\"backgroundcolor\":\"#E5ECF6\",\"gridcolor\":\"white\",\"linecolor\":\"white\",\"showbackground\":true,\"ticks\":\"\",\"zerolinecolor\":\"white\",\"gridwidth\":2}},\"shapedefaults\":{\"line\":{\"color\":\"#2a3f5f\"}},\"annotationdefaults\":{\"arrowcolor\":\"#2a3f5f\",\"arrowhead\":0,\"arrowwidth\":1},\"geo\":{\"bgcolor\":\"white\",\"landcolor\":\"#E5ECF6\",\"subunitcolor\":\"white\",\"showland\":true,\"showlakes\":true,\"lakecolor\":\"white\"},\"title\":{\"x\":0.05},\"mapbox\":{\"style\":\"light\"}}},\"xaxis\":{\"anchor\":\"y\",\"domain\":[0.0,1.0],\"title\":{\"text\":\"Target\"}},\"yaxis\":{\"anchor\":\"x\",\"domain\":[0.0,1.0],\"title\":{\"text\":\"count\"}},\"legend\":{\"tracegroupgap\":0},\"margin\":{\"t\":60},\"barmode\":\"relative\"},                        {\"responsive\": true}                    ).then(function(){\n",
              "                            \n",
              "var gd = document.getElementById('9a323b58-229e-4eef-91b9-09c79f9e9112');\n",
              "var x = new MutationObserver(function (mutations, observer) {{\n",
              "        var display = window.getComputedStyle(gd).display;\n",
              "        if (!display || display === 'none') {{\n",
              "            console.log([gd, 'removed!']);\n",
              "            Plotly.purge(gd);\n",
              "            observer.disconnect();\n",
              "        }}\n",
              "}});\n",
              "\n",
              "// Listen for the removal of the full notebook cells\n",
              "var notebookContainer = gd.closest('#notebook-container');\n",
              "if (notebookContainer) {{\n",
              "    x.observe(notebookContainer, {childList: true});\n",
              "}}\n",
              "\n",
              "// Listen for the clearing of the current output cell\n",
              "var outputEl = gd.closest('.output');\n",
              "if (outputEl) {{\n",
              "    x.observe(outputEl, {childList: true});\n",
              "}}\n",
              "\n",
              "                        })                };                            </script>        </div>\n",
              "</body>\n",
              "</html>"
            ]
          },
          "metadata": {}
        }
      ]
    },
    {
      "cell_type": "code",
      "source": [
        "# for column in int_features:\n",
        "#   fig = px.scatter(df, x=column, color='Target')\n",
        "#   fig.show()"
      ],
      "metadata": {
        "id": "uReEJ7w8P0iY"
      },
      "execution_count": 283,
      "outputs": []
    },
    {
      "cell_type": "code",
      "source": [
        "# for column in float_features:\n",
        "#   fig = px.histogram(df, x=column, color='Target')\n",
        "#   fig.show()"
      ],
      "metadata": {
        "id": "aydwh2_R_9gv"
      },
      "execution_count": 284,
      "outputs": []
    },
    {
      "cell_type": "markdown",
      "source": [
        "# Preparação de dados"
      ],
      "metadata": {
        "id": "3eeSZuEwq4ee"
      }
    },
    {
      "cell_type": "code",
      "source": [
        "df_target = df['Target']\n",
        "df_features = df.drop(columns='Target')\n",
        "df_target"
      ],
      "metadata": {
        "id": "-g6xiQnwMJJo",
        "colab": {
          "base_uri": "https://localhost:8080/"
        },
        "outputId": "59869ae8-e3d8-49b9-9b6f-bd9c1c6cc6f7"
      },
      "execution_count": 285,
      "outputs": [
        {
          "output_type": "execute_result",
          "data": {
            "text/plain": [
              "0        Dropout\n",
              "1       Graduate\n",
              "2        Dropout\n",
              "3       Graduate\n",
              "4       Graduate\n",
              "          ...   \n",
              "4419    Graduate\n",
              "4420     Dropout\n",
              "4421     Dropout\n",
              "4422    Graduate\n",
              "4423    Graduate\n",
              "Name: Target, Length: 4424, dtype: object"
            ]
          },
          "metadata": {},
          "execution_count": 285
        }
      ]
    },
    {
      "cell_type": "markdown",
      "source": [
        "## Codificação de classes para valores numéricos"
      ],
      "metadata": {
        "id": "2UaDFTzr6cEi"
      }
    },
    {
      "cell_type": "code",
      "source": [
        "from sklearn.preprocessing import LabelEncoder\n",
        "encoder = LabelEncoder()\n",
        "target = encoder.fit_transform(df_target)\n",
        "target"
      ],
      "metadata": {
        "colab": {
          "base_uri": "https://localhost:8080/"
        },
        "id": "BRwkA9v6jcH0",
        "outputId": "c0605634-1732-477e-a634-232d4e7485ed"
      },
      "execution_count": 286,
      "outputs": [
        {
          "output_type": "execute_result",
          "data": {
            "text/plain": [
              "array([0, 2, 0, ..., 0, 2, 2])"
            ]
          },
          "metadata": {},
          "execution_count": 286
        }
      ]
    },
    {
      "cell_type": "markdown",
      "source": [
        "## Codificação de features categóricos para valores numéricos"
      ],
      "metadata": {
        "id": "ewPbbaGs6iY7"
      }
    },
    {
      "cell_type": "code",
      "source": [
        "# from sklearn.preprocessing import OneHotEncoder\n",
        "# encoder = OneHotEncoder(handle_unknown='error',sparse=False)\n",
        "# data = pd.DataFrame(encoder.fit_transform(risk_dataset.data[category_features]))\n",
        "# data.columns = encoder.get_feature_names_out()\n",
        "# data"
      ],
      "metadata": {
        "id": "g15DQKmtkSwQ"
      },
      "execution_count": 287,
      "outputs": []
    },
    {
      "cell_type": "markdown",
      "source": [
        "## Junção de features categóricas e numéricas"
      ],
      "metadata": {
        "id": "n95hzxB_dkv4"
      }
    },
    {
      "cell_type": "code",
      "source": [
        "# df_features['target'] = target\n",
        "df_features\n",
        "# data = df_features"
      ],
      "metadata": {
        "id": "AODPUjZm0hZ2",
        "outputId": "b281cf8d-94d8-4b5b-82eb-268472adb98e",
        "colab": {
          "base_uri": "https://localhost:8080/",
          "height": 540
        }
      },
      "execution_count": 288,
      "outputs": [
        {
          "output_type": "execute_result",
          "data": {
            "text/plain": [
              "      Marital status  Application mode  Application order  Course  \\\n",
              "0                  1                17                  5     171   \n",
              "1                  1                15                  1    9254   \n",
              "2                  1                 1                  5    9070   \n",
              "3                  1                17                  2    9773   \n",
              "4                  2                39                  1    8014   \n",
              "...              ...               ...                ...     ...   \n",
              "4419               1                 1                  6    9773   \n",
              "4420               1                 1                  2    9773   \n",
              "4421               1                 1                  1    9500   \n",
              "4422               1                 1                  1    9147   \n",
              "4423               1                10                  1    9773   \n",
              "\n",
              "      Daytime/evening attendance\\t  Previous qualification  \\\n",
              "0                                1                       1   \n",
              "1                                1                       1   \n",
              "2                                1                       1   \n",
              "3                                1                       1   \n",
              "4                                0                       1   \n",
              "...                            ...                     ...   \n",
              "4419                             1                       1   \n",
              "4420                             1                       1   \n",
              "4421                             1                       1   \n",
              "4422                             1                       1   \n",
              "4423                             1                       1   \n",
              "\n",
              "      Previous qualification (grade)  Nacionality  Mother's qualification  \\\n",
              "0                              122.0            1                      19   \n",
              "1                              160.0            1                       1   \n",
              "2                              122.0            1                      37   \n",
              "3                              122.0            1                      38   \n",
              "4                              100.0            1                      37   \n",
              "...                              ...          ...                     ...   \n",
              "4419                           125.0            1                       1   \n",
              "4420                           120.0          105                       1   \n",
              "4421                           154.0            1                      37   \n",
              "4422                           180.0            1                      37   \n",
              "4423                           152.0           22                      38   \n",
              "\n",
              "      Father's qualification  ...  \\\n",
              "0                         12  ...   \n",
              "1                          3  ...   \n",
              "2                         37  ...   \n",
              "3                         37  ...   \n",
              "4                         38  ...   \n",
              "...                      ...  ...   \n",
              "4419                       1  ...   \n",
              "4420                       1  ...   \n",
              "4421                      37  ...   \n",
              "4422                      37  ...   \n",
              "4423                      37  ...   \n",
              "\n",
              "      Curricular units 1st sem (without evaluations)  \\\n",
              "0                                                  0   \n",
              "1                                                  0   \n",
              "2                                                  0   \n",
              "3                                                  0   \n",
              "4                                                  0   \n",
              "...                                              ...   \n",
              "4419                                               0   \n",
              "4420                                               0   \n",
              "4421                                               0   \n",
              "4422                                               0   \n",
              "4423                                               0   \n",
              "\n",
              "      Curricular units 2nd sem (credited)  \\\n",
              "0                                       0   \n",
              "1                                       0   \n",
              "2                                       0   \n",
              "3                                       0   \n",
              "4                                       0   \n",
              "...                                   ...   \n",
              "4419                                    0   \n",
              "4420                                    0   \n",
              "4421                                    0   \n",
              "4422                                    0   \n",
              "4423                                    0   \n",
              "\n",
              "      Curricular units 2nd sem (enrolled)  \\\n",
              "0                                       0   \n",
              "1                                       6   \n",
              "2                                       6   \n",
              "3                                       6   \n",
              "4                                       6   \n",
              "...                                   ...   \n",
              "4419                                    6   \n",
              "4420                                    6   \n",
              "4421                                    8   \n",
              "4422                                    5   \n",
              "4423                                    6   \n",
              "\n",
              "      Curricular units 2nd sem (evaluations)  \\\n",
              "0                                          0   \n",
              "1                                          6   \n",
              "2                                          0   \n",
              "3                                         10   \n",
              "4                                          6   \n",
              "...                                      ...   \n",
              "4419                                       8   \n",
              "4420                                       6   \n",
              "4421                                       9   \n",
              "4422                                       6   \n",
              "4423                                       6   \n",
              "\n",
              "      Curricular units 2nd sem (approved)  Curricular units 2nd sem (grade)  \\\n",
              "0                                       0                          0.000000   \n",
              "1                                       6                         13.666667   \n",
              "2                                       0                          0.000000   \n",
              "3                                       5                         12.400000   \n",
              "4                                       6                         13.000000   \n",
              "...                                   ...                               ...   \n",
              "4419                                    5                         12.666667   \n",
              "4420                                    2                         11.000000   \n",
              "4421                                    1                         13.500000   \n",
              "4422                                    5                         12.000000   \n",
              "4423                                    6                         13.000000   \n",
              "\n",
              "      Curricular units 2nd sem (without evaluations)  Unemployment rate  \\\n",
              "0                                                  0               10.8   \n",
              "1                                                  0               13.9   \n",
              "2                                                  0               10.8   \n",
              "3                                                  0                9.4   \n",
              "4                                                  0               13.9   \n",
              "...                                              ...                ...   \n",
              "4419                                               0               15.5   \n",
              "4420                                               0               11.1   \n",
              "4421                                               0               13.9   \n",
              "4422                                               0                9.4   \n",
              "4423                                               0               12.7   \n",
              "\n",
              "      Inflation rate   GDP  \n",
              "0                1.4  1.74  \n",
              "1               -0.3  0.79  \n",
              "2                1.4  1.74  \n",
              "3               -0.8 -3.12  \n",
              "4               -0.3  0.79  \n",
              "...              ...   ...  \n",
              "4419             2.8 -4.06  \n",
              "4420             0.6  2.02  \n",
              "4421            -0.3  0.79  \n",
              "4422            -0.8 -3.12  \n",
              "4423             3.7 -1.70  \n",
              "\n",
              "[4424 rows x 36 columns]"
            ],
            "text/html": [
              "\n",
              "  <div id=\"df-c7a3ec5e-68e7-4ee0-b88e-4e0f646a87ac\">\n",
              "    <div class=\"colab-df-container\">\n",
              "      <div>\n",
              "<style scoped>\n",
              "    .dataframe tbody tr th:only-of-type {\n",
              "        vertical-align: middle;\n",
              "    }\n",
              "\n",
              "    .dataframe tbody tr th {\n",
              "        vertical-align: top;\n",
              "    }\n",
              "\n",
              "    .dataframe thead th {\n",
              "        text-align: right;\n",
              "    }\n",
              "</style>\n",
              "<table border=\"1\" class=\"dataframe\">\n",
              "  <thead>\n",
              "    <tr style=\"text-align: right;\">\n",
              "      <th></th>\n",
              "      <th>Marital status</th>\n",
              "      <th>Application mode</th>\n",
              "      <th>Application order</th>\n",
              "      <th>Course</th>\n",
              "      <th>Daytime/evening attendance\\t</th>\n",
              "      <th>Previous qualification</th>\n",
              "      <th>Previous qualification (grade)</th>\n",
              "      <th>Nacionality</th>\n",
              "      <th>Mother's qualification</th>\n",
              "      <th>Father's qualification</th>\n",
              "      <th>...</th>\n",
              "      <th>Curricular units 1st sem (without evaluations)</th>\n",
              "      <th>Curricular units 2nd sem (credited)</th>\n",
              "      <th>Curricular units 2nd sem (enrolled)</th>\n",
              "      <th>Curricular units 2nd sem (evaluations)</th>\n",
              "      <th>Curricular units 2nd sem (approved)</th>\n",
              "      <th>Curricular units 2nd sem (grade)</th>\n",
              "      <th>Curricular units 2nd sem (without evaluations)</th>\n",
              "      <th>Unemployment rate</th>\n",
              "      <th>Inflation rate</th>\n",
              "      <th>GDP</th>\n",
              "    </tr>\n",
              "  </thead>\n",
              "  <tbody>\n",
              "    <tr>\n",
              "      <th>0</th>\n",
              "      <td>1</td>\n",
              "      <td>17</td>\n",
              "      <td>5</td>\n",
              "      <td>171</td>\n",
              "      <td>1</td>\n",
              "      <td>1</td>\n",
              "      <td>122.0</td>\n",
              "      <td>1</td>\n",
              "      <td>19</td>\n",
              "      <td>12</td>\n",
              "      <td>...</td>\n",
              "      <td>0</td>\n",
              "      <td>0</td>\n",
              "      <td>0</td>\n",
              "      <td>0</td>\n",
              "      <td>0</td>\n",
              "      <td>0.000000</td>\n",
              "      <td>0</td>\n",
              "      <td>10.8</td>\n",
              "      <td>1.4</td>\n",
              "      <td>1.74</td>\n",
              "    </tr>\n",
              "    <tr>\n",
              "      <th>1</th>\n",
              "      <td>1</td>\n",
              "      <td>15</td>\n",
              "      <td>1</td>\n",
              "      <td>9254</td>\n",
              "      <td>1</td>\n",
              "      <td>1</td>\n",
              "      <td>160.0</td>\n",
              "      <td>1</td>\n",
              "      <td>1</td>\n",
              "      <td>3</td>\n",
              "      <td>...</td>\n",
              "      <td>0</td>\n",
              "      <td>0</td>\n",
              "      <td>6</td>\n",
              "      <td>6</td>\n",
              "      <td>6</td>\n",
              "      <td>13.666667</td>\n",
              "      <td>0</td>\n",
              "      <td>13.9</td>\n",
              "      <td>-0.3</td>\n",
              "      <td>0.79</td>\n",
              "    </tr>\n",
              "    <tr>\n",
              "      <th>2</th>\n",
              "      <td>1</td>\n",
              "      <td>1</td>\n",
              "      <td>5</td>\n",
              "      <td>9070</td>\n",
              "      <td>1</td>\n",
              "      <td>1</td>\n",
              "      <td>122.0</td>\n",
              "      <td>1</td>\n",
              "      <td>37</td>\n",
              "      <td>37</td>\n",
              "      <td>...</td>\n",
              "      <td>0</td>\n",
              "      <td>0</td>\n",
              "      <td>6</td>\n",
              "      <td>0</td>\n",
              "      <td>0</td>\n",
              "      <td>0.000000</td>\n",
              "      <td>0</td>\n",
              "      <td>10.8</td>\n",
              "      <td>1.4</td>\n",
              "      <td>1.74</td>\n",
              "    </tr>\n",
              "    <tr>\n",
              "      <th>3</th>\n",
              "      <td>1</td>\n",
              "      <td>17</td>\n",
              "      <td>2</td>\n",
              "      <td>9773</td>\n",
              "      <td>1</td>\n",
              "      <td>1</td>\n",
              "      <td>122.0</td>\n",
              "      <td>1</td>\n",
              "      <td>38</td>\n",
              "      <td>37</td>\n",
              "      <td>...</td>\n",
              "      <td>0</td>\n",
              "      <td>0</td>\n",
              "      <td>6</td>\n",
              "      <td>10</td>\n",
              "      <td>5</td>\n",
              "      <td>12.400000</td>\n",
              "      <td>0</td>\n",
              "      <td>9.4</td>\n",
              "      <td>-0.8</td>\n",
              "      <td>-3.12</td>\n",
              "    </tr>\n",
              "    <tr>\n",
              "      <th>4</th>\n",
              "      <td>2</td>\n",
              "      <td>39</td>\n",
              "      <td>1</td>\n",
              "      <td>8014</td>\n",
              "      <td>0</td>\n",
              "      <td>1</td>\n",
              "      <td>100.0</td>\n",
              "      <td>1</td>\n",
              "      <td>37</td>\n",
              "      <td>38</td>\n",
              "      <td>...</td>\n",
              "      <td>0</td>\n",
              "      <td>0</td>\n",
              "      <td>6</td>\n",
              "      <td>6</td>\n",
              "      <td>6</td>\n",
              "      <td>13.000000</td>\n",
              "      <td>0</td>\n",
              "      <td>13.9</td>\n",
              "      <td>-0.3</td>\n",
              "      <td>0.79</td>\n",
              "    </tr>\n",
              "    <tr>\n",
              "      <th>...</th>\n",
              "      <td>...</td>\n",
              "      <td>...</td>\n",
              "      <td>...</td>\n",
              "      <td>...</td>\n",
              "      <td>...</td>\n",
              "      <td>...</td>\n",
              "      <td>...</td>\n",
              "      <td>...</td>\n",
              "      <td>...</td>\n",
              "      <td>...</td>\n",
              "      <td>...</td>\n",
              "      <td>...</td>\n",
              "      <td>...</td>\n",
              "      <td>...</td>\n",
              "      <td>...</td>\n",
              "      <td>...</td>\n",
              "      <td>...</td>\n",
              "      <td>...</td>\n",
              "      <td>...</td>\n",
              "      <td>...</td>\n",
              "      <td>...</td>\n",
              "    </tr>\n",
              "    <tr>\n",
              "      <th>4419</th>\n",
              "      <td>1</td>\n",
              "      <td>1</td>\n",
              "      <td>6</td>\n",
              "      <td>9773</td>\n",
              "      <td>1</td>\n",
              "      <td>1</td>\n",
              "      <td>125.0</td>\n",
              "      <td>1</td>\n",
              "      <td>1</td>\n",
              "      <td>1</td>\n",
              "      <td>...</td>\n",
              "      <td>0</td>\n",
              "      <td>0</td>\n",
              "      <td>6</td>\n",
              "      <td>8</td>\n",
              "      <td>5</td>\n",
              "      <td>12.666667</td>\n",
              "      <td>0</td>\n",
              "      <td>15.5</td>\n",
              "      <td>2.8</td>\n",
              "      <td>-4.06</td>\n",
              "    </tr>\n",
              "    <tr>\n",
              "      <th>4420</th>\n",
              "      <td>1</td>\n",
              "      <td>1</td>\n",
              "      <td>2</td>\n",
              "      <td>9773</td>\n",
              "      <td>1</td>\n",
              "      <td>1</td>\n",
              "      <td>120.0</td>\n",
              "      <td>105</td>\n",
              "      <td>1</td>\n",
              "      <td>1</td>\n",
              "      <td>...</td>\n",
              "      <td>0</td>\n",
              "      <td>0</td>\n",
              "      <td>6</td>\n",
              "      <td>6</td>\n",
              "      <td>2</td>\n",
              "      <td>11.000000</td>\n",
              "      <td>0</td>\n",
              "      <td>11.1</td>\n",
              "      <td>0.6</td>\n",
              "      <td>2.02</td>\n",
              "    </tr>\n",
              "    <tr>\n",
              "      <th>4421</th>\n",
              "      <td>1</td>\n",
              "      <td>1</td>\n",
              "      <td>1</td>\n",
              "      <td>9500</td>\n",
              "      <td>1</td>\n",
              "      <td>1</td>\n",
              "      <td>154.0</td>\n",
              "      <td>1</td>\n",
              "      <td>37</td>\n",
              "      <td>37</td>\n",
              "      <td>...</td>\n",
              "      <td>0</td>\n",
              "      <td>0</td>\n",
              "      <td>8</td>\n",
              "      <td>9</td>\n",
              "      <td>1</td>\n",
              "      <td>13.500000</td>\n",
              "      <td>0</td>\n",
              "      <td>13.9</td>\n",
              "      <td>-0.3</td>\n",
              "      <td>0.79</td>\n",
              "    </tr>\n",
              "    <tr>\n",
              "      <th>4422</th>\n",
              "      <td>1</td>\n",
              "      <td>1</td>\n",
              "      <td>1</td>\n",
              "      <td>9147</td>\n",
              "      <td>1</td>\n",
              "      <td>1</td>\n",
              "      <td>180.0</td>\n",
              "      <td>1</td>\n",
              "      <td>37</td>\n",
              "      <td>37</td>\n",
              "      <td>...</td>\n",
              "      <td>0</td>\n",
              "      <td>0</td>\n",
              "      <td>5</td>\n",
              "      <td>6</td>\n",
              "      <td>5</td>\n",
              "      <td>12.000000</td>\n",
              "      <td>0</td>\n",
              "      <td>9.4</td>\n",
              "      <td>-0.8</td>\n",
              "      <td>-3.12</td>\n",
              "    </tr>\n",
              "    <tr>\n",
              "      <th>4423</th>\n",
              "      <td>1</td>\n",
              "      <td>10</td>\n",
              "      <td>1</td>\n",
              "      <td>9773</td>\n",
              "      <td>1</td>\n",
              "      <td>1</td>\n",
              "      <td>152.0</td>\n",
              "      <td>22</td>\n",
              "      <td>38</td>\n",
              "      <td>37</td>\n",
              "      <td>...</td>\n",
              "      <td>0</td>\n",
              "      <td>0</td>\n",
              "      <td>6</td>\n",
              "      <td>6</td>\n",
              "      <td>6</td>\n",
              "      <td>13.000000</td>\n",
              "      <td>0</td>\n",
              "      <td>12.7</td>\n",
              "      <td>3.7</td>\n",
              "      <td>-1.70</td>\n",
              "    </tr>\n",
              "  </tbody>\n",
              "</table>\n",
              "<p>4424 rows × 36 columns</p>\n",
              "</div>\n",
              "      <button class=\"colab-df-convert\" onclick=\"convertToInteractive('df-c7a3ec5e-68e7-4ee0-b88e-4e0f646a87ac')\"\n",
              "              title=\"Convert this dataframe to an interactive table.\"\n",
              "              style=\"display:none;\">\n",
              "        \n",
              "  <svg xmlns=\"http://www.w3.org/2000/svg\" height=\"24px\"viewBox=\"0 0 24 24\"\n",
              "       width=\"24px\">\n",
              "    <path d=\"M0 0h24v24H0V0z\" fill=\"none\"/>\n",
              "    <path d=\"M18.56 5.44l.94 2.06.94-2.06 2.06-.94-2.06-.94-.94-2.06-.94 2.06-2.06.94zm-11 1L8.5 8.5l.94-2.06 2.06-.94-2.06-.94L8.5 2.5l-.94 2.06-2.06.94zm10 10l.94 2.06.94-2.06 2.06-.94-2.06-.94-.94-2.06-.94 2.06-2.06.94z\"/><path d=\"M17.41 7.96l-1.37-1.37c-.4-.4-.92-.59-1.43-.59-.52 0-1.04.2-1.43.59L10.3 9.45l-7.72 7.72c-.78.78-.78 2.05 0 2.83L4 21.41c.39.39.9.59 1.41.59.51 0 1.02-.2 1.41-.59l7.78-7.78 2.81-2.81c.8-.78.8-2.07 0-2.86zM5.41 20L4 18.59l7.72-7.72 1.47 1.35L5.41 20z\"/>\n",
              "  </svg>\n",
              "      </button>\n",
              "      \n",
              "  <style>\n",
              "    .colab-df-container {\n",
              "      display:flex;\n",
              "      flex-wrap:wrap;\n",
              "      gap: 12px;\n",
              "    }\n",
              "\n",
              "    .colab-df-convert {\n",
              "      background-color: #E8F0FE;\n",
              "      border: none;\n",
              "      border-radius: 50%;\n",
              "      cursor: pointer;\n",
              "      display: none;\n",
              "      fill: #1967D2;\n",
              "      height: 32px;\n",
              "      padding: 0 0 0 0;\n",
              "      width: 32px;\n",
              "    }\n",
              "\n",
              "    .colab-df-convert:hover {\n",
              "      background-color: #E2EBFA;\n",
              "      box-shadow: 0px 1px 2px rgba(60, 64, 67, 0.3), 0px 1px 3px 1px rgba(60, 64, 67, 0.15);\n",
              "      fill: #174EA6;\n",
              "    }\n",
              "\n",
              "    [theme=dark] .colab-df-convert {\n",
              "      background-color: #3B4455;\n",
              "      fill: #D2E3FC;\n",
              "    }\n",
              "\n",
              "    [theme=dark] .colab-df-convert:hover {\n",
              "      background-color: #434B5C;\n",
              "      box-shadow: 0px 1px 3px 1px rgba(0, 0, 0, 0.15);\n",
              "      filter: drop-shadow(0px 1px 2px rgba(0, 0, 0, 0.3));\n",
              "      fill: #FFFFFF;\n",
              "    }\n",
              "  </style>\n",
              "\n",
              "      <script>\n",
              "        const buttonEl =\n",
              "          document.querySelector('#df-c7a3ec5e-68e7-4ee0-b88e-4e0f646a87ac button.colab-df-convert');\n",
              "        buttonEl.style.display =\n",
              "          google.colab.kernel.accessAllowed ? 'block' : 'none';\n",
              "\n",
              "        async function convertToInteractive(key) {\n",
              "          const element = document.querySelector('#df-c7a3ec5e-68e7-4ee0-b88e-4e0f646a87ac');\n",
              "          const dataTable =\n",
              "            await google.colab.kernel.invokeFunction('convertToInteractive',\n",
              "                                                     [key], {});\n",
              "          if (!dataTable) return;\n",
              "\n",
              "          const docLinkHtml = 'Like what you see? Visit the ' +\n",
              "            '<a target=\"_blank\" href=https://colab.research.google.com/notebooks/data_table.ipynb>data table notebook</a>'\n",
              "            + ' to learn more about interactive tables.';\n",
              "          element.innerHTML = '';\n",
              "          dataTable['output_type'] = 'display_data';\n",
              "          await google.colab.output.renderOutput(dataTable, element);\n",
              "          const docLink = document.createElement('div');\n",
              "          docLink.innerHTML = docLinkHtml;\n",
              "          element.appendChild(docLink);\n",
              "        }\n",
              "      </script>\n",
              "    </div>\n",
              "  </div>\n",
              "  "
            ]
          },
          "metadata": {},
          "execution_count": 288
        }
      ]
    },
    {
      "cell_type": "markdown",
      "source": [
        "## Normalização das features"
      ],
      "metadata": {
        "id": "AK9hxhuOTWzv"
      }
    },
    {
      "cell_type": "code",
      "source": [
        "from sklearn.preprocessing import StandardScaler\n",
        "scaler = StandardScaler()\n",
        "data = scaler.fit_transform(df_features)\n",
        "data"
      ],
      "metadata": {
        "colab": {
          "base_uri": "https://localhost:8080/"
        },
        "id": "YOG76mGU-G3I",
        "outputId": "0208d8b4-f9d2-4644-def1-a0fe3d7a3842"
      },
      "execution_count": 289,
      "outputs": [
        {
          "output_type": "execute_result",
          "data": {
            "text/plain": [
              "array([[-0.29, -0.1 ,  2.49, ..., -0.29,  0.12,  0.77],\n",
              "       [-0.29, -0.21, -0.55, ...,  0.88, -1.11,  0.35],\n",
              "       [-0.29, -1.01,  2.49, ..., -0.29,  0.12,  0.77],\n",
              "       ...,\n",
              "       [-0.29, -1.01, -0.55, ...,  0.88, -1.11,  0.35],\n",
              "       [-0.29, -1.01, -0.55, ..., -0.81, -1.47, -1.38],\n",
              "       [-0.29, -0.5 , -0.55, ...,  0.43,  1.79, -0.75]])"
            ]
          },
          "metadata": {},
          "execution_count": 289
        }
      ]
    },
    {
      "cell_type": "markdown",
      "source": [
        "## Definição de função para exibição da ConfusionMatrix"
      ],
      "metadata": {
        "id": "zfciiP-yQlYA"
      }
    },
    {
      "cell_type": "code",
      "source": [
        "import matplotlib.pyplot as plt\n",
        "from sklearn.metrics import ConfusionMatrixDisplay\n",
        "\n",
        "np.set_printoptions(precision=2)\n",
        "\n",
        "class_names = df_target.unique()\n",
        "color_map = plt.cm.Blues\n",
        "options = [\n",
        "    (\"Confusion matrix, denormalized\", None),\n",
        "    (\"Confusion matrix, normalized\", \"true\"),\n",
        "]\n",
        "\n",
        "def confusion_matrix_display(y_test, y_pred, options, method, display_labels, color_map):  \n",
        "  for title, normalize in options:\n",
        "    disp = ConfusionMatrixDisplay.from_predictions(y_test, y_pred, display_labels=class_names,normalize=normalize,cmap=color_map)\n",
        "    disp.ax_.set_title(method+' -  '+title)\n",
        "  plt.show()\n"
      ],
      "metadata": {
        "id": "i0Blg-q4GQEJ"
      },
      "execution_count": 290,
      "outputs": []
    },
    {
      "cell_type": "markdown",
      "source": [
        "## Definição de função para coleta de métricas"
      ],
      "metadata": {
        "id": "LEFmU59n_pcf"
      }
    },
    {
      "cell_type": "code",
      "source": [
        "metrics_df = pd.DataFrame()"
      ],
      "metadata": {
        "id": "NnBhtiG1dc15"
      },
      "execution_count": 291,
      "outputs": []
    },
    {
      "cell_type": "code",
      "source": [
        "from sklearn.metrics import accuracy_score, precision_score, f1_score, recall_score, confusion_matrix\n",
        "\n",
        "def metrics_collect(method, y_test, y_pred):\n",
        "  accuracy = accuracy_score(y_test, y_pred)\n",
        "  precision = precision_score(y_test, y_pred,average='weighted')\n",
        "  recall = recall_score(y_test, y_pred,average='weighted')\n",
        "  f1 = f1_score(y_test, y_pred,average='weighted')\n",
        "  # precision = accuracy\n",
        "  # recall = accuracy\n",
        "  # f1 = accuracy\n",
        "  confusion_matrix_data = confusion_matrix(y_test, y_pred, normalize='true')\n",
        "  metrics_data = {'method': method, \n",
        "                  'accuracy': accuracy, \n",
        "                  'precision': precision, \n",
        "                  'recall': recall, \n",
        "                  'f1': f1, \n",
        "                  'confusion_matrix': confusion_matrix_data }\n",
        "  return metrics_data"
      ],
      "metadata": {
        "id": "oUpRS2PP_sJh"
      },
      "execution_count": 292,
      "outputs": []
    },
    {
      "cell_type": "markdown",
      "source": [
        "## Definição de parâmetros para o GridSearchCV"
      ],
      "metadata": {
        "id": "40-3pR9pXzEC"
      }
    },
    {
      "cell_type": "code",
      "source": [
        "from sklearn.model_selection import GridSearchCV\n",
        "\n",
        "scoring='accuracy'\n",
        "cv=10\n",
        "n_jobs=-1"
      ],
      "metadata": {
        "id": "ZHMykS6nXwrT"
      },
      "execution_count": 293,
      "outputs": []
    },
    {
      "cell_type": "markdown",
      "source": [
        "# Modelagem"
      ],
      "metadata": {
        "id": "I44dq3X0QSlf"
      }
    },
    {
      "cell_type": "markdown",
      "source": [
        "## Separação dados de treinamento e testes"
      ],
      "metadata": {
        "id": "UhRR8yNdQd9W"
      }
    },
    {
      "cell_type": "code",
      "source": [
        "import numpy as np\n",
        "from sklearn.model_selection import train_test_split\n",
        "\n",
        "X_train, X_test, y_train, y_test = train_test_split(data, target, random_state=0)\n",
        "print(X_train.shape)\n",
        "print(y_train.shape)\n",
        "print(X_test.shape)\n",
        "print(y_test.shape)"
      ],
      "metadata": {
        "colab": {
          "base_uri": "https://localhost:8080/"
        },
        "id": "HJb7eZgdzQsn",
        "outputId": "f0aa3030-660a-4bd5-f62a-0472392b02c4"
      },
      "execution_count": 294,
      "outputs": [
        {
          "output_type": "stream",
          "name": "stdout",
          "text": [
            "(3318, 36)\n",
            "(3318,)\n",
            "(1106, 36)\n",
            "(1106,)\n"
          ]
        }
      ]
    },
    {
      "cell_type": "markdown",
      "source": [
        "## Aplicação do método KNN"
      ],
      "metadata": {
        "id": "a90PEpIbrBVg"
      }
    },
    {
      "cell_type": "code",
      "source": [
        "from sklearn.neighbors import KNeighborsClassifier\n",
        "\n",
        "parameters = {'n_neighbors': range(1,9)}\n",
        "clf = GridSearchCV(KNeighborsClassifier(), parameters, scoring=scoring, cv=cv, n_jobs=n_jobs)\n",
        "clf.fit(X_train,y_train)\n",
        "print(clf.best_params_)"
      ],
      "metadata": {
        "colab": {
          "base_uri": "https://localhost:8080/"
        },
        "id": "ToReFiMTWSff",
        "outputId": "4a4199e4-8769-4419-bc29-97d9b0109e87"
      },
      "execution_count": 295,
      "outputs": [
        {
          "output_type": "stream",
          "name": "stdout",
          "text": [
            "{'n_neighbors': 7}\n"
          ]
        }
      ]
    },
    {
      "cell_type": "code",
      "source": [
        "method = 'KNN'\n",
        "knn = KNeighborsClassifier(**clf.best_params_)\n",
        "y_pred_knn = knn.fit(X_train,y_train).predict(X_test)\n",
        "metrics = metrics_collect(method, y_test, y_pred_knn)\n",
        "metrics_df = metrics_df.append(metrics, ignore_index=True)\n",
        "# metrics_df = pd.concat([metrics_df, metrics], ignore_index=True)"
      ],
      "metadata": {
        "id": "I-aTsK3Dup4D",
        "colab": {
          "base_uri": "https://localhost:8080/"
        },
        "outputId": "c55c9cc0-8430-4bec-f10d-3edb9749ee9e"
      },
      "execution_count": 296,
      "outputs": [
        {
          "output_type": "stream",
          "name": "stderr",
          "text": [
            "<ipython-input-296-c5d908803bf2>:5: FutureWarning:\n",
            "\n",
            "The frame.append method is deprecated and will be removed from pandas in a future version. Use pandas.concat instead.\n",
            "\n"
          ]
        }
      ]
    },
    {
      "cell_type": "code",
      "source": [
        "knn.get_params(deep=True)"
      ],
      "metadata": {
        "colab": {
          "base_uri": "https://localhost:8080/"
        },
        "id": "HSi2lgALJ_cl",
        "outputId": "8d18d020-272c-4677-d7d1-30a06cb7d495"
      },
      "execution_count": 297,
      "outputs": [
        {
          "output_type": "execute_result",
          "data": {
            "text/plain": [
              "{'algorithm': 'auto',\n",
              " 'leaf_size': 30,\n",
              " 'metric': 'minkowski',\n",
              " 'metric_params': None,\n",
              " 'n_jobs': None,\n",
              " 'n_neighbors': 7,\n",
              " 'p': 2,\n",
              " 'weights': 'uniform'}"
            ]
          },
          "metadata": {},
          "execution_count": 297
        }
      ]
    },
    {
      "cell_type": "markdown",
      "source": [
        "## Aplicação do método LDA"
      ],
      "metadata": {
        "id": "ON4stDcTrNMQ"
      }
    },
    {
      "cell_type": "code",
      "source": [
        "from sklearn.discriminant_analysis import LinearDiscriminantAnalysis\n",
        "\n",
        "method = 'LDA'\n",
        "lda = LinearDiscriminantAnalysis()\n",
        "y_pred_lda = lda.fit(X_train,y_train).predict(X_test)\n",
        "metrics = metrics_collect(method, y_test, y_pred_lda)\n",
        "metrics_df = metrics_df.append(metrics, ignore_index=True)"
      ],
      "metadata": {
        "id": "UiwHf6QTE9Qx",
        "colab": {
          "base_uri": "https://localhost:8080/"
        },
        "outputId": "977421a7-060e-4ada-d0be-e295b6ef6902"
      },
      "execution_count": 298,
      "outputs": [
        {
          "output_type": "stream",
          "name": "stderr",
          "text": [
            "<ipython-input-298-a353e968a87b>:7: FutureWarning:\n",
            "\n",
            "The frame.append method is deprecated and will be removed from pandas in a future version. Use pandas.concat instead.\n",
            "\n"
          ]
        }
      ]
    },
    {
      "cell_type": "code",
      "source": [
        "lda.get_params(deep=True)"
      ],
      "metadata": {
        "colab": {
          "base_uri": "https://localhost:8080/"
        },
        "id": "FygYPw0-KVom",
        "outputId": "54b8e388-b729-4467-cbd9-1835733bde06"
      },
      "execution_count": 299,
      "outputs": [
        {
          "output_type": "execute_result",
          "data": {
            "text/plain": [
              "{'covariance_estimator': None,\n",
              " 'n_components': None,\n",
              " 'priors': None,\n",
              " 'shrinkage': None,\n",
              " 'solver': 'svd',\n",
              " 'store_covariance': False,\n",
              " 'tol': 0.0001}"
            ]
          },
          "metadata": {},
          "execution_count": 299
        }
      ]
    },
    {
      "cell_type": "markdown",
      "source": [
        "## Aplicação do método QDA"
      ],
      "metadata": {
        "id": "8If4PAlorTNg"
      }
    },
    {
      "cell_type": "code",
      "source": [
        "from sklearn.discriminant_analysis import QuadraticDiscriminantAnalysis\n",
        "\n",
        "method = 'QDA'\n",
        "qda = QuadraticDiscriminantAnalysis()\n",
        "y_pred_qda = qda.fit(X_train,y_train).predict(X_test)\n",
        "metrics = metrics_collect(method, y_test, y_pred_qda)\n",
        "metrics_df = metrics_df.append(metrics, ignore_index=True)"
      ],
      "metadata": {
        "colab": {
          "base_uri": "https://localhost:8080/"
        },
        "id": "ONmXK70tIwk0",
        "outputId": "0e94e1ce-05d7-4fc3-a59f-2f9d1ce04740"
      },
      "execution_count": 300,
      "outputs": [
        {
          "output_type": "stream",
          "name": "stderr",
          "text": [
            "<ipython-input-300-02f0d8b16f53>:7: FutureWarning:\n",
            "\n",
            "The frame.append method is deprecated and will be removed from pandas in a future version. Use pandas.concat instead.\n",
            "\n"
          ]
        }
      ]
    },
    {
      "cell_type": "code",
      "source": [
        "qda.get_params(deep=True)"
      ],
      "metadata": {
        "colab": {
          "base_uri": "https://localhost:8080/"
        },
        "id": "gqAjIcKkKirM",
        "outputId": "c48e8c40-5a78-4188-decc-7a9f888478e3"
      },
      "execution_count": 301,
      "outputs": [
        {
          "output_type": "execute_result",
          "data": {
            "text/plain": [
              "{'priors': None, 'reg_param': 0.0, 'store_covariance': False, 'tol': 0.0001}"
            ]
          },
          "metadata": {},
          "execution_count": 301
        }
      ]
    },
    {
      "cell_type": "markdown",
      "source": [
        "## Aplicação do método SVC"
      ],
      "metadata": {
        "id": "w7qlF1xDrXNg"
      }
    },
    {
      "cell_type": "code",
      "source": [
        "from sklearn.svm import SVC\n",
        "\n",
        "parameters = { 'kernel': ('linear', 'rbf'), 'C': [1,10], 'gamma': ('scale', 'auto') }\n",
        "clf = GridSearchCV(SVC(), parameters, scoring=scoring, cv=cv, n_jobs=n_jobs)\n",
        "clf.fit(X_train,y_train)\n",
        "print(clf.best_params_)"
      ],
      "metadata": {
        "colab": {
          "base_uri": "https://localhost:8080/"
        },
        "id": "DYStx7Y8JyHv",
        "outputId": "1b94acea-d80a-475d-c36c-9bcf52c0efa1"
      },
      "execution_count": 302,
      "outputs": [
        {
          "output_type": "stream",
          "name": "stdout",
          "text": [
            "{'C': 10, 'gamma': 'scale', 'kernel': 'linear'}\n"
          ]
        }
      ]
    },
    {
      "cell_type": "code",
      "source": [
        "method = 'SVC'\n",
        "svc = SVC(**clf.best_params_)\n",
        "y_pred_svc = svc.fit(X_train,y_train).predict(X_test)\n",
        "metrics = metrics_collect(method, y_test, y_pred_svc)\n",
        "metrics_df = metrics_df.append(metrics, ignore_index=True)"
      ],
      "metadata": {
        "id": "JZyfjTFQX8AQ",
        "colab": {
          "base_uri": "https://localhost:8080/"
        },
        "outputId": "634f4787-1778-404c-de1a-c89a528345ff"
      },
      "execution_count": 303,
      "outputs": [
        {
          "output_type": "stream",
          "name": "stderr",
          "text": [
            "<ipython-input-303-ee01c5c81c75>:5: FutureWarning:\n",
            "\n",
            "The frame.append method is deprecated and will be removed from pandas in a future version. Use pandas.concat instead.\n",
            "\n"
          ]
        }
      ]
    },
    {
      "cell_type": "code",
      "source": [
        "svc.get_params(deep=True)"
      ],
      "metadata": {
        "colab": {
          "base_uri": "https://localhost:8080/"
        },
        "id": "U3cozD2hK0YH",
        "outputId": "371ed3a3-d5d8-469e-94fe-55522393011c"
      },
      "execution_count": 304,
      "outputs": [
        {
          "output_type": "execute_result",
          "data": {
            "text/plain": [
              "{'C': 10,\n",
              " 'break_ties': False,\n",
              " 'cache_size': 200,\n",
              " 'class_weight': None,\n",
              " 'coef0': 0.0,\n",
              " 'decision_function_shape': 'ovr',\n",
              " 'degree': 3,\n",
              " 'gamma': 'scale',\n",
              " 'kernel': 'linear',\n",
              " 'max_iter': -1,\n",
              " 'probability': False,\n",
              " 'random_state': None,\n",
              " 'shrinking': True,\n",
              " 'tol': 0.001,\n",
              " 'verbose': False}"
            ]
          },
          "metadata": {},
          "execution_count": 304
        }
      ]
    },
    {
      "cell_type": "markdown",
      "source": [
        "## Aplicação do método MLP"
      ],
      "metadata": {
        "id": "ydyhwRcbrdmE"
      }
    },
    {
      "cell_type": "code",
      "source": [
        "from sklearn.neural_network import MLPClassifier\n",
        "\n",
        "# restrição de parâmetros devido a desempenho...\n",
        "parameters = {'solver': ['lbfgs'], 'alpha': [0.0001, 0.0001], 'hidden_layer_sizes': [10,20], 'max_iter': [1000,1000]}\n",
        "clf = GridSearchCV(MLPClassifier(), parameters, scoring=scoring, cv=cv, n_jobs=n_jobs)\n",
        "clf.fit(X_train,y_train)\n",
        "print(clf.best_params_)"
      ],
      "metadata": {
        "id": "IR9NbT_sBq3K"
      },
      "execution_count": null,
      "outputs": []
    },
    {
      "cell_type": "code",
      "source": [
        "method = 'MLP'\n",
        "mlp = MLPClassifier(**clf.best_params_)\n",
        "y_pred_mlp = mlp.fit(X_train,y_train).predict(X_test)\n",
        "metrics = metrics_collect(method, y_test, y_pred_mlp)\n",
        "metrics_df = metrics_df.append(metrics, ignore_index=True)"
      ],
      "metadata": {
        "id": "2DFjEp6isdq0"
      },
      "execution_count": null,
      "outputs": []
    },
    {
      "cell_type": "code",
      "source": [
        "mlp.get_params(deep=True)"
      ],
      "metadata": {
        "id": "s5brotRwLAwd"
      },
      "execution_count": null,
      "outputs": []
    },
    {
      "cell_type": "markdown",
      "source": [
        "## Aplicação do método RFT"
      ],
      "metadata": {
        "id": "bZjfVaMcJ5LF"
      }
    },
    {
      "cell_type": "code",
      "source": [
        "from sklearn.ensemble import RandomForestClassifier\n",
        "\n",
        "parameters = {'n_estimators': [200, 300], 'max_features': ['sqrt', 'log2'], 'max_depth': [None, 10] }\n",
        "clf = GridSearchCV(RandomForestClassifier(), parameters, scoring=scoring, cv=cv, n_jobs=n_jobs)\n",
        "clf.fit(X_train,y_train)\n",
        "print(clf.best_params_)"
      ],
      "metadata": {
        "id": "6-bE9whiK8iC"
      },
      "execution_count": null,
      "outputs": []
    },
    {
      "cell_type": "code",
      "source": [
        "method = 'RFT'\n",
        "rft = RandomForestClassifier(**clf.best_params_)\n",
        "y_pred_rft = rft.fit(X_train,y_train).predict(X_test)\n",
        "metrics = metrics_collect(method, y_test, y_pred_rft)\n",
        "metrics_df = metrics_df.append(metrics, ignore_index=True)"
      ],
      "metadata": {
        "id": "5RfBqkH_J4m1"
      },
      "execution_count": null,
      "outputs": []
    },
    {
      "cell_type": "code",
      "source": [
        "rft.get_params(deep=True)"
      ],
      "metadata": {
        "id": "kBCXYTRuKQRN"
      },
      "execution_count": null,
      "outputs": []
    },
    {
      "cell_type": "markdown",
      "source": [
        "# Avaliações"
      ],
      "metadata": {
        "id": "k-jn98nge2Dh"
      }
    },
    {
      "cell_type": "markdown",
      "source": [
        "## Métricas diversas"
      ],
      "metadata": {
        "id": "AbfnkTt8YYS_"
      }
    },
    {
      "cell_type": "code",
      "source": [
        "import plotly.express as px\n",
        "\n",
        "fig = px.bar(metrics_df, x='method', y=['accuracy', 'precision','recall', 'f1'], barmode='group', text_auto='.2f', title='Metrics by method')\n",
        "fig.show()"
      ],
      "metadata": {
        "id": "TsQ2Up8he5Q7"
      },
      "execution_count": null,
      "outputs": []
    },
    {
      "cell_type": "markdown",
      "source": [
        "## Matriz de Confusão"
      ],
      "metadata": {
        "id": "uF_S3PB-YbyO"
      }
    },
    {
      "cell_type": "code",
      "source": [
        "import matplotlib.pyplot as plt\n",
        "\n",
        "methods = [ ['KNN',  y_pred_knn ],\n",
        "            ['LDA',  y_pred_lda ],\n",
        "            ['QDA',  y_pred_qda ],\n",
        "            ['SVC',  y_pred_svc ],\n",
        "            ['MLP',  y_pred_mlp ],\n",
        "            ['RFT',  y_pred_rft ] ]\n",
        "for method, y_pred in methods:\n",
        "  confusion_matrix_display(y_test, y_pred, options, method, class_names, color_map)"
      ],
      "metadata": {
        "id": "5B-k7wEmwGjV"
      },
      "execution_count": null,
      "outputs": []
    }
  ]
}