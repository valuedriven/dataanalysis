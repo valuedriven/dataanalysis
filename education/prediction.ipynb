{
  "nbformat": 4,
  "nbformat_minor": 0,
  "metadata": {
    "colab": {
      "provenance": [],
      "toc_visible": true,
      "authorship_tag": "ABX9TyMoL9b/ogrc9XVqpLC9nZUl",
      "include_colab_link": true
    },
    "kernelspec": {
      "name": "python3",
      "display_name": "Python 3"
    },
    "language_info": {
      "name": "python"
    }
  },
  "cells": [
    {
      "cell_type": "markdown",
      "metadata": {
        "id": "view-in-github",
        "colab_type": "text"
      },
      "source": [
        "<a href=\"https://colab.research.google.com/github/valuedriven/dataanalysis/blob/master/education/prediction.ipynb\" target=\"_parent\"><img src=\"https://colab.research.google.com/assets/colab-badge.svg\" alt=\"Open In Colab\"/></a>"
      ]
    },
    {
      "cell_type": "markdown",
      "source": [
        "# **Visão geral**\n",
        "\n",
        "This notebook uses an UCI dataset:\n",
        "https://archive-beta.ics.uci.edu/dataset/697/predict+students+dropout+and+academic+success\n",
        "\n",
        "## Introduction Paper\n",
        "\n",
        "Early prediction of student's performance in higher education: a case study\n",
        "Mónica V. Martins, Daniel Tolledo, Jorge Machado, Luís M. T. Baptista, and Valentim Realinho Trends and Applications in Information Systems and Technologies\n",
        "\n",
        "\n",
        "Other datasets evaluated:\n",
        "\n",
        "https://archive.ics.uci.edu/ml/datasets/Student+Performance\n",
        "\n",
        "https://archive.ics.uci.edu/ml/datasets/Higher+Education+Students+Performance+Evaluation+Dataset\n",
        "\n"
      ],
      "metadata": {
        "id": "4JTxm8YeehUT"
      }
    },
    {
      "cell_type": "markdown",
      "source": [
        "# Obtenção dos dados"
      ],
      "metadata": {
        "id": "wdN4HTFxqneN"
      }
    },
    {
      "cell_type": "code",
      "execution_count": 374,
      "metadata": {
        "id": "9F9vITDBz5Hw"
      },
      "outputs": [],
      "source": [
        "from io import BytesIO\n",
        "from zipfile import ZipFile\n",
        "import requests\n",
        "\n",
        "url = 'https://archive-beta.ics.uci.edu/static/public/697/predict+students+dropout+and+academic+success.zip'\n",
        "dataset_file = 'data.csv'\n",
        "filename = requests.get(url).content\n",
        "zip_file = ZipFile( BytesIO(filename), 'r' )"
      ]
    },
    {
      "cell_type": "code",
      "source": [
        "import pandas as pd\n",
        "\n",
        "df = pd.read_csv(zip_file.open(dataset_file),sep=';')\n",
        "df.head(5)"
      ],
      "metadata": {
        "colab": {
          "base_uri": "https://localhost:8080/",
          "height": 352
        },
        "id": "xtCsbIP-81C_",
        "outputId": "34113803-fc70-4192-decc-2ecfb0481d48"
      },
      "execution_count": 375,
      "outputs": [
        {
          "output_type": "execute_result",
          "data": {
            "text/plain": [
              "   Marital status  Application mode  Application order  Course  \\\n",
              "0               1                17                  5     171   \n",
              "1               1                15                  1    9254   \n",
              "2               1                 1                  5    9070   \n",
              "3               1                17                  2    9773   \n",
              "4               2                39                  1    8014   \n",
              "\n",
              "   Daytime/evening attendance\\t  Previous qualification  \\\n",
              "0                             1                       1   \n",
              "1                             1                       1   \n",
              "2                             1                       1   \n",
              "3                             1                       1   \n",
              "4                             0                       1   \n",
              "\n",
              "   Previous qualification (grade)  Nacionality  Mother's qualification  \\\n",
              "0                           122.0            1                      19   \n",
              "1                           160.0            1                       1   \n",
              "2                           122.0            1                      37   \n",
              "3                           122.0            1                      38   \n",
              "4                           100.0            1                      37   \n",
              "\n",
              "   Father's qualification  ...  Curricular units 2nd sem (credited)  \\\n",
              "0                      12  ...                                    0   \n",
              "1                       3  ...                                    0   \n",
              "2                      37  ...                                    0   \n",
              "3                      37  ...                                    0   \n",
              "4                      38  ...                                    0   \n",
              "\n",
              "   Curricular units 2nd sem (enrolled)  \\\n",
              "0                                    0   \n",
              "1                                    6   \n",
              "2                                    6   \n",
              "3                                    6   \n",
              "4                                    6   \n",
              "\n",
              "   Curricular units 2nd sem (evaluations)  \\\n",
              "0                                       0   \n",
              "1                                       6   \n",
              "2                                       0   \n",
              "3                                      10   \n",
              "4                                       6   \n",
              "\n",
              "   Curricular units 2nd sem (approved)  Curricular units 2nd sem (grade)  \\\n",
              "0                                    0                          0.000000   \n",
              "1                                    6                         13.666667   \n",
              "2                                    0                          0.000000   \n",
              "3                                    5                         12.400000   \n",
              "4                                    6                         13.000000   \n",
              "\n",
              "   Curricular units 2nd sem (without evaluations)  Unemployment rate  \\\n",
              "0                                               0               10.8   \n",
              "1                                               0               13.9   \n",
              "2                                               0               10.8   \n",
              "3                                               0                9.4   \n",
              "4                                               0               13.9   \n",
              "\n",
              "   Inflation rate   GDP    Target  \n",
              "0             1.4  1.74   Dropout  \n",
              "1            -0.3  0.79  Graduate  \n",
              "2             1.4  1.74   Dropout  \n",
              "3            -0.8 -3.12  Graduate  \n",
              "4            -0.3  0.79  Graduate  \n",
              "\n",
              "[5 rows x 37 columns]"
            ],
            "text/html": [
              "\n",
              "  <div id=\"df-15fcd8b4-2b0c-4014-b206-0a24d8c96265\">\n",
              "    <div class=\"colab-df-container\">\n",
              "      <div>\n",
              "<style scoped>\n",
              "    .dataframe tbody tr th:only-of-type {\n",
              "        vertical-align: middle;\n",
              "    }\n",
              "\n",
              "    .dataframe tbody tr th {\n",
              "        vertical-align: top;\n",
              "    }\n",
              "\n",
              "    .dataframe thead th {\n",
              "        text-align: right;\n",
              "    }\n",
              "</style>\n",
              "<table border=\"1\" class=\"dataframe\">\n",
              "  <thead>\n",
              "    <tr style=\"text-align: right;\">\n",
              "      <th></th>\n",
              "      <th>Marital status</th>\n",
              "      <th>Application mode</th>\n",
              "      <th>Application order</th>\n",
              "      <th>Course</th>\n",
              "      <th>Daytime/evening attendance\\t</th>\n",
              "      <th>Previous qualification</th>\n",
              "      <th>Previous qualification (grade)</th>\n",
              "      <th>Nacionality</th>\n",
              "      <th>Mother's qualification</th>\n",
              "      <th>Father's qualification</th>\n",
              "      <th>...</th>\n",
              "      <th>Curricular units 2nd sem (credited)</th>\n",
              "      <th>Curricular units 2nd sem (enrolled)</th>\n",
              "      <th>Curricular units 2nd sem (evaluations)</th>\n",
              "      <th>Curricular units 2nd sem (approved)</th>\n",
              "      <th>Curricular units 2nd sem (grade)</th>\n",
              "      <th>Curricular units 2nd sem (without evaluations)</th>\n",
              "      <th>Unemployment rate</th>\n",
              "      <th>Inflation rate</th>\n",
              "      <th>GDP</th>\n",
              "      <th>Target</th>\n",
              "    </tr>\n",
              "  </thead>\n",
              "  <tbody>\n",
              "    <tr>\n",
              "      <th>0</th>\n",
              "      <td>1</td>\n",
              "      <td>17</td>\n",
              "      <td>5</td>\n",
              "      <td>171</td>\n",
              "      <td>1</td>\n",
              "      <td>1</td>\n",
              "      <td>122.0</td>\n",
              "      <td>1</td>\n",
              "      <td>19</td>\n",
              "      <td>12</td>\n",
              "      <td>...</td>\n",
              "      <td>0</td>\n",
              "      <td>0</td>\n",
              "      <td>0</td>\n",
              "      <td>0</td>\n",
              "      <td>0.000000</td>\n",
              "      <td>0</td>\n",
              "      <td>10.8</td>\n",
              "      <td>1.4</td>\n",
              "      <td>1.74</td>\n",
              "      <td>Dropout</td>\n",
              "    </tr>\n",
              "    <tr>\n",
              "      <th>1</th>\n",
              "      <td>1</td>\n",
              "      <td>15</td>\n",
              "      <td>1</td>\n",
              "      <td>9254</td>\n",
              "      <td>1</td>\n",
              "      <td>1</td>\n",
              "      <td>160.0</td>\n",
              "      <td>1</td>\n",
              "      <td>1</td>\n",
              "      <td>3</td>\n",
              "      <td>...</td>\n",
              "      <td>0</td>\n",
              "      <td>6</td>\n",
              "      <td>6</td>\n",
              "      <td>6</td>\n",
              "      <td>13.666667</td>\n",
              "      <td>0</td>\n",
              "      <td>13.9</td>\n",
              "      <td>-0.3</td>\n",
              "      <td>0.79</td>\n",
              "      <td>Graduate</td>\n",
              "    </tr>\n",
              "    <tr>\n",
              "      <th>2</th>\n",
              "      <td>1</td>\n",
              "      <td>1</td>\n",
              "      <td>5</td>\n",
              "      <td>9070</td>\n",
              "      <td>1</td>\n",
              "      <td>1</td>\n",
              "      <td>122.0</td>\n",
              "      <td>1</td>\n",
              "      <td>37</td>\n",
              "      <td>37</td>\n",
              "      <td>...</td>\n",
              "      <td>0</td>\n",
              "      <td>6</td>\n",
              "      <td>0</td>\n",
              "      <td>0</td>\n",
              "      <td>0.000000</td>\n",
              "      <td>0</td>\n",
              "      <td>10.8</td>\n",
              "      <td>1.4</td>\n",
              "      <td>1.74</td>\n",
              "      <td>Dropout</td>\n",
              "    </tr>\n",
              "    <tr>\n",
              "      <th>3</th>\n",
              "      <td>1</td>\n",
              "      <td>17</td>\n",
              "      <td>2</td>\n",
              "      <td>9773</td>\n",
              "      <td>1</td>\n",
              "      <td>1</td>\n",
              "      <td>122.0</td>\n",
              "      <td>1</td>\n",
              "      <td>38</td>\n",
              "      <td>37</td>\n",
              "      <td>...</td>\n",
              "      <td>0</td>\n",
              "      <td>6</td>\n",
              "      <td>10</td>\n",
              "      <td>5</td>\n",
              "      <td>12.400000</td>\n",
              "      <td>0</td>\n",
              "      <td>9.4</td>\n",
              "      <td>-0.8</td>\n",
              "      <td>-3.12</td>\n",
              "      <td>Graduate</td>\n",
              "    </tr>\n",
              "    <tr>\n",
              "      <th>4</th>\n",
              "      <td>2</td>\n",
              "      <td>39</td>\n",
              "      <td>1</td>\n",
              "      <td>8014</td>\n",
              "      <td>0</td>\n",
              "      <td>1</td>\n",
              "      <td>100.0</td>\n",
              "      <td>1</td>\n",
              "      <td>37</td>\n",
              "      <td>38</td>\n",
              "      <td>...</td>\n",
              "      <td>0</td>\n",
              "      <td>6</td>\n",
              "      <td>6</td>\n",
              "      <td>6</td>\n",
              "      <td>13.000000</td>\n",
              "      <td>0</td>\n",
              "      <td>13.9</td>\n",
              "      <td>-0.3</td>\n",
              "      <td>0.79</td>\n",
              "      <td>Graduate</td>\n",
              "    </tr>\n",
              "  </tbody>\n",
              "</table>\n",
              "<p>5 rows × 37 columns</p>\n",
              "</div>\n",
              "      <button class=\"colab-df-convert\" onclick=\"convertToInteractive('df-15fcd8b4-2b0c-4014-b206-0a24d8c96265')\"\n",
              "              title=\"Convert this dataframe to an interactive table.\"\n",
              "              style=\"display:none;\">\n",
              "        \n",
              "  <svg xmlns=\"http://www.w3.org/2000/svg\" height=\"24px\"viewBox=\"0 0 24 24\"\n",
              "       width=\"24px\">\n",
              "    <path d=\"M0 0h24v24H0V0z\" fill=\"none\"/>\n",
              "    <path d=\"M18.56 5.44l.94 2.06.94-2.06 2.06-.94-2.06-.94-.94-2.06-.94 2.06-2.06.94zm-11 1L8.5 8.5l.94-2.06 2.06-.94-2.06-.94L8.5 2.5l-.94 2.06-2.06.94zm10 10l.94 2.06.94-2.06 2.06-.94-2.06-.94-.94-2.06-.94 2.06-2.06.94z\"/><path d=\"M17.41 7.96l-1.37-1.37c-.4-.4-.92-.59-1.43-.59-.52 0-1.04.2-1.43.59L10.3 9.45l-7.72 7.72c-.78.78-.78 2.05 0 2.83L4 21.41c.39.39.9.59 1.41.59.51 0 1.02-.2 1.41-.59l7.78-7.78 2.81-2.81c.8-.78.8-2.07 0-2.86zM5.41 20L4 18.59l7.72-7.72 1.47 1.35L5.41 20z\"/>\n",
              "  </svg>\n",
              "      </button>\n",
              "      \n",
              "  <style>\n",
              "    .colab-df-container {\n",
              "      display:flex;\n",
              "      flex-wrap:wrap;\n",
              "      gap: 12px;\n",
              "    }\n",
              "\n",
              "    .colab-df-convert {\n",
              "      background-color: #E8F0FE;\n",
              "      border: none;\n",
              "      border-radius: 50%;\n",
              "      cursor: pointer;\n",
              "      display: none;\n",
              "      fill: #1967D2;\n",
              "      height: 32px;\n",
              "      padding: 0 0 0 0;\n",
              "      width: 32px;\n",
              "    }\n",
              "\n",
              "    .colab-df-convert:hover {\n",
              "      background-color: #E2EBFA;\n",
              "      box-shadow: 0px 1px 2px rgba(60, 64, 67, 0.3), 0px 1px 3px 1px rgba(60, 64, 67, 0.15);\n",
              "      fill: #174EA6;\n",
              "    }\n",
              "\n",
              "    [theme=dark] .colab-df-convert {\n",
              "      background-color: #3B4455;\n",
              "      fill: #D2E3FC;\n",
              "    }\n",
              "\n",
              "    [theme=dark] .colab-df-convert:hover {\n",
              "      background-color: #434B5C;\n",
              "      box-shadow: 0px 1px 3px 1px rgba(0, 0, 0, 0.15);\n",
              "      filter: drop-shadow(0px 1px 2px rgba(0, 0, 0, 0.3));\n",
              "      fill: #FFFFFF;\n",
              "    }\n",
              "  </style>\n",
              "\n",
              "      <script>\n",
              "        const buttonEl =\n",
              "          document.querySelector('#df-15fcd8b4-2b0c-4014-b206-0a24d8c96265 button.colab-df-convert');\n",
              "        buttonEl.style.display =\n",
              "          google.colab.kernel.accessAllowed ? 'block' : 'none';\n",
              "\n",
              "        async function convertToInteractive(key) {\n",
              "          const element = document.querySelector('#df-15fcd8b4-2b0c-4014-b206-0a24d8c96265');\n",
              "          const dataTable =\n",
              "            await google.colab.kernel.invokeFunction('convertToInteractive',\n",
              "                                                     [key], {});\n",
              "          if (!dataTable) return;\n",
              "\n",
              "          const docLinkHtml = 'Like what you see? Visit the ' +\n",
              "            '<a target=\"_blank\" href=https://colab.research.google.com/notebooks/data_table.ipynb>data table notebook</a>'\n",
              "            + ' to learn more about interactive tables.';\n",
              "          element.innerHTML = '';\n",
              "          dataTable['output_type'] = 'display_data';\n",
              "          await google.colab.output.renderOutput(dataTable, element);\n",
              "          const docLink = document.createElement('div');\n",
              "          docLink.innerHTML = docLinkHtml;\n",
              "          element.appendChild(docLink);\n",
              "        }\n",
              "      </script>\n",
              "    </div>\n",
              "  </div>\n",
              "  "
            ]
          },
          "metadata": {},
          "execution_count": 375
        }
      ]
    },
    {
      "cell_type": "markdown",
      "source": [
        "# Entendimento dos dados"
      ],
      "metadata": {
        "id": "J23Y5i7Wqrv8"
      }
    },
    {
      "cell_type": "code",
      "source": [
        "df.info()"
      ],
      "metadata": {
        "colab": {
          "base_uri": "https://localhost:8080/"
        },
        "id": "Y7wQr8oA9LJ-",
        "outputId": "a03c62c7-0cb4-409e-d2a6-84f541d8c0a5"
      },
      "execution_count": 376,
      "outputs": [
        {
          "output_type": "stream",
          "name": "stdout",
          "text": [
            "<class 'pandas.core.frame.DataFrame'>\n",
            "RangeIndex: 4424 entries, 0 to 4423\n",
            "Data columns (total 37 columns):\n",
            " #   Column                                          Non-Null Count  Dtype  \n",
            "---  ------                                          --------------  -----  \n",
            " 0   Marital status                                  4424 non-null   int64  \n",
            " 1   Application mode                                4424 non-null   int64  \n",
            " 2   Application order                               4424 non-null   int64  \n",
            " 3   Course                                          4424 non-null   int64  \n",
            " 4   Daytime/evening attendance\t                     4424 non-null   int64  \n",
            " 5   Previous qualification                          4424 non-null   int64  \n",
            " 6   Previous qualification (grade)                  4424 non-null   float64\n",
            " 7   Nacionality                                     4424 non-null   int64  \n",
            " 8   Mother's qualification                          4424 non-null   int64  \n",
            " 9   Father's qualification                          4424 non-null   int64  \n",
            " 10  Mother's occupation                             4424 non-null   int64  \n",
            " 11  Father's occupation                             4424 non-null   int64  \n",
            " 12  Admission grade                                 4424 non-null   float64\n",
            " 13  Displaced                                       4424 non-null   int64  \n",
            " 14  Educational special needs                       4424 non-null   int64  \n",
            " 15  Debtor                                          4424 non-null   int64  \n",
            " 16  Tuition fees up to date                         4424 non-null   int64  \n",
            " 17  Gender                                          4424 non-null   int64  \n",
            " 18  Scholarship holder                              4424 non-null   int64  \n",
            " 19  Age at enrollment                               4424 non-null   int64  \n",
            " 20  International                                   4424 non-null   int64  \n",
            " 21  Curricular units 1st sem (credited)             4424 non-null   int64  \n",
            " 22  Curricular units 1st sem (enrolled)             4424 non-null   int64  \n",
            " 23  Curricular units 1st sem (evaluations)          4424 non-null   int64  \n",
            " 24  Curricular units 1st sem (approved)             4424 non-null   int64  \n",
            " 25  Curricular units 1st sem (grade)                4424 non-null   float64\n",
            " 26  Curricular units 1st sem (without evaluations)  4424 non-null   int64  \n",
            " 27  Curricular units 2nd sem (credited)             4424 non-null   int64  \n",
            " 28  Curricular units 2nd sem (enrolled)             4424 non-null   int64  \n",
            " 29  Curricular units 2nd sem (evaluations)          4424 non-null   int64  \n",
            " 30  Curricular units 2nd sem (approved)             4424 non-null   int64  \n",
            " 31  Curricular units 2nd sem (grade)                4424 non-null   float64\n",
            " 32  Curricular units 2nd sem (without evaluations)  4424 non-null   int64  \n",
            " 33  Unemployment rate                               4424 non-null   float64\n",
            " 34  Inflation rate                                  4424 non-null   float64\n",
            " 35  GDP                                             4424 non-null   float64\n",
            " 36  Target                                          4424 non-null   object \n",
            "dtypes: float64(7), int64(29), object(1)\n",
            "memory usage: 1.2+ MB\n"
          ]
        }
      ]
    },
    {
      "cell_type": "markdown",
      "source": [
        "## Total de instances e features"
      ],
      "metadata": {
        "id": "eZrEw-MH4uIs"
      }
    },
    {
      "cell_type": "code",
      "source": [
        "df.shape"
      ],
      "metadata": {
        "id": "0G4ObxC0wVwL",
        "outputId": "68d7f010-55ba-4b80-bbba-ecceca86d75a",
        "colab": {
          "base_uri": "https://localhost:8080/"
        }
      },
      "execution_count": 377,
      "outputs": [
        {
          "output_type": "execute_result",
          "data": {
            "text/plain": [
              "(4424, 37)"
            ]
          },
          "metadata": {},
          "execution_count": 377
        }
      ]
    },
    {
      "cell_type": "markdown",
      "source": [
        "## Classes"
      ],
      "metadata": {
        "id": "wdyUbTd75Jhh"
      }
    },
    {
      "cell_type": "code",
      "source": [
        "df['Target'].unique()"
      ],
      "metadata": {
        "colab": {
          "base_uri": "https://localhost:8080/"
        },
        "id": "D-YrGKCC5Lwv",
        "outputId": "69c4572a-56c5-472b-a4f2-2bee6db23862"
      },
      "execution_count": 378,
      "outputs": [
        {
          "output_type": "execute_result",
          "data": {
            "text/plain": [
              "array(['Dropout', 'Graduate', 'Enrolled'], dtype=object)"
            ]
          },
          "metadata": {},
          "execution_count": 378
        }
      ]
    },
    {
      "cell_type": "markdown",
      "source": [
        "## Features, missing values e data types"
      ],
      "metadata": {
        "id": "JlxFkPXi4pjc"
      }
    },
    {
      "cell_type": "code",
      "source": [
        "df.dtypes.value_counts()"
      ],
      "metadata": {
        "colab": {
          "base_uri": "https://localhost:8080/"
        },
        "id": "_gfCbNHf8YVt",
        "outputId": "077c2ee2-d833-4043-f87a-075be5b5b85c"
      },
      "execution_count": 379,
      "outputs": [
        {
          "output_type": "execute_result",
          "data": {
            "text/plain": [
              "int64      29\n",
              "float64     7\n",
              "object      1\n",
              "dtype: int64"
            ]
          },
          "metadata": {},
          "execution_count": 379
        }
      ]
    },
    {
      "cell_type": "markdown",
      "source": [
        "## Caraterísticas estatísticas"
      ],
      "metadata": {
        "id": "GAxdbZvBADGY"
      }
    },
    {
      "cell_type": "code",
      "source": [
        "df.describe()"
      ],
      "metadata": {
        "colab": {
          "base_uri": "https://localhost:8080/",
          "height": 446
        },
        "id": "B7lGYLCyAIBz",
        "outputId": "c807761f-c3b7-4713-cefc-46a240c62900"
      },
      "execution_count": 380,
      "outputs": [
        {
          "output_type": "execute_result",
          "data": {
            "text/plain": [
              "       Marital status  Application mode  Application order       Course  \\\n",
              "count     4424.000000       4424.000000        4424.000000  4424.000000   \n",
              "mean         1.178571         18.669078           1.727848  8856.642631   \n",
              "std          0.605747         17.484682           1.313793  2063.566416   \n",
              "min          1.000000          1.000000           0.000000    33.000000   \n",
              "25%          1.000000          1.000000           1.000000  9085.000000   \n",
              "50%          1.000000         17.000000           1.000000  9238.000000   \n",
              "75%          1.000000         39.000000           2.000000  9556.000000   \n",
              "max          6.000000         57.000000           9.000000  9991.000000   \n",
              "\n",
              "       Daytime/evening attendance\\t  Previous qualification  \\\n",
              "count                   4424.000000             4424.000000   \n",
              "mean                       0.890823                4.577758   \n",
              "std                        0.311897               10.216592   \n",
              "min                        0.000000                1.000000   \n",
              "25%                        1.000000                1.000000   \n",
              "50%                        1.000000                1.000000   \n",
              "75%                        1.000000                1.000000   \n",
              "max                        1.000000               43.000000   \n",
              "\n",
              "       Previous qualification (grade)  Nacionality  Mother's qualification  \\\n",
              "count                     4424.000000  4424.000000             4424.000000   \n",
              "mean                       132.613314     1.873192               19.561935   \n",
              "std                         13.188332     6.914514               15.603186   \n",
              "min                         95.000000     1.000000                1.000000   \n",
              "25%                        125.000000     1.000000                2.000000   \n",
              "50%                        133.100000     1.000000               19.000000   \n",
              "75%                        140.000000     1.000000               37.000000   \n",
              "max                        190.000000   109.000000               44.000000   \n",
              "\n",
              "       Father's qualification  ...  \\\n",
              "count             4424.000000  ...   \n",
              "mean                22.275316  ...   \n",
              "std                 15.343108  ...   \n",
              "min                  1.000000  ...   \n",
              "25%                  3.000000  ...   \n",
              "50%                 19.000000  ...   \n",
              "75%                 37.000000  ...   \n",
              "max                 44.000000  ...   \n",
              "\n",
              "       Curricular units 1st sem (without evaluations)  \\\n",
              "count                                     4424.000000   \n",
              "mean                                         0.137658   \n",
              "std                                          0.690880   \n",
              "min                                          0.000000   \n",
              "25%                                          0.000000   \n",
              "50%                                          0.000000   \n",
              "75%                                          0.000000   \n",
              "max                                         12.000000   \n",
              "\n",
              "       Curricular units 2nd sem (credited)  \\\n",
              "count                          4424.000000   \n",
              "mean                              0.541817   \n",
              "std                               1.918546   \n",
              "min                               0.000000   \n",
              "25%                               0.000000   \n",
              "50%                               0.000000   \n",
              "75%                               0.000000   \n",
              "max                              19.000000   \n",
              "\n",
              "       Curricular units 2nd sem (enrolled)  \\\n",
              "count                          4424.000000   \n",
              "mean                              6.232143   \n",
              "std                               2.195951   \n",
              "min                               0.000000   \n",
              "25%                               5.000000   \n",
              "50%                               6.000000   \n",
              "75%                               7.000000   \n",
              "max                              23.000000   \n",
              "\n",
              "       Curricular units 2nd sem (evaluations)  \\\n",
              "count                             4424.000000   \n",
              "mean                                 8.063291   \n",
              "std                                  3.947951   \n",
              "min                                  0.000000   \n",
              "25%                                  6.000000   \n",
              "50%                                  8.000000   \n",
              "75%                                 10.000000   \n",
              "max                                 33.000000   \n",
              "\n",
              "       Curricular units 2nd sem (approved)  Curricular units 2nd sem (grade)  \\\n",
              "count                          4424.000000                       4424.000000   \n",
              "mean                              4.435805                         10.230206   \n",
              "std                               3.014764                          5.210808   \n",
              "min                               0.000000                          0.000000   \n",
              "25%                               2.000000                         10.750000   \n",
              "50%                               5.000000                         12.200000   \n",
              "75%                               6.000000                         13.333333   \n",
              "max                              20.000000                         18.571429   \n",
              "\n",
              "       Curricular units 2nd sem (without evaluations)  Unemployment rate  \\\n",
              "count                                     4424.000000        4424.000000   \n",
              "mean                                         0.150316          11.566139   \n",
              "std                                          0.753774           2.663850   \n",
              "min                                          0.000000           7.600000   \n",
              "25%                                          0.000000           9.400000   \n",
              "50%                                          0.000000          11.100000   \n",
              "75%                                          0.000000          13.900000   \n",
              "max                                         12.000000          16.200000   \n",
              "\n",
              "       Inflation rate          GDP  \n",
              "count     4424.000000  4424.000000  \n",
              "mean         1.228029     0.001969  \n",
              "std          1.382711     2.269935  \n",
              "min         -0.800000    -4.060000  \n",
              "25%          0.300000    -1.700000  \n",
              "50%          1.400000     0.320000  \n",
              "75%          2.600000     1.790000  \n",
              "max          3.700000     3.510000  \n",
              "\n",
              "[8 rows x 36 columns]"
            ],
            "text/html": [
              "\n",
              "  <div id=\"df-94a52e06-41b9-4ca1-81c9-434859f5cfae\">\n",
              "    <div class=\"colab-df-container\">\n",
              "      <div>\n",
              "<style scoped>\n",
              "    .dataframe tbody tr th:only-of-type {\n",
              "        vertical-align: middle;\n",
              "    }\n",
              "\n",
              "    .dataframe tbody tr th {\n",
              "        vertical-align: top;\n",
              "    }\n",
              "\n",
              "    .dataframe thead th {\n",
              "        text-align: right;\n",
              "    }\n",
              "</style>\n",
              "<table border=\"1\" class=\"dataframe\">\n",
              "  <thead>\n",
              "    <tr style=\"text-align: right;\">\n",
              "      <th></th>\n",
              "      <th>Marital status</th>\n",
              "      <th>Application mode</th>\n",
              "      <th>Application order</th>\n",
              "      <th>Course</th>\n",
              "      <th>Daytime/evening attendance\\t</th>\n",
              "      <th>Previous qualification</th>\n",
              "      <th>Previous qualification (grade)</th>\n",
              "      <th>Nacionality</th>\n",
              "      <th>Mother's qualification</th>\n",
              "      <th>Father's qualification</th>\n",
              "      <th>...</th>\n",
              "      <th>Curricular units 1st sem (without evaluations)</th>\n",
              "      <th>Curricular units 2nd sem (credited)</th>\n",
              "      <th>Curricular units 2nd sem (enrolled)</th>\n",
              "      <th>Curricular units 2nd sem (evaluations)</th>\n",
              "      <th>Curricular units 2nd sem (approved)</th>\n",
              "      <th>Curricular units 2nd sem (grade)</th>\n",
              "      <th>Curricular units 2nd sem (without evaluations)</th>\n",
              "      <th>Unemployment rate</th>\n",
              "      <th>Inflation rate</th>\n",
              "      <th>GDP</th>\n",
              "    </tr>\n",
              "  </thead>\n",
              "  <tbody>\n",
              "    <tr>\n",
              "      <th>count</th>\n",
              "      <td>4424.000000</td>\n",
              "      <td>4424.000000</td>\n",
              "      <td>4424.000000</td>\n",
              "      <td>4424.000000</td>\n",
              "      <td>4424.000000</td>\n",
              "      <td>4424.000000</td>\n",
              "      <td>4424.000000</td>\n",
              "      <td>4424.000000</td>\n",
              "      <td>4424.000000</td>\n",
              "      <td>4424.000000</td>\n",
              "      <td>...</td>\n",
              "      <td>4424.000000</td>\n",
              "      <td>4424.000000</td>\n",
              "      <td>4424.000000</td>\n",
              "      <td>4424.000000</td>\n",
              "      <td>4424.000000</td>\n",
              "      <td>4424.000000</td>\n",
              "      <td>4424.000000</td>\n",
              "      <td>4424.000000</td>\n",
              "      <td>4424.000000</td>\n",
              "      <td>4424.000000</td>\n",
              "    </tr>\n",
              "    <tr>\n",
              "      <th>mean</th>\n",
              "      <td>1.178571</td>\n",
              "      <td>18.669078</td>\n",
              "      <td>1.727848</td>\n",
              "      <td>8856.642631</td>\n",
              "      <td>0.890823</td>\n",
              "      <td>4.577758</td>\n",
              "      <td>132.613314</td>\n",
              "      <td>1.873192</td>\n",
              "      <td>19.561935</td>\n",
              "      <td>22.275316</td>\n",
              "      <td>...</td>\n",
              "      <td>0.137658</td>\n",
              "      <td>0.541817</td>\n",
              "      <td>6.232143</td>\n",
              "      <td>8.063291</td>\n",
              "      <td>4.435805</td>\n",
              "      <td>10.230206</td>\n",
              "      <td>0.150316</td>\n",
              "      <td>11.566139</td>\n",
              "      <td>1.228029</td>\n",
              "      <td>0.001969</td>\n",
              "    </tr>\n",
              "    <tr>\n",
              "      <th>std</th>\n",
              "      <td>0.605747</td>\n",
              "      <td>17.484682</td>\n",
              "      <td>1.313793</td>\n",
              "      <td>2063.566416</td>\n",
              "      <td>0.311897</td>\n",
              "      <td>10.216592</td>\n",
              "      <td>13.188332</td>\n",
              "      <td>6.914514</td>\n",
              "      <td>15.603186</td>\n",
              "      <td>15.343108</td>\n",
              "      <td>...</td>\n",
              "      <td>0.690880</td>\n",
              "      <td>1.918546</td>\n",
              "      <td>2.195951</td>\n",
              "      <td>3.947951</td>\n",
              "      <td>3.014764</td>\n",
              "      <td>5.210808</td>\n",
              "      <td>0.753774</td>\n",
              "      <td>2.663850</td>\n",
              "      <td>1.382711</td>\n",
              "      <td>2.269935</td>\n",
              "    </tr>\n",
              "    <tr>\n",
              "      <th>min</th>\n",
              "      <td>1.000000</td>\n",
              "      <td>1.000000</td>\n",
              "      <td>0.000000</td>\n",
              "      <td>33.000000</td>\n",
              "      <td>0.000000</td>\n",
              "      <td>1.000000</td>\n",
              "      <td>95.000000</td>\n",
              "      <td>1.000000</td>\n",
              "      <td>1.000000</td>\n",
              "      <td>1.000000</td>\n",
              "      <td>...</td>\n",
              "      <td>0.000000</td>\n",
              "      <td>0.000000</td>\n",
              "      <td>0.000000</td>\n",
              "      <td>0.000000</td>\n",
              "      <td>0.000000</td>\n",
              "      <td>0.000000</td>\n",
              "      <td>0.000000</td>\n",
              "      <td>7.600000</td>\n",
              "      <td>-0.800000</td>\n",
              "      <td>-4.060000</td>\n",
              "    </tr>\n",
              "    <tr>\n",
              "      <th>25%</th>\n",
              "      <td>1.000000</td>\n",
              "      <td>1.000000</td>\n",
              "      <td>1.000000</td>\n",
              "      <td>9085.000000</td>\n",
              "      <td>1.000000</td>\n",
              "      <td>1.000000</td>\n",
              "      <td>125.000000</td>\n",
              "      <td>1.000000</td>\n",
              "      <td>2.000000</td>\n",
              "      <td>3.000000</td>\n",
              "      <td>...</td>\n",
              "      <td>0.000000</td>\n",
              "      <td>0.000000</td>\n",
              "      <td>5.000000</td>\n",
              "      <td>6.000000</td>\n",
              "      <td>2.000000</td>\n",
              "      <td>10.750000</td>\n",
              "      <td>0.000000</td>\n",
              "      <td>9.400000</td>\n",
              "      <td>0.300000</td>\n",
              "      <td>-1.700000</td>\n",
              "    </tr>\n",
              "    <tr>\n",
              "      <th>50%</th>\n",
              "      <td>1.000000</td>\n",
              "      <td>17.000000</td>\n",
              "      <td>1.000000</td>\n",
              "      <td>9238.000000</td>\n",
              "      <td>1.000000</td>\n",
              "      <td>1.000000</td>\n",
              "      <td>133.100000</td>\n",
              "      <td>1.000000</td>\n",
              "      <td>19.000000</td>\n",
              "      <td>19.000000</td>\n",
              "      <td>...</td>\n",
              "      <td>0.000000</td>\n",
              "      <td>0.000000</td>\n",
              "      <td>6.000000</td>\n",
              "      <td>8.000000</td>\n",
              "      <td>5.000000</td>\n",
              "      <td>12.200000</td>\n",
              "      <td>0.000000</td>\n",
              "      <td>11.100000</td>\n",
              "      <td>1.400000</td>\n",
              "      <td>0.320000</td>\n",
              "    </tr>\n",
              "    <tr>\n",
              "      <th>75%</th>\n",
              "      <td>1.000000</td>\n",
              "      <td>39.000000</td>\n",
              "      <td>2.000000</td>\n",
              "      <td>9556.000000</td>\n",
              "      <td>1.000000</td>\n",
              "      <td>1.000000</td>\n",
              "      <td>140.000000</td>\n",
              "      <td>1.000000</td>\n",
              "      <td>37.000000</td>\n",
              "      <td>37.000000</td>\n",
              "      <td>...</td>\n",
              "      <td>0.000000</td>\n",
              "      <td>0.000000</td>\n",
              "      <td>7.000000</td>\n",
              "      <td>10.000000</td>\n",
              "      <td>6.000000</td>\n",
              "      <td>13.333333</td>\n",
              "      <td>0.000000</td>\n",
              "      <td>13.900000</td>\n",
              "      <td>2.600000</td>\n",
              "      <td>1.790000</td>\n",
              "    </tr>\n",
              "    <tr>\n",
              "      <th>max</th>\n",
              "      <td>6.000000</td>\n",
              "      <td>57.000000</td>\n",
              "      <td>9.000000</td>\n",
              "      <td>9991.000000</td>\n",
              "      <td>1.000000</td>\n",
              "      <td>43.000000</td>\n",
              "      <td>190.000000</td>\n",
              "      <td>109.000000</td>\n",
              "      <td>44.000000</td>\n",
              "      <td>44.000000</td>\n",
              "      <td>...</td>\n",
              "      <td>12.000000</td>\n",
              "      <td>19.000000</td>\n",
              "      <td>23.000000</td>\n",
              "      <td>33.000000</td>\n",
              "      <td>20.000000</td>\n",
              "      <td>18.571429</td>\n",
              "      <td>12.000000</td>\n",
              "      <td>16.200000</td>\n",
              "      <td>3.700000</td>\n",
              "      <td>3.510000</td>\n",
              "    </tr>\n",
              "  </tbody>\n",
              "</table>\n",
              "<p>8 rows × 36 columns</p>\n",
              "</div>\n",
              "      <button class=\"colab-df-convert\" onclick=\"convertToInteractive('df-94a52e06-41b9-4ca1-81c9-434859f5cfae')\"\n",
              "              title=\"Convert this dataframe to an interactive table.\"\n",
              "              style=\"display:none;\">\n",
              "        \n",
              "  <svg xmlns=\"http://www.w3.org/2000/svg\" height=\"24px\"viewBox=\"0 0 24 24\"\n",
              "       width=\"24px\">\n",
              "    <path d=\"M0 0h24v24H0V0z\" fill=\"none\"/>\n",
              "    <path d=\"M18.56 5.44l.94 2.06.94-2.06 2.06-.94-2.06-.94-.94-2.06-.94 2.06-2.06.94zm-11 1L8.5 8.5l.94-2.06 2.06-.94-2.06-.94L8.5 2.5l-.94 2.06-2.06.94zm10 10l.94 2.06.94-2.06 2.06-.94-2.06-.94-.94-2.06-.94 2.06-2.06.94z\"/><path d=\"M17.41 7.96l-1.37-1.37c-.4-.4-.92-.59-1.43-.59-.52 0-1.04.2-1.43.59L10.3 9.45l-7.72 7.72c-.78.78-.78 2.05 0 2.83L4 21.41c.39.39.9.59 1.41.59.51 0 1.02-.2 1.41-.59l7.78-7.78 2.81-2.81c.8-.78.8-2.07 0-2.86zM5.41 20L4 18.59l7.72-7.72 1.47 1.35L5.41 20z\"/>\n",
              "  </svg>\n",
              "      </button>\n",
              "      \n",
              "  <style>\n",
              "    .colab-df-container {\n",
              "      display:flex;\n",
              "      flex-wrap:wrap;\n",
              "      gap: 12px;\n",
              "    }\n",
              "\n",
              "    .colab-df-convert {\n",
              "      background-color: #E8F0FE;\n",
              "      border: none;\n",
              "      border-radius: 50%;\n",
              "      cursor: pointer;\n",
              "      display: none;\n",
              "      fill: #1967D2;\n",
              "      height: 32px;\n",
              "      padding: 0 0 0 0;\n",
              "      width: 32px;\n",
              "    }\n",
              "\n",
              "    .colab-df-convert:hover {\n",
              "      background-color: #E2EBFA;\n",
              "      box-shadow: 0px 1px 2px rgba(60, 64, 67, 0.3), 0px 1px 3px 1px rgba(60, 64, 67, 0.15);\n",
              "      fill: #174EA6;\n",
              "    }\n",
              "\n",
              "    [theme=dark] .colab-df-convert {\n",
              "      background-color: #3B4455;\n",
              "      fill: #D2E3FC;\n",
              "    }\n",
              "\n",
              "    [theme=dark] .colab-df-convert:hover {\n",
              "      background-color: #434B5C;\n",
              "      box-shadow: 0px 1px 3px 1px rgba(0, 0, 0, 0.15);\n",
              "      filter: drop-shadow(0px 1px 2px rgba(0, 0, 0, 0.3));\n",
              "      fill: #FFFFFF;\n",
              "    }\n",
              "  </style>\n",
              "\n",
              "      <script>\n",
              "        const buttonEl =\n",
              "          document.querySelector('#df-94a52e06-41b9-4ca1-81c9-434859f5cfae button.colab-df-convert');\n",
              "        buttonEl.style.display =\n",
              "          google.colab.kernel.accessAllowed ? 'block' : 'none';\n",
              "\n",
              "        async function convertToInteractive(key) {\n",
              "          const element = document.querySelector('#df-94a52e06-41b9-4ca1-81c9-434859f5cfae');\n",
              "          const dataTable =\n",
              "            await google.colab.kernel.invokeFunction('convertToInteractive',\n",
              "                                                     [key], {});\n",
              "          if (!dataTable) return;\n",
              "\n",
              "          const docLinkHtml = 'Like what you see? Visit the ' +\n",
              "            '<a target=\"_blank\" href=https://colab.research.google.com/notebooks/data_table.ipynb>data table notebook</a>'\n",
              "            + ' to learn more about interactive tables.';\n",
              "          element.innerHTML = '';\n",
              "          dataTable['output_type'] = 'display_data';\n",
              "          await google.colab.output.renderOutput(dataTable, element);\n",
              "          const docLink = document.createElement('div');\n",
              "          docLink.innerHTML = docLinkHtml;\n",
              "          element.appendChild(docLink);\n",
              "        }\n",
              "      </script>\n",
              "    </div>\n",
              "  </div>\n",
              "  "
            ]
          },
          "metadata": {},
          "execution_count": 380
        }
      ]
    },
    {
      "cell_type": "code",
      "source": [
        "int_features = df.select_dtypes(['int64']).columns.to_numpy()\n",
        "float_features = df.select_dtypes(['float64']).columns.to_numpy()\n",
        "print(int_features)\n",
        "print(float_features)"
      ],
      "metadata": {
        "colab": {
          "base_uri": "https://localhost:8080/"
        },
        "id": "KdcQIlJt-pfK",
        "outputId": "851272ae-40a7-4a71-b996-b74d137ba0a3"
      },
      "execution_count": 381,
      "outputs": [
        {
          "output_type": "stream",
          "name": "stdout",
          "text": [
            "['Marital status' 'Application mode' 'Application order' 'Course'\n",
            " 'Daytime/evening attendance\\t' 'Previous qualification' 'Nacionality'\n",
            " \"Mother's qualification\" \"Father's qualification\" \"Mother's occupation\"\n",
            " \"Father's occupation\" 'Displaced' 'Educational special needs' 'Debtor'\n",
            " 'Tuition fees up to date' 'Gender' 'Scholarship holder'\n",
            " 'Age at enrollment' 'International' 'Curricular units 1st sem (credited)'\n",
            " 'Curricular units 1st sem (enrolled)'\n",
            " 'Curricular units 1st sem (evaluations)'\n",
            " 'Curricular units 1st sem (approved)'\n",
            " 'Curricular units 1st sem (without evaluations)'\n",
            " 'Curricular units 2nd sem (credited)'\n",
            " 'Curricular units 2nd sem (enrolled)'\n",
            " 'Curricular units 2nd sem (evaluations)'\n",
            " 'Curricular units 2nd sem (approved)'\n",
            " 'Curricular units 2nd sem (without evaluations)']\n",
            "['Previous qualification (grade)' 'Admission grade'\n",
            " 'Curricular units 1st sem (grade)' 'Curricular units 2nd sem (grade)'\n",
            " 'Unemployment rate' 'Inflation rate' 'GDP']\n"
          ]
        }
      ]
    },
    {
      "cell_type": "markdown",
      "source": [
        "# Exploração de dados"
      ],
      "metadata": {
        "id": "t2aNr-W03tm4"
      }
    },
    {
      "cell_type": "code",
      "source": [
        "import plotly.express as px\n",
        "\n",
        "fig = px.histogram(df, x='Target')\n",
        "fig.show()"
      ],
      "metadata": {
        "colab": {
          "base_uri": "https://localhost:8080/",
          "height": 542
        },
        "id": "u5cnwVqIGdme",
        "outputId": "54c1e74c-c358-4f26-e820-d1276c4dd30e"
      },
      "execution_count": 382,
      "outputs": [
        {
          "output_type": "display_data",
          "data": {
            "text/html": [
              "<html>\n",
              "<head><meta charset=\"utf-8\" /></head>\n",
              "<body>\n",
              "    <div>            <script src=\"https://cdnjs.cloudflare.com/ajax/libs/mathjax/2.7.5/MathJax.js?config=TeX-AMS-MML_SVG\"></script><script type=\"text/javascript\">if (window.MathJax && window.MathJax.Hub && window.MathJax.Hub.Config) {window.MathJax.Hub.Config({SVG: {font: \"STIX-Web\"}});}</script>                <script type=\"text/javascript\">window.PlotlyConfig = {MathJaxConfig: 'local'};</script>\n",
              "        <script src=\"https://cdn.plot.ly/plotly-2.18.2.min.js\"></script>                <div id=\"e3ace6c7-604a-406f-90ef-543584480a5c\" class=\"plotly-graph-div\" style=\"height:525px; width:100%;\"></div>            <script type=\"text/javascript\">                                    window.PLOTLYENV=window.PLOTLYENV || {};                                    if (document.getElementById(\"e3ace6c7-604a-406f-90ef-543584480a5c\")) {                    Plotly.newPlot(                        \"e3ace6c7-604a-406f-90ef-543584480a5c\",                        [{\"alignmentgroup\":\"True\",\"bingroup\":\"x\",\"hovertemplate\":\"Target=%{x}<br>count=%{y}<extra></extra>\",\"legendgroup\":\"\",\"marker\":{\"color\":\"#636efa\",\"pattern\":{\"shape\":\"\"}},\"name\":\"\",\"offsetgroup\":\"\",\"orientation\":\"v\",\"showlegend\":false,\"x\":[\"Dropout\",\"Graduate\",\"Dropout\",\"Graduate\",\"Graduate\",\"Graduate\",\"Graduate\",\"Dropout\",\"Graduate\",\"Dropout\",\"Graduate\",\"Graduate\",\"Dropout\",\"Graduate\",\"Graduate\",\"Dropout\",\"Enrolled\",\"Graduate\",\"Graduate\",\"Enrolled\",\"Graduate\",\"Enrolled\",\"Graduate\",\"Graduate\",\"Graduate\",\"Enrolled\",\"Graduate\",\"Enrolled\",\"Graduate\",\"Enrolled\",\"Enrolled\",\"Graduate\",\"Enrolled\",\"Graduate\",\"Graduate\",\"Dropout\",\"Dropout\",\"Dropout\",\"Graduate\",\"Dropout\",\"Dropout\",\"Graduate\",\"Graduate\",\"Dropout\",\"Dropout\",\"Enrolled\",\"Graduate\",\"Graduate\",\"Graduate\",\"Graduate\",\"Graduate\",\"Enrolled\",\"Enrolled\",\"Graduate\",\"Dropout\",\"Graduate\",\"Dropout\",\"Dropout\",\"Graduate\",\"Enrolled\",\"Graduate\",\"Graduate\",\"Enrolled\",\"Enrolled\",\"Enrolled\",\"Dropout\",\"Graduate\",\"Graduate\",\"Dropout\",\"Enrolled\",\"Enrolled\",\"Graduate\",\"Dropout\",\"Dropout\",\"Graduate\",\"Dropout\",\"Dropout\",\"Graduate\",\"Graduate\",\"Graduate\",\"Dropout\",\"Dropout\",\"Dropout\",\"Enrolled\",\"Graduate\",\"Graduate\",\"Graduate\",\"Graduate\",\"Enrolled\",\"Enrolled\",\"Dropout\",\"Graduate\",\"Dropout\",\"Dropout\",\"Graduate\",\"Enrolled\",\"Graduate\",\"Graduate\",\"Enrolled\",\"Dropout\",\"Dropout\",\"Graduate\",\"Dropout\",\"Graduate\",\"Dropout\",\"Graduate\",\"Dropout\",\"Dropout\",\"Dropout\",\"Enrolled\",\"Graduate\",\"Enrolled\",\"Graduate\",\"Graduate\",\"Dropout\",\"Enrolled\",\"Enrolled\",\"Enrolled\",\"Graduate\",\"Graduate\",\"Dropout\",\"Graduate\",\"Dropout\",\"Graduate\",\"Graduate\",\"Dropout\",\"Graduate\",\"Enrolled\",\"Graduate\",\"Graduate\",\"Dropout\",\"Graduate\",\"Graduate\",\"Dropout\",\"Graduate\",\"Dropout\",\"Graduate\",\"Graduate\",\"Enrolled\",\"Graduate\",\"Graduate\",\"Graduate\",\"Enrolled\",\"Graduate\",\"Graduate\",\"Graduate\",\"Dropout\",\"Dropout\",\"Graduate\",\"Graduate\",\"Enrolled\",\"Graduate\",\"Enrolled\",\"Graduate\",\"Dropout\",\"Dropout\",\"Graduate\",\"Graduate\",\"Graduate\",\"Graduate\",\"Dropout\",\"Graduate\",\"Graduate\",\"Dropout\",\"Graduate\",\"Graduate\",\"Enrolled\",\"Graduate\",\"Graduate\",\"Dropout\",\"Enrolled\",\"Graduate\",\"Graduate\",\"Graduate\",\"Dropout\",\"Enrolled\",\"Graduate\",\"Dropout\",\"Dropout\",\"Dropout\",\"Graduate\",\"Enrolled\",\"Dropout\",\"Dropout\",\"Dropout\",\"Dropout\",\"Enrolled\",\"Graduate\",\"Dropout\",\"Graduate\",\"Graduate\",\"Enrolled\",\"Dropout\",\"Dropout\",\"Graduate\",\"Dropout\",\"Graduate\",\"Dropout\",\"Graduate\",\"Enrolled\",\"Graduate\",\"Graduate\",\"Graduate\",\"Graduate\",\"Graduate\",\"Graduate\",\"Graduate\",\"Graduate\",\"Graduate\",\"Dropout\",\"Graduate\",\"Graduate\",\"Graduate\",\"Dropout\",\"Graduate\",\"Enrolled\",\"Graduate\",\"Dropout\",\"Dropout\",\"Dropout\",\"Graduate\",\"Graduate\",\"Dropout\",\"Graduate\",\"Graduate\",\"Graduate\",\"Graduate\",\"Graduate\",\"Dropout\",\"Graduate\",\"Graduate\",\"Dropout\",\"Graduate\",\"Graduate\",\"Dropout\",\"Graduate\",\"Graduate\",\"Graduate\",\"Dropout\",\"Dropout\",\"Enrolled\",\"Enrolled\",\"Graduate\",\"Dropout\",\"Graduate\",\"Graduate\",\"Graduate\",\"Dropout\",\"Graduate\",\"Graduate\",\"Enrolled\",\"Dropout\",\"Graduate\",\"Enrolled\",\"Graduate\",\"Dropout\",\"Graduate\",\"Enrolled\",\"Graduate\",\"Dropout\",\"Graduate\",\"Dropout\",\"Dropout\",\"Graduate\",\"Graduate\",\"Graduate\",\"Graduate\",\"Graduate\",\"Graduate\",\"Graduate\",\"Graduate\",\"Dropout\",\"Graduate\",\"Graduate\",\"Graduate\",\"Graduate\",\"Dropout\",\"Dropout\",\"Enrolled\",\"Graduate\",\"Graduate\",\"Graduate\",\"Graduate\",\"Graduate\",\"Graduate\",\"Graduate\",\"Enrolled\",\"Graduate\",\"Graduate\",\"Graduate\",\"Graduate\",\"Graduate\",\"Enrolled\",\"Graduate\",\"Dropout\",\"Graduate\",\"Graduate\",\"Graduate\",\"Graduate\",\"Graduate\",\"Graduate\",\"Graduate\",\"Graduate\",\"Dropout\",\"Dropout\",\"Enrolled\",\"Graduate\",\"Dropout\",\"Graduate\",\"Dropout\",\"Graduate\",\"Dropout\",\"Graduate\",\"Graduate\",\"Dropout\",\"Graduate\",\"Graduate\",\"Graduate\",\"Graduate\",\"Enrolled\",\"Dropout\",\"Graduate\",\"Graduate\",\"Graduate\",\"Enrolled\",\"Graduate\",\"Graduate\",\"Graduate\",\"Enrolled\",\"Enrolled\",\"Enrolled\",\"Dropout\",\"Graduate\",\"Graduate\",\"Graduate\",\"Graduate\",\"Graduate\",\"Graduate\",\"Graduate\",\"Graduate\",\"Enrolled\",\"Dropout\",\"Graduate\",\"Graduate\",\"Enrolled\",\"Graduate\",\"Enrolled\",\"Graduate\",\"Graduate\",\"Enrolled\",\"Dropout\",\"Graduate\",\"Dropout\",\"Graduate\",\"Dropout\",\"Graduate\",\"Graduate\",\"Dropout\",\"Enrolled\",\"Dropout\",\"Graduate\",\"Dropout\",\"Enrolled\",\"Graduate\",\"Enrolled\",\"Graduate\",\"Graduate\",\"Enrolled\",\"Graduate\",\"Dropout\",\"Graduate\",\"Enrolled\",\"Graduate\",\"Graduate\",\"Dropout\",\"Enrolled\",\"Dropout\",\"Graduate\",\"Enrolled\",\"Enrolled\",\"Dropout\",\"Enrolled\",\"Enrolled\",\"Graduate\",\"Graduate\",\"Graduate\",\"Graduate\",\"Graduate\",\"Enrolled\",\"Graduate\",\"Enrolled\",\"Enrolled\",\"Dropout\",\"Dropout\",\"Graduate\",\"Graduate\",\"Graduate\",\"Graduate\",\"Dropout\",\"Dropout\",\"Enrolled\",\"Enrolled\",\"Enrolled\",\"Enrolled\",\"Graduate\",\"Graduate\",\"Graduate\",\"Graduate\",\"Graduate\",\"Dropout\",\"Graduate\",\"Graduate\",\"Graduate\",\"Graduate\",\"Graduate\",\"Graduate\",\"Graduate\",\"Dropout\",\"Graduate\",\"Dropout\",\"Graduate\",\"Graduate\",\"Dropout\",\"Graduate\",\"Graduate\",\"Graduate\",\"Graduate\",\"Enrolled\",\"Dropout\",\"Graduate\",\"Graduate\",\"Graduate\",\"Graduate\",\"Dropout\",\"Graduate\",\"Graduate\",\"Enrolled\",\"Graduate\",\"Dropout\",\"Graduate\",\"Enrolled\",\"Enrolled\",\"Graduate\",\"Graduate\",\"Graduate\",\"Graduate\",\"Graduate\",\"Dropout\",\"Graduate\",\"Enrolled\",\"Graduate\",\"Graduate\",\"Graduate\",\"Graduate\",\"Enrolled\",\"Graduate\",\"Dropout\",\"Dropout\",\"Graduate\",\"Graduate\",\"Graduate\",\"Graduate\",\"Graduate\",\"Graduate\",\"Enrolled\",\"Dropout\",\"Enrolled\",\"Graduate\",\"Graduate\",\"Graduate\",\"Graduate\",\"Graduate\",\"Dropout\",\"Graduate\",\"Dropout\",\"Graduate\",\"Dropout\",\"Dropout\",\"Graduate\",\"Enrolled\",\"Graduate\",\"Graduate\",\"Dropout\",\"Enrolled\",\"Graduate\",\"Graduate\",\"Dropout\",\"Dropout\",\"Graduate\",\"Graduate\",\"Graduate\",\"Graduate\",\"Graduate\",\"Enrolled\",\"Enrolled\",\"Dropout\",\"Dropout\",\"Graduate\",\"Graduate\",\"Graduate\",\"Enrolled\",\"Graduate\",\"Enrolled\",\"Dropout\",\"Graduate\",\"Enrolled\",\"Enrolled\",\"Graduate\",\"Dropout\",\"Dropout\",\"Enrolled\",\"Dropout\",\"Graduate\",\"Dropout\",\"Dropout\",\"Dropout\",\"Graduate\",\"Dropout\",\"Dropout\",\"Dropout\",\"Graduate\",\"Graduate\",\"Graduate\",\"Graduate\",\"Dropout\",\"Dropout\",\"Enrolled\",\"Graduate\",\"Dropout\",\"Dropout\",\"Enrolled\",\"Dropout\",\"Graduate\",\"Dropout\",\"Graduate\",\"Graduate\",\"Dropout\",\"Graduate\",\"Graduate\",\"Dropout\",\"Graduate\",\"Enrolled\",\"Graduate\",\"Graduate\",\"Enrolled\",\"Enrolled\",\"Enrolled\",\"Enrolled\",\"Enrolled\",\"Graduate\",\"Dropout\",\"Dropout\",\"Dropout\",\"Dropout\",\"Dropout\",\"Dropout\",\"Enrolled\",\"Graduate\",\"Enrolled\",\"Graduate\",\"Graduate\",\"Enrolled\",\"Dropout\",\"Graduate\",\"Graduate\",\"Graduate\",\"Dropout\",\"Dropout\",\"Graduate\",\"Graduate\",\"Graduate\",\"Dropout\",\"Dropout\",\"Enrolled\",\"Graduate\",\"Dropout\",\"Graduate\",\"Enrolled\",\"Graduate\",\"Graduate\",\"Dropout\",\"Graduate\",\"Enrolled\",\"Graduate\",\"Graduate\",\"Graduate\",\"Graduate\",\"Graduate\",\"Graduate\",\"Graduate\",\"Graduate\",\"Enrolled\",\"Graduate\",\"Enrolled\",\"Enrolled\",\"Dropout\",\"Dropout\",\"Dropout\",\"Graduate\",\"Graduate\",\"Dropout\",\"Dropout\",\"Graduate\",\"Graduate\",\"Graduate\",\"Dropout\",\"Dropout\",\"Graduate\",\"Dropout\",\"Enrolled\",\"Graduate\",\"Graduate\",\"Graduate\",\"Enrolled\",\"Graduate\",\"Graduate\",\"Graduate\",\"Graduate\",\"Graduate\",\"Enrolled\",\"Graduate\",\"Dropout\",\"Dropout\",\"Graduate\",\"Dropout\",\"Dropout\",\"Graduate\",\"Graduate\",\"Graduate\",\"Graduate\",\"Graduate\",\"Enrolled\",\"Graduate\",\"Graduate\",\"Graduate\",\"Graduate\",\"Graduate\",\"Enrolled\",\"Graduate\",\"Dropout\",\"Dropout\",\"Enrolled\",\"Enrolled\",\"Enrolled\",\"Dropout\",\"Enrolled\",\"Enrolled\",\"Graduate\",\"Graduate\",\"Graduate\",\"Graduate\",\"Enrolled\",\"Graduate\",\"Graduate\",\"Graduate\",\"Enrolled\",\"Enrolled\",\"Graduate\",\"Graduate\",\"Dropout\",\"Graduate\",\"Enrolled\",\"Graduate\",\"Graduate\",\"Graduate\",\"Graduate\",\"Dropout\",\"Graduate\",\"Dropout\",\"Graduate\",\"Graduate\",\"Dropout\",\"Graduate\",\"Graduate\",\"Graduate\",\"Dropout\",\"Graduate\",\"Enrolled\",\"Dropout\",\"Graduate\",\"Graduate\",\"Graduate\",\"Dropout\",\"Dropout\",\"Graduate\",\"Graduate\",\"Dropout\",\"Graduate\",\"Graduate\",\"Dropout\",\"Dropout\",\"Graduate\",\"Enrolled\",\"Dropout\",\"Graduate\",\"Dropout\",\"Graduate\",\"Enrolled\",\"Graduate\",\"Dropout\",\"Enrolled\",\"Dropout\",\"Dropout\",\"Dropout\",\"Graduate\",\"Dropout\",\"Graduate\",\"Graduate\",\"Graduate\",\"Dropout\",\"Dropout\",\"Dropout\",\"Graduate\",\"Graduate\",\"Graduate\",\"Graduate\",\"Dropout\",\"Dropout\",\"Enrolled\",\"Enrolled\",\"Dropout\",\"Enrolled\",\"Graduate\",\"Dropout\",\"Dropout\",\"Graduate\",\"Graduate\",\"Dropout\",\"Graduate\",\"Enrolled\",\"Dropout\",\"Graduate\",\"Graduate\",\"Graduate\",\"Dropout\",\"Graduate\",\"Enrolled\",\"Dropout\",\"Enrolled\",\"Dropout\",\"Dropout\",\"Graduate\",\"Dropout\",\"Dropout\",\"Graduate\",\"Dropout\",\"Dropout\",\"Graduate\",\"Dropout\",\"Graduate\",\"Graduate\",\"Graduate\",\"Graduate\",\"Dropout\",\"Graduate\",\"Dropout\",\"Dropout\",\"Dropout\",\"Graduate\",\"Graduate\",\"Graduate\",\"Enrolled\",\"Graduate\",\"Enrolled\",\"Graduate\",\"Enrolled\",\"Enrolled\",\"Graduate\",\"Graduate\",\"Graduate\",\"Graduate\",\"Dropout\",\"Enrolled\",\"Graduate\",\"Enrolled\",\"Dropout\",\"Graduate\",\"Dropout\",\"Enrolled\",\"Graduate\",\"Graduate\",\"Dropout\",\"Graduate\",\"Enrolled\",\"Graduate\",\"Graduate\",\"Graduate\",\"Graduate\",\"Dropout\",\"Graduate\",\"Graduate\",\"Dropout\",\"Graduate\",\"Graduate\",\"Graduate\",\"Graduate\",\"Graduate\",\"Graduate\",\"Graduate\",\"Enrolled\",\"Enrolled\",\"Dropout\",\"Graduate\",\"Graduate\",\"Graduate\",\"Enrolled\",\"Graduate\",\"Enrolled\",\"Dropout\",\"Enrolled\",\"Dropout\",\"Graduate\",\"Graduate\",\"Graduate\",\"Graduate\",\"Enrolled\",\"Enrolled\",\"Graduate\",\"Enrolled\",\"Graduate\",\"Graduate\",\"Graduate\",\"Enrolled\",\"Graduate\",\"Graduate\",\"Graduate\",\"Dropout\",\"Graduate\",\"Graduate\",\"Dropout\",\"Dropout\",\"Dropout\",\"Enrolled\",\"Dropout\",\"Dropout\",\"Enrolled\",\"Dropout\",\"Enrolled\",\"Dropout\",\"Graduate\",\"Dropout\",\"Enrolled\",\"Dropout\",\"Graduate\",\"Graduate\",\"Dropout\",\"Graduate\",\"Graduate\",\"Enrolled\",\"Graduate\",\"Graduate\",\"Enrolled\",\"Graduate\",\"Graduate\",\"Enrolled\",\"Dropout\",\"Dropout\",\"Dropout\",\"Dropout\",\"Dropout\",\"Dropout\",\"Dropout\",\"Dropout\",\"Dropout\",\"Dropout\",\"Graduate\",\"Dropout\",\"Dropout\",\"Graduate\",\"Graduate\",\"Graduate\",\"Dropout\",\"Graduate\",\"Enrolled\",\"Graduate\",\"Graduate\",\"Dropout\",\"Dropout\",\"Graduate\",\"Dropout\",\"Graduate\",\"Graduate\",\"Dropout\",\"Dropout\",\"Graduate\",\"Graduate\",\"Graduate\",\"Graduate\",\"Graduate\",\"Graduate\",\"Graduate\",\"Dropout\",\"Graduate\",\"Dropout\",\"Graduate\",\"Dropout\",\"Graduate\",\"Graduate\",\"Enrolled\",\"Graduate\",\"Dropout\",\"Graduate\",\"Graduate\",\"Graduate\",\"Dropout\",\"Graduate\",\"Dropout\",\"Graduate\",\"Enrolled\",\"Dropout\",\"Graduate\",\"Graduate\",\"Dropout\",\"Graduate\",\"Dropout\",\"Graduate\",\"Dropout\",\"Dropout\",\"Graduate\",\"Graduate\",\"Graduate\",\"Graduate\",\"Dropout\",\"Dropout\",\"Enrolled\",\"Graduate\",\"Dropout\",\"Enrolled\",\"Enrolled\",\"Dropout\",\"Enrolled\",\"Graduate\",\"Graduate\",\"Dropout\",\"Enrolled\",\"Graduate\",\"Dropout\",\"Enrolled\",\"Enrolled\",\"Dropout\",\"Graduate\",\"Graduate\",\"Enrolled\",\"Dropout\",\"Graduate\",\"Graduate\",\"Graduate\",\"Dropout\",\"Graduate\",\"Dropout\",\"Graduate\",\"Dropout\",\"Graduate\",\"Dropout\",\"Dropout\",\"Dropout\",\"Graduate\",\"Graduate\",\"Graduate\",\"Dropout\",\"Dropout\",\"Graduate\",\"Graduate\",\"Enrolled\",\"Graduate\",\"Graduate\",\"Dropout\",\"Dropout\",\"Dropout\",\"Enrolled\",\"Graduate\",\"Dropout\",\"Dropout\",\"Graduate\",\"Graduate\",\"Enrolled\",\"Graduate\",\"Graduate\",\"Dropout\",\"Graduate\",\"Dropout\",\"Enrolled\",\"Graduate\",\"Enrolled\",\"Dropout\",\"Graduate\",\"Graduate\",\"Dropout\",\"Dropout\",\"Dropout\",\"Graduate\",\"Graduate\",\"Dropout\",\"Graduate\",\"Graduate\",\"Graduate\",\"Enrolled\",\"Enrolled\",\"Graduate\",\"Dropout\",\"Dropout\",\"Dropout\",\"Graduate\",\"Graduate\",\"Dropout\",\"Graduate\",\"Graduate\",\"Graduate\",\"Graduate\",\"Graduate\",\"Graduate\",\"Graduate\",\"Graduate\",\"Dropout\",\"Graduate\",\"Graduate\",\"Dropout\",\"Graduate\",\"Dropout\",\"Graduate\",\"Graduate\",\"Graduate\",\"Graduate\",\"Graduate\",\"Graduate\",\"Dropout\",\"Graduate\",\"Graduate\",\"Graduate\",\"Graduate\",\"Graduate\",\"Enrolled\",\"Graduate\",\"Graduate\",\"Dropout\",\"Enrolled\",\"Dropout\",\"Graduate\",\"Graduate\",\"Enrolled\",\"Graduate\",\"Graduate\",\"Graduate\",\"Graduate\",\"Graduate\",\"Dropout\",\"Dropout\",\"Graduate\",\"Graduate\",\"Graduate\",\"Graduate\",\"Graduate\",\"Dropout\",\"Graduate\",\"Graduate\",\"Graduate\",\"Dropout\",\"Graduate\",\"Dropout\",\"Graduate\",\"Dropout\",\"Dropout\",\"Graduate\",\"Graduate\",\"Enrolled\",\"Dropout\",\"Graduate\",\"Graduate\",\"Graduate\",\"Graduate\",\"Graduate\",\"Graduate\",\"Enrolled\",\"Graduate\",\"Graduate\",\"Graduate\",\"Dropout\",\"Dropout\",\"Dropout\",\"Graduate\",\"Graduate\",\"Graduate\",\"Enrolled\",\"Graduate\",\"Graduate\",\"Dropout\",\"Graduate\",\"Graduate\",\"Enrolled\",\"Enrolled\",\"Graduate\",\"Dropout\",\"Graduate\",\"Dropout\",\"Graduate\",\"Dropout\",\"Dropout\",\"Graduate\",\"Graduate\",\"Graduate\",\"Dropout\",\"Dropout\",\"Enrolled\",\"Enrolled\",\"Graduate\",\"Dropout\",\"Dropout\",\"Graduate\",\"Dropout\",\"Graduate\",\"Graduate\",\"Graduate\",\"Enrolled\",\"Enrolled\",\"Graduate\",\"Graduate\",\"Dropout\",\"Graduate\",\"Enrolled\",\"Graduate\",\"Enrolled\",\"Graduate\",\"Graduate\",\"Graduate\",\"Graduate\",\"Graduate\",\"Graduate\",\"Graduate\",\"Graduate\",\"Graduate\",\"Graduate\",\"Graduate\",\"Enrolled\",\"Graduate\",\"Dropout\",\"Dropout\",\"Graduate\",\"Dropout\",\"Graduate\",\"Graduate\",\"Graduate\",\"Enrolled\",\"Dropout\",\"Graduate\",\"Enrolled\",\"Graduate\",\"Enrolled\",\"Graduate\",\"Enrolled\",\"Graduate\",\"Graduate\",\"Dropout\",\"Enrolled\",\"Enrolled\",\"Graduate\",\"Enrolled\",\"Dropout\",\"Graduate\",\"Graduate\",\"Graduate\",\"Graduate\",\"Enrolled\",\"Graduate\",\"Graduate\",\"Dropout\",\"Graduate\",\"Dropout\",\"Graduate\",\"Dropout\",\"Graduate\",\"Graduate\",\"Graduate\",\"Dropout\",\"Enrolled\",\"Graduate\",\"Dropout\",\"Graduate\",\"Graduate\",\"Dropout\",\"Graduate\",\"Dropout\",\"Graduate\",\"Graduate\",\"Dropout\",\"Enrolled\",\"Graduate\",\"Enrolled\",\"Dropout\",\"Graduate\",\"Graduate\",\"Dropout\",\"Graduate\",\"Graduate\",\"Graduate\",\"Graduate\",\"Enrolled\",\"Dropout\",\"Dropout\",\"Graduate\",\"Graduate\",\"Graduate\",\"Graduate\",\"Dropout\",\"Graduate\",\"Dropout\",\"Graduate\",\"Graduate\",\"Enrolled\",\"Dropout\",\"Dropout\",\"Dropout\",\"Enrolled\",\"Graduate\",\"Graduate\",\"Enrolled\",\"Graduate\",\"Graduate\",\"Graduate\",\"Graduate\",\"Graduate\",\"Dropout\",\"Graduate\",\"Dropout\",\"Graduate\",\"Graduate\",\"Graduate\",\"Graduate\",\"Graduate\",\"Graduate\",\"Enrolled\",\"Graduate\",\"Graduate\",\"Graduate\",\"Graduate\",\"Graduate\",\"Dropout\",\"Graduate\",\"Dropout\",\"Graduate\",\"Dropout\",\"Dropout\",\"Dropout\",\"Enrolled\",\"Graduate\",\"Dropout\",\"Dropout\",\"Graduate\",\"Dropout\",\"Enrolled\",\"Dropout\",\"Graduate\",\"Graduate\",\"Graduate\",\"Graduate\",\"Enrolled\",\"Dropout\",\"Graduate\",\"Graduate\",\"Graduate\",\"Graduate\",\"Graduate\",\"Dropout\",\"Dropout\",\"Graduate\",\"Graduate\",\"Graduate\",\"Graduate\",\"Graduate\",\"Enrolled\",\"Dropout\",\"Enrolled\",\"Graduate\",\"Dropout\",\"Dropout\",\"Graduate\",\"Graduate\",\"Graduate\",\"Dropout\",\"Enrolled\",\"Graduate\",\"Graduate\",\"Graduate\",\"Dropout\",\"Graduate\",\"Graduate\",\"Dropout\",\"Enrolled\",\"Graduate\",\"Graduate\",\"Graduate\",\"Enrolled\",\"Graduate\",\"Dropout\",\"Graduate\",\"Dropout\",\"Dropout\",\"Dropout\",\"Dropout\",\"Graduate\",\"Enrolled\",\"Dropout\",\"Dropout\",\"Graduate\",\"Graduate\",\"Graduate\",\"Graduate\",\"Graduate\",\"Graduate\",\"Graduate\",\"Graduate\",\"Graduate\",\"Graduate\",\"Graduate\",\"Dropout\",\"Enrolled\",\"Graduate\",\"Enrolled\",\"Dropout\",\"Dropout\",\"Graduate\",\"Graduate\",\"Enrolled\",\"Graduate\",\"Graduate\",\"Enrolled\",\"Graduate\",\"Enrolled\",\"Dropout\",\"Graduate\",\"Enrolled\",\"Graduate\",\"Graduate\",\"Dropout\",\"Enrolled\",\"Graduate\",\"Enrolled\",\"Enrolled\",\"Enrolled\",\"Dropout\",\"Graduate\",\"Graduate\",\"Graduate\",\"Graduate\",\"Graduate\",\"Dropout\",\"Graduate\",\"Graduate\",\"Enrolled\",\"Enrolled\",\"Graduate\",\"Graduate\",\"Graduate\",\"Graduate\",\"Dropout\",\"Enrolled\",\"Enrolled\",\"Dropout\",\"Dropout\",\"Dropout\",\"Dropout\",\"Dropout\",\"Graduate\",\"Dropout\",\"Graduate\",\"Graduate\",\"Dropout\",\"Dropout\",\"Graduate\",\"Dropout\",\"Graduate\",\"Graduate\",\"Graduate\",\"Graduate\",\"Graduate\",\"Dropout\",\"Dropout\",\"Enrolled\",\"Graduate\",\"Dropout\",\"Dropout\",\"Graduate\",\"Dropout\",\"Graduate\",\"Graduate\",\"Graduate\",\"Dropout\",\"Dropout\",\"Graduate\",\"Dropout\",\"Enrolled\",\"Graduate\",\"Graduate\",\"Dropout\",\"Graduate\",\"Graduate\",\"Graduate\",\"Enrolled\",\"Graduate\",\"Graduate\",\"Graduate\",\"Enrolled\",\"Graduate\",\"Graduate\",\"Graduate\",\"Dropout\",\"Dropout\",\"Graduate\",\"Enrolled\",\"Dropout\",\"Graduate\",\"Dropout\",\"Graduate\",\"Graduate\",\"Enrolled\",\"Graduate\",\"Graduate\",\"Dropout\",\"Graduate\",\"Graduate\",\"Dropout\",\"Dropout\",\"Enrolled\",\"Graduate\",\"Graduate\",\"Enrolled\",\"Graduate\",\"Graduate\",\"Enrolled\",\"Enrolled\",\"Graduate\",\"Graduate\",\"Dropout\",\"Enrolled\",\"Graduate\",\"Enrolled\",\"Dropout\",\"Enrolled\",\"Graduate\",\"Graduate\",\"Graduate\",\"Graduate\",\"Graduate\",\"Graduate\",\"Dropout\",\"Graduate\",\"Dropout\",\"Dropout\",\"Dropout\",\"Dropout\",\"Graduate\",\"Dropout\",\"Graduate\",\"Dropout\",\"Graduate\",\"Enrolled\",\"Dropout\",\"Enrolled\",\"Enrolled\",\"Enrolled\",\"Dropout\",\"Dropout\",\"Graduate\",\"Enrolled\",\"Dropout\",\"Enrolled\",\"Graduate\",\"Dropout\",\"Enrolled\",\"Graduate\",\"Graduate\",\"Enrolled\",\"Enrolled\",\"Graduate\",\"Dropout\",\"Enrolled\",\"Graduate\",\"Dropout\",\"Graduate\",\"Dropout\",\"Dropout\",\"Dropout\",\"Graduate\",\"Graduate\",\"Graduate\",\"Graduate\",\"Graduate\",\"Graduate\",\"Enrolled\",\"Dropout\",\"Graduate\",\"Graduate\",\"Graduate\",\"Dropout\",\"Graduate\",\"Dropout\",\"Graduate\",\"Graduate\",\"Graduate\",\"Enrolled\",\"Graduate\",\"Graduate\",\"Dropout\",\"Graduate\",\"Enrolled\",\"Enrolled\",\"Dropout\",\"Enrolled\",\"Graduate\",\"Graduate\",\"Dropout\",\"Dropout\",\"Enrolled\",\"Graduate\",\"Graduate\",\"Dropout\",\"Graduate\",\"Dropout\",\"Graduate\",\"Enrolled\",\"Dropout\",\"Dropout\",\"Graduate\",\"Dropout\",\"Dropout\",\"Enrolled\",\"Graduate\",\"Dropout\",\"Graduate\",\"Graduate\",\"Dropout\",\"Enrolled\",\"Graduate\",\"Graduate\",\"Enrolled\",\"Graduate\",\"Enrolled\",\"Dropout\",\"Graduate\",\"Dropout\",\"Dropout\",\"Dropout\",\"Dropout\",\"Dropout\",\"Dropout\",\"Dropout\",\"Graduate\",\"Enrolled\",\"Dropout\",\"Dropout\",\"Dropout\",\"Graduate\",\"Graduate\",\"Graduate\",\"Graduate\",\"Graduate\",\"Graduate\",\"Dropout\",\"Enrolled\",\"Dropout\",\"Graduate\",\"Enrolled\",\"Enrolled\",\"Graduate\",\"Enrolled\",\"Enrolled\",\"Graduate\",\"Graduate\",\"Graduate\",\"Enrolled\",\"Dropout\",\"Enrolled\",\"Dropout\",\"Dropout\",\"Dropout\",\"Graduate\",\"Graduate\",\"Dropout\",\"Enrolled\",\"Dropout\",\"Enrolled\",\"Graduate\",\"Enrolled\",\"Dropout\",\"Dropout\",\"Graduate\",\"Graduate\",\"Enrolled\",\"Enrolled\",\"Dropout\",\"Graduate\",\"Dropout\",\"Dropout\",\"Enrolled\",\"Dropout\",\"Enrolled\",\"Enrolled\",\"Enrolled\",\"Graduate\",\"Dropout\",\"Dropout\",\"Graduate\",\"Enrolled\",\"Enrolled\",\"Graduate\",\"Dropout\",\"Enrolled\",\"Graduate\",\"Graduate\",\"Enrolled\",\"Graduate\",\"Dropout\",\"Enrolled\",\"Graduate\",\"Dropout\",\"Graduate\",\"Dropout\",\"Graduate\",\"Dropout\",\"Dropout\",\"Graduate\",\"Graduate\",\"Graduate\",\"Dropout\",\"Dropout\",\"Dropout\",\"Dropout\",\"Graduate\",\"Dropout\",\"Dropout\",\"Dropout\",\"Graduate\",\"Dropout\",\"Graduate\",\"Enrolled\",\"Graduate\",\"Graduate\",\"Graduate\",\"Graduate\",\"Dropout\",\"Graduate\",\"Graduate\",\"Graduate\",\"Graduate\",\"Graduate\",\"Dropout\",\"Dropout\",\"Graduate\",\"Graduate\",\"Dropout\",\"Graduate\",\"Enrolled\",\"Graduate\",\"Enrolled\",\"Graduate\",\"Dropout\",\"Graduate\",\"Graduate\",\"Enrolled\",\"Graduate\",\"Enrolled\",\"Graduate\",\"Graduate\",\"Graduate\",\"Graduate\",\"Graduate\",\"Enrolled\",\"Graduate\",\"Graduate\",\"Dropout\",\"Graduate\",\"Enrolled\",\"Graduate\",\"Dropout\",\"Graduate\",\"Graduate\",\"Dropout\",\"Dropout\",\"Graduate\",\"Graduate\",\"Dropout\",\"Enrolled\",\"Enrolled\",\"Dropout\",\"Dropout\",\"Graduate\",\"Graduate\",\"Graduate\",\"Dropout\",\"Enrolled\",\"Dropout\",\"Dropout\",\"Dropout\",\"Graduate\",\"Enrolled\",\"Dropout\",\"Graduate\",\"Graduate\",\"Dropout\",\"Dropout\",\"Dropout\",\"Graduate\",\"Graduate\",\"Dropout\",\"Graduate\",\"Graduate\",\"Enrolled\",\"Dropout\",\"Enrolled\",\"Dropout\",\"Graduate\",\"Enrolled\",\"Graduate\",\"Dropout\",\"Enrolled\",\"Graduate\",\"Graduate\",\"Graduate\",\"Enrolled\",\"Dropout\",\"Dropout\",\"Graduate\",\"Graduate\",\"Graduate\",\"Graduate\",\"Graduate\",\"Dropout\",\"Graduate\",\"Enrolled\",\"Dropout\",\"Graduate\",\"Graduate\",\"Dropout\",\"Dropout\",\"Enrolled\",\"Dropout\",\"Graduate\",\"Graduate\",\"Enrolled\",\"Graduate\",\"Dropout\",\"Dropout\",\"Enrolled\",\"Dropout\",\"Dropout\",\"Dropout\",\"Dropout\",\"Dropout\",\"Dropout\",\"Dropout\",\"Dropout\",\"Enrolled\",\"Graduate\",\"Enrolled\",\"Enrolled\",\"Dropout\",\"Enrolled\",\"Enrolled\",\"Dropout\",\"Graduate\",\"Graduate\",\"Graduate\",\"Dropout\",\"Graduate\",\"Graduate\",\"Graduate\",\"Dropout\",\"Dropout\",\"Enrolled\",\"Dropout\",\"Enrolled\",\"Enrolled\",\"Enrolled\",\"Graduate\",\"Enrolled\",\"Enrolled\",\"Dropout\",\"Graduate\",\"Dropout\",\"Graduate\",\"Graduate\",\"Enrolled\",\"Graduate\",\"Dropout\",\"Enrolled\",\"Dropout\",\"Enrolled\",\"Dropout\",\"Graduate\",\"Dropout\",\"Graduate\",\"Graduate\",\"Dropout\",\"Dropout\",\"Dropout\",\"Enrolled\",\"Graduate\",\"Graduate\",\"Dropout\",\"Dropout\",\"Dropout\",\"Dropout\",\"Graduate\",\"Graduate\",\"Dropout\",\"Dropout\",\"Dropout\",\"Enrolled\",\"Dropout\",\"Enrolled\",\"Graduate\",\"Graduate\",\"Graduate\",\"Dropout\",\"Graduate\",\"Dropout\",\"Enrolled\",\"Graduate\",\"Graduate\",\"Dropout\",\"Dropout\",\"Enrolled\",\"Enrolled\",\"Enrolled\",\"Dropout\",\"Graduate\",\"Graduate\",\"Graduate\",\"Enrolled\",\"Dropout\",\"Enrolled\",\"Dropout\",\"Graduate\",\"Graduate\",\"Dropout\",\"Graduate\",\"Graduate\",\"Graduate\",\"Enrolled\",\"Graduate\",\"Graduate\",\"Dropout\",\"Dropout\",\"Graduate\",\"Enrolled\",\"Graduate\",\"Dropout\",\"Dropout\",\"Dropout\",\"Graduate\",\"Enrolled\",\"Dropout\",\"Dropout\",\"Graduate\",\"Graduate\",\"Dropout\",\"Dropout\",\"Graduate\",\"Graduate\",\"Graduate\",\"Enrolled\",\"Dropout\",\"Enrolled\",\"Dropout\",\"Graduate\",\"Dropout\",\"Graduate\",\"Dropout\",\"Dropout\",\"Graduate\",\"Graduate\",\"Dropout\",\"Dropout\",\"Graduate\",\"Dropout\",\"Graduate\",\"Graduate\",\"Dropout\",\"Dropout\",\"Dropout\",\"Graduate\",\"Enrolled\",\"Dropout\",\"Dropout\",\"Graduate\",\"Enrolled\",\"Graduate\",\"Dropout\",\"Dropout\",\"Graduate\",\"Graduate\",\"Graduate\",\"Graduate\",\"Dropout\",\"Enrolled\",\"Graduate\",\"Enrolled\",\"Enrolled\",\"Dropout\",\"Graduate\",\"Graduate\",\"Graduate\",\"Graduate\",\"Graduate\",\"Graduate\",\"Graduate\",\"Graduate\",\"Graduate\",\"Graduate\",\"Enrolled\",\"Graduate\",\"Graduate\",\"Graduate\",\"Graduate\",\"Dropout\",\"Graduate\",\"Graduate\",\"Graduate\",\"Graduate\",\"Graduate\",\"Enrolled\",\"Enrolled\",\"Graduate\",\"Enrolled\",\"Graduate\",\"Dropout\",\"Graduate\",\"Graduate\",\"Graduate\",\"Enrolled\",\"Graduate\",\"Graduate\",\"Graduate\",\"Graduate\",\"Graduate\",\"Graduate\",\"Graduate\",\"Graduate\",\"Graduate\",\"Dropout\",\"Graduate\",\"Graduate\",\"Graduate\",\"Graduate\",\"Graduate\",\"Dropout\",\"Graduate\",\"Graduate\",\"Graduate\",\"Graduate\",\"Graduate\",\"Dropout\",\"Dropout\",\"Dropout\",\"Graduate\",\"Enrolled\",\"Graduate\",\"Enrolled\",\"Graduate\",\"Dropout\",\"Enrolled\",\"Graduate\",\"Enrolled\",\"Graduate\",\"Graduate\",\"Graduate\",\"Graduate\",\"Graduate\",\"Enrolled\",\"Enrolled\",\"Graduate\",\"Enrolled\",\"Graduate\",\"Dropout\",\"Graduate\",\"Graduate\",\"Dropout\",\"Enrolled\",\"Graduate\",\"Enrolled\",\"Graduate\",\"Graduate\",\"Graduate\",\"Graduate\",\"Graduate\",\"Graduate\",\"Graduate\",\"Graduate\",\"Enrolled\",\"Graduate\",\"Enrolled\",\"Graduate\",\"Dropout\",\"Enrolled\",\"Graduate\",\"Dropout\",\"Graduate\",\"Graduate\",\"Graduate\",\"Dropout\",\"Graduate\",\"Dropout\",\"Dropout\",\"Graduate\",\"Dropout\",\"Dropout\",\"Graduate\",\"Graduate\",\"Graduate\",\"Graduate\",\"Dropout\",\"Graduate\",\"Graduate\",\"Dropout\",\"Dropout\",\"Dropout\",\"Graduate\",\"Graduate\",\"Graduate\",\"Enrolled\",\"Graduate\",\"Dropout\",\"Dropout\",\"Dropout\",\"Graduate\",\"Enrolled\",\"Graduate\",\"Graduate\",\"Enrolled\",\"Graduate\",\"Graduate\",\"Graduate\",\"Dropout\",\"Graduate\",\"Dropout\",\"Graduate\",\"Enrolled\",\"Dropout\",\"Dropout\",\"Graduate\",\"Graduate\",\"Dropout\",\"Graduate\",\"Graduate\",\"Graduate\",\"Graduate\",\"Graduate\",\"Dropout\",\"Dropout\",\"Graduate\",\"Graduate\",\"Graduate\",\"Graduate\",\"Dropout\",\"Enrolled\",\"Graduate\",\"Graduate\",\"Graduate\",\"Enrolled\",\"Graduate\",\"Dropout\",\"Graduate\",\"Graduate\",\"Graduate\",\"Graduate\",\"Graduate\",\"Graduate\",\"Graduate\",\"Graduate\",\"Enrolled\",\"Dropout\",\"Graduate\",\"Graduate\",\"Graduate\",\"Graduate\",\"Graduate\",\"Graduate\",\"Graduate\",\"Graduate\",\"Graduate\",\"Graduate\",\"Graduate\",\"Graduate\",\"Graduate\",\"Graduate\",\"Graduate\",\"Dropout\",\"Dropout\",\"Dropout\",\"Graduate\",\"Dropout\",\"Graduate\",\"Enrolled\",\"Graduate\",\"Graduate\",\"Dropout\",\"Graduate\",\"Dropout\",\"Graduate\",\"Graduate\",\"Dropout\",\"Enrolled\",\"Graduate\",\"Graduate\",\"Dropout\",\"Graduate\",\"Enrolled\",\"Enrolled\",\"Graduate\",\"Enrolled\",\"Graduate\",\"Enrolled\",\"Graduate\",\"Graduate\",\"Graduate\",\"Dropout\",\"Dropout\",\"Graduate\",\"Dropout\",\"Graduate\",\"Enrolled\",\"Dropout\",\"Graduate\",\"Graduate\",\"Dropout\",\"Graduate\",\"Dropout\",\"Dropout\",\"Dropout\",\"Dropout\",\"Graduate\",\"Enrolled\",\"Graduate\",\"Graduate\",\"Graduate\",\"Graduate\",\"Dropout\",\"Graduate\",\"Graduate\",\"Graduate\",\"Dropout\",\"Enrolled\",\"Graduate\",\"Graduate\",\"Graduate\",\"Graduate\",\"Enrolled\",\"Graduate\",\"Graduate\",\"Graduate\",\"Graduate\",\"Graduate\",\"Enrolled\",\"Graduate\",\"Graduate\",\"Graduate\",\"Graduate\",\"Enrolled\",\"Graduate\",\"Graduate\",\"Dropout\",\"Graduate\",\"Dropout\",\"Dropout\",\"Graduate\",\"Graduate\",\"Graduate\",\"Graduate\",\"Graduate\",\"Graduate\",\"Graduate\",\"Graduate\",\"Graduate\",\"Graduate\",\"Dropout\",\"Graduate\",\"Graduate\",\"Graduate\",\"Dropout\",\"Graduate\",\"Graduate\",\"Dropout\",\"Graduate\",\"Graduate\",\"Dropout\",\"Enrolled\",\"Graduate\",\"Enrolled\",\"Graduate\",\"Graduate\",\"Dropout\",\"Enrolled\",\"Dropout\",\"Dropout\",\"Enrolled\",\"Graduate\",\"Enrolled\",\"Enrolled\",\"Enrolled\",\"Dropout\",\"Dropout\",\"Dropout\",\"Graduate\",\"Graduate\",\"Dropout\",\"Graduate\",\"Enrolled\",\"Dropout\",\"Enrolled\",\"Enrolled\",\"Dropout\",\"Graduate\",\"Graduate\",\"Enrolled\",\"Dropout\",\"Graduate\",\"Enrolled\",\"Graduate\",\"Dropout\",\"Graduate\",\"Graduate\",\"Graduate\",\"Graduate\",\"Enrolled\",\"Dropout\",\"Graduate\",\"Dropout\",\"Graduate\",\"Dropout\",\"Dropout\",\"Graduate\",\"Graduate\",\"Dropout\",\"Dropout\",\"Dropout\",\"Enrolled\",\"Graduate\",\"Enrolled\",\"Dropout\",\"Enrolled\",\"Enrolled\",\"Graduate\",\"Enrolled\",\"Enrolled\",\"Graduate\",\"Dropout\",\"Graduate\",\"Enrolled\",\"Enrolled\",\"Dropout\",\"Graduate\",\"Dropout\",\"Dropout\",\"Dropout\",\"Dropout\",\"Dropout\",\"Dropout\",\"Dropout\",\"Enrolled\",\"Dropout\",\"Graduate\",\"Enrolled\",\"Dropout\",\"Dropout\",\"Dropout\",\"Enrolled\",\"Enrolled\",\"Dropout\",\"Dropout\",\"Dropout\",\"Dropout\",\"Dropout\",\"Graduate\",\"Dropout\",\"Dropout\",\"Dropout\",\"Dropout\",\"Graduate\",\"Graduate\",\"Enrolled\",\"Dropout\",\"Graduate\",\"Enrolled\",\"Dropout\",\"Graduate\",\"Enrolled\",\"Dropout\",\"Graduate\",\"Graduate\",\"Enrolled\",\"Dropout\",\"Dropout\",\"Graduate\",\"Dropout\",\"Graduate\",\"Dropout\",\"Graduate\",\"Dropout\",\"Graduate\",\"Graduate\",\"Dropout\",\"Enrolled\",\"Enrolled\",\"Enrolled\",\"Enrolled\",\"Dropout\",\"Enrolled\",\"Dropout\",\"Dropout\",\"Dropout\",\"Graduate\",\"Graduate\",\"Graduate\",\"Dropout\",\"Graduate\",\"Graduate\",\"Dropout\",\"Dropout\",\"Dropout\",\"Dropout\",\"Graduate\",\"Dropout\",\"Enrolled\",\"Dropout\",\"Enrolled\",\"Graduate\",\"Dropout\",\"Enrolled\",\"Dropout\",\"Graduate\",\"Dropout\",\"Dropout\",\"Dropout\",\"Graduate\",\"Dropout\",\"Graduate\",\"Graduate\",\"Dropout\",\"Dropout\",\"Dropout\",\"Enrolled\",\"Dropout\",\"Enrolled\",\"Graduate\",\"Graduate\",\"Graduate\",\"Graduate\",\"Enrolled\",\"Graduate\",\"Dropout\",\"Graduate\",\"Graduate\",\"Graduate\",\"Graduate\",\"Graduate\",\"Dropout\",\"Graduate\",\"Graduate\",\"Dropout\",\"Graduate\",\"Dropout\",\"Enrolled\",\"Dropout\",\"Graduate\",\"Enrolled\",\"Enrolled\",\"Graduate\",\"Enrolled\",\"Graduate\",\"Enrolled\",\"Dropout\",\"Enrolled\",\"Graduate\",\"Enrolled\",\"Enrolled\",\"Enrolled\",\"Dropout\",\"Graduate\",\"Dropout\",\"Dropout\",\"Graduate\",\"Graduate\",\"Graduate\",\"Dropout\",\"Enrolled\",\"Enrolled\",\"Graduate\",\"Enrolled\",\"Graduate\",\"Dropout\",\"Dropout\",\"Dropout\",\"Dropout\",\"Enrolled\",\"Dropout\",\"Graduate\",\"Enrolled\",\"Dropout\",\"Enrolled\",\"Graduate\",\"Graduate\",\"Dropout\",\"Graduate\",\"Dropout\",\"Graduate\",\"Dropout\",\"Graduate\",\"Graduate\",\"Dropout\",\"Dropout\",\"Dropout\",\"Dropout\",\"Dropout\",\"Enrolled\",\"Graduate\",\"Graduate\",\"Dropout\",\"Dropout\",\"Graduate\",\"Graduate\",\"Enrolled\",\"Dropout\",\"Dropout\",\"Graduate\",\"Dropout\",\"Dropout\",\"Dropout\",\"Dropout\",\"Graduate\",\"Dropout\",\"Dropout\",\"Graduate\",\"Graduate\",\"Dropout\",\"Enrolled\",\"Enrolled\",\"Graduate\",\"Graduate\",\"Dropout\",\"Dropout\",\"Dropout\",\"Dropout\",\"Enrolled\",\"Dropout\",\"Graduate\",\"Dropout\",\"Enrolled\",\"Dropout\",\"Graduate\",\"Dropout\",\"Dropout\",\"Enrolled\",\"Dropout\",\"Graduate\",\"Enrolled\",\"Dropout\",\"Graduate\",\"Graduate\",\"Enrolled\",\"Dropout\",\"Graduate\",\"Dropout\",\"Dropout\",\"Dropout\",\"Dropout\",\"Dropout\",\"Dropout\",\"Enrolled\",\"Enrolled\",\"Dropout\",\"Dropout\",\"Enrolled\",\"Dropout\",\"Dropout\",\"Dropout\",\"Graduate\",\"Dropout\",\"Graduate\",\"Enrolled\",\"Graduate\",\"Dropout\",\"Enrolled\",\"Graduate\",\"Graduate\",\"Graduate\",\"Graduate\",\"Dropout\",\"Dropout\",\"Dropout\",\"Enrolled\",\"Graduate\",\"Enrolled\",\"Enrolled\",\"Dropout\",\"Graduate\",\"Graduate\",\"Graduate\",\"Graduate\",\"Graduate\",\"Dropout\",\"Dropout\",\"Graduate\",\"Graduate\",\"Graduate\",\"Graduate\",\"Dropout\",\"Graduate\",\"Graduate\",\"Graduate\",\"Graduate\",\"Graduate\",\"Dropout\",\"Enrolled\",\"Graduate\",\"Graduate\",\"Dropout\",\"Enrolled\",\"Graduate\",\"Graduate\",\"Graduate\",\"Graduate\",\"Graduate\",\"Graduate\",\"Graduate\",\"Dropout\",\"Dropout\",\"Graduate\",\"Dropout\",\"Graduate\",\"Graduate\",\"Graduate\",\"Graduate\",\"Graduate\",\"Graduate\",\"Enrolled\",\"Graduate\",\"Enrolled\",\"Enrolled\",\"Graduate\",\"Graduate\",\"Graduate\",\"Dropout\",\"Dropout\",\"Graduate\",\"Dropout\",\"Enrolled\",\"Graduate\",\"Graduate\",\"Graduate\",\"Graduate\",\"Dropout\",\"Graduate\",\"Enrolled\",\"Graduate\",\"Dropout\",\"Enrolled\",\"Enrolled\",\"Graduate\",\"Enrolled\",\"Enrolled\",\"Dropout\",\"Graduate\",\"Graduate\",\"Dropout\",\"Enrolled\",\"Graduate\",\"Graduate\",\"Graduate\",\"Enrolled\",\"Enrolled\",\"Graduate\",\"Graduate\",\"Graduate\",\"Graduate\",\"Graduate\",\"Graduate\",\"Graduate\",\"Dropout\",\"Dropout\",\"Graduate\",\"Graduate\",\"Graduate\",\"Dropout\",\"Graduate\",\"Enrolled\",\"Graduate\",\"Graduate\",\"Enrolled\",\"Enrolled\",\"Dropout\",\"Enrolled\",\"Dropout\",\"Enrolled\",\"Graduate\",\"Dropout\",\"Enrolled\",\"Graduate\",\"Dropout\",\"Dropout\",\"Enrolled\",\"Enrolled\",\"Dropout\",\"Enrolled\",\"Graduate\",\"Dropout\",\"Dropout\",\"Graduate\",\"Graduate\",\"Dropout\",\"Graduate\",\"Dropout\",\"Graduate\",\"Graduate\",\"Graduate\",\"Dropout\",\"Dropout\",\"Dropout\",\"Dropout\",\"Graduate\",\"Dropout\",\"Graduate\",\"Enrolled\",\"Graduate\",\"Graduate\",\"Dropout\",\"Graduate\",\"Dropout\",\"Graduate\",\"Enrolled\",\"Enrolled\",\"Enrolled\",\"Dropout\",\"Dropout\",\"Graduate\",\"Graduate\",\"Enrolled\",\"Dropout\",\"Dropout\",\"Graduate\",\"Graduate\",\"Graduate\",\"Dropout\",\"Graduate\",\"Dropout\",\"Dropout\",\"Graduate\",\"Dropout\",\"Enrolled\",\"Dropout\",\"Dropout\",\"Dropout\",\"Enrolled\",\"Dropout\",\"Graduate\",\"Dropout\",\"Graduate\",\"Graduate\",\"Graduate\",\"Enrolled\",\"Dropout\",\"Dropout\",\"Dropout\",\"Graduate\",\"Dropout\",\"Dropout\",\"Graduate\",\"Dropout\",\"Graduate\",\"Dropout\",\"Enrolled\",\"Dropout\",\"Enrolled\",\"Graduate\",\"Dropout\",\"Enrolled\",\"Graduate\",\"Enrolled\",\"Dropout\",\"Graduate\",\"Enrolled\",\"Graduate\",\"Graduate\",\"Dropout\",\"Dropout\",\"Graduate\",\"Dropout\",\"Enrolled\",\"Enrolled\",\"Dropout\",\"Enrolled\",\"Dropout\",\"Dropout\",\"Graduate\",\"Graduate\",\"Graduate\",\"Graduate\",\"Enrolled\",\"Dropout\",\"Enrolled\",\"Dropout\",\"Graduate\",\"Dropout\",\"Dropout\",\"Dropout\",\"Dropout\",\"Enrolled\",\"Dropout\",\"Graduate\",\"Dropout\",\"Graduate\",\"Enrolled\",\"Graduate\",\"Dropout\",\"Dropout\",\"Graduate\",\"Dropout\",\"Graduate\",\"Enrolled\",\"Graduate\",\"Graduate\",\"Graduate\",\"Graduate\",\"Enrolled\",\"Enrolled\",\"Dropout\",\"Graduate\",\"Enrolled\",\"Graduate\",\"Graduate\",\"Enrolled\",\"Graduate\",\"Graduate\",\"Graduate\",\"Enrolled\",\"Enrolled\",\"Graduate\",\"Graduate\",\"Graduate\",\"Dropout\",\"Graduate\",\"Graduate\",\"Graduate\",\"Graduate\",\"Graduate\",\"Graduate\",\"Dropout\",\"Graduate\",\"Enrolled\",\"Dropout\",\"Dropout\",\"Dropout\",\"Dropout\",\"Graduate\",\"Dropout\",\"Graduate\",\"Dropout\",\"Graduate\",\"Dropout\",\"Dropout\",\"Enrolled\",\"Enrolled\",\"Dropout\",\"Enrolled\",\"Enrolled\",\"Graduate\",\"Enrolled\",\"Graduate\",\"Graduate\",\"Dropout\",\"Graduate\",\"Dropout\",\"Graduate\",\"Graduate\",\"Enrolled\",\"Graduate\",\"Enrolled\",\"Graduate\",\"Enrolled\",\"Enrolled\",\"Graduate\",\"Graduate\",\"Graduate\",\"Dropout\",\"Enrolled\",\"Enrolled\",\"Graduate\",\"Graduate\",\"Dropout\",\"Enrolled\",\"Dropout\",\"Dropout\",\"Dropout\",\"Graduate\",\"Graduate\",\"Graduate\",\"Enrolled\",\"Graduate\",\"Dropout\",\"Graduate\",\"Graduate\",\"Dropout\",\"Graduate\",\"Dropout\",\"Graduate\",\"Graduate\",\"Graduate\",\"Graduate\",\"Graduate\",\"Enrolled\",\"Graduate\",\"Enrolled\",\"Graduate\",\"Dropout\",\"Graduate\",\"Graduate\",\"Graduate\",\"Graduate\",\"Graduate\",\"Enrolled\",\"Graduate\",\"Enrolled\",\"Graduate\",\"Dropout\",\"Graduate\",\"Enrolled\",\"Enrolled\",\"Dropout\",\"Graduate\",\"Graduate\",\"Enrolled\",\"Dropout\",\"Graduate\",\"Enrolled\",\"Enrolled\",\"Enrolled\",\"Graduate\",\"Graduate\",\"Dropout\",\"Enrolled\",\"Dropout\",\"Graduate\",\"Enrolled\",\"Graduate\",\"Graduate\",\"Dropout\",\"Enrolled\",\"Graduate\",\"Dropout\",\"Dropout\",\"Dropout\",\"Graduate\",\"Dropout\",\"Graduate\",\"Graduate\",\"Graduate\",\"Dropout\",\"Dropout\",\"Graduate\",\"Dropout\",\"Graduate\",\"Enrolled\",\"Graduate\",\"Graduate\",\"Graduate\",\"Graduate\",\"Dropout\",\"Graduate\",\"Dropout\",\"Graduate\",\"Enrolled\",\"Graduate\",\"Graduate\",\"Dropout\",\"Enrolled\",\"Graduate\",\"Dropout\",\"Enrolled\",\"Dropout\",\"Enrolled\",\"Dropout\",\"Dropout\",\"Graduate\",\"Enrolled\",\"Dropout\",\"Graduate\",\"Graduate\",\"Graduate\",\"Graduate\",\"Graduate\",\"Graduate\",\"Graduate\",\"Graduate\",\"Dropout\",\"Graduate\",\"Dropout\",\"Graduate\",\"Graduate\",\"Enrolled\",\"Graduate\",\"Graduate\",\"Graduate\",\"Enrolled\",\"Dropout\",\"Graduate\",\"Graduate\",\"Dropout\",\"Graduate\",\"Graduate\",\"Graduate\",\"Graduate\",\"Dropout\",\"Dropout\",\"Graduate\",\"Dropout\",\"Graduate\",\"Dropout\",\"Enrolled\",\"Graduate\",\"Graduate\",\"Dropout\",\"Dropout\",\"Graduate\",\"Enrolled\",\"Dropout\",\"Dropout\",\"Graduate\",\"Graduate\",\"Graduate\",\"Graduate\",\"Dropout\",\"Enrolled\",\"Dropout\",\"Dropout\",\"Dropout\",\"Graduate\",\"Dropout\",\"Dropout\",\"Dropout\",\"Dropout\",\"Enrolled\",\"Dropout\",\"Graduate\",\"Enrolled\",\"Graduate\",\"Graduate\",\"Graduate\",\"Dropout\",\"Dropout\",\"Graduate\",\"Graduate\",\"Dropout\",\"Graduate\",\"Graduate\",\"Enrolled\",\"Dropout\",\"Graduate\",\"Graduate\",\"Dropout\",\"Graduate\",\"Dropout\",\"Graduate\",\"Graduate\",\"Graduate\",\"Dropout\",\"Graduate\",\"Dropout\",\"Graduate\",\"Graduate\",\"Enrolled\",\"Graduate\",\"Graduate\",\"Graduate\",\"Dropout\",\"Enrolled\",\"Graduate\",\"Dropout\",\"Graduate\",\"Graduate\",\"Dropout\",\"Graduate\",\"Dropout\",\"Graduate\",\"Graduate\",\"Graduate\",\"Graduate\",\"Graduate\",\"Graduate\",\"Enrolled\",\"Graduate\",\"Graduate\",\"Enrolled\",\"Graduate\",\"Graduate\",\"Dropout\",\"Graduate\",\"Graduate\",\"Graduate\",\"Graduate\",\"Enrolled\",\"Graduate\",\"Dropout\",\"Enrolled\",\"Graduate\",\"Dropout\",\"Dropout\",\"Graduate\",\"Graduate\",\"Graduate\",\"Enrolled\",\"Dropout\",\"Graduate\",\"Graduate\",\"Dropout\",\"Graduate\",\"Graduate\",\"Dropout\",\"Graduate\",\"Graduate\",\"Graduate\",\"Graduate\",\"Graduate\",\"Graduate\",\"Graduate\",\"Dropout\",\"Graduate\",\"Graduate\",\"Graduate\",\"Enrolled\",\"Dropout\",\"Graduate\",\"Graduate\",\"Dropout\",\"Graduate\",\"Graduate\",\"Graduate\",\"Graduate\",\"Graduate\",\"Dropout\",\"Graduate\",\"Graduate\",\"Dropout\",\"Dropout\",\"Enrolled\",\"Graduate\",\"Graduate\",\"Graduate\",\"Graduate\",\"Enrolled\",\"Dropout\",\"Graduate\",\"Graduate\",\"Dropout\",\"Enrolled\",\"Graduate\",\"Dropout\",\"Graduate\",\"Dropout\",\"Graduate\",\"Dropout\",\"Graduate\",\"Graduate\",\"Enrolled\",\"Dropout\",\"Dropout\",\"Graduate\",\"Graduate\",\"Dropout\",\"Graduate\",\"Enrolled\",\"Graduate\",\"Dropout\",\"Enrolled\",\"Dropout\",\"Dropout\",\"Enrolled\",\"Dropout\",\"Enrolled\",\"Dropout\",\"Enrolled\",\"Graduate\",\"Dropout\",\"Graduate\",\"Graduate\",\"Graduate\",\"Dropout\",\"Graduate\",\"Enrolled\",\"Graduate\",\"Graduate\",\"Graduate\",\"Dropout\",\"Graduate\",\"Enrolled\",\"Graduate\",\"Graduate\",\"Dropout\",\"Graduate\",\"Graduate\",\"Dropout\",\"Enrolled\",\"Dropout\",\"Graduate\",\"Graduate\",\"Dropout\",\"Dropout\",\"Graduate\",\"Dropout\",\"Graduate\",\"Graduate\",\"Enrolled\",\"Graduate\",\"Dropout\",\"Graduate\",\"Dropout\",\"Enrolled\",\"Graduate\",\"Graduate\",\"Dropout\",\"Graduate\",\"Graduate\",\"Enrolled\",\"Dropout\",\"Graduate\",\"Enrolled\",\"Graduate\",\"Graduate\",\"Graduate\",\"Enrolled\",\"Graduate\",\"Graduate\",\"Graduate\",\"Graduate\",\"Graduate\",\"Graduate\",\"Enrolled\",\"Enrolled\",\"Graduate\",\"Graduate\",\"Graduate\",\"Graduate\",\"Enrolled\",\"Graduate\",\"Graduate\",\"Dropout\",\"Graduate\",\"Graduate\",\"Graduate\",\"Graduate\",\"Enrolled\",\"Enrolled\",\"Graduate\",\"Enrolled\",\"Dropout\",\"Graduate\",\"Graduate\",\"Enrolled\",\"Enrolled\",\"Graduate\",\"Dropout\",\"Enrolled\",\"Enrolled\",\"Graduate\",\"Graduate\",\"Graduate\",\"Graduate\",\"Graduate\",\"Graduate\",\"Dropout\",\"Dropout\",\"Dropout\",\"Graduate\",\"Graduate\",\"Dropout\",\"Dropout\",\"Graduate\",\"Enrolled\",\"Dropout\",\"Graduate\",\"Dropout\",\"Graduate\",\"Enrolled\",\"Graduate\",\"Dropout\",\"Graduate\",\"Enrolled\",\"Graduate\",\"Dropout\",\"Dropout\",\"Dropout\",\"Dropout\",\"Dropout\",\"Dropout\",\"Dropout\",\"Enrolled\",\"Dropout\",\"Enrolled\",\"Dropout\",\"Enrolled\",\"Graduate\",\"Dropout\",\"Graduate\",\"Dropout\",\"Graduate\",\"Enrolled\",\"Dropout\",\"Dropout\",\"Dropout\",\"Graduate\",\"Dropout\",\"Dropout\",\"Graduate\",\"Graduate\",\"Enrolled\",\"Graduate\",\"Dropout\",\"Graduate\",\"Graduate\",\"Dropout\",\"Graduate\",\"Enrolled\",\"Dropout\",\"Dropout\",\"Dropout\",\"Graduate\",\"Dropout\",\"Dropout\",\"Graduate\",\"Graduate\",\"Enrolled\",\"Graduate\",\"Graduate\",\"Graduate\",\"Enrolled\",\"Graduate\",\"Dropout\",\"Graduate\",\"Graduate\",\"Graduate\",\"Enrolled\",\"Graduate\",\"Graduate\",\"Enrolled\",\"Graduate\",\"Dropout\",\"Graduate\",\"Dropout\",\"Dropout\",\"Graduate\",\"Graduate\",\"Graduate\",\"Graduate\",\"Dropout\",\"Graduate\",\"Dropout\",\"Dropout\",\"Graduate\",\"Graduate\",\"Graduate\",\"Graduate\",\"Graduate\",\"Graduate\",\"Graduate\",\"Graduate\",\"Dropout\",\"Graduate\",\"Dropout\",\"Graduate\",\"Graduate\",\"Enrolled\",\"Dropout\",\"Dropout\",\"Dropout\",\"Graduate\",\"Graduate\",\"Enrolled\",\"Dropout\",\"Graduate\",\"Dropout\",\"Graduate\",\"Dropout\",\"Graduate\",\"Graduate\",\"Dropout\",\"Enrolled\",\"Graduate\",\"Enrolled\",\"Graduate\",\"Dropout\",\"Dropout\",\"Graduate\",\"Graduate\",\"Dropout\",\"Dropout\",\"Dropout\",\"Enrolled\",\"Enrolled\",\"Graduate\",\"Enrolled\",\"Dropout\",\"Graduate\",\"Dropout\",\"Dropout\",\"Graduate\",\"Graduate\",\"Graduate\",\"Graduate\",\"Graduate\",\"Graduate\",\"Graduate\",\"Graduate\",\"Dropout\",\"Graduate\",\"Dropout\",\"Enrolled\",\"Enrolled\",\"Dropout\",\"Graduate\",\"Dropout\",\"Graduate\",\"Dropout\",\"Graduate\",\"Graduate\",\"Dropout\",\"Dropout\",\"Dropout\",\"Dropout\",\"Enrolled\",\"Graduate\",\"Dropout\",\"Enrolled\",\"Enrolled\",\"Graduate\",\"Dropout\",\"Dropout\",\"Dropout\",\"Graduate\",\"Enrolled\",\"Dropout\",\"Dropout\",\"Dropout\",\"Enrolled\",\"Dropout\",\"Enrolled\",\"Graduate\",\"Enrolled\",\"Dropout\",\"Dropout\",\"Dropout\",\"Dropout\",\"Graduate\",\"Dropout\",\"Enrolled\",\"Dropout\",\"Dropout\",\"Graduate\",\"Graduate\",\"Dropout\",\"Enrolled\",\"Dropout\",\"Dropout\",\"Enrolled\",\"Dropout\",\"Graduate\",\"Graduate\",\"Dropout\",\"Dropout\",\"Dropout\",\"Enrolled\",\"Graduate\",\"Enrolled\",\"Dropout\",\"Dropout\",\"Graduate\",\"Graduate\",\"Graduate\",\"Graduate\",\"Graduate\",\"Graduate\",\"Graduate\",\"Enrolled\",\"Graduate\",\"Dropout\",\"Dropout\",\"Graduate\",\"Dropout\",\"Enrolled\",\"Graduate\",\"Graduate\",\"Graduate\",\"Graduate\",\"Enrolled\",\"Graduate\",\"Graduate\",\"Graduate\",\"Graduate\",\"Enrolled\",\"Graduate\",\"Enrolled\",\"Graduate\",\"Graduate\",\"Graduate\",\"Graduate\",\"Enrolled\",\"Graduate\",\"Graduate\",\"Enrolled\",\"Graduate\",\"Enrolled\",\"Graduate\",\"Dropout\",\"Graduate\",\"Enrolled\",\"Graduate\",\"Enrolled\",\"Dropout\",\"Graduate\",\"Enrolled\",\"Enrolled\",\"Dropout\",\"Graduate\",\"Graduate\",\"Graduate\",\"Dropout\",\"Dropout\",\"Dropout\",\"Dropout\",\"Dropout\",\"Enrolled\",\"Graduate\",\"Dropout\",\"Dropout\",\"Graduate\",\"Graduate\",\"Graduate\",\"Dropout\",\"Dropout\",\"Graduate\",\"Graduate\",\"Enrolled\",\"Graduate\",\"Dropout\",\"Enrolled\",\"Enrolled\",\"Graduate\",\"Graduate\",\"Dropout\",\"Graduate\",\"Dropout\",\"Graduate\",\"Graduate\",\"Graduate\",\"Enrolled\",\"Enrolled\",\"Graduate\",\"Graduate\",\"Dropout\",\"Graduate\",\"Graduate\",\"Graduate\",\"Graduate\",\"Dropout\",\"Graduate\",\"Enrolled\",\"Dropout\",\"Enrolled\",\"Graduate\",\"Dropout\",\"Enrolled\",\"Graduate\",\"Enrolled\",\"Enrolled\",\"Graduate\",\"Graduate\",\"Dropout\",\"Dropout\",\"Dropout\",\"Graduate\",\"Graduate\",\"Dropout\",\"Enrolled\",\"Graduate\",\"Graduate\",\"Graduate\",\"Dropout\",\"Dropout\",\"Dropout\",\"Dropout\",\"Graduate\",\"Dropout\",\"Dropout\",\"Graduate\",\"Dropout\",\"Dropout\",\"Dropout\",\"Dropout\",\"Graduate\",\"Graduate\",\"Dropout\",\"Dropout\",\"Graduate\",\"Enrolled\",\"Dropout\",\"Dropout\",\"Graduate\",\"Graduate\",\"Graduate\",\"Dropout\",\"Dropout\",\"Graduate\",\"Enrolled\",\"Graduate\",\"Dropout\",\"Enrolled\",\"Dropout\",\"Dropout\",\"Dropout\",\"Enrolled\",\"Dropout\",\"Dropout\",\"Dropout\",\"Dropout\",\"Graduate\",\"Dropout\",\"Graduate\",\"Enrolled\",\"Enrolled\",\"Graduate\",\"Dropout\",\"Dropout\",\"Dropout\",\"Enrolled\",\"Graduate\",\"Enrolled\",\"Graduate\",\"Dropout\",\"Dropout\",\"Dropout\",\"Dropout\",\"Dropout\",\"Dropout\",\"Graduate\",\"Dropout\",\"Dropout\",\"Enrolled\",\"Enrolled\",\"Enrolled\",\"Graduate\",\"Graduate\",\"Dropout\",\"Dropout\",\"Graduate\",\"Enrolled\",\"Dropout\",\"Dropout\",\"Dropout\",\"Enrolled\",\"Graduate\",\"Enrolled\",\"Dropout\",\"Enrolled\",\"Graduate\",\"Enrolled\",\"Graduate\",\"Dropout\",\"Dropout\",\"Dropout\",\"Dropout\",\"Graduate\",\"Graduate\",\"Graduate\",\"Dropout\",\"Graduate\",\"Graduate\",\"Dropout\",\"Enrolled\",\"Graduate\",\"Graduate\",\"Graduate\",\"Dropout\",\"Dropout\",\"Graduate\",\"Graduate\",\"Graduate\",\"Dropout\",\"Enrolled\",\"Graduate\",\"Dropout\",\"Dropout\",\"Graduate\",\"Graduate\",\"Dropout\",\"Enrolled\",\"Enrolled\",\"Dropout\",\"Dropout\",\"Enrolled\",\"Dropout\",\"Enrolled\",\"Graduate\",\"Graduate\",\"Dropout\",\"Dropout\",\"Graduate\",\"Graduate\",\"Enrolled\",\"Graduate\",\"Graduate\",\"Dropout\",\"Enrolled\",\"Dropout\",\"Enrolled\",\"Enrolled\",\"Graduate\",\"Dropout\",\"Dropout\",\"Enrolled\",\"Dropout\",\"Enrolled\",\"Dropout\",\"Graduate\",\"Graduate\",\"Dropout\",\"Graduate\",\"Graduate\",\"Dropout\",\"Graduate\",\"Enrolled\",\"Dropout\",\"Enrolled\",\"Dropout\",\"Graduate\",\"Graduate\",\"Dropout\",\"Enrolled\",\"Graduate\",\"Graduate\",\"Graduate\",\"Graduate\",\"Enrolled\",\"Graduate\",\"Graduate\",\"Graduate\",\"Dropout\",\"Graduate\",\"Graduate\",\"Graduate\",\"Graduate\",\"Enrolled\",\"Dropout\",\"Graduate\",\"Dropout\",\"Graduate\",\"Enrolled\",\"Graduate\",\"Enrolled\",\"Graduate\",\"Graduate\",\"Graduate\",\"Graduate\",\"Graduate\",\"Enrolled\",\"Dropout\",\"Graduate\",\"Graduate\",\"Graduate\",\"Dropout\",\"Enrolled\",\"Dropout\",\"Dropout\",\"Graduate\",\"Graduate\",\"Graduate\",\"Graduate\",\"Graduate\",\"Graduate\",\"Graduate\",\"Graduate\",\"Graduate\",\"Dropout\",\"Graduate\",\"Graduate\",\"Dropout\",\"Enrolled\",\"Dropout\",\"Graduate\",\"Dropout\",\"Dropout\",\"Dropout\",\"Dropout\",\"Graduate\",\"Enrolled\",\"Graduate\",\"Dropout\",\"Dropout\",\"Dropout\",\"Dropout\",\"Dropout\",\"Graduate\",\"Enrolled\",\"Graduate\",\"Dropout\",\"Enrolled\",\"Enrolled\",\"Dropout\",\"Dropout\",\"Graduate\",\"Dropout\",\"Graduate\",\"Graduate\",\"Dropout\",\"Dropout\",\"Graduate\",\"Dropout\",\"Dropout\",\"Dropout\",\"Dropout\",\"Enrolled\",\"Dropout\",\"Graduate\",\"Dropout\",\"Dropout\",\"Enrolled\",\"Dropout\",\"Dropout\",\"Dropout\",\"Dropout\",\"Dropout\",\"Dropout\",\"Graduate\",\"Graduate\",\"Graduate\",\"Graduate\",\"Dropout\",\"Graduate\",\"Dropout\",\"Dropout\",\"Graduate\",\"Enrolled\",\"Enrolled\",\"Graduate\",\"Dropout\",\"Dropout\",\"Enrolled\",\"Graduate\",\"Enrolled\",\"Dropout\",\"Graduate\",\"Graduate\",\"Graduate\",\"Dropout\",\"Graduate\",\"Graduate\",\"Graduate\",\"Graduate\",\"Graduate\",\"Dropout\",\"Dropout\",\"Graduate\",\"Graduate\",\"Enrolled\",\"Dropout\",\"Graduate\",\"Dropout\",\"Graduate\",\"Graduate\",\"Graduate\",\"Graduate\",\"Graduate\",\"Dropout\",\"Enrolled\",\"Dropout\",\"Dropout\",\"Graduate\",\"Graduate\",\"Dropout\",\"Graduate\",\"Dropout\",\"Graduate\",\"Graduate\",\"Enrolled\",\"Enrolled\",\"Graduate\",\"Graduate\",\"Graduate\",\"Enrolled\",\"Dropout\",\"Enrolled\",\"Dropout\",\"Dropout\",\"Enrolled\",\"Dropout\",\"Graduate\",\"Dropout\",\"Dropout\",\"Dropout\",\"Dropout\",\"Graduate\",\"Graduate\",\"Dropout\",\"Graduate\",\"Dropout\",\"Dropout\",\"Graduate\",\"Graduate\",\"Graduate\",\"Dropout\",\"Dropout\",\"Graduate\",\"Graduate\",\"Dropout\",\"Dropout\",\"Enrolled\",\"Dropout\",\"Graduate\",\"Graduate\",\"Graduate\",\"Enrolled\",\"Dropout\",\"Graduate\",\"Dropout\",\"Dropout\",\"Enrolled\",\"Dropout\",\"Graduate\",\"Dropout\",\"Enrolled\",\"Dropout\",\"Dropout\",\"Graduate\",\"Dropout\",\"Dropout\",\"Graduate\",\"Enrolled\",\"Enrolled\",\"Dropout\",\"Graduate\",\"Dropout\",\"Dropout\",\"Dropout\",\"Dropout\",\"Dropout\",\"Enrolled\",\"Enrolled\",\"Dropout\",\"Dropout\",\"Graduate\",\"Dropout\",\"Dropout\",\"Dropout\",\"Dropout\",\"Graduate\",\"Dropout\",\"Dropout\",\"Dropout\",\"Dropout\",\"Dropout\",\"Graduate\",\"Graduate\",\"Graduate\",\"Dropout\",\"Dropout\",\"Dropout\",\"Dropout\",\"Graduate\",\"Graduate\",\"Dropout\",\"Dropout\",\"Dropout\",\"Graduate\",\"Graduate\",\"Dropout\",\"Graduate\",\"Graduate\",\"Graduate\",\"Dropout\",\"Dropout\",\"Dropout\",\"Dropout\",\"Graduate\",\"Graduate\",\"Graduate\",\"Graduate\",\"Graduate\",\"Dropout\",\"Graduate\",\"Graduate\",\"Graduate\",\"Enrolled\",\"Enrolled\",\"Graduate\",\"Graduate\",\"Enrolled\",\"Enrolled\",\"Graduate\",\"Dropout\",\"Enrolled\",\"Graduate\",\"Enrolled\",\"Graduate\",\"Graduate\",\"Enrolled\",\"Graduate\",\"Enrolled\",\"Enrolled\",\"Dropout\",\"Dropout\",\"Graduate\",\"Graduate\",\"Enrolled\",\"Graduate\",\"Dropout\",\"Enrolled\",\"Graduate\",\"Graduate\",\"Graduate\",\"Dropout\",\"Graduate\",\"Graduate\",\"Graduate\",\"Enrolled\",\"Graduate\",\"Graduate\",\"Graduate\",\"Graduate\",\"Graduate\",\"Enrolled\",\"Enrolled\",\"Graduate\",\"Dropout\",\"Graduate\",\"Enrolled\",\"Graduate\",\"Graduate\",\"Graduate\",\"Enrolled\",\"Dropout\",\"Enrolled\",\"Dropout\",\"Enrolled\",\"Graduate\",\"Graduate\",\"Enrolled\",\"Dropout\",\"Graduate\",\"Dropout\",\"Dropout\",\"Graduate\",\"Graduate\",\"Dropout\",\"Graduate\",\"Graduate\",\"Dropout\",\"Dropout\",\"Graduate\",\"Graduate\",\"Dropout\",\"Dropout\",\"Graduate\",\"Graduate\",\"Graduate\",\"Graduate\",\"Dropout\",\"Graduate\",\"Graduate\",\"Graduate\",\"Dropout\",\"Graduate\",\"Dropout\",\"Enrolled\",\"Graduate\",\"Graduate\",\"Graduate\",\"Graduate\",\"Graduate\",\"Graduate\",\"Graduate\",\"Graduate\",\"Graduate\",\"Graduate\",\"Graduate\",\"Enrolled\",\"Graduate\",\"Graduate\",\"Graduate\",\"Graduate\",\"Dropout\",\"Graduate\",\"Graduate\",\"Graduate\",\"Graduate\",\"Graduate\",\"Graduate\",\"Dropout\",\"Graduate\",\"Graduate\",\"Graduate\",\"Dropout\",\"Dropout\",\"Graduate\",\"Dropout\",\"Dropout\",\"Dropout\",\"Dropout\",\"Graduate\",\"Graduate\",\"Graduate\",\"Dropout\",\"Graduate\",\"Dropout\",\"Dropout\",\"Dropout\",\"Dropout\",\"Enrolled\",\"Dropout\",\"Graduate\",\"Graduate\",\"Dropout\",\"Dropout\",\"Dropout\",\"Graduate\",\"Graduate\",\"Dropout\",\"Graduate\",\"Graduate\",\"Dropout\",\"Enrolled\",\"Enrolled\",\"Graduate\",\"Dropout\",\"Graduate\",\"Dropout\",\"Graduate\",\"Enrolled\",\"Graduate\",\"Dropout\",\"Dropout\",\"Dropout\",\"Graduate\",\"Enrolled\",\"Graduate\",\"Graduate\",\"Graduate\",\"Graduate\",\"Graduate\",\"Enrolled\",\"Graduate\",\"Dropout\",\"Graduate\",\"Graduate\",\"Graduate\",\"Graduate\",\"Dropout\",\"Graduate\",\"Dropout\",\"Enrolled\",\"Graduate\",\"Dropout\",\"Graduate\",\"Enrolled\",\"Graduate\",\"Dropout\",\"Graduate\",\"Graduate\",\"Graduate\",\"Graduate\",\"Enrolled\",\"Enrolled\",\"Graduate\",\"Dropout\",\"Graduate\",\"Graduate\",\"Graduate\",\"Dropout\",\"Enrolled\",\"Graduate\",\"Graduate\",\"Dropout\",\"Graduate\",\"Dropout\",\"Graduate\",\"Enrolled\",\"Dropout\",\"Enrolled\",\"Enrolled\",\"Graduate\",\"Dropout\",\"Dropout\",\"Graduate\",\"Enrolled\",\"Enrolled\",\"Dropout\",\"Graduate\",\"Dropout\",\"Dropout\",\"Graduate\",\"Graduate\",\"Graduate\",\"Graduate\",\"Graduate\",\"Dropout\",\"Dropout\",\"Enrolled\",\"Graduate\",\"Graduate\",\"Enrolled\",\"Graduate\",\"Graduate\",\"Graduate\",\"Dropout\",\"Graduate\",\"Graduate\",\"Graduate\",\"Graduate\",\"Graduate\",\"Dropout\",\"Graduate\",\"Enrolled\",\"Enrolled\",\"Graduate\",\"Graduate\",\"Graduate\",\"Graduate\",\"Graduate\",\"Graduate\",\"Graduate\",\"Enrolled\",\"Enrolled\",\"Enrolled\",\"Graduate\",\"Graduate\",\"Graduate\",\"Graduate\",\"Graduate\",\"Enrolled\",\"Enrolled\",\"Graduate\",\"Graduate\",\"Graduate\",\"Graduate\",\"Dropout\",\"Graduate\",\"Dropout\",\"Dropout\",\"Graduate\",\"Enrolled\",\"Enrolled\",\"Dropout\",\"Dropout\",\"Enrolled\",\"Enrolled\",\"Graduate\",\"Graduate\",\"Graduate\",\"Graduate\",\"Enrolled\",\"Dropout\",\"Graduate\",\"Enrolled\",\"Dropout\",\"Graduate\",\"Graduate\",\"Graduate\",\"Enrolled\",\"Dropout\",\"Graduate\",\"Dropout\",\"Graduate\",\"Enrolled\",\"Graduate\",\"Graduate\",\"Dropout\",\"Enrolled\",\"Enrolled\",\"Enrolled\",\"Graduate\",\"Graduate\",\"Graduate\",\"Graduate\",\"Enrolled\",\"Graduate\",\"Graduate\",\"Enrolled\",\"Dropout\",\"Dropout\",\"Graduate\",\"Graduate\",\"Enrolled\",\"Enrolled\",\"Graduate\",\"Graduate\",\"Graduate\",\"Dropout\",\"Enrolled\",\"Enrolled\",\"Graduate\",\"Dropout\",\"Graduate\",\"Graduate\",\"Graduate\",\"Enrolled\",\"Graduate\",\"Graduate\",\"Graduate\",\"Enrolled\",\"Graduate\",\"Dropout\",\"Graduate\",\"Graduate\",\"Graduate\",\"Dropout\",\"Graduate\",\"Graduate\",\"Graduate\",\"Graduate\",\"Graduate\",\"Graduate\",\"Dropout\",\"Dropout\",\"Graduate\",\"Enrolled\",\"Graduate\",\"Dropout\",\"Graduate\",\"Graduate\",\"Graduate\",\"Graduate\",\"Graduate\",\"Dropout\",\"Graduate\",\"Enrolled\",\"Dropout\",\"Graduate\",\"Enrolled\",\"Dropout\",\"Graduate\",\"Enrolled\",\"Enrolled\",\"Graduate\",\"Enrolled\",\"Dropout\",\"Graduate\",\"Graduate\",\"Dropout\",\"Dropout\",\"Enrolled\",\"Dropout\",\"Dropout\",\"Dropout\",\"Graduate\",\"Dropout\",\"Graduate\",\"Dropout\",\"Dropout\",\"Graduate\",\"Dropout\",\"Dropout\",\"Dropout\",\"Graduate\",\"Enrolled\",\"Graduate\",\"Dropout\",\"Dropout\",\"Dropout\",\"Graduate\",\"Dropout\",\"Graduate\",\"Graduate\",\"Enrolled\",\"Graduate\",\"Dropout\",\"Enrolled\",\"Graduate\",\"Dropout\",\"Graduate\",\"Enrolled\",\"Enrolled\",\"Enrolled\",\"Dropout\",\"Dropout\",\"Graduate\",\"Dropout\",\"Dropout\",\"Enrolled\",\"Dropout\",\"Dropout\",\"Enrolled\",\"Enrolled\",\"Graduate\",\"Graduate\",\"Dropout\",\"Graduate\",\"Graduate\",\"Graduate\",\"Graduate\",\"Dropout\",\"Graduate\",\"Enrolled\",\"Graduate\",\"Graduate\",\"Dropout\",\"Dropout\",\"Graduate\",\"Dropout\",\"Dropout\",\"Dropout\",\"Dropout\",\"Dropout\",\"Dropout\",\"Dropout\",\"Dropout\",\"Graduate\",\"Graduate\",\"Enrolled\",\"Dropout\",\"Graduate\",\"Dropout\",\"Dropout\",\"Graduate\",\"Graduate\",\"Graduate\",\"Graduate\",\"Enrolled\",\"Enrolled\",\"Dropout\",\"Dropout\",\"Graduate\",\"Graduate\",\"Dropout\",\"Dropout\",\"Dropout\",\"Graduate\",\"Dropout\",\"Dropout\",\"Graduate\",\"Dropout\",\"Graduate\",\"Enrolled\",\"Enrolled\",\"Graduate\",\"Enrolled\",\"Graduate\",\"Graduate\",\"Graduate\",\"Dropout\",\"Enrolled\",\"Dropout\",\"Graduate\",\"Dropout\",\"Dropout\",\"Graduate\",\"Graduate\",\"Graduate\",\"Graduate\",\"Dropout\",\"Graduate\",\"Enrolled\",\"Graduate\",\"Dropout\",\"Dropout\",\"Dropout\",\"Graduate\",\"Graduate\",\"Graduate\",\"Graduate\",\"Dropout\",\"Enrolled\",\"Graduate\",\"Graduate\",\"Graduate\",\"Dropout\",\"Enrolled\",\"Graduate\",\"Graduate\",\"Dropout\",\"Enrolled\",\"Graduate\",\"Dropout\",\"Graduate\",\"Dropout\",\"Graduate\",\"Dropout\",\"Dropout\",\"Enrolled\",\"Graduate\",\"Graduate\",\"Dropout\",\"Dropout\",\"Dropout\",\"Dropout\",\"Dropout\",\"Graduate\",\"Graduate\",\"Enrolled\",\"Enrolled\",\"Graduate\",\"Graduate\",\"Dropout\",\"Graduate\",\"Enrolled\",\"Graduate\",\"Graduate\",\"Dropout\",\"Dropout\",\"Enrolled\",\"Graduate\",\"Dropout\",\"Graduate\",\"Enrolled\",\"Graduate\",\"Dropout\",\"Graduate\",\"Graduate\",\"Dropout\",\"Enrolled\",\"Enrolled\",\"Graduate\",\"Dropout\",\"Graduate\",\"Graduate\",\"Graduate\",\"Graduate\",\"Dropout\",\"Dropout\",\"Graduate\",\"Graduate\"],\"xaxis\":\"x\",\"yaxis\":\"y\",\"type\":\"histogram\"}],                        {\"template\":{\"data\":{\"histogram2dcontour\":[{\"type\":\"histogram2dcontour\",\"colorbar\":{\"outlinewidth\":0,\"ticks\":\"\"},\"colorscale\":[[0.0,\"#0d0887\"],[0.1111111111111111,\"#46039f\"],[0.2222222222222222,\"#7201a8\"],[0.3333333333333333,\"#9c179e\"],[0.4444444444444444,\"#bd3786\"],[0.5555555555555556,\"#d8576b\"],[0.6666666666666666,\"#ed7953\"],[0.7777777777777778,\"#fb9f3a\"],[0.8888888888888888,\"#fdca26\"],[1.0,\"#f0f921\"]]}],\"choropleth\":[{\"type\":\"choropleth\",\"colorbar\":{\"outlinewidth\":0,\"ticks\":\"\"}}],\"histogram2d\":[{\"type\":\"histogram2d\",\"colorbar\":{\"outlinewidth\":0,\"ticks\":\"\"},\"colorscale\":[[0.0,\"#0d0887\"],[0.1111111111111111,\"#46039f\"],[0.2222222222222222,\"#7201a8\"],[0.3333333333333333,\"#9c179e\"],[0.4444444444444444,\"#bd3786\"],[0.5555555555555556,\"#d8576b\"],[0.6666666666666666,\"#ed7953\"],[0.7777777777777778,\"#fb9f3a\"],[0.8888888888888888,\"#fdca26\"],[1.0,\"#f0f921\"]]}],\"heatmap\":[{\"type\":\"heatmap\",\"colorbar\":{\"outlinewidth\":0,\"ticks\":\"\"},\"colorscale\":[[0.0,\"#0d0887\"],[0.1111111111111111,\"#46039f\"],[0.2222222222222222,\"#7201a8\"],[0.3333333333333333,\"#9c179e\"],[0.4444444444444444,\"#bd3786\"],[0.5555555555555556,\"#d8576b\"],[0.6666666666666666,\"#ed7953\"],[0.7777777777777778,\"#fb9f3a\"],[0.8888888888888888,\"#fdca26\"],[1.0,\"#f0f921\"]]}],\"heatmapgl\":[{\"type\":\"heatmapgl\",\"colorbar\":{\"outlinewidth\":0,\"ticks\":\"\"},\"colorscale\":[[0.0,\"#0d0887\"],[0.1111111111111111,\"#46039f\"],[0.2222222222222222,\"#7201a8\"],[0.3333333333333333,\"#9c179e\"],[0.4444444444444444,\"#bd3786\"],[0.5555555555555556,\"#d8576b\"],[0.6666666666666666,\"#ed7953\"],[0.7777777777777778,\"#fb9f3a\"],[0.8888888888888888,\"#fdca26\"],[1.0,\"#f0f921\"]]}],\"contourcarpet\":[{\"type\":\"contourcarpet\",\"colorbar\":{\"outlinewidth\":0,\"ticks\":\"\"}}],\"contour\":[{\"type\":\"contour\",\"colorbar\":{\"outlinewidth\":0,\"ticks\":\"\"},\"colorscale\":[[0.0,\"#0d0887\"],[0.1111111111111111,\"#46039f\"],[0.2222222222222222,\"#7201a8\"],[0.3333333333333333,\"#9c179e\"],[0.4444444444444444,\"#bd3786\"],[0.5555555555555556,\"#d8576b\"],[0.6666666666666666,\"#ed7953\"],[0.7777777777777778,\"#fb9f3a\"],[0.8888888888888888,\"#fdca26\"],[1.0,\"#f0f921\"]]}],\"surface\":[{\"type\":\"surface\",\"colorbar\":{\"outlinewidth\":0,\"ticks\":\"\"},\"colorscale\":[[0.0,\"#0d0887\"],[0.1111111111111111,\"#46039f\"],[0.2222222222222222,\"#7201a8\"],[0.3333333333333333,\"#9c179e\"],[0.4444444444444444,\"#bd3786\"],[0.5555555555555556,\"#d8576b\"],[0.6666666666666666,\"#ed7953\"],[0.7777777777777778,\"#fb9f3a\"],[0.8888888888888888,\"#fdca26\"],[1.0,\"#f0f921\"]]}],\"mesh3d\":[{\"type\":\"mesh3d\",\"colorbar\":{\"outlinewidth\":0,\"ticks\":\"\"}}],\"scatter\":[{\"fillpattern\":{\"fillmode\":\"overlay\",\"size\":10,\"solidity\":0.2},\"type\":\"scatter\"}],\"parcoords\":[{\"type\":\"parcoords\",\"line\":{\"colorbar\":{\"outlinewidth\":0,\"ticks\":\"\"}}}],\"scatterpolargl\":[{\"type\":\"scatterpolargl\",\"marker\":{\"colorbar\":{\"outlinewidth\":0,\"ticks\":\"\"}}}],\"bar\":[{\"error_x\":{\"color\":\"#2a3f5f\"},\"error_y\":{\"color\":\"#2a3f5f\"},\"marker\":{\"line\":{\"color\":\"#E5ECF6\",\"width\":0.5},\"pattern\":{\"fillmode\":\"overlay\",\"size\":10,\"solidity\":0.2}},\"type\":\"bar\"}],\"scattergeo\":[{\"type\":\"scattergeo\",\"marker\":{\"colorbar\":{\"outlinewidth\":0,\"ticks\":\"\"}}}],\"scatterpolar\":[{\"type\":\"scatterpolar\",\"marker\":{\"colorbar\":{\"outlinewidth\":0,\"ticks\":\"\"}}}],\"histogram\":[{\"marker\":{\"pattern\":{\"fillmode\":\"overlay\",\"size\":10,\"solidity\":0.2}},\"type\":\"histogram\"}],\"scattergl\":[{\"type\":\"scattergl\",\"marker\":{\"colorbar\":{\"outlinewidth\":0,\"ticks\":\"\"}}}],\"scatter3d\":[{\"type\":\"scatter3d\",\"line\":{\"colorbar\":{\"outlinewidth\":0,\"ticks\":\"\"}},\"marker\":{\"colorbar\":{\"outlinewidth\":0,\"ticks\":\"\"}}}],\"scattermapbox\":[{\"type\":\"scattermapbox\",\"marker\":{\"colorbar\":{\"outlinewidth\":0,\"ticks\":\"\"}}}],\"scatterternary\":[{\"type\":\"scatterternary\",\"marker\":{\"colorbar\":{\"outlinewidth\":0,\"ticks\":\"\"}}}],\"scattercarpet\":[{\"type\":\"scattercarpet\",\"marker\":{\"colorbar\":{\"outlinewidth\":0,\"ticks\":\"\"}}}],\"carpet\":[{\"aaxis\":{\"endlinecolor\":\"#2a3f5f\",\"gridcolor\":\"white\",\"linecolor\":\"white\",\"minorgridcolor\":\"white\",\"startlinecolor\":\"#2a3f5f\"},\"baxis\":{\"endlinecolor\":\"#2a3f5f\",\"gridcolor\":\"white\",\"linecolor\":\"white\",\"minorgridcolor\":\"white\",\"startlinecolor\":\"#2a3f5f\"},\"type\":\"carpet\"}],\"table\":[{\"cells\":{\"fill\":{\"color\":\"#EBF0F8\"},\"line\":{\"color\":\"white\"}},\"header\":{\"fill\":{\"color\":\"#C8D4E3\"},\"line\":{\"color\":\"white\"}},\"type\":\"table\"}],\"barpolar\":[{\"marker\":{\"line\":{\"color\":\"#E5ECF6\",\"width\":0.5},\"pattern\":{\"fillmode\":\"overlay\",\"size\":10,\"solidity\":0.2}},\"type\":\"barpolar\"}],\"pie\":[{\"automargin\":true,\"type\":\"pie\"}]},\"layout\":{\"autotypenumbers\":\"strict\",\"colorway\":[\"#636efa\",\"#EF553B\",\"#00cc96\",\"#ab63fa\",\"#FFA15A\",\"#19d3f3\",\"#FF6692\",\"#B6E880\",\"#FF97FF\",\"#FECB52\"],\"font\":{\"color\":\"#2a3f5f\"},\"hovermode\":\"closest\",\"hoverlabel\":{\"align\":\"left\"},\"paper_bgcolor\":\"white\",\"plot_bgcolor\":\"#E5ECF6\",\"polar\":{\"bgcolor\":\"#E5ECF6\",\"angularaxis\":{\"gridcolor\":\"white\",\"linecolor\":\"white\",\"ticks\":\"\"},\"radialaxis\":{\"gridcolor\":\"white\",\"linecolor\":\"white\",\"ticks\":\"\"}},\"ternary\":{\"bgcolor\":\"#E5ECF6\",\"aaxis\":{\"gridcolor\":\"white\",\"linecolor\":\"white\",\"ticks\":\"\"},\"baxis\":{\"gridcolor\":\"white\",\"linecolor\":\"white\",\"ticks\":\"\"},\"caxis\":{\"gridcolor\":\"white\",\"linecolor\":\"white\",\"ticks\":\"\"}},\"coloraxis\":{\"colorbar\":{\"outlinewidth\":0,\"ticks\":\"\"}},\"colorscale\":{\"sequential\":[[0.0,\"#0d0887\"],[0.1111111111111111,\"#46039f\"],[0.2222222222222222,\"#7201a8\"],[0.3333333333333333,\"#9c179e\"],[0.4444444444444444,\"#bd3786\"],[0.5555555555555556,\"#d8576b\"],[0.6666666666666666,\"#ed7953\"],[0.7777777777777778,\"#fb9f3a\"],[0.8888888888888888,\"#fdca26\"],[1.0,\"#f0f921\"]],\"sequentialminus\":[[0.0,\"#0d0887\"],[0.1111111111111111,\"#46039f\"],[0.2222222222222222,\"#7201a8\"],[0.3333333333333333,\"#9c179e\"],[0.4444444444444444,\"#bd3786\"],[0.5555555555555556,\"#d8576b\"],[0.6666666666666666,\"#ed7953\"],[0.7777777777777778,\"#fb9f3a\"],[0.8888888888888888,\"#fdca26\"],[1.0,\"#f0f921\"]],\"diverging\":[[0,\"#8e0152\"],[0.1,\"#c51b7d\"],[0.2,\"#de77ae\"],[0.3,\"#f1b6da\"],[0.4,\"#fde0ef\"],[0.5,\"#f7f7f7\"],[0.6,\"#e6f5d0\"],[0.7,\"#b8e186\"],[0.8,\"#7fbc41\"],[0.9,\"#4d9221\"],[1,\"#276419\"]]},\"xaxis\":{\"gridcolor\":\"white\",\"linecolor\":\"white\",\"ticks\":\"\",\"title\":{\"standoff\":15},\"zerolinecolor\":\"white\",\"automargin\":true,\"zerolinewidth\":2},\"yaxis\":{\"gridcolor\":\"white\",\"linecolor\":\"white\",\"ticks\":\"\",\"title\":{\"standoff\":15},\"zerolinecolor\":\"white\",\"automargin\":true,\"zerolinewidth\":2},\"scene\":{\"xaxis\":{\"backgroundcolor\":\"#E5ECF6\",\"gridcolor\":\"white\",\"linecolor\":\"white\",\"showbackground\":true,\"ticks\":\"\",\"zerolinecolor\":\"white\",\"gridwidth\":2},\"yaxis\":{\"backgroundcolor\":\"#E5ECF6\",\"gridcolor\":\"white\",\"linecolor\":\"white\",\"showbackground\":true,\"ticks\":\"\",\"zerolinecolor\":\"white\",\"gridwidth\":2},\"zaxis\":{\"backgroundcolor\":\"#E5ECF6\",\"gridcolor\":\"white\",\"linecolor\":\"white\",\"showbackground\":true,\"ticks\":\"\",\"zerolinecolor\":\"white\",\"gridwidth\":2}},\"shapedefaults\":{\"line\":{\"color\":\"#2a3f5f\"}},\"annotationdefaults\":{\"arrowcolor\":\"#2a3f5f\",\"arrowhead\":0,\"arrowwidth\":1},\"geo\":{\"bgcolor\":\"white\",\"landcolor\":\"#E5ECF6\",\"subunitcolor\":\"white\",\"showland\":true,\"showlakes\":true,\"lakecolor\":\"white\"},\"title\":{\"x\":0.05},\"mapbox\":{\"style\":\"light\"}}},\"xaxis\":{\"anchor\":\"y\",\"domain\":[0.0,1.0],\"title\":{\"text\":\"Target\"}},\"yaxis\":{\"anchor\":\"x\",\"domain\":[0.0,1.0],\"title\":{\"text\":\"count\"}},\"legend\":{\"tracegroupgap\":0},\"margin\":{\"t\":60},\"barmode\":\"relative\"},                        {\"responsive\": true}                    ).then(function(){\n",
              "                            \n",
              "var gd = document.getElementById('e3ace6c7-604a-406f-90ef-543584480a5c');\n",
              "var x = new MutationObserver(function (mutations, observer) {{\n",
              "        var display = window.getComputedStyle(gd).display;\n",
              "        if (!display || display === 'none') {{\n",
              "            console.log([gd, 'removed!']);\n",
              "            Plotly.purge(gd);\n",
              "            observer.disconnect();\n",
              "        }}\n",
              "}});\n",
              "\n",
              "// Listen for the removal of the full notebook cells\n",
              "var notebookContainer = gd.closest('#notebook-container');\n",
              "if (notebookContainer) {{\n",
              "    x.observe(notebookContainer, {childList: true});\n",
              "}}\n",
              "\n",
              "// Listen for the clearing of the current output cell\n",
              "var outputEl = gd.closest('.output');\n",
              "if (outputEl) {{\n",
              "    x.observe(outputEl, {childList: true});\n",
              "}}\n",
              "\n",
              "                        })                };                            </script>        </div>\n",
              "</body>\n",
              "</html>"
            ]
          },
          "metadata": {}
        }
      ]
    },
    {
      "cell_type": "code",
      "source": [
        "# for column in int_features:\n",
        "#   fig = px.scatter(df, x=column, color='Target')\n",
        "#   fig.show()"
      ],
      "metadata": {
        "id": "uReEJ7w8P0iY"
      },
      "execution_count": 383,
      "outputs": []
    },
    {
      "cell_type": "code",
      "source": [
        "# for column in float_features:\n",
        "#   fig = px.histogram(df, x=column, color='Target')\n",
        "#   fig.show()"
      ],
      "metadata": {
        "id": "aydwh2_R_9gv"
      },
      "execution_count": 384,
      "outputs": []
    },
    {
      "cell_type": "markdown",
      "source": [
        "# Preparação de dados"
      ],
      "metadata": {
        "id": "3eeSZuEwq4ee"
      }
    },
    {
      "cell_type": "code",
      "source": [
        "df_target = df['Target']\n",
        "df_features = df.drop(columns='Target')\n",
        "df_target"
      ],
      "metadata": {
        "id": "-g6xiQnwMJJo",
        "colab": {
          "base_uri": "https://localhost:8080/"
        },
        "outputId": "9bacbed7-a0da-48a1-a663-dd06b5780682"
      },
      "execution_count": 385,
      "outputs": [
        {
          "output_type": "execute_result",
          "data": {
            "text/plain": [
              "0        Dropout\n",
              "1       Graduate\n",
              "2        Dropout\n",
              "3       Graduate\n",
              "4       Graduate\n",
              "          ...   \n",
              "4419    Graduate\n",
              "4420     Dropout\n",
              "4421     Dropout\n",
              "4422    Graduate\n",
              "4423    Graduate\n",
              "Name: Target, Length: 4424, dtype: object"
            ]
          },
          "metadata": {},
          "execution_count": 385
        }
      ]
    },
    {
      "cell_type": "markdown",
      "source": [
        "## Codificação de classes para valores numéricos"
      ],
      "metadata": {
        "id": "2UaDFTzr6cEi"
      }
    },
    {
      "cell_type": "code",
      "source": [
        "from sklearn.preprocessing import LabelEncoder\n",
        "encoder = LabelEncoder()\n",
        "target = encoder.fit_transform(df_target)\n",
        "target"
      ],
      "metadata": {
        "colab": {
          "base_uri": "https://localhost:8080/"
        },
        "id": "BRwkA9v6jcH0",
        "outputId": "fc258eb6-9b6e-467f-e08c-ba479c5eead9"
      },
      "execution_count": 386,
      "outputs": [
        {
          "output_type": "execute_result",
          "data": {
            "text/plain": [
              "array([0, 2, 0, ..., 0, 2, 2])"
            ]
          },
          "metadata": {},
          "execution_count": 386
        }
      ]
    },
    {
      "cell_type": "markdown",
      "source": [
        "## Normalização das features"
      ],
      "metadata": {
        "id": "AK9hxhuOTWzv"
      }
    },
    {
      "cell_type": "code",
      "source": [
        "from sklearn.preprocessing import StandardScaler\n",
        "scaler = StandardScaler()\n",
        "data = scaler.fit_transform(df_features)\n",
        "data"
      ],
      "metadata": {
        "colab": {
          "base_uri": "https://localhost:8080/"
        },
        "id": "YOG76mGU-G3I",
        "outputId": "3d86f67d-8da8-4c6d-db58-16d1dbf57780"
      },
      "execution_count": 387,
      "outputs": [
        {
          "output_type": "execute_result",
          "data": {
            "text/plain": [
              "array([[-0.29, -0.1 ,  2.49, ..., -0.29,  0.12,  0.77],\n",
              "       [-0.29, -0.21, -0.55, ...,  0.88, -1.11,  0.35],\n",
              "       [-0.29, -1.01,  2.49, ..., -0.29,  0.12,  0.77],\n",
              "       ...,\n",
              "       [-0.29, -1.01, -0.55, ...,  0.88, -1.11,  0.35],\n",
              "       [-0.29, -1.01, -0.55, ..., -0.81, -1.47, -1.38],\n",
              "       [-0.29, -0.5 , -0.55, ...,  0.43,  1.79, -0.75]])"
            ]
          },
          "metadata": {},
          "execution_count": 387
        }
      ]
    },
    {
      "cell_type": "markdown",
      "source": [
        "## Definição de função para exibição da ConfusionMatrix"
      ],
      "metadata": {
        "id": "zfciiP-yQlYA"
      }
    },
    {
      "cell_type": "code",
      "source": [
        "import matplotlib.pyplot as plt\n",
        "from sklearn.metrics import ConfusionMatrixDisplay\n",
        "\n",
        "np.set_printoptions(precision=2)\n",
        "\n",
        "class_names = df_target.unique()\n",
        "color_map = plt.cm.Blues\n",
        "options = [\n",
        "    (\"Confusion matrix, denormalized\", None),\n",
        "    (\"Confusion matrix, normalized\", \"true\"),\n",
        "]\n",
        "\n",
        "def confusion_matrix_display(y_test, y_pred, options, method, display_labels, color_map):  \n",
        "  for title, normalize in options:\n",
        "    disp = ConfusionMatrixDisplay.from_predictions(y_test, y_pred, display_labels=class_names,normalize=normalize,cmap=color_map)\n",
        "    disp.ax_.set_title(method+' -  '+title)\n",
        "  plt.show()\n"
      ],
      "metadata": {
        "id": "i0Blg-q4GQEJ"
      },
      "execution_count": 388,
      "outputs": []
    },
    {
      "cell_type": "markdown",
      "source": [
        "## Definição de função para coleta de métricas"
      ],
      "metadata": {
        "id": "LEFmU59n_pcf"
      }
    },
    {
      "cell_type": "code",
      "source": [
        "metrics_df = pd.DataFrame()"
      ],
      "metadata": {
        "id": "NnBhtiG1dc15"
      },
      "execution_count": 389,
      "outputs": []
    },
    {
      "cell_type": "code",
      "source": [
        "from sklearn.metrics import accuracy_score, precision_score, f1_score, recall_score, confusion_matrix\n",
        "\n",
        "def metrics_collect(method, y_test, y_pred):\n",
        "  accuracy = accuracy_score(y_test, y_pred)\n",
        "  precision = precision_score(y_test, y_pred,average='weighted')\n",
        "  recall = recall_score(y_test, y_pred,average='weighted')\n",
        "  f1 = f1_score(y_test, y_pred,average='weighted')\n",
        "  confusion_matrix_data = confusion_matrix(y_test, y_pred, normalize='true')  \n",
        "  metrics_data = {'method': method, \n",
        "                  'accuracy': accuracy, \n",
        "                  'precision': precision, \n",
        "                  'recall': recall, \n",
        "                  'f1': f1, \n",
        "                  'confusion_matrix': confusion_matrix_data }\n",
        "  return metrics_data"
      ],
      "metadata": {
        "id": "oUpRS2PP_sJh"
      },
      "execution_count": 390,
      "outputs": []
    },
    {
      "cell_type": "markdown",
      "source": [
        "## Definição de parâmetros para o GridSearchCV"
      ],
      "metadata": {
        "id": "40-3pR9pXzEC"
      }
    },
    {
      "cell_type": "code",
      "source": [
        "from sklearn.model_selection import GridSearchCV\n",
        "\n",
        "scoring='accuracy'\n",
        "cv=10\n",
        "n_jobs=-1"
      ],
      "metadata": {
        "id": "ZHMykS6nXwrT"
      },
      "execution_count": 391,
      "outputs": []
    },
    {
      "cell_type": "markdown",
      "source": [
        "# Modelagem"
      ],
      "metadata": {
        "id": "I44dq3X0QSlf"
      }
    },
    {
      "cell_type": "markdown",
      "source": [
        "## Separação dados de treinamento e testes"
      ],
      "metadata": {
        "id": "UhRR8yNdQd9W"
      }
    },
    {
      "cell_type": "code",
      "source": [
        "import numpy as np\n",
        "from sklearn.model_selection import train_test_split\n",
        "\n",
        "X_train, X_test, y_train, y_test = train_test_split(data, target, random_state=0)\n",
        "print(X_train.shape)\n",
        "print(y_train.shape)\n",
        "print(X_test.shape)\n",
        "print(y_test.shape)"
      ],
      "metadata": {
        "colab": {
          "base_uri": "https://localhost:8080/"
        },
        "id": "HJb7eZgdzQsn",
        "outputId": "ea423903-686f-4edd-921d-e94aa1aef441"
      },
      "execution_count": 392,
      "outputs": [
        {
          "output_type": "stream",
          "name": "stdout",
          "text": [
            "(3318, 36)\n",
            "(3318,)\n",
            "(1106, 36)\n",
            "(1106,)\n"
          ]
        }
      ]
    },
    {
      "cell_type": "markdown",
      "source": [
        "## Aplicação do método KNN"
      ],
      "metadata": {
        "id": "a90PEpIbrBVg"
      }
    },
    {
      "cell_type": "code",
      "source": [
        "from sklearn.neighbors import KNeighborsClassifier\n",
        "\n",
        "parameters = {'n_neighbors': range(1,9)}\n",
        "clf = GridSearchCV(KNeighborsClassifier(), parameters, scoring=scoring, cv=cv, n_jobs=n_jobs)\n",
        "clf.fit(X_train,y_train)\n",
        "print(clf.best_params_)"
      ],
      "metadata": {
        "colab": {
          "base_uri": "https://localhost:8080/"
        },
        "id": "ToReFiMTWSff",
        "outputId": "3c7fae2b-1c27-40f5-a976-8a4a26a186f4"
      },
      "execution_count": 393,
      "outputs": [
        {
          "output_type": "stream",
          "name": "stdout",
          "text": [
            "{'n_neighbors': 7}\n"
          ]
        }
      ]
    },
    {
      "cell_type": "code",
      "source": [
        "method = 'KNN'\n",
        "knn = KNeighborsClassifier(**clf.best_params_)\n",
        "y_pred_knn = knn.fit(X_train,y_train).predict(X_test)\n",
        "metrics = metrics_collect(method, y_test, y_pred_knn)\n",
        "metrics_df = metrics_df.append(metrics, ignore_index=True)"
      ],
      "metadata": {
        "id": "I-aTsK3Dup4D",
        "colab": {
          "base_uri": "https://localhost:8080/"
        },
        "outputId": "97737ac6-cf63-4496-e8ce-b1797c9f56ac"
      },
      "execution_count": 394,
      "outputs": [
        {
          "output_type": "stream",
          "name": "stderr",
          "text": [
            "<ipython-input-394-059de96c0e67>:5: FutureWarning:\n",
            "\n",
            "The frame.append method is deprecated and will be removed from pandas in a future version. Use pandas.concat instead.\n",
            "\n"
          ]
        }
      ]
    },
    {
      "cell_type": "code",
      "source": [
        "knn.get_params(deep=True)"
      ],
      "metadata": {
        "colab": {
          "base_uri": "https://localhost:8080/"
        },
        "id": "HSi2lgALJ_cl",
        "outputId": "7dbae5f0-74d5-43f5-bcb4-69e49cbda17d"
      },
      "execution_count": 395,
      "outputs": [
        {
          "output_type": "execute_result",
          "data": {
            "text/plain": [
              "{'algorithm': 'auto',\n",
              " 'leaf_size': 30,\n",
              " 'metric': 'minkowski',\n",
              " 'metric_params': None,\n",
              " 'n_jobs': None,\n",
              " 'n_neighbors': 7,\n",
              " 'p': 2,\n",
              " 'weights': 'uniform'}"
            ]
          },
          "metadata": {},
          "execution_count": 395
        }
      ]
    },
    {
      "cell_type": "markdown",
      "source": [
        "## Aplicação do método LDA"
      ],
      "metadata": {
        "id": "ON4stDcTrNMQ"
      }
    },
    {
      "cell_type": "code",
      "source": [
        "from sklearn.discriminant_analysis import LinearDiscriminantAnalysis\n",
        "\n",
        "method = 'LDA'\n",
        "lda = LinearDiscriminantAnalysis()\n",
        "y_pred_lda = lda.fit(X_train,y_train).predict(X_test)\n",
        "metrics = metrics_collect(method, y_test, y_pred_lda)\n",
        "metrics_df = metrics_df.append(metrics, ignore_index=True)"
      ],
      "metadata": {
        "id": "UiwHf6QTE9Qx",
        "colab": {
          "base_uri": "https://localhost:8080/"
        },
        "outputId": "6397f5e7-7734-4f8e-8df0-0d0dd010daa3"
      },
      "execution_count": 396,
      "outputs": [
        {
          "output_type": "stream",
          "name": "stderr",
          "text": [
            "<ipython-input-396-a353e968a87b>:7: FutureWarning:\n",
            "\n",
            "The frame.append method is deprecated and will be removed from pandas in a future version. Use pandas.concat instead.\n",
            "\n"
          ]
        }
      ]
    },
    {
      "cell_type": "code",
      "source": [
        "lda.get_params(deep=True)"
      ],
      "metadata": {
        "colab": {
          "base_uri": "https://localhost:8080/"
        },
        "id": "FygYPw0-KVom",
        "outputId": "1c665fd5-8501-43d5-b4cd-d4a2e6df4b36"
      },
      "execution_count": 397,
      "outputs": [
        {
          "output_type": "execute_result",
          "data": {
            "text/plain": [
              "{'covariance_estimator': None,\n",
              " 'n_components': None,\n",
              " 'priors': None,\n",
              " 'shrinkage': None,\n",
              " 'solver': 'svd',\n",
              " 'store_covariance': False,\n",
              " 'tol': 0.0001}"
            ]
          },
          "metadata": {},
          "execution_count": 397
        }
      ]
    },
    {
      "cell_type": "markdown",
      "source": [
        "## Aplicação do método QDA"
      ],
      "metadata": {
        "id": "8If4PAlorTNg"
      }
    },
    {
      "cell_type": "code",
      "source": [
        "from sklearn.discriminant_analysis import QuadraticDiscriminantAnalysis\n",
        "\n",
        "method = 'QDA'\n",
        "qda = QuadraticDiscriminantAnalysis()\n",
        "y_pred_qda = qda.fit(X_train,y_train).predict(X_test)\n",
        "metrics = metrics_collect(method, y_test, y_pred_qda)\n",
        "metrics_df = metrics_df.append(metrics, ignore_index=True)"
      ],
      "metadata": {
        "colab": {
          "base_uri": "https://localhost:8080/"
        },
        "id": "ONmXK70tIwk0",
        "outputId": "a8272449-e8a1-4793-9024-300ccb3794f3"
      },
      "execution_count": 398,
      "outputs": [
        {
          "output_type": "stream",
          "name": "stderr",
          "text": [
            "<ipython-input-398-02f0d8b16f53>:7: FutureWarning:\n",
            "\n",
            "The frame.append method is deprecated and will be removed from pandas in a future version. Use pandas.concat instead.\n",
            "\n"
          ]
        }
      ]
    },
    {
      "cell_type": "code",
      "source": [
        "qda.get_params(deep=True)"
      ],
      "metadata": {
        "colab": {
          "base_uri": "https://localhost:8080/"
        },
        "id": "gqAjIcKkKirM",
        "outputId": "8a2e03c9-5dc6-4718-9ae9-2432c30f75c3"
      },
      "execution_count": 399,
      "outputs": [
        {
          "output_type": "execute_result",
          "data": {
            "text/plain": [
              "{'priors': None, 'reg_param': 0.0, 'store_covariance': False, 'tol': 0.0001}"
            ]
          },
          "metadata": {},
          "execution_count": 399
        }
      ]
    },
    {
      "cell_type": "markdown",
      "source": [
        "## Aplicação do método SVC"
      ],
      "metadata": {
        "id": "w7qlF1xDrXNg"
      }
    },
    {
      "cell_type": "code",
      "source": [
        "from sklearn.svm import SVC\n",
        "\n",
        "parameters = { 'kernel': ('linear', 'rbf'), 'C': [1,10], 'gamma': ('scale', 'auto') }\n",
        "clf = GridSearchCV(SVC(), parameters, scoring=scoring, cv=cv, n_jobs=n_jobs)\n",
        "clf.fit(X_train,y_train)\n",
        "print(clf.best_params_)"
      ],
      "metadata": {
        "colab": {
          "base_uri": "https://localhost:8080/"
        },
        "id": "DYStx7Y8JyHv",
        "outputId": "67297610-b820-4358-9af3-f7e921839994"
      },
      "execution_count": 400,
      "outputs": [
        {
          "output_type": "stream",
          "name": "stdout",
          "text": [
            "{'C': 10, 'gamma': 'scale', 'kernel': 'linear'}\n"
          ]
        }
      ]
    },
    {
      "cell_type": "code",
      "source": [
        "method = 'SVC'\n",
        "svc = SVC(**clf.best_params_)\n",
        "y_pred_svc = svc.fit(X_train,y_train).predict(X_test)\n",
        "metrics = metrics_collect(method, y_test, y_pred_svc)\n",
        "metrics_df = metrics_df.append(metrics, ignore_index=True)"
      ],
      "metadata": {
        "id": "JZyfjTFQX8AQ",
        "colab": {
          "base_uri": "https://localhost:8080/"
        },
        "outputId": "a9987e1b-8790-4cdc-8340-de2341d36668"
      },
      "execution_count": 401,
      "outputs": [
        {
          "output_type": "stream",
          "name": "stderr",
          "text": [
            "<ipython-input-401-ee01c5c81c75>:5: FutureWarning:\n",
            "\n",
            "The frame.append method is deprecated and will be removed from pandas in a future version. Use pandas.concat instead.\n",
            "\n"
          ]
        }
      ]
    },
    {
      "cell_type": "code",
      "source": [
        "svc.get_params(deep=True)"
      ],
      "metadata": {
        "colab": {
          "base_uri": "https://localhost:8080/"
        },
        "id": "U3cozD2hK0YH",
        "outputId": "8f4577db-1b83-4fba-eddd-94f9fe567746"
      },
      "execution_count": 402,
      "outputs": [
        {
          "output_type": "execute_result",
          "data": {
            "text/plain": [
              "{'C': 10,\n",
              " 'break_ties': False,\n",
              " 'cache_size': 200,\n",
              " 'class_weight': None,\n",
              " 'coef0': 0.0,\n",
              " 'decision_function_shape': 'ovr',\n",
              " 'degree': 3,\n",
              " 'gamma': 'scale',\n",
              " 'kernel': 'linear',\n",
              " 'max_iter': -1,\n",
              " 'probability': False,\n",
              " 'random_state': None,\n",
              " 'shrinking': True,\n",
              " 'tol': 0.001,\n",
              " 'verbose': False}"
            ]
          },
          "metadata": {},
          "execution_count": 402
        }
      ]
    },
    {
      "cell_type": "markdown",
      "source": [
        "## Aplicação do método MLP"
      ],
      "metadata": {
        "id": "ydyhwRcbrdmE"
      }
    },
    {
      "cell_type": "code",
      "source": [
        "from sklearn.neural_network import MLPClassifier\n",
        "\n",
        "# restrição de parâmetros devido a desempenho...\n",
        "parameters = {'solver': ['lbfgs'], 'alpha': [0.0001, 0.0001], 'hidden_layer_sizes': [10,20], 'max_iter': [1000,1500]}\n",
        "clf = GridSearchCV(MLPClassifier(), parameters, scoring=scoring, cv=cv, n_jobs=n_jobs)\n",
        "clf.fit(X_train,y_train)\n",
        "print(clf.best_params_)"
      ],
      "metadata": {
        "id": "IR9NbT_sBq3K"
      },
      "execution_count": null,
      "outputs": []
    },
    {
      "cell_type": "code",
      "source": [
        "method = 'MLP'\n",
        "mlp = MLPClassifier(**clf.best_params_)\n",
        "y_pred_mlp = mlp.fit(X_train,y_train).predict(X_test)\n",
        "metrics = metrics_collect(method, y_test, y_pred_mlp)\n",
        "metrics_df = metrics_df.append(metrics, ignore_index=True)"
      ],
      "metadata": {
        "id": "2DFjEp6isdq0"
      },
      "execution_count": null,
      "outputs": []
    },
    {
      "cell_type": "code",
      "source": [
        "mlp.get_params(deep=True)"
      ],
      "metadata": {
        "id": "s5brotRwLAwd"
      },
      "execution_count": null,
      "outputs": []
    },
    {
      "cell_type": "markdown",
      "source": [
        "## Aplicação do método RFT"
      ],
      "metadata": {
        "id": "bZjfVaMcJ5LF"
      }
    },
    {
      "cell_type": "code",
      "source": [
        "from sklearn.ensemble import RandomForestClassifier\n",
        "\n",
        "parameters = {'n_estimators': [200, 300], 'max_features': ['sqrt', 'log2'], 'max_depth': [None, 10] }\n",
        "clf = GridSearchCV(RandomForestClassifier(), parameters, scoring=scoring, cv=cv, n_jobs=n_jobs)\n",
        "clf.fit(X_train,y_train)\n",
        "print(clf.best_params_)"
      ],
      "metadata": {
        "id": "6-bE9whiK8iC"
      },
      "execution_count": null,
      "outputs": []
    },
    {
      "cell_type": "code",
      "source": [
        "method = 'RFT'\n",
        "rft = RandomForestClassifier(**clf.best_params_)\n",
        "y_pred_rft = rft.fit(X_train,y_train).predict(X_test)\n",
        "metrics = metrics_collect(method, y_test, y_pred_rft)\n",
        "metrics_df = metrics_df.append(metrics, ignore_index=True)"
      ],
      "metadata": {
        "id": "5RfBqkH_J4m1"
      },
      "execution_count": null,
      "outputs": []
    },
    {
      "cell_type": "code",
      "source": [
        "rft.get_params(deep=True)"
      ],
      "metadata": {
        "id": "kBCXYTRuKQRN"
      },
      "execution_count": null,
      "outputs": []
    },
    {
      "cell_type": "markdown",
      "source": [
        "# Avaliações"
      ],
      "metadata": {
        "id": "k-jn98nge2Dh"
      }
    },
    {
      "cell_type": "markdown",
      "source": [
        "## Métricas diversas"
      ],
      "metadata": {
        "id": "AbfnkTt8YYS_"
      }
    },
    {
      "cell_type": "code",
      "source": [
        "import plotly.express as px\n",
        "\n",
        "fig = px.bar(metrics_df, x='method', y=['accuracy', 'precision','recall', 'f1'], barmode='group', text_auto='.2f', title='Metrics by method')\n",
        "fig.show()"
      ],
      "metadata": {
        "id": "TsQ2Up8he5Q7"
      },
      "execution_count": null,
      "outputs": []
    },
    {
      "cell_type": "markdown",
      "source": [
        "## Matriz de Confusão"
      ],
      "metadata": {
        "id": "uF_S3PB-YbyO"
      }
    },
    {
      "cell_type": "code",
      "source": [
        "import matplotlib.pyplot as plt\n",
        "\n",
        "methods = [ ['KNN',  y_pred_knn ],\n",
        "            ['LDA',  y_pred_lda ],\n",
        "            ['QDA',  y_pred_qda ],\n",
        "            ['SVC',  y_pred_svc ],\n",
        "            ['MLP',  y_pred_mlp ],\n",
        "            ['RFT',  y_pred_rft ] ]\n",
        "for method, y_pred in methods:\n",
        "  confusion_matrix_display(y_test, y_pred, options, method, class_names, color_map)"
      ],
      "metadata": {
        "id": "5B-k7wEmwGjV"
      },
      "execution_count": null,
      "outputs": []
    }
  ]
}