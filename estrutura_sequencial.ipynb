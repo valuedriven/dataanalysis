{
  "nbformat": 4,
  "nbformat_minor": 0,
  "metadata": {
    "colab": {
      "provenance": [],
      "authorship_tag": "ABX9TyMs7cvycDGXHTcmAg89x3pV",
      "include_colab_link": true
    },
    "kernelspec": {
      "name": "python3",
      "display_name": "Python 3"
    },
    "language_info": {
      "name": "python"
    }
  },
  "cells": [
    {
      "cell_type": "markdown",
      "metadata": {
        "id": "view-in-github",
        "colab_type": "text"
      },
      "source": [
        "<a href=\"https://colab.research.google.com/github/valuedriven/dataanalysis/blob/master/estrutura_sequencial.ipynb\" target=\"_parent\"><img src=\"https://colab.research.google.com/assets/colab-badge.svg\" alt=\"Open In Colab\"/></a>"
      ]
    },
    {
      "cell_type": "markdown",
      "source": [
        "# Calcular média aritmética"
      ],
      "metadata": {
        "id": "_lcSku1Bd-j8"
      }
    },
    {
      "cell_type": "code",
      "execution_count": null,
      "metadata": {
        "id": "EgkBPyr8bIOB"
      },
      "outputs": [],
      "source": [
        "valor1 = float(input(\"Informe o primeiro valor: \"))\n",
        "valor2 = float(input(\"Informe o segundo valor: \"))\n",
        "media_aritmetica = (valor1 + valor2) / 2 \n",
        "print(\"A média aritmética entre os valores {} e {} é igual a {} \".format(valor1, valor2, media_aritmetica))"
      ]
    },
    {
      "cell_type": "markdown",
      "source": [
        "# Calcular área de círculo"
      ],
      "metadata": {
        "id": "_xcRfAoTeFiY"
      }
    },
    {
      "cell_type": "code",
      "source": [
        "import math\n",
        "raio = float(input(\"Informe o valor do raio: \"))\n",
        "area = math.pi*raio**2\n",
        "print(\"A área do círculo com raio {} é igual a {:.2f}\".format(raio, area))"
      ],
      "metadata": {
        "id": "k0YcIgr1cU8h"
      },
      "execution_count": null,
      "outputs": []
    },
    {
      "cell_type": "markdown",
      "source": [
        "# Calcular a hipotenusa de um triângulo"
      ],
      "metadata": {
        "id": "qyGVmCXBd2TP"
      }
    },
    {
      "cell_type": "code",
      "source": [
        "import math\n",
        "cateto1 = float(input(\"Informe o valor do cateto 1: \"))\n",
        "cateto2 = float(input(\"Informe o valor do cateto 2: \"))\n",
        "hipotenusa = math.sqrt(cateto1**2 + cateto2**2)\n",
        "print(\"A hipotenusa do triângulo com cateto 1 {} e cateto 2 {} é igual a {} \".format(cateto1, cateto2, hipotenusa))"
      ],
      "metadata": {
        "id": "hGs00qRJdCcn"
      },
      "execution_count": null,
      "outputs": []
    },
    {
      "cell_type": "markdown",
      "source": [
        "# Calcular preço atualizado com desconto de 10%"
      ],
      "metadata": {
        "id": "YFL9Lq4deX5l"
      }
    },
    {
      "cell_type": "code",
      "source": [
        "preco_original = float(input(\"Informe o preço atual: \"))\n",
        "preco_atualizado = preco_original*.9\n",
        "print(\"O preço atualizado para o preço original de {} é igual a {}\".format(preco_original, preco_atualizado))"
      ],
      "metadata": {
        "id": "OhqXt4VEeatZ"
      },
      "execution_count": null,
      "outputs": []
    },
    {
      "cell_type": "markdown",
      "source": [
        "# Calcular total de salários minimos de um funcionário"
      ],
      "metadata": {
        "id": "1EscYrPXfM-3"
      }
    },
    {
      "cell_type": "code",
      "source": [
        "salario_minimo = float(input(\"Informe o valor do salário mínimo: \"))\n",
        "salario_funcionario = float(input(\"Informe o valor do salário do funcionário: \"))\n",
        "total_salarios_minimos = salario_funcionario / salario_minimo\n",
        "print(\"O total de salários mínimos para um funcionário que recebe {} é igual a {}\".format(salario_funcionario, total_salarios_minimos))\n"
      ],
      "metadata": {
        "id": "1kTh10a8fQSz"
      },
      "execution_count": null,
      "outputs": []
    }
  ]
}