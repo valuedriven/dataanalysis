{
  "nbformat": 4,
  "nbformat_minor": 0,
  "metadata": {
    "colab": {
      "provenance": [],
      "authorship_tag": "ABX9TyNLcKfIy2lXII7t06w7HQms",
      "include_colab_link": true
    },
    "kernelspec": {
      "name": "python3",
      "display_name": "Python 3"
    },
    "language_info": {
      "name": "python"
    }
  },
  "cells": [
    {
      "cell_type": "markdown",
      "metadata": {
        "id": "view-in-github",
        "colab_type": "text"
      },
      "source": [
        "<a href=\"https://colab.research.google.com/github/valuedriven/dataanalysis/blob/master/estrutura_sequencial.ipynb\" target=\"_parent\"><img src=\"https://colab.research.google.com/assets/colab-badge.svg\" alt=\"Open In Colab\"/></a>"
      ]
    },
    {
      "cell_type": "code",
      "execution_count": null,
      "metadata": {
        "id": "EgkBPyr8bIOB"
      },
      "outputs": [],
      "source": [
        "# calcula média aritmética\n",
        "\n",
        "valor1 = float(input(\"Informe o primeiro valor: \"))\n",
        "valor2 = float(input(\"Informe o segundo valor: \"))\n",
        "media_aritmetica = (valor1 + valor2) / 2 \n",
        "print(\"A média aritmética entre os valores {} e {} é igual a {} \".format(valor1, valor2, media_aritmetica))"
      ]
    },
    {
      "cell_type": "code",
      "source": [
        "# calcula área de círculo\n",
        "\n",
        "import math\n",
        "raio = float(input(\"Informe o valor do raio: \"))\n",
        "area = math.pi*raio**2\n",
        "print(\"A área do círculo com raio {} é igual a {:.2f}\".format(raio, area))"
      ],
      "metadata": {
        "id": "k0YcIgr1cU8h"
      },
      "execution_count": null,
      "outputs": []
    },
    {
      "cell_type": "code",
      "source": [
        "# calcula a hipotenusa\n",
        "\n",
        "import math\n",
        "cateto1 = float(input(\"Informe o valor do cateto 1: \"))\n",
        "cateto2 = float(input(\"Informe o valor do cateto 2: \"))\n",
        "hipotenusa = math.sqrt(cateto1**2 + cateto2**2)\n",
        "print(\"A hipotenusa do triângulo com cateto 1 {} e cateto 2 {} é igual a {} \".format(cateto1, cateto2, hipotenusa))"
      ],
      "metadata": {
        "id": "hGs00qRJdCcn"
      },
      "execution_count": null,
      "outputs": []
    }
  ]
}