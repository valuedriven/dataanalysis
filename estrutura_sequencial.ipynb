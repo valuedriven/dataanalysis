{
  "nbformat": 4,
  "nbformat_minor": 0,
  "metadata": {
    "colab": {
      "provenance": [],
      "authorship_tag": "ABX9TyPTlYyp/Y0s2uir5iu7mTXg",
      "include_colab_link": true
    },
    "kernelspec": {
      "name": "python3",
      "display_name": "Python 3"
    },
    "language_info": {
      "name": "python"
    }
  },
  "cells": [
    {
      "cell_type": "markdown",
      "metadata": {
        "id": "view-in-github",
        "colab_type": "text"
      },
      "source": [
        "<a href=\"https://colab.research.google.com/github/valuedriven/dataanalysis/blob/master/estrutura_sequencial.ipynb\" target=\"_parent\"><img src=\"https://colab.research.google.com/assets/colab-badge.svg\" alt=\"Open In Colab\"/></a>"
      ]
    },
    {
      "cell_type": "code",
      "execution_count": null,
      "metadata": {
        "id": "EgkBPyr8bIOB"
      },
      "outputs": [],
      "source": [
        "# calcula média aritmética\n",
        "\n",
        "valor1 = float(input(\"Informe o primeiro valor: \"))\n",
        "valor2 = float(input(\"Informe o segundo valor: \"))\n",
        "media_aritmetica = (valor1 + valor2) / 2 \n",
        "print(\"A média aritmética entre os valores {} e {} é igual a {} \".format(valor1, valor2, media_aritmetica))"
      ]
    }
  ]
}