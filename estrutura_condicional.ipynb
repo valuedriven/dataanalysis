{
  "nbformat": 4,
  "nbformat_minor": 0,
  "metadata": {
    "colab": {
      "provenance": [],
      "authorship_tag": "ABX9TyMP3lozWwh6OSfp9GbwN+kV",
      "include_colab_link": true
    },
    "kernelspec": {
      "name": "python3",
      "display_name": "Python 3"
    },
    "language_info": {
      "name": "python"
    }
  },
  "cells": [
    {
      "cell_type": "markdown",
      "metadata": {
        "id": "view-in-github",
        "colab_type": "text"
      },
      "source": [
        "<a href=\"https://colab.research.google.com/github/valuedriven/dataanalysis/blob/master/estrutura_condicional.ipynb\" target=\"_parent\"><img src=\"https://colab.research.google.com/assets/colab-badge.svg\" alt=\"Open In Colab\"/></a>"
      ]
    },
    {
      "cell_type": "markdown",
      "source": [
        "# Imprimir valor se soma de dois números for maior que 10"
      ],
      "metadata": {
        "id": "7oYDudlfj6en"
      }
    },
    {
      "cell_type": "code",
      "source": [
        "valor1 = float(input(\"Informe o primeiro valor: \"))\n",
        "valor2 = float(input(\"Informe o segundo valor: \"))\n",
        "soma = valor1 + valor2\n",
        "if soma > 10:\n",
        "    print(\"A soma de {} e {} é {} - maior que 10\".format(valor1, valor2, soma))\n"
      ],
      "metadata": {
        "id": "oU5SR3UrhObm"
      },
      "execution_count": null,
      "outputs": []
    },
    {
      "cell_type": "markdown",
      "source": [
        "# Imprimir se número for par ou ímpar"
      ],
      "metadata": {
        "id": "kNRtOHmAiMby"
      }
    },
    {
      "cell_type": "code",
      "source": [
        "valor = int(input(\"Informe o valor: \"))\n",
        "resto = valor % 2\n",
        "if resto  == 0:\n",
        "    print(\"O valor {} informado é par\".format(valor))\n",
        "else:\n",
        "   print(\"O valor {} informado é ímpar\".format(valor))"
      ],
      "metadata": {
        "id": "by2y-OSBiQ8K"
      },
      "execution_count": null,
      "outputs": []
    },
    {
      "cell_type": "markdown",
      "source": [
        "# Imprimir \"bom dia\" ou \"boa tarde\""
      ],
      "metadata": {
        "id": "QyPoGdf4jNzr"
      }
    },
    {
      "cell_type": "code",
      "source": [
        "hora = int(input(\"Informe a hora: \"))\n",
        "if hora < 12:\n",
        "  print(\"Bom dia!\")\n",
        "else:\n",
        "  print(\"Boa tarde!\")\n"
      ],
      "metadata": {
        "id": "JKiH9syCjXj6"
      },
      "execution_count": null,
      "outputs": []
    },
    {
      "cell_type": "markdown",
      "source": [
        "# Calcular área do círculo"
      ],
      "metadata": {
        "id": "IncTjrHlks5c"
      }
    },
    {
      "cell_type": "code",
      "source": [
        "import math\n",
        "raio = float(input(\"Informe o valor do raio: \"))\n",
        "if raio > 0:\n",
        "  area = math.pi*raio**2\n",
        "  print(\"A área do círculo com raio {} é igual a {:.2f}\".format(raio, area))\n",
        "else:\n",
        "  print(\"Valor inválido de raio: {}\".format(raio))"
      ],
      "metadata": {
        "id": "1xKOEcelkwJH"
      },
      "execution_count": null,
      "outputs": []
    },
    {
      "cell_type": "markdown",
      "source": [
        "# Calcular bônus"
      ],
      "metadata": {
        "id": "uw54mNO-lZhK"
      }
    },
    {
      "cell_type": "code",
      "source": [
        "salario = float(input(\"Informe o salário: \"))\n",
        "tempo_empresa  = float(input(\"Informe o tempo de empresa: \"))\n",
        "if tempo_empresa >= 5:\n",
        "  percentual_bonus = 0.2\n",
        "else:\n",
        "  percentual_bonus = 0.1\n",
        "bonus = salario*percentual_bonus\n",
        "print(\"Salário {}. Tempo de empresa {}. Bônus: {}\".format(salario, tempo_empresa, bonus))"
      ],
      "metadata": {
        "id": "6_YQzyPzldR2"
      },
      "execution_count": null,
      "outputs": []
    }
  ]
}