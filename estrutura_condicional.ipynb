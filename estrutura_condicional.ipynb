{
  "nbformat": 4,
  "nbformat_minor": 0,
  "metadata": {
    "colab": {
      "provenance": [],
      "authorship_tag": "ABX9TyOs3PbWUtrOqCZP4UEARCH5",
      "include_colab_link": true
    },
    "kernelspec": {
      "name": "python3",
      "display_name": "Python 3"
    },
    "language_info": {
      "name": "python"
    }
  },
  "cells": [
    {
      "cell_type": "markdown",
      "metadata": {
        "id": "view-in-github",
        "colab_type": "text"
      },
      "source": [
        "<a href=\"https://colab.research.google.com/github/valuedriven/dataanalysis/blob/master/estrutura_condicional.ipynb\" target=\"_parent\"><img src=\"https://colab.research.google.com/assets/colab-badge.svg\" alt=\"Open In Colab\"/></a>"
      ]
    },
    {
      "cell_type": "code",
      "execution_count": null,
      "metadata": {
        "id": "p4BpAIRGgB9Z"
      },
      "outputs": [],
      "source": [
        "# Imprimir valor se soma de dois números for maior que 10"
      ]
    },
    {
      "cell_type": "code",
      "source": [
        "valor1 = float(input(\"Informe o primeiro valor: \"))\n",
        "valor2 = float(input(\"Informe o segundo valor: \"))\n",
        "soma = valor1 + valor2\n",
        "if soma > 10:\n",
        "    print(\"A soma de {} e {} é {} - maior que 10\".format(valor1, valor2, soma))\n"
      ],
      "metadata": {
        "id": "oU5SR3UrhObm"
      },
      "execution_count": null,
      "outputs": []
    },
    {
      "cell_type": "markdown",
      "source": [
        "# Imprimir se número for par"
      ],
      "metadata": {
        "id": "kNRtOHmAiMby"
      }
    },
    {
      "cell_type": "code",
      "source": [
        "valor = int(input(\"Informe o valor: \"))\n",
        "resto = valor % 2\n",
        "if resto  == 0:\n",
        "    print(\"O valor {} informado é par\".format(valor))"
      ],
      "metadata": {
        "id": "by2y-OSBiQ8K"
      },
      "execution_count": null,
      "outputs": []
    }
  ]
}