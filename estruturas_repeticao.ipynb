{
  "nbformat": 4,
  "nbformat_minor": 0,
  "metadata": {
    "colab": {
      "provenance": [],
      "collapsed_sections": [],
      "authorship_tag": "ABX9TyMHKqc4hKv6OvwHNfNCW3ma",
      "include_colab_link": true
    },
    "kernelspec": {
      "name": "python3",
      "display_name": "Python 3"
    },
    "language_info": {
      "name": "python"
    }
  },
  "cells": [
    {
      "cell_type": "markdown",
      "metadata": {
        "id": "view-in-github",
        "colab_type": "text"
      },
      "source": [
        "<a href=\"https://colab.research.google.com/github/valuedriven/dataanalysis/blob/master/estruturas_repeticao.ipynb\" target=\"_parent\"><img src=\"https://colab.research.google.com/assets/colab-badge.svg\" alt=\"Open In Colab\"/></a>"
      ]
    },
    {
      "cell_type": "code",
      "execution_count": null,
      "metadata": {
        "id": "cHokCXDkxjb4"
      },
      "outputs": [],
      "source": []
    },
    {
      "cell_type": "markdown",
      "source": [
        "# Fibonacci"
      ],
      "metadata": {
        "id": "LYBvZeS1xprB"
      }
    },
    {
      "cell_type": "code",
      "source": [
        "termo1 = 1\n",
        "termo2 = 1\n",
        "iteracoes = int(input(\"Informe o número de iteracoes:\"))\n",
        "for contador in range(iteracoes):\n",
        "    print(\"termo {} valor {}\".format(contador+1, termo1))\n",
        "    iteracoes += 1\n",
        "    temp = termo2   \n",
        "    termo2 = termo2+ termo1\n",
        "    termo1 = temp\n",
        "    "
      ],
      "metadata": {
        "id": "rqEtDfGkxrgC"
      },
      "execution_count": null,
      "outputs": []
    }
  ]
}