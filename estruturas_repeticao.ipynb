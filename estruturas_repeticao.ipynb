{
  "nbformat": 4,
  "nbformat_minor": 0,
  "metadata": {
    "colab": {
      "provenance": [],
      "collapsed_sections": [],
      "authorship_tag": "ABX9TyNNr5jZbFDwVJzYnea2qA/S",
      "include_colab_link": true
    },
    "kernelspec": {
      "name": "python3",
      "display_name": "Python 3"
    },
    "language_info": {
      "name": "python"
    }
  },
  "cells": [
    {
      "cell_type": "markdown",
      "metadata": {
        "id": "view-in-github",
        "colab_type": "text"
      },
      "source": [
        "<a href=\"https://colab.research.google.com/github/valuedriven/dataanalysis/blob/master/estruturas_repeticao.ipynb\" target=\"_parent\"><img src=\"https://colab.research.google.com/assets/colab-badge.svg\" alt=\"Open In Colab\"/></a>"
      ]
    },
    {
      "cell_type": "markdown",
      "source": [
        "# Fibonacci"
      ],
      "metadata": {
        "id": "LYBvZeS1xprB"
      }
    },
    {
      "cell_type": "code",
      "source": [
        "penultimo = 1\n",
        "ultimo = 1\n",
        "iteracoes = int(input(\"Informe o número de iteracoes:\"))\n",
        "for contador in range(iteracoes):\n",
        "    print(\"termo {} - valor {}\".format(contador+1, penultimo))\n",
        "    iteracoes += 1\n",
        "    temp = ultimo   \n",
        "    ultimo = ultimo + penultimo\n",
        "    penultimo = temp\n",
        "    "
      ],
      "metadata": {
        "id": "rqEtDfGkxrgC"
      },
      "execution_count": null,
      "outputs": []
    },
    {
      "cell_type": "markdown",
      "source": [
        "# Divisíveis por 4"
      ],
      "metadata": {
        "id": "hliQ_hrSCZDv"
      }
    },
    {
      "cell_type": "code",
      "source": [
        "limite_inferior = int(input(\"Informe o limite inferior:\"))\n",
        "limite_superior = int(input(\"Informe o limite superior:\"))\n",
        "for contador in range(limite_inferior, limite_superior):\n",
        "  if contador % 4 == 0:\n",
        "    print(\"Número {} é divisível por 4\".format(contador))   "
      ],
      "metadata": {
        "id": "_-6TMTEuCbTH"
      },
      "execution_count": null,
      "outputs": []
    }
  ]
}