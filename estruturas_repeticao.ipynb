{
  "nbformat": 4,
  "nbformat_minor": 0,
  "metadata": {
    "colab": {
      "provenance": [],
      "collapsed_sections": [],
      "authorship_tag": "ABX9TyMckKciIwPDWwIUqcakGIJt",
      "include_colab_link": true
    },
    "kernelspec": {
      "name": "python3",
      "display_name": "Python 3"
    },
    "language_info": {
      "name": "python"
    }
  },
  "cells": [
    {
      "cell_type": "markdown",
      "metadata": {
        "id": "view-in-github",
        "colab_type": "text"
      },
      "source": [
        "<a href=\"https://colab.research.google.com/github/valuedriven/dataanalysis/blob/master/estruturas_repeticao.ipynb\" target=\"_parent\"><img src=\"https://colab.research.google.com/assets/colab-badge.svg\" alt=\"Open In Colab\"/></a>"
      ]
    },
    {
      "cell_type": "code",
      "execution_count": null,
      "metadata": {
        "id": "cHokCXDkxjb4"
      },
      "outputs": [],
      "source": []
    },
    {
      "cell_type": "markdown",
      "source": [
        "# Fibonacci"
      ],
      "metadata": {
        "id": "LYBvZeS1xprB"
      }
    },
    {
      "cell_type": "code",
      "source": [
        "termo1 = 1\n",
        "termo2 = 1\n",
        "iteracoes = int(input(\"Informe o número de iteracoes:\"))\n",
        "for contador in range(iteracoes):\n",
        "    print(\"termo {} valor {}\".format(contador+1, termo1))\n",
        "    iteracoes += 1\n",
        "    temp = termo2    \n",
        "    termo2 = termo2+ termo1\n",
        "    termo1 = temp\n",
        "    "
      ],
      "metadata": {
        "colab": {
          "base_uri": "https://localhost:8080/"
        },
        "id": "rqEtDfGkxrgC",
        "outputId": "bb43658c-0f79-41d4-a19e-06772d23b6eb"
      },
      "execution_count": 24,
      "outputs": [
        {
          "output_type": "stream",
          "name": "stdout",
          "text": [
            "Informe o número de iteracoes:20\n",
            "termo 1 valor 1\n",
            "termo 2 valor 1\n",
            "termo 3 valor 2\n",
            "termo 4 valor 3\n",
            "termo 5 valor 5\n",
            "termo 6 valor 8\n",
            "termo 7 valor 13\n",
            "termo 8 valor 21\n",
            "termo 9 valor 34\n",
            "termo 10 valor 55\n",
            "termo 11 valor 89\n",
            "termo 12 valor 144\n",
            "termo 13 valor 233\n",
            "termo 14 valor 377\n",
            "termo 15 valor 610\n",
            "termo 16 valor 987\n",
            "termo 17 valor 1597\n",
            "termo 18 valor 2584\n",
            "termo 19 valor 4181\n",
            "termo 20 valor 6765\n"
          ]
        }
      ]
    }
  ]
}