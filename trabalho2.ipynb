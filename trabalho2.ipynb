{
  "cells": [
    {
      "cell_type": "markdown",
      "metadata": {
        "id": "view-in-github",
        "colab_type": "text"
      },
      "source": [
        "<a href=\"https://colab.research.google.com/github/valuedriven/dataanalysis/blob/master/trabalho2.ipynb\" target=\"_parent\"><img src=\"https://colab.research.google.com/assets/colab-badge.svg\" alt=\"Open In Colab\"/></a>"
      ]
    },
    {
      "cell_type": "markdown",
      "metadata": {
        "id": "P2SoO-75clcO"
      },
      "source": [
        "## Trabalho 2\n",
        "\n",
        "As Eleições brasileiras foram marcadas por muitos ataques às urnas eletrônicas e até hoje muitas pessoas não confiam nos resultados das urnas. No entanto, o processo eleitoral brasileiro pode ser considerado o mais moderno do mundo e os resultados são auditáveis e bastante transparentes. Prova disso é a disponibilização dos dados das eleições no site do TSE, os quais podem ser acessados e explorados pelos cientistas de dados para extrair as informações que são de seus interesses.\n",
        "\n",
        "O Arquivo votacao_secao_2022_RR.csv contém os resultados da eleição estadual no primeiro turno no estado de Roraima. Responda às questões a seguir, que se referem a esses resultados, usando comandos em Python.\n",
        "\n",
        "1. Abra o arquivo votacao_secao_2022_RR.csv em um Dataframe sabendo que o separador das colunas é o ;\n",
        "2. Determine quantas seções eleitorais existem no estado de RR.\n",
        "3. Determine qual candidato a governador recebeu mais votos em uma seção e quantos foram esses votos.\n",
        "4. Determine quantos candidatos concorreram a deputado federal.\n",
        "5. Crie um novo DataFrame apenas com os nomes dos candidatos a senador e a quantidade de votos que cada um obteve.\n",
        "6. Salve esse DataFrame em um arquivo csv.\n",
        "7. Determine qual foi o senador eleito.\n",
        "8. Faça um gráfico mostrando os candidatos a senador e os votos em branco e nulos no eixo X e a votação que cada um deles obteve no eixo y. Seu gráfico deve ser de linha ligado por ponto e conter grade no fundo. Seu gráfico deve ter título, legenda, título para o eixo X e título para o eixo Y.\n",
        "9. Faça um gráfico de pizza mostrando a porcentagem de votos válidos que cada candidato ao senado obteve.\n",
        "10. Determine quantos candidatos a deputado estadual obtiveram menos de 10 votos."
      ]
    },
    {
      "cell_type": "markdown",
      "source": [
        "Obtenção do arquivo."
      ],
      "metadata": {
        "id": "Wktpaa9sLzlp"
      }
    },
    {
      "cell_type": "code",
      "source": [
        "arquivo_origem = \"votacao_secao_2022_RR.zip\"\n",
        "!wget -U \"Mozilla\" -O arquivo_origem https://github.com/valuedriven/dataanalysis/raw/master/votacao_secao_2022_RR.zip\n",
        "!unzip -o arquivo_origem\n"
      ],
      "metadata": {
        "colab": {
          "base_uri": "https://localhost:8080/"
        },
        "id": "X2E0V4BpKTe-",
        "outputId": "acfdff55-da77-498b-da95-48eb8876cbb1"
      },
      "execution_count": 55,
      "outputs": [
        {
          "output_type": "stream",
          "name": "stdout",
          "text": [
            "--2022-11-15 13:17:08--  https://github.com/valuedriven/dataanalysis/raw/master/votacao_secao_2022_RR.zip\n",
            "Resolving github.com (github.com)... 140.82.113.4\n",
            "Connecting to github.com (github.com)|140.82.113.4|:443... connected.\n",
            "HTTP request sent, awaiting response... 302 Found\n",
            "Location: https://raw.githubusercontent.com/valuedriven/dataanalysis/master/votacao_secao_2022_RR.zip [following]\n",
            "--2022-11-15 13:17:09--  https://raw.githubusercontent.com/valuedriven/dataanalysis/master/votacao_secao_2022_RR.zip\n",
            "Resolving raw.githubusercontent.com (raw.githubusercontent.com)... 185.199.108.133, 185.199.109.133, 185.199.110.133, ...\n",
            "Connecting to raw.githubusercontent.com (raw.githubusercontent.com)|185.199.108.133|:443... connected.\n",
            "HTTP request sent, awaiting response... 200 OK\n",
            "Length: 6018733 (5.7M) [application/zip]\n",
            "Saving to: ‘arquivo_origem’\n",
            "\n",
            "arquivo_origem      100%[===================>]   5.74M  --.-KB/s    in 0.05s   \n",
            "\n",
            "2022-11-15 13:17:09 (111 MB/s) - ‘arquivo_origem’ saved [6018733/6018733]\n",
            "\n",
            "Archive:  arquivo_origem\n",
            "  inflating: votacao_secao_2022_RR.csv  \n"
          ]
        }
      ]
    },
    {
      "cell_type": "markdown",
      "source": [
        "*1*. Abra o arquivo votacao_secao_2022_RR.csv em um Dataframe sabendo que o separador das colunas é o ;"
      ],
      "metadata": {
        "id": "OumviMzjcxOY"
      }
    },
    {
      "cell_type": "code",
      "source": [
        "import pandas as pd\n",
        "df = pd.read_csv(\"votacao_secao_2022_RR.csv\", sep=';')\n"
      ],
      "metadata": {
        "id": "AEUVgc7dem0W"
      },
      "execution_count": null,
      "outputs": []
    },
    {
      "cell_type": "markdown",
      "source": [
        "2. Determine quantas seções eleitorais existem no estado de RR."
      ],
      "metadata": {
        "id": "SDecihMMg8gK"
      }
    },
    {
      "cell_type": "code",
      "execution_count": 48,
      "metadata": {
        "colab": {
          "base_uri": "https://localhost:8080/"
        },
        "id": "_9_hYkp0clcV",
        "outputId": "280b0e95-45be-491a-e484-7ca59ad3b986"
      },
      "outputs": [
        {
          "output_type": "execute_result",
          "data": {
            "text/plain": [
              "1268"
            ]
          },
          "metadata": {},
          "execution_count": 48
        }
      ],
      "source": [
        "df.groupby('NR_ZONA')[\"NR_SECAO\"].nunique().sum()"
      ]
    },
    {
      "cell_type": "markdown",
      "source": [
        "3. Determine qual candidato a governador recebeu mais votos em uma seção e quantos foram esses votos.\n"
      ],
      "metadata": {
        "id": "QKLLp0YrkL9n"
      }
    },
    {
      "cell_type": "code",
      "source": [
        "# zona = int(input(\"Informe a zona: \"))\n",
        "# secao = int(input(\"Informe a seção: \"))\n",
        "zona = 1\n",
        "secao = 610\n",
        "index = df[(df[\"NR_ZONA\"] == zona) & (df[\"NR_SECAO\"] == secao) & (df[\"DS_CARGO\"] == 'GOVERNADOR') ][['NM_VOTAVEL','QT_VOTOS']][\"QT_VOTOS\"].idxmax()\n",
        "df.iloc[[index]][['NM_VOTAVEL', 'QT_VOTOS']]"
      ],
      "metadata": {
        "colab": {
          "base_uri": "https://localhost:8080/",
          "height": 81
        },
        "id": "qHsUliipkQdL",
        "outputId": "bca085d7-e33a-4a66-9349-2512e0fe92d5"
      },
      "execution_count": 49,
      "outputs": [
        {
          "output_type": "execute_result",
          "data": {
            "text/plain": [
              "                                 NM_VOTAVEL  QT_VOTOS\n",
              "158480  MARIA TERESA SAENZ SURITA GUIMARÂES       100"
            ],
            "text/html": [
              "\n",
              "  <div id=\"df-d8a498af-9608-4e4c-9d23-fdad5153d2e8\">\n",
              "    <div class=\"colab-df-container\">\n",
              "      <div>\n",
              "<style scoped>\n",
              "    .dataframe tbody tr th:only-of-type {\n",
              "        vertical-align: middle;\n",
              "    }\n",
              "\n",
              "    .dataframe tbody tr th {\n",
              "        vertical-align: top;\n",
              "    }\n",
              "\n",
              "    .dataframe thead th {\n",
              "        text-align: right;\n",
              "    }\n",
              "</style>\n",
              "<table border=\"1\" class=\"dataframe\">\n",
              "  <thead>\n",
              "    <tr style=\"text-align: right;\">\n",
              "      <th></th>\n",
              "      <th>NM_VOTAVEL</th>\n",
              "      <th>QT_VOTOS</th>\n",
              "    </tr>\n",
              "  </thead>\n",
              "  <tbody>\n",
              "    <tr>\n",
              "      <th>158480</th>\n",
              "      <td>MARIA TERESA SAENZ SURITA GUIMARÂES</td>\n",
              "      <td>100</td>\n",
              "    </tr>\n",
              "  </tbody>\n",
              "</table>\n",
              "</div>\n",
              "      <button class=\"colab-df-convert\" onclick=\"convertToInteractive('df-d8a498af-9608-4e4c-9d23-fdad5153d2e8')\"\n",
              "              title=\"Convert this dataframe to an interactive table.\"\n",
              "              style=\"display:none;\">\n",
              "        \n",
              "  <svg xmlns=\"http://www.w3.org/2000/svg\" height=\"24px\"viewBox=\"0 0 24 24\"\n",
              "       width=\"24px\">\n",
              "    <path d=\"M0 0h24v24H0V0z\" fill=\"none\"/>\n",
              "    <path d=\"M18.56 5.44l.94 2.06.94-2.06 2.06-.94-2.06-.94-.94-2.06-.94 2.06-2.06.94zm-11 1L8.5 8.5l.94-2.06 2.06-.94-2.06-.94L8.5 2.5l-.94 2.06-2.06.94zm10 10l.94 2.06.94-2.06 2.06-.94-2.06-.94-.94-2.06-.94 2.06-2.06.94z\"/><path d=\"M17.41 7.96l-1.37-1.37c-.4-.4-.92-.59-1.43-.59-.52 0-1.04.2-1.43.59L10.3 9.45l-7.72 7.72c-.78.78-.78 2.05 0 2.83L4 21.41c.39.39.9.59 1.41.59.51 0 1.02-.2 1.41-.59l7.78-7.78 2.81-2.81c.8-.78.8-2.07 0-2.86zM5.41 20L4 18.59l7.72-7.72 1.47 1.35L5.41 20z\"/>\n",
              "  </svg>\n",
              "      </button>\n",
              "      \n",
              "  <style>\n",
              "    .colab-df-container {\n",
              "      display:flex;\n",
              "      flex-wrap:wrap;\n",
              "      gap: 12px;\n",
              "    }\n",
              "\n",
              "    .colab-df-convert {\n",
              "      background-color: #E8F0FE;\n",
              "      border: none;\n",
              "      border-radius: 50%;\n",
              "      cursor: pointer;\n",
              "      display: none;\n",
              "      fill: #1967D2;\n",
              "      height: 32px;\n",
              "      padding: 0 0 0 0;\n",
              "      width: 32px;\n",
              "    }\n",
              "\n",
              "    .colab-df-convert:hover {\n",
              "      background-color: #E2EBFA;\n",
              "      box-shadow: 0px 1px 2px rgba(60, 64, 67, 0.3), 0px 1px 3px 1px rgba(60, 64, 67, 0.15);\n",
              "      fill: #174EA6;\n",
              "    }\n",
              "\n",
              "    [theme=dark] .colab-df-convert {\n",
              "      background-color: #3B4455;\n",
              "      fill: #D2E3FC;\n",
              "    }\n",
              "\n",
              "    [theme=dark] .colab-df-convert:hover {\n",
              "      background-color: #434B5C;\n",
              "      box-shadow: 0px 1px 3px 1px rgba(0, 0, 0, 0.15);\n",
              "      filter: drop-shadow(0px 1px 2px rgba(0, 0, 0, 0.3));\n",
              "      fill: #FFFFFF;\n",
              "    }\n",
              "  </style>\n",
              "\n",
              "      <script>\n",
              "        const buttonEl =\n",
              "          document.querySelector('#df-d8a498af-9608-4e4c-9d23-fdad5153d2e8 button.colab-df-convert');\n",
              "        buttonEl.style.display =\n",
              "          google.colab.kernel.accessAllowed ? 'block' : 'none';\n",
              "\n",
              "        async function convertToInteractive(key) {\n",
              "          const element = document.querySelector('#df-d8a498af-9608-4e4c-9d23-fdad5153d2e8');\n",
              "          const dataTable =\n",
              "            await google.colab.kernel.invokeFunction('convertToInteractive',\n",
              "                                                     [key], {});\n",
              "          if (!dataTable) return;\n",
              "\n",
              "          const docLinkHtml = 'Like what you see? Visit the ' +\n",
              "            '<a target=\"_blank\" href=https://colab.research.google.com/notebooks/data_table.ipynb>data table notebook</a>'\n",
              "            + ' to learn more about interactive tables.';\n",
              "          element.innerHTML = '';\n",
              "          dataTable['output_type'] = 'display_data';\n",
              "          await google.colab.output.renderOutput(dataTable, element);\n",
              "          const docLink = document.createElement('div');\n",
              "          docLink.innerHTML = docLinkHtml;\n",
              "          element.appendChild(docLink);\n",
              "        }\n",
              "      </script>\n",
              "    </div>\n",
              "  </div>\n",
              "  "
            ]
          },
          "metadata": {},
          "execution_count": 49
        }
      ]
    },
    {
      "cell_type": "markdown",
      "source": [
        "4. Determine quantos candidatos concorreram a deputado federal.\n"
      ],
      "metadata": {
        "id": "N236yQkT6aBe"
      }
    },
    {
      "cell_type": "code",
      "source": [
        "# Observação: foram incluídos os votos em partidos. Além disso, são considerados apenas os candidatos com votos.\n",
        "\n",
        "lista_deputados = df[(df[\"DS_CARGO\"] == 'DEPUTADO FEDERAL')]['NM_VOTAVEL'].drop_duplicates()\n",
        "len(lista_deputados)\n"
      ],
      "metadata": {
        "colab": {
          "base_uri": "https://localhost:8080/"
        },
        "id": "rCcV1uxJ6bg9",
        "outputId": "b9f3411d-ae6a-4c73-e094-01098ddee0cf"
      },
      "execution_count": 101,
      "outputs": [
        {
          "output_type": "execute_result",
          "data": {
            "text/plain": [
              "183"
            ]
          },
          "metadata": {},
          "execution_count": 101
        }
      ]
    },
    {
      "cell_type": "markdown",
      "source": [
        "5. Crie um novo DataFrame apenas com os nomes dos candidatos a senador e a quantidade de votos que cada um obteve.\n"
      ],
      "metadata": {
        "id": "EthoJH_p6b3l"
      }
    },
    {
      "cell_type": "code",
      "source": [
        "lista_senadores = df[(df[\"DS_CARGO\"] == 'SENADOR')]\n",
        "df_senadores = lista_senadores.groupby('NM_VOTAVEL')['QT_VOTOS'].sum().reset_index()\n",
        "df_senadores"
      ],
      "metadata": {
        "id": "gRqeuuFN6dM6",
        "colab": {
          "base_uri": "https://localhost:8080/",
          "height": 394
        },
        "outputId": "4cc33a87-8460-4846-bed6-ad4fcf1dc492"
      },
      "execution_count": 118,
      "outputs": [
        {
          "output_type": "execute_result",
          "data": {
            "text/plain": [
              "                         NM_VOTAVEL  QT_VOTOS\n",
              "0         BARTOLOMEU DA SILVA TOMAZ     11171\n",
              "1              HELDER GIRÃO BARRETO     25554\n",
              "2   HIRAN MANUEL GONÇALVES DA SILVA    118760\n",
              "3            ILDERSON PEREIRA SILVA      5542\n",
              "4          IRAN DE OLIVEIRA MARINHO      2822\n",
              "5           MAURÍCIO COSTA DA SILVA      1052\n",
              "6        OZEAS COSTA COLARES JUNIOR      5393\n",
              "7                 ROMERO JUCÁ FILHO     91431\n",
              "8         TELMARIO MOTA DE OLIVEIRA     19609\n",
              "9                       VOTO BRANCO     10203\n",
              "10                        VOTO NULO     12782"
            ],
            "text/html": [
              "\n",
              "  <div id=\"df-bd4f7196-7c47-44c1-98ed-a8629f9b36f9\">\n",
              "    <div class=\"colab-df-container\">\n",
              "      <div>\n",
              "<style scoped>\n",
              "    .dataframe tbody tr th:only-of-type {\n",
              "        vertical-align: middle;\n",
              "    }\n",
              "\n",
              "    .dataframe tbody tr th {\n",
              "        vertical-align: top;\n",
              "    }\n",
              "\n",
              "    .dataframe thead th {\n",
              "        text-align: right;\n",
              "    }\n",
              "</style>\n",
              "<table border=\"1\" class=\"dataframe\">\n",
              "  <thead>\n",
              "    <tr style=\"text-align: right;\">\n",
              "      <th></th>\n",
              "      <th>NM_VOTAVEL</th>\n",
              "      <th>QT_VOTOS</th>\n",
              "    </tr>\n",
              "  </thead>\n",
              "  <tbody>\n",
              "    <tr>\n",
              "      <th>0</th>\n",
              "      <td>BARTOLOMEU DA SILVA TOMAZ</td>\n",
              "      <td>11171</td>\n",
              "    </tr>\n",
              "    <tr>\n",
              "      <th>1</th>\n",
              "      <td>HELDER GIRÃO BARRETO</td>\n",
              "      <td>25554</td>\n",
              "    </tr>\n",
              "    <tr>\n",
              "      <th>2</th>\n",
              "      <td>HIRAN MANUEL GONÇALVES DA SILVA</td>\n",
              "      <td>118760</td>\n",
              "    </tr>\n",
              "    <tr>\n",
              "      <th>3</th>\n",
              "      <td>ILDERSON PEREIRA SILVA</td>\n",
              "      <td>5542</td>\n",
              "    </tr>\n",
              "    <tr>\n",
              "      <th>4</th>\n",
              "      <td>IRAN DE OLIVEIRA MARINHO</td>\n",
              "      <td>2822</td>\n",
              "    </tr>\n",
              "    <tr>\n",
              "      <th>5</th>\n",
              "      <td>MAURÍCIO COSTA DA SILVA</td>\n",
              "      <td>1052</td>\n",
              "    </tr>\n",
              "    <tr>\n",
              "      <th>6</th>\n",
              "      <td>OZEAS COSTA COLARES JUNIOR</td>\n",
              "      <td>5393</td>\n",
              "    </tr>\n",
              "    <tr>\n",
              "      <th>7</th>\n",
              "      <td>ROMERO JUCÁ FILHO</td>\n",
              "      <td>91431</td>\n",
              "    </tr>\n",
              "    <tr>\n",
              "      <th>8</th>\n",
              "      <td>TELMARIO MOTA DE OLIVEIRA</td>\n",
              "      <td>19609</td>\n",
              "    </tr>\n",
              "    <tr>\n",
              "      <th>9</th>\n",
              "      <td>VOTO BRANCO</td>\n",
              "      <td>10203</td>\n",
              "    </tr>\n",
              "    <tr>\n",
              "      <th>10</th>\n",
              "      <td>VOTO NULO</td>\n",
              "      <td>12782</td>\n",
              "    </tr>\n",
              "  </tbody>\n",
              "</table>\n",
              "</div>\n",
              "      <button class=\"colab-df-convert\" onclick=\"convertToInteractive('df-bd4f7196-7c47-44c1-98ed-a8629f9b36f9')\"\n",
              "              title=\"Convert this dataframe to an interactive table.\"\n",
              "              style=\"display:none;\">\n",
              "        \n",
              "  <svg xmlns=\"http://www.w3.org/2000/svg\" height=\"24px\"viewBox=\"0 0 24 24\"\n",
              "       width=\"24px\">\n",
              "    <path d=\"M0 0h24v24H0V0z\" fill=\"none\"/>\n",
              "    <path d=\"M18.56 5.44l.94 2.06.94-2.06 2.06-.94-2.06-.94-.94-2.06-.94 2.06-2.06.94zm-11 1L8.5 8.5l.94-2.06 2.06-.94-2.06-.94L8.5 2.5l-.94 2.06-2.06.94zm10 10l.94 2.06.94-2.06 2.06-.94-2.06-.94-.94-2.06-.94 2.06-2.06.94z\"/><path d=\"M17.41 7.96l-1.37-1.37c-.4-.4-.92-.59-1.43-.59-.52 0-1.04.2-1.43.59L10.3 9.45l-7.72 7.72c-.78.78-.78 2.05 0 2.83L4 21.41c.39.39.9.59 1.41.59.51 0 1.02-.2 1.41-.59l7.78-7.78 2.81-2.81c.8-.78.8-2.07 0-2.86zM5.41 20L4 18.59l7.72-7.72 1.47 1.35L5.41 20z\"/>\n",
              "  </svg>\n",
              "      </button>\n",
              "      \n",
              "  <style>\n",
              "    .colab-df-container {\n",
              "      display:flex;\n",
              "      flex-wrap:wrap;\n",
              "      gap: 12px;\n",
              "    }\n",
              "\n",
              "    .colab-df-convert {\n",
              "      background-color: #E8F0FE;\n",
              "      border: none;\n",
              "      border-radius: 50%;\n",
              "      cursor: pointer;\n",
              "      display: none;\n",
              "      fill: #1967D2;\n",
              "      height: 32px;\n",
              "      padding: 0 0 0 0;\n",
              "      width: 32px;\n",
              "    }\n",
              "\n",
              "    .colab-df-convert:hover {\n",
              "      background-color: #E2EBFA;\n",
              "      box-shadow: 0px 1px 2px rgba(60, 64, 67, 0.3), 0px 1px 3px 1px rgba(60, 64, 67, 0.15);\n",
              "      fill: #174EA6;\n",
              "    }\n",
              "\n",
              "    [theme=dark] .colab-df-convert {\n",
              "      background-color: #3B4455;\n",
              "      fill: #D2E3FC;\n",
              "    }\n",
              "\n",
              "    [theme=dark] .colab-df-convert:hover {\n",
              "      background-color: #434B5C;\n",
              "      box-shadow: 0px 1px 3px 1px rgba(0, 0, 0, 0.15);\n",
              "      filter: drop-shadow(0px 1px 2px rgba(0, 0, 0, 0.3));\n",
              "      fill: #FFFFFF;\n",
              "    }\n",
              "  </style>\n",
              "\n",
              "      <script>\n",
              "        const buttonEl =\n",
              "          document.querySelector('#df-bd4f7196-7c47-44c1-98ed-a8629f9b36f9 button.colab-df-convert');\n",
              "        buttonEl.style.display =\n",
              "          google.colab.kernel.accessAllowed ? 'block' : 'none';\n",
              "\n",
              "        async function convertToInteractive(key) {\n",
              "          const element = document.querySelector('#df-bd4f7196-7c47-44c1-98ed-a8629f9b36f9');\n",
              "          const dataTable =\n",
              "            await google.colab.kernel.invokeFunction('convertToInteractive',\n",
              "                                                     [key], {});\n",
              "          if (!dataTable) return;\n",
              "\n",
              "          const docLinkHtml = 'Like what you see? Visit the ' +\n",
              "            '<a target=\"_blank\" href=https://colab.research.google.com/notebooks/data_table.ipynb>data table notebook</a>'\n",
              "            + ' to learn more about interactive tables.';\n",
              "          element.innerHTML = '';\n",
              "          dataTable['output_type'] = 'display_data';\n",
              "          await google.colab.output.renderOutput(dataTable, element);\n",
              "          const docLink = document.createElement('div');\n",
              "          docLink.innerHTML = docLinkHtml;\n",
              "          element.appendChild(docLink);\n",
              "        }\n",
              "      </script>\n",
              "    </div>\n",
              "  </div>\n",
              "  "
            ]
          },
          "metadata": {},
          "execution_count": 118
        }
      ]
    },
    {
      "cell_type": "markdown",
      "source": [
        "6. Salve esse DataFrame em um arquivo csv.\n"
      ],
      "metadata": {
        "id": "1Jlq8LE76dfq"
      }
    },
    {
      "cell_type": "code",
      "source": [
        "df_senadores.to_csv(\"lista_senadores.csv\")"
      ],
      "metadata": {
        "id": "KLDy6s476eoJ"
      },
      "execution_count": 119,
      "outputs": []
    },
    {
      "cell_type": "markdown",
      "source": [
        "7. Determine qual foi o senador eleito.\n"
      ],
      "metadata": {
        "id": "J68Oempw6exI"
      }
    },
    {
      "cell_type": "code",
      "source": [
        "index = df_senadores['QT_VOTOS'].idxmax()\n",
        "df_senadores.iloc[[index]]"
      ],
      "metadata": {
        "id": "1d0vWem26gK7",
        "colab": {
          "base_uri": "https://localhost:8080/",
          "height": 81
        },
        "outputId": "46a97212-6969-4552-969d-3ac174466e4d"
      },
      "execution_count": 120,
      "outputs": [
        {
          "output_type": "execute_result",
          "data": {
            "text/plain": [
              "                        NM_VOTAVEL  QT_VOTOS\n",
              "2  HIRAN MANUEL GONÇALVES DA SILVA    118760"
            ],
            "text/html": [
              "\n",
              "  <div id=\"df-f9225b6a-3b62-4b2f-aa86-c0bb6434637a\">\n",
              "    <div class=\"colab-df-container\">\n",
              "      <div>\n",
              "<style scoped>\n",
              "    .dataframe tbody tr th:only-of-type {\n",
              "        vertical-align: middle;\n",
              "    }\n",
              "\n",
              "    .dataframe tbody tr th {\n",
              "        vertical-align: top;\n",
              "    }\n",
              "\n",
              "    .dataframe thead th {\n",
              "        text-align: right;\n",
              "    }\n",
              "</style>\n",
              "<table border=\"1\" class=\"dataframe\">\n",
              "  <thead>\n",
              "    <tr style=\"text-align: right;\">\n",
              "      <th></th>\n",
              "      <th>NM_VOTAVEL</th>\n",
              "      <th>QT_VOTOS</th>\n",
              "    </tr>\n",
              "  </thead>\n",
              "  <tbody>\n",
              "    <tr>\n",
              "      <th>2</th>\n",
              "      <td>HIRAN MANUEL GONÇALVES DA SILVA</td>\n",
              "      <td>118760</td>\n",
              "    </tr>\n",
              "  </tbody>\n",
              "</table>\n",
              "</div>\n",
              "      <button class=\"colab-df-convert\" onclick=\"convertToInteractive('df-f9225b6a-3b62-4b2f-aa86-c0bb6434637a')\"\n",
              "              title=\"Convert this dataframe to an interactive table.\"\n",
              "              style=\"display:none;\">\n",
              "        \n",
              "  <svg xmlns=\"http://www.w3.org/2000/svg\" height=\"24px\"viewBox=\"0 0 24 24\"\n",
              "       width=\"24px\">\n",
              "    <path d=\"M0 0h24v24H0V0z\" fill=\"none\"/>\n",
              "    <path d=\"M18.56 5.44l.94 2.06.94-2.06 2.06-.94-2.06-.94-.94-2.06-.94 2.06-2.06.94zm-11 1L8.5 8.5l.94-2.06 2.06-.94-2.06-.94L8.5 2.5l-.94 2.06-2.06.94zm10 10l.94 2.06.94-2.06 2.06-.94-2.06-.94-.94-2.06-.94 2.06-2.06.94z\"/><path d=\"M17.41 7.96l-1.37-1.37c-.4-.4-.92-.59-1.43-.59-.52 0-1.04.2-1.43.59L10.3 9.45l-7.72 7.72c-.78.78-.78 2.05 0 2.83L4 21.41c.39.39.9.59 1.41.59.51 0 1.02-.2 1.41-.59l7.78-7.78 2.81-2.81c.8-.78.8-2.07 0-2.86zM5.41 20L4 18.59l7.72-7.72 1.47 1.35L5.41 20z\"/>\n",
              "  </svg>\n",
              "      </button>\n",
              "      \n",
              "  <style>\n",
              "    .colab-df-container {\n",
              "      display:flex;\n",
              "      flex-wrap:wrap;\n",
              "      gap: 12px;\n",
              "    }\n",
              "\n",
              "    .colab-df-convert {\n",
              "      background-color: #E8F0FE;\n",
              "      border: none;\n",
              "      border-radius: 50%;\n",
              "      cursor: pointer;\n",
              "      display: none;\n",
              "      fill: #1967D2;\n",
              "      height: 32px;\n",
              "      padding: 0 0 0 0;\n",
              "      width: 32px;\n",
              "    }\n",
              "\n",
              "    .colab-df-convert:hover {\n",
              "      background-color: #E2EBFA;\n",
              "      box-shadow: 0px 1px 2px rgba(60, 64, 67, 0.3), 0px 1px 3px 1px rgba(60, 64, 67, 0.15);\n",
              "      fill: #174EA6;\n",
              "    }\n",
              "\n",
              "    [theme=dark] .colab-df-convert {\n",
              "      background-color: #3B4455;\n",
              "      fill: #D2E3FC;\n",
              "    }\n",
              "\n",
              "    [theme=dark] .colab-df-convert:hover {\n",
              "      background-color: #434B5C;\n",
              "      box-shadow: 0px 1px 3px 1px rgba(0, 0, 0, 0.15);\n",
              "      filter: drop-shadow(0px 1px 2px rgba(0, 0, 0, 0.3));\n",
              "      fill: #FFFFFF;\n",
              "    }\n",
              "  </style>\n",
              "\n",
              "      <script>\n",
              "        const buttonEl =\n",
              "          document.querySelector('#df-f9225b6a-3b62-4b2f-aa86-c0bb6434637a button.colab-df-convert');\n",
              "        buttonEl.style.display =\n",
              "          google.colab.kernel.accessAllowed ? 'block' : 'none';\n",
              "\n",
              "        async function convertToInteractive(key) {\n",
              "          const element = document.querySelector('#df-f9225b6a-3b62-4b2f-aa86-c0bb6434637a');\n",
              "          const dataTable =\n",
              "            await google.colab.kernel.invokeFunction('convertToInteractive',\n",
              "                                                     [key], {});\n",
              "          if (!dataTable) return;\n",
              "\n",
              "          const docLinkHtml = 'Like what you see? Visit the ' +\n",
              "            '<a target=\"_blank\" href=https://colab.research.google.com/notebooks/data_table.ipynb>data table notebook</a>'\n",
              "            + ' to learn more about interactive tables.';\n",
              "          element.innerHTML = '';\n",
              "          dataTable['output_type'] = 'display_data';\n",
              "          await google.colab.output.renderOutput(dataTable, element);\n",
              "          const docLink = document.createElement('div');\n",
              "          docLink.innerHTML = docLinkHtml;\n",
              "          element.appendChild(docLink);\n",
              "        }\n",
              "      </script>\n",
              "    </div>\n",
              "  </div>\n",
              "  "
            ]
          },
          "metadata": {},
          "execution_count": 120
        }
      ]
    },
    {
      "cell_type": "markdown",
      "source": [
        "8. Faça um gráfico mostrando os candidatos a senador e os votos em branco e nulos no eixo X e a votação que cada um deles obteve no eixo y. Seu gráfico deve ser de linha ligado por ponto e conter grade no fundo. Seu gráfico deve ter título, legenda, título para o eixo X e título para o eixo Y.\n"
      ],
      "metadata": {
        "id": "l_sNnoKj6gSn"
      }
    },
    {
      "cell_type": "code",
      "source": [
        "import matplotlib.pyplot as plt\n",
        "\n",
        "candidatos = df_senadores.NM_VOTAVEL\n",
        "votos = df_senadores.QT_VOTOS\n",
        "\n",
        "plt.plot(candidatos, votos, 'ro-',label='Votos')\n",
        "plt.title(\"Quantidade de Votos por Senador\")\n",
        "plt.legend()\n",
        "plt.xlabel('Senador')\n",
        "plt.xticks(rotation=45, ha='right')\n",
        "plt.ylabel('Quantidade de Votos')\n",
        "plt.grid(b='on')\n",
        "plt.autoscale(enable=True, axis='both', tight=True)\n",
        "plt.show()"
      ],
      "metadata": {
        "id": "fediurkv6hpt",
        "colab": {
          "base_uri": "https://localhost:8080/",
          "height": 425
        },
        "outputId": "396d04a0-3e69-4bee-c439-8efd0d1b921a"
      },
      "execution_count": 158,
      "outputs": [
        {
          "output_type": "display_data",
          "data": {
            "text/plain": [
              "<Figure size 432x288 with 1 Axes>"
            ],
            "image/png": "[encoded data removed]"
          },
          "metadata": {
            "needs_background": "light"
          }
        }
      ]
    },
    {
      "cell_type": "markdown",
      "source": [
        "9. Faça um gráfico de pizza mostrando a porcentagem de votos válidos que cada candidato ao senado obteve.\n"
      ],
      "metadata": {
        "id": "6YDyDJ8Z6hy9"
      }
    },
    {
      "cell_type": "code",
      "source": [
        "total_votos = df_senadores['QT_VOTOS'].sum()\n",
        "votos_em_branco = df_senadores[(df_senadores[\"NM_VOTAVEL\"] == 'VOTO BRANCO')]['QT_VOTOS'].values[0]\n",
        "votos_nulos = df_senadores[(df_senadores[\"NM_VOTAVEL\"] == 'VOTO NULO')]['QT_VOTOS'].values[0]\n",
        "total_votos_validos = total_votos - votos_em_branco - votos_nulos\n",
        "total_votos_validos\n",
        "\n",
        "df_senadores['Percentual Votos Validos'] = [ (x/total_votos_validos) for x in df_senadores['QT_VOTOS']]\n",
        "\n",
        "slices = df_senadores['Percentual Votos Validos'].tolist()\n",
        "candidatos = df_senadores.NM_VOTAVEL\n",
        "\n",
        "plt.pie(slices,\n",
        "  labels = slices,\n",
        "  startangle=90,\n",
        "  shadow= True,\n",
        "  autopct='%1.1f%%')\n",
        "\n",
        "plt.title('Percentual Votos Válidos')\n",
        "plt.legend(candidatos, loc=\"best\")\n",
        "\n",
        "plt.show()\n",
        "\n",
        "# https://www.tutorialspoint.com/how-to-add-a-legend-to-a-matplotlib-pie-chart"
      ],
      "metadata": {
        "id": "6AfqlCvq6i6B",
        "colab": {
          "base_uri": "https://localhost:8080/",
          "height": 297
        },
        "outputId": "a2588ae0-f318-4df7-fe13-d9b0c5b1c674"
      },
      "execution_count": 185,
      "outputs": [
        {
          "output_type": "display_data",
          "data": {
            "text/plain": [
              "<Figure size 432x288 with 1 Axes>"
            ],
            "image/png": "[encoded data removed]"
          },
          "metadata": {}
        }
      ]
    },
    {
      "cell_type": "markdown",
      "source": [
        "10. Determine quantos candidatos a deputado estadual obtiveram menos de 10 votos."
      ],
      "metadata": {
        "id": "X3tdnLjt6jCb"
      }
    },
    {
      "cell_type": "code",
      "source": [],
      "metadata": {
        "id": "2GFmdoX56jwG"
      },
      "execution_count": 50,
      "outputs": []
    }
  ],
  "metadata": {
    "kernelspec": {
      "display_name": "Python 3.10.6 64-bit",
      "language": "python",
      "name": "python3"
    },
    "language_info": {
      "name": "python",
      "version": "3.10.6"
    },
    "orig_nbformat": 4,
    "vscode": {
      "interpreter": {
        "hash": "916dbcbb3f70747c44a77c7bcd40155683ae19c65e1c03b4aa3499c5328201f1"
      }
    },
    "colab": {
      "provenance": [],
      "include_colab_link": true
    }
  },
  "nbformat": 4,
  "nbformat_minor": 0
}