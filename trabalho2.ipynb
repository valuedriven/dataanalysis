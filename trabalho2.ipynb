{
  "cells": [
    {
      "cell_type": "markdown",
      "metadata": {
        "id": "view-in-github",
        "colab_type": "text"
      },
      "source": [
        "<a href=\"https://colab.research.google.com/github/valuedriven/dataanalysis/blob/master/trabalho2.ipynb\" target=\"_parent\"><img src=\"https://colab.research.google.com/assets/colab-badge.svg\" alt=\"Open In Colab\"/></a>"
      ]
    },
    {
      "cell_type": "markdown",
      "metadata": {
        "id": "P2SoO-75clcO"
      },
      "source": [
        "## Trabalho 2\n",
        "\n",
        "As Eleições brasileiras foram marcadas por muitos ataques às urnas eletrônicas e até hoje muitas pessoas não confiam nos resultados das urnas. No entanto, o processo eleitoral brasileiro pode ser considerado o mais moderno do mundo e os resultados são auditáveis e bastante transparentes. Prova disso é a disponibilização dos dados das eleições no site do TSE, os quais podem ser acessados e explorados pelos cientistas de dados para extrair as informações que são de seus interesses.\n",
        "\n",
        "O Arquivo votacao_secao_2022_RR.csv contém os resultados da eleição estadual no primeiro turno no estado de Roraima. Responda às questões a seguir, que se referem a esses resultados, usando comandos em Python.\n",
        "\n",
        "1. Abra o arquivo votacao_secao_2022_RR.csv em um Dataframe sabendo que o separador das colunas é o ;\n",
        "2. Determine quantas seções eleitorais existem no estado de RR.\n",
        "3. Determine qual candidato a governador recebeu mais votos em uma seção e quantos foram esses votos.\n",
        "4. Determine quantos candidatos concorreram a deputado federal.\n",
        "5. Crie um novo DataFrame apenas com os nomes dos candidatos a senador e a quantidade de votos que cada um obteve.\n",
        "6. Salve esse DataFrame em um arquivo csv.\n",
        "7. Determine qual foi o senador eleito.\n",
        "8. Faça um gráfico mostrando os candidatos a senador e os votos em branco e nulos no eixo X e a votação que cada um deles obteve no eixo y. Seu gráfico deve ser de linha ligado por ponto e conter grade no fundo. Seu gráfico deve ter título, legenda, título para o eixo X e título para o eixo Y.\n",
        "9. Faça um gráfico de pizza mostrando a porcentagem de votos válidos que cada candidato ao senado obteve.\n",
        "10. Determine quantos candidatos a deputado estadual obtiveram menos de 10 votos."
      ]
    },
    {
      "cell_type": "markdown",
      "source": [
        "Obtenção do arquivo."
      ],
      "metadata": {
        "id": "Wktpaa9sLzlp"
      }
    },
    {
      "cell_type": "code",
      "source": [
        "arquivo_origem = \"votacao_secao_2022_RR.zip\"\n",
        "!wget -U \"Mozilla\" -O arquivo_origem https://github.com/valuedriven/dataanalysis/raw/master/votacao_secao_2022_RR.zip\n",
        "!unzip -o arquivo_origem\n"
      ],
      "metadata": {
        "id": "X2E0V4BpKTe-",
        "outputId": "acfdff55-da77-498b-da95-48eb8876cbb1",
        "colab": {
          "base_uri": "https://localhost:8080/"
        }
      },
      "execution_count": 55,
      "outputs": [
        {
          "output_type": "stream",
          "name": "stdout",
          "text": [
            "--2022-11-15 13:17:08--  https://github.com/valuedriven/dataanalysis/raw/master/votacao_secao_2022_RR.zip\n",
            "Resolving github.com (github.com)... 140.82.113.4\n",
            "Connecting to github.com (github.com)|140.82.113.4|:443... connected.\n",
            "HTTP request sent, awaiting response... 302 Found\n",
            "Location: https://raw.githubusercontent.com/valuedriven/dataanalysis/master/votacao_secao_2022_RR.zip [following]\n",
            "--2022-11-15 13:17:09--  https://raw.githubusercontent.com/valuedriven/dataanalysis/master/votacao_secao_2022_RR.zip\n",
            "Resolving raw.githubusercontent.com (raw.githubusercontent.com)... 185.199.108.133, 185.199.109.133, 185.199.110.133, ...\n",
            "Connecting to raw.githubusercontent.com (raw.githubusercontent.com)|185.199.108.133|:443... connected.\n",
            "HTTP request sent, awaiting response... 200 OK\n",
            "Length: 6018733 (5.7M) [application/zip]\n",
            "Saving to: ‘arquivo_origem’\n",
            "\n",
            "arquivo_origem      100%[===================>]   5.74M  --.-KB/s    in 0.05s   \n",
            "\n",
            "2022-11-15 13:17:09 (111 MB/s) - ‘arquivo_origem’ saved [6018733/6018733]\n",
            "\n",
            "Archive:  arquivo_origem\n",
            "  inflating: votacao_secao_2022_RR.csv  \n"
          ]
        }
      ]
    },
    {
      "cell_type": "markdown",
      "source": [
        "*1*. Abra o arquivo votacao_secao_2022_RR.csv em um Dataframe sabendo que o separador das colunas é o ;"
      ],
      "metadata": {
        "id": "OumviMzjcxOY"
      }
    },
    {
      "cell_type": "code",
      "source": [
        "import pandas as pd\n",
        "df = pd.read_csv(\"votacao_secao_2022_RR.csv\", sep=';')\n"
      ],
      "metadata": {
        "id": "AEUVgc7dem0W"
      },
      "execution_count": null,
      "outputs": []
    },
    {
      "cell_type": "markdown",
      "source": [
        "2. Determine quantas seções eleitorais existem no estado de RR."
      ],
      "metadata": {
        "id": "SDecihMMg8gK"
      }
    },
    {
      "cell_type": "code",
      "execution_count": 48,
      "metadata": {
        "colab": {
          "base_uri": "https://localhost:8080/"
        },
        "id": "_9_hYkp0clcV",
        "outputId": "280b0e95-45be-491a-e484-7ca59ad3b986"
      },
      "outputs": [
        {
          "output_type": "execute_result",
          "data": {
            "text/plain": [
              "1268"
            ]
          },
          "metadata": {},
          "execution_count": 48
        }
      ],
      "source": [
        "df.groupby('NR_ZONA')[\"NR_SECAO\"].nunique().sum()"
      ]
    },
    {
      "cell_type": "markdown",
      "source": [
        "3. Determine qual candidato a governador recebeu mais votos em uma seção e quantos foram esses votos.\n"
      ],
      "metadata": {
        "id": "QKLLp0YrkL9n"
      }
    },
    {
      "cell_type": "code",
      "source": [
        "# zona = int(input(\"Informe a zona: \"))\n",
        "# secao = int(input(\"Informe a seção: \"))\n",
        "zona = 1\n",
        "secao = 610\n",
        "index = df[(df[\"NR_ZONA\"] == zona) & (df[\"NR_SECAO\"] == secao) & (df[\"DS_CARGO\"] == 'GOVERNADOR') ][['NM_VOTAVEL','QT_VOTOS']][\"QT_VOTOS\"].idxmax()\n",
        "df.iloc[[index]][['NM_VOTAVEL', 'QT_VOTOS']]"
      ],
      "metadata": {
        "colab": {
          "base_uri": "https://localhost:8080/",
          "height": 81
        },
        "id": "qHsUliipkQdL",
        "outputId": "bca085d7-e33a-4a66-9349-2512e0fe92d5"
      },
      "execution_count": 49,
      "outputs": [
        {
          "output_type": "execute_result",
          "data": {
            "text/plain": [
              "                                 NM_VOTAVEL  QT_VOTOS\n",
              "158480  MARIA TERESA SAENZ SURITA GUIMARÂES       100"
            ],
            "text/html": [
              "\n",
              "  <div id=\"df-d8a498af-9608-4e4c-9d23-fdad5153d2e8\">\n",
              "    <div class=\"colab-df-container\">\n",
              "      <div>\n",
              "<style scoped>\n",
              "    .dataframe tbody tr th:only-of-type {\n",
              "        vertical-align: middle;\n",
              "    }\n",
              "\n",
              "    .dataframe tbody tr th {\n",
              "        vertical-align: top;\n",
              "    }\n",
              "\n",
              "    .dataframe thead th {\n",
              "        text-align: right;\n",
              "    }\n",
              "</style>\n",
              "<table border=\"1\" class=\"dataframe\">\n",
              "  <thead>\n",
              "    <tr style=\"text-align: right;\">\n",
              "      <th></th>\n",
              "      <th>NM_VOTAVEL</th>\n",
              "      <th>QT_VOTOS</th>\n",
              "    </tr>\n",
              "  </thead>\n",
              "  <tbody>\n",
              "    <tr>\n",
              "      <th>158480</th>\n",
              "      <td>MARIA TERESA SAENZ SURITA GUIMARÂES</td>\n",
              "      <td>100</td>\n",
              "    </tr>\n",
              "  </tbody>\n",
              "</table>\n",
              "</div>\n",
              "      <button class=\"colab-df-convert\" onclick=\"convertToInteractive('df-d8a498af-9608-4e4c-9d23-fdad5153d2e8')\"\n",
              "              title=\"Convert this dataframe to an interactive table.\"\n",
              "              style=\"display:none;\">\n",
              "        \n",
              "  <svg xmlns=\"http://www.w3.org/2000/svg\" height=\"24px\"viewBox=\"0 0 24 24\"\n",
              "       width=\"24px\">\n",
              "    <path d=\"M0 0h24v24H0V0z\" fill=\"none\"/>\n",
              "    <path d=\"M18.56 5.44l.94 2.06.94-2.06 2.06-.94-2.06-.94-.94-2.06-.94 2.06-2.06.94zm-11 1L8.5 8.5l.94-2.06 2.06-.94-2.06-.94L8.5 2.5l-.94 2.06-2.06.94zm10 10l.94 2.06.94-2.06 2.06-.94-2.06-.94-.94-2.06-.94 2.06-2.06.94z\"/><path d=\"M17.41 7.96l-1.37-1.37c-.4-.4-.92-.59-1.43-.59-.52 0-1.04.2-1.43.59L10.3 9.45l-7.72 7.72c-.78.78-.78 2.05 0 2.83L4 21.41c.39.39.9.59 1.41.59.51 0 1.02-.2 1.41-.59l7.78-7.78 2.81-2.81c.8-.78.8-2.07 0-2.86zM5.41 20L4 18.59l7.72-7.72 1.47 1.35L5.41 20z\"/>\n",
              "  </svg>\n",
              "      </button>\n",
              "      \n",
              "  <style>\n",
              "    .colab-df-container {\n",
              "      display:flex;\n",
              "      flex-wrap:wrap;\n",
              "      gap: 12px;\n",
              "    }\n",
              "\n",
              "    .colab-df-convert {\n",
              "      background-color: #E8F0FE;\n",
              "      border: none;\n",
              "      border-radius: 50%;\n",
              "      cursor: pointer;\n",
              "      display: none;\n",
              "      fill: #1967D2;\n",
              "      height: 32px;\n",
              "      padding: 0 0 0 0;\n",
              "      width: 32px;\n",
              "    }\n",
              "\n",
              "    .colab-df-convert:hover {\n",
              "      background-color: #E2EBFA;\n",
              "      box-shadow: 0px 1px 2px rgba(60, 64, 67, 0.3), 0px 1px 3px 1px rgba(60, 64, 67, 0.15);\n",
              "      fill: #174EA6;\n",
              "    }\n",
              "\n",
              "    [theme=dark] .colab-df-convert {\n",
              "      background-color: #3B4455;\n",
              "      fill: #D2E3FC;\n",
              "    }\n",
              "\n",
              "    [theme=dark] .colab-df-convert:hover {\n",
              "      background-color: #434B5C;\n",
              "      box-shadow: 0px 1px 3px 1px rgba(0, 0, 0, 0.15);\n",
              "      filter: drop-shadow(0px 1px 2px rgba(0, 0, 0, 0.3));\n",
              "      fill: #FFFFFF;\n",
              "    }\n",
              "  </style>\n",
              "\n",
              "      <script>\n",
              "        const buttonEl =\n",
              "          document.querySelector('#df-d8a498af-9608-4e4c-9d23-fdad5153d2e8 button.colab-df-convert');\n",
              "        buttonEl.style.display =\n",
              "          google.colab.kernel.accessAllowed ? 'block' : 'none';\n",
              "\n",
              "        async function convertToInteractive(key) {\n",
              "          const element = document.querySelector('#df-d8a498af-9608-4e4c-9d23-fdad5153d2e8');\n",
              "          const dataTable =\n",
              "            await google.colab.kernel.invokeFunction('convertToInteractive',\n",
              "                                                     [key], {});\n",
              "          if (!dataTable) return;\n",
              "\n",
              "          const docLinkHtml = 'Like what you see? Visit the ' +\n",
              "            '<a target=\"_blank\" href=https://colab.research.google.com/notebooks/data_table.ipynb>data table notebook</a>'\n",
              "            + ' to learn more about interactive tables.';\n",
              "          element.innerHTML = '';\n",
              "          dataTable['output_type'] = 'display_data';\n",
              "          await google.colab.output.renderOutput(dataTable, element);\n",
              "          const docLink = document.createElement('div');\n",
              "          docLink.innerHTML = docLinkHtml;\n",
              "          element.appendChild(docLink);\n",
              "        }\n",
              "      </script>\n",
              "    </div>\n",
              "  </div>\n",
              "  "
            ]
          },
          "metadata": {},
          "execution_count": 49
        }
      ]
    },
    {
      "cell_type": "markdown",
      "source": [
        "4. Determine quantos candidatos concorreram a deputado federal.\n"
      ],
      "metadata": {
        "id": "N236yQkT6aBe"
      }
    },
    {
      "cell_type": "code",
      "source": [
        "# Observação: foram incluídos os votos em partidos. Além disso, são considerados apenas os candidatos com votos.\n",
        "lista_deputados = df[(df[\"DS_CARGO\"] == 'DEPUTADO FEDERAL')]['NM_VOTAVEL'].drop_duplicates()\n",
        "len(lista_deputados)"
      ],
      "metadata": {
        "colab": {
          "base_uri": "https://localhost:8080/"
        },
        "id": "rCcV1uxJ6bg9",
        "outputId": "da8048f4-0972-490d-fcd6-3b204e1d5588"
      },
      "execution_count": 80,
      "outputs": [
        {
          "output_type": "execute_result",
          "data": {
            "text/plain": [
              "183"
            ]
          },
          "metadata": {},
          "execution_count": 80
        }
      ]
    },
    {
      "cell_type": "markdown",
      "source": [
        "5. Crie um novo DataFrame apenas com os nomes dos candidatos a senador e a quantidade de votos que cada um obteve.\n"
      ],
      "metadata": {
        "id": "EthoJH_p6b3l"
      }
    },
    {
      "cell_type": "code",
      "source": [
        "df.groupby(['DS_CARGO','NM_VOTAVEL']).sum()"
      ],
      "metadata": {
        "id": "gRqeuuFN6dM6",
        "outputId": "7531115a-578d-4119-ef70-66d98bc2cac7",
        "colab": {
          "base_uri": "https://localhost:8080/",
          "height": 814
        }
      },
      "execution_count": 83,
      "outputs": [
        {
          "output_type": "execute_result",
          "data": {
            "text/plain": [
              "                                                 ANO_ELEICAO  CD_TIPO_ELEICAO  \\\n",
              "DS_CARGO          NM_VOTAVEL                                                    \n",
              "DEPUTADO ESTADUAL ABEL SALVADOR MESQUITA JUNIOR      1106034             1094   \n",
              "                  ADAILTON MENDES GALVÃO              946296              936   \n",
              "                  ADENILSON OLIVEIRA NASCIMENTO       560094              554   \n",
              "                  ADJALMA GONÇALVES                  1510434             1494   \n",
              "                  ADRIANA BARBOSA PAIVA                40440               40   \n",
              "...                                                      ...              ...   \n",
              "SENADOR           OZEAS COSTA COLARES JUNIOR         2177694             2154   \n",
              "                  ROMERO JUCÁ FILHO                  2563896             2536   \n",
              "                  TELMARIO MOTA DE OLIVEIRA          2537610             2510   \n",
              "                  VOTO BRANCO                        2487060             2460   \n",
              "                  VOTO NULO                          2553786             2526   \n",
              "\n",
              "                                                 NR_TURNO  CD_ELEICAO  \\\n",
              "DS_CARGO          NM_VOTAVEL                                            \n",
              "DEPUTADO ESTADUAL ABEL SALVADOR MESQUITA JUNIOR       547      298662   \n",
              "                  ADAILTON MENDES GALVÃO              468      255528   \n",
              "                  ADENILSON OLIVEIRA NASCIMENTO       277      151242   \n",
              "                  ADJALMA GONÇALVES                   747      407862   \n",
              "                  ADRIANA BARBOSA PAIVA                20       10920   \n",
              "...                                                   ...         ...   \n",
              "SENADOR           OZEAS COSTA COLARES JUNIOR         1077      588042   \n",
              "                  ROMERO JUCÁ FILHO                  1268      692328   \n",
              "                  TELMARIO MOTA DE OLIVEIRA          1255      685230   \n",
              "                  VOTO BRANCO                        1230      671580   \n",
              "                  VOTO NULO                          1263      689598   \n",
              "\n",
              "                                                 CD_MUNICIPIO  NR_ZONA  \\\n",
              "DS_CARGO          NM_VOTAVEL                                             \n",
              "DEPUTADO ESTADUAL ABEL SALVADOR MESQUITA JUNIOR       1657219     1643   \n",
              "                  ADAILTON MENDES GALVÃO              1415987     1286   \n",
              "                  ADENILSON OLIVEIRA NASCIMENTO        837519     1080   \n",
              "                  ADJALMA GONÇALVES                   2264520     2621   \n",
              "                  ADRIANA BARBOSA PAIVA                 60360       76   \n",
              "...                                                       ...      ...   \n",
              "SENADOR           OZEAS COSTA COLARES JUNIOR          3271178     3895   \n",
              "                  ROMERO JUCÁ FILHO                   3857683     4797   \n",
              "                  TELMARIO MOTA DE OLIVEIRA           3817875     4732   \n",
              "                  VOTO BRANCO                         3740225     4574   \n",
              "                  VOTO NULO                           3842472     4780   \n",
              "\n",
              "                                                 NR_SECAO  CD_CARGO  \\\n",
              "DS_CARGO          NM_VOTAVEL                                          \n",
              "DEPUTADO ESTADUAL ABEL SALVADOR MESQUITA JUNIOR    189743      3829   \n",
              "                  ADAILTON MENDES GALVÃO           175186      3276   \n",
              "                  ADENILSON OLIVEIRA NASCIMENTO    102383      1939   \n",
              "                  ADJALMA GONÇALVES                250720      5229   \n",
              "                  ADRIANA BARBOSA PAIVA              5828       140   \n",
              "...                                                   ...       ...   \n",
              "SENADOR           OZEAS COSTA COLARES JUNIOR       349233      5385   \n",
              "                  ROMERO JUCÁ FILHO                395883      6340   \n",
              "                  TELMARIO MOTA DE OLIVEIRA        393064      6275   \n",
              "                  VOTO BRANCO                      386833      6150   \n",
              "                  VOTO NULO                        393439      6315   \n",
              "\n",
              "                                                 NR_VOTAVEL  QT_VOTOS  \\\n",
              "DS_CARGO          NM_VOTAVEL                                            \n",
              "DEPUTADO ESTADUAL ABEL SALVADOR MESQUITA JUNIOR    30085000       984   \n",
              "                  ADAILTON MENDES GALVÃO            7307820       764   \n",
              "                  ADENILSON OLIVEIRA NASCIMENTO     5785976       426   \n",
              "                  ADJALMA GONÇALVES                67371930      1833   \n",
              "                  ADRIANA BARBOSA PAIVA              240240        22   \n",
              "...                                                     ...       ...   \n",
              "SENADOR           OZEAS COSTA COLARES JUNIOR         204630      5393   \n",
              "                  ROMERO JUCÁ FILHO                  197808     91431   \n",
              "                  TELMARIO MOTA DE OLIVEIRA         1133265     19609   \n",
              "                  VOTO BRANCO                        116850     10203   \n",
              "                  VOTO NULO                          121248     12782   \n",
              "\n",
              "                                                 NR_LOCAL_VOTACAO  \\\n",
              "DS_CARGO          NM_VOTAVEL                                        \n",
              "DEPUTADO ESTADUAL ABEL SALVADOR MESQUITA JUNIOR           1113470   \n",
              "                  ADAILTON MENDES GALVÃO                  1032742   \n",
              "                  ADENILSON OLIVEIRA NASCIMENTO            547731   \n",
              "                  ADJALMA GONÇALVES                       1469635   \n",
              "                  ADRIANA BARBOSA PAIVA                     38750   \n",
              "...                                                           ...   \n",
              "SENADOR           OZEAS COSTA COLARES JUNIOR              2070906   \n",
              "                  ROMERO JUCÁ FILHO                       2306620   \n",
              "                  TELMARIO MOTA DE OLIVEIRA               2291877   \n",
              "                  VOTO BRANCO                             2261262   \n",
              "                  VOTO NULO                               2294659   \n",
              "\n",
              "                                                    SQ_CANDIDATO  \n",
              "DS_CARGO          NM_VOTAVEL                                      \n",
              "DEPUTADO ESTADUAL ABEL SALVADOR MESQUITA JUNIOR  125810876421998  \n",
              "                  ADAILTON MENDES GALVÃO         107640750123972  \n",
              "                  ADENILSON OLIVEIRA NASCIMENTO   63710443250137  \n",
              "                  ADJALMA GONÇALVES              171811195256772  \n",
              "                  ADRIANA BARBOSA PAIVA            4600034281300  \n",
              "...                                                          ...  \n",
              "SENADOR           OZEAS COSTA COLARES JUNIOR     247711729515528  \n",
              "                  ROMERO JUCÁ FILHO              291642031587064  \n",
              "                  TELMARIO MOTA DE OLIVEIRA      288652008047690  \n",
              "                  VOTO BRANCO                              -1230  \n",
              "                  VOTO NULO                                -1263  \n",
              "\n",
              "[615 rows x 12 columns]"
            ],
            "text/html": [
              "\n",
              "  <div id=\"df-076a0a74-8948-4867-a040-b57c8c724937\">\n",
              "    <div class=\"colab-df-container\">\n",
              "      <div>\n",
              "<style scoped>\n",
              "    .dataframe tbody tr th:only-of-type {\n",
              "        vertical-align: middle;\n",
              "    }\n",
              "\n",
              "    .dataframe tbody tr th {\n",
              "        vertical-align: top;\n",
              "    }\n",
              "\n",
              "    .dataframe thead th {\n",
              "        text-align: right;\n",
              "    }\n",
              "</style>\n",
              "<table border=\"1\" class=\"dataframe\">\n",
              "  <thead>\n",
              "    <tr style=\"text-align: right;\">\n",
              "      <th></th>\n",
              "      <th></th>\n",
              "      <th>ANO_ELEICAO</th>\n",
              "      <th>CD_TIPO_ELEICAO</th>\n",
              "      <th>NR_TURNO</th>\n",
              "      <th>CD_ELEICAO</th>\n",
              "      <th>CD_MUNICIPIO</th>\n",
              "      <th>NR_ZONA</th>\n",
              "      <th>NR_SECAO</th>\n",
              "      <th>CD_CARGO</th>\n",
              "      <th>NR_VOTAVEL</th>\n",
              "      <th>QT_VOTOS</th>\n",
              "      <th>NR_LOCAL_VOTACAO</th>\n",
              "      <th>SQ_CANDIDATO</th>\n",
              "    </tr>\n",
              "    <tr>\n",
              "      <th>DS_CARGO</th>\n",
              "      <th>NM_VOTAVEL</th>\n",
              "      <th></th>\n",
              "      <th></th>\n",
              "      <th></th>\n",
              "      <th></th>\n",
              "      <th></th>\n",
              "      <th></th>\n",
              "      <th></th>\n",
              "      <th></th>\n",
              "      <th></th>\n",
              "      <th></th>\n",
              "      <th></th>\n",
              "      <th></th>\n",
              "    </tr>\n",
              "  </thead>\n",
              "  <tbody>\n",
              "    <tr>\n",
              "      <th rowspan=\"5\" valign=\"top\">DEPUTADO ESTADUAL</th>\n",
              "      <th>ABEL SALVADOR MESQUITA JUNIOR</th>\n",
              "      <td>1106034</td>\n",
              "      <td>1094</td>\n",
              "      <td>547</td>\n",
              "      <td>298662</td>\n",
              "      <td>1657219</td>\n",
              "      <td>1643</td>\n",
              "      <td>189743</td>\n",
              "      <td>3829</td>\n",
              "      <td>30085000</td>\n",
              "      <td>984</td>\n",
              "      <td>1113470</td>\n",
              "      <td>125810876421998</td>\n",
              "    </tr>\n",
              "    <tr>\n",
              "      <th>ADAILTON MENDES GALVÃO</th>\n",
              "      <td>946296</td>\n",
              "      <td>936</td>\n",
              "      <td>468</td>\n",
              "      <td>255528</td>\n",
              "      <td>1415987</td>\n",
              "      <td>1286</td>\n",
              "      <td>175186</td>\n",
              "      <td>3276</td>\n",
              "      <td>7307820</td>\n",
              "      <td>764</td>\n",
              "      <td>1032742</td>\n",
              "      <td>107640750123972</td>\n",
              "    </tr>\n",
              "    <tr>\n",
              "      <th>ADENILSON OLIVEIRA NASCIMENTO</th>\n",
              "      <td>560094</td>\n",
              "      <td>554</td>\n",
              "      <td>277</td>\n",
              "      <td>151242</td>\n",
              "      <td>837519</td>\n",
              "      <td>1080</td>\n",
              "      <td>102383</td>\n",
              "      <td>1939</td>\n",
              "      <td>5785976</td>\n",
              "      <td>426</td>\n",
              "      <td>547731</td>\n",
              "      <td>63710443250137</td>\n",
              "    </tr>\n",
              "    <tr>\n",
              "      <th>ADJALMA GONÇALVES</th>\n",
              "      <td>1510434</td>\n",
              "      <td>1494</td>\n",
              "      <td>747</td>\n",
              "      <td>407862</td>\n",
              "      <td>2264520</td>\n",
              "      <td>2621</td>\n",
              "      <td>250720</td>\n",
              "      <td>5229</td>\n",
              "      <td>67371930</td>\n",
              "      <td>1833</td>\n",
              "      <td>1469635</td>\n",
              "      <td>171811195256772</td>\n",
              "    </tr>\n",
              "    <tr>\n",
              "      <th>ADRIANA BARBOSA PAIVA</th>\n",
              "      <td>40440</td>\n",
              "      <td>40</td>\n",
              "      <td>20</td>\n",
              "      <td>10920</td>\n",
              "      <td>60360</td>\n",
              "      <td>76</td>\n",
              "      <td>5828</td>\n",
              "      <td>140</td>\n",
              "      <td>240240</td>\n",
              "      <td>22</td>\n",
              "      <td>38750</td>\n",
              "      <td>4600034281300</td>\n",
              "    </tr>\n",
              "    <tr>\n",
              "      <th>...</th>\n",
              "      <th>...</th>\n",
              "      <td>...</td>\n",
              "      <td>...</td>\n",
              "      <td>...</td>\n",
              "      <td>...</td>\n",
              "      <td>...</td>\n",
              "      <td>...</td>\n",
              "      <td>...</td>\n",
              "      <td>...</td>\n",
              "      <td>...</td>\n",
              "      <td>...</td>\n",
              "      <td>...</td>\n",
              "      <td>...</td>\n",
              "    </tr>\n",
              "    <tr>\n",
              "      <th rowspan=\"5\" valign=\"top\">SENADOR</th>\n",
              "      <th>OZEAS COSTA COLARES JUNIOR</th>\n",
              "      <td>2177694</td>\n",
              "      <td>2154</td>\n",
              "      <td>1077</td>\n",
              "      <td>588042</td>\n",
              "      <td>3271178</td>\n",
              "      <td>3895</td>\n",
              "      <td>349233</td>\n",
              "      <td>5385</td>\n",
              "      <td>204630</td>\n",
              "      <td>5393</td>\n",
              "      <td>2070906</td>\n",
              "      <td>247711729515528</td>\n",
              "    </tr>\n",
              "    <tr>\n",
              "      <th>ROMERO JUCÁ FILHO</th>\n",
              "      <td>2563896</td>\n",
              "      <td>2536</td>\n",
              "      <td>1268</td>\n",
              "      <td>692328</td>\n",
              "      <td>3857683</td>\n",
              "      <td>4797</td>\n",
              "      <td>395883</td>\n",
              "      <td>6340</td>\n",
              "      <td>197808</td>\n",
              "      <td>91431</td>\n",
              "      <td>2306620</td>\n",
              "      <td>291642031587064</td>\n",
              "    </tr>\n",
              "    <tr>\n",
              "      <th>TELMARIO MOTA DE OLIVEIRA</th>\n",
              "      <td>2537610</td>\n",
              "      <td>2510</td>\n",
              "      <td>1255</td>\n",
              "      <td>685230</td>\n",
              "      <td>3817875</td>\n",
              "      <td>4732</td>\n",
              "      <td>393064</td>\n",
              "      <td>6275</td>\n",
              "      <td>1133265</td>\n",
              "      <td>19609</td>\n",
              "      <td>2291877</td>\n",
              "      <td>288652008047690</td>\n",
              "    </tr>\n",
              "    <tr>\n",
              "      <th>VOTO BRANCO</th>\n",
              "      <td>2487060</td>\n",
              "      <td>2460</td>\n",
              "      <td>1230</td>\n",
              "      <td>671580</td>\n",
              "      <td>3740225</td>\n",
              "      <td>4574</td>\n",
              "      <td>386833</td>\n",
              "      <td>6150</td>\n",
              "      <td>116850</td>\n",
              "      <td>10203</td>\n",
              "      <td>2261262</td>\n",
              "      <td>-1230</td>\n",
              "    </tr>\n",
              "    <tr>\n",
              "      <th>VOTO NULO</th>\n",
              "      <td>2553786</td>\n",
              "      <td>2526</td>\n",
              "      <td>1263</td>\n",
              "      <td>689598</td>\n",
              "      <td>3842472</td>\n",
              "      <td>4780</td>\n",
              "      <td>393439</td>\n",
              "      <td>6315</td>\n",
              "      <td>121248</td>\n",
              "      <td>12782</td>\n",
              "      <td>2294659</td>\n",
              "      <td>-1263</td>\n",
              "    </tr>\n",
              "  </tbody>\n",
              "</table>\n",
              "<p>615 rows × 12 columns</p>\n",
              "</div>\n",
              "      <button class=\"colab-df-convert\" onclick=\"convertToInteractive('df-076a0a74-8948-4867-a040-b57c8c724937')\"\n",
              "              title=\"Convert this dataframe to an interactive table.\"\n",
              "              style=\"display:none;\">\n",
              "        \n",
              "  <svg xmlns=\"http://www.w3.org/2000/svg\" height=\"24px\"viewBox=\"0 0 24 24\"\n",
              "       width=\"24px\">\n",
              "    <path d=\"M0 0h24v24H0V0z\" fill=\"none\"/>\n",
              "    <path d=\"M18.56 5.44l.94 2.06.94-2.06 2.06-.94-2.06-.94-.94-2.06-.94 2.06-2.06.94zm-11 1L8.5 8.5l.94-2.06 2.06-.94-2.06-.94L8.5 2.5l-.94 2.06-2.06.94zm10 10l.94 2.06.94-2.06 2.06-.94-2.06-.94-.94-2.06-.94 2.06-2.06.94z\"/><path d=\"M17.41 7.96l-1.37-1.37c-.4-.4-.92-.59-1.43-.59-.52 0-1.04.2-1.43.59L10.3 9.45l-7.72 7.72c-.78.78-.78 2.05 0 2.83L4 21.41c.39.39.9.59 1.41.59.51 0 1.02-.2 1.41-.59l7.78-7.78 2.81-2.81c.8-.78.8-2.07 0-2.86zM5.41 20L4 18.59l7.72-7.72 1.47 1.35L5.41 20z\"/>\n",
              "  </svg>\n",
              "      </button>\n",
              "      \n",
              "  <style>\n",
              "    .colab-df-container {\n",
              "      display:flex;\n",
              "      flex-wrap:wrap;\n",
              "      gap: 12px;\n",
              "    }\n",
              "\n",
              "    .colab-df-convert {\n",
              "      background-color: #E8F0FE;\n",
              "      border: none;\n",
              "      border-radius: 50%;\n",
              "      cursor: pointer;\n",
              "      display: none;\n",
              "      fill: #1967D2;\n",
              "      height: 32px;\n",
              "      padding: 0 0 0 0;\n",
              "      width: 32px;\n",
              "    }\n",
              "\n",
              "    .colab-df-convert:hover {\n",
              "      background-color: #E2EBFA;\n",
              "      box-shadow: 0px 1px 2px rgba(60, 64, 67, 0.3), 0px 1px 3px 1px rgba(60, 64, 67, 0.15);\n",
              "      fill: #174EA6;\n",
              "    }\n",
              "\n",
              "    [theme=dark] .colab-df-convert {\n",
              "      background-color: #3B4455;\n",
              "      fill: #D2E3FC;\n",
              "    }\n",
              "\n",
              "    [theme=dark] .colab-df-convert:hover {\n",
              "      background-color: #434B5C;\n",
              "      box-shadow: 0px 1px 3px 1px rgba(0, 0, 0, 0.15);\n",
              "      filter: drop-shadow(0px 1px 2px rgba(0, 0, 0, 0.3));\n",
              "      fill: #FFFFFF;\n",
              "    }\n",
              "  </style>\n",
              "\n",
              "      <script>\n",
              "        const buttonEl =\n",
              "          document.querySelector('#df-076a0a74-8948-4867-a040-b57c8c724937 button.colab-df-convert');\n",
              "        buttonEl.style.display =\n",
              "          google.colab.kernel.accessAllowed ? 'block' : 'none';\n",
              "\n",
              "        async function convertToInteractive(key) {\n",
              "          const element = document.querySelector('#df-076a0a74-8948-4867-a040-b57c8c724937');\n",
              "          const dataTable =\n",
              "            await google.colab.kernel.invokeFunction('convertToInteractive',\n",
              "                                                     [key], {});\n",
              "          if (!dataTable) return;\n",
              "\n",
              "          const docLinkHtml = 'Like what you see? Visit the ' +\n",
              "            '<a target=\"_blank\" href=https://colab.research.google.com/notebooks/data_table.ipynb>data table notebook</a>'\n",
              "            + ' to learn more about interactive tables.';\n",
              "          element.innerHTML = '';\n",
              "          dataTable['output_type'] = 'display_data';\n",
              "          await google.colab.output.renderOutput(dataTable, element);\n",
              "          const docLink = document.createElement('div');\n",
              "          docLink.innerHTML = docLinkHtml;\n",
              "          element.appendChild(docLink);\n",
              "        }\n",
              "      </script>\n",
              "    </div>\n",
              "  </div>\n",
              "  "
            ]
          },
          "metadata": {},
          "execution_count": 83
        }
      ]
    },
    {
      "cell_type": "markdown",
      "source": [
        "6. Salve esse DataFrame em um arquivo csv.\n"
      ],
      "metadata": {
        "id": "1Jlq8LE76dfq"
      }
    },
    {
      "cell_type": "code",
      "source": [],
      "metadata": {
        "id": "KLDy6s476eoJ"
      },
      "execution_count": 50,
      "outputs": []
    },
    {
      "cell_type": "markdown",
      "source": [
        "7. Determine qual foi o senador eleito.\n"
      ],
      "metadata": {
        "id": "J68Oempw6exI"
      }
    },
    {
      "cell_type": "code",
      "source": [],
      "metadata": {
        "id": "1d0vWem26gK7"
      },
      "execution_count": 50,
      "outputs": []
    },
    {
      "cell_type": "markdown",
      "source": [
        "8. Faça um gráfico mostrando os candidatos a senador e os votos em branco e nulos no eixo X e a votação que cada um deles obteve no eixo y. Seu gráfico deve ser de linha ligado por ponto e conter grade no fundo. Seu gráfico deve ter título, legenda, título para o eixo X e título para o eixo Y.\n"
      ],
      "metadata": {
        "id": "l_sNnoKj6gSn"
      }
    },
    {
      "cell_type": "code",
      "source": [],
      "metadata": {
        "id": "fediurkv6hpt"
      },
      "execution_count": 50,
      "outputs": []
    },
    {
      "cell_type": "markdown",
      "source": [
        "9. Faça um gráfico de pizza mostrando a porcentagem de votos válidos que cada candidato ao senado obteve.\n"
      ],
      "metadata": {
        "id": "6YDyDJ8Z6hy9"
      }
    },
    {
      "cell_type": "code",
      "source": [],
      "metadata": {
        "id": "6AfqlCvq6i6B"
      },
      "execution_count": 50,
      "outputs": []
    },
    {
      "cell_type": "markdown",
      "source": [
        "10. Determine quantos candidatos a deputado estadual obtiveram menos de 10 votos."
      ],
      "metadata": {
        "id": "X3tdnLjt6jCb"
      }
    },
    {
      "cell_type": "code",
      "source": [],
      "metadata": {
        "id": "2GFmdoX56jwG"
      },
      "execution_count": 50,
      "outputs": []
    }
  ],
  "metadata": {
    "kernelspec": {
      "display_name": "Python 3.10.6 64-bit",
      "language": "python",
      "name": "python3"
    },
    "language_info": {
      "name": "python",
      "version": "3.10.6"
    },
    "orig_nbformat": 4,
    "vscode": {
      "interpreter": {
        "hash": "916dbcbb3f70747c44a77c7bcd40155683ae19c65e1c03b4aa3499c5328201f1"
      }
    },
    "colab": {
      "provenance": [],
      "include_colab_link": true
    }
  },
  "nbformat": 4,
  "nbformat_minor": 0
}