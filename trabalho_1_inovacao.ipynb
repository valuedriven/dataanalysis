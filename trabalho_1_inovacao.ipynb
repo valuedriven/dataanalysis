{
  "cells": [
    {
      "cell_type": "markdown",
      "metadata": {
        "id": "view-in-github",
        "colab_type": "text"
      },
      "source": [
        "<a href=\"https://colab.research.google.com/github/valuedriven/dataanalysis/blob/master/trabalho_1_inovacao.ipynb\" target=\"_parent\"><img src=\"https://colab.research.google.com/assets/colab-badge.svg\" alt=\"Open In Colab\"/></a>"
      ]
    },
    {
      "cell_type": "markdown",
      "metadata": {
        "id": "jvCoJCdg-CLc"
      },
      "source": [
        "## 1º Trabalho prático"
      ]
    },
    {
      "cell_type": "markdown",
      "metadata": {
        "id": "nU2qkZpO-CLf"
      },
      "source": [
        "1. Um sistema de equações lineares da forma:\n",
        "\n",
        "$$ \n",
        "ax + by = c\\\\\n",
        "dx + ez = f\n",
        "$$\n",
        "\n",
        "pode ser resolvido com as seguintes equações\n",
        "\n",
        "$$x = \\frac{ce-bf}{ae-bd}$$\\\n",
        "$$y = \\frac{af-cd}{ae-bd}$$\n",
        "\n",
        "Escreva um programa que lê o conjunto de coeficientes ( a, b, c, d, e, f) e imprime a solução $x$ e $y$. Antes de efetuar as divisões, verificar se ela pode ser feita. Em caso negativo, imprimir uma mensagem de que o sistema não tem solução."
      ]
    },
    {
      "cell_type": "code",
      "execution_count": null,
      "metadata": {
        "id": "eYMumCpm-CLh"
      },
      "outputs": [],
      "source": [
        "a = float(input(\"Coeficiente a: \"))\n",
        "b = float(input(\"Coeficiente b: \"))\n",
        "c = float(input(\"Coeficiente c: \"))\n",
        "d = float(input(\"Coeficiente d: \"))\n",
        "e = float(input(\"Coeficiente e: \"))\n",
        "f = float(input(\"Coeficiente f: \"))\n",
        "if (a*e == b*d):\n",
        "  print(\"Não é possível resolver o sistema, visto que ae = bd\")\n",
        "else:\n",
        "  x = (c*e - b*f)/(a*e - b*d)\n",
        "  y = (a*f - c*d)/(a*e - b*d)\n",
        "  print(\"Solução do sistema: x = {}; y={}\".format(x,y))\n"
      ]
    },
    {
      "cell_type": "markdown",
      "metadata": {
        "id": "yV0CX4Xo-CLk"
      },
      "source": [
        "2. Faça um programa que solicite o ano de casamento de um casal, o ano atual e escreva as seguintes mensagens, para os seguintes casos: 25 anos – “Bodas de Prata”; 50 anos – “Bodas de Ouro” e 75 anos – “Bodas de Diamante”. Nos casos restantes escrever apenas o número de anos de casados."
      ]
    },
    {
      "cell_type": "code",
      "execution_count": null,
      "metadata": {
        "id": "FdWnMhSH-CLl"
      },
      "outputs": [],
      "source": [
        "ano_casamento = int(input(\"Ano de casamento: \"))\n",
        "ano_atual = int(input(\"Ano atual: \"))\n",
        "if (ano_atual < ano_casamento):\n",
        "  print(\"Ano de casamento não pode ser maior que ano atual\")\n",
        "else:\n",
        " tempo_casamento = ano_atual - ano_casamento\n",
        " if tempo_casamento == 25:\n",
        "   print(\"Bodas de Prata\")\n",
        " elif tempo_casamento == 50:\n",
        "   print(\"Bodas de Ouro\")\n",
        " elif tempo_casamento == 75:\n",
        "   print(\"Bodas de Diamante\")\n",
        " else:\n",
        "   print(\"Número de anos casados: {}\".format(tempo_casamento))  \n",
        "\n"
      ]
    },
    {
      "cell_type": "markdown",
      "metadata": {
        "id": "GJS5IoP3-CLl"
      },
      "source": [
        "3. Faça uma função para calcular o valor aproximado de $sen\\ x$ por meio da série: \n",
        "\n",
        "$S = x - \\frac{x^3}{3!} + \\frac{x^5}{5!} - \\frac{x^7}{7!} + \\frac{x^9}{9!} - \\cdots$\n",
        "\n",
        "OBS.1: O número de termos da série e o valor de x deverá ser fornecido pelo usuário no programa principal e passado à função como parâmetro.\n",
        "OBS.2: Escreva uma função fatorial para ser usada no cálculo de cada termo."
      ]
    },
    {
      "cell_type": "code",
      "execution_count": null,
      "metadata": {
        "id": "thrIYvbl-CLm"
      },
      "outputs": [],
      "source": [
        "def fatorial(n):\n",
        "  if n < 0:\n",
        "    print(\"Não existe fatorial de número negativo\")\n",
        "    return\n",
        "  else:\n",
        "    fatorial = 1\n",
        "    for contador in range(1,n+1):  \n",
        "      fatorial *= contador;\n",
        "    return fatorial\n",
        "\n",
        "x = int(input(\"X: \"))\n",
        "numero_termos = int(input(\"Número de termos: \"))\n",
        "if numero_termos < 0:\n",
        "    print(\"Número de termos deve ser maior que zero\")\n",
        "else:\n",
        "  sen_x = 0\n",
        "  multiplicador = 1\n",
        "  fator = 1\n",
        "  for i in range(1, numero_termos+1):\n",
        "    sen_x += multiplicador*x**fator/fatorial(fator)\n",
        "    print(i, fator, fatorial(fator), multiplicador, sen_x)\n",
        "    fator += 2\n",
        "    multiplicador = multiplicador*-1    \n",
        "  print(\"Sen {} = {}\".format(x, sen_x))"
      ]
    },
    {
      "cell_type": "markdown",
      "metadata": {
        "id": "6SC_3xhX-CLn"
      },
      "source": [
        "4. Elabore um algoritmo para apurar o Valor do Imposto de Renda a ser descontado dos 5 funcionários de uma loja de produtos de informática.\n",
        "\n",
        "Procedimentos:\n",
        "\n",
        "a. Solicite e obtenha os seguintes dados de cada um dos 5 funcionários: Número de registro; Número de Dependentes; Salário Bruto; e Valor do desconto do INSS.\n",
        "\n",
        "b. Valide o Número de registro, que deve ser maior que zeros. Caso contrário, envie a seguinte mensagem: “Número de Registro do Funcionário não pode ser zero.”, e solicite/leia/valide esse dado novamente.\n",
        "\n",
        "c. Valide o Valor do Salário Bruto, que deve ser maior que zeros. Caso contrário, envie a seguinte mensagem: “Salário Bruto não pode ser zeros ou negativo.”, e solicite/leia/valide esse dado novamente.\n",
        "\n",
        "d. Valide o Valor do Desconto INSS, que não deve ser menor que zeros. Caso contrário, envie a seguinte: “Valor do Desconto do INSS não pode ser negativo.”, e solicite/leia/valide esse dado novamente.\n",
        "\n",
        "e. Após validações, calcule o Valor do IR (Imposto de Renda) a ser descontado do funcionário procedendo da seguinte forma:\n",
        "\n",
        "Calcule: Desconto dos Dependentes = Número de Dependentes x 189,59\n",
        "\n",
        "Calcule: Salário Base para IR = Salário Bruto – Valor Desconto do INSS – Desconto dos Dependentes\n",
        "\n",
        "Considerando a tabela abaixo e o Salário Base para IR, \n",
        "\n",
        "|Salário base para IR (R$)|Alíquota IR(%)|Valor a deduzir (R$)|\n",
        "|-------------------------|--------------|--------------------|\n",
        "|Até 1.903,98             |0,00          |0,00                |\n",
        "|De 1.903,99 até 2826,65  |7,5           |142,80              |\n",
        "|De 2826,66 até 3751,05   |15,0          |354,80              |\n",
        "|De 3751,06 até 4664,08   |22,5          |636,13              |\n",
        "|Acima de 4664,08         |27,5          |869,36              |\n",
        "\n",
        "calcule: Valor do IR = Salário Base para IR x (Alíquota do IR / 100) - Valor a Deduzir.\n",
        "\n",
        "Somente após processar os 5 funcionários mostre os dados abaixo, de cada funcionário (uma linha da tela para cada um):\n",
        "\n",
        "Num.Reg. Num.Dep. Sal.Bruto Val.INSS Sal.Base IR Val. do \n",
        "\n"
      ]
    },
    {
      "cell_type": "code",
      "execution_count": null,
      "metadata": {
        "id": "wthYSC_D-CLo"
      },
      "outputs": [],
      "source": [
        "# Responda aqui"
      ]
    }
  ],
  "metadata": {
    "kernelspec": {
      "display_name": "Python 3.10.4 64-bit",
      "language": "python",
      "name": "python3"
    },
    "language_info": {
      "codemirror_mode": {
        "name": "ipython",
        "version": 3
      },
      "file_extension": ".py",
      "mimetype": "text/x-python",
      "name": "python",
      "nbconvert_exporter": "python",
      "pygments_lexer": "ipython3",
      "version": "3.10.4"
    },
    "vscode": {
      "interpreter": {
        "hash": "916dbcbb3f70747c44a77c7bcd40155683ae19c65e1c03b4aa3499c5328201f1"
      }
    },
    "colab": {
      "provenance": [],
      "include_colab_link": true
    }
  },
  "nbformat": 4,
  "nbformat_minor": 0
}