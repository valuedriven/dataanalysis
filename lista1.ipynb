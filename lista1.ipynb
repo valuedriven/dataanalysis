{
  "nbformat": 4,
  "nbformat_minor": 0,
  "metadata": {
    "colab": {
      "provenance": [],
      "authorship_tag": "ABX9TyMxy2x80m5pdOj4EpNLbdmV",
      "include_colab_link": true
    },
    "kernelspec": {
      "name": "python3",
      "display_name": "Python 3"
    },
    "language_info": {
      "name": "python"
    }
  },
  "cells": [
    {
      "cell_type": "markdown",
      "metadata": {
        "id": "view-in-github",
        "colab_type": "text"
      },
      "source": [
        "<a href=\"https://colab.research.google.com/github/valuedriven/dataanalysis/blob/master/lista1.ipynb\" target=\"_parent\"><img src=\"https://colab.research.google.com/assets/colab-badge.svg\" alt=\"Open In Colab\"/></a>"
      ]
    },
    {
      "cell_type": "markdown",
      "source": [
        "E1"
      ],
      "metadata": {
        "id": "FBI2z2a-Nxfo"
      }
    },
    {
      "cell_type": "code",
      "source": [
        "ano_nascimento = int(input(\"Ano de nascimento: \"))\n",
        "ano_atual = int(input(\"Ano atual: \"))\n",
        "if ano_nascimento > ano_atual:\n",
        "  print(\"Ano nascimento maior que ano atual\")\n",
        "elif ano_atual > 2025:\n",
        "  print(\"Ano atual maior que ano limite\")\n",
        "else:\n",
        "  idade = ano_atual - ano_nascimento\n",
        "  idade_projetada = idade + (2025-ano_atual)\n",
        "  print(\"Idade atual {}. Idade projetada {}\".format(idade, idade_projetada))"
      ],
      "metadata": {
        "id": "okISTffXN1r2"
      },
      "execution_count": null,
      "outputs": []
    }
  ]
}