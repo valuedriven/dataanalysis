{
  "nbformat": 4,
  "nbformat_minor": 0,
  "metadata": {
    "colab": {
      "provenance": [],
      "authorship_tag": "ABX9TyPwCQRvTaa5skLvMmKcgmed",
      "include_colab_link": true
    },
    "kernelspec": {
      "name": "python3",
      "display_name": "Python 3"
    },
    "language_info": {
      "name": "python"
    }
  },
  "cells": [
    {
      "cell_type": "markdown",
      "metadata": {
        "id": "view-in-github",
        "colab_type": "text"
      },
      "source": [
        "<a href=\"https://colab.research.google.com/github/valuedriven/dataanalysis/blob/master/lista1.ipynb\" target=\"_parent\"><img src=\"https://colab.research.google.com/assets/colab-badge.svg\" alt=\"Open In Colab\"/></a>"
      ]
    },
    {
      "cell_type": "markdown",
      "source": [
        "# E1\n",
        "Fornecidos o ano de nascimento de uma pessoa e o ano atual, calcule e mostre a idade da pessoa e quantos anos essa pessoa terá em 2025."
      ],
      "metadata": {
        "id": "FBI2z2a-Nxfo"
      }
    },
    {
      "cell_type": "code",
      "source": [
        "ano_nascimento = int(input(\"Ano de nascimento: \"))\n",
        "ano_atual = int(input(\"Ano atual: \"))\n",
        "if ano_nascimento > ano_atual:\n",
        "  print(\"Ano nascimento maior que ano atual\")\n",
        "elif ano_atual > 2025:\n",
        "  print(\"Ano atual maior que ano limite\")\n",
        "else:\n",
        "  idade = ano_atual - ano_nascimento\n",
        "  idade_projetada = idade + (2025-ano_atual)\n",
        "  print(\"Idade atual {}. Idade projetada {}\".format(idade, idade_projetada))"
      ],
      "metadata": {
        "id": "okISTffXN1r2"
      },
      "execution_count": null,
      "outputs": []
    },
    {
      "cell_type": "markdown",
      "source": [
        "# E2\n",
        "Sabe-se que para iluminar de maneira correta os cômodos de uma casa, para cada m 2, deve-se usar 15 W de potência. Sendo fornecidas as dimensões de um cômodo (retangular em metros),calcule e exiba a sua área (em m 2 ) e a potência de iluminação que deverá ser utilizada."
      ],
      "metadata": {
        "id": "j_o81wLUPaFF"
      }
    },
    {
      "cell_type": "code",
      "source": [
        "largura = float(input(\"Largura: \"))\n",
        "comprimento = float(input(\"Comprimento: \"))\n",
        "if largura <= 0 or comprimento <= 0:\n",
        "  print(\"Dimensões inválidas\")\n",
        "else:\n",
        "  area = largura * comprimento\n",
        "  potencia = area * 15\n",
        "  print(\"Área {}. Potência {}\".format(area, potencia))\n",
        "\n"
      ],
      "metadata": {
        "id": "RJj9Fx3NPbQz"
      },
      "execution_count": null,
      "outputs": []
    },
    {
      "cell_type": "markdown",
      "source": [
        "# E3\n",
        "Entrar com um ângulo em graus e exibir o valor do seu seno, co-seno e tangente. Dica: usar a biblioteca math para as funções que calcular seno, cosseno e tangente. Obs.: Elas recebem o valor do ângulo em radianos."
      ],
      "metadata": {
        "id": "bSAqbCrXQSd5"
      }
    },
    {
      "cell_type": "code",
      "source": [
        "import math\n",
        "\n",
        "angulo = math.radians(float(input(\"Ângulo em graus: \")))\n",
        "if angulo < 0 or angulo > 360:\n",
        "  print(\"Ângulo inválido\")\n",
        "else:\n",
        "  seno = math.sin(angulo)\n",
        "  cosseno = math.cos(angulo)\n",
        "  tangente = math.tan(angulo)\n",
        "  print(\"Seno: {:.1f} cosseno: {:.1f} tangente: {:.1f} \".format(seno, cosseno, tangente))"
      ],
      "metadata": {
        "id": "uhLcCpS9QWXH"
      },
      "execution_count": null,
      "outputs": []
    },
    {
      "cell_type": "markdown",
      "source": [
        "# E4\n",
        "Uma pessoa resolveu fazer uma aplicação em uma poupança programada. Calcule e exiba o rendimento que ela obterá, sabendo que deverá ser fornecido o valor constante da aplicação mensal, a taxa e o número de meses. A fórmula usada para este cálculo é: valor acumulado = P * (((1 + i) n – 1) / i), onde i = taxa; P = aplicação mensal; n = número de meses. Dica: usar a biblioteca math."
      ],
      "metadata": {
        "id": "z0RZqxK3TMyL"
      }
    },
    {
      "cell_type": "code",
      "source": [
        "import math\n",
        "\n",
        "P = float(input(\"Aplicação mensal em R$: \"))\n",
        "i = float(input(\"Taxa em valores decimais: \"))\n",
        "n = int(input(\"Meses: \"))\n",
        "valor_acumulado = P * (math.pow(1 + i,n) - 1)/i\n",
        "print(\"Valor acumulado {}\".format(valor_acumulado))"
      ],
      "metadata": {
        "id": "xycezTO2TiDF"
      },
      "execution_count": null,
      "outputs": []
    },
    {
      "cell_type": "markdown",
      "source": [
        "# E5\n",
        "Escreva um programa que solicite um determinado número de segundos e, em seguida, indique quantas horas, minutos e segundos esse valor representa. Ex: 5000 segundos representam 1h 23min 20s."
      ],
      "metadata": {
        "id": "QwZZixnHWke9"
      }
    },
    {
      "cell_type": "code",
      "source": [
        "segundos_informados = int(input(\"Segundos: \"))\n",
        "horas = segundos_informados//3600\n",
        "minutos = (segundos_informados % 3600)//60\n",
        "segundos = segundos_informados % 60\n",
        "print(\"Resultado: {}h {}min {}s\".format(horas, minutos, segundos))"
      ],
      "metadata": {
        "id": "DJWdSALTWpKr"
      },
      "execution_count": null,
      "outputs": []
    },
    {
      "cell_type": "markdown",
      "source": [
        "# E6\n",
        "Dados os coeficientes de uma equação do segundo grau calcular e imprimir as raízes da equação. Caso a equação não possua raízes reais seu programa deve mostrar uma mensagem."
      ],
      "metadata": {
        "id": "zGpsfMPEXGg4"
      }
    },
    {
      "cell_type": "code",
      "source": [
        "import math\n",
        "\n",
        "a = int(input(\"a: \"))\n",
        "b = int(input(\"b: \"))\n",
        "c = int(input(\"c: \"))\n",
        "delta = b**2 - 4*a*c\n",
        "if delta < 0:\n",
        "  print(\"Equação não possui raizes reais\")\n",
        "elif delta == 0:\n",
        "  x = (-b )/(2*a)\n",
        "  print(\"Raiz: {}\".format(x))\n",
        "else:\n",
        "  x1 = (-b + math.sqrt(delta))/(2*a)\n",
        "  x2 = (-b - math.sqrt(delta))/(2*a)\n",
        "  print(\"Raizes: {} e {}\".format(x1,x2))"
      ],
      "metadata": {
        "id": "aaOnBfP5XKnO"
      },
      "execution_count": null,
      "outputs": []
    },
    {
      "cell_type": "markdown",
      "source": [
        "# E7\n",
        "Faça um programa para receber três números inteiros: um representando um dia, outro representando um mês e um terceiro representando um ano d.C. O programa deverá decidir se juntos os três números formam uma data válida."
      ],
      "metadata": {
        "id": "SMI7xYSMXLf-"
      }
    },
    {
      "cell_type": "code",
      "source": [
        "# algoritmo ano bissexto: https://pt.wikipedia.org/wiki/Ano_bissexto\n",
        "\n",
        "dia = int(input(\"Dia: \"))\n",
        "mes = int(input(\"Mês: \"))\n",
        "ano = int(input(\"Ano: \"))\n",
        "erro_data = 0\n",
        "if dia < 1 or dia > 31:\n",
        "  print(\"Dia inválido\")\n",
        "  erro_data = 1\n",
        "elif mes < 0 or mes > 12:  \n",
        "  print(\"Mês inválido\")\n",
        "  erro_data = 1\n",
        "elif ano < 0:\n",
        "  print(\"Ano inválido\")\n",
        "  erro_data = 1\n",
        "elif mes in (4, 6, 9, 11) and dia > 30:\n",
        "  print(\"Dia {} inválido para mês {}\".format(dia, mes))\n",
        "elif mes == 2:\n",
        "  if (ano % 400 == 0) or (ano % 4 == 0 and ano % 100 != 0):\n",
        "    if dia > 29:\n",
        "      print(\"Dia {} inválido para mês {} e ano {}\".format(dia, mes, ano))\n",
        "      erro_data = 1\n",
        "  elif dia > 28:\n",
        "    print(\"Dia {} inválido para mês {} e ano {}\".format(dia, mes, ano))\n",
        "    erro_data = 1\n",
        "    \n",
        "if erro_data == 0:\n",
        "  print(\"{}/{}/{} formam uma data válida\".format(dia, mes, ano))"
      ],
      "metadata": {
        "id": "WLXdtWJGXf2I"
      },
      "execution_count": null,
      "outputs": []
    },
    {
      "cell_type": "markdown",
      "source": [
        "# E8\n",
        "Faça um programa para ler os comprimentos dos três lados de um suposto triângulo e determinar, caso formem um triângulo, se o mesmo é um triângulo equilátero, isósceles ou escaleno."
      ],
      "metadata": {
        "id": "EdEwNGmOXPLc"
      }
    },
    {
      "cell_type": "code",
      "source": [],
      "metadata": {
        "id": "UWCd3IT6XmTk"
      },
      "execution_count": null,
      "outputs": []
    },
    {
      "cell_type": "markdown",
      "source": [
        "# E9\n",
        "O máximo divisor comum de dois inteiros é o maior número que divide ambos sem deixar resto. Escreva um programa em Python que lê dois inteiros positivos (ou seja, maiores que zero) e calcula o seu máximo divisor comum."
      ],
      "metadata": {
        "id": "RsSqR-VaXSRS"
      }
    },
    {
      "cell_type": "code",
      "source": [],
      "metadata": {
        "id": "qGiYDiDhXlte"
      },
      "execution_count": null,
      "outputs": []
    },
    {
      "cell_type": "markdown",
      "source": [
        "# E10\n",
        "Um rei requisitou os serviços de um sábio e disse-lhe que pagaria qualquer preço. O sábio, necessitando de alimento para seu povo, solicitou ao rei que o pagamento por seus serviços fosse feito em grãos de trigo e respeitando a seguinte regra: para contar a quantidade de grãos usariam um tabuleiro de xadrez; o rei dar-lhe-ia um grão pela primeira casa do tabuleiro, dois grãos pela segunda casa, quatro pela terceira, oito pela quarta, e, assim dobrando sucessivamente, até a sexagésima quarta e última casa do tabuleiro. O rei achou barato e ordenou que o pagamento fosse efetuado, sem se dar conta de que seria impossível realizar o pagamento. Faça um programa em Python para calcular o número de grãos que o rei deve ao sábio."
      ],
      "metadata": {
        "id": "i52BxflGXV9g"
      }
    },
    {
      "cell_type": "code",
      "source": [],
      "metadata": {
        "id": "AD4_OyvVXnAX"
      },
      "execution_count": null,
      "outputs": []
    },
    {
      "cell_type": "markdown",
      "source": [
        "# E11\n",
        "Dado um país A, com 5.000.000 de habitantes e uma taxa de natalidade de 3% ao ano, e um país B com 7.000.000 e uma taxa de natalidade de 2% ao ano, construa um programa em Python que calcule quantos anos serão necessários para que a população do país A ultrapasse a população do país B."
      ],
      "metadata": {
        "id": "wvyYM3QCXbIr"
      }
    },
    {
      "cell_type": "code",
      "source": [],
      "metadata": {
        "id": "PQlenjObXnkT"
      },
      "execution_count": null,
      "outputs": []
    },
    {
      "cell_type": "markdown",
      "source": [
        "# E12\n",
        "Faça um programa em Python que receba três números em ordem decrescente. O programa deve verificar se os números recebidos estão realmente em ordem decrescente. Caso positivo, o programadeve então receber um quarto número que  não siga a regra de ordem decrescente e deve exibir os quatro números recebidos em ordem crescente. Se os três primeiros números recebidos não estiverem em ordem decrescente, o programa deverá apenas exibir uma mensagem de erro!"
      ],
      "metadata": {
        "id": "89aRahRHXnyl"
      }
    },
    {
      "cell_type": "code",
      "source": [],
      "metadata": {
        "id": "14kUD6dZXuvE"
      },
      "execution_count": null,
      "outputs": []
    },
    {
      "cell_type": "markdown",
      "source": [
        "# E13\n",
        "Fazer um programa em Python para solicitar N (número inteiro maior que zero) e calcular o valor de S, dado por: \n",
        "\n",
        "![Captura de tela de 2022-09-20 21-07-47.png](data:image/png;base64,iVBORw0KGgoAAAANSUhEUgAAAcsAAAB5CAYAAABWdwqNAAAABHNCSVQICAgIfAhkiAAAABl0RVh0U29mdHdhcmUAZ25vbWUtc2NyZWVuc2hvdO8Dvz4AABnmSURBVHic7d17WFR1/gfw9wxyGdBQMC4Kv1BuBgamlre8k3fxLupWllabSbqptO4ls9V0t9bVzOyim5KaEeKl0tRSFNtE1M31gjAYgaiACoQMF7nM/P5AjowCZ8A5M3Nm3q/n4XnmzJwv85nznZnPnPO9KXQ6nQ5ERETUKKW5AyAiIrJ0TJZEREQimCyJiIhEMFkSERGJYLIkIiISwWRJREQkgsmSiIhIBJMlERGRCCZLIiIiEUyWREREIpgsiYiIRDBZEhERiWCyJCIiEsFkSUREJILJkoiISASTJRERkQgmSyIiIhFMlkRERCKYLImIiEQwWRIREYlgsiQiIhLBZElERCSCyZKIiEgEkyUREZEIJksiIiIRrcwdgDWqrq7GkSOH4e8fgE6dOps7HFnR6XTIy83F5ZzLuHHjOjQlGgCAi4sLPDw9ERAQCHd3dzNHSfVptVpcvXIFl3Mu41ZxMUpLS1FZVQmVkwru7dujU6fO8PX1NXeYZGapF85D18hjQUFBsLd3aPCx7OwsaDSaRv+vWzs3eHfoYIQIm8ZkaURarRb7v9uHzz7bgNzcXCxYsIjJshni4rZj44ZPUFZWJtxnZ2cHR0dHvftCQ7vi2edmon//geYIk+r5bt9e/Otf7+nVj1KphEqlQllZGXS62q/Hjh19MGnyFEycOBn29vbmCpfMRKPRYP36dcjJyUFBwU3hfVEnJmYxxk+Y2GDZ+Pg4nD51Crm5uaiqqhTud3V1RceOPpgydZpJkqVCd2/U1Gw6nQ6HD/2AjRs/xeXL2cL9CxYswqTJU80Ymbys++B9bN++DWFh4RgzNhI9evSEh4cnlEolNBoNkpN/wvoP1yE/Pw8AMGnSFCxYGGPmqG3bli2x+PijDxESEooJEyYhLDwcnp5esLe3x+3bt3HmzM/45OP1SE9PAwD06NETq/61ptGzCLJ+aWkXMXvWTL37/Pz8sHVbHBQKRaPltFot5rzyEs6fP4fYz7chICBQ6lD1sM3yAf14LAnPz/wdliz5CxwdHeHp6WXukGRvyZK3MXr0WHh5eUOprH2Ltm7dGhERw7D+o0/g7OwMAEhIiMfevd+YM1S6Y8HCGIwaPQY+Pr7CmaOjoyN69eqND9Z9JHwuTp8+hdjYzWaMlMzt18xMAEC/fk8JyTErKwsnTiQ3WU6pVCIr61eoVM7o3Nlf8jjve36TP6MVWfv+asTGbsKwYSMRv2MXNsduhb+/6SvRmrRv/3CTl1S8vLwxfMRIYfvL7V+YIixqgpNKhaCg4EYfd3FxwegxY4Xtvd9+bYqwyEKp1ekAgIinh6NX7z7C/V/FbW+y3NWrV6DRaBAYGCj8iDYltlk+gN+/8iocHR3NHYbV6PnEk/A34NJKyKOh2IUEAEBm5i+oqKiAk5OT1OFRA8LCwvFa9HzY2dk1uV/nznfb7q9fv46K8nI4qVRSh0cWqO6SfHBwMNq1bYvk4z8BAFJSTiArKwt+fn4NlqtLskHBjf8wkxLPLB8AE6Vx9e7dByNHjhLd794v2dLSUqlCIhHh4d0a7ZhRn8M9bZS6RvtFkjXT6XTIyFDDSaWCr+//4YknewmdIHU6HeLjv2y0rFqtBgAEB3UxSaz3YrIk2blVXCzctrOzQ7t27cwYDRnixo0bwu2HH34YKpWzGaMhc7mSk4OysjIEBQYJl1KnRk0THt//3T6UlJQ0WFZ954w0KJjJksgg+dfzhduB9T50ZLmO/Zgk3B4xcrQZIyFzSlfXJrzAem3cI0aMgmvbtgCAiooK7Nmzq8GyanU67O0d0KlTJ+kDbQC/ZUh2Tp06KdweNmy4GSMhQyQkxAvtUiGhXfHCC7PNHBGZS3p6bbtjcL12RwcHB4wfP0HYTkiIR01NjV65goKbKCwshL+/v2j7uFTYwYdk5dq1q0i7mAoA8PD0xLhxE0RKkCmlpJzAb0VFKC0tRf71fKScSEZ6ehoeeughTJg4Cc8/PxsODhxjaasy1HXJUv9S6qRJU7Bt6xZUV1fjen4+jiQextCIp4XH1Y2UMyUmS5KVjRs+hVarhUKhQEzMYvaotDDL/vYWCgsLhW2lUomePZ/A6DGR6N27DxOljau7lOrnp38p1d29PYYMjcDBA/sB1M7mVT9Z1p2RmqsnLMBkSTJy9EgiDh6s/TBFR89H3779zBwR3Wtz7DZoNCUoLS1FUVERMn+5hMTEw3h76Zto1aoVhg0fgblzX0PbtuyUZWvy8nJRXFyM4C5d0KrV/alnWtQMIVleuHAeqRfOIyS0K4B6w0aaGM8rNbZZkixkZKixbNnb0Ol0eGHWi5g2fYa5Q6IGuLu745FH/BASEop+/Z7Cs889j882fY55819HdXU19u39FrNemKnXO5Zsg9Be2cjQj+AuXRAW3k3Yjou7O4xErU6HnZ2dyae4q4/JkizexYupmPfaq7h9uwIxMYvx4osvmzskaqaoqOl4+unazlj5+XlYu3a1mSMiU1MLkxE03u4YVW8YSWLiIdy4cQMaTQlyr12Dn18ns17GZ7Iki3b8+H8QHT0HWq0O/1y1xqAB8GSZhg0fIdw+lnQUFeXlZoyGTM2QdscBAwbB29sbAFBTU4OEHV8JkxGYs70SYLIkCxYfH4c3YhbC28sbG/+9Gb169TZ3SPQAOnjfnfO3qqoKefn5TexN1katToNSqYS/f0Cj+yiVSkyeHCVs79mzC2fP/g+AedsrASZLskBVVVVYuWI51qxehUGDh2Djxk1cPNgCabXaZp0dVlVX6W2ba7wcmV5BQQEKCgrg59dJdJrQsZHjhJWFbt26he1fbAVg3mEjAJMlWZiioiK8Fj0H+/Z9i7nR87Bs2QoOD7FQGRlqDB06ELm5uQbtf/XqFeF27XJ2nlKFRhZGrb47eboYFxcXjBo9RtjWaDRQKBQIDAySLD5DmGzoiEZTgkuXLuHq1SsoLS2FtkYLZxdnODs7o107N/j5+cHdvb2pwiELlJGhxh/fWITy8jKsXvMBevZ8wtwhURNUd37EnDx5ApGR40X3P3okUbjdv/9Ajrm0IXfbKw07O5w6dRp2JuyAVqsFAPj4+gpnm+YiebI8mXIC27ZtwenTp4TB5CqVqvYSTkWF3r5ubm7Y8/U+zvVpgy5eTEV09BxUlJdjwICBSD7+kzBFmpiQ0K4YMmSoxBHSvZyc6pJlimiyTEo6ih9++B4A0KZNG7w6N1ry+MhyCJOgG9ju2LGjD/r2ewo/HktqVjkpSZYstVotVq16F7t37QQAhIV3w3PPzUS3bo8LKw6UlJTgzJn/ImFHPE6eTMHDD3vILlHqdDqUlJSgsKAAhUWFerOXZGZm4ty5s3Bzc4ObmxtXWmjC5cvZQvtXUtLRZpUdMzaSydIM6s4sjx5JxF/+vBi9e/dBYFAQPD29YG/fCiUlGmT+cgk//HAQ339/EDqdDh06dMTKv78HT08vM0dPplBQcBM5OTlITb0AoLYNMj8/Dx4enlAoFE2WjYqaLiRLcy3LVZ9kyXLrllghUQ4cNBjLl6+8LxG2adMG/fsPREhIV0SOHYnAIPNek26upW+9icTEQ6iurm7w8d27d2L37p3CtpNKhYULYvSuxxPJlbOzM3r36YtfMzNx9Ggijhw53OB+CoUCQUHBGD5iJCZMmMTLrzYgOzsLs2bNvK8D2J8WxwConTw97qud8PDwaPR/dO/eA4GBQcjIUJt92AgAKHQ6ndFXYa2srMSY0cNRWloKhUKBnbu+afKgaDQaDB82BAsXvYGJEycbOxzZ+vijD3H79u0WlVXaKfHaa38wckQkxlbrrLy8DHl5eSgtLUVZWRkqKirg6OgIV1dX+D3iZ/GdtKy53qz5tZmSJGeWqakXhNXrvby8mkyUAODk5ISQ0K7o2vUxKcKRrV27EqDRaFpUVqnkm9wcbLXOVCpnYcV7ObLmerPm12ZKkiTL+u12ZWVl4kG0aoUNGz6TIhRZ8/T0QuvWpQbvf/PmjUYvCZNpsM7kyZrrzZpfmylJkizbtGkj3C4uLsbBA/v1prpqjpqaGnzz9R5jhXafJ3v1QocOHSX7/w/i8y1fGLzvvr3fYsWKZcJ2H67IYRasM3my5nqz5tdmSpIky8ceC4Ozs7NwVrlixXJU3K4waCzWvSorb+O99/5u7BAFy99ZabHJ0lCJiYewcuVy1DU/d+/eA8uXrzRzVNQU1pk8WXO9WfNrMwZJxmk4OTnhlTlzhe2qqkr84+8r8NKLL+BkygkpntJmJR//CUvfelMYvBsSEop331vFHocWjHUmT9Zcb9b82oxFkt6wdbZsicWnn3wkVECdkJBQzJr9Ivr0ET/Fr6mpwYH930kVIrr36AEvr9pZ7pcvW4qKipb1GjOGefNfF+0MVd+ZMz9jwevzhJ5u/v4BWPfhx3jooYda9PyxmzchI0PdorK2KmradDz2WJjB+xu7zg4c+A7HkpJaVNZWDRg4CMOGDW9WGWPXmyUx1mtb+/5qXL9+XYoQDfL8C7MREND4JO0PStIZfJ59dibCwsKx6p/v4pdfLgn3p6ZewKKFryM8vBti3ljcZC86Ozs7k41LPHr0iEEdkqQy+8WXABiWLC9eTEXMoteFN7iPjy9Wr/nggT68Z878Fyk882+WQYMHG5wspaizSxkZSEw81OLytsjHxweA4clSinqzFMZ8bcnJx5GdnWXkCA0XOW48AOmSpaRnlnV0Oh0OH/oBmzd/hszMX/Qec3BwwJtvLsWQoRFShyEqPj4OVZWVZnv+0WMi4erqqnffnDkvI7PeD406FRUVej3WHBwchEsmKpUKu/fsbfbzJyYeQu61a80uZ8v6PdUfjzzip3efKevs55//i4t3Zkchw4R2fQzh4d3uu9+U9WZqpnht3377NW4VFz94sC00ZGiEcJVQCiaZSF2hUGBoxNMYMjQCx44lYd0H7wsrEFRWVmLp0jfRvn17hDXwBjalKVOixHcysbLSUoPGSFVWVqLyTqKvrqlp0XMNHswp44zBlHX2+OPd8fjj3VtUlvSZst5MzRSvbcyYyBbFJhcmW3UEqE2aAwYMRJ8+ffDpJx/jizvrlNXU1GDdurX4tIGxllVVlVi27G3JYpoWNR0hoV0l+/8Patr036GoqHbcan5+HnbEfyU81qZNGzzz7Mz7phG0t7c3aYykj3UmT9Zcb9b82kzFJJdhG/PuP1Ziz55dwvbB7xPh4uKit095eRkihg6SLIbl76yUxRlVUVER5sx5CTmXLwOonTFl7dp1Fp3obR3rTJ6sud6s+bVJzahDR4qKilD8228G7z95ylS9bXN2rrFkJSUl+MP8ucIb3MHBAe+9t4pvcAvGOpMna643a35tpmDUy7BL3/orOnXqjD+8vtCg/Vu7tBZuKxQKtG3b9r59HB2dsGXrdqPFeC9LXyqovLwMCxfMx6VLtY3zrVq1wjsr/oHHu/cwc2TUGNaZPFlzvVnzazMVoybLjAw1HvHrZPD+WfW6GYeEhDZ4jVypVKJzZ39jhCc7VVWV+OMbi3DhwnkAtcfirbf+hr6cgspisc7kyZrrzZpfmykZLVnm5eWiuLgYWq3hPah27dwh3B43foKxQrEKNTU1+Otf/4zTp08BqD3z/uPiP1vEEBtqGOtMnsxRb+lpaUhOPg5fX18MHjK0wYWQjbEP35PGY7RkqVbXzvySePgwRo8ei0cfDWl0X61Wi02b/o2kpKMAgL59+2HUKC6IXN/BgweEVcIBICg4GKWlpYiLM+yStFKptMihMNaMdSZPpq63c+fO4tU5Lwszm824+AzmRs+TZB++J43HaMnyypUcAMBvvxXh5ZdmYdCgwRg8JAIhISFo27YdqqurcePGdZw9+z/s2bML6WlpUCgUGDM2EgsXvtHgryZbVl1VpbednpaG9LQ0g8vzTW56rDN5MnW9nUw5oTcF6IkTyfclOWPtw/ek8RgtWc6Y8Qz8/QPw/fcHcDIlBYcPH8Lhww1Pw+Xu3h7jx09EZOR4BHfpYqwQiIgsXt9+TyE2dpMwc86gQYMl24eMR7JxlsXFxbh6JQclGg1u374NBwcHuLi4wMfHF+3atZPiKSWXeuE8GjtYQUFBsLdveIb+7OysJmfPcGvnBu8OHYwQofRs5RhUV1fjyJHD8PcPaHLuYjmwtjrT6XTIy83F5ZzLuHHjOjQltTG6uLjAw9MTAQGBcHd3N3lczZGVlYWUlGT4+vo2uqCEsfaRG0v97Ek2g4+rq+t985zKmUajwfr165CTk4OCgpu49zdGTMxijJ8wscGy8fFxOH3qFHJzc1FVdXfuWVdXV3Ts6IMpU6dZVKJojC0cA61Wi/3f7cNnn21Abm4uFixYZFEf2OaytjqLi9uOjRs+0RuTbWdnB0dHR737QkO74tnnZqJ//4Emjc9Qfn5+8PPzM8k+cmHpnz2zzuAjV2lpFzF71ky9+/z8/LB1W1yTba9arRZzXnkJ58+fQ+zn2xAQECh1qJKxtmNQN9n/xo2f4vLlbOH+BQsWYdLkqU2UlA9rqLN1H7yP7du3ISwsHGPGRqJHj57w8PCEUqmERqNBcvJPWP/hOuTn5wEAJk2aggULY8wWL4mTy2dPksWfrd2vmZkAgH79nhK+ZLKysnDiRHKT5ZRKJbKyfoVK5Sz7saPWdAx+PJaE52f+DkuW/AWOjo4WP1FFS1lTnS1Z8jZGjx4LLy9vYU7T1q1bIyJiGNZ/9AmcnZ0BAAkJ8di79xtzhkpNkNNnj8myBdTqdABAxNPD0at3H+H+r0S6Y1+9egUajQaBgYH3TVosN9ZyDNa+vxqxsZswbNhIxO/Yhc2xW+HvbxkJwdispc7at3+4ycu/Xl7eGD5ipLD95fYvTBEWNZPcPnsmXXXEWqSn13a9Dg4ORru2bZF8/CcAQErKCWRlZTXahlD3ZRUUHGySOKVkLcfg96+8CkdHR3OHYRLWUGc9n3gS/gZcBg55NBS7kAAAyMz8BRUVFXBycpI6PGoGuX32zP8zUWZ0Oh0yMtRwUqng6/t/eOLJXkIjtE6nQ3z8l42WrZu4IThI3sNlrOkYyOnD+iCspc569+6DkSNHie7npFLpbZeWlkoVErWQ3D57TJbNdCUnB2VlZQgKDBIuSU2NmiY8vv+7fSgpKWmwrPrOL/ugYPN/6TwIHgP5sbU6u1VcLNy2s7OT7XA1shxMls2Urq794ggMuntJasSIUXC9s2JKRUWF3hqd9anV6bC3d0CnToZPNm+JeAzkx9bqLP96vnA7sN4PBKKW4juomdLTa9tvguu13zg4OGB8vYngExLiUVOjP6F8QcFNFBYWwt/fH3Z2dqYJViI8BvJja3V26tRJ4fawYcPNGAlZCybLZspQ133p6F+SmjRpClq1qu0vdT0/H0cSD+s9rm6knBxJfQzKy8sk+6s/l6YtsaU6u3btKtIupgIAPDw9MW4cVzSiB8fesM1Ud0nK7551O93d22PI0AgcPLAfQO1MI0MjnhYer/tlbwk9Ch+UlMegvLwMEUMHGT/oO5a/sxKDBw+V7P9bKluqs40bPoVWq4VCoUBMzOL7OvsQtQTPLJuhbs3Ozv6dhV/j9U2LmiHcvnDhPFLvLLYK1Ot+HyTvZMljID+2VGdHjyTi4MHaxB8dPZ8LHJPR8MyyGYR2n0a60Ad36YKw8G44+78zAIC4uC/x9t+WA6j90rGzs7OY6d1aSupjoFTaISws3MhR39XWta1k/9tS2UqdZWSosWzZ29DpdHhh1ouYNn2GeCEiAzFZNoNaGNTdePtNVNQ04UsnMfEQom/Mh0rlhNxr1+DvHwAHh4ZXeJALqY+Bo6MjPvp4g3GDtnG2UGcXL6ZiwevzcPt2RZOTwxO1FC/DNoMh7TcDBgyCt7c3AKCmpgYJO74SBnVbQ3slj4H8WHudHT/+H0RHz4FWq8M/V61hoiRJMFk2g1qdBqVSCX//gEb3USqVmDz57srie/bswtmz/wMgn3afpvAYyI8111l8fBzeiFkIby9vbPz3ZvTq1dvcIZGVYrI0UEFBAQoKCuDn10l0mqaxkeOEVQ9u3bqF7V9sBSD/YSM8BvJjrXVWVVWFlSuWY83qVRg0eAg2btwEX19fc4dFVozJ0kBq9d1JqMW4uLhg1OgxwrZGo4FCoUBgYJBk8ZkCj4H8WGOdFRUV4bXoOdi371vMjZ6HZctWcHgISY7J0kB3230M+5U9deo0vSm2fHx9hV/tcsVjID/WVmcZGWrMnjUT2dlZWL3mA8yY8Yy5QyIbwd6wBhImkzaw/aZjRx/07fcUfjyW1KxylozHQH6sqc4uXkxFdPQcVJSXY8CAgUg+/pOwzJiYkNCuGDLE9iajIONhshRRUHATOTk5SE29AKC2LSc/Pw8eHp7CavONiYqaLnzpWMLyRi1l7cdAp9OhpKQEhQUFKCwqRGFhofBYZmYmzp07Czc3N7i5uUGlspyzrKZYY51dvpyNivJyAEBS0tFmlR0zNpLJ0gLJ6bPHZNmI7OwszJo1U/hw1vnT4hgAtZNQx321Ex4eHo3+j+7deyAwMAgZGWqL737fEFs4BkvfehOJiYdQXV3d4OO7d+/E7t07hW0nlQoLF8Tote1ZEluoM7IOcvvsKXQ6nc4sz0xERCQT7OBDREQkgsmSiIhIBJMlERGRCCZLIiIiEUyWREREIpgsiYiIRDBZEhERiWCyJCIiEsFkSUREJILJkoiISASTJRERkQgmSyIiIhFMlkRERCKYLImIiEQwWRIREYlgsiQiIhLBZElERCSCyZKIiEgEkyUREZEIJksiIiIRTJZEREQimCyJiIhEMFkSERGJYLIkIiISwWRJREQkgsmSiIhIBJMlERGRCCZLIiIiEUyWREREIv4fWf80/K8IIb8AAAAASUVORK5CYII=)\n"
      ],
      "metadata": {
        "id": "uvsGIlV_XvRj"
      }
    },
    {
      "cell_type": "code",
      "source": [],
      "metadata": {
        "id": "ER1Y3Gz9X42f"
      },
      "execution_count": null,
      "outputs": []
    },
    {
      "cell_type": "markdown",
      "source": [
        "# E14\n",
        "Faça um programa para fazer conversão de temperaturas de graus Fahrenheit para graus Celsius e vice-versa. O programa deverá apresentar os seguintes subprogramas: \n",
        "a) Função para converter temperaturas em graus Fahrenheit para graus Celsius. Esta função receberá como parâmetro o valor da temperatura em graus Fahrenheit a ser convertido e deverá calcular e retornar para o programa o valor correspondente em graus Celsius. O programa se encarregará de exibir o resultado ao usuário.\n",
        "b) Função para converter temperaturas em graus Celsius para graus Fahrenheit. Esta função receberá como parâmetro o valor da temperatura em graus Celsius a ser convertido e deverá calcular e retornar para o programa o valor correspondente em graus Fahrenheit.\n",
        "OBS.1: O programa deverá ter um menu principal que permita ao usuário executar os subprogramas quantas vezes ele desejar e só deverá terminar sua execução se o usuário solicitar.\n",
        "OBS.2: Toda entrada de dados deve ser feita pelo programa principal.\n",
        "OBS.3: Para as conversões, utilize as fórmulas abaixo:\n",
        "C = 5(F-32)/9 e F = 9C/5 + 32"
      ],
      "metadata": {
        "id": "mz8pFhNEX6UT"
      }
    },
    {
      "cell_type": "code",
      "source": [],
      "metadata": {
        "id": "EEQ30NRQYHh7"
      },
      "execution_count": null,
      "outputs": []
    },
    {
      "cell_type": "markdown",
      "source": [
        "# E15\n",
        "\n",
        "Faça uma função para calcular o valor aproximado de e por meio da série abaixo\n",
        "OBS.1: O número de termos da série deverá ser fornecido pelo usuário no programa principal e passado ao procedimento como parâmetro.\n",
        "OBS.2: Para calcular o fatorial de um número, implemente em seu programa a função fatorial, que deve receber como parâmetro o número cujo fatorial deseja-se calcular.\n",
        "\n",
        "![Captura de tela de 2022-09-20 21-09-33.png](data:image/png;base64,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)\n",
        "\n"
      ],
      "metadata": {
        "id": "NU4lRUUaYHrk"
      }
    },
    {
      "cell_type": "code",
      "source": [
        "def fatorial(n):\n",
        "  if n < 0:\n",
        "    print(\"Não existe fatorial de número negativo\")\n",
        "    return\n",
        "  else:\n",
        "    fatorial = 1\n",
        "    for contador in range(1,n+1):  \n",
        "      fatorial *= contador;\n",
        "    return fatorial\n",
        "    \n",
        "termos = int(input(\"Número de termos: \"))\n",
        "e = 0\n",
        "for i in range(termos):\n",
        "  e += 1/fatorial(i)\n",
        "print(\"e {}\".format(e))"
      ],
      "metadata": {
        "id": "jIRDqhILYSYk"
      },
      "execution_count": null,
      "outputs": []
    }
  ]
}