{
  "nbformat": 4,
  "nbformat_minor": 0,
  "metadata": {
    "colab": {
      "provenance": [],
      "authorship_tag": "ABX9TyNliwyGvnKkSZWbjayNKg4c",
      "include_colab_link": true
    },
    "kernelspec": {
      "name": "python3",
      "display_name": "Python 3"
    },
    "language_info": {
      "name": "python"
    }
  },
  "cells": [
    {
      "cell_type": "markdown",
      "metadata": {
        "id": "view-in-github",
        "colab_type": "text"
      },
      "source": [
        "<a href=\"https://colab.research.google.com/github/valuedriven/dataanalysis/blob/master/lista1.ipynb\" target=\"_parent\"><img src=\"https://colab.research.google.com/assets/colab-badge.svg\" alt=\"Open In Colab\"/></a>"
      ]
    },
    {
      "cell_type": "markdown",
      "source": [
        "# E1"
      ],
      "metadata": {
        "id": "FBI2z2a-Nxfo"
      }
    },
    {
      "cell_type": "code",
      "source": [
        "ano_nascimento = int(input(\"Ano de nascimento: \"))\n",
        "ano_atual = int(input(\"Ano atual: \"))\n",
        "if ano_nascimento > ano_atual:\n",
        "  print(\"Ano nascimento maior que ano atual\")\n",
        "elif ano_atual > 2025:\n",
        "  print(\"Ano atual maior que ano limite\")\n",
        "else:\n",
        "  idade = ano_atual - ano_nascimento\n",
        "  idade_projetada = idade + (2025-ano_atual)\n",
        "  print(\"Idade atual {}. Idade projetada {}\".format(idade, idade_projetada))"
      ],
      "metadata": {
        "id": "okISTffXN1r2"
      },
      "execution_count": null,
      "outputs": []
    },
    {
      "cell_type": "markdown",
      "source": [
        "# E2"
      ],
      "metadata": {
        "id": "j_o81wLUPaFF"
      }
    },
    {
      "cell_type": "code",
      "source": [
        "largura = float(input(\"Largura: \"))\n",
        "comprimento = float(input(\"Comprimento: \"))\n",
        "if largura <= 0 or comprimento <= 0:\n",
        "  print(\"Dimensões inválidas\")\n",
        "else:\n",
        "  area = largura * comprimento\n",
        "  potencia = area * 15\n",
        "  print(\"Área {}. Potência {}\".format(area, potencia))\n",
        "\n"
      ],
      "metadata": {
        "id": "RJj9Fx3NPbQz"
      },
      "execution_count": null,
      "outputs": []
    },
    {
      "cell_type": "markdown",
      "source": [
        "# E3"
      ],
      "metadata": {
        "id": "bSAqbCrXQSd5"
      }
    },
    {
      "cell_type": "code",
      "source": [
        "import math\n",
        "angulo = math.radians(float(input(\"Ângulo em graus: \")))\n",
        "if angulo < 0 or angulo > 360:\n",
        "  print(\"Ângulo inválido\")\n",
        "else:\n",
        "  seno = math.sin(angulo)\n",
        "  cosseno = math.cos(angulo)\n",
        "  tangente = math.tan(angulo)\n",
        "  print(\"Seno: {:.1f} cosseno: {:.1f} tangente: {:.1f} \".format(seno, cosseno, tangente))"
      ],
      "metadata": {
        "id": "uhLcCpS9QWXH"
      },
      "execution_count": null,
      "outputs": []
    }
  ]
}