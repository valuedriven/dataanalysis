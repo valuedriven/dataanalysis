{
  "nbformat": 4,
  "nbformat_minor": 0,
  "metadata": {
    "colab": {
      "provenance": [],
      "authorship_tag": "ABX9TyOLWaA1teB0tLaoC8edrYML",
      "include_colab_link": true
    },
    "kernelspec": {
      "name": "python3",
      "display_name": "Python 3"
    },
    "language_info": {
      "name": "python"
    }
  },
  "cells": [
    {
      "cell_type": "markdown",
      "metadata": {
        "id": "view-in-github",
        "colab_type": "text"
      },
      "source": [
        "<a href=\"https://colab.research.google.com/github/valuedriven/dataanalysis/blob/master/exercicios_string.ipynb\" target=\"_parent\"><img src=\"https://colab.research.google.com/assets/colab-badge.svg\" alt=\"Open In Colab\"/></a>"
      ]
    },
    {
      "cell_type": "markdown",
      "source": [
        "1. Escreva um programa para ler o arquivo texto 01.mol2 e criar uma lista na qual cada elemento se refere a um átomo da molécula. Cada elemento da lista conterá um dicionário contendo as seguintes informações:\n",
        "- Átomo em questão (2ª coluna)\n",
        "- Tupla contendo as coordenadas x, y e z do átomo (3ª, 4ª e 5ª colunas)\n",
        "- Tipo do átomo (6ª coluna)\n",
        "- Carga atômica parcial do átomo (9ª coluna)"
      ],
      "metadata": {
        "id": "6c7Jqk50GpWb"
      }
    },
    {
      "cell_type": "code",
      "execution_count": 18,
      "metadata": {
        "colab": {
          "base_uri": "https://localhost:8080/"
        },
        "id": "pAkbUSkzGoMS",
        "outputId": "7a39446c-3b73-420f-bb07-3c859149d969"
      },
      "outputs": [
        {
          "output_type": "stream",
          "name": "stdout",
          "text": [
            "Atoms [{'atom': 'S', 'coordinates': ('-0.8790', '-1.4290', '-0.0740'), 'type': 'S.3', 'charge': '-0.300200'}, {'atom': 'O', 'coordinates': ('-4.7320', '-1.2760', '-0.7270'), 'type': 'O.2', 'charge': '-0.611100'}, {'atom': 'N', 'coordinates': ('-3.6270', '-1.3330', '1.2540'), 'type': 'N.am', 'charge': '-0.665000'}, {'atom': 'H', 'coordinates': ('-4.4600', '-1.6170', '1.7450'), 'type': 'H', 'charge': '0.318500'}, {'atom': 'H1', 'coordinates': ('-2.7470', '-1.2830', '1.7440'), 'type': 'H', 'charge': '0.318500'}, {'atom': 'C', 'coordinates': ('0.3930', '-0.1980', '-0.6770'), 'type': 'C.3', 'charge': '0.122000'}, {'atom': 'H2', 'coordinates': ('0.3210', '-0.2180', '-1.7660'), 'type': 'H', 'charge': '0.081700'}, {'atom': 'C1', 'coordinates': ('1.7770', '-0.7110', '-0.3070'), 'type': 'C.ar', 'charge': '-0.081800'}, {'atom': 'C2', 'coordinates': ('2.8010', '-0.6220', '-1.2570'), 'type': 'C.ar', 'charge': '-0.116750'}, {'atom': 'H3', 'coordinates': ('2.5830', '-0.2200', '-2.2410'), 'type': 'H', 'charge': '0.138000'}, {'atom': 'C3', 'coordinates': ('4.0950', '-1.0400', '-0.9580'), 'type': 'C.ar', 'charge': '-0.127750'}, {'atom': 'H4', 'coordinates': ('4.8720', '-0.9630', '-1.7090'), 'type': 'H', 'charge': '0.135250'}, {'atom': 'C4', 'coordinates': ('4.3870', '-1.5610', '0.3010'), 'type': 'C.ar', 'charge': '-0.122000'}, {'atom': 'H5', 'coordinates': ('5.3920', '-1.8920', '0.5360'), 'type': 'H', 'charge': '0.134500'}, {'atom': 'C5', 'coordinates': ('3.3740', '-1.6630', '1.2530'), 'type': 'C.ar', 'charge': '-0.127750'}, {'atom': 'H6', 'coordinates': ('3.5880', '-2.0770', '2.2320'), 'type': 'H', 'charge': '0.135250'}, {'atom': 'C6', 'coordinates': ('2.0800', '-1.2420', '0.9520'), 'type': 'C.ar', 'charge': '-0.116750'}, {'atom': 'H7', 'coordinates': ('1.3020', '-1.3430', '1.6990'), 'type': 'H', 'charge': '0.138000'}, {'atom': 'C7', 'coordinates': ('0.1130', '1.2240', '-0.2220'), 'type': 'C.ar', 'charge': '-0.081800'}, {'atom': 'C8', 'coordinates': ('0.1740', '1.6050', '1.1240'), 'type': 'C.ar', 'charge': '-0.116750'}, {'atom': 'H8', 'coordinates': ('0.4200', '0.8700', '1.8810'), 'type': 'H', 'charge': '0.138000'}, {'atom': 'C9', 'coordinates': ('-0.0760', '2.9190', '1.5030'), 'type': 'C.ar', 'charge': '-0.127750'}, {'atom': 'H9', 'coordinates': ('-0.0200', '3.1960', '2.5500'), 'type': 'H', 'charge': '0.135250'}, {'atom': 'C10', 'coordinates': ('-0.3960', '3.8810', '0.5430'), 'type': 'C.ar', 'charge': '-0.122000'}, {'atom': 'H10', 'coordinates': ('-0.5910', '4.9050', '0.8400'), 'type': 'H', 'charge': '0.134500'}, {'atom': 'C11', 'coordinates': ('-0.4630', '3.5160', '-0.7980'), 'type': 'C.ar', 'charge': '-0.127750'}, {'atom': 'H11', 'coordinates': ('-0.7120', '4.2530', '-1.5530'), 'type': 'H', 'charge': '0.135250'}, {'atom': 'C12', 'coordinates': ('-0.2110', '2.1960', '-1.1750'), 'type': 'C.ar', 'charge': '-0.116750'}, {'atom': 'H12', 'coordinates': ('-0.2630', '1.9200', '-2.2230'), 'type': 'H', 'charge': '0.138000'}, {'atom': 'C13', 'coordinates': ('-2.4120', '-0.7070', '-0.7870'), 'type': 'C.3', 'charge': '-0.108300'}, {'atom': 'H13', 'coordinates': ('-2.3530', '0.3820', '-0.6990'), 'type': 'H', 'charge': '0.098700'}, {'atom': 'H14', 'coordinates': ('-2.5090', '-0.9720', '-1.8390'), 'type': 'H', 'charge': '0.098700'}, {'atom': 'C14', 'coordinates': ('-3.7000', '-1.1520', '-0.0920'), 'type': 'C.2', 'charge': '0.673100'}]\n"
          ]
        }
      ],
      "source": [
        "import os\n",
        "\n",
        "def create_list_atoms(file_name):\n",
        "  with open(file_name, 'r') as file:\n",
        "    lines = file.readlines()\n",
        "    position = 0\n",
        "    while not lines[position].startswith(\"@<TRIPOS>ATOM\"):\n",
        "      position += 1\n",
        "    position += 1\n",
        "    atoms = []\n",
        "    while not lines[position].startswith(\"@<TRIPOS>BOND\"):\n",
        "      line = lines[position].split()\n",
        "      item = { \"atom\": line[1], \"coordinates\": (line[2], line[3], line[4]), \"type\": line[5], \"charge\": line[8] }\n",
        "      atoms.append(item)\n",
        "      position += 1\n",
        "    return atoms\n",
        "        \n",
        "file = \"01.mol2\"\n",
        "atoms = create_list_atoms(file)\n",
        "print(\"Atoms {}\".format(atoms))"
      ]
    },
    {
      "cell_type": "markdown",
      "source": [
        "2. Escreva um programa que lê o arquivo 01.mol2 e monta uma lista com as ligações existentes na molécula (2ª e 3ª colunas da seção BOND. Cada elemento da lista será uma tupla contendo o par de átomos que forma a ligação. Depois que montar a lista seu programa deve percorrê-la e imprimir quais átomos formam a ligação com base nas informações coletadas na questão 1."
      ],
      "metadata": {
        "id": "3n-YZL1YHLs_"
      }
    },
    {
      "cell_type": "code",
      "source": [],
      "metadata": {
        "id": "jEvpATfVHO17"
      },
      "execution_count": null,
      "outputs": []
    }
  ]
}