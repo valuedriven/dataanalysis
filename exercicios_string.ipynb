{
  "nbformat": 4,
  "nbformat_minor": 0,
  "metadata": {
    "colab": {
      "provenance": [],
      "authorship_tag": "ABX9TyOQZPmKtkXTg8O4ojxOoEF2",
      "include_colab_link": true
    },
    "kernelspec": {
      "name": "python3",
      "display_name": "Python 3"
    },
    "language_info": {
      "name": "python"
    }
  },
  "cells": [
    {
      "cell_type": "markdown",
      "metadata": {
        "id": "view-in-github",
        "colab_type": "text"
      },
      "source": [
        "<a href=\"https://colab.research.google.com/github/valuedriven/dataanalysis/blob/master/exercicios_string.ipynb\" target=\"_parent\"><img src=\"https://colab.research.google.com/assets/colab-badge.svg\" alt=\"Open In Colab\"/></a>"
      ]
    },
    {
      "cell_type": "markdown",
      "source": [
        "1. Escreva um programa para ler o arquivo texto 01.mol2 e criar uma lista na qual cada elemento se refere a um átomo da molécula. Cada elemento da lista conterá um dicionário contendo as seguintes informações:\n",
        "- Átomo em questão (2ª coluna)\n",
        "- Tupla contendo as coordenadas x, y e z do átomo (3ª, 4ª e 5ª colunas)\n",
        "- Tipo do átomo (6ª coluna)\n",
        "- Carga atômica parcial do átomo (9ª coluna)"
      ],
      "metadata": {
        "id": "6c7Jqk50GpWb"
      }
    },
    {
      "cell_type": "code",
      "execution_count": null,
      "metadata": {
        "id": "pAkbUSkzGoMS"
      },
      "outputs": [],
      "source": []
    },
    {
      "cell_type": "markdown",
      "source": [
        "2. Escreva um programa que lê o arquivo 01.mol2 e monta uma lista com as ligações existentes na molécula (2ª e 3ª colunas da seção BOND. Cada elemento da lista será uma tupla contendo o par de átomos que forma a ligação. Depois que montar a lista seu programa deve percorrê-la e imprimir quais átomos formam a ligação com base nas informações coletadas na questão 1."
      ],
      "metadata": {
        "id": "3n-YZL1YHLs_"
      }
    },
    {
      "cell_type": "code",
      "source": [],
      "metadata": {
        "id": "jEvpATfVHO17"
      },
      "execution_count": null,
      "outputs": []
    }
  ]
}